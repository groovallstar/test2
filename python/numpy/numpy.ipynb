{
  "nbformat": 4,
  "nbformat_minor": 0,
  "metadata": {
    "colab": {
      "name": "numpy.ipynb",
      "provenance": [],
      "collapsed_sections": []
    },
    "kernelspec": {
      "name": "python3",
      "display_name": "Python 3"
    }
  },
  "cells": [
    {
      "cell_type": "code",
      "execution_count": 1,
      "metadata": {},
      "outputs": [],
      "source": [
        "import numpy as np"
      ]
    },
    {
      "cell_type": "code",
      "execution_count": 4,
      "metadata": {},
      "outputs": [
        {
          "name": "stdout",
          "output_type": "stream",
          "text": "list1: [1, 2, 3]\nlist1 type: <class 'list'>\narray1: [1 2 3]\narray1 type: <class 'numpy.ndarray'>\n"
        }
      ],
      "source": [
        "list1 = [1, 2, 3]\n",
        "print('list1:', list1)\n",
        "print('list1 type:', type(list1))\n",
        "\n",
        "array1 = np.array(list1)\n",
        "print('array1:', array1)\n",
        "print('array1 type:', type(array1))"
      ]
    },
    {
      "cell_type": "code",
      "execution_count": 5,
      "metadata": {},
      "outputs": [
        {
          "name": "stdout",
          "output_type": "stream",
          "text": "array1 type: <class 'numpy.ndarray'>\narray1 array shape: (3,)\narray2 type: <class 'numpy.ndarray'>\narray2 array shape: (2, 3)\narray3 type: <class 'numpy.ndarray'>\narray3 array shape: (1, 3)\narray1:1차원, array2:2차원, arr3: 2차원\n"
        }
      ],
      "source": [
        "arrray1 = np.array([1,2,3])\n",
        "print('array1 type:', type(array1))\n",
        "print('array1 array shape:', array1.shape)\n",
        "\n",
        "array2 = np.array([[1,2,3],\n",
        "                  [2,3,4]])\n",
        "print('array2 type:',type(array2))\n",
        "print('array2 array shape:', array2.shape)\n",
        "\n",
        "array3 = np.array([[1,2,3]])\n",
        "print('array3 type:', type(array3))\n",
        "print('array3 array shape:', array3.shape)\n",
        "\n",
        "print('array1:{:0}차원, array2:{:1}차원, arr3:{:2}차원'.format(array1.ndim, array2.ndim, array3.ndim))"
      ]
    },
    {
      "cell_type": "code",
      "execution_count": 6,
      "metadata": {},
      "outputs": [
        {
          "name": "stdout",
          "output_type": "stream",
          "text": "<class 'list'>\n<class 'numpy.ndarray'>\n[1 2 3] int32\n['1' '2' 'test'] <U11\n[1. 2. 3.] float64\n"
        }
      ],
      "source": [
        "list1 = [1, 2, 3]\n",
        "print(type(list1))\n",
        "array1 = np.array(list1)\n",
        "\n",
        "print(type(array1))\n",
        "print(array1, array1.dtype)\n",
        "\n",
        "list2 = [1, 2, 'test']\n",
        "array2 = np.array(list2) # 정수가 문자열로 변경됨\n",
        "print(array2, array2.dtype)\n",
        "\n",
        "list3 = [1, 2, 3.0]\n",
        "array3 = np.array(list3) # 정수가 실수로 변경됨\n",
        "print(array3, array3.dtype)"
      ]
    },
    {
      "cell_type": "markdown",
      "execution_count": null,
      "metadata": {
        "colab_type": "text",
        "id": "e1wi3O23Kpyv"
      },
      "outputs": [],
      "source": [
        "- astype() 을 통한 타입 변환"
      ]
    },
    {
      "cell_type": "code",
      "execution_count": 2,
      "metadata": {},
      "outputs": [
        {
          "name": "stdout",
          "output_type": "stream",
          "text": "[1. 2. 3.] float64\n[1 2 3] int32\n[1 2 3] int32\n"
        }
      ],
      "source": [
        "array_int = np.array([1,2,3])\n",
        "array_float = array_int.astype('float64')\n",
        "print(array_float, array_float.dtype)\n",
        "\n",
        "array_int1 = array_float.astype('int32')\n",
        "print(array_int1, array_int1.dtype)\n",
        "\n",
        "array_float1 = np.array([1.1, 2.1, 3.1])\n",
        "array_int2 = array_float1.astype('int32')\n",
        "print(array_int2, array_int2.dtype)"
      ]
    },
    {
      "cell_type": "code",
      "execution_count": 8,
      "metadata": {},
      "outputs": [
        {
          "name": "stdout",
          "output_type": "stream",
          "text": "15\n[3 5 7]\n[6 9]\n"
        }
      ],
      "source": [
        "# ndarray에서 axis 기반 연산함수\n",
        "# axis = 0 (행 방향축), axis = 1 (열 방향축)\n",
        "\n",
        "array2 = np.array([[1,2,3],\n",
        "                   [2,3,4]])\n",
        "print(array2.sum())\n",
        "print(array2.sum(axis=0)) # 행방향\n",
        "print(array2.sum(axis=1)) # 열방향"
      ]
    },
    {
      "cell_type": "code",
      "execution_count": 9,
      "metadata": {},
      "outputs": [
        {
          "name": "stdout",
          "output_type": "stream",
          "text": "[0 1 2 3 4 5 6 7 8 9]\nint32 (10,)\n[[0 0]\n [0 0]\n [0 0]]\nint32 (3, 2)\n[[1. 1.]\n [1. 1.]\n [1. 1.]]\nfloat64 (3, 2)\narray1:\n [0 1 2 3 4 5 6 7 8 9]\narray2:\n [[0 1 2 3 4]\n [5 6 7 8 9]]\narray3:\n [[0 1]\n [2 3]\n [4 5]\n [6 7]\n [8 9]]\n"
        },
        {
          "ename": "ValueError",
          "evalue": "cannot reshape array of size 10 into shape (4,3)",
          "output_type": "error",
          "traceback": [
            "\u001b[1;31m---------------------------------------------------------------------------\u001b[0m",
            "\u001b[1;31mValueError\u001b[0m                                Traceback (most recent call last)",
            "\u001b[1;32m<ipython-input-9-2108028ec01d>\u001b[0m in \u001b[0;36m<module>\u001b[1;34m()\u001b[0m\n\u001b[0;32m     21\u001b[0m \u001b[1;33m\u001b[0m\u001b[0m\n\u001b[0;32m     22\u001b[0m \u001b[1;31m# 변환할 수 없는 shape 구조를 입력하면 오류.\u001b[0m\u001b[1;33m\u001b[0m\u001b[1;33m\u001b[0m\u001b[0m\n\u001b[1;32m---> 23\u001b[1;33m \u001b[0marray1\u001b[0m\u001b[1;33m.\u001b[0m\u001b[0mreshape\u001b[0m\u001b[1;33m(\u001b[0m\u001b[1;36m4\u001b[0m\u001b[1;33m,\u001b[0m\u001b[1;36m3\u001b[0m\u001b[1;33m)\u001b[0m\u001b[1;33m\u001b[0m\u001b[0m\n\u001b[0m",
            "\u001b[1;31mValueError\u001b[0m: cannot reshape array of size 10 into shape (4,3)"
          ]
        }
      ],
      "source": [
        "sequence_array = np.arange(10)\n",
        "print(sequence_array)\n",
        "print(sequence_array.dtype, sequence_array.shape)\n",
        "\n",
        "zero_array = np.zeros((3,2), dtype='int32')\n",
        "print(zero_array)\n",
        "print(zero_array.dtype, zero_array.shape)\n",
        "\n",
        "one_array = np.ones((3,2))\n",
        "print(one_array)\n",
        "print(one_array.dtype, one_array.shape)\n",
        "\n",
        "array1 = np.arange(10)\n",
        "print('array1:\\n', array1)\n",
        "\n",
        "array2 = array1.reshape(2,5)\n",
        "print('array2:\\n', array2)\n",
        "\n",
        "array3 = array1.reshape(5,2)\n",
        "print('array3:\\n', array3)\n",
        "\n",
        "# 변환할 수 없는 shape 구조를 입력하면 오류.\n",
        "array1.reshape(4,3)"
      ]
    },
    {
      "cell_type": "code",
      "execution_count": 10,
      "metadata": {},
      "outputs": [
        {
          "name": "stdout",
          "output_type": "stream",
          "text": "[0 1 2 3 4 5 6 7 8 9]\narray2 shape: (2, 5)\narray2:\n [[0 1 2 3 4]\n [5 6 7 8 9]]\narray3 shape: (5, 2)\narray3:\n [[0 1]\n [2 3]\n [4 5]\n [6 7]\n [8 9]]\n"
        }
      ],
      "source": [
        "array1 = np.arange(10)\n",
        "print(array1)\n",
        "\n",
        "# column axis 크기는 5에 고정하고, row axis 크기를 이에 맞춰 자동 변환 (2x5)\n",
        "array2 = array1.reshape(-1, 5)\n",
        "print('array2 shape:', array2.shape)\n",
        "print('array2:\\n', array2)\n",
        "\n",
        "# column axis 크기는 자동 변환, row axis 크기는 5에 고정 (5x2)\n",
        "array3 = array1.reshape(5, -1)\n",
        "print('array3 shape:', array3.shape)\n",
        "print('array3:\\n', array3)"
      ]
    },
    {
      "cell_type": "code",
      "execution_count": 11,
      "metadata": {},
      "outputs": [
        {
          "name": "stdout",
          "output_type": "stream",
          "text": "array2d_1 shape: (5, 1)\narray2d_1:\n [[0]\n [1]\n [2]\n [3]\n [4]]\narray1d shape: (5,)\narray1d:\n [0 1 2 3 4]\n"
        },
        {
          "ename": "ValueError",
          "evalue": "cannot reshape array of size 10 into shape (4)",
          "output_type": "error",
          "traceback": [
            "\u001b[1;31m---------------------------------------------------------------------------\u001b[0m",
            "\u001b[1;31mValueError\u001b[0m                                Traceback (most recent call last)",
            "\u001b[1;32m<ipython-input-11-b6334b4e208b>\u001b[0m in \u001b[0;36m<module>\u001b[1;34m()\u001b[0m\n\u001b[0;32m     13\u001b[0m \u001b[1;31m# 변환 불가능한 형태로 변경 시 오류.\u001b[0m\u001b[1;33m\u001b[0m\u001b[1;33m\u001b[0m\u001b[0m\n\u001b[0;32m     14\u001b[0m \u001b[0marray1\u001b[0m \u001b[1;33m=\u001b[0m \u001b[0mnp\u001b[0m\u001b[1;33m.\u001b[0m\u001b[0marange\u001b[0m\u001b[1;33m(\u001b[0m\u001b[1;36m10\u001b[0m\u001b[1;33m)\u001b[0m\u001b[1;33m\u001b[0m\u001b[0m\n\u001b[1;32m---> 15\u001b[1;33m \u001b[0marray4\u001b[0m \u001b[1;33m=\u001b[0m \u001b[0marray1\u001b[0m\u001b[1;33m.\u001b[0m\u001b[0mreshape\u001b[0m\u001b[1;33m(\u001b[0m\u001b[1;33m-\u001b[0m\u001b[1;36m1\u001b[0m\u001b[1;33m,\u001b[0m \u001b[1;36m4\u001b[0m\u001b[1;33m)\u001b[0m\u001b[1;33m\u001b[0m\u001b[0m\n\u001b[0m\u001b[0;32m     16\u001b[0m \u001b[1;33m\u001b[0m\u001b[0m\n\u001b[0;32m     17\u001b[0m \u001b[1;31m# -1값은 1개 인자에만 입력 가능.\u001b[0m\u001b[1;33m\u001b[0m\u001b[1;33m\u001b[0m\u001b[0m\n",
            "\u001b[1;31mValueError\u001b[0m: cannot reshape array of size 10 into shape (4)"
          ]
        }
      ],
      "source": [
        "array1 = np.arange(5)\n",
        "\n",
        "# 1차원 ndarray를 2차원으로 변환, column axis = 1\n",
        "array2d_1 = array1.reshape(-1, 1)\n",
        "print('array2d_1 shape:', array2d_1.shape)\n",
        "print('array2d_1:\\n', array2d_1)\n",
        "\n",
        "# 2차원 ndarray를 1차원으로 변환.\n",
        "array1d = array2d_1.reshape(-1,)\n",
        "print('array1d shape:', array1d.shape)\n",
        "print('array1d:\\n', array1d)\n",
        "\n",
        "# 변환 불가능한 형태로 변경 시 오류.\n",
        "array1 = np.arange(10)  \n",
        "array4 = array1.reshape(-1, 4)\n",
        "\n",
        "# -1값은 1개 인자에만 입력 가능.\n",
        "array1.reshape(-1,-1)"
      ]
    },
    {
      "cell_type": "code",
      "execution_count": 12,
      "metadata": {},
      "outputs": [
        {
          "name": "stdout",
          "output_type": "stream",
          "text": "array1: [1 2 3 4 5 6 7 8 9]\nvalue: 3\n<class 'numpy.int32'>\n맨 뒤의 값: 9 , 맨 뒤에서 두번째 값: 8\narray1: [9 2 3 4 5 6 7 8 0]\n[[1 2 3]\n [4 5 6]\n [7 8 9]]\n(row=0,cal=0) index: 1\n(row=0,cal=1) index: 2\n(row=1,cal=0) index: 4\n(row=2,cal=2) index: 9\n"
        }
      ],
      "source": [
        "array1 = np.arange(start=1, stop=10)\n",
        "print('array1:', array1)\n",
        "\n",
        "value = array1[2]\n",
        "print('value:', value)\n",
        "print(type(value))\n",
        "\n",
        "print('맨 뒤의 값:', array1[-1], ', 맨 뒤에서 두번째 값:', array1[-2])\n",
        "\n",
        "array1[0] = 9\n",
        "array1[8] = 0\n",
        "print('array1:',array1)\n",
        "\n",
        "array1d = np.arange(start=1, stop=10)\n",
        "array2d = array1d.reshape(3,3)\n",
        "print(array2d)\n",
        "\n",
        "print('(row=0,cal=0) index:', array2d[0,0])\n",
        "print('(row=0,cal=1) index:', array2d[0,1])\n",
        "print('(row=1,cal=0) index:', array2d[1,0])\n",
        "print('(row=2,cal=2) index:', array2d[2,2])"
      ]
    },
    {
      "cell_type": "code",
      "execution_count": 13,
      "metadata": {},
      "outputs": [
        {
          "name": "stdout",
          "output_type": "stream",
          "text": "[1 2 3 4 5 6 7 8 9]\n[1 2 3]\n<class 'numpy.ndarray'>\narray4\n[4 5 6 7 8 9]\n[1 2 3 4 5 6 7 8 9]\narrary2d:\n [[1 2 3]\n [4 5 6]\n [7 8 9]]\narray2d[0:2, 0:2] \n [[1 2]\n [4 5]]\narray2d[1:3, 0:3] \n [[4 5 6]\n [7 8 9]]\narray2d[1:3, :] \n [[4 5 6]\n [7 8 9]]\narray2d[:, :] \n [[1 2 3]\n [4 5 6]\n [7 8 9]]\narray2d[:2, 1:] \n [[2 3]\n [5 6]]\narray2d[:2, 0] \n [1 4]\n"
        }
      ],
      "source": [
        "# slicing\n",
        "array1 = np.arange(start=1, stop=10)\n",
        "print(array1)\n",
        "array3 = array1[0:3]\n",
        "print(array3)\n",
        "print(type(array3))\n",
        "\n",
        "array4 = array1[:3]\n",
        "print('array4')\n",
        "\n",
        "array5 = array1[3:]\n",
        "print(array5)\n",
        "\n",
        "array6 = array1[:]\n",
        "print(array6)\n",
        "\n",
        "array1d = np.arange(start=1, stop=10)\n",
        "array2d = array1d.reshape(3,3)\n",
        "print('arrary2d:\\n', array2d)\n",
        "\n",
        "print('array2d[0:2, 0:2] \\n', array2d[0:2, 0:2])\n",
        "print('array2d[1:3, 0:3] \\n', array2d[1:3, 0:3])\n",
        "print('array2d[1:3, :] \\n', array2d[1:3, :])\n",
        "print('array2d[:, :] \\n', array2d[:, :])\n",
        "print('array2d[:2, 1:] \\n', array2d[:2, 1:])\n",
        "print('array2d[:2, 0] \\n', array2d[:2, 0])"
      ]
    },
    {
      "cell_type": "code",
      "execution_count": 14,
      "metadata": {},
      "outputs": [
        {
          "name": "stdout",
          "output_type": "stream",
          "text": "[1 2 3 4 5 6 7 8 9]\n[False False False False False  True  True  True  True]\nvar1: [False False False False False  True  True  True  True]\n<class 'numpy.ndarray'>\n[1 2 3 4 5 6 7 8 9]\narray1d >5 boolean indexing result: [6 7 8 9]\n<class 'numpy.ndarray'>\nboolean indexing result: [5 6 7 8]\n[6 7 8 9]\n[6 7 8 9]\n"
        }
      ],
      "source": [
        "# boolean indexing\n",
        "array1d = np.arange(start=1, stop=10)\n",
        "print(array1d)\n",
        "\n",
        "print(array1d > 5)\n",
        "\n",
        "var1 = array1d > 5\n",
        "print('var1:', var1)\n",
        "print(type(var1))\n",
        "\n",
        "# [] 안에 array1d > 5 boolean indexing 적용.\n",
        "print(array1d)\n",
        "array3 = array1d[array1d > 5]\n",
        "print('array1d >5 boolean indexing result:', array3)\n",
        "print(type(array3))\n",
        "\n",
        "boolean_indexes = np.array([False, False, False, False, True, True, True, True, False])\n",
        "array3 = array1d[boolean_indexes]\n",
        "print('boolean indexing result:', array3)\n",
        "\n",
        "array1d = np.arange(start=1, stop=10)\n",
        "target=[]\n",
        "\n",
        "for i in range(0, 9):\n",
        "  if array1d[i] > 5:\n",
        "    target.append(array1d[i])\n",
        "array_selected = np.array(target)\n",
        "print(array_selected)\n",
        "\n",
        "print(array1d[array1 > 5])"
      ]
    },
    {
      "cell_type": "code",
      "execution_count": 15,
      "metadata": {},
      "outputs": [
        {
          "name": "stdout",
          "output_type": "stream",
          "text": "origin matrix: [3 1 9 5]\nnp.sort() 호출 후 반환: [1 3 5 9]\nnp.sort() 호출 후 원본: [3 1 9 5]\norg_array.sort() 호출 후 반환: None\norg_array.sort() 호출 후 원본: [1 3 5 9]\n내림차순: [9 5 3 1]\nrow sort:\n [[ 7  1]\n [ 8 12]]\ncolumn sort:\n [[ 8 12]\n [ 1  7]]\n[3 1 9 5]\n<class 'numpy.ndarray'>\n행렬 정렬 시 원본 행렬의 index: [1 0 3 2]\n[9 5 3 1]\n행렬 내림차순 정렬 시 원본 행렬의 인덱스: [2 3 0 1]\nsort indices: [0 2 4 1 3]\n['john' 'sarah' 'samuel' 'mike' 'kate']\n[78 84 88 95 98]\n"
        }
      ],
      "source": [
        "# sort(), argsort()\n",
        "\n",
        "org_array = np.array([3,1,9,5])\n",
        "print('origin matrix:', org_array)\n",
        "\n",
        "#np.sort()\n",
        "sort_array1 = np.sort(org_array)\n",
        "print('np.sort() 호출 후 반환:', sort_array1)\n",
        "print('np.sort() 호출 후 원본:', org_array)\n",
        "\n",
        "#ndarray.sort() \n",
        "sort_array2 = org_array.sort()\n",
        "org_array.sort()\n",
        "print('org_array.sort() 호출 후 반환:', sort_array2)\n",
        "print('org_array.sort() 호출 후 원본:', org_array)\n",
        "\n",
        "sort_array1_desc = np.sort(org_array)[::-1]\n",
        "print('내림차순:', sort_array1_desc)\n",
        "\n",
        "array2d = np.array([[8, 12], \n",
        "                   [7, 1]])\n",
        "sort_array2d_axis0 = np.sort(array2d, axis=0)\n",
        "print('row sort:\\n', sort_array2d_axis0)\n",
        "\n",
        "sort_array2d_axis1 = np.sort(array2d, axis=1)\n",
        "print('column sort:\\n', sort_array2d_axis1)\n",
        "\n",
        "org_array = np.array([3,1,9,5])\n",
        "print(np.array(org_array))\n",
        "\n",
        "sort_indices = np.argsort(org_array)\n",
        "print(type(sort_indices))\n",
        "print('행렬 정렬 시 원본 행렬의 index:', sort_indices)\n",
        "\n",
        "org_array = np.array([3,1,9,5])\n",
        "print(np.sort(org_array)[::-1])\n",
        "\n",
        "sort_indices_desc = np.argsort(org_array)[::-1]\n",
        "print('행렬 내림차순 정렬 시 원본 행렬의 인덱스:', sort_indices_desc)\n",
        "\n",
        "name_array = np.array(['john', 'mike', 'sarah', 'kate', 'samuel'])\n",
        "score_array = np.array([78,95,84,98,88])\n",
        "\n",
        "#score_array의 정렬된 값에 해당하는 원본 행렬 위치 인덱스 반환\n",
        "sort_indices = np.argsort(score_array)\n",
        "print('sort indices:', sort_indices)\n",
        "\n",
        "name_array_sort = name_array[sort_indices]\n",
        "\n",
        "score_array_sort = score_array[sort_indices]\n",
        "print(name_array_sort)\n",
        "print(score_array_sort)"
      ]
    },
    {
      "cell_type": "code",
      "execution_count": 16,
      "metadata": {},
      "outputs": [
        {
          "name": "stdout",
          "output_type": "stream",
          "text": "행렬 내적 결과:\n [[ 58  64]\n [139 154]]\na의 전치 행렬:\n [[1 3]\n [2 4]]\n"
        }
      ],
      "source": [
        "# 행렬 내적\n",
        "a = np.array([[1,2,3],\n",
        "              [4,5,6]])\n",
        "b = np.array([[7,8],\n",
        "              [9,10],\n",
        "              [11,12]])\n",
        "dot_product = np.dot(a, b)\n",
        "print('행렬 내적 결과:\\n', dot_product)\n",
        "\n",
        "a = np.array([[1,2],\n",
        "              [3,4]])\n",
        "transpose_mat = np.transpose(a)\n",
        "print('a의 전치 행렬:\\n', transpose_mat)"
      ]
    }
  ]
}