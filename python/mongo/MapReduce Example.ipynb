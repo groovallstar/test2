{
 "cells": [
  {
   "cell_type": "code",
   "execution_count": 160,
   "metadata": {},
   "outputs": [],
   "source": [
    "import pymongo\n",
    "import pprint"
   ]
  },
  {
   "cell_type": "code",
   "execution_count": 2,
   "metadata": {},
   "outputs": [],
   "source": [
    "conn = pymongo.MongoClient('mongodb:')\n",
    "db = conn.get_database('documents')"
   ]
  },
  {
   "cell_type": "markdown",
   "metadata": {},
   "source": [
    "예제 데이터 삽입"
   ]
  },
  {
   "cell_type": "code",
   "execution_count": null,
   "metadata": {},
   "outputs": [],
   "source": [
    "db.things.insert_one({\"x\":1, \"tags\":[\"dog\", \"cat\"]})\n",
    "db.things.insert_one({\"x\":2, \"tags\":[\"cat\"]})\n",
    "db.things.insert_one({\"x\":3, \"tags\":[\"mouse\", \"cat\", \"dog\"]})\n",
    "db.things.insert_one({\"x\":4, \"tags\":[]})\n",
    "db.things.insert_one({\"x\":5, \"tags\":[\"a\", \"b\"]})"
   ]
  },
  {
   "cell_type": "markdown",
   "metadata": {},
   "source": [
    "이제 map과 reduce 함수를 정의합니다. 이 경우 MongoDB Map/Reduce document에서와 동일한 작업을 수행합니다. 전체 컬렉션에서 태그 배열의 각 태그에 대한 발생 수를 count합니다.\n",
    "\n",
    "map 함수는 배열의 각 태그에 대해 single(key, 1) 쌍을 내보냅니다."
   ]
  },
  {
   "cell_type": "code",
   "execution_count": null,
   "metadata": {},
   "outputs": [],
   "source": [
    "from bson.code import Code\n",
    "map = Code(\"\"\"\n",
    "            function () {\n",
    "                var self = this;\n",
    "                self.tags.forEach(function(z) {\n",
    "                    emit(z, 1);});\n",
    "                }\"\"\" )"
   ]
  },
  {
   "cell_type": "markdown",
   "metadata": {},
   "source": [
    "reduce 함수는 주어진 키에 대해 모든 내보낸 값에 대해 합계를 구합니다."
   ]
  },
  {
   "cell_type": "code",
   "execution_count": null,
   "metadata": {},
   "outputs": [],
   "source": [
    "reduce = Code(\"\"\"\n",
    "            function (key, values) {\n",
    "                var total = 0;\n",
    "                for (var i = 0; i < values.length; i++) {\n",
    "                    total += values[i];}\n",
    "                return total;\n",
    "            } \"\"\")"
   ]
  },
  {
   "cell_type": "markdown",
   "metadata": {},
   "source": [
    "map_reduce()함수를 호출하고 결과 collection을 출력합니다."
   ]
  },
  {
   "cell_type": "code",
   "execution_count": null,
   "metadata": {
    "scrolled": false
   },
   "outputs": [],
   "source": [
    "result = db.things.map_reduce(map, reduce, out={merge:\"things\"})\n",
    "for doc in result.find():\n",
    "    print(doc)"
   ]
  },
  {
   "cell_type": "code",
   "execution_count": null,
   "metadata": {},
   "outputs": [],
   "source": [
    "from bson.son import SON\n",
    "db.things.map_reduce(map, reduce, out=SON([(\"replace\", \"results\"), (\"db\", \"outdb\")]), full_response=True)"
   ]
  },
  {
   "cell_type": "code",
   "execution_count": null,
   "metadata": {},
   "outputs": [],
   "source": [
    "reduce(lambda all_keys, rec_keys: all_keys | set(rec_keys), map(lambda d: d.keys(), db.things.find()), set() )"
   ]
  },
  {
   "cell_type": "code",
   "execution_count": null,
   "metadata": {},
   "outputs": [],
   "source": [
    "table = []\n",
    "cursor = db['things'].find({})\n",
    "for document in cursor:\n",
    "    table.extend(list(set(document.keys())))"
   ]
  },
  {
   "cell_type": "code",
   "execution_count": null,
   "metadata": {
    "scrolled": true
   },
   "outputs": [],
   "source": [
    "table"
   ]
  },
  {
   "cell_type": "code",
   "execution_count": null,
   "metadata": {},
   "outputs": [],
   "source": [
    "import pprint\n",
    "cursor = db.temp.aggregate([\n",
    "  {\"$project\":{\"o\":{\"$objectToArray\":\"$$ROOT\"}}},\n",
    "  {\"$unwind\":\"$o\"},\n",
    "  {\"$group\":{\"_id\":0, \"keys\":{\"$addToSet\":\"$o.k\"}}}\n",
    "])\n",
    "\n",
    "for data in cursor:\n",
    "    pprint.pprint(data)"
   ]
  },
  {
   "cell_type": "code",
   "execution_count": 189,
   "metadata": {
    "scrolled": true
   },
   "outputs": [],
   "source": [
    "import pprint\n",
    "cursor = db['things'].aggregate([\n",
    "  {\n",
    "      \"$project\": # document pipeline을 reshape함\n",
    "      {\n",
    "          \"o\":\n",
    "          {\n",
    "              \"$objectToArray\":\"$$ROOT\"\n",
    "          }\n",
    "      }\n",
    "  },\n",
    "  {\n",
    "      \"$unwind\":\"$o\" # array를 flat으로 만들어줌\n",
    "  },\n",
    "  {\n",
    "      \"$group\":\n",
    "      {\n",
    "          \"_id\":0,\n",
    "          \"keys\":\n",
    "          {\n",
    "              \"$addToSet\":\"$o.k\"\n",
    "          }\n",
    "      }\n",
    "  }])\n",
    "\n",
    "temp = list(cursor)\n",
    "for data in cursor:\n",
    "    pprint.pprint(data)"
   ]
  },
  {
   "cell_type": "code",
   "execution_count": 60,
   "metadata": {},
   "outputs": [],
   "source": [
    "import pymongo"
   ]
  },
  {
   "cell_type": "code",
   "execution_count": 65,
   "metadata": {},
   "outputs": [
    {
     "data": {
      "text/plain": [
       "<pymongo.results.UpdateResult at 0x7f6f7a410700>"
      ]
     },
     "execution_count": 65,
     "metadata": {},
     "output_type": "execute_result"
    }
   ],
   "source": [
    "# 1개 업데이트\n",
    "db['things'].update_one(\n",
    "    {\"item\" : \"jkl\"},\n",
    "    {\"$set\": {\"price\":0}}\n",
    ")"
   ]
  },
  {
   "cell_type": "code",
   "execution_count": 69,
   "metadata": {},
   "outputs": [
    {
     "data": {
      "text/plain": [
       "<pymongo.results.UpdateResult at 0x7f6f7a4101c0>"
      ]
     },
     "execution_count": 69,
     "metadata": {},
     "output_type": "execute_result"
    }
   ],
   "source": [
    "# 다중 업데이트\n",
    "db['things'].update_many(\n",
    "    {\"price\" : {\"$gte\":5}}, # price가 5보다 같거나 크면\n",
    "    {\"$set\" : {\"quantity\": \"15\"}}\n",
    ")"
   ]
  },
  {
   "cell_type": "code",
   "execution_count": 72,
   "metadata": {},
   "outputs": [
    {
     "data": {
      "text/plain": [
       "<pymongo.results.UpdateResult at 0x7f6f7a410fc0>"
      ]
     },
     "execution_count": 72,
     "metadata": {},
     "output_type": "execute_result"
    }
   ],
   "source": [
    "db['things'].update_one(\n",
    "    {\"item\":\"jkl\"},\n",
    "    {\"$unset\": {\"item\":1}} # 필드 삭제\n",
    ")"
   ]
  },
  {
   "cell_type": "code",
   "execution_count": 93,
   "metadata": {},
   "outputs": [
    {
     "data": {
      "text/plain": [
       "<pymongo.results.UpdateResult at 0x7f6f78b942c0>"
      ]
     },
     "execution_count": 93,
     "metadata": {},
     "output_type": "execute_result"
    }
   ],
   "source": [
    "db['things'].update_one(\n",
    "    {\"item\":\"efg\"},\n",
    "    {\"$set\":{\n",
    "        \"favorite\":{\n",
    "            \"cities\" : [\"Chicago\", \"Cheyenne\"],\n",
    "            \"movies\" : [\"Casablanca\", \"For a Few Daller\", \"The Sting\"]\n",
    "        }\n",
    "    }}\n",
    ")"
   ]
  },
  {
   "cell_type": "code",
   "execution_count": 92,
   "metadata": {
    "scrolled": false
   },
   "outputs": [
    {
     "data": {
      "text/plain": [
       "<pymongo.results.UpdateResult at 0x7f6f7a412f00>"
      ]
     },
     "execution_count": 92,
     "metadata": {},
     "output_type": "execute_result"
    }
   ],
   "source": [
    "db['things'].update_one(\n",
    "    {\"favorite.cities\":\"Chicago\"},\n",
    "    # 배열에 2개 값이 있을 경우 하나로 변경됨\n",
    "    {\"$set\":{\"favorite.cities\":\"Chicago1\"}}\n",
    ")"
   ]
  },
  {
   "cell_type": "code",
   "execution_count": 123,
   "metadata": {
    "scrolled": false
   },
   "outputs": [
    {
     "data": {
      "text/plain": [
       "<pymongo.results.UpdateResult at 0x7f6f7a4d1e40>"
      ]
     },
     "execution_count": 123,
     "metadata": {},
     "output_type": "execute_result"
    }
   ],
   "source": [
    "db['things'].update_one(\n",
    "    {\"favorite.cities\":\"Chicago\"},\n",
    "     {\"$addToSet\":{\"favorite.cities\": \"Chicago3\"}}, # 배열에 없으면 추가함\n",
    "    False, # upsert 옵션 : 찾는게 있으면 추가, 없으면 삽입\n",
    "    True, # 다중 업데이트\n",
    ")"
   ]
  },
  {
   "cell_type": "code",
   "execution_count": null,
   "metadata": {},
   "outputs": [],
   "source": [
    "# 조건에 맞는 전체 업데이트\n",
    "db['table'].update_many(\n",
    "    {\"start_date\": None},\n",
    "     {\"$set\":{\"start_date\": \"123\"}}\n",
    ")"
   ]
  },
  {
   "cell_type": "code",
   "execution_count": 125,
   "metadata": {},
   "outputs": [],
   "source": [
    "db.things.remove({}) # 컬렉션 제외 하고 도큐먼트만 삭제\n",
    "db.things.drop() # 도큐먼트, 컬렉션 모두 삭제"
   ]
  },
  {
   "cell_type": "markdown",
   "metadata": {},
   "source": [
    "인덱스"
   ]
  },
  {
   "cell_type": "code",
   "execution_count": 132,
   "metadata": {},
   "outputs": [],
   "source": [
    "for i in range(100):\n",
    "    db.things.insert_one({\"num\": i})"
   ]
  },
  {
   "cell_type": "code",
   "execution_count": 143,
   "metadata": {},
   "outputs": [
    {
     "data": {
      "text/plain": [
       "100"
      ]
     },
     "execution_count": 143,
     "metadata": {},
     "output_type": "execute_result"
    }
   ],
   "source": [
    "db.things.estimated_document_count()"
   ]
  },
  {
   "cell_type": "code",
   "execution_count": 146,
   "metadata": {},
   "outputs": [
    {
     "name": "stdout",
     "output_type": "stream",
     "text": [
      "{'_id': ObjectId('5ff2cabf30cd3ec39f73238c'), 'num': 31}\n",
      "{'_id': ObjectId('5ff2cabf30cd3ec39f73238d'), 'num': 32}\n",
      "{'_id': ObjectId('5ff2cabf30cd3ec39f73238e'), 'num': 33}\n",
      "{'_id': ObjectId('5ff2cabf30cd3ec39f73238f'), 'num': 34}\n",
      "{'_id': ObjectId('5ff2cabf30cd3ec39f732390'), 'num': 35}\n",
      "{'_id': ObjectId('5ff2cabf30cd3ec39f732391'), 'num': 36}\n",
      "{'_id': ObjectId('5ff2cabf30cd3ec39f732392'), 'num': 37}\n",
      "{'_id': ObjectId('5ff2cabf30cd3ec39f732393'), 'num': 38}\n",
      "{'_id': ObjectId('5ff2cabf30cd3ec39f732394'), 'num': 39}\n"
     ]
    }
   ],
   "source": [
    "cursor = db.things.find({\"num\": {\"$gt\":30, \"$lt\":40}})\n",
    "\n",
    "for item in cursor:\n",
    "    print(item)"
   ]
  },
  {
   "cell_type": "markdown",
   "metadata": {},
   "source": [
    "데이터베이스가 쿼리를 받을 때 이를 실행하는 방법에 대해 계획을 세워야 하며 이를 \n",
    "쿼리 플랜이라 부름. explain은 이 쿼리를 실행한 결과를 보여줌"
   ]
  },
  {
   "cell_type": "code",
   "execution_count": 174,
   "metadata": {
    "collapsed": true
   },
   "outputs": [
    {
     "data": {
      "text/plain": [
       "{'queryPlanner': {'plannerVersion': 1,\n",
       "  'namespace': 'documents.things',\n",
       "  'indexFilterSet': False,\n",
       "  'parsedQuery': {'$and': [{'num': {'$lt': 40}}, {'num': {'$gt': 30}}]},\n",
       "  'winningPlan': {'stage': 'COLLSCAN',\n",
       "   'filter': {'$and': [{'num': {'$lt': 40}}, {'num': {'$gt': 30}}]},\n",
       "   'direction': 'forward'},\n",
       "  'rejectedPlans': []},\n",
       " 'executionStats': {'executionSuccess': True,\n",
       "  'nReturned': 9,\n",
       "  'executionTimeMillis': 0,\n",
       "  'totalKeysExamined': 0,\n",
       "  'totalDocsExamined': 100,\n",
       "  'executionStages': {'stage': 'COLLSCAN',\n",
       "   'filter': {'$and': [{'num': {'$lt': 40}}, {'num': {'$gt': 30}}]},\n",
       "   'nReturned': 9,\n",
       "   'executionTimeMillisEstimate': 0,\n",
       "   'works': 102,\n",
       "   'advanced': 9,\n",
       "   'needTime': 92,\n",
       "   'needYield': 0,\n",
       "   'saveState': 0,\n",
       "   'restoreState': 0,\n",
       "   'isEOF': 1,\n",
       "   'direction': 'forward',\n",
       "   'docsExamined': 100},\n",
       "  'allPlansExecution': []},\n",
       " 'serverInfo': {'host': 'c9bbbb105683',\n",
       "  'port': 27017,\n",
       "  'version': '4.4.2',\n",
       "  'gitVersion': '15e73dc5738d2278b688f8929aee605fe4279b0e'},\n",
       " 'ok': 1.0,\n",
       " '$clusterTime': {'clusterTime': Timestamp(1609820974, 1),\n",
       "  'signature': {'hash': b'\\x00\\x00\\x00\\x00\\x00\\x00\\x00\\x00\\x00\\x00\\x00\\x00\\x00\\x00\\x00\\x00\\x00\\x00\\x00\\x00',\n",
       "   'keyId': 0}},\n",
       " 'operationTime': Timestamp(1609820974, 1)}"
      ]
     },
     "execution_count": 174,
     "metadata": {},
     "output_type": "execute_result"
    }
   ],
   "source": [
    "db.things.find({\"num\": {\"$gt\":30, \"$lt\":40}}).explain()"
   ]
  },
  {
   "cell_type": "code",
   "execution_count": 168,
   "metadata": {
    "collapsed": true
   },
   "outputs": [
    {
     "data": {
      "text/plain": [
       "{'queryPlanner': {'plannerVersion': 1,\n",
       "  'namespace': 'documents.things',\n",
       "  'indexFilterSet': False,\n",
       "  'parsedQuery': {'num': {'$gt': 80}},\n",
       "  'winningPlan': {'stage': 'COLLSCAN',\n",
       "   'filter': {'num': {'$gt': 80}},\n",
       "   'direction': 'forward'},\n",
       "  'rejectedPlans': []},\n",
       " 'executionStats': {'executionSuccess': True,\n",
       "  'nReturned': 19,\n",
       "  'executionTimeMillis': 0,\n",
       "  'totalKeysExamined': 0,\n",
       "  'totalDocsExamined': 100,\n",
       "  'executionStages': {'stage': 'COLLSCAN',\n",
       "   'filter': {'num': {'$gt': 80}},\n",
       "   'nReturned': 19,\n",
       "   'executionTimeMillisEstimate': 0,\n",
       "   'works': 102,\n",
       "   'advanced': 19,\n",
       "   'needTime': 82,\n",
       "   'needYield': 0,\n",
       "   'saveState': 0,\n",
       "   'restoreState': 0,\n",
       "   'isEOF': 1,\n",
       "   'direction': 'forward',\n",
       "   'docsExamined': 100},\n",
       "  'allPlansExecution': []},\n",
       " 'serverInfo': {'host': 'c9bbbb105683',\n",
       "  'port': 27017,\n",
       "  'version': '4.4.2',\n",
       "  'gitVersion': '15e73dc5738d2278b688f8929aee605fe4279b0e'},\n",
       " 'ok': 1.0,\n",
       " '$clusterTime': {'clusterTime': Timestamp(1609810376, 1),\n",
       "  'signature': {'hash': b'\\x00\\x00\\x00\\x00\\x00\\x00\\x00\\x00\\x00\\x00\\x00\\x00\\x00\\x00\\x00\\x00\\x00\\x00\\x00\\x00',\n",
       "   'keyId': 0}},\n",
       " 'operationTime': Timestamp(1609810376, 1)}"
      ]
     },
     "execution_count": 168,
     "metadata": {},
     "output_type": "execute_result"
    }
   ],
   "source": [
    "db.things.find({\"num\": {\"$gt\":80}}).explain()"
   ]
  },
  {
   "cell_type": "code",
   "execution_count": 175,
   "metadata": {},
   "outputs": [
    {
     "data": {
      "text/plain": [
       "'num_1'"
      ]
     },
     "execution_count": 175,
     "metadata": {},
     "output_type": "execute_result"
    }
   ],
   "source": [
    "db.things.create_index(\n",
    "    [(\"num\", \n",
    "     pymongo.ASCENDING)]\n",
    ")"
   ]
  },
  {
   "cell_type": "code",
   "execution_count": 176,
   "metadata": {},
   "outputs": [
    {
     "name": "stdout",
     "output_type": "stream",
     "text": [
      "SON([('v', 2), ('key', SON([('_id', 1)])), ('name', '_id_')])\n",
      "SON([('v', 2), ('key', SON([('num', 1)])), ('name', 'num_1')])\n",
      "{'_id_': {'key': [('_id', 1)], 'v': 2}, 'num_1': {'key': [('num', 1)], 'v': 2}}\n"
     ]
    }
   ],
   "source": [
    "for index in db.things.list_indexes():\n",
    "    pprint.pprint(index)\n",
    "\n",
    "pprint.pprint(db.things.index_information())"
   ]
  },
  {
   "cell_type": "code",
   "execution_count": 177,
   "metadata": {
    "scrolled": true
   },
   "outputs": [
    {
     "data": {
      "text/plain": [
       "{'queryPlanner': {'plannerVersion': 1,\n",
       "  'namespace': 'documents.things',\n",
       "  'indexFilterSet': False,\n",
       "  'parsedQuery': {'num': {'$gt': 80}},\n",
       "  'winningPlan': {'stage': 'FETCH',\n",
       "   'inputStage': {'stage': 'IXSCAN',\n",
       "    'keyPattern': {'num': 1},\n",
       "    'indexName': 'num_1',\n",
       "    'isMultiKey': False,\n",
       "    'multiKeyPaths': {'num': []},\n",
       "    'isUnique': False,\n",
       "    'isSparse': False,\n",
       "    'isPartial': False,\n",
       "    'indexVersion': 2,\n",
       "    'direction': 'forward',\n",
       "    'indexBounds': {'num': ['(80, inf.0]']}}},\n",
       "  'rejectedPlans': []},\n",
       " 'executionStats': {'executionSuccess': True,\n",
       "  'nReturned': 19,\n",
       "  'executionTimeMillis': 2,\n",
       "  'totalKeysExamined': 19,\n",
       "  'totalDocsExamined': 19,\n",
       "  'executionStages': {'stage': 'FETCH',\n",
       "   'nReturned': 19,\n",
       "   'executionTimeMillisEstimate': 0,\n",
       "   'works': 20,\n",
       "   'advanced': 19,\n",
       "   'needTime': 0,\n",
       "   'needYield': 0,\n",
       "   'saveState': 0,\n",
       "   'restoreState': 0,\n",
       "   'isEOF': 1,\n",
       "   'docsExamined': 19,\n",
       "   'alreadyHasObj': 0,\n",
       "   'inputStage': {'stage': 'IXSCAN',\n",
       "    'nReturned': 19,\n",
       "    'executionTimeMillisEstimate': 0,\n",
       "    'works': 20,\n",
       "    'advanced': 19,\n",
       "    'needTime': 0,\n",
       "    'needYield': 0,\n",
       "    'saveState': 0,\n",
       "    'restoreState': 0,\n",
       "    'isEOF': 1,\n",
       "    'keyPattern': {'num': 1},\n",
       "    'indexName': 'num_1',\n",
       "    'isMultiKey': False,\n",
       "    'multiKeyPaths': {'num': []},\n",
       "    'isUnique': False,\n",
       "    'isSparse': False,\n",
       "    'isPartial': False,\n",
       "    'indexVersion': 2,\n",
       "    'direction': 'forward',\n",
       "    'indexBounds': {'num': ['(80, inf.0]']},\n",
       "    'keysExamined': 19,\n",
       "    'seeks': 1,\n",
       "    'dupsTested': 0,\n",
       "    'dupsDropped': 0}},\n",
       "  'allPlansExecution': []},\n",
       " 'serverInfo': {'host': 'c9bbbb105683',\n",
       "  'port': 27017,\n",
       "  'version': '4.4.2',\n",
       "  'gitVersion': '15e73dc5738d2278b688f8929aee605fe4279b0e'},\n",
       " 'ok': 1.0,\n",
       " '$clusterTime': {'clusterTime': Timestamp(1609820985, 7),\n",
       "  'signature': {'hash': b'\\x00\\x00\\x00\\x00\\x00\\x00\\x00\\x00\\x00\\x00\\x00\\x00\\x00\\x00\\x00\\x00\\x00\\x00\\x00\\x00',\n",
       "   'keyId': 0}},\n",
       " 'operationTime': Timestamp(1609820985, 7)}"
      ]
     },
     "execution_count": 177,
     "metadata": {},
     "output_type": "execute_result"
    }
   ],
   "source": [
    "db.things.find({\"num\": {\"$gt\":80}}).explain()"
   ]
  },
  {
   "cell_type": "code",
   "execution_count": 172,
   "metadata": {},
   "outputs": [],
   "source": [
    "db.things.drop_index(\"num_1\")"
   ]
  },
  {
   "cell_type": "code",
   "execution_count": 183,
   "metadata": {},
   "outputs": [
    {
     "name": "stdout",
     "output_type": "stream",
     "text": [
      "{'_id': ObjectId('5ff2cabf30cd3ec39f73236e'), 'num': 1}\n",
      "{'_id': ObjectId('5ff2cabf30cd3ec39f73236f'), 'num': 2}\n",
      "{'_id': ObjectId('5ff2cabf30cd3ec39f732370'), 'num': 3}\n",
      "{'_id': ObjectId('5ff2cabf30cd3ec39f732371'), 'num': 4}\n",
      "{'_id': ObjectId('5ff2cabf30cd3ec39f732372'), 'num': 5}\n",
      "{'_id': ObjectId('5ff2cabf30cd3ec39f732373'), 'num': 6}\n",
      "{'_id': ObjectId('5ff2cabf30cd3ec39f732374'), 'num': 7}\n",
      "{'_id': ObjectId('5ff2cabf30cd3ec39f732375'), 'num': 8}\n",
      "{'_id': ObjectId('5ff2cabf30cd3ec39f732376'), 'num': 9}\n",
      "{'_id': ObjectId('5ff2cabf30cd3ec39f732377'), 'num': 10}\n",
      "{'_id': ObjectId('5ff2cabf30cd3ec39f732378'), 'num': 11}\n",
      "{'_id': ObjectId('5ff2cabf30cd3ec39f732379'), 'num': 12}\n"
     ]
    }
   ],
   "source": [
    "cursor = db.things.find({}) \\\n",
    ".limit(12) \\ # 보여주는 데이터 제한\n",
    ".skip(1) # 처음에 보여줄 데이터 제한\n",
    "\n",
    "for item in cursor:\n",
    "    pprint.pprint(item)"
   ]
  },
  {
   "cell_type": "code",
   "execution_count": 184,
   "metadata": {},
   "outputs": [
    {
     "data": {
      "text/plain": [
       "{'_id': ObjectId('5ff2cabf30cd3ec39f73236d'), 'num': 0}"
      ]
     },
     "execution_count": 184,
     "metadata": {},
     "output_type": "execute_result"
    }
   ],
   "source": [
    "db.things.find_one() # 처음 하나만 리턴"
   ]
  },
  {
   "cell_type": "code",
   "execution_count": 185,
   "metadata": {},
   "outputs": [],
   "source": [
    "# 범위 쿼리 연산자  \n",
    "# $lt : ~보다 작은  \n",
    "# $gt : ~보다 큰  \n",
    "# $lte : ~보다 작거나 같은  \n",
    "# $gte : ~보다 크거나 같은  \n",
    "\n",
    "# 집합 연산자\n",
    "# $in : 어떤 인수든 하나라도 참고 집합에 있는 경우 일치\n",
    "# $all : 모든 인수가 참고 집합에 있고 배열이 포함된 도큐먼트에서 사용되는 경우 일치\n",
    "# $nin : 그 어떤 인수도 참고 집합에 있지 않을 경우 일치"
   ]
  },
  {
   "cell_type": "code",
   "execution_count": 188,
   "metadata": {},
   "outputs": [],
   "source": [
    "# $project : 출력 도큐먼트 상에 배치할 필드를 지정한다\n",
    "# $match : 처리될 도큐먼트를 선택하는 것. find()와 비슷한 역할을 수행한다\n",
    "# $limit : 다음 단계에 전달될 도큐먼트의 수를 제한한다.\n",
    "# $skip : 지정된 수의 도큐먼트를 건너뛴다.\n",
    "# $unwind : 배열을 확장하여 각 배열 항목에 대해 하나의 출력 도큐먼트를 생성한다.\n",
    "# $group : 지정된 키로 도큐먼트를 그룹화한다.\n",
    "# $sort : 도큐먼트를 정렬한다.\n",
    "# $geoNear : 지리 공간위치 근처의 도큐먼트를 선택한다.\n",
    "# $out : 파이프라인의 결과를 컬렉션에 쓴다.\n",
    "# $redact : 특정 데이터에 대한 접근을 제어한다\n"
   ]
  }
 ],
 "metadata": {
  "kernelspec": {
   "display_name": "Python 3",
   "language": "python",
   "name": "python3"
  },
  "language_info": {
   "codemirror_mode": {
    "name": "ipython",
    "version": 3
   },
   "file_extension": ".py",
   "mimetype": "text/x-python",
   "name": "python",
   "nbconvert_exporter": "python",
   "pygments_lexer": "ipython3",
   "version": "3.8.3"
  }
 },
 "nbformat": 4,
 "nbformat_minor": 4
}
