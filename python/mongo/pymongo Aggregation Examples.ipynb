{
 "cells": [
  {
   "cell_type": "code",
   "execution_count": 1,
   "metadata": {},
   "outputs": [],
   "source": [
    "from pymongo import MongoClient\n",
    "client = MongoClient()"
   ]
  },
  {
   "cell_type": "code",
   "execution_count": 2,
   "metadata": {
    "scrolled": false
   },
   "outputs": [
    {
     "data": {
      "text/plain": [
       "MongoClient()"
      ]
     },
     "execution_count": 2,
     "metadata": {},
     "output_type": "execute_result"
    }
   ],
   "source": [
    "client"
   ]
  },
  {
   "cell_type": "markdown",
   "metadata": {},
   "source": [
    "Aggregation Examples\n",
    "\n",
    "MongoDB에서 집계를 수행하는 방법에는 여러 가지가 있습니다. 이 예제는 map reduce를 사용하고 group 메소드를 사용하는 새로운 집계 프레임 워크를 다룹니다.\n",
    "\n",
    "Setup\n",
    "\n",
    "시작하려면 Aggregation를 수행 할 수 있는 몇 가지 예제 데이터를 삽입 합니다."
   ]
  },
  {
   "cell_type": "code",
   "execution_count": 3,
   "metadata": {
    "scrolled": true
   },
   "outputs": [
    {
     "data": {
      "text/plain": [
       "[ObjectId('5fcee43e9d5495708c99dcfd'),\n",
       " ObjectId('5fcee43e9d5495708c99dcfe'),\n",
       " ObjectId('5fcee43e9d5495708c99dcff'),\n",
       " ObjectId('5fcee43e9d5495708c99dd00')]"
      ]
     },
     "execution_count": 3,
     "metadata": {},
     "output_type": "execute_result"
    }
   ],
   "source": [
    "from pymongo import MongoClient\n",
    "db = MongoClient().aggregation_example\n",
    "db = client.aggregation_example\n",
    "result = db.things.insert_many([\n",
    "    {'x' : 1, 'tags': ['dogs', 'cat']},\n",
    "    {'x' : 2, 'tags': ['cat']},\n",
    "    {'x' : 2, 'tags': ['mouse', 'cat', 'dog']},\n",
    "    {'x' : 3, 'tags': []}\n",
    "])\n",
    "result.inserted_ids"
   ]
  },
  {
   "cell_type": "markdown",
   "metadata": {},
   "source": [
    "Aggregation 프레임 워크\n",
    "\n",
    "이 예제에서는 Aggregation 프레임 워크를 사용하기 위해 aggregate() 메서드를 사용하는 방법을 보여줍니다. 전체 컬렉션에서 태그 배열의 각 태그에 대한 발생 수를 계산하기 위해 간단한 Aggregation를 수행합니다. 이를 달성하려면 파이프 라인에 세 가지 작업을 전달해야 합니다. 먼저 태그 배열을 풀고 태그 별로 그룹화하고 합산 한 다음 마지막으로 개수별로 정렬 해야 합니다.\n",
    "\n",
    "파이썬 dictionary는 순서를 유지하지 않으므로 명시적인 순서가 필요한 경우 SON 또는 collections.OrderedDict를 사용해야 합니다(예:\"$ sort\")."
   ]
  },
  {
   "cell_type": "code",
   "execution_count": 4,
   "metadata": {},
   "outputs": [
    {
     "name": "stdout",
     "output_type": "stream",
     "text": [
      "[{'_id': 'cat', 'count': 6},\n",
      " {'_id': 'mouse', 'count': 2},\n",
      " {'_id': 'dogs', 'count': 2},\n",
      " {'_id': 'dog', 'count': 2}]\n"
     ]
    }
   ],
   "source": [
    "from bson.son import SON\n",
    "pipeline = [\n",
    "    {'$unwind': '$tags'},\n",
    "    {'$group': {'_id': '$tags', 'count': {'$sum': 1}}},\n",
    "    {'$sort': SON([('count', -1), ('_id', -1)])}\n",
    "]\n",
    "\n",
    "import pprint\n",
    "pprint.pprint(list(db.things.aggregate(pipeline)))"
   ]
  },
  {
   "cell_type": "markdown",
   "metadata": {},
   "source": [
    "이 Aggregation에 대한 explain plan을 실행하려면 command() 메소드를 사용하십시오"
   ]
  },
  {
   "cell_type": "code",
   "execution_count": 5,
   "metadata": {},
   "outputs": [
    {
     "data": {
      "text/plain": [
       "{'stages': [{'$cursor': {'queryPlanner': {'plannerVersion': 1,\n",
       "     'namespace': 'aggregation_example.things',\n",
       "     'indexFilterSet': False,\n",
       "     'parsedQuery': {},\n",
       "     'queryHash': 'EE638FFC',\n",
       "     'planCacheKey': 'EE638FFC',\n",
       "     'winningPlan': {'stage': 'PROJECTION_SIMPLE',\n",
       "      'transformBy': {'tags': 1, '_id': 0},\n",
       "      'inputStage': {'stage': 'COLLSCAN', 'direction': 'forward'}},\n",
       "     'rejectedPlans': []}}},\n",
       "  {'$unwind': {'path': '$tags'}},\n",
       "  {'$group': {'_id': '$tags', 'count': {'$sum': {'$const': 1}}}},\n",
       "  {'$sort': {'sortKey': {'count': -1, '_id': -1}}}],\n",
       " 'serverInfo': {'host': '8c3c1ba04536',\n",
       "  'port': 27017,\n",
       "  'version': '4.4.1',\n",
       "  'gitVersion': 'ad91a93a5a31e175f5cbf8c69561e788bbc55ce1'},\n",
       " 'ok': 1.0}"
      ]
     },
     "execution_count": 5,
     "metadata": {},
     "output_type": "execute_result"
    }
   ],
   "source": [
    "db.command('aggregate', 'things', pipeline=pipeline, explain=True)"
   ]
  },
  {
   "cell_type": "markdown",
   "metadata": {},
   "source": [
    "단순한 Aggregation뿐만 아니라 Aggregation 프레임워크는 반환된 데이터를 재구성하는 프로젝션 기능을 제공합니다. 프로젝션 및 Aggregation를 사용하여 계산된 필드를 추가하고, 새 가상 하위 개체를 만들고, 하위 필드를 결과의 최상위 수준으로 추출할 수 있습니다."
   ]
  },
  {
   "cell_type": "markdown",
   "metadata": {},
   "source": [
    "Map / Reduce\n",
    "\n",
    "Aggregation를 위한 또 다른 옵션은 Map/Reduce프레임워크를 사용하는 것입니다. 여기서는 전체 컬렉션에서 태그 배열의 각 태그에 대한 발생 수를 계산하는 맵을 정의하고 함수를 줄입니다.\n",
    "\n",
    "map 함수는 배열의 각 태그에 대해 단일 (key, 1) 쌍을 내 보냅니다."
   ]
  },
  {
   "cell_type": "code",
   "execution_count": 6,
   "metadata": {},
   "outputs": [],
   "source": [
    "from bson.code import Code\n",
    "mapper = Code(\"\"\"\n",
    "                function () {\n",
    "                    this.tags.forEach(function(z) {\n",
    "                        emit(z, 1);\n",
    "                    });\n",
    "                }\n",
    "                \"\"\")"
   ]
  },
  {
   "cell_type": "markdown",
   "metadata": {},
   "source": [
    "reduce 함수는 주어진 키에 대해 내보낸 모든 값을 합산합니다."
   ]
  },
  {
   "cell_type": "code",
   "execution_count": 7,
   "metadata": {},
   "outputs": [],
   "source": [
    "reducer = Code(\"\"\"\n",
    "                function (key, values) {\n",
    "                    var total = 0;\n",
    "                    for (var i = 0; i < values.length; i++) {\n",
    "                        total += values[i];\n",
    "                    }\n",
    "                    return total;\n",
    "                }\n",
    "                \"\"\")"
   ]
  },
  {
   "cell_type": "markdown",
   "metadata": {},
   "source": [
    "reduce 함수는 다른 reduce 단계의 결과에 대해 반복적으로 호출될 수 있으므로 values.length를 반환 할 수 없습니다."
   ]
  },
  {
   "cell_type": "code",
   "execution_count": 8,
   "metadata": {
    "scrolled": true
   },
   "outputs": [
    {
     "name": "stdout",
     "output_type": "stream",
     "text": [
      "{'_id': 'cat', 'value': 6.0}\n",
      "{'_id': 'dog', 'value': 2.0}\n",
      "{'_id': 'dogs', 'value': 2.0}\n",
      "{'_id': 'mouse', 'value': 2.0}\n"
     ]
    }
   ],
   "source": [
    "result = db.things.map_reduce(mapper, reducer, 'myresults')\n",
    "for doc in result.find().sort('_id'):\n",
    "    pprint.pprint(doc)"
   ]
  },
  {
   "cell_type": "markdown",
   "metadata": {},
   "source": [
    "고급 Map/Reduce\n",
    "\n",
    "PyMongo의 API는 MongoDB의 Map/Reduce 엔진의 모든 기능을 지원합니다. 한 가지 흥미로운 기능은 full_response=True 를 map_reduce()에 전달하여 원하는 경우 더 자세한 결과를 얻을 수 있다는 것 입니다. 이렇게 하면 결과 컬렉션이 아닌 Map/Reduce 명령에 대한 전체 응답이 반환됩니다."
   ]
  },
  {
   "cell_type": "code",
   "execution_count": 9,
   "metadata": {},
   "outputs": [
    {
     "name": "stdout",
     "output_type": "stream",
     "text": [
      "{'ok': 1.0, 'result': 'myresults'}\n"
     ]
    }
   ],
   "source": [
    "pprint.pprint(\n",
    "    db.things.map_reduce(mapper, reducer, 'myresults', full_response=True))"
   ]
  },
  {
   "cell_type": "markdown",
   "metadata": {},
   "source": [
    "모든 선택적 map/reduce 매개 변수도 지원되며 키워드 인수로 전달하기만 하면 됩니다. 이 예에서는 쿼리 매개 변수를 사용하여 매핑될 문서를 제한합니다."
   ]
  },
  {
   "cell_type": "code",
   "execution_count": 10,
   "metadata": {
    "scrolled": true
   },
   "outputs": [
    {
     "name": "stdout",
     "output_type": "stream",
     "text": [
      "{'_id': 'cat', 'value': 2.0}\n",
      "{'_id': 'dogs', 'value': 2.0}\n"
     ]
    }
   ],
   "source": [
    "results = db.things.map_reduce(\n",
    "    mapper, reducer, 'myresults', query={'x': {'$lt': 2}})\n",
    "for doc in results.find().sort('_id'):\n",
    "    pprint.pprint(doc)"
   ]
  },
  {
   "cell_type": "markdown",
   "metadata": {},
   "source": [
    "SON 또는 collections.OrderedDict를 사용하여 결과 컬렉션을 저장할 다른 데이터베이스를 지정할 수 있습니다."
   ]
  },
  {
   "cell_type": "code",
   "execution_count": 11,
   "metadata": {},
   "outputs": [
    {
     "name": "stdout",
     "output_type": "stream",
     "text": [
      "{'ok': 1.0, 'result': {'collection': 'results', 'db': 'outdb'}}\n"
     ]
    }
   ],
   "source": [
    "from bson.son import SON\n",
    "pprint.pprint(\n",
    "    db.things.map_reduce(\n",
    "        mapper, \n",
    "        reducer,\n",
    "        out=SON([('replace', 'results'), ('db', 'outdb')]),\n",
    "        full_response=True))"
   ]
  }
 ],
 "metadata": {
  "kernelspec": {
   "display_name": "Python 3",
   "language": "python",
   "name": "python3"
  },
  "language_info": {
   "codemirror_mode": {
    "name": "ipython",
    "version": 3
   },
   "file_extension": ".py",
   "mimetype": "text/x-python",
   "name": "python",
   "nbconvert_exporter": "python",
   "pygments_lexer": "ipython3",
   "version": "3.8.3"
  }
 },
 "nbformat": 4,
 "nbformat_minor": 4
}
