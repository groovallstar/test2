{
  "nbformat": 4,
  "nbformat_minor": 0,
  "metadata": {
    "colab": {
      "name": "Linear Discriminant Analysis.ipynb",
      "provenance": [],
      "collapsed_sections": []
    },
    "kernelspec": {
      "name": "python3",
      "display_name": "Python 3"
    }
  },
  "cells": [
    {
      "cell_type": "markdown",
      "metadata": {
        "id": "JSGm7ntJ0wmm",
        "colab_type": "text"
      },
      "source": [
        "LDA(Linear Discriminant Analysis)는 선형 판별 분석법으로 불리며, PCA와 매우 유사함\n",
        "  - 지도학습의 분류(Classification)에서 사용하기 쉽도록 개별 클래스를 분별할 수 있는 기준을 최대한 유지하면서 차원을 축소함. 입력 데이터의 결정 값 클래스를 최대한으로 분리할 수 있는 축을 찾음\n",
        "  - 같은 클래스의 데이터는 최대한 근접해서, 다른 클래스의 데이터는 최대한 떨어뜨리는 축 매핑을 함\n",
        "\n",
        "LDA 차원 축소 방식\n",
        "  - 특정 공간상에서 클래스 분리를 최대화 하는 축을 찾기 위해 클래스 간 분산(between-class scatter)과 클래스 내부 분산(within-class scatter)의 비율을 최대화하는 방식으로 차원을 축소함\n",
        "  - 클래스 간 분산은 최대한 크게 가져가고, 클래스 내부의 분산은 최대한 작게 가져가는 방식"
      ]
    },
    {
      "cell_type": "markdown",
      "metadata": {
        "id": "6R07m-S416PI",
        "colab_type": "text"
      },
      "source": [
        "LDA 절차\n",
        "  - 클래스 간 분산 과 클래스 내부 분산 행렬을 생성한 뒤, 이 행렬에 기반해 고유벡터를 구하고 입력 데이터를 투영함\n",
        "    1. 클래스 내부와 클래스 간 분산 행렬을 구함. 이 두 개의 행렬은 입력 데이터의 결정 값 클래스별로 개별 피처의 평균 벡터(mean vector)를 기반으로 구함\n",
        "    2. 클래스 내부 분산 행렬을 $S_W$, 클래스 간 분산 행렬을 $S_B$ 라고 하면 다음 식으로 두 행렬을 고유벡터로 분해할 수 있음\n",
        "$${S_W}^TS_B=[e_1\\cdots e_n]\\begin{bmatrix}\\lambda_1 & \\cdots & 0 \\\\\\cdots & \\cdots & \\cdots \\\\0 & \\cdots & \\lambda_n\\end{bmatrix} \\begin{bmatrix}{e_1}^T \\\\\\cdots \\\\{e_n}^T \\end{bmatrix}$$\n",
        "    3. 고유값이 가장 큰 순으로 K개(LDA변환 차수만큼) 추출함\n",
        "    4. 고유값이 가장 큰 순으로 K개(LDA변환 차수만큼) 추출함. 고유값이 가장 큰 순으로 추출된 고유 벡터를 이용해 새롭게 입력 데이터를 변환함"
      ]
    },
    {
      "cell_type": "markdown",
      "metadata": {
        "id": "kK8szU622zgb",
        "colab_type": "text"
      },
      "source": [
        "붓꽃 데이터 셋에 LDA 적용하기"
      ]
    },
    {
      "cell_type": "code",
      "metadata": {
        "id": "jVT7_f90zjwA",
        "colab_type": "code",
        "colab": {}
      },
      "source": [
        "from sklearn.discriminant_analysis import LinearDiscriminantAnalysis\n",
        "from sklearn.preprocessing import StandardScaler\n",
        "from sklearn.datasets import load_iris\n",
        "\n",
        "iris = load_iris()\n",
        "iris_scaled = StandardScaler().fit_transform(iris.data)"
      ],
      "execution_count": 0,
      "outputs": []
    },
    {
      "cell_type": "code",
      "metadata": {
        "id": "miZCh83K46vL",
        "colab_type": "code",
        "colab": {
          "base_uri": "https://localhost:8080/",
          "height": 35
        },
        "outputId": "2eeebdaf-ca11-409c-84c3-0fa7397b8c57"
      },
      "source": [
        "lda = LinearDiscriminantAnalysis(n_components=2)\n",
        "lda.fit(iris_scaled, iris.target)\n",
        "iris_lda = lda.transform(iris_scaled)\n",
        "print(iris_lda.shape)"
      ],
      "execution_count": 3,
      "outputs": [
        {
          "output_type": "stream",
          "text": [
            "(150, 2)\n"
          ],
          "name": "stdout"
        }
      ]
    },
    {
      "cell_type": "code",
      "metadata": {
        "id": "duwDtQvF5JEl",
        "colab_type": "code",
        "colab": {
          "base_uri": "https://localhost:8080/",
          "height": 282
        },
        "outputId": "988273e5-8552-4d06-e716-5baf89314c0a"
      },
      "source": [
        "import pandas as pd\n",
        "import matplotlib.pyplot as plt\n",
        "%matplotlib inline\n",
        "\n",
        "lda_columns = ['lda_component_1', 'lda_component_2']\n",
        "irisDF_lda = pd.DataFrame(iris_lda, columns=lda_columns)\n",
        "irisDF_lda['target'] = iris.target\n",
        "\n",
        "markers=['^', 's', 'o']\n",
        "for i, marker in enumerate(markers):\n",
        "  x_axis_data = irisDF_lda[irisDF_lda['target'] == i]['lda_component_1']\n",
        "  y_axis_data = irisDF_lda[irisDF_lda['target'] == i]['lda_component_2']\n",
        "\n",
        "  plt.scatter(x_axis_data, y_axis_data, marker=marker, label=iris.target_names[i])\n",
        "\n",
        "plt.legend(loc='upper right');plt.xlabel('lda_component_1');plt.ylabel('lda_component_2');plt.show()"
      ],
      "execution_count": 4,
      "outputs": [
        {
          "output_type": "display_data",
          "data": {
            "image/png": "[encoded data removed]",
            "text/plain": [
              "<Figure size 432x288 with 1 Axes>"
            ]
          },
          "metadata": {
            "tags": []
          }
        }
      ]
    }
  ]
}