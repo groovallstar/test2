{
  "nbformat": 4,
  "nbformat_minor": 0,
  "metadata": {
    "colab": {
      "name": "Bike Sharing Demand.ipynb",
      "provenance": [],
      "collapsed_sections": []
    },
    "kernelspec": {
      "name": "python3",
      "display_name": "Python 3"
    }
  },
  "cells": [
    {
      "cell_type": "code",
      "metadata": {
        "id": "dSvTImqZPtXk",
        "colab_type": "code",
        "colab": {
          "base_uri": "https://localhost:8080/",
          "height": 282
        },
        "outputId": "8ab822e2-b35e-448e-f367-9c1f48039cdf"
      },
      "source": [
        "import numpy as np\n",
        "import pandas as pd\n",
        "import seaborn as sns\n",
        "import matplotlib.pyplot as plt\n",
        "%matplotlib inline\n",
        "\n",
        "import warnings\n",
        "warnings.filterwarnings('ignore', category=RuntimeWarning)\n",
        "\n",
        "bike_df = pd.read_csv('bike_train.csv')\n",
        "print(bike_df.shape)\n",
        "bike_df.head(3)"
      ],
      "execution_count": 2,
      "outputs": [
        {
          "output_type": "stream",
          "text": [
            "(10886, 12)\n"
          ],
          "name": "stdout"
        },
        {
          "output_type": "execute_result",
          "data": {
            "text/html": [
              "<div>\n",
              "<style scoped>\n",
              "    .dataframe tbody tr th:only-of-type {\n",
              "        vertical-align: middle;\n",
              "    }\n",
              "\n",
              "    .dataframe tbody tr th {\n",
              "        vertical-align: top;\n",
              "    }\n",
              "\n",
              "    .dataframe thead th {\n",
              "        text-align: right;\n",
              "    }\n",
              "</style>\n",
              "<table border=\"1\" class=\"dataframe\">\n",
              "  <thead>\n",
              "    <tr style=\"text-align: right;\">\n",
              "      <th></th>\n",
              "      <th>datetime</th>\n",
              "      <th>season</th>\n",
              "      <th>holiday</th>\n",
              "      <th>workingday</th>\n",
              "      <th>weather</th>\n",
              "      <th>temp</th>\n",
              "      <th>atemp</th>\n",
              "      <th>humidity</th>\n",
              "      <th>windspeed</th>\n",
              "      <th>casual</th>\n",
              "      <th>registered</th>\n",
              "      <th>count</th>\n",
              "    </tr>\n",
              "  </thead>\n",
              "  <tbody>\n",
              "    <tr>\n",
              "      <th>0</th>\n",
              "      <td>2011-01-01 00:00:00</td>\n",
              "      <td>1</td>\n",
              "      <td>0</td>\n",
              "      <td>0</td>\n",
              "      <td>1</td>\n",
              "      <td>9.84</td>\n",
              "      <td>14.395</td>\n",
              "      <td>81</td>\n",
              "      <td>0.0</td>\n",
              "      <td>3</td>\n",
              "      <td>13</td>\n",
              "      <td>16</td>\n",
              "    </tr>\n",
              "    <tr>\n",
              "      <th>1</th>\n",
              "      <td>2011-01-01 01:00:00</td>\n",
              "      <td>1</td>\n",
              "      <td>0</td>\n",
              "      <td>0</td>\n",
              "      <td>1</td>\n",
              "      <td>9.02</td>\n",
              "      <td>13.635</td>\n",
              "      <td>80</td>\n",
              "      <td>0.0</td>\n",
              "      <td>8</td>\n",
              "      <td>32</td>\n",
              "      <td>40</td>\n",
              "    </tr>\n",
              "    <tr>\n",
              "      <th>2</th>\n",
              "      <td>2011-01-01 02:00:00</td>\n",
              "      <td>1</td>\n",
              "      <td>0</td>\n",
              "      <td>0</td>\n",
              "      <td>1</td>\n",
              "      <td>9.02</td>\n",
              "      <td>13.635</td>\n",
              "      <td>80</td>\n",
              "      <td>0.0</td>\n",
              "      <td>5</td>\n",
              "      <td>27</td>\n",
              "      <td>32</td>\n",
              "    </tr>\n",
              "  </tbody>\n",
              "</table>\n",
              "</div>"
            ],
            "text/plain": [
              "              datetime  season  holiday  ...  casual  registered  count\n",
              "0  2011-01-01 00:00:00       1        0  ...       3          13     16\n",
              "1  2011-01-01 01:00:00       1        0  ...       8          32     40\n",
              "2  2011-01-01 02:00:00       1        0  ...       5          27     32\n",
              "\n",
              "[3 rows x 12 columns]"
            ]
          },
          "metadata": {
            "tags": []
          },
          "execution_count": 2
        }
      ]
    },
    {
      "cell_type": "markdown",
      "metadata": {
        "id": "MpZi4t2NZ8IX",
        "colab_type": "text"
      },
      "source": [
        "- datetime : hourly date + timestamp\n",
        "- season : 1=spring, 2=summer, 3=autumn, 4=winter\n",
        "- holiday : 1=토,일의 주말을 제외한 국경일등의 휴일. 0=휴일이 아닌 날\n",
        "- workingday : 1=토,일의 주말 및 휴일이 아닌 주중. 0=주말 및 휴일\n",
        "- weather : 1=맑음, 약간 구름낀 흐림. 2=안개, 안개+흐림. 3=가벼운 눈, 가벼운 비+천둥. 4=심한 눈/비, 천둥/번개\n",
        "- temp : 온도(섭씨)\n",
        "- atemp : 체감온도(섭씨)\n",
        "- humidity : 상대습도\n",
        "-\twindspeed : 풍속\n",
        "- casual : 사전에 등록되지 않은 사용자가 대여한 횟수\n",
        "-\tregistered : 사전에 등록된 사용자가 대여한 횟수\n",
        "-\tcount : 대여 횟수"
      ]
    },
    {
      "cell_type": "code",
      "metadata": {
        "id": "lrO2p0_vQA5z",
        "colab_type": "code",
        "colab": {
          "base_uri": "https://localhost:8080/",
          "height": 323
        },
        "outputId": "8e6ec01e-9a3c-4848-ccd1-91b5b9c5a986"
      },
      "source": [
        "bike_df.info()"
      ],
      "execution_count": 3,
      "outputs": [
        {
          "output_type": "stream",
          "text": [
            "<class 'pandas.core.frame.DataFrame'>\n",
            "RangeIndex: 10886 entries, 0 to 10885\n",
            "Data columns (total 12 columns):\n",
            "datetime      10886 non-null object\n",
            "season        10886 non-null int64\n",
            "holiday       10886 non-null int64\n",
            "workingday    10886 non-null int64\n",
            "weather       10886 non-null int64\n",
            "temp          10886 non-null float64\n",
            "atemp         10886 non-null float64\n",
            "humidity      10886 non-null int64\n",
            "windspeed     10886 non-null float64\n",
            "casual        10886 non-null int64\n",
            "registered    10886 non-null int64\n",
            "count         10886 non-null int64\n",
            "dtypes: float64(3), int64(8), object(1)\n",
            "memory usage: 1020.7+ KB\n"
          ],
          "name": "stdout"
        }
      ]
    },
    {
      "cell_type": "code",
      "metadata": {
        "id": "1nXjYpbsQDoq",
        "colab_type": "code",
        "colab": {
          "base_uri": "https://localhost:8080/",
          "height": 264
        },
        "outputId": "802eea31-faa9-4156-9114-3fd550d504a1"
      },
      "source": [
        "bike_df['datetime'] = bike_df.datetime.apply(pd.to_datetime) # object -> datetime type\n",
        "\n",
        "bike_df['year'] = bike_df.datetime.apply(lambda x : x.year)\n",
        "bike_df['month'] = bike_df.datetime.apply(lambda x : x.month)\n",
        "bike_df['day'] = bike_df.datetime.apply(lambda x : x.day)\n",
        "bike_df['hour'] = bike_df.datetime.apply(lambda x : x.hour)\n",
        "bike_df.head(3)"
      ],
      "execution_count": 4,
      "outputs": [
        {
          "output_type": "execute_result",
          "data": {
            "text/html": [
              "<div>\n",
              "<style scoped>\n",
              "    .dataframe tbody tr th:only-of-type {\n",
              "        vertical-align: middle;\n",
              "    }\n",
              "\n",
              "    .dataframe tbody tr th {\n",
              "        vertical-align: top;\n",
              "    }\n",
              "\n",
              "    .dataframe thead th {\n",
              "        text-align: right;\n",
              "    }\n",
              "</style>\n",
              "<table border=\"1\" class=\"dataframe\">\n",
              "  <thead>\n",
              "    <tr style=\"text-align: right;\">\n",
              "      <th></th>\n",
              "      <th>datetime</th>\n",
              "      <th>season</th>\n",
              "      <th>holiday</th>\n",
              "      <th>workingday</th>\n",
              "      <th>weather</th>\n",
              "      <th>temp</th>\n",
              "      <th>atemp</th>\n",
              "      <th>humidity</th>\n",
              "      <th>windspeed</th>\n",
              "      <th>casual</th>\n",
              "      <th>registered</th>\n",
              "      <th>count</th>\n",
              "      <th>year</th>\n",
              "      <th>month</th>\n",
              "      <th>day</th>\n",
              "      <th>hour</th>\n",
              "    </tr>\n",
              "  </thead>\n",
              "  <tbody>\n",
              "    <tr>\n",
              "      <th>0</th>\n",
              "      <td>2011-01-01 00:00:00</td>\n",
              "      <td>1</td>\n",
              "      <td>0</td>\n",
              "      <td>0</td>\n",
              "      <td>1</td>\n",
              "      <td>9.84</td>\n",
              "      <td>14.395</td>\n",
              "      <td>81</td>\n",
              "      <td>0.0</td>\n",
              "      <td>3</td>\n",
              "      <td>13</td>\n",
              "      <td>16</td>\n",
              "      <td>2011</td>\n",
              "      <td>1</td>\n",
              "      <td>1</td>\n",
              "      <td>0</td>\n",
              "    </tr>\n",
              "    <tr>\n",
              "      <th>1</th>\n",
              "      <td>2011-01-01 01:00:00</td>\n",
              "      <td>1</td>\n",
              "      <td>0</td>\n",
              "      <td>0</td>\n",
              "      <td>1</td>\n",
              "      <td>9.02</td>\n",
              "      <td>13.635</td>\n",
              "      <td>80</td>\n",
              "      <td>0.0</td>\n",
              "      <td>8</td>\n",
              "      <td>32</td>\n",
              "      <td>40</td>\n",
              "      <td>2011</td>\n",
              "      <td>1</td>\n",
              "      <td>1</td>\n",
              "      <td>1</td>\n",
              "    </tr>\n",
              "    <tr>\n",
              "      <th>2</th>\n",
              "      <td>2011-01-01 02:00:00</td>\n",
              "      <td>1</td>\n",
              "      <td>0</td>\n",
              "      <td>0</td>\n",
              "      <td>1</td>\n",
              "      <td>9.02</td>\n",
              "      <td>13.635</td>\n",
              "      <td>80</td>\n",
              "      <td>0.0</td>\n",
              "      <td>5</td>\n",
              "      <td>27</td>\n",
              "      <td>32</td>\n",
              "      <td>2011</td>\n",
              "      <td>1</td>\n",
              "      <td>1</td>\n",
              "      <td>2</td>\n",
              "    </tr>\n",
              "  </tbody>\n",
              "</table>\n",
              "</div>"
            ],
            "text/plain": [
              "             datetime  season  holiday  workingday  ...  year  month  day  hour\n",
              "0 2011-01-01 00:00:00       1        0           0  ...  2011      1    1     0\n",
              "1 2011-01-01 01:00:00       1        0           0  ...  2011      1    1     1\n",
              "2 2011-01-01 02:00:00       1        0           0  ...  2011      1    1     2\n",
              "\n",
              "[3 rows x 16 columns]"
            ]
          },
          "metadata": {
            "tags": []
          },
          "execution_count": 4
        }
      ]
    },
    {
      "cell_type": "code",
      "metadata": {
        "id": "Cteeb2xmTOXs",
        "colab_type": "code",
        "colab": {}
      },
      "source": [
        "drop_columns = ['datetime', 'casual', 'registered']\n",
        "bike_df.drop(drop_columns, axis=1, inplace=True)"
      ],
      "execution_count": 0,
      "outputs": []
    },
    {
      "cell_type": "markdown",
      "metadata": {
        "id": "a3Cg1ZKUTYFZ",
        "colab_type": "text"
      },
      "source": [
        "로그 변환, 피처 인코딩, 모델 학습/예측/평가"
      ]
    },
    {
      "cell_type": "code",
      "metadata": {
        "id": "ziaAVAYxTXf_",
        "colab_type": "code",
        "colab": {}
      },
      "source": [
        "from sklearn.metrics import mean_squared_error, mean_absolute_error\n",
        "\n",
        "# log 값 변환 시 NaN 등의 이슈로 log()가 아닌 log1p()를 이용하여 RMSLE 계산\n",
        "def rmsle(y, pred):\n",
        "  log_y = np.log1p(y)\n",
        "  log_pred = np.log1p(pred)\n",
        "  squared_error = (log_y - log_pred) ** 2\n",
        "  rmsle = np.sqrt(np.mean(squared_error))\n",
        "  return rmsle\n",
        "\n",
        "def rmse(y, pred):\n",
        "  return np.sqrt(mean_squared_error(y, pred))\n",
        "\n",
        "# MSE, RMSE, RMSLE 모두 계산\n",
        "def evaluate_regr(y, pred):\n",
        "  rmsle_val = rmsle(y, pred)\n",
        "  rmse_val = rmse(y, pred)\n",
        "  mae_val = mean_absolute_error(y, pred)\n",
        "  print('RMSLE:{0:.3f}, RMSE:{1:.3F}, MAE:{2:.3F}'.format(rmsle_val, rmse_val, mae_val))"
      ],
      "execution_count": 0,
      "outputs": []
    },
    {
      "cell_type": "code",
      "metadata": {
        "id": "g9jrP9eDUJ50",
        "colab_type": "code",
        "colab": {
          "base_uri": "https://localhost:8080/",
          "height": 35
        },
        "outputId": "ed056886-58cb-4fd9-9827-047a8abf6fe5"
      },
      "source": [
        "from sklearn.model_selection import train_test_split, GridSearchCV\n",
        "from sklearn.linear_model import LinearRegression, Ridge, Lasso\n",
        "\n",
        "y_target = bike_df['count']\n",
        "X_features = bike_df.drop(['count'], axis=1, inplace=False)\n",
        "\n",
        "X_train, X_test, y_train, y_test = train_test_split(X_features, y_target, test_size=0.3, random_state=0)\n",
        "\n",
        "lr_reg = LinearRegression()\n",
        "lr_reg.fit(X_train, y_train)\n",
        "pred = lr_reg.predict(X_test)\n",
        "\n",
        "evaluate_regr(y_test, pred)"
      ],
      "execution_count": 7,
      "outputs": [
        {
          "output_type": "stream",
          "text": [
            "RMSLE:1.165, RMSE:140.900, MAE:105.924\n"
          ],
          "name": "stdout"
        }
      ]
    },
    {
      "cell_type": "code",
      "metadata": {
        "id": "FXFlFyP5Uwu8",
        "colab_type": "code",
        "colab": {
          "base_uri": "https://localhost:8080/",
          "height": 125
        },
        "outputId": "e008e925-b739-4215-8db2-4838ba2a28ab"
      },
      "source": [
        "def get_top_error_data(y_test, pred, n_tops=5):\n",
        "  # DataFrame에 컬럼들도 실제 대여횟수(count)와 예측 값을 서로 비교할 수 있도록 생성\n",
        "  result_df = pd.DataFrame(y_test.values, columns=['real_count'])\n",
        "  result_df['predicted_count'] = np.round(pred)\n",
        "  result_df['diff'] = np.abs(result_df['real_count'] - result_df['predicted_count'])\n",
        "  # 예측값과 실제값이 가장 큰 데이터 순으로 출력\n",
        "  print(result_df.sort_values('diff', ascending=False)[:n_tops])\n",
        "\n",
        "get_top_error_data(y_test, pred, n_tops=5)"
      ],
      "execution_count": 8,
      "outputs": [
        {
          "output_type": "stream",
          "text": [
            "      real_count  predicted_count   diff\n",
            "1618         890            322.0  568.0\n",
            "3151         798            241.0  557.0\n",
            "966          884            327.0  557.0\n",
            "412          745            194.0  551.0\n",
            "2817         856            310.0  546.0\n"
          ],
          "name": "stdout"
        }
      ]
    },
    {
      "cell_type": "code",
      "metadata": {
        "id": "fRXnuPAZVRJF",
        "colab_type": "code",
        "colab": {
          "base_uri": "https://localhost:8080/",
          "height": 283
        },
        "outputId": "6ea4c106-e821-4d6b-9640-f4c287efb58a"
      },
      "source": [
        "y_target.hist()"
      ],
      "execution_count": 9,
      "outputs": [
        {
          "output_type": "execute_result",
          "data": {
            "text/plain": [
              "<matplotlib.axes._subplots.AxesSubplot at 0x7f01a7d08710>"
            ]
          },
          "metadata": {
            "tags": []
          },
          "execution_count": 9
        },
        {
          "output_type": "display_data",
          "data": {
            "image/png": "[encoded data removed]",
            "text/plain": [
              "<Figure size 432x288 with 1 Axes>"
            ]
          },
          "metadata": {
            "tags": []
          }
        }
      ]
    },
    {
      "cell_type": "code",
      "metadata": {
        "id": "ORafbBh0VTZW",
        "colab_type": "code",
        "colab": {
          "base_uri": "https://localhost:8080/",
          "height": 283
        },
        "outputId": "c9cd3f06-4ef5-4ee5-dd79-7ad601d5e145"
      },
      "source": [
        "y_log_transform = np.log1p(y_target)\n",
        "y_log_transform.hist()"
      ],
      "execution_count": 10,
      "outputs": [
        {
          "output_type": "execute_result",
          "data": {
            "text/plain": [
              "<matplotlib.axes._subplots.AxesSubplot at 0x7f01a0e8c2e8>"
            ]
          },
          "metadata": {
            "tags": []
          },
          "execution_count": 10
        },
        {
          "output_type": "display_data",
          "data": {
            "image/png": "[encoded data removed]",
            "text/plain": [
              "<Figure size 432x288 with 1 Axes>"
            ]
          },
          "metadata": {
            "tags": []
          }
        }
      ]
    },
    {
      "cell_type": "code",
      "metadata": {
        "id": "DMN3YksUVYuK",
        "colab_type": "code",
        "colab": {
          "base_uri": "https://localhost:8080/",
          "height": 35
        },
        "outputId": "02fc4780-684c-43a2-f2a5-3ee3e0a7c442"
      },
      "source": [
        "# 타겟 컬럼인 count값을 log1p로 Log 변환\n",
        "y_target_log = np.log1p(y_target)\n",
        "\n",
        "# 로그 변환된 y_target_log를 반영하여 학습/테스트 데이터 셋 분할\n",
        "X_train, X_test, y_train, y_test = train_test_split(X_features, y_target_log, test_size=0.3, random_state=0)\n",
        "lr_reg = LinearRegression()\n",
        "lr_reg.fit(X_train, y_train)\n",
        "pred = lr_reg.predict(X_test)\n",
        "\n",
        "# 테스트 데이터 셋의 Target 값은 Log 변환 되었으므로 다시 expm1를 이용하여 원래 scale로 변환\n",
        "y_test_exp = np.expm1(y_test)\n",
        "\n",
        "# 예측 값 역시 Log 변환된 타겟 기반으로 학습되어 예측되었으므로 다시 exmpl으로 scale변환\n",
        "pred_exp = np.expm1(pred)\n",
        "\n",
        "evaluate_regr(y_test_exp, pred_exp)"
      ],
      "execution_count": 11,
      "outputs": [
        {
          "output_type": "stream",
          "text": [
            "RMSLE:1.017, RMSE:162.594, MAE:109.286\n"
          ],
          "name": "stdout"
        }
      ]
    },
    {
      "cell_type": "code",
      "metadata": {
        "id": "DbpiP1BEV9m9",
        "colab_type": "code",
        "colab": {
          "base_uri": "https://localhost:8080/",
          "height": 283
        },
        "outputId": "ce2da4a4-37c5-4082-8d06-386cfcfc8345"
      },
      "source": [
        "coef = pd.Series(lr_reg.coef_, index=X_features.columns)\n",
        "coef_sort = coef.sort_values(ascending=False)\n",
        "sns.barplot(x=coef_sort.values, y=coef_sort.index)"
      ],
      "execution_count": 12,
      "outputs": [
        {
          "output_type": "execute_result",
          "data": {
            "text/plain": [
              "<matplotlib.axes._subplots.AxesSubplot at 0x7f01a0e044a8>"
            ]
          },
          "metadata": {
            "tags": []
          },
          "execution_count": 12
        },
        {
          "output_type": "display_data",
          "data": {
            "image/png": "[encoded data removed]",
            "text/plain": [
              "<Figure size 432x288 with 1 Axes>"
            ]
          },
          "metadata": {
            "tags": []
          }
        }
      ]
    },
    {
      "cell_type": "code",
      "metadata": {
        "id": "r8ylRA67Y4cC",
        "colab_type": "code",
        "colab": {}
      },
      "source": [
        "# feature One Hot Encoding\n",
        "X_features_ohe = pd.get_dummies(X_features, columns=['year', 'month', 'hour', 'holiday', 'workingday', 'season', 'weather'])"
      ],
      "execution_count": 0,
      "outputs": []
    },
    {
      "cell_type": "code",
      "metadata": {
        "id": "cW5Kn4s1WMxO",
        "colab_type": "code",
        "colab": {
          "base_uri": "https://localhost:8080/",
          "height": 125
        },
        "outputId": "0d381b6b-3f65-47bd-cf4a-e5052e0b48a4"
      },
      "source": [
        "X_train, X_test, y_train, y_test = train_test_split(X_features_ohe, y_target_log, test_size=0.3, random_state=0)\n",
        "\n",
        "# 모델과 학습/테스트 데이터 셋을 입력하면 성능 평가 수치를 반환\n",
        "def get_model_predict(model, X_train, X_test, y_train, y_test, is_expm1=False):\n",
        "  model.fit(X_train, y_train)\n",
        "  pred = model.predict(X_test)\n",
        "  if is_expm1:\n",
        "    y_test = np.expm1(y_test)\n",
        "    pred = np.expm1(pred)\n",
        "  print('###', model.__class__.__name__,'###')\n",
        "  evaluate_regr(y_test, pred)\n",
        "\n",
        "lr_reg = LinearRegression()\n",
        "ridge_reg = Ridge(alpha=10)\n",
        "lasso_reg = Lasso(alpha=0.01)\n",
        "\n",
        "for model in [lr_reg, ridge_reg, lasso_reg]:\n",
        "  get_model_predict(model, X_train, X_test, y_train, y_test, is_expm1=True)"
      ],
      "execution_count": 14,
      "outputs": [
        {
          "output_type": "stream",
          "text": [
            "### LinearRegression ###\n",
            "RMSLE:0.589, RMSE:97.483, MAE:63.106\n",
            "### Ridge ###\n",
            "RMSLE:0.589, RMSE:98.407, MAE:63.648\n",
            "### Lasso ###\n",
            "RMSLE:0.634, RMSE:113.031, MAE:72.658\n"
          ],
          "name": "stdout"
        }
      ]
    },
    {
      "cell_type": "code",
      "metadata": {
        "id": "HW2FLzexWjtD",
        "colab_type": "code",
        "colab": {
          "base_uri": "https://localhost:8080/",
          "height": 296
        },
        "outputId": "05f51609-8f40-4d43-d158-457b7967c32e"
      },
      "source": [
        "coef = pd.Series(lr_reg.coef_, index=X_features_ohe.columns)\n",
        "coef_sort = coef.sort_values(ascending=False)[:10]\n",
        "sns.barplot(x=coef_sort.values, y=coef_sort.index)"
      ],
      "execution_count": 15,
      "outputs": [
        {
          "output_type": "execute_result",
          "data": {
            "text/plain": [
              "<matplotlib.axes._subplots.AxesSubplot at 0x7f01a7d08438>"
            ]
          },
          "metadata": {
            "tags": []
          },
          "execution_count": 15
        },
        {
          "output_type": "display_data",
          "data": {
            "image/png": "[encoded data removed]",
            "text/plain": [
              "<Figure size 432x288 with 1 Axes>"
            ]
          },
          "metadata": {
            "tags": []
          }
        }
      ]
    },
    {
      "cell_type": "code",
      "metadata": {
        "id": "3Kc6eR4DZEok",
        "colab_type": "code",
        "colab": {
          "base_uri": "https://localhost:8080/",
          "height": 235
        },
        "outputId": "1ffd3409-5486-4ced-de25-34038cc0f0f6"
      },
      "source": [
        "from sklearn.ensemble import RandomForestRegressor, GradientBoostingRegressor\n",
        "from xgboost import XGBRegressor\n",
        "from lightgbm import LGBMRegressor\n",
        "\n",
        "rf_reg = RandomForestRegressor(n_estimators=500)\n",
        "gbm_reg = GradientBoostingRegressor(n_estimators=500)\n",
        "xgb_reg = XGBRegressor(n_estimators=500)\n",
        "lgbm_reg = LGBMRegressor(n_estimators=500)\n",
        "\n",
        "for model in [rf_reg, gbm_reg, xgb_reg, lgbm_reg]:\n",
        "  get_model_predict(model, X_train, X_test, y_train, y_test, is_expm1=True)"
      ],
      "execution_count": 16,
      "outputs": [
        {
          "output_type": "stream",
          "text": [
            "### RandomForestRegressor ###\n",
            "RMSLE:0.353, RMSE:50.610, MAE:31.382\n",
            "### GradientBoostingRegressor ###\n",
            "RMSLE:0.341, RMSE:55.809, MAE:34.354\n",
            "[02:47:27] WARNING: /workspace/src/objective/regression_obj.cu:152: reg:linear is now deprecated in favor of reg:squarederror.\n"
          ],
          "name": "stdout"
        },
        {
          "output_type": "stream",
          "text": [
            "/usr/local/lib/python3.6/dist-packages/xgboost/core.py:587: FutureWarning: Series.base is deprecated and will be removed in a future version\n",
            "  if getattr(data, 'base', None) is not None and \\\n"
          ],
          "name": "stderr"
        },
        {
          "output_type": "stream",
          "text": [
            "### XGBRegressor ###\n",
            "RMSLE:0.346, RMSE:56.474, MAE:34.917\n",
            "### LGBMRegressor ###\n",
            "RMSLE:0.316, RMSE:46.473, MAE:28.777\n"
          ],
          "name": "stdout"
        }
      ]
    }
  ]
}