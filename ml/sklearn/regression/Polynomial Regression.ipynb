{
  "nbformat": 4,
  "nbformat_minor": 0,
  "metadata": {
    "colab": {
      "name": "Polynomial Regression.ipynb",
      "provenance": [],
      "collapsed_sections": []
    },
    "kernelspec": {
      "name": "python3",
      "display_name": "Python 3"
    }
  },
  "cells": [
    {
      "cell_type": "markdown",
      "metadata": {
        "id": "fZpw4F8RAnLK",
        "colab_type": "text"
      },
      "source": [
        "다항회귀(Polynomial Regression)\n",
        "- $y = w0 + w1*x1 + w2*x2 + w3*x1*x2 + w4*x1^2 + w5*x2^2$ 과 같이 회귀식이 독립변수의 단항식이 아닌 2차, 3차 방정식과 같은 다항식으로 표현되는 것을 지칭\n",
        "- 데이터 세트에 대해서 피처 X에 대해 Target Y값의 관계를 단순 선형 회귀 직선형으로 표현한 것보다 다항 회귀 곡선형으로 표현한 것이 더 예측 성능이 높음\n",
        "선형 회귀와 비선형 회귀의 구분\n",
        "- 선형 회귀\n",
        "  - $y = w0 + w1*x1 + w2*x2 + w3*x1*x2 + w4*x1^2 + w5*x2^2$\n",
        "  - 새로운 변수인 z를 $z=[x1, x2, x1*x2, x1^2, x2^2]$로 한다면 $Y=w0+w1*z1+w2*z2+w3*z3+w4*z4+w5*z5$\n",
        "- 비선형 회귀\n",
        "  - $Y=w1 * \\cos(X+w4) + w2*\\cos(2*X+w4)+3$\n",
        "  - $Y=w1*X^{w2}$\n",
        "\n",
        "사이킷런에서의 다항회귀\n",
        "- PolynomialFeatures 클래스로 원본 단항 피처들을 다항 피처들로 변환한 데이터 세트에 LinearRegression 객체를 적용하여 다항회귀 기능을 제공함\n",
        "  - PolynomialFeatures : 원본 피처 데이터 세트를 기반으로 degree 차수에 따른 다항식을 적용하여 새로운 피처들을 생성하는 클래스 피처 엔지니어링 기법중의 하나\n",
        "- 단항 피처$[x_1,x_2]$를 Degree=2, 즉 2차 다항 피처로 변환한다면?\n",
        "  - $(x_1+x_2)^2$의 식 전개에 대응되는 $[1, x_1, x_2, x_1x_2, {x_1}^2, {x_2}^2]$의 다항 피처들로 변환\n",
        "  - 1차 단항 피처들의 값이 $[x_1, x_2]$ = [0 1]일 경우 2차 다항 피처들의 값은 $[1, x_1 = 0, x_2 = 1, x_1x_2 = 0, {x_1}^2=0, {x_2}^2=1]$ 형태인 [1, 0, 1, 0, 0, 1]로 변환\n",
        "- 단항 피처 $[x_1, x_2]$를 Degree=3, 즉 3차 다항 피처로 변환한다면?\n",
        "  - $(x_1+x_2)^3$의 식 전개에 대응되는 $[1, x_1, x_2, x_1x_2, {x_1}^2. {x_2}^2, {x_1}^3, {x_1}^2x_2, x_1{x_2}^2, {x_2}^3]$의 다항 피처들로 변환\n",
        "- 다항회귀에 대한 API 제공하지 않음. PolynomialFeatures 클래스로 원본 단항 피처들을 다항 피처들로 변환한 데이터 세트에 LinearRegression 객체를 적용하여 다항회귀 기능을 제공함\n",
        "  - Pipeline 클래스를 이용하여 PolynomialFeatures 변환과 LinearRegression 학습/예측을 결합하여 다항 회귀를 구현함"
      ]
    },
    {
      "cell_type": "code",
      "metadata": {
        "id": "TVVx2tKhAi6w",
        "colab_type": "code",
        "colab": {
          "base_uri": "https://localhost:8080/",
          "height": 125
        },
        "outputId": "7515380a-a25a-472a-9270-961b5f9e618a"
      },
      "source": [
        "from sklearn.preprocessing import PolynomialFeatures\n",
        "from sklearn.linear_model import LinearRegression\n",
        "from sklearn.pipeline import Pipeline\n",
        "import numpy as np\n",
        "import numpy as np\n",
        "\n",
        "# 다항식으로 변환한 단항식 생성, [[0,1],[2,3]]의 2X2 행렬 생성\n",
        "X = np.arange(4).reshape(2, 2)\n",
        "print('1차 단항식 계수 feature:\\n', X)\n",
        "\n",
        "# degree = 2인 2차 다항식으로 변환\n",
        "poly = PolynomialFeatures(degree=2)\n",
        "poly.fit(X)\n",
        "poly_ftr = poly.transform(X)\n",
        "print('변환된 2차 다항식 계수 feature:\\n', poly_ftr)"
      ],
      "execution_count": 5,
      "outputs": [
        {
          "output_type": "stream",
          "text": [
            "1차 단항식 계수 feature:\n",
            " [[0 1]\n",
            " [2 3]]\n",
            "변환된 2차 다항식 계수 feature:\n",
            " [[1. 0. 1. 0. 0. 1.]\n",
            " [1. 2. 3. 4. 6. 9.]]\n"
          ],
          "name": "stdout"
        }
      ]
    },
    {
      "cell_type": "markdown",
      "metadata": {
        "id": "YTLMOpbfDatz",
        "colab_type": "text"
      },
      "source": [
        "3차 다항식 결정값을 구하는 함수 생성. 회귀식은 $결정값y = 1+2x_1+3{x_1}^2+4{x_2}^3$"
      ]
    },
    {
      "cell_type": "code",
      "metadata": {
        "id": "_2e8FZ4MD33F",
        "colab_type": "code",
        "colab": {
          "base_uri": "https://localhost:8080/",
          "height": 215
        },
        "outputId": "1088ad7f-a762-4859-e6e2-02d7aacadfd1"
      },
      "source": [
        "def polynomial_func(X):\n",
        "  y = 1 + 2*X[:,0] + 3*X[:,0]**2 + 4*X[:,1]**3\n",
        "  return y\n",
        "\n",
        "X = np.arange(0, 4).reshape(2, 2)\n",
        "print('1차 단항식 계수 feature:\\n', X)\n",
        "y = polynomial_func(X)\n",
        "print('2차 다항식 결정값:\\n', y)\n",
        "\n",
        "# 3차 다항식 변환\n",
        "poly_ftr = PolynomialFeatures(degree=3).fit_transform(X)\n",
        "print('3차 다항식 계수 feature:\\n', poly_ftr)\n",
        "\n",
        "# Linear Regression에 3차 다항식 계수 feature와 3차 다항식 결정 값으로 학습 후 회귀 계수 확인\n",
        "model = LinearRegression()\n",
        "model.fit(poly_ftr, y)\n",
        "print('Polynomial 회귀 계수\\n', np.round(model.coef_, 2))\n",
        "print('Polynomial 회귀 shape:', model.coef_.shape)"
      ],
      "execution_count": 9,
      "outputs": [
        {
          "output_type": "stream",
          "text": [
            "1차 단항식 계수 feature:\n",
            " [[0 1]\n",
            " [2 3]]\n",
            "2차 다항식 결정값:\n",
            " [  5 125]\n",
            "3차 다항식 계수 feature:\n",
            " [[ 1.  0.  1.  0.  0.  1.  0.  0.  0.  1.]\n",
            " [ 1.  2.  3.  4.  6.  9.  8. 12. 18. 27.]]\n",
            "Polynomial 회귀 계수\n",
            " [0.   0.18 0.18 0.36 0.54 0.72 0.72 1.08 1.62 2.34]\n",
            "Polynomial 회귀 shape: (10,)\n"
          ],
          "name": "stdout"
        }
      ]
    },
    {
      "cell_type": "code",
      "metadata": {
        "id": "-UCBnNIYBXAG",
        "colab_type": "code",
        "colab": {
          "base_uri": "https://localhost:8080/",
          "height": 125
        },
        "outputId": "42e7ea80-5dce-4b1f-d834-76e5dd250e82"
      },
      "source": [
        "def polynomial_func(X):\n",
        "  y = 1 + 2*X + X**2 + X**3\n",
        "  return y\n",
        "\n",
        "X = np.arange(4).reshape(2,2)\n",
        "print('1차 단항식 계수 feature:\\n', X)\n",
        "y = polynomial_func(X)\n",
        "print('3차 다항식 결정값:\\n', y)"
      ],
      "execution_count": 6,
      "outputs": [
        {
          "output_type": "stream",
          "text": [
            "1차 단항식 계수 feature:\n",
            " [[0 1]\n",
            " [2 3]]\n",
            "3차 다항식 결정값:\n",
            " [[ 1  5]\n",
            " [17 43]]\n"
          ],
          "name": "stdout"
        }
      ]
    },
    {
      "cell_type": "code",
      "metadata": {
        "colab_type": "code",
        "outputId": "fdbc4911-3c20-43af-b41d-0c6cb4530efe",
        "id": "WI6-C1WyFWKq",
        "colab": {
          "base_uri": "https://localhost:8080/",
          "height": 71
        }
      },
      "source": [
        "def polynomial_func(X):\n",
        "  y = 1 + 2*X[:,0] + 3*X[:,0]**2 + 4*X[:,1]**3\n",
        "  return y\n",
        "\n",
        "# Pipeline 객체로 Streamline 하게 Polynomial Feature 변환과 Linear Regression을 연결\n",
        "model = Pipeline([('poly', PolynomialFeatures(degree=3)), # step 1.\n",
        "                  ('linear', LinearRegression())])        # step 2.\n",
        "X = np.arange(4).reshape(2, 2)\n",
        "y = polynomial_func(X)\n",
        "\n",
        "model = model.fit(X, y)\n",
        "print('Polynomial 회귀 계수\\n', np.round(model.named_steps['linear'].coef_, 2))"
      ],
      "execution_count": 0,
      "outputs": [
        {
          "output_type": "stream",
          "text": [
            "Polynomial 회귀 계수\n",
            " [[0.   0.02 0.02 0.05 0.07 0.1  0.1  0.14 0.22 0.31]\n",
            " [0.   0.06 0.06 0.11 0.17 0.23 0.23 0.34 0.51 0.74]]\n"
          ],
          "name": "stdout"
        }
      ]
    },
    {
      "cell_type": "markdown",
      "metadata": {
        "id": "2ibouxJ_F-BA",
        "colab_type": "text"
      },
      "source": [
        "다항 회귀를 이용한 보스턴 주택가격 예측"
      ]
    },
    {
      "cell_type": "code",
      "metadata": {
        "id": "lKa8DJI9CJTb",
        "colab_type": "code",
        "colab": {
          "base_uri": "https://localhost:8080/",
          "height": 89
        },
        "outputId": "637d714c-a35f-4b6c-c5a9-a145cdf91590"
      },
      "source": [
        "from sklearn.model_selection import train_test_split\n",
        "from sklearn.linear_model import LinearRegression\n",
        "from sklearn.metrics import mean_squared_error, r2_score\n",
        "from sklearn.preprocessing import PolynomialFeatures\n",
        "from sklearn.datasets import load_boston\n",
        "from sklearn.pipeline import Pipeline\n",
        "import pandas as pd\n",
        "import numpy as np\n",
        "\n",
        "boston = load_boston()\n",
        "bostonDF = pd.DataFrame(boston.data, columns = boston.feature_names)\n",
        "bostonDF['PRICE'] = boston.target\n",
        "print('Boston dataset size:', bostonDF.shape)\n",
        "\n",
        "y_target = bostonDF['PRICE']\n",
        "X_data = bostonDF.drop(['PRICE'], axis=1, inplace=False)\n",
        "\n",
        "X_train, X_test, y_train, y_test = train_test_split(X_data, y_target, test_size=0.3, random_state=156)\n",
        "\n",
        "# Pipeline을 이용하여 PolynomialFeatures 변환과 LinearRegression 적용을 순차적으로 결합.\n",
        "p_model = Pipeline([('poly', PolynomialFeatures(degree=2, include_bias=False)),\n",
        "                    ('linear', LinearRegression())])\n",
        "p_model.fit(X_train, y_train)\n",
        "y_preds = p_model.predict(X_test)\n",
        "mse = mean_squared_error(y_test, y_preds)\n",
        "rmse = np.sqrt(mse)\n",
        "\n",
        "print('MSE:{0:.3f}, RMSE:{1:.3F}'.format(mse, rmse))\n",
        "print('Variance score:{0:.3f}'.format(r2_score(y_test, y_preds)))\n",
        "\n",
        "X_train_poly = PolynomialFeatures(degree=2, include_bias=False).fit_transform(X_train, y_train)\n",
        "print('X_train_poly shape:{0} X_train shape:{1}'.format(X_train_poly.shape, X_train.shape))"
      ],
      "execution_count": 18,
      "outputs": [
        {
          "output_type": "stream",
          "text": [
            "Boston dataset size: (506, 14)\n",
            "MSE:15.556, RMSE:3.944\n",
            "Variance score:0.782\n",
            "X_train_poly shape:(354, 104) X_train shape:(354, 13)\n"
          ],
          "name": "stdout"
        }
      ]
    },
    {
      "cell_type": "markdown",
      "metadata": {
        "id": "WWZvSF-aWgtu",
        "colab_type": "text"
      },
      "source": [
        "Polynomial Regression 을 이용한 Underfitting, Overfitting 이해"
      ]
    },
    {
      "cell_type": "code",
      "metadata": {
        "id": "3-LqMFizWfoM",
        "colab_type": "code",
        "colab": {}
      },
      "source": [
        "import numpy as np\n",
        "import matplotlib.pyplot as plt\n",
        "from sklearn.pipeline import Pipeline\n",
        "from sklearn.preprocessing import PolynomialFeatures\n",
        "from sklearn.linear_model import LinearRegression\n",
        "from sklearn.model_selection import cross_val_score\n",
        "%matplotlib inline\n",
        "\n",
        "# random 값으로 구성된 X값에 대해 Cosine 변환값을 반환\n",
        "def true_fun(X):\n",
        "  return np.cos(1.5 * np.pi * X)\n",
        "\n",
        "# X는 0부터 1까지 30개의 random 값을 순서대로 sampling 한 데이터\n",
        "np.random.seed(0)\n",
        "n_samples = 30\n",
        "X = np.sort(np.random.rand(n_samples))\n",
        "\n",
        "# y 값은 cosine 기반의 true_fun() 에서 약간의 Noise 변동값을 더한 값\n",
        "y = true_fun(X) + np.random.randn(n_samples) * 0.1"
      ],
      "execution_count": 0,
      "outputs": []
    },
    {
      "cell_type": "code",
      "metadata": {
        "id": "PbxzYg5ta0Cw",
        "colab_type": "code",
        "colab": {
          "base_uri": "https://localhost:8080/",
          "height": 283
        },
        "outputId": "c2438092-46d1-42d7-db40-4db84a102f01"
      },
      "source": [
        "plt.scatter(X, y)"
      ],
      "execution_count": 24,
      "outputs": [
        {
          "output_type": "execute_result",
          "data": {
            "text/plain": [
              "<matplotlib.collections.PathCollection at 0x7fe2e0212f60>"
            ]
          },
          "metadata": {
            "tags": []
          },
          "execution_count": 24
        },
        {
          "output_type": "display_data",
          "data": {
            "image/png": "[encoded data removed]",
            "text/plain": [
              "<Figure size 432x288 with 1 Axes>"
            ]
          },
          "metadata": {
            "tags": []
          }
        }
      ]
    },
    {
      "cell_type": "code",
      "metadata": {
        "id": "EeaaZpe8XPcA",
        "colab_type": "code",
        "colab": {
          "base_uri": "https://localhost:8080/",
          "height": 564
        },
        "outputId": "f0a4d8bb-ee06-4405-c014-9d4a8ad0ac3c"
      },
      "source": [
        "plt.figure(figsize=(14, 5))\n",
        "degrees = [1, 4, 15]\n",
        "\n",
        "# 다항 회귀의 차수(degree)를 1, 4, 15로 각각 변화시키면서 비교\n",
        "for i in range(len(degrees)):\n",
        "  ax = plt.subplot(1, len(degrees), i+1)\n",
        "  plt.setp(ax, xticks=(), yticks=())\n",
        "\n",
        "  # 개별 degree별로 Polynomial 변환\n",
        "  polynomial_features = PolynomialFeatures(degree=degrees[i], include_bias=False)\n",
        "  linear_regression = LinearRegression()\n",
        "  pipeline = Pipeline([('polynomial_features', polynomial_features), \n",
        "                       ('linear_regression', linear_regression)])\n",
        "  pipeline.fit(X.reshape(-1, 1), y)\n",
        "\n",
        "  # 교차 검증으로 다항 회귀 평가\n",
        "  scores = cross_val_score(pipeline, X.reshape(-1, 1), y, scoring='neg_mean_squared_error', cv=10)\n",
        "  coefficients = pipeline.named_steps['linear_regression'].coef_\n",
        "  print('\\n Degree {0} 회귀 계수는 {1} 입니다.'.format(degrees[i], np.round(coefficients), 2))\n",
        "  print('Degree {0} MSE는 {1:.2f}입니다.'.format(degrees[i], -1 * np.mean(scores)))\n",
        "\n",
        "  # 0부터 1까지 테스트 데이터 세트를 100개로 나눠 예측을 수행함\n",
        "  # 테스트 데이터 세트에 회귀 예측을 수행하고 예측 곡선과 실제 곡선을 그려서 비교\n",
        "  X_test = np.linspace(0, 1, 100)\n",
        "  # 예측값 곡선\n",
        "  plt.plot(X_test, pipeline.predict(X_test[:, np.newaxis]), label='Model')\n",
        "  # 실제값 곡선\n",
        "  plt.plot(X_test, true_fun(X_test), '--', label='True function')\n",
        "  plt.scatter(X, y, edgecolor='b', s=20, label='Samples')\n",
        "\n",
        "  plt.xlabel('x'); plt.ylabel('y'); plt.xlim((0, 1)); plt.ylim((-2, 2)); plt.legend(loc='best')\n",
        "  plt.title('Degree {}\\n MSE = {:.2e}(+/- {:.2e})'.format(degrees[i], -scores.mean(), scores.std()))"
      ],
      "execution_count": 23,
      "outputs": [
        {
          "output_type": "stream",
          "text": [
            "\n",
            " Degree 1 회귀 계수는 [-2.] 입니다.\n",
            "Degree 1 MSE는 0.41입니다.\n",
            "\n",
            " Degree 4 회귀 계수는 [  0. -18.  24.  -7.] 입니다.\n",
            "Degree 4 MSE는 0.04입니다.\n",
            "\n",
            " Degree 15 회귀 계수는 [-2.98300000e+03  1.03899000e+05 -1.87415100e+06  2.03715130e+07\n",
            " -1.44872551e+08  7.09311979e+08 -2.47064676e+09  6.24558367e+09\n",
            " -1.15676035e+10  1.56894317e+10 -1.54005437e+10  1.06456871e+10\n",
            " -4.91375763e+09  1.35919168e+09 -1.70380199e+08] 입니다.\n",
            "Degree 15 MSE는 180526263.32입니다.\n"
          ],
          "name": "stdout"
        },
        {
          "output_type": "display_data",
          "data": {
            "image/png": "[encoded data removed]",
            "text/plain": [
              "<Figure size 1008x360 with 3 Axes>"
            ]
          },
          "metadata": {
            "tags": []
          }
        }
      ]
    },
    {
      "cell_type": "markdown",
      "metadata": {
        "id": "bTkTUKY8b07t",
        "colab_type": "text"
      },
      "source": [
        "편향-분산 트레이드 오프(Bias-Variance Trade off)\n",
        "- 편향이 높으면 분산이 낮아지고, 분산이 높으면 편향이 낮아짐\n",
        "  - Underfit : High Bias - Low Variance\n",
        "  - Trade off- fit : Medium Bias - Medium Variance\n",
        "  - Overfit : Low Bias - High variance"
      ]
    }
  ]
}