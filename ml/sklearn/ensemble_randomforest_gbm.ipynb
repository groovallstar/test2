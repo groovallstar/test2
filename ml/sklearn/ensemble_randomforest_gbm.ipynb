{
  "nbformat": 4,
  "nbformat_minor": 0,
  "metadata": {
    "colab": {
      "name": "ensemble_randomforest_gbm.ipynb",
      "provenance": [],
      "collapsed_sections": []
    },
    "kernelspec": {
      "name": "python3",
      "display_name": "Python 3"
    }
  },
  "cells": [
    {
      "cell_type": "markdown",
      "metadata": {
        "id": "ZG3zs440DdMf",
        "colab_type": "text"
      },
      "source": [
        "앙상블 학습\n",
        "- Ensemble Learning 을 통한 분류는 여러 개의 Classifier를 생성하고, 그 예측을 결합함으로써 보다 정확한 최종 예측을 도출하는 기법\n",
        "- 어려운 문제의 결론을 내기 위해 여러 명의 전문가로 위원회를 구성해 다양한 의견을 수렴하고 결정하듯이 앙상블 학습의 목표는 다양한 분류기의 예측 결과를 결합함으로써 단일 분류기보다 신뢰성이 높은 예측값을 얻는 것\n",
        "- 유형\n",
        "  - Voting, Bagging, Boosting, Stacking\n",
        "- 대표적 배깅 : Random Forest\n",
        "- 부스팅 : 에이다 부스팅, 그래디언트 부스팅, XGBoost, LightGBM\n",
        "- 정형 데이터 분류나 회귀 : GBM 부스팅 계열의 앙상블\n",
        "- 앙상블 특징\n",
        "  - 단일 모델의 약점을 다수의 모델들을 결합하여 보완\n",
        "  - 성능이 떨어지더라도 서로 다른 유형의 모델을 섞는 것이 오히려 전체 성능에 도움이 됨\n",
        "  - 랜덤 포레스트 및 부스팅 알고리즘들은 모두 결정 트리 알고리즘을 기반 알고리즘으로 적용함\n",
        "  - 단점인 과적합을 수십~수천개의 많은 분류기를 결합해 보완하고 장점인 직관적인 분류 기준은 강화됨"
      ]
    },
    {
      "cell_type": "markdown",
      "metadata": {
        "id": "OBJtgPeWF255",
        "colab_type": "text"
      },
      "source": [
        "- 보팅과 배깅은 여러 개의 분류기가 투표를 통해 최종 예측 결과를 결정하는 방식\n",
        "- 보팅은 서로 다른 알고리즘을 가진 분류기를 결합, 배깅은 각각의 분류기가 모두 같은 유형의 알고리즘 기반, 데이터 샘플링을 서로 다르게 가져가면서 학습을 수행해 보팅을 수행하는 것임"
      ]
    },
    {
      "cell_type": "code",
      "metadata": {
        "id": "mI94XYhIDbLB",
        "colab_type": "code",
        "outputId": "689886f5-eb9f-4b8d-caa0-7db8bcab6251",
        "colab": {
          "base_uri": "https://localhost:8080/",
          "height": 198
        }
      },
      "source": [
        "import pandas as pd\n",
        "\n",
        "from sklearn.ensemble import VotingClassifier\n",
        "from sklearn.linear_model import LogisticRegression\n",
        "from sklearn.neighbors import KNeighborsClassifier\n",
        "from sklearn.datasets import load_breast_cancer\n",
        "from sklearn.model_selection import train_test_split\n",
        "from sklearn.metrics import accuracy_score\n",
        "\n",
        "# 위스콘신 유방암 데이터 로드\n",
        "cancer = load_breast_cancer()\n",
        "\n",
        "data_df = pd.DataFrame(cancer.data, columns=cancer.feature_names)\n",
        "data_df.head(3)"
      ],
      "execution_count": 1,
      "outputs": [
        {
          "output_type": "execute_result",
          "data": {
            "text/html": [
              "<div>\n",
              "<style scoped>\n",
              "    .dataframe tbody tr th:only-of-type {\n",
              "        vertical-align: middle;\n",
              "    }\n",
              "\n",
              "    .dataframe tbody tr th {\n",
              "        vertical-align: top;\n",
              "    }\n",
              "\n",
              "    .dataframe thead th {\n",
              "        text-align: right;\n",
              "    }\n",
              "</style>\n",
              "<table border=\"1\" class=\"dataframe\">\n",
              "  <thead>\n",
              "    <tr style=\"text-align: right;\">\n",
              "      <th></th>\n",
              "      <th>mean radius</th>\n",
              "      <th>mean texture</th>\n",
              "      <th>mean perimeter</th>\n",
              "      <th>mean area</th>\n",
              "      <th>mean smoothness</th>\n",
              "      <th>mean compactness</th>\n",
              "      <th>mean concavity</th>\n",
              "      <th>mean concave points</th>\n",
              "      <th>mean symmetry</th>\n",
              "      <th>mean fractal dimension</th>\n",
              "      <th>radius error</th>\n",
              "      <th>texture error</th>\n",
              "      <th>perimeter error</th>\n",
              "      <th>area error</th>\n",
              "      <th>smoothness error</th>\n",
              "      <th>compactness error</th>\n",
              "      <th>concavity error</th>\n",
              "      <th>concave points error</th>\n",
              "      <th>symmetry error</th>\n",
              "      <th>fractal dimension error</th>\n",
              "      <th>worst radius</th>\n",
              "      <th>worst texture</th>\n",
              "      <th>worst perimeter</th>\n",
              "      <th>worst area</th>\n",
              "      <th>worst smoothness</th>\n",
              "      <th>worst compactness</th>\n",
              "      <th>worst concavity</th>\n",
              "      <th>worst concave points</th>\n",
              "      <th>worst symmetry</th>\n",
              "      <th>worst fractal dimension</th>\n",
              "    </tr>\n",
              "  </thead>\n",
              "  <tbody>\n",
              "    <tr>\n",
              "      <th>0</th>\n",
              "      <td>17.99</td>\n",
              "      <td>10.38</td>\n",
              "      <td>122.8</td>\n",
              "      <td>1001.0</td>\n",
              "      <td>0.11840</td>\n",
              "      <td>0.27760</td>\n",
              "      <td>0.3001</td>\n",
              "      <td>0.14710</td>\n",
              "      <td>0.2419</td>\n",
              "      <td>0.07871</td>\n",
              "      <td>1.0950</td>\n",
              "      <td>0.9053</td>\n",
              "      <td>8.589</td>\n",
              "      <td>153.40</td>\n",
              "      <td>0.006399</td>\n",
              "      <td>0.04904</td>\n",
              "      <td>0.05373</td>\n",
              "      <td>0.01587</td>\n",
              "      <td>0.03003</td>\n",
              "      <td>0.006193</td>\n",
              "      <td>25.38</td>\n",
              "      <td>17.33</td>\n",
              "      <td>184.6</td>\n",
              "      <td>2019.0</td>\n",
              "      <td>0.1622</td>\n",
              "      <td>0.6656</td>\n",
              "      <td>0.7119</td>\n",
              "      <td>0.2654</td>\n",
              "      <td>0.4601</td>\n",
              "      <td>0.11890</td>\n",
              "    </tr>\n",
              "    <tr>\n",
              "      <th>1</th>\n",
              "      <td>20.57</td>\n",
              "      <td>17.77</td>\n",
              "      <td>132.9</td>\n",
              "      <td>1326.0</td>\n",
              "      <td>0.08474</td>\n",
              "      <td>0.07864</td>\n",
              "      <td>0.0869</td>\n",
              "      <td>0.07017</td>\n",
              "      <td>0.1812</td>\n",
              "      <td>0.05667</td>\n",
              "      <td>0.5435</td>\n",
              "      <td>0.7339</td>\n",
              "      <td>3.398</td>\n",
              "      <td>74.08</td>\n",
              "      <td>0.005225</td>\n",
              "      <td>0.01308</td>\n",
              "      <td>0.01860</td>\n",
              "      <td>0.01340</td>\n",
              "      <td>0.01389</td>\n",
              "      <td>0.003532</td>\n",
              "      <td>24.99</td>\n",
              "      <td>23.41</td>\n",
              "      <td>158.8</td>\n",
              "      <td>1956.0</td>\n",
              "      <td>0.1238</td>\n",
              "      <td>0.1866</td>\n",
              "      <td>0.2416</td>\n",
              "      <td>0.1860</td>\n",
              "      <td>0.2750</td>\n",
              "      <td>0.08902</td>\n",
              "    </tr>\n",
              "    <tr>\n",
              "      <th>2</th>\n",
              "      <td>19.69</td>\n",
              "      <td>21.25</td>\n",
              "      <td>130.0</td>\n",
              "      <td>1203.0</td>\n",
              "      <td>0.10960</td>\n",
              "      <td>0.15990</td>\n",
              "      <td>0.1974</td>\n",
              "      <td>0.12790</td>\n",
              "      <td>0.2069</td>\n",
              "      <td>0.05999</td>\n",
              "      <td>0.7456</td>\n",
              "      <td>0.7869</td>\n",
              "      <td>4.585</td>\n",
              "      <td>94.03</td>\n",
              "      <td>0.006150</td>\n",
              "      <td>0.04006</td>\n",
              "      <td>0.03832</td>\n",
              "      <td>0.02058</td>\n",
              "      <td>0.02250</td>\n",
              "      <td>0.004571</td>\n",
              "      <td>23.57</td>\n",
              "      <td>25.53</td>\n",
              "      <td>152.5</td>\n",
              "      <td>1709.0</td>\n",
              "      <td>0.1444</td>\n",
              "      <td>0.4245</td>\n",
              "      <td>0.4504</td>\n",
              "      <td>0.2430</td>\n",
              "      <td>0.3613</td>\n",
              "      <td>0.08758</td>\n",
              "    </tr>\n",
              "  </tbody>\n",
              "</table>\n",
              "</div>"
            ],
            "text/plain": [
              "   mean radius  mean texture  ...  worst symmetry  worst fractal dimension\n",
              "0        17.99         10.38  ...          0.4601                  0.11890\n",
              "1        20.57         17.77  ...          0.2750                  0.08902\n",
              "2        19.69         21.25  ...          0.3613                  0.08758\n",
              "\n",
              "[3 rows x 30 columns]"
            ]
          },
          "metadata": {
            "tags": []
          },
          "execution_count": 1
        }
      ]
    },
    {
      "cell_type": "code",
      "metadata": {
        "id": "zUKvCfGDHvKb",
        "colab_type": "code",
        "outputId": "6b4dd5de-40fc-4a54-d87b-78d756f66546",
        "colab": {
          "base_uri": "https://localhost:8080/",
          "height": 375
        }
      },
      "source": [
        "# VotingClassifier로 개별모델은 로지스틱 회귀와 KNN을 보팅방식으로 결합하고 성능 비교\n",
        "lr_clf = LogisticRegression()\n",
        "knn_clf = KNeighborsClassifier(n_neighbors=8)\n",
        "\n",
        "# 개별 모델을 소프트 보팅 기반의 앙상블 모델로 구현한 분류기\n",
        "vo_clf = VotingClassifier(estimators=[('LR', lr_clf), ('KNN', knn_clf)], voting='soft')\n",
        "\n",
        "X_train, X_test, y_train, y_test = train_test_split(cancer.data, cancer.target, test_size=0.2, random_state=156)\n",
        "\n",
        "# VotingClassifier 학습/예측/평가\n",
        "vo_clf.fit(X_train, y_train)\n",
        "pred = vo_clf.predict(X_test)\n",
        "print('Voting 분류기 정확도: {0:.4f}'.format(accuracy_score(y_test, pred)))\n",
        "\n",
        "# 개별 모델의 학습/예측/평가\n",
        "classifiers = [lr_clf, knn_clf]\n",
        "for classifier in classifiers:\n",
        "  classifier.fit(X_train, y_train)\n",
        "  pred = classifier.predict(X_test)\n",
        "  class_name = classifier.__class__.__name__\n",
        "  print('{0} 정확도: {1:.4f}'.format(class_name, accuracy_score(y_test, pred)))"
      ],
      "execution_count": 2,
      "outputs": [
        {
          "output_type": "stream",
          "text": [
            "Voting 분류기 정확도: 0.9474\n",
            "LogisticRegression 정확도: 0.9386\n",
            "KNeighborsClassifier 정확도: 0.9386\n"
          ],
          "name": "stdout"
        },
        {
          "output_type": "stream",
          "text": [
            "/usr/local/lib/python3.6/dist-packages/sklearn/linear_model/_logistic.py:940: ConvergenceWarning: lbfgs failed to converge (status=1):\n",
            "STOP: TOTAL NO. of ITERATIONS REACHED LIMIT.\n",
            "\n",
            "Increase the number of iterations (max_iter) or scale the data as shown in:\n",
            "    https://scikit-learn.org/stable/modules/preprocessing.html\n",
            "Please also refer to the documentation for alternative solver options:\n",
            "    https://scikit-learn.org/stable/modules/linear_model.html#logistic-regression\n",
            "  extra_warning_msg=_LOGISTIC_SOLVER_CONVERGENCE_MSG)\n",
            "/usr/local/lib/python3.6/dist-packages/sklearn/linear_model/_logistic.py:940: ConvergenceWarning: lbfgs failed to converge (status=1):\n",
            "STOP: TOTAL NO. of ITERATIONS REACHED LIMIT.\n",
            "\n",
            "Increase the number of iterations (max_iter) or scale the data as shown in:\n",
            "    https://scikit-learn.org/stable/modules/preprocessing.html\n",
            "Please also refer to the documentation for alternative solver options:\n",
            "    https://scikit-learn.org/stable/modules/linear_model.html#logistic-regression\n",
            "  extra_warning_msg=_LOGISTIC_SOLVER_CONVERGENCE_MSG)\n"
          ],
          "name": "stderr"
        }
      ]
    },
    {
      "cell_type": "markdown",
      "metadata": {
        "id": "1oFkdeZpJ56r",
        "colab_type": "text"
      },
      "source": [
        "Bagging - Random Forest\n",
        "- 여러 개의 결정 트리 분류기가 전체 데이터에서 배깅 방식으로 각자의 데이터를 샘플링해 개별적으로 학습을 수행한 뒤 최종적으로 모든 분류기가 보팅을 통해 예측 결정\n",
        "부트스트래핑 분할\n",
        "- 개별적인 분류기의 기반 알고리즘은 결정 트리이지만 개별 트리가 학습하는 데이터 세트는 전체 데이터에서 일부가 중첩되게 샘플링된 데이터 세트. 여러 개의 데이터 세트를 중첩되게 분리하는 것을 부트스트래핑(bootstrapping) 분할 방식이라고 함\n",
        "(배깅(Bagging)이 bootstrap aggregating의 줄임말)\n",
        "- 원본 데이터 건수가 10개인 학습 데이터 세트에 랜덤 포레스트를 3개의 결정 트리 기반으로 학습 하려고 n_estimators=3으로 하이퍼 파라미터를 부여하면 3개의 데이터 서브세트가 만들어짐\n",
        "- RandomForestClassifier 하이퍼 파라미터\n",
        "  - n_estimators : 결정 트리의 개수. default=10\n",
        "  - max_features : 결정 트리의 max_features 와 동일. default=auto. 'sqrt'와 같음. 랜덤 포레스트의 트리를 분할하는 피처를 참조할 때 전체 피처가 아니라 sqrt(전체 피처 개수) 만큼 참조\n",
        "  - max_depth, min_samples_leaf : 결정 트리에서 과적합 개선하기 위해 사용되는 파라미터도 동일 적용"
      ]
    },
    {
      "cell_type": "code",
      "metadata": {
        "id": "hHnujqWERoTZ",
        "colab_type": "code",
        "colab": {}
      },
      "source": [
        "!pip install -U -q PyDrive\n",
        "from pydrive.auth import GoogleAuth\n",
        "from pydrive.drive import GoogleDrive\n",
        "from google.colab import auth\n",
        "from oauth2client.client import GoogleCredentials \n",
        "\n",
        "# 1. Authenticate and create the PyDrive client.\n",
        "auth.authenticate_user()\n",
        "gauth = GoogleAuth()\n",
        "gauth.credentials = GoogleCredentials.get_application_default()\n",
        "drive = GoogleDrive(gauth)\n",
        "file_id = '14LoA41ooTFHpQ4ApQgX9DDoCAMYjQwuV' # url에서 file id만 copy/paste\n",
        "downloaded = drive.CreateFile({'id': file_id})\n",
        "downloaded.GetContentFile('features.txt')\n",
        "\n",
        "file_id = '15l8T6S_zl2eGQ4wpk3O_IAraQNbEweqq'\n",
        "downloaded = drive.CreateFile({'id': file_id})\n",
        "downloaded.GetContentFile('X_train.txt')\n",
        "\n",
        "file_id = '1_oSZJCT-JeXDuI50Qgaw8WeI64ARetRt'\n",
        "downloaded = drive.CreateFile({'id': file_id})\n",
        "downloaded.GetContentFile('X_test.txt')\n",
        "\n",
        "file_id = '1Brie2VEVhzvzk3LS7piksHzAqh_iaXX_'\n",
        "downloaded = drive.CreateFile({'id': file_id})\n",
        "downloaded.GetContentFile('y_train.txt')\n",
        "\n",
        "file_id = '1vjxC8PCXNCp-i7dd6iCenpGPlULPBYLq'\n",
        "downloaded = drive.CreateFile({'id': file_id})\n",
        "downloaded.GetContentFile('y_test.txt')"
      ],
      "execution_count": 0,
      "outputs": []
    },
    {
      "cell_type": "code",
      "metadata": {
        "id": "YsiTGPjfMTkA",
        "colab_type": "code",
        "colab": {}
      },
      "source": [
        "import pandas as pd\n",
        "\n",
        "def get_new_feature_name_df(old_feature_name_df):\n",
        "  feature_dup_df = pd.DataFrame(data=old_feature_name_df.groupby('column_name').cumcount(), columns=['dup_cnt'])\n",
        "  feature_dup_df = feature_dup_df.reset_index()\n",
        "  new_feature_name_df = pd.merge(old_feature_name_df.reset_index(), feature_dup_df, how='outer')\n",
        "  new_feature_name_df['column_name'] = new_feature_name_df[['column_name', 'dup_cnt']].apply(\n",
        "      lambda x : x[0]+'_'+str(x[1]) if x[1] > 0 else x[0], axis=1)\n",
        "  new_feature_name_df = new_feature_name_df.drop(['index'], axis=1)\n",
        "  return new_feature_name_df"
      ],
      "execution_count": 0,
      "outputs": []
    },
    {
      "cell_type": "code",
      "metadata": {
        "id": "RQVm3djiNXci",
        "colab_type": "code",
        "colab": {}
      },
      "source": [
        "def get_human_dataset():\n",
        "\n",
        "  # 각 데이터 파일들은 공백으로 분리되어 있으므로 read_csv에서 공백문자를 sep으로 할당.\n",
        "  feature_name_df = pd.read_csv('features.txt', sep='\\s+', header=None, names=['column_index', 'column_name'])\n",
        "  # 중복된 feature 명을 새롭게 수정하는 get_new_feature_name_df()를 이용하여 새로운 feature명 DataFrame 생성.\n",
        "  new_feature_name_df = get_new_feature_name_df(feature_name_df)\n",
        "  # DataFrame에 피처명을 컬럼으로 부여하기 위해 리스트 객체로 다시 변환\n",
        "  feature_name = new_feature_name_df.iloc[:, 1].values.tolist()\n",
        "\n",
        "  # 학습 피처 데이터 셋과 테스트 피처 데이터를 DataFrame으로 로딩. 컬럼명은 feature_name 적용\n",
        "  X_train = pd.read_csv('X_train.txt',sep='\\s+', names=feature_name)\n",
        "  X_test = pd.read_csv('X_test.txt',sep='\\s+', names=feature_name)\n",
        "\n",
        "  # 학습 레이블과 테스트 레이블 데이터를 DataFrame으로 로딩하고 컬럼명은 action으로 부여\n",
        "  y_train = pd.read_csv('y_train.txt', sep='\\s+', header=None, names=['action'])\n",
        "  y_test = pd.read_csv('y_test.txt', sep='\\s+', header=None, names=['action'])\n",
        "\n",
        "  # 로드된 학습/테스트용 DataFrame을 모두 반환\n",
        "  return X_train, X_test, y_train, y_test\n",
        "\n",
        "X_train, X_test, y_train, y_test = get_human_dataset()"
      ],
      "execution_count": 0,
      "outputs": []
    },
    {
      "cell_type": "markdown",
      "metadata": {
        "id": "9n4TtCtCOOV1",
        "colab_type": "text"
      },
      "source": [
        "학습/테스트 데이터로 분리하고 랜덤 포레스트로 학습/예측/평가"
      ]
    },
    {
      "cell_type": "code",
      "metadata": {
        "id": "5LtggvxkOS2N",
        "colab_type": "code",
        "outputId": "be9da2dd-0f4c-4453-b660-bc1d17df774e",
        "colab": {
          "base_uri": "https://localhost:8080/",
          "height": 36
        }
      },
      "source": [
        "from sklearn.ensemble import RandomForestClassifier\n",
        "from sklearn.metrics import accuracy_score\n",
        "import pandas as pd\n",
        "import warnings\n",
        "warnings.filterwarnings('ignore')\n",
        "\n",
        "# 결정 트리에서 사용한 get_human_dataset()을 이용해 학습/테스트용 DataFrame 반환\n",
        "X_train, X_test, y_train, y_test = get_human_dataset()\n",
        "\n",
        "# 랜덤 포레스트 학습 및 별도의 테스트 셋으로 예측 성능 평가\n",
        "rf_clf = RandomForestClassifier(random_state=0)\n",
        "rf_clf.fit(X_train, y_train)\n",
        "pred = rf_clf.predict(X_test)\n",
        "accuracy = accuracy_score(y_test, pred)\n",
        "print('랜덤 포레스트 정확도:{0:.4f}'.format(accuracy))"
      ],
      "execution_count": 6,
      "outputs": [
        {
          "output_type": "stream",
          "text": [
            "랜덤 포레스트 정확도:0.9253\n"
          ],
          "name": "stdout"
        }
      ]
    },
    {
      "cell_type": "markdown",
      "metadata": {
        "id": "wSrZzIocRRmd",
        "colab_type": "text"
      },
      "source": [
        "GridSearchCV 로 교차검증 및 하이퍼 파라미터 튜닝"
      ]
    },
    {
      "cell_type": "code",
      "metadata": {
        "id": "3LZDo6CJRTQb",
        "colab_type": "code",
        "outputId": "64c8b373-2bb1-4804-817b-855bade136f1",
        "colab": {
          "base_uri": "https://localhost:8080/",
          "height": 74
        }
      },
      "source": [
        "from sklearn.model_selection import GridSearchCV\n",
        "\n",
        "params = {\n",
        "    'n_estimators':[100],\n",
        "    'max_depth' : [6, 8, 10, 12], \n",
        "    'min_samples_leaf' : [8, 12, 18 ],\n",
        "    'min_samples_split' : [8, 16, 20]\n",
        "}\n",
        "# RandomForestClassifier 객체 생성 후 GridSearchCV 수행\n",
        "rf_clf = RandomForestClassifier(random_state=0, n_jobs=-1)\n",
        "grid_cv = GridSearchCV(rf_clf , param_grid=params , cv=2, n_jobs=-1 )\n",
        "grid_cv.fit(X_train , y_train)\n",
        "\n",
        "print('최적 하이퍼 파라미터:\\n', grid_cv.best_params_)\n",
        "print('최고 예측 정확도: {0:.4f}'.format(grid_cv.best_score_))"
      ],
      "execution_count": 7,
      "outputs": [
        {
          "output_type": "stream",
          "text": [
            "최적 하이퍼 파라미터:\n",
            " {'max_depth': 10, 'min_samples_leaf': 8, 'min_samples_split': 8, 'n_estimators': 100}\n",
            "최고 예측 정확도: 0.9180\n"
          ],
          "name": "stdout"
        }
      ]
    },
    {
      "cell_type": "code",
      "metadata": {
        "id": "ryfQHNqLRtKY",
        "colab_type": "code",
        "outputId": "c4de9b8a-a6b6-4d7a-94c1-80b8f5d61e53",
        "colab": {
          "base_uri": "https://localhost:8080/",
          "height": 36
        }
      },
      "source": [
        "rf_clf1 = RandomForestClassifier(n_estimators=300, max_depth=10, min_samples_leaf=8,\\\n",
        "                                 min_samples_split=8, random_state=0)\n",
        "rf_clf1.fit(X_train, y_train)\n",
        "pred = rf_clf1.predict(X_test)\n",
        "print('예측 정확도: {0:.4f}'.format(accuracy_score(y_test, pred)))"
      ],
      "execution_count": 8,
      "outputs": [
        {
          "output_type": "stream",
          "text": [
            "예측 정확도: 0.9165\n"
          ],
          "name": "stdout"
        }
      ]
    },
    {
      "cell_type": "code",
      "metadata": {
        "id": "WC4iMm9kSDiC",
        "colab_type": "code",
        "outputId": "2bede0c3-18d0-465c-cd02-2a698fd95811",
        "colab": {
          "base_uri": "https://localhost:8080/",
          "height": 390
        }
      },
      "source": [
        "import matplotlib.pyplot as plt\n",
        "import seaborn as sns\n",
        "%matplotlib inline\n",
        "\n",
        "ftr_importances_values = rf_clf1.feature_importances_\n",
        "ftr_importances = pd.Series(ftr_importances_values, index=X_train.columns)\n",
        "ftr_top20 = ftr_importances.sort_values(ascending=False)[:20]\n",
        "\n",
        "plt.figure(figsize=(8, 6))\n",
        "plt.title('Feature importances Top 20')\n",
        "sns.barplot(x=ftr_top20, y=ftr_top20.index)\n",
        "plt.show()"
      ],
      "execution_count": 9,
      "outputs": [
        {
          "output_type": "display_data",
          "data": {
            "image/png": "[encoded data removed]",
            "text/plain": [
              "<Figure size 576x432 with 1 Axes>"
            ]
          },
          "metadata": {
            "tags": []
          }
        }
      ]
    },
    {
      "cell_type": "markdown",
      "metadata": {
        "id": "zfjp1Fq3MDyc",
        "colab_type": "text"
      },
      "source": [
        "부스팅(Boosting)\n",
        "- 여러 개의 약한 학습기(weak learner)를 순차적으로 학습-예측하면서 잘못 예측한 데이터에 가중치 부여를 통해 오류를 개선해 나가면서 학습하는 방식\n",
        "- 대표적 구현은 AdaBoost(Adaptive boosting)와 그래디언트 부스트가 있음"
      ]
    },
    {
      "cell_type": "markdown",
      "metadata": {
        "id": "0O0ATr0gdTlv",
        "colab_type": "text"
      },
      "source": [
        "GBM (Gradient Boost Machine)\n",
        "- 가중치 업데이트를 경사 하강법(Gradient Descent)을 이용하는 것\n",
        "- 오류 값은 (실제 값 - 예측 값). 분류의 실제 결과값을 y, 피처를 X1, X2, ... , Xn 그리고 이 피처에 기반한 예측함수를 F(x)함수라고 하면 오류식 h(x) = y - F(x)가 됨.\n",
        "- 이 오류식 h(x) = y - F(x)를 최소화 하는 방향성을 가지고 반복적으로 가중치 값을 업데이트 하는 것이 경사 하강법. 경사 하강법은 반복 수행을 통해 오류를 최소화할 수 있도록 가중치의 업데이트 값을 도출하는 기법"
      ]
    },
    {
      "cell_type": "markdown",
      "metadata": {
        "id": "4nsIdy-1eNKQ",
        "colab_type": "text"
      },
      "source": [
        "GBM의 GradientBoostingClassifier 주요 하이퍼 파라미터 및 튜닝\n",
        "- loss : 경사 하강법에서 사용할 비용 함수 지정. 기본값은 'deviance'\n",
        "- learning_rate : 학습을 진행 할 때마다 적용하는 학습률. Weak learner가 순차적으로 오류 값을 보정해 나가는데 적용하는 계수. 0~1 사이의 값 지정할 수 있으며 기본값은 0.1임. \n",
        "  - 너무 작은 값을 적용하면 업데이트 되는 값이 작아져서 최소 오류 값을 찾아 예측 성능이 높아질 가능성이 높음\n",
        "  - 많은 weak learner는 순차적인 반복이 필요해서 수행 시간이 오래 걸리고, 또 너무 작게 설정하면 모든 weak learner의 반복이 완료되도 최소 오류 값을 찾기 못할 수 있음\n",
        "  - 반대로 큰 값을 적용하면 최소 오류 값을 찾지 못하고 그냥 지나쳐 버려 예측 성능이 떨어질 가능성이 높아지지만, 빠른 수행이 가능\n",
        "- n_estimators : weak learner의 개수. 순차적으로 오류를 보정하므로 개수가 많을수록 예측 성능이 일정 수준까지는 좋아짐. 개수가 많을수록 수행 시간이 오래 걸림. 기본값 100\n",
        "- subsample : weak learner가 학습에 사용하는 데이터의 샘플링 비율. 기본값은 1이며, 이는 전체 학습 데이터를 기반으로 학습한다는 의미(0.5면 학습데이터의 50%). 과적합이 염려되는 경우는 subsample을 1보다 작은 값으로 설정함"
      ]
    },
    {
      "cell_type": "code",
      "metadata": {
        "id": "r-4UwGxyJ5mi",
        "colab_type": "code",
        "outputId": "c2298bfc-abbf-4eb6-8471-aaa4eeab12c6",
        "colab": {
          "base_uri": "https://localhost:8080/",
          "height": 55
        }
      },
      "source": [
        "from sklearn.ensemble import GradientBoostingClassifier\n",
        "import time\n",
        "import warnings\n",
        "warnings.filterwarnings('ignore')\n",
        "\n",
        "X_train, X_test, y_train, y_test = get_human_dataset()\n",
        "\n",
        "# GBM 수행 시간 측정을 위한 시작 시간 설정\n",
        "start_time = time.time()\n",
        "\n",
        "gb_clf = GradientBoostingClassifier(random_state=0)\n",
        "gb_clf.fit(X_train, y_train)\n",
        "gb_pred = gb_clf.predict(X_test)\n",
        "gb_accuracy = accuracy_score(y_test, gb_pred)\n",
        "\n",
        "print('GBM 정확도: {0:.4f}'.format(gb_accuracy))\n",
        "print('GBM 수행 시간: {0:.1f} 초'.format(time.time() - start_time)함"
      ],
      "execution_count": 0,
      "outputs": [
        {
          "output_type": "stream",
          "text": [
            "GBM 정확도: 0.9386\n",
            "GBM 수행 시간: 834.3 초\n"
          ],
          "name": "stdout"
        }
      ]
    },
    {
      "cell_type": "code",
      "metadata": {
        "id": "cH7kAnBabwlQ",
        "colab_type": "code",
        "outputId": "84ab71e0-752a-4332-bf00-1e625692d3e5",
        "colab": {
          "base_uri": "https://localhost:8080/",
          "height": 130
        }
      },
      "source": [
        "from sklearn.model_selection import GridSearchCV\n",
        "\n",
        "params = {\n",
        "    'n_estimators' : [100, 500],\n",
        "    'learning_rate' : [0.05, 0.1]\n",
        "}\n",
        "grid_cv = GridSearchCV(gb_clf, param_grid=params, cv=2, verbose=1)\n",
        "grid_cv.fit(X_train, y_train)\n",
        "print('최적 하이퍼 파라미터:\\n', grid_cv.best_params_)\n",
        "print('최고 예측 정확도:{0:.4f}'.format(grid_cv.best_score_))"
      ],
      "execution_count": 0,
      "outputs": [
        {
          "output_type": "stream",
          "text": [
            "Fitting 2 folds for each of 4 candidates, totalling 8 fits\n"
          ],
          "name": "stdout"
        },
        {
          "output_type": "stream",
          "text": [
            "[Parallel(n_jobs=1)]: Using backend SequentialBackend with 1 concurrent workers.\n",
            "[Parallel(n_jobs=1)]: Done   8 out of   8 | elapsed: 83.6min finished\n"
          ],
          "name": "stderr"
        },
        {
          "output_type": "stream",
          "text": [
            "최적 하이퍼 파라미터:\n",
            " {'learning_rate': 0.05, 'n_estimators': 500}\n",
            "최고 예측 정확도:0.9013\n"
          ],
          "name": "stdout"
        }
      ]
    },
    {
      "cell_type": "code",
      "metadata": {
        "id": "Bj2WMJk-cIk2",
        "colab_type": "code",
        "colab": {
          "base_uri": "https://localhost:8080/",
          "height": 1000
        },
        "outputId": "a4445787-0b6e-4e43-c166-d9b8761c3f49"
      },
      "source": [
        "scores_df = pd.DataFrame(grid_cv.cv_results_)\n",
        "scores_df[['params', 'mean_test_score', 'rank_test_score', 'split0_test_score', 'split1_test_score']]"
      ],
      "execution_count": 10,
      "outputs": [
        {
          "output_type": "execute_result",
          "data": {
            "text/html": [
              "<div>\n",
              "<style scoped>\n",
              "    .dataframe tbody tr th:only-of-type {\n",
              "        vertical-align: middle;\n",
              "    }\n",
              "\n",
              "    .dataframe tbody tr th {\n",
              "        vertical-align: top;\n",
              "    }\n",
              "\n",
              "    .dataframe thead th {\n",
              "        text-align: right;\n",
              "    }\n",
              "</style>\n",
              "<table border=\"1\" class=\"dataframe\">\n",
              "  <thead>\n",
              "    <tr style=\"text-align: right;\">\n",
              "      <th></th>\n",
              "      <th>params</th>\n",
              "      <th>mean_test_score</th>\n",
              "      <th>rank_test_score</th>\n",
              "      <th>split0_test_score</th>\n",
              "      <th>split1_test_score</th>\n",
              "    </tr>\n",
              "  </thead>\n",
              "  <tbody>\n",
              "    <tr>\n",
              "      <th>0</th>\n",
              "      <td>{'max_depth': 6, 'min_samples_leaf': 8, 'min_s...</td>\n",
              "      <td>0.912405</td>\n",
              "      <td>28</td>\n",
              "      <td>0.902339</td>\n",
              "      <td>0.922470</td>\n",
              "    </tr>\n",
              "    <tr>\n",
              "      <th>1</th>\n",
              "      <td>{'max_depth': 6, 'min_samples_leaf': 8, 'min_s...</td>\n",
              "      <td>0.912405</td>\n",
              "      <td>28</td>\n",
              "      <td>0.902339</td>\n",
              "      <td>0.922470</td>\n",
              "    </tr>\n",
              "    <tr>\n",
              "      <th>2</th>\n",
              "      <td>{'max_depth': 6, 'min_samples_leaf': 8, 'min_s...</td>\n",
              "      <td>0.910501</td>\n",
              "      <td>33</td>\n",
              "      <td>0.901251</td>\n",
              "      <td>0.919750</td>\n",
              "    </tr>\n",
              "    <tr>\n",
              "      <th>3</th>\n",
              "      <td>{'max_depth': 6, 'min_samples_leaf': 12, 'min_...</td>\n",
              "      <td>0.910365</td>\n",
              "      <td>34</td>\n",
              "      <td>0.897171</td>\n",
              "      <td>0.923558</td>\n",
              "    </tr>\n",
              "    <tr>\n",
              "      <th>4</th>\n",
              "      <td>{'max_depth': 6, 'min_samples_leaf': 12, 'min_...</td>\n",
              "      <td>0.910365</td>\n",
              "      <td>34</td>\n",
              "      <td>0.897171</td>\n",
              "      <td>0.923558</td>\n",
              "    </tr>\n",
              "    <tr>\n",
              "      <th>5</th>\n",
              "      <td>{'max_depth': 6, 'min_samples_leaf': 12, 'min_...</td>\n",
              "      <td>0.910365</td>\n",
              "      <td>34</td>\n",
              "      <td>0.897171</td>\n",
              "      <td>0.923558</td>\n",
              "    </tr>\n",
              "    <tr>\n",
              "      <th>6</th>\n",
              "      <td>{'max_depth': 6, 'min_samples_leaf': 18, 'min_...</td>\n",
              "      <td>0.911317</td>\n",
              "      <td>30</td>\n",
              "      <td>0.902339</td>\n",
              "      <td>0.920294</td>\n",
              "    </tr>\n",
              "    <tr>\n",
              "      <th>7</th>\n",
              "      <td>{'max_depth': 6, 'min_samples_leaf': 18, 'min_...</td>\n",
              "      <td>0.911317</td>\n",
              "      <td>30</td>\n",
              "      <td>0.902339</td>\n",
              "      <td>0.920294</td>\n",
              "    </tr>\n",
              "    <tr>\n",
              "      <th>8</th>\n",
              "      <td>{'max_depth': 6, 'min_samples_leaf': 18, 'min_...</td>\n",
              "      <td>0.911317</td>\n",
              "      <td>30</td>\n",
              "      <td>0.902339</td>\n",
              "      <td>0.920294</td>\n",
              "    </tr>\n",
              "    <tr>\n",
              "      <th>9</th>\n",
              "      <td>{'max_depth': 8, 'min_samples_leaf': 8, 'min_s...</td>\n",
              "      <td>0.914309</td>\n",
              "      <td>20</td>\n",
              "      <td>0.905060</td>\n",
              "      <td>0.923558</td>\n",
              "    </tr>\n",
              "    <tr>\n",
              "      <th>10</th>\n",
              "      <td>{'max_depth': 8, 'min_samples_leaf': 8, 'min_s...</td>\n",
              "      <td>0.914309</td>\n",
              "      <td>20</td>\n",
              "      <td>0.905060</td>\n",
              "      <td>0.923558</td>\n",
              "    </tr>\n",
              "    <tr>\n",
              "      <th>11</th>\n",
              "      <td>{'max_depth': 8, 'min_samples_leaf': 8, 'min_s...</td>\n",
              "      <td>0.914445</td>\n",
              "      <td>19</td>\n",
              "      <td>0.907236</td>\n",
              "      <td>0.921654</td>\n",
              "    </tr>\n",
              "    <tr>\n",
              "      <th>12</th>\n",
              "      <td>{'max_depth': 8, 'min_samples_leaf': 12, 'min_...</td>\n",
              "      <td>0.913901</td>\n",
              "      <td>25</td>\n",
              "      <td>0.904788</td>\n",
              "      <td>0.923014</td>\n",
              "    </tr>\n",
              "    <tr>\n",
              "      <th>13</th>\n",
              "      <td>{'max_depth': 8, 'min_samples_leaf': 12, 'min_...</td>\n",
              "      <td>0.913901</td>\n",
              "      <td>25</td>\n",
              "      <td>0.904788</td>\n",
              "      <td>0.923014</td>\n",
              "    </tr>\n",
              "    <tr>\n",
              "      <th>14</th>\n",
              "      <td>{'max_depth': 8, 'min_samples_leaf': 12, 'min_...</td>\n",
              "      <td>0.913901</td>\n",
              "      <td>25</td>\n",
              "      <td>0.904788</td>\n",
              "      <td>0.923014</td>\n",
              "    </tr>\n",
              "    <tr>\n",
              "      <th>15</th>\n",
              "      <td>{'max_depth': 8, 'min_samples_leaf': 18, 'min_...</td>\n",
              "      <td>0.915533</td>\n",
              "      <td>13</td>\n",
              "      <td>0.907508</td>\n",
              "      <td>0.923558</td>\n",
              "    </tr>\n",
              "    <tr>\n",
              "      <th>16</th>\n",
              "      <td>{'max_depth': 8, 'min_samples_leaf': 18, 'min_...</td>\n",
              "      <td>0.915533</td>\n",
              "      <td>13</td>\n",
              "      <td>0.907508</td>\n",
              "      <td>0.923558</td>\n",
              "    </tr>\n",
              "    <tr>\n",
              "      <th>17</th>\n",
              "      <td>{'max_depth': 8, 'min_samples_leaf': 18, 'min_...</td>\n",
              "      <td>0.915533</td>\n",
              "      <td>13</td>\n",
              "      <td>0.907508</td>\n",
              "      <td>0.923558</td>\n",
              "    </tr>\n",
              "    <tr>\n",
              "      <th>18</th>\n",
              "      <td>{'max_depth': 10, 'min_samples_leaf': 8, 'min_...</td>\n",
              "      <td>0.917982</td>\n",
              "      <td>1</td>\n",
              "      <td>0.913493</td>\n",
              "      <td>0.922470</td>\n",
              "    </tr>\n",
              "    <tr>\n",
              "      <th>19</th>\n",
              "      <td>{'max_depth': 10, 'min_samples_leaf': 8, 'min_...</td>\n",
              "      <td>0.917982</td>\n",
              "      <td>1</td>\n",
              "      <td>0.913493</td>\n",
              "      <td>0.922470</td>\n",
              "    </tr>\n",
              "    <tr>\n",
              "      <th>20</th>\n",
              "      <td>{'max_depth': 10, 'min_samples_leaf': 8, 'min_...</td>\n",
              "      <td>0.916893</td>\n",
              "      <td>5</td>\n",
              "      <td>0.909412</td>\n",
              "      <td>0.924374</td>\n",
              "    </tr>\n",
              "    <tr>\n",
              "      <th>21</th>\n",
              "      <td>{'max_depth': 10, 'min_samples_leaf': 12, 'min...</td>\n",
              "      <td>0.915805</td>\n",
              "      <td>10</td>\n",
              "      <td>0.908052</td>\n",
              "      <td>0.923558</td>\n",
              "    </tr>\n",
              "    <tr>\n",
              "      <th>22</th>\n",
              "      <td>{'max_depth': 10, 'min_samples_leaf': 12, 'min...</td>\n",
              "      <td>0.915805</td>\n",
              "      <td>10</td>\n",
              "      <td>0.908052</td>\n",
              "      <td>0.923558</td>\n",
              "    </tr>\n",
              "    <tr>\n",
              "      <th>23</th>\n",
              "      <td>{'max_depth': 10, 'min_samples_leaf': 12, 'min...</td>\n",
              "      <td>0.915805</td>\n",
              "      <td>10</td>\n",
              "      <td>0.908052</td>\n",
              "      <td>0.923558</td>\n",
              "    </tr>\n",
              "    <tr>\n",
              "      <th>24</th>\n",
              "      <td>{'max_depth': 10, 'min_samples_leaf': 18, 'min...</td>\n",
              "      <td>0.916077</td>\n",
              "      <td>7</td>\n",
              "      <td>0.911045</td>\n",
              "      <td>0.921110</td>\n",
              "    </tr>\n",
              "    <tr>\n",
              "      <th>25</th>\n",
              "      <td>{'max_depth': 10, 'min_samples_leaf': 18, 'min...</td>\n",
              "      <td>0.916077</td>\n",
              "      <td>7</td>\n",
              "      <td>0.911045</td>\n",
              "      <td>0.921110</td>\n",
              "    </tr>\n",
              "    <tr>\n",
              "      <th>26</th>\n",
              "      <td>{'max_depth': 10, 'min_samples_leaf': 18, 'min...</td>\n",
              "      <td>0.916077</td>\n",
              "      <td>7</td>\n",
              "      <td>0.911045</td>\n",
              "      <td>0.921110</td>\n",
              "    </tr>\n",
              "    <tr>\n",
              "      <th>27</th>\n",
              "      <td>{'max_depth': 12, 'min_samples_leaf': 8, 'min_...</td>\n",
              "      <td>0.917165</td>\n",
              "      <td>3</td>\n",
              "      <td>0.911589</td>\n",
              "      <td>0.922742</td>\n",
              "    </tr>\n",
              "    <tr>\n",
              "      <th>28</th>\n",
              "      <td>{'max_depth': 12, 'min_samples_leaf': 8, 'min_...</td>\n",
              "      <td>0.917165</td>\n",
              "      <td>3</td>\n",
              "      <td>0.911589</td>\n",
              "      <td>0.922742</td>\n",
              "    </tr>\n",
              "    <tr>\n",
              "      <th>29</th>\n",
              "      <td>{'max_depth': 12, 'min_samples_leaf': 8, 'min_...</td>\n",
              "      <td>0.916349</td>\n",
              "      <td>6</td>\n",
              "      <td>0.910229</td>\n",
              "      <td>0.922470</td>\n",
              "    </tr>\n",
              "    <tr>\n",
              "      <th>30</th>\n",
              "      <td>{'max_depth': 12, 'min_samples_leaf': 12, 'min...</td>\n",
              "      <td>0.914037</td>\n",
              "      <td>22</td>\n",
              "      <td>0.906692</td>\n",
              "      <td>0.921382</td>\n",
              "    </tr>\n",
              "    <tr>\n",
              "      <th>31</th>\n",
              "      <td>{'max_depth': 12, 'min_samples_leaf': 12, 'min...</td>\n",
              "      <td>0.914037</td>\n",
              "      <td>22</td>\n",
              "      <td>0.906692</td>\n",
              "      <td>0.921382</td>\n",
              "    </tr>\n",
              "    <tr>\n",
              "      <th>32</th>\n",
              "      <td>{'max_depth': 12, 'min_samples_leaf': 12, 'min...</td>\n",
              "      <td>0.914037</td>\n",
              "      <td>22</td>\n",
              "      <td>0.906692</td>\n",
              "      <td>0.921382</td>\n",
              "    </tr>\n",
              "    <tr>\n",
              "      <th>33</th>\n",
              "      <td>{'max_depth': 12, 'min_samples_leaf': 18, 'min...</td>\n",
              "      <td>0.915261</td>\n",
              "      <td>16</td>\n",
              "      <td>0.911317</td>\n",
              "      <td>0.919206</td>\n",
              "    </tr>\n",
              "    <tr>\n",
              "      <th>34</th>\n",
              "      <td>{'max_depth': 12, 'min_samples_leaf': 18, 'min...</td>\n",
              "      <td>0.915261</td>\n",
              "      <td>16</td>\n",
              "      <td>0.911317</td>\n",
              "      <td>0.919206</td>\n",
              "    </tr>\n",
              "    <tr>\n",
              "      <th>35</th>\n",
              "      <td>{'max_depth': 12, 'min_samples_leaf': 18, 'min...</td>\n",
              "      <td>0.915261</td>\n",
              "      <td>16</td>\n",
              "      <td>0.911317</td>\n",
              "      <td>0.919206</td>\n",
              "    </tr>\n",
              "  </tbody>\n",
              "</table>\n",
              "</div>"
            ],
            "text/plain": [
              "                                               params  ...  split1_test_score\n",
              "0   {'max_depth': 6, 'min_samples_leaf': 8, 'min_s...  ...           0.922470\n",
              "1   {'max_depth': 6, 'min_samples_leaf': 8, 'min_s...  ...           0.922470\n",
              "2   {'max_depth': 6, 'min_samples_leaf': 8, 'min_s...  ...           0.919750\n",
              "3   {'max_depth': 6, 'min_samples_leaf': 12, 'min_...  ...           0.923558\n",
              "4   {'max_depth': 6, 'min_samples_leaf': 12, 'min_...  ...           0.923558\n",
              "5   {'max_depth': 6, 'min_samples_leaf': 12, 'min_...  ...           0.923558\n",
              "6   {'max_depth': 6, 'min_samples_leaf': 18, 'min_...  ...           0.920294\n",
              "7   {'max_depth': 6, 'min_samples_leaf': 18, 'min_...  ...           0.920294\n",
              "8   {'max_depth': 6, 'min_samples_leaf': 18, 'min_...  ...           0.920294\n",
              "9   {'max_depth': 8, 'min_samples_leaf': 8, 'min_s...  ...           0.923558\n",
              "10  {'max_depth': 8, 'min_samples_leaf': 8, 'min_s...  ...           0.923558\n",
              "11  {'max_depth': 8, 'min_samples_leaf': 8, 'min_s...  ...           0.921654\n",
              "12  {'max_depth': 8, 'min_samples_leaf': 12, 'min_...  ...           0.923014\n",
              "13  {'max_depth': 8, 'min_samples_leaf': 12, 'min_...  ...           0.923014\n",
              "14  {'max_depth': 8, 'min_samples_leaf': 12, 'min_...  ...           0.923014\n",
              "15  {'max_depth': 8, 'min_samples_leaf': 18, 'min_...  ...           0.923558\n",
              "16  {'max_depth': 8, 'min_samples_leaf': 18, 'min_...  ...           0.923558\n",
              "17  {'max_depth': 8, 'min_samples_leaf': 18, 'min_...  ...           0.923558\n",
              "18  {'max_depth': 10, 'min_samples_leaf': 8, 'min_...  ...           0.922470\n",
              "19  {'max_depth': 10, 'min_samples_leaf': 8, 'min_...  ...           0.922470\n",
              "20  {'max_depth': 10, 'min_samples_leaf': 8, 'min_...  ...           0.924374\n",
              "21  {'max_depth': 10, 'min_samples_leaf': 12, 'min...  ...           0.923558\n",
              "22  {'max_depth': 10, 'min_samples_leaf': 12, 'min...  ...           0.923558\n",
              "23  {'max_depth': 10, 'min_samples_leaf': 12, 'min...  ...           0.923558\n",
              "24  {'max_depth': 10, 'min_samples_leaf': 18, 'min...  ...           0.921110\n",
              "25  {'max_depth': 10, 'min_samples_leaf': 18, 'min...  ...           0.921110\n",
              "26  {'max_depth': 10, 'min_samples_leaf': 18, 'min...  ...           0.921110\n",
              "27  {'max_depth': 12, 'min_samples_leaf': 8, 'min_...  ...           0.922742\n",
              "28  {'max_depth': 12, 'min_samples_leaf': 8, 'min_...  ...           0.922742\n",
              "29  {'max_depth': 12, 'min_samples_leaf': 8, 'min_...  ...           0.922470\n",
              "30  {'max_depth': 12, 'min_samples_leaf': 12, 'min...  ...           0.921382\n",
              "31  {'max_depth': 12, 'min_samples_leaf': 12, 'min...  ...           0.921382\n",
              "32  {'max_depth': 12, 'min_samples_leaf': 12, 'min...  ...           0.921382\n",
              "33  {'max_depth': 12, 'min_samples_leaf': 18, 'min...  ...           0.919206\n",
              "34  {'max_depth': 12, 'min_samples_leaf': 18, 'min...  ...           0.919206\n",
              "35  {'max_depth': 12, 'min_samples_leaf': 18, 'min...  ...           0.919206\n",
              "\n",
              "[36 rows x 5 columns]"
            ]
          },
          "metadata": {
            "tags": []
          },
          "execution_count": 10
        }
      ]
    },
    {
      "cell_type": "code",
      "metadata": {
        "id": "mlvOJI3DcS3i",
        "colab_type": "code",
        "colab": {
          "base_uri": "https://localhost:8080/",
          "height": 36
        },
        "outputId": "25cd9325-b6c9-4b63-cbaa-e612bae589e2"
      },
      "source": [
        "# GridSearchCV를 이용하여 최적으로 학습된 estimator로 predict 수행\n",
        "gb_pred = grid_cv.best_estimator_.predict(X_test)\n",
        "gb_accuracy = accuracy_score(y_test, gb_pred)\n",
        "print('GBM 정확도: {0:.4f}'.format(gb_accuracy))"
      ],
      "execution_count": 11,
      "outputs": [
        {
          "output_type": "stream",
          "text": [
            "GBM 정확도: 0.9196\n"
          ],
          "name": "stdout"
        }
      ]
    }
  ]
}