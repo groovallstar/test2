{
  "nbformat": 4,
  "nbformat_minor": 0,
  "metadata": {
    "colab": {
      "name": "Stacking.ipynb",
      "provenance": [],
      "collapsed_sections": []
    },
    "kernelspec": {
      "name": "python3",
      "display_name": "Python 3"
    }
  },
  "cells": [
    {
      "cell_type": "markdown",
      "metadata": {
        "id": "6aHAHuVzawWS",
        "colab_type": "text"
      },
      "source": [
        "Basic Stacking Model - Diagram\n",
        "- 기반 모델들이 예측한 값들을 Stacking 형태로 만들어서 메타 모델이 이를 학습하고 예측하는 모델\n",
        "- 개별 모델의 예측 결과를 (model x 갯수) 형태로 다시 쌓아 학습/예측하는 모델"
      ]
    },
    {
      "cell_type": "code",
      "metadata": {
        "id": "30ZTJarjadr4",
        "colab_type": "code",
        "colab": {}
      },
      "source": [
        "import numpy as np\n",
        "from sklearn.neighbors import KNeighborsClassifier\n",
        "from sklearn.ensemble import RandomForestClassifier\n",
        "from sklearn.ensemble import AdaBoostClassifier\n",
        "from sklearn.tree import DecisionTreeClassifier\n",
        "from sklearn.linear_model import LogisticRegression\n",
        "\n",
        "from sklearn.datasets import load_breast_cancer\n",
        "from sklearn.model_selection import train_test_split\n",
        "from sklearn.metrics import accuracy_score\n",
        "\n",
        "cancer_data = load_breast_cancer()\n",
        "\n",
        "X_data = cancer_data.data\n",
        "y_label = cancer_data.target\n",
        "\n",
        "X_train, X_test, y_train, y_test = train_test_split(X_data, y_label, test_size=0.2, random_state=0)"
      ],
      "execution_count": 0,
      "outputs": []
    },
    {
      "cell_type": "code",
      "metadata": {
        "id": "ItJArjGicMh2",
        "colab_type": "code",
        "colab": {}
      },
      "source": [
        "# 개별 ML모델을 위한 Classifier 생성\n",
        "knn_clf = KNeighborsClassifier(n_neighbors=4)\n",
        "rf_clf = RandomForestClassifier(n_estimators=100, random_state=0)\n",
        "dt_clf = DecisionTreeClassifier()\n",
        "ada_clf = AdaBoostClassifier(n_estimators=100)\n",
        "\n",
        "# 최종 Stacking 모델을 위한 Classifier 생성\n",
        "lr_final = LogisticRegression(C=10)"
      ],
      "execution_count": 0,
      "outputs": []
    },
    {
      "cell_type": "code",
      "metadata": {
        "id": "jvnRcWfHcvcx",
        "colab_type": "code",
        "colab": {
          "base_uri": "https://localhost:8080/",
          "height": 53
        },
        "outputId": "cffc7164-53a3-491b-d8f9-d51b23dd1c0c"
      },
      "source": [
        "# 개별 모델 학습\n",
        "knn_clf.fit(X_train, y_train)\n",
        "rf_clf.fit(X_train, y_train)\n",
        "dt_clf.fit(X_train, y_train)\n",
        "ada_clf.fit(X_train, y_train)"
      ],
      "execution_count": 5,
      "outputs": [
        {
          "output_type": "execute_result",
          "data": {
            "text/plain": [
              "AdaBoostClassifier(algorithm='SAMME.R', base_estimator=None, learning_rate=1.0,\n",
              "                   n_estimators=100, random_state=None)"
            ]
          },
          "metadata": {
            "tags": []
          },
          "execution_count": 5
        }
      ]
    },
    {
      "cell_type": "code",
      "metadata": {
        "id": "VK0-Kagbc6g_",
        "colab_type": "code",
        "colab": {
          "base_uri": "https://localhost:8080/",
          "height": 89
        },
        "outputId": "e95c8b9a-e293-44a4-9154-071ccb0e9ee6"
      },
      "source": [
        "# 학습된 개별 모델들이 각자 반환하는 예측 데이터 셋을 생성하고 개별 모델의 정확도 측정.\n",
        "knn_pred = knn_clf.predict(X_test)\n",
        "rf_pred = rf_clf.predict(X_test)\n",
        "dt_pred = dt_clf.predict(X_test)\n",
        "ada_pred = ada_clf.predict(X_test)\n",
        "\n",
        "print('KNN 정확도:{0:.4f}'.format(accuracy_score(y_test, knn_pred)))\n",
        "print('랜덤포레스트 정확도:{0:.4f}'.format(accuracy_score(y_test, rf_pred)))\n",
        "print('결정 트리 정확도:{0:.4f}'.format(accuracy_score(y_test, dt_pred)))\n",
        "print('에이다부스트 정확도:{0:.4f}'.format(accuracy_score(y_test, ada_pred)))"
      ],
      "execution_count": 6,
      "outputs": [
        {
          "output_type": "stream",
          "text": [
            "KNN 정확도:0.9211\n",
            "랜덤포레스트 정확도:0.9649\n",
            "결정 트리 정확도:0.9035\n",
            "에이다부스트 정확도:0.9561\n"
          ],
          "name": "stdout"
        }
      ]
    },
    {
      "cell_type": "markdown",
      "metadata": {
        "id": "zvSCvMt1i-yo",
        "colab_type": "text"
      },
      "source": [
        "개별 모델의 예측 결과를 메타 모델이 학습할 수 있도록 스태킹 형태로 재 생성"
      ]
    },
    {
      "cell_type": "code",
      "metadata": {
        "id": "7BQOmuvodj3g",
        "colab_type": "code",
        "colab": {
          "base_uri": "https://localhost:8080/",
          "height": 53
        },
        "outputId": "a5c14b45-ed02-467e-d3d1-7d0b2fe1197b"
      },
      "source": [
        "pred = np.array([knn_pred, rf_pred, dt_pred, ada_pred])\n",
        "print(pred.shape)\n",
        "\n",
        "# [knn_pred]         [k][r][d][a]  행 열 교환\n",
        "# [rf_pred]      ->  [n][f][t][d]\n",
        "# [dt_pred]          [n][ ][ ][a]\n",
        "# [ada_pred]         [ ][ ][ ][ ]\n",
        "\n",
        "# transpose를 이용해 행과 열의 위치 교환. 컬럼 레벨로 각 알고리즘의 예측 결과를 피처로 만듦.\n",
        "pred = np.transpose(pred)\n",
        "print(pred.shape)"
      ],
      "execution_count": 7,
      "outputs": [
        {
          "output_type": "stream",
          "text": [
            "(4, 114)\n",
            "(114, 4)\n"
          ],
          "name": "stdout"
        }
      ]
    },
    {
      "cell_type": "code",
      "metadata": {
        "id": "C5BvLwsBdy2-",
        "colab_type": "code",
        "colab": {
          "base_uri": "https://localhost:8080/",
          "height": 35
        },
        "outputId": "110a6efd-97c8-4b7c-83cc-a4d4c70deddb"
      },
      "source": [
        "lr_final.fit(pred, y_test) # overfitting\n",
        "final = lr_final.predict(pred)\n",
        "\n",
        "print('최종 메타 모델의 예측 정확도:{0:.4f}'.format(accuracy_score(y_test, final)))"
      ],
      "execution_count": 9,
      "outputs": [
        {
          "output_type": "stream",
          "text": [
            "최종 메타 모델의 예측 정확도:0.9649\n"
          ],
          "name": "stdout"
        }
      ]
    },
    {
      "cell_type": "markdown",
      "metadata": {
        "id": "_i2zrrYleQv-",
        "colab_type": "text"
      },
      "source": [
        "cv (cross validation) 셋 기반의 Stacking\n",
        "\n",
        "- 개별 모델들이 각각 교차 검증으로 메타 모델을 위한 학습용 스태킹 데이터 생성과 예측을 위한 테스트용 스태킹 데이터를 생성한 뒤 이를 기반으로 메타 모델이 학습과 예측을 수행 \n",
        "  - step1 : 각 모델 별로 원본 학습/테스트 데이터를 예측한 결과 값을 기반으로 메타 모델을 위한 학습용/테스트용 데이터를 생성 (중요)\n",
        "  - step2 : step1에서 개별 모델들이 생성한 학습용 데이터를 모두 스태킹 형태로 합쳐서 메타 모델이 학습할 최종 학습용 데이터 세트를 생성. 각 모델들이 생성한 테스트용 데이터를 모두 스태킹 형태로 합쳐서 메타 모델이 예측할 최종 테스트 데이터 세트를 생성. 메타 모델은 최종적으로 생성된 학습 데이터 세트와 원본 학습 데이터의 레이블 데이터를 기반으로 학습한 뒤, 최종적으로 생성된 테스트 데이터 세트를 예측하고, 원본 테스트 데이터의 레이블 데이터를 기반으로 평가함"
      ]
    },
    {
      "cell_type": "code",
      "metadata": {
        "id": "FfchCrGLeSXW",
        "colab_type": "code",
        "colab": {}
      },
      "source": [
        "from sklearn.model_selection import KFold\n",
        "from sklearn.metrics import mean_absolute_error\n",
        "\n",
        "# 개별 기반 모델에서 최종 메타 모델이 사용할 학습 및 테스트용 데이터를 생성하기 위한 함수.\n",
        "def get_stacking_base_datasets(model, X_train_n, y_train_n, X_test_n, n_folds):\n",
        "  # 지정된 n_folds값으로 KFold 생성.\n",
        "  kf = KFold(n_splits=n_folds, shuffle=False, random_state=0)\n",
        "  # 추후에 메타 모델이 사용할 학습 데이터 반환을 위한 넘파이 배열 초기화\n",
        "  train_fold_pred = np.zeros((X_train_n.shape[0], 1))\n",
        "  test_pred = np.zeros((X_test_n.shape[0], n_folds))\n",
        "  print(model.__class__.__name__, ' model 시작')\n",
        "\n",
        "  for folder_counter, (train_index, valid_index) in enumerate(kf.split(X_train_n)):\n",
        "    # 입력된 학습 데이터에서 기반 모델이 학습/예측할 폴더 데이터 셋 추출\n",
        "    print('\\t 폴드 세트: ', folder_counter, ' 시작 ')\n",
        "    X_tr = X_train_n[train_index]\n",
        "    y_tr = y_train_n[train_index]\n",
        "    X_te = X_train_n[valid_index]\n",
        "\n",
        "    # 폴드 세트 내부에서 다시 만들어진 학습 데이터로 기반 모델의 학습 수행.\n",
        "    model.fit(X_tr, y_tr)\n",
        "    # 폴드 세트 내부에서 다시 만들어진 검증 데이터로 기반 모델 예측 후 데이터 저장.\n",
        "    train_fold_pred[valid_index, :] = model.predict(X_te).reshape(-1, 1)\n",
        "    # 입력된 원본 테스트 데이터를 폴드 세트내 학습된 기반 모델에서 예측 후 데이터 저장.\n",
        "    test_pred[:, folder_counter] = model.predict(X_test_n)\n",
        "\n",
        "  # 폴드 세트 내에서 원본 테스트 데이터를 예측한 데이터를 평균하여 테스트 데이터로 생성\n",
        "  test_pred_mean = np.mean(test_pred, axis=1).reshape(-1, 1)\n",
        "\n",
        "  # train_fold_pred는 최종 메타 모델이 사용하는 학습 데이터, test_pred_mean은 테스트 데이터\n",
        "  return train_fold_pred, test_pred_mean"
      ],
      "execution_count": 0,
      "outputs": []
    },
    {
      "cell_type": "code",
      "metadata": {
        "id": "VjfZY4C8gFpN",
        "colab_type": "code",
        "colab": {
          "base_uri": "https://localhost:8080/",
          "height": 757
        },
        "outputId": "fe8ef2d5-337a-4b05-a587-da91c5603aa5"
      },
      "source": [
        "knn_train, knn_test = get_stacking_base_datasets(knn_clf, X_train, y_train, X_test, 7) # fold set = 7\n",
        "rf_train, rf_test = get_stacking_base_datasets(rf_clf, X_train, y_train, X_test, 7)\n",
        "dt_train, dt_test = get_stacking_base_datasets(dt_clf, X_train, y_train, X_test, 7)\n",
        "ada_train, ada_test = get_stacking_base_datasets(ada_clf, X_train, y_train, X_test, 7)"
      ],
      "execution_count": 16,
      "outputs": [
        {
          "output_type": "stream",
          "text": [
            "/usr/local/lib/python3.6/dist-packages/sklearn/model_selection/_split.py:296: FutureWarning: Setting a random_state has no effect since shuffle is False. This will raise an error in 0.24. You should leave random_state to its default (None), or set shuffle=True.\n",
            "  FutureWarning\n",
            "/usr/local/lib/python3.6/dist-packages/sklearn/model_selection/_split.py:296: FutureWarning: Setting a random_state has no effect since shuffle is False. This will raise an error in 0.24. You should leave random_state to its default (None), or set shuffle=True.\n",
            "  FutureWarning\n"
          ],
          "name": "stderr"
        },
        {
          "output_type": "stream",
          "text": [
            "KNeighborsClassifier  model 시작\n",
            "\t 폴드 세트:  0  시작 \n",
            "\t 폴드 세트:  1  시작 \n",
            "\t 폴드 세트:  2  시작 \n",
            "\t 폴드 세트:  3  시작 \n",
            "\t 폴드 세트:  4  시작 \n",
            "\t 폴드 세트:  5  시작 \n",
            "\t 폴드 세트:  6  시작 \n",
            "RandomForestClassifier  model 시작\n",
            "\t 폴드 세트:  0  시작 \n",
            "\t 폴드 세트:  1  시작 \n",
            "\t 폴드 세트:  2  시작 \n",
            "\t 폴드 세트:  3  시작 \n",
            "\t 폴드 세트:  4  시작 \n",
            "\t 폴드 세트:  5  시작 \n",
            "\t 폴드 세트:  6  시작 \n"
          ],
          "name": "stdout"
        },
        {
          "output_type": "stream",
          "text": [
            "/usr/local/lib/python3.6/dist-packages/sklearn/model_selection/_split.py:296: FutureWarning: Setting a random_state has no effect since shuffle is False. This will raise an error in 0.24. You should leave random_state to its default (None), or set shuffle=True.\n",
            "  FutureWarning\n",
            "/usr/local/lib/python3.6/dist-packages/sklearn/model_selection/_split.py:296: FutureWarning: Setting a random_state has no effect since shuffle is False. This will raise an error in 0.24. You should leave random_state to its default (None), or set shuffle=True.\n",
            "  FutureWarning\n"
          ],
          "name": "stderr"
        },
        {
          "output_type": "stream",
          "text": [
            "DecisionTreeClassifier  model 시작\n",
            "\t 폴드 세트:  0  시작 \n",
            "\t 폴드 세트:  1  시작 \n",
            "\t 폴드 세트:  2  시작 \n",
            "\t 폴드 세트:  3  시작 \n",
            "\t 폴드 세트:  4  시작 \n",
            "\t 폴드 세트:  5  시작 \n",
            "\t 폴드 세트:  6  시작 \n",
            "AdaBoostClassifier  model 시작\n",
            "\t 폴드 세트:  0  시작 \n",
            "\t 폴드 세트:  1  시작 \n",
            "\t 폴드 세트:  2  시작 \n",
            "\t 폴드 세트:  3  시작 \n",
            "\t 폴드 세트:  4  시작 \n",
            "\t 폴드 세트:  5  시작 \n",
            "\t 폴드 세트:  6  시작 \n"
          ],
          "name": "stdout"
        }
      ]
    },
    {
      "cell_type": "code",
      "metadata": {
        "id": "yEILdR_-goZm",
        "colab_type": "code",
        "colab": {
          "base_uri": "https://localhost:8080/",
          "height": 1000
        },
        "outputId": "7308356d-77c5-447a-bb42-7ab93af92354"
      },
      "source": [
        "Stack_final_X_train = np.concatenate((knn_train, rf_train, dt_train, ada_train), axis=1)\n",
        "Stack_final_X_test = np.concatenate((knn_test, rf_test, dt_test, ada_test), axis=1)\n",
        "print('원본 학습 피처 데이터 Shape:', X_train.shape)\n",
        "print('원본 테스트 피처 Shape:', X_test.shape)\n",
        "print('스태킹 학습 피처 데이터 Shape:', Stack_final_X_train.shape)\n",
        "print('스태킹 테스트 피처 데이터 Shape:', Stack_final_X_test)"
      ],
      "execution_count": 17,
      "outputs": [
        {
          "output_type": "stream",
          "text": [
            "원본 학습 피처 데이터 Shape: (455, 30)\n",
            "원본 테스트 피처 Shape: (114, 30)\n",
            "스태킹 학습 피처 데이터 Shape: (455, 4)\n",
            "스태킹 테스트 피처 데이터 Shape: [[0.         0.         0.         0.        ]\n",
            " [1.         1.         1.         1.        ]\n",
            " [1.         1.         1.         1.        ]\n",
            " [0.         1.         0.85714286 1.        ]\n",
            " [1.         1.         1.         1.        ]\n",
            " [1.         1.         1.         1.        ]\n",
            " [1.         1.         1.         1.        ]\n",
            " [1.         1.         1.         1.        ]\n",
            " [1.         1.         1.         1.        ]\n",
            " [1.         1.         1.         1.        ]\n",
            " [0.14285714 0.28571429 0.42857143 0.85714286]\n",
            " [1.         1.         1.         1.        ]\n",
            " [1.         1.         1.         1.        ]\n",
            " [0.         0.         0.         0.57142857]\n",
            " [0.14285714 0.42857143 0.85714286 1.        ]\n",
            " [0.         0.         0.14285714 0.        ]\n",
            " [1.         1.         1.         1.        ]\n",
            " [0.         0.         0.         0.        ]\n",
            " [0.         0.         0.         0.        ]\n",
            " [0.         0.         0.         0.        ]\n",
            " [0.         0.         0.         0.        ]\n",
            " [0.         0.         0.         0.        ]\n",
            " [1.         1.         1.         1.        ]\n",
            " [1.         1.         1.         1.        ]\n",
            " [0.         0.         0.14285714 0.        ]\n",
            " [1.         1.         1.         1.        ]\n",
            " [1.         1.         1.         1.        ]\n",
            " [1.         0.         0.14285714 0.        ]\n",
            " [1.         1.         1.         1.        ]\n",
            " [0.         0.         0.         0.        ]\n",
            " [1.         1.         1.         1.        ]\n",
            " [0.         0.         0.         0.        ]\n",
            " [1.         1.         1.         1.        ]\n",
            " [0.         0.         0.         0.        ]\n",
            " [1.         1.         1.         1.        ]\n",
            " [0.         0.         0.         0.        ]\n",
            " [1.         1.         1.         1.        ]\n",
            " [0.         0.         0.         0.        ]\n",
            " [1.         1.         1.         1.        ]\n",
            " [0.         0.         0.         0.        ]\n",
            " [0.         0.71428571 0.71428571 0.14285714]\n",
            " [1.         1.         1.         1.        ]\n",
            " [0.         0.         0.14285714 0.42857143]\n",
            " [1.         1.         1.         1.        ]\n",
            " [0.         0.85714286 0.57142857 1.        ]\n",
            " [0.         0.         0.         0.        ]\n",
            " [1.         1.         1.         1.        ]\n",
            " [1.         1.         1.         1.        ]\n",
            " [1.         1.         1.         1.        ]\n",
            " [0.         0.         0.         0.        ]\n",
            " [0.         0.         0.         0.        ]\n",
            " [1.         0.         0.         0.        ]\n",
            " [0.         0.         0.         0.        ]\n",
            " [1.         1.         1.         1.        ]\n",
            " [1.         1.         1.         1.        ]\n",
            " [1.         1.         1.         1.        ]\n",
            " [1.         1.         0.28571429 1.        ]\n",
            " [1.         1.         1.         1.        ]\n",
            " [1.         1.         0.28571429 1.        ]\n",
            " [0.         0.         0.         0.        ]\n",
            " [0.         0.         0.         0.        ]\n",
            " [0.         0.         0.         0.        ]\n",
            " [1.         1.         1.         1.        ]\n",
            " [1.         1.         1.         1.        ]\n",
            " [0.         0.         0.         0.        ]\n",
            " [1.         1.         0.57142857 0.71428571]\n",
            " [0.         0.         0.         0.        ]\n",
            " [0.         0.         0.         0.        ]\n",
            " [0.         0.         0.         0.        ]\n",
            " [1.         1.         1.         1.        ]\n",
            " [1.         0.85714286 0.42857143 0.71428571]\n",
            " [0.         0.         0.         0.        ]\n",
            " [1.         1.         1.         1.        ]\n",
            " [1.         1.         0.42857143 0.71428571]\n",
            " [0.         0.         0.         0.        ]\n",
            " [1.         1.         1.         1.        ]\n",
            " [1.         1.         1.         1.        ]\n",
            " [1.         1.         1.         1.        ]\n",
            " [1.         1.         1.         1.        ]\n",
            " [1.         1.         1.         1.        ]\n",
            " [0.         0.         0.         0.        ]\n",
            " [0.         0.         0.         0.        ]\n",
            " [0.         0.         0.         0.        ]\n",
            " [1.         1.         1.         1.        ]\n",
            " [0.         0.         0.         0.        ]\n",
            " [1.         1.         1.         1.        ]\n",
            " [1.         1.         1.         1.        ]\n",
            " [1.         1.         1.         1.        ]\n",
            " [0.         0.         0.         0.        ]\n",
            " [0.         0.         0.         0.        ]\n",
            " [1.         1.         1.         1.        ]\n",
            " [0.         0.         0.         0.85714286]\n",
            " [1.         1.         0.57142857 0.71428571]\n",
            " [0.         0.         0.         0.        ]\n",
            " [1.         1.         1.         1.        ]\n",
            " [1.         1.         1.         1.        ]\n",
            " [0.         0.         0.         0.        ]\n",
            " [1.         1.         0.57142857 1.        ]\n",
            " [1.         1.         1.         1.        ]\n",
            " [1.         1.         1.         1.        ]\n",
            " [1.         1.         1.         1.        ]\n",
            " [1.         1.         1.         1.        ]\n",
            " [1.         1.         1.         1.        ]\n",
            " [1.         1.         0.28571429 1.        ]\n",
            " [0.         0.         0.         0.        ]\n",
            " [1.         1.         1.         1.        ]\n",
            " [0.         0.         0.         0.        ]\n",
            " [0.28571429 1.         1.         1.        ]\n",
            " [0.         0.14285714 0.14285714 0.42857143]\n",
            " [0.         0.         0.28571429 0.14285714]\n",
            " [1.         1.         1.         1.        ]\n",
            " [0.         0.         0.         0.        ]\n",
            " [0.         0.         0.         0.        ]\n",
            " [1.         1.         0.85714286 0.85714286]]\n"
          ],
          "name": "stdout"
        }
      ]
    },
    {
      "cell_type": "code",
      "metadata": {
        "id": "6J3059NXhKha",
        "colab_type": "code",
        "colab": {
          "base_uri": "https://localhost:8080/",
          "height": 35
        },
        "outputId": "ae83a2d5-752a-4f0a-a596-a81b022dce98"
      },
      "source": [
        "lr_final.fit(Stack_final_X_train, y_train)\n",
        "stack_final = lr_final.predict(Stack_final_X_test)\n",
        "\n",
        "print('최종 메타 모델의 예측 정확도: {0:.4f}'.format(accuracy_score(y_test, stack_final)))"
      ],
      "execution_count": 18,
      "outputs": [
        {
          "output_type": "stream",
          "text": [
            "최종 메타 모델의 예측 정확도: 0.9737\n"
          ],
          "name": "stdout"
        }
      ]
    }
  ]
}