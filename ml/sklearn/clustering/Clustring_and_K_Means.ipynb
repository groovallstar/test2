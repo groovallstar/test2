{
  "nbformat": 4,
  "nbformat_minor": 0,
  "metadata": {
    "colab": {
      "name": "Clustring and K-Means.ipynb",
      "provenance": [],
      "collapsed_sections": []
    },
    "kernelspec": {
      "name": "python3",
      "display_name": "Python 3"
    }
  },
  "cells": [
    {
      "cell_type": "markdown",
      "metadata": {
        "id": "m6gJqgGuT8EJ",
        "colab_type": "text"
      },
      "source": [
        "- 데이터 포인트들을 별개의 군집으로 그룹화 하는것을 의미함\n",
        "- 유사성이 높은 데이터들을 동일한 그룹으로 분류하고 서로 다른 군집들이 상이성을 가지도록 그룹화 함"
      ]
    },
    {
      "cell_type": "markdown",
      "metadata": {
        "id": "hd6pdpF6UrqE",
        "colab_type": "text"
      },
      "source": [
        "K-Means Clustering\n",
        "- 군집 중심점(Centroid) 기반 클러스터링\n",
        "  1. 2개의 군집 중심점을 설정\n",
        "  2. 각 데이터들은 가장 가까운 중심점에 소속\n",
        "  3. 중심점에 할당된 데이터들의 평균 중심으로 중심점 이동\n",
        "  4. 각 데이터들은 이동된 중심점 기준으로 가장 가까운 중심점에 소속\n",
        "  5. 다시 중심점에 할당된 데이터들의 평균 중심으로 중심점 이동\n",
        "  6. 중심점을 이동하였지만 데이터들의 중심점 소속 변경이 없으면 군집화 완료\n",
        "\n",
        "- 장점\n",
        "  - 일반적인 군집화에서 가장 많이 활용되는 알고리즘\n",
        "  - 쉽고 간결\n",
        "  - 대용량 데이터에도 활용 가능\n",
        "- 단점\n",
        "  - 거리 기반 알고리즘으로 속성의 개수가 매우 많을 경우 군집화 정확도가 떨어짐\n",
        "  - 반복을 수행하는데, 반복 횟수가 많을 경우 수행 시간이 느려짐\n",
        "  - 이상치(Outlier) 데이터에 취약함"
      ]
    },
    {
      "cell_type": "markdown",
      "metadata": {
        "id": "fYEeNVz-a-f7",
        "colab_type": "text"
      },
      "source": [
        "사이킷런 KMeans 클래스 주요 파라미터\n",
        "- n_clusters : 군집화할 개수. 즉, 군집 중심점의 개수를 의미함\n",
        "- init : 초기에 군집 중심점의 좌표를 설정할 방식, 임의로 중심을 설정하지 않고 일반적으로 k-means++방식으로 최초 설정함\n",
        "- max_iter : 최대 반복 횟수. 이 횟수 이전에 모든 데이터의 중심점 이동이 없으면 종료함\n",
        "\n",
        "주요 속성\n",
        "- labels_ : 각 데이터 포인트가 속한 군집 중심점 레이블\n",
        "- cluster_centers_ : 각 군집 중심점 좌표(Shape는 [군집 개수, 피처 개수]). 이를 이용하면 군집 중심점 좌표가 어디인지 시각화할 수 있음\n"
      ]
    },
    {
      "cell_type": "markdown",
      "metadata": {
        "id": "PAUfbkGvcBk6",
        "colab_type": "text"
      },
      "source": [
        "K-Means를 이용한 Iris 데이터 셋 Clustering"
      ]
    },
    {
      "cell_type": "code",
      "metadata": {
        "id": "vlNP3A0_TiyZ",
        "colab_type": "code",
        "colab": {
          "base_uri": "https://localhost:8080/",
          "height": 142
        },
        "outputId": "2f30168f-69fc-484a-be89-76ab8514dced"
      },
      "source": [
        "from sklearn.preprocessing import scale\n",
        "from sklearn.datasets import load_iris\n",
        "from sklearn.cluster import KMeans\n",
        "import matplotlib.pyplot as plt\n",
        "import numpy as np\n",
        "import pandas as pd\n",
        "%matplotlib inline\n",
        "\n",
        "iris = load_iris()\n",
        "irisDF = pd.DataFrame(data=iris.data, columns=['sepal_length', 'sepla_width', 'petal_length', 'petal_width'])\n",
        "irisDF.head(3)"
      ],
      "execution_count": 1,
      "outputs": [
        {
          "output_type": "execute_result",
          "data": {
            "text/html": [
              "<div>\n",
              "<style scoped>\n",
              "    .dataframe tbody tr th:only-of-type {\n",
              "        vertical-align: middle;\n",
              "    }\n",
              "\n",
              "    .dataframe tbody tr th {\n",
              "        vertical-align: top;\n",
              "    }\n",
              "\n",
              "    .dataframe thead th {\n",
              "        text-align: right;\n",
              "    }\n",
              "</style>\n",
              "<table border=\"1\" class=\"dataframe\">\n",
              "  <thead>\n",
              "    <tr style=\"text-align: right;\">\n",
              "      <th></th>\n",
              "      <th>sepal_length</th>\n",
              "      <th>sepla_width</th>\n",
              "      <th>petal_length</th>\n",
              "      <th>petal_width</th>\n",
              "    </tr>\n",
              "  </thead>\n",
              "  <tbody>\n",
              "    <tr>\n",
              "      <th>0</th>\n",
              "      <td>5.1</td>\n",
              "      <td>3.5</td>\n",
              "      <td>1.4</td>\n",
              "      <td>0.2</td>\n",
              "    </tr>\n",
              "    <tr>\n",
              "      <th>1</th>\n",
              "      <td>4.9</td>\n",
              "      <td>3.0</td>\n",
              "      <td>1.4</td>\n",
              "      <td>0.2</td>\n",
              "    </tr>\n",
              "    <tr>\n",
              "      <th>2</th>\n",
              "      <td>4.7</td>\n",
              "      <td>3.2</td>\n",
              "      <td>1.3</td>\n",
              "      <td>0.2</td>\n",
              "    </tr>\n",
              "  </tbody>\n",
              "</table>\n",
              "</div>"
            ],
            "text/plain": [
              "   sepal_length  sepla_width  petal_length  petal_width\n",
              "0           5.1          3.5           1.4          0.2\n",
              "1           4.9          3.0           1.4          0.2\n",
              "2           4.7          3.2           1.3          0.2"
            ]
          },
          "metadata": {
            "tags": []
          },
          "execution_count": 1
        }
      ]
    },
    {
      "cell_type": "code",
      "metadata": {
        "id": "ALAZGEp6cjOP",
        "colab_type": "code",
        "colab": {
          "base_uri": "https://localhost:8080/",
          "height": 71
        },
        "outputId": "f5e95adb-4019-4077-adce-f07f51437288"
      },
      "source": [
        "# KMeans 객체를 생성하고 군집화 수행\n",
        "kmeans = KMeans(n_clusters=3, init='k-means++', max_iter=300, random_state=0).fit(irisDF)\n",
        "kmeans.fit(irisDF)"
      ],
      "execution_count": 2,
      "outputs": [
        {
          "output_type": "execute_result",
          "data": {
            "text/plain": [
              "KMeans(algorithm='auto', copy_x=True, init='k-means++', max_iter=300,\n",
              "       n_clusters=3, n_init=10, n_jobs=None, precompute_distances='auto',\n",
              "       random_state=0, tol=0.0001, verbose=0)"
            ]
          },
          "metadata": {
            "tags": []
          },
          "execution_count": 2
        }
      ]
    },
    {
      "cell_type": "code",
      "metadata": {
        "id": "Bi31grmEcrXL",
        "colab_type": "code",
        "colab": {
          "base_uri": "https://localhost:8080/",
          "height": 125
        },
        "outputId": "79621133-f356-4d06-8e7a-1dc6b6b62828"
      },
      "source": [
        "# labels_속성을 통해 각 데이터 포인트별로 할당된 군집 중심점(Centroid) 확인. cluster 컬럼 추가\n",
        "print(kmeans.labels_)\n",
        "irisDF.shape, kmeans.labels_.shape"
      ],
      "execution_count": 3,
      "outputs": [
        {
          "output_type": "stream",
          "text": [
            "[1 1 1 1 1 1 1 1 1 1 1 1 1 1 1 1 1 1 1 1 1 1 1 1 1 1 1 1 1 1 1 1 1 1 1 1 1\n",
            " 1 1 1 1 1 1 1 1 1 1 1 1 1 2 2 0 2 2 2 2 2 2 2 2 2 2 2 2 2 2 2 2 2 2 2 2 2\n",
            " 2 2 2 0 2 2 2 2 2 2 2 2 2 2 2 2 2 2 2 2 2 2 2 2 2 2 0 2 0 0 0 0 2 0 0 0 0\n",
            " 0 0 2 2 0 0 0 0 2 0 2 0 2 0 0 2 2 0 0 0 0 0 2 0 0 0 0 2 0 0 0 2 0 0 0 2 0\n",
            " 0 2]\n"
          ],
          "name": "stdout"
        },
        {
          "output_type": "execute_result",
          "data": {
            "text/plain": [
              "((150, 4), (150,))"
            ]
          },
          "metadata": {
            "tags": []
          },
          "execution_count": 3
        }
      ]
    },
    {
      "cell_type": "code",
      "metadata": {
        "id": "8ltv9jrXqC3y",
        "colab_type": "code",
        "colab": {}
      },
      "source": [
        "irisDF['cluster'] = kmeans.labels_"
      ],
      "execution_count": 0,
      "outputs": []
    },
    {
      "cell_type": "code",
      "metadata": {
        "id": "CPVfoWs1ctAn",
        "colab_type": "code",
        "colab": {
          "base_uri": "https://localhost:8080/",
          "height": 143
        },
        "outputId": "456ecd74-b65e-448b-f20e-9e3f264f3c11"
      },
      "source": [
        "irisDF['target'] = iris.target\n",
        "iris_result = irisDF.groupby(['target', 'cluster'])['sepal_length'].count()\n",
        "print(iris_result)"
      ],
      "execution_count": 5,
      "outputs": [
        {
          "output_type": "stream",
          "text": [
            "target  cluster\n",
            "0       1          50\n",
            "1       0           2\n",
            "        2          48\n",
            "2       0          36\n",
            "        2          14\n",
            "Name: sepal_length, dtype: int64\n"
          ],
          "name": "stdout"
        }
      ]
    },
    {
      "cell_type": "code",
      "metadata": {
        "id": "PKEZXXPWdG6R",
        "colab_type": "code",
        "colab": {
          "base_uri": "https://localhost:8080/",
          "height": 142
        },
        "outputId": "316e386d-4107-4f41-be8d-b9e7ca0f7ad8"
      },
      "source": [
        "from sklearn.decomposition import PCA\n",
        "\n",
        "pca = PCA(n_components=2)\n",
        "pca_transformed = pca.fit_transform(iris.data)\n",
        "\n",
        "irisDF['pca_x'] = pca_transformed[:, 0]\n",
        "irisDF['pca_y'] = pca_transformed[:, 1]\n",
        "irisDF.head(3)"
      ],
      "execution_count": 6,
      "outputs": [
        {
          "output_type": "execute_result",
          "data": {
            "text/html": [
              "<div>\n",
              "<style scoped>\n",
              "    .dataframe tbody tr th:only-of-type {\n",
              "        vertical-align: middle;\n",
              "    }\n",
              "\n",
              "    .dataframe tbody tr th {\n",
              "        vertical-align: top;\n",
              "    }\n",
              "\n",
              "    .dataframe thead th {\n",
              "        text-align: right;\n",
              "    }\n",
              "</style>\n",
              "<table border=\"1\" class=\"dataframe\">\n",
              "  <thead>\n",
              "    <tr style=\"text-align: right;\">\n",
              "      <th></th>\n",
              "      <th>sepal_length</th>\n",
              "      <th>sepla_width</th>\n",
              "      <th>petal_length</th>\n",
              "      <th>petal_width</th>\n",
              "      <th>cluster</th>\n",
              "      <th>target</th>\n",
              "      <th>pca_x</th>\n",
              "      <th>pca_y</th>\n",
              "    </tr>\n",
              "  </thead>\n",
              "  <tbody>\n",
              "    <tr>\n",
              "      <th>0</th>\n",
              "      <td>5.1</td>\n",
              "      <td>3.5</td>\n",
              "      <td>1.4</td>\n",
              "      <td>0.2</td>\n",
              "      <td>1</td>\n",
              "      <td>0</td>\n",
              "      <td>-2.684126</td>\n",
              "      <td>0.319397</td>\n",
              "    </tr>\n",
              "    <tr>\n",
              "      <th>1</th>\n",
              "      <td>4.9</td>\n",
              "      <td>3.0</td>\n",
              "      <td>1.4</td>\n",
              "      <td>0.2</td>\n",
              "      <td>1</td>\n",
              "      <td>0</td>\n",
              "      <td>-2.714142</td>\n",
              "      <td>-0.177001</td>\n",
              "    </tr>\n",
              "    <tr>\n",
              "      <th>2</th>\n",
              "      <td>4.7</td>\n",
              "      <td>3.2</td>\n",
              "      <td>1.3</td>\n",
              "      <td>0.2</td>\n",
              "      <td>1</td>\n",
              "      <td>0</td>\n",
              "      <td>-2.888991</td>\n",
              "      <td>-0.144949</td>\n",
              "    </tr>\n",
              "  </tbody>\n",
              "</table>\n",
              "</div>"
            ],
            "text/plain": [
              "   sepal_length  sepla_width  petal_length  ...  target     pca_x     pca_y\n",
              "0           5.1          3.5           1.4  ...       0 -2.684126  0.319397\n",
              "1           4.9          3.0           1.4  ...       0 -2.714142 -0.177001\n",
              "2           4.7          3.2           1.3  ...       0 -2.888991 -0.144949\n",
              "\n",
              "[3 rows x 8 columns]"
            ]
          },
          "metadata": {
            "tags": []
          },
          "execution_count": 6
        }
      ]
    },
    {
      "cell_type": "code",
      "metadata": {
        "id": "uGRxmzQMdX_s",
        "colab_type": "code",
        "colab": {
          "base_uri": "https://localhost:8080/",
          "height": 295
        },
        "outputId": "76c4cba3-78ae-4648-e4c8-b40f2637e571"
      },
      "source": [
        "# cluster 값이 0, 1, 2인 경우마다 별도의 index로 추출\n",
        "marker0_ind = irisDF[irisDF['cluster'] == 0].index\n",
        "marker1_ind = irisDF[irisDF['cluster'] == 1].index\n",
        "marker2_ind = irisDF[irisDF['cluster'] == 2].index\n",
        "\n",
        "# cluster 값이 0, 1, 2에 해당하는 Index로 각 cluster 레벨의 pca_x, pca_y 값 추출. o, s, ^로 marker 표시\n",
        "plt.scatter(x=irisDF.loc[marker0_ind, 'pca_x'], y=irisDF.loc[marker0_ind, 'pca_y'], marker='o')\n",
        "plt.scatter(x=irisDF.loc[marker1_ind, 'pca_x'], y=irisDF.loc[marker1_ind, 'pca_y'], marker='s')\n",
        "plt.scatter(x=irisDF.loc[marker2_ind, 'pca_x'], y=irisDF.loc[marker2_ind, 'pca_y'], marker='^')\n",
        "\n",
        "plt.xlabel('PCA 1'); plt.ylabel('PCA 2'); plt.title('3 Clusters Visualization by 2 PCA COmponents')\n",
        "plt.show()"
      ],
      "execution_count": 7,
      "outputs": [
        {
          "output_type": "display_data",
          "data": {
            "image/png": "[encoded data removed]",
            "text/plain": [
              "<Figure size 432x288 with 1 Axes>"
            ]
          },
          "metadata": {
            "tags": []
          }
        }
      ]
    },
    {
      "cell_type": "code",
      "metadata": {
        "id": "LcpBbSXIeZ4J",
        "colab_type": "code",
        "colab": {
          "base_uri": "https://localhost:8080/",
          "height": 53
        },
        "outputId": "88473add-67af-414d-eacc-d7dd9069840f"
      },
      "source": [
        "import numpy as np\n",
        "import matplotlib.pyplot as plt\n",
        "from sklearn.cluster import KMeans\n",
        "from sklearn.datasets import make_blobs\n",
        "%matplotlib inline\n",
        "\n",
        "X, y = make_blobs(n_samples=200, n_features=2, centers=3, cluster_std=0.8, random_state=0)\n",
        "print(X.shape, y.shape)\n",
        "\n",
        "# y target 값의 분포를 확인\n",
        "unique, counts = np.unique(y, return_counts=True)\n",
        "print(unique, counts)"
      ],
      "execution_count": 8,
      "outputs": [
        {
          "output_type": "stream",
          "text": [
            "(200, 2) (200,)\n",
            "[0 1 2] [67 67 66]\n"
          ],
          "name": "stdout"
        }
      ]
    },
    {
      "cell_type": "markdown",
      "metadata": {
        "id": "fA1exWCwsQaJ",
        "colab_type": "text"
      },
      "source": [
        "- n_samples : 생성할 총 데이터의 개수. default=100\n",
        "- n_features : 데이터의 피처 개수. 시각화를 위해 2개로 설정해서 1번째 피처는 x좌표, 2번째 피처는 y좌표상에 표현함\n",
        "- centers : int값. 예를 들면, 3으로 설정하면 군집의 개수를 나타냄. ndarray형태로 표현할 경우 개별 군집 중심점의 좌표를 의미함\n",
        "- cluster_std : 생성될 군집 데이터의 표준 편차. \n",
        "  - float값 0.8과 같은 형태로 지정하면 군집 내에서 데이터가 표준편차 0.8을 가진 값으로 만들어짐\n",
        "  - [0.8, 1.2, 0.6]과 같은 형태로 표현되면 3개의 군집에서 첫번째 군집 내 데이터의 표준 편차는 0.8, 두번째 군집 내 데이터의 표준 편차는 1.2, 세번째 군집 내 데이터의 표준편차는 0.6으로 만듦\n",
        "  - 군집별로 서로 다른 표준 편차를 가진 데이터 세트를 만들 때 사용함"
      ]
    },
    {
      "cell_type": "code",
      "metadata": {
        "id": "EPp8DYJvev9L",
        "colab_type": "code",
        "colab": {
          "base_uri": "https://localhost:8080/",
          "height": 142
        },
        "outputId": "87fe0411-77b6-471b-b294-7c43d95fe0d7"
      },
      "source": [
        "import pandas as pd\n",
        "\n",
        "clusterDF = pd.DataFrame(data=X, columns=['ftr1', 'ftr2'])\n",
        "clusterDF['target'] = y\n",
        "clusterDF.head(3)"
      ],
      "execution_count": 9,
      "outputs": [
        {
          "output_type": "execute_result",
          "data": {
            "text/html": [
              "<div>\n",
              "<style scoped>\n",
              "    .dataframe tbody tr th:only-of-type {\n",
              "        vertical-align: middle;\n",
              "    }\n",
              "\n",
              "    .dataframe tbody tr th {\n",
              "        vertical-align: top;\n",
              "    }\n",
              "\n",
              "    .dataframe thead th {\n",
              "        text-align: right;\n",
              "    }\n",
              "</style>\n",
              "<table border=\"1\" class=\"dataframe\">\n",
              "  <thead>\n",
              "    <tr style=\"text-align: right;\">\n",
              "      <th></th>\n",
              "      <th>ftr1</th>\n",
              "      <th>ftr2</th>\n",
              "      <th>target</th>\n",
              "    </tr>\n",
              "  </thead>\n",
              "  <tbody>\n",
              "    <tr>\n",
              "      <th>0</th>\n",
              "      <td>-1.692427</td>\n",
              "      <td>3.622025</td>\n",
              "      <td>2</td>\n",
              "    </tr>\n",
              "    <tr>\n",
              "      <th>1</th>\n",
              "      <td>0.697940</td>\n",
              "      <td>4.428867</td>\n",
              "      <td>0</td>\n",
              "    </tr>\n",
              "    <tr>\n",
              "      <th>2</th>\n",
              "      <td>1.100228</td>\n",
              "      <td>4.606317</td>\n",
              "      <td>0</td>\n",
              "    </tr>\n",
              "  </tbody>\n",
              "</table>\n",
              "</div>"
            ],
            "text/plain": [
              "       ftr1      ftr2  target\n",
              "0 -1.692427  3.622025       2\n",
              "1  0.697940  4.428867       0\n",
              "2  1.100228  4.606317       0"
            ]
          },
          "metadata": {
            "tags": []
          },
          "execution_count": 9
        }
      ]
    },
    {
      "cell_type": "code",
      "metadata": {
        "id": "rRk-ae9Je4-I",
        "colab_type": "code",
        "colab": {
          "base_uri": "https://localhost:8080/",
          "height": 265
        },
        "outputId": "3d90e2c1-f56b-4ea4-ce58-ef149b036e6a"
      },
      "source": [
        "target_list = np.unique(y)\n",
        "# 각 target 별 scatter plot의 marker 값들\n",
        "markers = ['o', 's', '^', 'P', 'D', 'H', 'x']\n",
        "# 3개의 cluster 영역으로 구분한 데이터 셋을 생성했으므로 target_list는 [0, 1, 2]\n",
        "# target==0, target==1, target==2로 scatter plot을 marker별로 생성.\n",
        "for target in target_list:\n",
        "  target_cluster = clusterDF[clusterDF['target'] == target]\n",
        "  plt.scatter(x=target_cluster['ftr1'], y=target_cluster['ftr2'], edgecolor='k', marker=markers[target])\n",
        "plt.show()"
      ],
      "execution_count": 10,
      "outputs": [
        {
          "output_type": "display_data",
          "data": {
            "image/png": "[encoded data removed]",
            "text/plain": [
              "<Figure size 432x288 with 1 Axes>"
            ]
          },
          "metadata": {
            "tags": []
          }
        }
      ]
    },
    {
      "cell_type": "code",
      "metadata": {
        "id": "XF47fkN9fbao",
        "colab_type": "code",
        "colab": {
          "base_uri": "https://localhost:8080/",
          "height": 265
        },
        "outputId": "0b82a210-a0a7-487d-d473-a99098f2766d"
      },
      "source": [
        "# KMeans 객체를 이용하여 X 데이터를 K-Means 클러스터링 수행\n",
        "kmeans = KMeans(n_clusters=3, init='k-means++', max_iter=200, random_state=0)\n",
        "cluster_labels = kmeans.fit_predict(X)\n",
        "clusterDF['kmeans_label'] = cluster_labels\n",
        "\n",
        "# cluster_centers_ 는 개별 클러스터의 중심 위치 좌표 시각화를 위해 추출\n",
        "centers = kmeans.cluster_centers_\n",
        "unique_labels = np.unique(cluster_labels)\n",
        "markers = ['o', 's', '^', 'P', 'D', 'H', 'x']\n",
        "\n",
        "# 군집된 label 유형별로 iteration하면서 marker별로 scatter plot 수행\n",
        "for label in unique_labels:\n",
        "  label_cluster = clusterDF[clusterDF['kmeans_label'] == label]\n",
        "  center_x_y = centers[label]\n",
        "  plt.scatter(x=label_cluster['ftr1'], y=label_cluster['ftr2'], edgecolor='k', marker=markers[label])\n",
        "\n",
        "  # 군집별 중심 위치 좌표 시각화\n",
        "  plt.scatter(x=center_x_y[0], y=center_x_y[1], s=200, color='white', alpha=0.9, edgecolor='k', marker=markers[label])\n",
        "  plt.scatter(x=center_x_y[0], y=center_x_y[1], s=70, color='k', edgecolor='k', marker='$%d$' % label)\n",
        "plt.show()"
      ],
      "execution_count": 11,
      "outputs": [
        {
          "output_type": "display_data",
          "data": {
            "image/png": "[encoded data removed]",
            "text/plain": [
              "<Figure size 432x288 with 1 Axes>"
            ]
          },
          "metadata": {
            "tags": []
          }
        }
      ]
    },
    {
      "cell_type": "code",
      "metadata": {
        "id": "jwFJFE1bgphV",
        "colab_type": "code",
        "colab": {
          "base_uri": "https://localhost:8080/",
          "height": 143
        },
        "outputId": "56bd28ba-ef6e-4b36-a166-273791aae9d7"
      },
      "source": [
        "print(clusterDF.groupby('target')['kmeans_label'].value_counts())"
      ],
      "execution_count": 12,
      "outputs": [
        {
          "output_type": "stream",
          "text": [
            "target  kmeans_label\n",
            "0       0               66\n",
            "        2                1\n",
            "1       1               67\n",
            "2       2               65\n",
            "        1                1\n",
            "Name: kmeans_label, dtype: int64\n"
          ],
          "name": "stdout"
        }
      ]
    }
  ]
}