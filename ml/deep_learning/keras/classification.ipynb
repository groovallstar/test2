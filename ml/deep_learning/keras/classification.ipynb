{
  "nbformat": 4,
  "nbformat_minor": 0,
  "metadata": {
    "colab": {
      "name": "classification.ipynb",
      "provenance": [],
      "collapsed_sections": []
    },
    "kernelspec": {
      "name": "python3",
      "display_name": "Python 3"
    },
    "accelerator": "GPU"
  },
  "cells": [
    {
      "cell_type": "code",
      "metadata": {
        "id": "PTImO1EZvBXY",
        "colab_type": "code",
        "colab": {
          "base_uri": "https://localhost:8080/",
          "height": 35
        },
        "outputId": "7a487ddd-0037-4886-b006-3875ee95c694"
      },
      "source": [
        "import numpy as np\n",
        "x = np.array(12)\n",
        "x"
      ],
      "execution_count": 1,
      "outputs": [
        {
          "output_type": "execute_result",
          "data": {
            "text/plain": [
              "array(12)"
            ]
          },
          "metadata": {
            "tags": []
          },
          "execution_count": 1
        }
      ]
    },
    {
      "cell_type": "code",
      "metadata": {
        "id": "GftoNRewvGVK",
        "colab_type": "code",
        "colab": {
          "base_uri": "https://localhost:8080/",
          "height": 35
        },
        "outputId": "2612971a-18ff-49dc-a6b7-4c2e6badef00"
      },
      "source": [
        "x.ndim"
      ],
      "execution_count": 2,
      "outputs": [
        {
          "output_type": "execute_result",
          "data": {
            "text/plain": [
              "0"
            ]
          },
          "metadata": {
            "tags": []
          },
          "execution_count": 2
        }
      ]
    },
    {
      "cell_type": "code",
      "metadata": {
        "id": "RdvLuy2XvkeN",
        "colab_type": "code",
        "colab": {
          "base_uri": "https://localhost:8080/",
          "height": 35
        },
        "outputId": "7c8471a4-a5f9-45c6-9bb4-4dc216a3e9e3"
      },
      "source": [
        "x = np.array([1, 2, 3, 4, 5])\n",
        "x"
      ],
      "execution_count": 3,
      "outputs": [
        {
          "output_type": "execute_result",
          "data": {
            "text/plain": [
              "array([1, 2, 3, 4, 5])"
            ]
          },
          "metadata": {
            "tags": []
          },
          "execution_count": 3
        }
      ]
    },
    {
      "cell_type": "code",
      "metadata": {
        "id": "CmiNbglLvodJ",
        "colab_type": "code",
        "colab": {
          "base_uri": "https://localhost:8080/",
          "height": 35
        },
        "outputId": "187136fe-d5d1-4fea-c1ad-b48dd76c25a6"
      },
      "source": [
        "x.ndim"
      ],
      "execution_count": 4,
      "outputs": [
        {
          "output_type": "execute_result",
          "data": {
            "text/plain": [
              "1"
            ]
          },
          "metadata": {
            "tags": []
          },
          "execution_count": 4
        }
      ]
    },
    {
      "cell_type": "code",
      "metadata": {
        "id": "A_1bmdMbwJ5d",
        "colab_type": "code",
        "colab": {
          "base_uri": "https://localhost:8080/",
          "height": 35
        },
        "outputId": "6c2ebec7-2788-439b-b866-8263f1ead9dd"
      },
      "source": [
        "x = np.array([\n",
        "              [5, 4, 3, 2, 1],\n",
        "              [1, 2, 3, 4, 5],\n",
        "              [11, 12, 13, 14, 15]\n",
        "])\n",
        "x.ndim"
      ],
      "execution_count": 6,
      "outputs": [
        {
          "output_type": "execute_result",
          "data": {
            "text/plain": [
              "2"
            ]
          },
          "metadata": {
            "tags": []
          },
          "execution_count": 6
        }
      ]
    },
    {
      "cell_type": "code",
      "metadata": {
        "id": "NK9FGX_75pVm",
        "colab_type": "code",
        "colab": {
          "base_uri": "https://localhost:8080/",
          "height": 53
        },
        "outputId": "3459126d-9862-42fc-edae-1b7a69e5d403"
      },
      "source": [
        "x = np.array([[\n",
        "               [1, 2, 3, 4, 5],\n",
        "               [1, 2, 3, 4, 5]],\n",
        "               [[1, 2, 3, 4, 5],\n",
        "               [1, 2, 3, 4, 5]],\n",
        "               [[1, 2, 3, 4, 5],\n",
        "                [1, 2, 3, 4, 5]]\n",
        "])\n",
        "print(x.ndim)\n",
        "print(x.shape)"
      ],
      "execution_count": 15,
      "outputs": [
        {
          "output_type": "stream",
          "text": [
            "3\n",
            "(3, 2, 5)\n"
          ],
          "name": "stdout"
        }
      ]
    },
    {
      "cell_type": "code",
      "metadata": {
        "id": "YU6TYW1kAH8w",
        "colab_type": "code",
        "colab": {}
      },
      "source": [
        "def naive_add_matrix_and_vector(x, y):\n",
        "  assert len(x.shape) == 2 # x = 2d numpy array\n",
        "  assert len(y.shape) == 1 # y = numpy vector\n",
        "  assert x.shape[1] == y.shape[0]\n",
        "\n",
        "  x = x.copy()\n",
        "  for i in range(x.shape[0]):\n",
        "    for j in range(x.shape[1]):\n",
        "      x[i, j] += y[j]\n",
        "\n",
        "  return x"
      ],
      "execution_count": 0,
      "outputs": []
    },
    {
      "cell_type": "code",
      "metadata": {
        "id": "8IV_TmPMAp3w",
        "colab_type": "code",
        "colab": {
          "base_uri": "https://localhost:8080/",
          "height": 71
        },
        "outputId": "d5a12228-28db-41a7-fb39-1d6c4f68b94a"
      },
      "source": [
        "import numpy as np\n",
        "\n",
        "x = np.random.random((64, 3, 32, 10))\n",
        "y = np.random.random((32, 10))\n",
        "z  = np.maximum(x, y)\n",
        "\n",
        "print(x.shape, y.shape, z.shape)\n",
        "print(x.shape[1], y.shape[0])\n",
        "print(x.ndim, y.ndim, z.ndim)\n",
        "\n",
        "def naive_vector_dot(x, y):\n",
        "  assert len(x.shape) == 1 \n",
        "  assert len(y.shape) == 1\n",
        "  assert x.shape[0] == y.shape[0]\n",
        "\n",
        "  z = 0\n",
        "  for i in range(x.shape[0]):\n",
        "    z += x[i] * y[i]\n",
        "  return z\n",
        "\n",
        "def naive_matrix_vector_dot(x, y):\n",
        "\n",
        "  z = np.zeros(x.shape[0])\n",
        "  for i in range(x.shape[0]):\n",
        "    for j in range(x.shape[1]):\n",
        "      z[i] += x[i, j] * y[j]\n",
        "  return z\n",
        "\n",
        "def naive_matrix_dot(x, y):\n",
        "  assert len(x.shape) == 2\n",
        "  assert len(y.shape) == 2\n",
        "  assert x.shape[1] == x.shape[0]\n",
        "\n",
        "  z = np.zeros((x.shape[0], y.shape[1]))\n",
        "  for i in range(x.shape[0]):\n",
        "    for j in range(y.shape[1]):\n",
        "      row_x = x[i, :]\n",
        "      column_y = y[:, j]\n",
        "      z[i, j] = naive_vector_dot(row_x, row_y)\n",
        "      \n",
        "  return z\n",
        "\n"
      ],
      "execution_count": 27,
      "outputs": [
        {
          "output_type": "stream",
          "text": [
            "(64, 3, 32, 10) (32, 10) (64, 3, 32, 10)\n",
            "3 32\n",
            "4 2 4\n"
          ],
          "name": "stdout"
        }
      ]
    },
    {
      "cell_type": "code",
      "metadata": {
        "id": "jrUJLgmvA_Q4",
        "colab_type": "code",
        "colab": {
          "base_uri": "https://localhost:8080/",
          "height": 197
        },
        "outputId": "f22a6690-b623-4389-db43-9b4a6cf5fcee"
      },
      "source": [
        "x = np.array([[0., 1.],\n",
        "              [2., 3.,],\n",
        "              [4., 5.]])\n",
        "print(x.shape)\n",
        "\n",
        "x = x.reshape((6, 1))\n",
        "print(x.shape)\n",
        "\n",
        "print(x)\n",
        "x = x.reshape((2, 3))\n",
        "print(x)"
      ],
      "execution_count": 33,
      "outputs": [
        {
          "output_type": "stream",
          "text": [
            "(3, 2)\n",
            "(6, 1)\n",
            "[[0.]\n",
            " [1.]\n",
            " [2.]\n",
            " [3.]\n",
            " [4.]\n",
            " [5.]]\n",
            "[[0. 1. 2.]\n",
            " [3. 4. 5.]]\n"
          ],
          "name": "stdout"
        }
      ]
    },
    {
      "cell_type": "code",
      "metadata": {
        "id": "pTZyNzWiFA0Z",
        "colab_type": "code",
        "colab": {
          "base_uri": "https://localhost:8080/",
          "height": 35
        },
        "outputId": "8c963905-b45b-4ecd-f40e-53042e7b6267"
      },
      "source": [
        "x = np.zeros((300, 20))\n",
        "x = np.transpose(x)\n",
        "print(x.shape)"
      ],
      "execution_count": 35,
      "outputs": [
        {
          "output_type": "stream",
          "text": [
            "(20, 300)\n"
          ],
          "name": "stdout"
        }
      ]
    },
    {
      "cell_type": "markdown",
      "metadata": {
        "id": "KghdvbyGNvAA",
        "colab_type": "text"
      },
      "source": [
        "영화 리뷰 분류"
      ]
    },
    {
      "cell_type": "code",
      "metadata": {
        "id": "rJA_Fre16y7L",
        "colab_type": "code",
        "colab": {
          "base_uri": "https://localhost:8080/",
          "height": 53
        },
        "outputId": "7f97d773-7910-4524-8b30-8919661942ed"
      },
      "source": [
        "from keras.datasets import imdb\n",
        "\n",
        "(train_data, train_labels), (test_data, test_labels) = imdb.load_data(num_words=10000)"
      ],
      "execution_count": 1,
      "outputs": [
        {
          "output_type": "stream",
          "text": [
            "Downloading data from https://s3.amazonaws.com/text-datasets/imdb.npz\n",
            "17465344/17464789 [==============================] - 1s 0us/step\n"
          ],
          "name": "stdout"
        }
      ]
    },
    {
      "cell_type": "code",
      "metadata": {
        "id": "j2TNY_WI69j4",
        "colab_type": "code",
        "colab": {
          "base_uri": "https://localhost:8080/",
          "height": 35
        },
        "outputId": "cd3fcd75-8972-4cb3-b96a-75fe76f8c05e"
      },
      "source": [
        "train_labels[0]"
      ],
      "execution_count": 3,
      "outputs": [
        {
          "output_type": "execute_result",
          "data": {
            "text/plain": [
              "1"
            ]
          },
          "metadata": {
            "tags": []
          },
          "execution_count": 3
        }
      ]
    },
    {
      "cell_type": "code",
      "metadata": {
        "id": "BX5h5l0T7C8x",
        "colab_type": "code",
        "colab": {
          "base_uri": "https://localhost:8080/",
          "height": 35
        },
        "outputId": "9031712a-2d29-4cca-a677-329a3c5f9f6c"
      },
      "source": [
        "max([max(sequence) for sequence in train_data])"
      ],
      "execution_count": 4,
      "outputs": [
        {
          "output_type": "execute_result",
          "data": {
            "text/plain": [
              "9999"
            ]
          },
          "metadata": {
            "tags": []
          },
          "execution_count": 4
        }
      ]
    },
    {
      "cell_type": "code",
      "metadata": {
        "id": "KksM2d8Q6_aK",
        "colab_type": "code",
        "colab": {}
      },
      "source": [
        "word_index = imdb.get_word_index()\n",
        "reverse_word_index = dict(\n",
        "    [(value, key) for (key, value) in word_index.items()])\n",
        "decoded_review = ' '.join(\n",
        "    [reverse_word_index.get(i - 3, '?') for i in train_data[0]])"
      ],
      "execution_count": 0,
      "outputs": []
    },
    {
      "cell_type": "code",
      "metadata": {
        "id": "bdGs6y5G8Ap3",
        "colab_type": "code",
        "colab": {
          "base_uri": "https://localhost:8080/",
          "height": 55
        },
        "outputId": "bc3e5c3e-7796-491c-e768-be3e70455593"
      },
      "source": [
        "decoded_review"
      ],
      "execution_count": 9,
      "outputs": [
        {
          "output_type": "execute_result",
          "data": {
            "text/plain": [
              "\"? this film was just brilliant casting location scenery story direction everyone's really suited the part they played and you could just imagine being there robert ? is an amazing actor and now the same being director ? father came from the same scottish island as myself so i loved the fact there was a real connection with this film the witty remarks throughout the film were great it was just brilliant so much that i bought the film as soon as it was released for ? and would recommend it to everyone to watch and the fly fishing was amazing really cried at the end it was so sad and you know what they say if you cry at a film it must have been good and this definitely was also ? to the two little boy's that played the ? of norman and paul they were just brilliant children are often left out of the ? list i think because the stars that play them all grown up are such a big profile for the whole film but these children are amazing and should be praised for what they have done don't you think the whole story was so lovely because it was true and was someone's life after all that was shared with us all\""
            ]
          },
          "metadata": {
            "tags": []
          },
          "execution_count": 9
        }
      ]
    },
    {
      "cell_type": "code",
      "metadata": {
        "id": "tv4xXX8z9KGj",
        "colab_type": "code",
        "colab": {}
      },
      "source": [
        "import numpy as np\n",
        "\n",
        "def vectorize_sequences(sequences, dimension=10000):\n",
        "  results = np.zeros((len(sequences), dimension))\n",
        "  for i,  sequence in enumerate(sequences):\n",
        "    results[i, sequence] = 1.\n",
        "  return results\n",
        "\n",
        "x_train = vectorize_sequences(train_data)\n",
        "x_test = vectorize_sequences(test_data)"
      ],
      "execution_count": 0,
      "outputs": []
    },
    {
      "cell_type": "code",
      "metadata": {
        "id": "gQAtJCvK9uD9",
        "colab_type": "code",
        "colab": {
          "base_uri": "https://localhost:8080/",
          "height": 35
        },
        "outputId": "7c50b24d-45f1-411f-9a67-38ef8761bb16"
      },
      "source": [
        "x_train[0]"
      ],
      "execution_count": 12,
      "outputs": [
        {
          "output_type": "execute_result",
          "data": {
            "text/plain": [
              "array([0., 1., 1., ..., 0., 0., 0.])"
            ]
          },
          "metadata": {
            "tags": []
          },
          "execution_count": 12
        }
      ]
    },
    {
      "cell_type": "code",
      "metadata": {
        "id": "fxc_fhi_9vsF",
        "colab_type": "code",
        "colab": {}
      },
      "source": [
        "y_train = np.asarray(train_labels).astype('float32')\n",
        "y_test = np.asarray(test_labels).astype('float32')"
      ],
      "execution_count": 0,
      "outputs": []
    },
    {
      "cell_type": "code",
      "metadata": {
        "id": "R4dOgKGx-qcu",
        "colab_type": "code",
        "colab": {}
      },
      "source": [
        "from keras import models\n",
        "from keras import layers\n",
        "\n",
        "model = models.Sequential()\n",
        "model.add(layers.Dense(16, activation='relu', input_shape=(10000,)))\n",
        "model.add(layers.Dense(16, activation='relu'))\n",
        "model.add(layers.Dense(1, activation='sigmoid'))"
      ],
      "execution_count": 0,
      "outputs": []
    },
    {
      "cell_type": "code",
      "metadata": {
        "id": "nXjl2mq7_Fhe",
        "colab_type": "code",
        "colab": {}
      },
      "source": [
        "model.compile(optimizer='rmsprop', loss='binary_crossentropy', metrics=['accuracy'])"
      ],
      "execution_count": 0,
      "outputs": []
    },
    {
      "cell_type": "code",
      "metadata": {
        "id": "9dDcwK6u_Nhr",
        "colab_type": "code",
        "colab": {}
      },
      "source": [
        "from keras import optimizers\n",
        "\n",
        "model.compile(optimizer=optimizers.RMSprop(lr=0.001), loss='binary_crossentropy', metrics=['accuracy'])"
      ],
      "execution_count": 0,
      "outputs": []
    },
    {
      "cell_type": "code",
      "metadata": {
        "id": "z4hmrVhz_b0C",
        "colab_type": "code",
        "colab": {}
      },
      "source": [
        "from keras import losses\n",
        "from keras import metrics\n",
        "\n",
        "model.compile(optimizer=optimizers.RMSprop(lr=0.001), loss=losses.binary_crossentropy, metrics=[metrics.binary_accuracy])"
      ],
      "execution_count": 0,
      "outputs": []
    },
    {
      "cell_type": "code",
      "metadata": {
        "id": "fSIdPGVS_t7l",
        "colab_type": "code",
        "colab": {}
      },
      "source": [
        "x_val = x_train[:10000]\n",
        "partial_x_train = x_train[10000:]\n",
        "y_val = y_train[:10000]\n",
        "partial_y_train = y_train[10000:]"
      ],
      "execution_count": 0,
      "outputs": []
    },
    {
      "cell_type": "code",
      "metadata": {
        "id": "JuuvIp48_4QP",
        "colab_type": "code",
        "colab": {
          "base_uri": "https://localhost:8080/",
          "height": 775
        },
        "outputId": "e2bc1e92-634c-4024-9003-e5b23b2db8a3"
      },
      "source": [
        "model.compile(optimizer='rmsprop', loss='binary_crossentropy', metrics=['acc'])\n",
        "history = model.fit(partial_x_train, partial_y_train, epochs=20, batch_size=512, \n",
        "                    validation_data=(x_val, y_val))"
      ],
      "execution_count": 20,
      "outputs": [
        {
          "output_type": "stream",
          "text": [
            "Train on 15000 samples, validate on 10000 samples\n",
            "Epoch 1/20\n",
            "15000/15000 [==============================] - 3s 179us/step - loss: 0.5258 - acc: 0.7908 - val_loss: 0.4029 - val_acc: 0.8682\n",
            "Epoch 2/20\n",
            "15000/15000 [==============================] - 1s 68us/step - loss: 0.3221 - acc: 0.9027 - val_loss: 0.3137 - val_acc: 0.8873\n",
            "Epoch 3/20\n",
            "15000/15000 [==============================] - 1s 68us/step - loss: 0.2374 - acc: 0.9221 - val_loss: 0.2877 - val_acc: 0.8854\n",
            "Epoch 4/20\n",
            "15000/15000 [==============================] - 1s 68us/step - loss: 0.1818 - acc: 0.9415 - val_loss: 0.2734 - val_acc: 0.8914\n",
            "Epoch 5/20\n",
            "15000/15000 [==============================] - 1s 68us/step - loss: 0.1476 - acc: 0.9543 - val_loss: 0.2843 - val_acc: 0.8866\n",
            "Epoch 6/20\n",
            "15000/15000 [==============================] - 1s 69us/step - loss: 0.1219 - acc: 0.9632 - val_loss: 0.2897 - val_acc: 0.8870\n",
            "Epoch 7/20\n",
            "15000/15000 [==============================] - 1s 68us/step - loss: 0.1023 - acc: 0.9690 - val_loss: 0.3067 - val_acc: 0.8856\n",
            "Epoch 8/20\n",
            "15000/15000 [==============================] - 1s 68us/step - loss: 0.0828 - acc: 0.9757 - val_loss: 0.3338 - val_acc: 0.8795\n",
            "Epoch 9/20\n",
            "15000/15000 [==============================] - 1s 67us/step - loss: 0.0680 - acc: 0.9819 - val_loss: 0.3533 - val_acc: 0.8776\n",
            "Epoch 10/20\n",
            "15000/15000 [==============================] - 1s 67us/step - loss: 0.0563 - acc: 0.9855 - val_loss: 0.3698 - val_acc: 0.8796\n",
            "Epoch 11/20\n",
            "15000/15000 [==============================] - 1s 66us/step - loss: 0.0437 - acc: 0.9900 - val_loss: 0.4193 - val_acc: 0.8707\n",
            "Epoch 12/20\n",
            "15000/15000 [==============================] - 1s 68us/step - loss: 0.0348 - acc: 0.9926 - val_loss: 0.4438 - val_acc: 0.8694\n",
            "Epoch 13/20\n",
            "15000/15000 [==============================] - 1s 67us/step - loss: 0.0289 - acc: 0.9945 - val_loss: 0.4552 - val_acc: 0.8753\n",
            "Epoch 14/20\n",
            "15000/15000 [==============================] - 1s 67us/step - loss: 0.0210 - acc: 0.9965 - val_loss: 0.4893 - val_acc: 0.8725\n",
            "Epoch 15/20\n",
            "15000/15000 [==============================] - 1s 68us/step - loss: 0.0175 - acc: 0.9971 - val_loss: 0.5208 - val_acc: 0.8730\n",
            "Epoch 16/20\n",
            "15000/15000 [==============================] - 1s 67us/step - loss: 0.0123 - acc: 0.9986 - val_loss: 0.5588 - val_acc: 0.8709\n",
            "Epoch 17/20\n",
            "15000/15000 [==============================] - 1s 68us/step - loss: 0.0123 - acc: 0.9975 - val_loss: 0.5944 - val_acc: 0.8683\n",
            "Epoch 18/20\n",
            "15000/15000 [==============================] - 1s 68us/step - loss: 0.0056 - acc: 0.9998 - val_loss: 0.6394 - val_acc: 0.8659\n",
            "Epoch 19/20\n",
            "15000/15000 [==============================] - 1s 66us/step - loss: 0.0072 - acc: 0.9987 - val_loss: 0.6590 - val_acc: 0.8679\n",
            "Epoch 20/20\n",
            "15000/15000 [==============================] - 1s 67us/step - loss: 0.0032 - acc: 0.9999 - val_loss: 0.7221 - val_acc: 0.8635\n"
          ],
          "name": "stdout"
        }
      ]
    },
    {
      "cell_type": "code",
      "metadata": {
        "id": "Y9lZvK4kANqj",
        "colab_type": "code",
        "colab": {
          "base_uri": "https://localhost:8080/",
          "height": 35
        },
        "outputId": "44a6aebc-bd7f-4647-c1dd-9772b8c2fd7f"
      },
      "source": [
        "history_dict = history.history\n",
        "history_dict.keys()"
      ],
      "execution_count": 22,
      "outputs": [
        {
          "output_type": "execute_result",
          "data": {
            "text/plain": [
              "dict_keys(['val_loss', 'val_acc', 'loss', 'acc'])"
            ]
          },
          "metadata": {
            "tags": []
          },
          "execution_count": 22
        }
      ]
    },
    {
      "cell_type": "code",
      "metadata": {
        "id": "UNEIht5fAt9d",
        "colab_type": "code",
        "colab": {
          "base_uri": "https://localhost:8080/",
          "height": 295
        },
        "outputId": "e0c70030-8252-4c09-9b2c-7debb5f281fc"
      },
      "source": [
        "import matplotlib.pyplot as plt\n",
        "\n",
        "history_dict = history.history\n",
        "loss = history_dict['loss']\n",
        "val_loss = history_dict['val_loss']\n",
        "\n",
        "epochs = range(1, len(loss)+1)\n",
        "\n",
        "plt.plot(epochs, loss, 'bo', label='Training loss')\n",
        "plt.plot(epochs, val_loss, 'b', label='Validation loss')\n",
        "plt.title('training and validation loss')\n",
        "plt.xlabel('epochs')\n",
        "plt.ylabel('loss')\n",
        "plt.legend()\n",
        "\n",
        "plt.show()"
      ],
      "execution_count": 23,
      "outputs": [
        {
          "output_type": "display_data",
          "data": {
            "image/png": "[encoded data removed]",
            "text/plain": [
              "<Figure size 432x288 with 1 Axes>"
            ]
          },
          "metadata": {
            "tags": [],
            "needs_background": "light"
          }
        }
      ]
    },
    {
      "cell_type": "code",
      "metadata": {
        "id": "vUKLAEFkBU9a",
        "colab_type": "code",
        "colab": {
          "base_uri": "https://localhost:8080/",
          "height": 295
        },
        "outputId": "bb97854e-9c80-4b5e-829f-f7d7fb10706b"
      },
      "source": [
        "plt.clf()\n",
        "acc = history_dict['acc']\n",
        "val_acc = history_dict['val_acc']\n",
        "\n",
        "plt.plot(epochs, acc, 'bo', label='Training acc')\n",
        "plt.plot(epochs, val_acc, 'b', label='Validation acc')\n",
        "plt.title('training and validation accuracy')\n",
        "plt.xlabel('epochs')\n",
        "plt.ylabel('loss')\n",
        "plt.legend()\n",
        "\n",
        "plt.show()"
      ],
      "execution_count": 24,
      "outputs": [
        {
          "output_type": "display_data",
          "data": {
            "image/png": "[encoded data removed]",
            "text/plain": [
              "<Figure size 432x288 with 1 Axes>"
            ]
          },
          "metadata": {
            "tags": [],
            "needs_background": "light"
          }
        }
      ]
    },
    {
      "cell_type": "code",
      "metadata": {
        "id": "WxId6WHrCHAB",
        "colab_type": "code",
        "colab": {
          "base_uri": "https://localhost:8080/",
          "height": 179
        },
        "outputId": "84f94c97-a3da-4ea2-c0f8-65013eec67a1"
      },
      "source": [
        "model = models.Sequential()\n",
        "model.add(layers.Dense(16, activation='relu', input_shape=(10000,)))\n",
        "model.add(layers.Dense(16, activation='relu'))\n",
        "model.add(layers.Dense(1, activation='sigmoid'))\n",
        "\n",
        "model.compile(optimizer='rmsprop', loss='binary_crossentropy', metrics=['accuracy'])\n",
        "\n",
        "model.fit(x_train, y_train, epochs=4, batch_size=512)\n",
        "results = model.evaluate(x_test, y_test)"
      ],
      "execution_count": 25,
      "outputs": [
        {
          "output_type": "stream",
          "text": [
            "Epoch 1/4\n",
            "25000/25000 [==============================] - 1s 48us/step - loss: 0.4457 - accuracy: 0.8166\n",
            "Epoch 2/4\n",
            "25000/25000 [==============================] - 1s 45us/step - loss: 0.2547 - accuracy: 0.9106\n",
            "Epoch 3/4\n",
            "25000/25000 [==============================] - 1s 45us/step - loss: 0.1961 - accuracy: 0.9296\n",
            "Epoch 4/4\n",
            "25000/25000 [==============================] - 1s 44us/step - loss: 0.1657 - accuracy: 0.9412\n",
            "25000/25000 [==============================] - 2s 79us/step\n"
          ],
          "name": "stdout"
        }
      ]
    },
    {
      "cell_type": "code",
      "metadata": {
        "id": "iEEJqiCBCjQj",
        "colab_type": "code",
        "colab": {
          "base_uri": "https://localhost:8080/",
          "height": 35
        },
        "outputId": "b0705d0d-36f4-4ace-fa4f-3271349298cb"
      },
      "source": [
        "results"
      ],
      "execution_count": 26,
      "outputs": [
        {
          "output_type": "execute_result",
          "data": {
            "text/plain": [
              "[0.3011960497665405, 0.8823999762535095]"
            ]
          },
          "metadata": {
            "tags": []
          },
          "execution_count": 26
        }
      ]
    },
    {
      "cell_type": "code",
      "metadata": {
        "id": "HLFH8tiKCm-U",
        "colab_type": "code",
        "colab": {
          "base_uri": "https://localhost:8080/",
          "height": 143
        },
        "outputId": "b9667860-07be-4d48-a5ee-2aab385c8e5b"
      },
      "source": [
        "model.predict(x_test)"
      ],
      "execution_count": 27,
      "outputs": [
        {
          "output_type": "execute_result",
          "data": {
            "text/plain": [
              "array([[0.19725138],\n",
              "       [0.99977   ],\n",
              "       [0.9640344 ],\n",
              "       ...,\n",
              "       [0.12788467],\n",
              "       [0.07789367],\n",
              "       [0.7196239 ]], dtype=float32)"
            ]
          },
          "metadata": {
            "tags": []
          },
          "execution_count": 27
        }
      ]
    },
    {
      "cell_type": "markdown",
      "metadata": {
        "id": "hHmCbpKBNxpN",
        "colab_type": "text"
      },
      "source": [
        "뉴스 기사 분류"
      ]
    },
    {
      "cell_type": "code",
      "metadata": {
        "id": "Kfw5zcDhNzd7",
        "colab_type": "code",
        "colab": {}
      },
      "source": [
        "from keras.datasets import reuters\n",
        "\n",
        "(train_data, train_labels), (test_data, test_labels) = reuters.load_data(num_words=10000)"
      ],
      "execution_count": 0,
      "outputs": []
    },
    {
      "cell_type": "code",
      "metadata": {
        "id": "VX9BXtsFN9ty",
        "colab_type": "code",
        "colab": {
          "base_uri": "https://localhost:8080/",
          "height": 35
        },
        "outputId": "c75d7a82-905d-4ac1-e691-3d06c6796b96"
      },
      "source": [
        "len(train_data)"
      ],
      "execution_count": 59,
      "outputs": [
        {
          "output_type": "execute_result",
          "data": {
            "text/plain": [
              "8982"
            ]
          },
          "metadata": {
            "tags": []
          },
          "execution_count": 59
        }
      ]
    },
    {
      "cell_type": "code",
      "metadata": {
        "id": "KCMnc3lQOA7_",
        "colab_type": "code",
        "colab": {
          "base_uri": "https://localhost:8080/",
          "height": 35
        },
        "outputId": "2d5b7c33-7f18-4b6b-fd72-bd1e94c4deb8"
      },
      "source": [
        "len(test_data)"
      ],
      "execution_count": 60,
      "outputs": [
        {
          "output_type": "execute_result",
          "data": {
            "text/plain": [
              "2246"
            ]
          },
          "metadata": {
            "tags": []
          },
          "execution_count": 60
        }
      ]
    },
    {
      "cell_type": "code",
      "metadata": {
        "id": "q_D_hqItOCwr",
        "colab_type": "code",
        "colab": {
          "base_uri": "https://localhost:8080/",
          "height": 575
        },
        "outputId": "c4b2881c-b881-4b0c-bcd0-f7b1b0327359"
      },
      "source": [
        "train_data[10]"
      ],
      "execution_count": 61,
      "outputs": [
        {
          "output_type": "execute_result",
          "data": {
            "text/plain": [
              "[1,\n",
              " 245,\n",
              " 273,\n",
              " 207,\n",
              " 156,\n",
              " 53,\n",
              " 74,\n",
              " 160,\n",
              " 26,\n",
              " 14,\n",
              " 46,\n",
              " 296,\n",
              " 26,\n",
              " 39,\n",
              " 74,\n",
              " 2979,\n",
              " 3554,\n",
              " 14,\n",
              " 46,\n",
              " 4689,\n",
              " 4329,\n",
              " 86,\n",
              " 61,\n",
              " 3499,\n",
              " 4795,\n",
              " 14,\n",
              " 61,\n",
              " 451,\n",
              " 4329,\n",
              " 17,\n",
              " 12]"
            ]
          },
          "metadata": {
            "tags": []
          },
          "execution_count": 61
        }
      ]
    },
    {
      "cell_type": "code",
      "metadata": {
        "id": "A2PEyDNWOE_b",
        "colab_type": "code",
        "colab": {}
      },
      "source": [
        "word_index = reuters.get_word_index()\n",
        "reverse_word_index = dict([(value, key) for (key, value) in word_index.items()])\n",
        "decoded_newswire = ' '.join([reverse_word_index.get(i - 3, '?') for i in train_data[0]])"
      ],
      "execution_count": 0,
      "outputs": []
    },
    {
      "cell_type": "code",
      "metadata": {
        "id": "P9HM7Q7LTQS-",
        "colab_type": "code",
        "colab": {
          "base_uri": "https://localhost:8080/",
          "height": 55
        },
        "outputId": "1d77d448-f3df-4614-ab59-26625b9433b3"
      },
      "source": [
        "decoded_newswire"
      ],
      "execution_count": 78,
      "outputs": [
        {
          "output_type": "execute_result",
          "data": {
            "text/plain": [
              "'? ? ? said as a result of its december acquisition of space co it expects earnings per share in 1987 of 1 15 to 1 30 dlrs per share up from 70 cts in 1986 the company said pretax net should rise to nine to 10 mln dlrs from six mln dlrs in 1986 and rental operation revenues to 19 to 22 mln dlrs from 12 5 mln dlrs it said cash flow per share this year should be 2 50 to three dlrs reuter 3'"
            ]
          },
          "metadata": {
            "tags": []
          },
          "execution_count": 78
        }
      ]
    },
    {
      "cell_type": "code",
      "metadata": {
        "id": "3RETIn3EOVV1",
        "colab_type": "code",
        "colab": {
          "base_uri": "https://localhost:8080/",
          "height": 35
        },
        "outputId": "e0dd5b49-8a89-4dd2-a76f-1d2b2556b59e"
      },
      "source": [
        "train_labels[10]"
      ],
      "execution_count": 79,
      "outputs": [
        {
          "output_type": "execute_result",
          "data": {
            "text/plain": [
              "3"
            ]
          },
          "metadata": {
            "tags": []
          },
          "execution_count": 79
        }
      ]
    },
    {
      "cell_type": "code",
      "metadata": {
        "id": "_2rdAyxhOXKC",
        "colab_type": "code",
        "colab": {}
      },
      "source": [
        "import numpy as np\n",
        "\n",
        "def vectorize_sequences(sequences, dimension=10000):\n",
        "    results = np.zeros((len(sequences), dimension))\n",
        "    for i, sequence in enumerate(sequences):\n",
        "        results[i, sequence] = 1.\n",
        "    return results\n",
        "\n",
        "x_train = vectorize_sequences(train_data)\n",
        "x_test = vectorize_sequences(test_data)"
      ],
      "execution_count": 0,
      "outputs": []
    },
    {
      "cell_type": "code",
      "metadata": {
        "id": "dFNiaJP6OqpI",
        "colab_type": "code",
        "colab": {}
      },
      "source": [
        "def to_one_hot(labels, dimension=46):\n",
        "    results = np.zeros((len(labels), dimension))\n",
        "    for i, label in enumerate(labels):\n",
        "        results[i, label] = 1.\n",
        "    return results\n",
        "\n",
        "one_hot_train_labels = to_one_hot(train_labels)\n",
        "one_hot_test_labels = to_one_hot(test_labels)"
      ],
      "execution_count": 0,
      "outputs": []
    },
    {
      "cell_type": "code",
      "metadata": {
        "id": "jmc-40ZBO8SU",
        "colab_type": "code",
        "colab": {}
      },
      "source": [
        "from keras.utils.np_utils import to_categorical\n",
        "\n",
        "one_hot_train_labels = to_categorical(train_labels)\n",
        "one_hot_test_labels = to_categorical(test_labels)"
      ],
      "execution_count": 0,
      "outputs": []
    },
    {
      "cell_type": "code",
      "metadata": {
        "id": "F2ZqmtY3PU3S",
        "colab_type": "code",
        "colab": {}
      },
      "source": [
        "from keras import models\n",
        "from keras import layers\n",
        "\n",
        "model = models.Sequential()\n",
        "model.add(layers.Dense(64, activation='relu', input_shape=(10000,)))\n",
        "model.add(layers.Dense(64, activation='relu'))\n",
        "model.add(layers.Dense(46, activation='softmax'))"
      ],
      "execution_count": 0,
      "outputs": []
    },
    {
      "cell_type": "code",
      "metadata": {
        "id": "s7WxMXogPnCV",
        "colab_type": "code",
        "colab": {}
      },
      "source": [
        "model.compile(optimizer='rmsprop', loss='categorical_crossentropy', metrics=['accuracy'])"
      ],
      "execution_count": 0,
      "outputs": []
    },
    {
      "cell_type": "code",
      "metadata": {
        "id": "TaP8XxUSPuLq",
        "colab_type": "code",
        "colab": {}
      },
      "source": [
        "x_val = x_train[:1000]\n",
        "partial_x_train = x_train[1000:]\n",
        "\n",
        "y_val = one_hot_train_labels[:1000]\n",
        "partial_y_train = one_hot_train_labels[1000:]"
      ],
      "execution_count": 0,
      "outputs": []
    },
    {
      "cell_type": "code",
      "metadata": {
        "id": "n2-PGUbiQIwl",
        "colab_type": "code",
        "colab": {
          "base_uri": "https://localhost:8080/",
          "height": 775
        },
        "outputId": "83fa0322-88fe-484f-a820-cd7d803e70b9"
      },
      "source": [
        "history = model.fit(partial_x_train,\n",
        "                    partial_y_train,\n",
        "                    epochs=20,\n",
        "                    batch_size=512,\n",
        "                    validation_data=(x_val, y_val))"
      ],
      "execution_count": 86,
      "outputs": [
        {
          "output_type": "stream",
          "text": [
            "Train on 7982 samples, validate on 1000 samples\n",
            "Epoch 1/20\n",
            "7982/7982 [==============================] - 0s 58us/step - loss: 2.5815 - accuracy: 0.5292 - val_loss: 1.7128 - val_accuracy: 0.6500\n",
            "Epoch 2/20\n",
            "7982/7982 [==============================] - 0s 49us/step - loss: 1.4036 - accuracy: 0.7105 - val_loss: 1.2910 - val_accuracy: 0.7100\n",
            "Epoch 3/20\n",
            "7982/7982 [==============================] - 0s 48us/step - loss: 1.0413 - accuracy: 0.7737 - val_loss: 1.1063 - val_accuracy: 0.7630\n",
            "Epoch 4/20\n",
            "7982/7982 [==============================] - 0s 50us/step - loss: 0.8069 - accuracy: 0.8316 - val_loss: 1.0095 - val_accuracy: 0.7890\n",
            "Epoch 5/20\n",
            "7982/7982 [==============================] - 0s 49us/step - loss: 0.6367 - accuracy: 0.8698 - val_loss: 0.9447 - val_accuracy: 0.8090\n",
            "Epoch 6/20\n",
            "7982/7982 [==============================] - 0s 49us/step - loss: 0.5046 - accuracy: 0.8955 - val_loss: 0.9055 - val_accuracy: 0.8020\n",
            "Epoch 7/20\n",
            "7982/7982 [==============================] - 0s 49us/step - loss: 0.4029 - accuracy: 0.9184 - val_loss: 0.8703 - val_accuracy: 0.8040\n",
            "Epoch 8/20\n",
            "7982/7982 [==============================] - 0s 48us/step - loss: 0.3263 - accuracy: 0.9323 - val_loss: 0.8884 - val_accuracy: 0.8030\n",
            "Epoch 9/20\n",
            "7982/7982 [==============================] - 0s 49us/step - loss: 0.2749 - accuracy: 0.9384 - val_loss: 0.8673 - val_accuracy: 0.8160\n",
            "Epoch 10/20\n",
            "7982/7982 [==============================] - 0s 49us/step - loss: 0.2284 - accuracy: 0.9451 - val_loss: 0.8920 - val_accuracy: 0.8190\n",
            "Epoch 11/20\n",
            "7982/7982 [==============================] - 0s 50us/step - loss: 0.2028 - accuracy: 0.9491 - val_loss: 0.8879 - val_accuracy: 0.8130\n",
            "Epoch 12/20\n",
            "7982/7982 [==============================] - 0s 49us/step - loss: 0.1760 - accuracy: 0.9521 - val_loss: 0.9152 - val_accuracy: 0.8100\n",
            "Epoch 13/20\n",
            "7982/7982 [==============================] - 0s 47us/step - loss: 0.1596 - accuracy: 0.9540 - val_loss: 0.9231 - val_accuracy: 0.8090\n",
            "Epoch 14/20\n",
            "7982/7982 [==============================] - 0s 48us/step - loss: 0.1492 - accuracy: 0.9534 - val_loss: 0.9202 - val_accuracy: 0.8120\n",
            "Epoch 15/20\n",
            "7982/7982 [==============================] - 0s 48us/step - loss: 0.1372 - accuracy: 0.9551 - val_loss: 0.9552 - val_accuracy: 0.8090\n",
            "Epoch 16/20\n",
            "7982/7982 [==============================] - 0s 47us/step - loss: 0.1289 - accuracy: 0.9559 - val_loss: 0.9600 - val_accuracy: 0.8200\n",
            "Epoch 17/20\n",
            "7982/7982 [==============================] - 0s 49us/step - loss: 0.1191 - accuracy: 0.9595 - val_loss: 1.0004 - val_accuracy: 0.8080\n",
            "Epoch 18/20\n",
            "7982/7982 [==============================] - 0s 48us/step - loss: 0.1230 - accuracy: 0.9568 - val_loss: 0.9839 - val_accuracy: 0.8120\n",
            "Epoch 19/20\n",
            "7982/7982 [==============================] - 0s 48us/step - loss: 0.1134 - accuracy: 0.9563 - val_loss: 1.0124 - val_accuracy: 0.8070\n",
            "Epoch 20/20\n",
            "7982/7982 [==============================] - 0s 48us/step - loss: 0.1104 - accuracy: 0.9575 - val_loss: 1.0093 - val_accuracy: 0.8030\n"
          ],
          "name": "stdout"
        }
      ]
    },
    {
      "cell_type": "code",
      "metadata": {
        "id": "yyfqFCsQQjhb",
        "colab_type": "code",
        "colab": {
          "base_uri": "https://localhost:8080/",
          "height": 295
        },
        "outputId": "70e22f4e-09a7-4633-9762-8c0d748f4302"
      },
      "source": [
        "import matplotlib.pyplot as plt\n",
        "\n",
        "loss = history.history['loss']\n",
        "val_loss = history.history['val_loss']\n",
        "\n",
        "epochs = range(1, len(loss) + 1)\n",
        "\n",
        "plt.plot(epochs, loss, 'bo', label='Training loss')\n",
        "plt.plot(epochs, val_loss, 'b', label='Validation loss')\n",
        "plt.title('Training and validation loss')\n",
        "plt.xlabel('Epochs')\n",
        "plt.ylabel('Loss')\n",
        "plt.legend()\n",
        "\n",
        "plt.show()"
      ],
      "execution_count": 87,
      "outputs": [
        {
          "output_type": "display_data",
          "data": {
            "image/png": "[encoded data removed]",
            "text/plain": [
              "<Figure size 432x288 with 1 Axes>"
            ]
          },
          "metadata": {
            "tags": [],
            "needs_background": "light"
          }
        }
      ]
    },
    {
      "cell_type": "code",
      "metadata": {
        "id": "Z76zngabQ5QX",
        "colab_type": "code",
        "colab": {
          "base_uri": "https://localhost:8080/",
          "height": 295
        },
        "outputId": "15df894c-33c5-476a-80ee-4478d0f2f604"
      },
      "source": [
        "plt.clf()\n",
        "\n",
        "acc = history.history['accuracy']\n",
        "val_acc = history.history['val_accuracy']\n",
        "\n",
        "plt.plot(epochs, acc, 'bo', label='Training acc')\n",
        "plt.plot(epochs, val_acc, 'b', label='Validation acc')\n",
        "plt.title('Training and validation accuracy')\n",
        "plt.xlabel('Epochs')\n",
        "plt.ylabel('Accuracy')\n",
        "plt.legend()\n",
        "\n",
        "plt.show()"
      ],
      "execution_count": 93,
      "outputs": [
        {
          "output_type": "display_data",
          "data": {
            "image/png": "[encoded data removed]",
            "text/plain": [
              "<Figure size 432x288 with 1 Axes>"
            ]
          },
          "metadata": {
            "tags": [],
            "needs_background": "light"
          }
        }
      ]
    },
    {
      "cell_type": "code",
      "metadata": {
        "id": "UTc1osiCTr56",
        "colab_type": "code",
        "colab": {
          "base_uri": "https://localhost:8080/",
          "height": 397
        },
        "outputId": "485d3fe5-44a9-4edf-9a0f-f15ad40b1478"
      },
      "source": [
        "model = models.Sequential()\n",
        "model.add(layers.Dense(64, activation='relu', input_shape=(10000,)))\n",
        "model.add(layers.Dense(64, activation='relu'))\n",
        "model.add(layers.Dense(46, activation='softmax'))\n",
        "\n",
        "model.compile(optimizer='rmsprop',\n",
        "              loss='categorical_crossentropy',\n",
        "              metrics=['accuracy'])\n",
        "model.fit(partial_x_train,\n",
        "          partial_y_train,\n",
        "          epochs=9,\n",
        "          batch_size=512,\n",
        "          validation_data=(x_val, y_val))\n",
        "results = model.evaluate(x_test, one_hot_test_labels)"
      ],
      "execution_count": 89,
      "outputs": [
        {
          "output_type": "stream",
          "text": [
            "Train on 7982 samples, validate on 1000 samples\n",
            "Epoch 1/9\n",
            "7982/7982 [==============================] - 0s 57us/step - loss: 2.6740 - accuracy: 0.5288 - val_loss: 1.7385 - val_accuracy: 0.6400\n",
            "Epoch 2/9\n",
            "7982/7982 [==============================] - 0s 49us/step - loss: 1.4244 - accuracy: 0.7048 - val_loss: 1.2946 - val_accuracy: 0.7180\n",
            "Epoch 3/9\n",
            "7982/7982 [==============================] - 0s 50us/step - loss: 1.0546 - accuracy: 0.7709 - val_loss: 1.1202 - val_accuracy: 0.7530\n",
            "Epoch 4/9\n",
            "7982/7982 [==============================] - 0s 49us/step - loss: 0.8301 - accuracy: 0.8173 - val_loss: 1.0292 - val_accuracy: 0.7850\n",
            "Epoch 5/9\n",
            "7982/7982 [==============================] - 0s 48us/step - loss: 0.6533 - accuracy: 0.8641 - val_loss: 0.9592 - val_accuracy: 0.7980\n",
            "Epoch 6/9\n",
            "7982/7982 [==============================] - 0s 50us/step - loss: 0.5176 - accuracy: 0.8928 - val_loss: 0.9389 - val_accuracy: 0.8010\n",
            "Epoch 7/9\n",
            "7982/7982 [==============================] - 0s 50us/step - loss: 0.4164 - accuracy: 0.9138 - val_loss: 0.9085 - val_accuracy: 0.8040\n",
            "Epoch 8/9\n",
            "7982/7982 [==============================] - 0s 50us/step - loss: 0.3397 - accuracy: 0.9270 - val_loss: 0.8978 - val_accuracy: 0.8150\n",
            "Epoch 9/9\n",
            "7982/7982 [==============================] - 0s 49us/step - loss: 0.2804 - accuracy: 0.9352 - val_loss: 0.9454 - val_accuracy: 0.7980\n",
            "2246/2246 [==============================] - 0s 82us/step\n"
          ],
          "name": "stdout"
        }
      ]
    },
    {
      "cell_type": "code",
      "metadata": {
        "id": "JCx5pqidSztD",
        "colab_type": "code",
        "colab": {
          "base_uri": "https://localhost:8080/",
          "height": 35
        },
        "outputId": "90b74281-b479-4b3f-daea-e1bae452dd01"
      },
      "source": [
        "results"
      ],
      "execution_count": 90,
      "outputs": [
        {
          "output_type": "execute_result",
          "data": {
            "text/plain": [
              "[1.032216921302748, 0.7760462760925293]"
            ]
          },
          "metadata": {
            "tags": []
          },
          "execution_count": 90
        }
      ]
    },
    {
      "cell_type": "code",
      "metadata": {
        "id": "0iLIjp3TTwNN",
        "colab_type": "code",
        "colab": {
          "base_uri": "https://localhost:8080/",
          "height": 35
        },
        "outputId": "49424d01-ef04-4910-c534-89c91ad883f3"
      },
      "source": [
        "import copy\n",
        "\n",
        "test_labels_copy = copy.copy(test_labels)\n",
        "np.random.shuffle(test_labels_copy)\n",
        "float(np.sum(np.array(test_labels) == np.array(test_labels_copy))) / len(test_labels)"
      ],
      "execution_count": 91,
      "outputs": [
        {
          "output_type": "execute_result",
          "data": {
            "text/plain": [
              "0.18521816562778273"
            ]
          },
          "metadata": {
            "tags": []
          },
          "execution_count": 91
        }
      ]
    },
    {
      "cell_type": "code",
      "metadata": {
        "id": "x9qPeGVrX5VJ",
        "colab_type": "code",
        "colab": {}
      },
      "source": [
        "predictions = model.predict(x_test)"
      ],
      "execution_count": 0,
      "outputs": []
    },
    {
      "cell_type": "code",
      "metadata": {
        "id": "CqulrOHfX7ex",
        "colab_type": "code",
        "colab": {
          "base_uri": "https://localhost:8080/",
          "height": 35
        },
        "outputId": "fb032083-8597-4d7c-c9d6-e8911612deb4"
      },
      "source": [
        "predictions[0].shape"
      ],
      "execution_count": 95,
      "outputs": [
        {
          "output_type": "execute_result",
          "data": {
            "text/plain": [
              "(46,)"
            ]
          },
          "metadata": {
            "tags": []
          },
          "execution_count": 95
        }
      ]
    },
    {
      "cell_type": "code",
      "metadata": {
        "id": "yMEgca2gX9CK",
        "colab_type": "code",
        "colab": {
          "base_uri": "https://localhost:8080/",
          "height": 35
        },
        "outputId": "2ac40852-5e3e-4eba-99c2-978ad046130e"
      },
      "source": [
        "np.sum(predictions[0])"
      ],
      "execution_count": 96,
      "outputs": [
        {
          "output_type": "execute_result",
          "data": {
            "text/plain": [
              "0.99999994"
            ]
          },
          "metadata": {
            "tags": []
          },
          "execution_count": 96
        }
      ]
    },
    {
      "cell_type": "code",
      "metadata": {
        "id": "IJasDHkuX_Va",
        "colab_type": "code",
        "colab": {
          "base_uri": "https://localhost:8080/",
          "height": 35
        },
        "outputId": "d2a6ebde-199e-4d13-c7e4-efc81abef685"
      },
      "source": [
        "np.argmax(predictions[0])"
      ],
      "execution_count": 97,
      "outputs": [
        {
          "output_type": "execute_result",
          "data": {
            "text/plain": [
              "3"
            ]
          },
          "metadata": {
            "tags": []
          },
          "execution_count": 97
        }
      ]
    },
    {
      "cell_type": "code",
      "metadata": {
        "id": "k9w6sazsYCzF",
        "colab_type": "code",
        "colab": {}
      },
      "source": [
        "y_train = np.array(train_labels)\n",
        "y_test = np.array(test_labels)"
      ],
      "execution_count": 0,
      "outputs": []
    },
    {
      "cell_type": "code",
      "metadata": {
        "id": "D4igka-KYQbC",
        "colab_type": "code",
        "colab": {}
      },
      "source": [
        "model.compile(optimizer='rmsprop', loss='sparse_categorical_crossentropy', metrics=['acc'])"
      ],
      "execution_count": 0,
      "outputs": []
    },
    {
      "cell_type": "code",
      "metadata": {
        "id": "_UlyAzl2YYX1",
        "colab_type": "code",
        "colab": {
          "base_uri": "https://localhost:8080/",
          "height": 793
        },
        "outputId": "fa3ea9f6-d17d-46d6-aa92-6deea0296086"
      },
      "source": [
        "model = models.Sequential()\n",
        "model.add(layers.Dense(64, activation='relu', input_shape=(10000,)))\n",
        "model.add(layers.Dense(4, activation='relu'))\n",
        "model.add(layers.Dense(46, activation='softmax'))\n",
        "\n",
        "model.compile(optimizer='rmsprop', loss='categorical_crossentropy', metrics=['accuracy'])\n",
        "model.fit(partial_x_train, partial_y_train, epochs=20, batch_size=128, validation_data=(x_val, y_val))"
      ],
      "execution_count": 101,
      "outputs": [
        {
          "output_type": "stream",
          "text": [
            "Train on 7982 samples, validate on 1000 samples\n",
            "Epoch 1/20\n",
            "7982/7982 [==============================] - 1s 74us/step - loss: 3.0736 - accuracy: 0.4002 - val_loss: 2.4261 - val_accuracy: 0.5140\n",
            "Epoch 2/20\n",
            "7982/7982 [==============================] - 0s 60us/step - loss: 1.9801 - accuracy: 0.5613 - val_loss: 1.7732 - val_accuracy: 0.5740\n",
            "Epoch 3/20\n",
            "7982/7982 [==============================] - 0s 61us/step - loss: 1.5444 - accuracy: 0.6179 - val_loss: 1.5839 - val_accuracy: 0.6080\n",
            "Epoch 4/20\n",
            "7982/7982 [==============================] - 0s 60us/step - loss: 1.3631 - accuracy: 0.6463 - val_loss: 1.5260 - val_accuracy: 0.6170\n",
            "Epoch 5/20\n",
            "7982/7982 [==============================] - 0s 62us/step - loss: 1.2488 - accuracy: 0.6718 - val_loss: 1.5056 - val_accuracy: 0.6330\n",
            "Epoch 6/20\n",
            "7982/7982 [==============================] - 0s 60us/step - loss: 1.1580 - accuracy: 0.6987 - val_loss: 1.4894 - val_accuracy: 0.6570\n",
            "Epoch 7/20\n",
            "7982/7982 [==============================] - 0s 61us/step - loss: 1.0833 - accuracy: 0.7261 - val_loss: 1.4788 - val_accuracy: 0.6690\n",
            "Epoch 8/20\n",
            "7982/7982 [==============================] - 0s 60us/step - loss: 1.0182 - accuracy: 0.7394 - val_loss: 1.4664 - val_accuracy: 0.6720\n",
            "Epoch 9/20\n",
            "7982/7982 [==============================] - 1s 63us/step - loss: 0.9429 - accuracy: 0.7508 - val_loss: 1.4648 - val_accuracy: 0.6810\n",
            "Epoch 10/20\n",
            "7982/7982 [==============================] - 0s 60us/step - loss: 0.8648 - accuracy: 0.7735 - val_loss: 1.4954 - val_accuracy: 0.6850\n",
            "Epoch 11/20\n",
            "7982/7982 [==============================] - 0s 62us/step - loss: 0.7969 - accuracy: 0.7902 - val_loss: 1.4949 - val_accuracy: 0.6890\n",
            "Epoch 12/20\n",
            "7982/7982 [==============================] - 0s 60us/step - loss: 0.7394 - accuracy: 0.8073 - val_loss: 1.5349 - val_accuracy: 0.6870\n",
            "Epoch 13/20\n",
            "7982/7982 [==============================] - 0s 62us/step - loss: 0.6876 - accuracy: 0.8176 - val_loss: 1.5294 - val_accuracy: 0.6870\n",
            "Epoch 14/20\n",
            "7982/7982 [==============================] - 0s 60us/step - loss: 0.6435 - accuracy: 0.8299 - val_loss: 1.5599 - val_accuracy: 0.6930\n",
            "Epoch 15/20\n",
            "7982/7982 [==============================] - 0s 60us/step - loss: 0.6028 - accuracy: 0.8378 - val_loss: 1.5959 - val_accuracy: 0.6920\n",
            "Epoch 16/20\n",
            "7982/7982 [==============================] - 0s 59us/step - loss: 0.5703 - accuracy: 0.8474 - val_loss: 1.6423 - val_accuracy: 0.7020\n",
            "Epoch 17/20\n",
            "7982/7982 [==============================] - 0s 60us/step - loss: 0.5410 - accuracy: 0.8537 - val_loss: 1.6709 - val_accuracy: 0.7030\n",
            "Epoch 18/20\n",
            "7982/7982 [==============================] - 0s 61us/step - loss: 0.5152 - accuracy: 0.8587 - val_loss: 1.7801 - val_accuracy: 0.6980\n",
            "Epoch 19/20\n",
            "7982/7982 [==============================] - 0s 60us/step - loss: 0.4916 - accuracy: 0.8646 - val_loss: 1.8068 - val_accuracy: 0.6990\n",
            "Epoch 20/20\n",
            "7982/7982 [==============================] - 0s 62us/step - loss: 0.4715 - accuracy: 0.8695 - val_loss: 1.8398 - val_accuracy: 0.7070\n"
          ],
          "name": "stdout"
        },
        {
          "output_type": "execute_result",
          "data": {
            "text/plain": [
              "<keras.callbacks.callbacks.History at 0x7f9e1046f278>"
            ]
          },
          "metadata": {
            "tags": []
          },
          "execution_count": 101
        }
      ]
    },
    {
      "cell_type": "code",
      "metadata": {
        "id": "UpmiO4u0Y0p8",
        "colab_type": "code",
        "colab": {
          "base_uri": "https://localhost:8080/",
          "height": 793
        },
        "outputId": "9d0c4044-6b6b-43ae-d516-50b5ac733562"
      },
      "source": [
        "model = models.Sequential()\n",
        "model.add(layers.Dense(64, activation='relu', input_shape=(10000,)))\n",
        "model.add(layers.Dense(4, activation='relu'))\n",
        "model.add(layers.Dense(46, activation='softmax'))\n",
        "\n",
        "model.compile(optimizer='rmsprop', loss='categorical_crossentropy', metrics=['accuracy'])\n",
        "model.fit(partial_x_train, partial_y_train, epochs=20, batch_size=128, validation_data=(x_val, y_val))"
      ],
      "execution_count": 102,
      "outputs": [
        {
          "output_type": "stream",
          "text": [
            "Train on 7982 samples, validate on 1000 samples\n",
            "Epoch 1/20\n",
            "7982/7982 [==============================] - 1s 70us/step - loss: 2.9902 - accuracy: 0.2393 - val_loss: 2.2265 - val_accuracy: 0.5840\n",
            "Epoch 2/20\n",
            "7982/7982 [==============================] - 0s 60us/step - loss: 1.7557 - accuracy: 0.6248 - val_loss: 1.5777 - val_accuracy: 0.6410\n",
            "Epoch 3/20\n",
            "7982/7982 [==============================] - 0s 60us/step - loss: 1.3386 - accuracy: 0.6891 - val_loss: 1.4176 - val_accuracy: 0.6770\n",
            "Epoch 4/20\n",
            "7982/7982 [==============================] - 0s 61us/step - loss: 1.1657 - accuracy: 0.7225 - val_loss: 1.3808 - val_accuracy: 0.6790\n",
            "Epoch 5/20\n",
            "7982/7982 [==============================] - 0s 61us/step - loss: 1.0439 - accuracy: 0.7440 - val_loss: 1.3487 - val_accuracy: 0.6990\n",
            "Epoch 6/20\n",
            "7982/7982 [==============================] - 0s 61us/step - loss: 0.9501 - accuracy: 0.7657 - val_loss: 1.3317 - val_accuracy: 0.6940\n",
            "Epoch 7/20\n",
            "7982/7982 [==============================] - 0s 61us/step - loss: 0.8641 - accuracy: 0.7841 - val_loss: 1.3471 - val_accuracy: 0.7000\n",
            "Epoch 8/20\n",
            "7982/7982 [==============================] - 0s 61us/step - loss: 0.7924 - accuracy: 0.8009 - val_loss: 1.3508 - val_accuracy: 0.7140\n",
            "Epoch 9/20\n",
            "7982/7982 [==============================] - 0s 62us/step - loss: 0.7299 - accuracy: 0.8175 - val_loss: 1.4218 - val_accuracy: 0.7110\n",
            "Epoch 10/20\n",
            "7982/7982 [==============================] - 0s 59us/step - loss: 0.6763 - accuracy: 0.8296 - val_loss: 1.4525 - val_accuracy: 0.7170\n",
            "Epoch 11/20\n",
            "7982/7982 [==============================] - 0s 61us/step - loss: 0.6337 - accuracy: 0.8385 - val_loss: 1.4770 - val_accuracy: 0.7150\n",
            "Epoch 12/20\n",
            "7982/7982 [==============================] - 0s 60us/step - loss: 0.5934 - accuracy: 0.8457 - val_loss: 1.5065 - val_accuracy: 0.7230\n",
            "Epoch 13/20\n",
            "7982/7982 [==============================] - 0s 62us/step - loss: 0.5623 - accuracy: 0.8530 - val_loss: 1.5711 - val_accuracy: 0.7220\n",
            "Epoch 14/20\n",
            "7982/7982 [==============================] - 0s 60us/step - loss: 0.5310 - accuracy: 0.8573 - val_loss: 1.6177 - val_accuracy: 0.7190\n",
            "Epoch 15/20\n",
            "7982/7982 [==============================] - 0s 63us/step - loss: 0.5064 - accuracy: 0.8636 - val_loss: 1.6881 - val_accuracy: 0.7180\n",
            "Epoch 16/20\n",
            "7982/7982 [==============================] - 0s 59us/step - loss: 0.4812 - accuracy: 0.8675 - val_loss: 1.7218 - val_accuracy: 0.7150\n",
            "Epoch 17/20\n",
            "7982/7982 [==============================] - 0s 61us/step - loss: 0.4602 - accuracy: 0.8703 - val_loss: 1.7802 - val_accuracy: 0.7190\n",
            "Epoch 18/20\n",
            "7982/7982 [==============================] - 0s 60us/step - loss: 0.4432 - accuracy: 0.8748 - val_loss: 1.8826 - val_accuracy: 0.7150\n",
            "Epoch 19/20\n",
            "7982/7982 [==============================] - 0s 62us/step - loss: 0.4284 - accuracy: 0.8776 - val_loss: 1.9608 - val_accuracy: 0.7080\n",
            "Epoch 20/20\n",
            "7982/7982 [==============================] - 0s 61us/step - loss: 0.4135 - accuracy: 0.8840 - val_loss: 1.9819 - val_accuracy: 0.7090\n"
          ],
          "name": "stdout"
        },
        {
          "output_type": "execute_result",
          "data": {
            "text/plain": [
              "<keras.callbacks.callbacks.History at 0x7f9e259c3908>"
            ]
          },
          "metadata": {
            "tags": []
          },
          "execution_count": 102
        }
      ]
    }
  ]
}