{
  "nbformat": 4,
  "nbformat_minor": 0,
  "metadata": {
    "colab": {
      "name": "do_it_3.ipynb",
      "provenance": [],
      "collapsed_sections": []
    },
    "kernelspec": {
      "name": "python3",
      "display_name": "Python 3"
    }
  },
  "cells": [
    {
      "cell_type": "code",
      "metadata": {
        "id": "iKxF93bAdVMu",
        "colab_type": "code",
        "outputId": "625cac9b-fff4-4f4a-d1b7-a637a8fe3392",
        "colab": {
          "base_uri": "https://localhost:8080/",
          "height": 1000
        }
      },
      "source": [
        "!pip install tensorflow_gpu==2.0.0"
      ],
      "execution_count": 1,
      "outputs": [
        {
          "output_type": "stream",
          "text": [
            "Collecting tensorflow_gpu==2.0.0\n",
            "\u001b[?25l  Downloading https://files.pythonhosted.org/packages/25/44/47f0722aea081697143fbcf5d2aa60d1aee4aaacb5869aee2b568974777b/tensorflow_gpu-2.0.0-cp36-cp36m-manylinux2010_x86_64.whl (380.8MB)\n",
            "\u001b[K     |████████████████████████████████| 380.8MB 42kB/s \n",
            "\u001b[?25hRequirement already satisfied: absl-py>=0.7.0 in /usr/local/lib/python3.6/dist-packages (from tensorflow_gpu==2.0.0) (0.9.0)\n",
            "Collecting tensorboard<2.1.0,>=2.0.0\n",
            "\u001b[?25l  Downloading https://files.pythonhosted.org/packages/76/54/99b9d5d52d5cb732f099baaaf7740403e83fe6b0cedde940fabd2b13d75a/tensorboard-2.0.2-py3-none-any.whl (3.8MB)\n",
            "\u001b[K     |████████████████████████████████| 3.8MB 44.8MB/s \n",
            "\u001b[?25hRequirement already satisfied: keras-applications>=1.0.8 in /usr/local/lib/python3.6/dist-packages (from tensorflow_gpu==2.0.0) (1.0.8)\n",
            "Requirement already satisfied: astor>=0.6.0 in /usr/local/lib/python3.6/dist-packages (from tensorflow_gpu==2.0.0) (0.8.1)\n",
            "Collecting gast==0.2.2\n",
            "  Downloading https://files.pythonhosted.org/packages/4e/35/11749bf99b2d4e3cceb4d55ca22590b0d7c2c62b9de38ac4a4a7f4687421/gast-0.2.2.tar.gz\n",
            "Collecting tensorflow-estimator<2.1.0,>=2.0.0\n",
            "\u001b[?25l  Downloading https://files.pythonhosted.org/packages/fc/08/8b927337b7019c374719145d1dceba21a8bb909b93b1ad6f8fb7d22c1ca1/tensorflow_estimator-2.0.1-py2.py3-none-any.whl (449kB)\n",
            "\u001b[K     |████████████████████████████████| 450kB 41.4MB/s \n",
            "\u001b[?25hRequirement already satisfied: wrapt>=1.11.1 in /usr/local/lib/python3.6/dist-packages (from tensorflow_gpu==2.0.0) (1.12.1)\n",
            "Requirement already satisfied: six>=1.10.0 in /usr/local/lib/python3.6/dist-packages (from tensorflow_gpu==2.0.0) (1.12.0)\n",
            "Requirement already satisfied: keras-preprocessing>=1.0.5 in /usr/local/lib/python3.6/dist-packages (from tensorflow_gpu==2.0.0) (1.1.0)\n",
            "Requirement already satisfied: termcolor>=1.1.0 in /usr/local/lib/python3.6/dist-packages (from tensorflow_gpu==2.0.0) (1.1.0)\n",
            "Requirement already satisfied: protobuf>=3.6.1 in /usr/local/lib/python3.6/dist-packages (from tensorflow_gpu==2.0.0) (3.10.0)\n",
            "Requirement already satisfied: numpy<2.0,>=1.16.0 in /usr/local/lib/python3.6/dist-packages (from tensorflow_gpu==2.0.0) (1.18.2)\n",
            "Requirement already satisfied: grpcio>=1.8.6 in /usr/local/lib/python3.6/dist-packages (from tensorflow_gpu==2.0.0) (1.28.1)\n",
            "Requirement already satisfied: wheel>=0.26 in /usr/local/lib/python3.6/dist-packages (from tensorflow_gpu==2.0.0) (0.34.2)\n",
            "Requirement already satisfied: google-pasta>=0.1.6 in /usr/local/lib/python3.6/dist-packages (from tensorflow_gpu==2.0.0) (0.2.0)\n",
            "Requirement already satisfied: opt-einsum>=2.3.2 in /usr/local/lib/python3.6/dist-packages (from tensorflow_gpu==2.0.0) (3.2.0)\n",
            "Requirement already satisfied: google-auth-oauthlib<0.5,>=0.4.1 in /usr/local/lib/python3.6/dist-packages (from tensorboard<2.1.0,>=2.0.0->tensorflow_gpu==2.0.0) (0.4.1)\n",
            "Requirement already satisfied: setuptools>=41.0.0 in /usr/local/lib/python3.6/dist-packages (from tensorboard<2.1.0,>=2.0.0->tensorflow_gpu==2.0.0) (46.1.3)\n",
            "Requirement already satisfied: werkzeug>=0.11.15 in /usr/local/lib/python3.6/dist-packages (from tensorboard<2.1.0,>=2.0.0->tensorflow_gpu==2.0.0) (1.0.1)\n",
            "Requirement already satisfied: markdown>=2.6.8 in /usr/local/lib/python3.6/dist-packages (from tensorboard<2.1.0,>=2.0.0->tensorflow_gpu==2.0.0) (3.2.1)\n",
            "Requirement already satisfied: google-auth<2,>=1.6.3 in /usr/local/lib/python3.6/dist-packages (from tensorboard<2.1.0,>=2.0.0->tensorflow_gpu==2.0.0) (1.7.2)\n",
            "Requirement already satisfied: requests<3,>=2.21.0 in /usr/local/lib/python3.6/dist-packages (from tensorboard<2.1.0,>=2.0.0->tensorflow_gpu==2.0.0) (2.21.0)\n",
            "Requirement already satisfied: h5py in /usr/local/lib/python3.6/dist-packages (from keras-applications>=1.0.8->tensorflow_gpu==2.0.0) (2.10.0)\n",
            "Requirement already satisfied: requests-oauthlib>=0.7.0 in /usr/local/lib/python3.6/dist-packages (from google-auth-oauthlib<0.5,>=0.4.1->tensorboard<2.1.0,>=2.0.0->tensorflow_gpu==2.0.0) (1.3.0)\n",
            "Requirement already satisfied: cachetools<3.2,>=2.0.0 in /usr/local/lib/python3.6/dist-packages (from google-auth<2,>=1.6.3->tensorboard<2.1.0,>=2.0.0->tensorflow_gpu==2.0.0) (3.1.1)\n",
            "Requirement already satisfied: rsa<4.1,>=3.1.4 in /usr/local/lib/python3.6/dist-packages (from google-auth<2,>=1.6.3->tensorboard<2.1.0,>=2.0.0->tensorflow_gpu==2.0.0) (4.0)\n",
            "Requirement already satisfied: pyasn1-modules>=0.2.1 in /usr/local/lib/python3.6/dist-packages (from google-auth<2,>=1.6.3->tensorboard<2.1.0,>=2.0.0->tensorflow_gpu==2.0.0) (0.2.8)\n",
            "Requirement already satisfied: chardet<3.1.0,>=3.0.2 in /usr/local/lib/python3.6/dist-packages (from requests<3,>=2.21.0->tensorboard<2.1.0,>=2.0.0->tensorflow_gpu==2.0.0) (3.0.4)\n",
            "Requirement already satisfied: certifi>=2017.4.17 in /usr/local/lib/python3.6/dist-packages (from requests<3,>=2.21.0->tensorboard<2.1.0,>=2.0.0->tensorflow_gpu==2.0.0) (2020.4.5.1)\n",
            "Requirement already satisfied: idna<2.9,>=2.5 in /usr/local/lib/python3.6/dist-packages (from requests<3,>=2.21.0->tensorboard<2.1.0,>=2.0.0->tensorflow_gpu==2.0.0) (2.8)\n",
            "Requirement already satisfied: urllib3<1.25,>=1.21.1 in /usr/local/lib/python3.6/dist-packages (from requests<3,>=2.21.0->tensorboard<2.1.0,>=2.0.0->tensorflow_gpu==2.0.0) (1.24.3)\n",
            "Requirement already satisfied: oauthlib>=3.0.0 in /usr/local/lib/python3.6/dist-packages (from requests-oauthlib>=0.7.0->google-auth-oauthlib<0.5,>=0.4.1->tensorboard<2.1.0,>=2.0.0->tensorflow_gpu==2.0.0) (3.1.0)\n",
            "Requirement already satisfied: pyasn1>=0.1.3 in /usr/local/lib/python3.6/dist-packages (from rsa<4.1,>=3.1.4->google-auth<2,>=1.6.3->tensorboard<2.1.0,>=2.0.0->tensorflow_gpu==2.0.0) (0.4.8)\n",
            "Building wheels for collected packages: gast\n",
            "  Building wheel for gast (setup.py) ... \u001b[?25l\u001b[?25hdone\n",
            "  Created wheel for gast: filename=gast-0.2.2-cp36-none-any.whl size=7540 sha256=ec530013b88c63d7e75aee447d26156407ba639e39ba95d52f94dd0406b95db9\n",
            "  Stored in directory: /root/.cache/pip/wheels/5c/2e/7e/a1d4d4fcebe6c381f378ce7743a3ced3699feb89bcfbdadadd\n",
            "Successfully built gast\n",
            "\u001b[31mERROR: tensorflow 2.2.0rc2 has requirement gast==0.3.3, but you'll have gast 0.2.2 which is incompatible.\u001b[0m\n",
            "\u001b[31mERROR: tensorflow 2.2.0rc2 has requirement tensorboard<2.3.0,>=2.2.0, but you'll have tensorboard 2.0.2 which is incompatible.\u001b[0m\n",
            "\u001b[31mERROR: tensorflow 2.2.0rc2 has requirement tensorflow-estimator<2.3.0,>=2.2.0rc0, but you'll have tensorflow-estimator 2.0.1 which is incompatible.\u001b[0m\n",
            "Installing collected packages: tensorboard, gast, tensorflow-estimator, tensorflow-gpu\n",
            "  Found existing installation: tensorboard 2.2.0\n",
            "    Uninstalling tensorboard-2.2.0:\n",
            "      Successfully uninstalled tensorboard-2.2.0\n",
            "  Found existing installation: gast 0.3.3\n",
            "    Uninstalling gast-0.3.3:\n",
            "      Successfully uninstalled gast-0.3.3\n",
            "  Found existing installation: tensorflow-estimator 2.2.0rc0\n",
            "    Uninstalling tensorflow-estimator-2.2.0rc0:\n",
            "      Successfully uninstalled tensorflow-estimator-2.2.0rc0\n",
            "Successfully installed gast-0.2.2 tensorboard-2.0.2 tensorflow-estimator-2.0.1 tensorflow-gpu-2.0.0\n"
          ],
          "name": "stdout"
        }
      ]
    },
    {
      "cell_type": "code",
      "metadata": {
        "id": "4AMtaEvQdsE-",
        "colab_type": "code",
        "outputId": "ddd2b7c1-e5b0-4f7f-e766-928341f07427",
        "colab": {
          "base_uri": "https://localhost:8080/",
          "height": 35
        }
      },
      "source": [
        "import tensorflow as tf\n",
        "tf.__version__"
      ],
      "execution_count": 2,
      "outputs": [
        {
          "output_type": "execute_result",
          "data": {
            "text/plain": [
              "'2.0.0'"
            ]
          },
          "metadata": {
            "tags": []
          },
          "execution_count": 2
        }
      ]
    },
    {
      "cell_type": "code",
      "metadata": {
        "id": "253U-rM2dvqE",
        "colab_type": "code",
        "outputId": "a2d4cfac-ea8e-46ba-ca93-dfa87395ae59",
        "colab": {
          "base_uri": "https://localhost:8080/",
          "height": 161
        }
      },
      "source": [
        "(x_train_all, y_train_all), (x_test, y_test) = tf.keras.datasets.fashion_mnist.load_data()"
      ],
      "execution_count": 3,
      "outputs": [
        {
          "output_type": "stream",
          "text": [
            "Downloading data from https://storage.googleapis.com/tensorflow/tf-keras-datasets/train-labels-idx1-ubyte.gz\n",
            "32768/29515 [=================================] - 0s 0us/step\n",
            "Downloading data from https://storage.googleapis.com/tensorflow/tf-keras-datasets/train-images-idx3-ubyte.gz\n",
            "26427392/26421880 [==============================] - 0s 0us/step\n",
            "Downloading data from https://storage.googleapis.com/tensorflow/tf-keras-datasets/t10k-labels-idx1-ubyte.gz\n",
            "8192/5148 [===============================================] - 0s 0us/step\n",
            "Downloading data from https://storage.googleapis.com/tensorflow/tf-keras-datasets/t10k-images-idx3-ubyte.gz\n",
            "4423680/4422102 [==============================] - 0s 0us/step\n"
          ],
          "name": "stdout"
        }
      ]
    },
    {
      "cell_type": "code",
      "metadata": {
        "id": "d8rQznqld9So",
        "colab_type": "code",
        "outputId": "3e213915-a522-474f-b243-3be41005f753",
        "colab": {
          "base_uri": "https://localhost:8080/",
          "height": 35
        }
      },
      "source": [
        "x_train_all.shape, y_train_all.shape"
      ],
      "execution_count": 4,
      "outputs": [
        {
          "output_type": "execute_result",
          "data": {
            "text/plain": [
              "((60000, 28, 28), (60000,))"
            ]
          },
          "metadata": {
            "tags": []
          },
          "execution_count": 4
        }
      ]
    },
    {
      "cell_type": "code",
      "metadata": {
        "id": "yrDoh8greEoI",
        "colab_type": "code",
        "outputId": "4af610e3-8a00-451d-f801-97733c6b53ac",
        "colab": {
          "base_uri": "https://localhost:8080/",
          "height": 265
        }
      },
      "source": [
        "import matplotlib.pyplot as plt\n",
        "plt.imshow(x_train_all[0], cmap='gray')\n",
        "plt.show()"
      ],
      "execution_count": 5,
      "outputs": [
        {
          "output_type": "display_data",
          "data": {
            "image/png": "[encoded data removed]",
            "text/plain": [
              "<Figure size 432x288 with 1 Axes>"
            ]
          },
          "metadata": {
            "tags": [],
            "needs_background": "light"
          }
        }
      ]
    },
    {
      "cell_type": "code",
      "metadata": {
        "id": "DMQlJeG0ecWM",
        "colab_type": "code",
        "outputId": "163221fb-c2d3-4108-aa3d-5e2edabd1dc7",
        "colab": {
          "base_uri": "https://localhost:8080/",
          "height": 35
        }
      },
      "source": [
        "print(y_train_all[:10])"
      ],
      "execution_count": 6,
      "outputs": [
        {
          "output_type": "stream",
          "text": [
            "[9 0 0 3 0 2 7 2 5 5]\n"
          ],
          "name": "stdout"
        }
      ]
    },
    {
      "cell_type": "code",
      "metadata": {
        "id": "8cJZ-d52ep-D",
        "colab_type": "code",
        "outputId": "f16f45a4-fef8-4af4-9cf2-7274484dd592",
        "colab": {
          "base_uri": "https://localhost:8080/",
          "height": 35
        }
      },
      "source": [
        "class_names = ['티셔츠/윗도리', '바지', '스웨터', '드레스', '코트', '샌들', '셔츠', '스니커즈', '가방', '앵클부츠']\n",
        "print(class_names[y_train_all[0]])"
      ],
      "execution_count": 7,
      "outputs": [
        {
          "output_type": "stream",
          "text": [
            "앵클부츠\n"
          ],
          "name": "stdout"
        }
      ]
    },
    {
      "cell_type": "code",
      "metadata": {
        "id": "tabSBS_2e9nx",
        "colab_type": "code",
        "outputId": "1d0f8263-2065-4142-d9cd-0bbd1e1a7ec5",
        "colab": {
          "base_uri": "https://localhost:8080/",
          "height": 35
        }
      },
      "source": [
        "import numpy as np\n",
        "np.bincount(y_train_all)"
      ],
      "execution_count": 8,
      "outputs": [
        {
          "output_type": "execute_result",
          "data": {
            "text/plain": [
              "array([6000, 6000, 6000, 6000, 6000, 6000, 6000, 6000, 6000, 6000])"
            ]
          },
          "metadata": {
            "tags": []
          },
          "execution_count": 8
        }
      ]
    },
    {
      "cell_type": "code",
      "metadata": {
        "id": "0-6hWbFPfDAM",
        "colab_type": "code",
        "colab": {}
      },
      "source": [
        "from sklearn.model_selection import train_test_split\n",
        "x_train, x_val, y_train, y_val = train_test_split(x_train_all, y_train_all, stratify=y_train_all, test_size=0.2, random_state=42)"
      ],
      "execution_count": 0,
      "outputs": []
    },
    {
      "cell_type": "code",
      "metadata": {
        "id": "yZCEBpLDfNjQ",
        "colab_type": "code",
        "outputId": "1eba54c9-9a4b-4593-d786-b8a8645dc772",
        "colab": {
          "base_uri": "https://localhost:8080/",
          "height": 53
        }
      },
      "source": [
        "print(np.bincount(y_train))\n",
        "print(np.bincount(y_val))"
      ],
      "execution_count": 10,
      "outputs": [
        {
          "output_type": "stream",
          "text": [
            "[4800 4800 4800 4800 4800 4800 4800 4800 4800 4800]\n",
            "[1200 1200 1200 1200 1200 1200 1200 1200 1200 1200]\n"
          ],
          "name": "stdout"
        }
      ]
    },
    {
      "cell_type": "code",
      "metadata": {
        "id": "gaULW4jKffHo",
        "colab_type": "code",
        "colab": {}
      },
      "source": [
        "x_train = x_train / 255\n",
        "x_val = x_val / 255"
      ],
      "execution_count": 0,
      "outputs": []
    },
    {
      "cell_type": "code",
      "metadata": {
        "id": "wG6LbsJkflE7",
        "colab_type": "code",
        "colab": {}
      },
      "source": [
        "x_train = x_train.reshape(-1, 784)\n",
        "x_val = x_val.reshape(-1, 784)"
      ],
      "execution_count": 0,
      "outputs": []
    },
    {
      "cell_type": "code",
      "metadata": {
        "id": "U9tucefWfpE7",
        "colab_type": "code",
        "outputId": "018f671b-fd22-41bd-afd5-2e40d0125598",
        "colab": {
          "base_uri": "https://localhost:8080/",
          "height": 35
        }
      },
      "source": [
        "print(x_train.shape, x_val.shape)"
      ],
      "execution_count": 13,
      "outputs": [
        {
          "output_type": "stream",
          "text": [
            "(48000, 784) (12000, 784)\n"
          ],
          "name": "stdout"
        }
      ]
    },
    {
      "cell_type": "code",
      "metadata": {
        "id": "MMogzdU5lZNY",
        "colab_type": "code",
        "outputId": "b2b965c8-b127-4788-d5eb-6c42635f4f42",
        "colab": {
          "base_uri": "https://localhost:8080/",
          "height": 71
        }
      },
      "source": [
        "tf.keras.utils.to_categorical([0, 1, 3])"
      ],
      "execution_count": 14,
      "outputs": [
        {
          "output_type": "execute_result",
          "data": {
            "text/plain": [
              "array([[1., 0., 0., 0.],\n",
              "       [0., 1., 0., 0.],\n",
              "       [0., 0., 0., 1.]], dtype=float32)"
            ]
          },
          "metadata": {
            "tags": []
          },
          "execution_count": 14
        }
      ]
    },
    {
      "cell_type": "code",
      "metadata": {
        "id": "jVSZMJSGlhBV",
        "colab_type": "code",
        "colab": {}
      },
      "source": [
        "y_train_encoded = tf.keras.utils.to_categorical(y_train)\n",
        "y_val_encoded = tf.keras.utils.to_categorical(y_val)"
      ],
      "execution_count": 0,
      "outputs": []
    },
    {
      "cell_type": "code",
      "metadata": {
        "id": "No9v1scKloQ9",
        "colab_type": "code",
        "outputId": "da5a51b5-0eed-4d23-a6ce-5f6674c5d060",
        "colab": {
          "base_uri": "https://localhost:8080/",
          "height": 35
        }
      },
      "source": [
        "print(y_train_encoded.shape, y_val_encoded.shape)"
      ],
      "execution_count": 16,
      "outputs": [
        {
          "output_type": "stream",
          "text": [
            "(48000, 10) (12000, 10)\n"
          ],
          "name": "stdout"
        }
      ]
    },
    {
      "cell_type": "code",
      "metadata": {
        "id": "4Na2YpxaluRG",
        "colab_type": "code",
        "outputId": "2ef8a2f6-4a61-4ef3-8e5b-649292cc91c6",
        "colab": {
          "base_uri": "https://localhost:8080/",
          "height": 35
        }
      },
      "source": [
        "print(y_train[0], y_train_encoded[0])"
      ],
      "execution_count": 17,
      "outputs": [
        {
          "output_type": "stream",
          "text": [
            "6 [0. 0. 0. 0. 0. 0. 1. 0. 0. 0.]\n"
          ],
          "name": "stdout"
        }
      ]
    },
    {
      "cell_type": "code",
      "metadata": {
        "id": "A5BsUIE1l1EW",
        "colab_type": "code",
        "colab": {}
      },
      "source": [
        "from tensorflow.keras import Sequential\n",
        "from tensorflow.keras.layers import Dense\n",
        "model = Sequential()"
      ],
      "execution_count": 0,
      "outputs": []
    },
    {
      "cell_type": "code",
      "metadata": {
        "id": "_SpZZ2DjqSsc",
        "colab_type": "code",
        "colab": {}
      },
      "source": [
        "model.add(Dense(100, activation='sigmoid', input_shape=(784,)))\n",
        "model.add(Dense(10, activation='softmax'))"
      ],
      "execution_count": 0,
      "outputs": []
    },
    {
      "cell_type": "code",
      "metadata": {
        "id": "7GTPub4wqpa_",
        "colab_type": "code",
        "colab": {}
      },
      "source": [
        "model.compile(optimizer='sgd', loss='categorical_crossentropy', metrics=['accuracy'])"
      ],
      "execution_count": 0,
      "outputs": []
    },
    {
      "cell_type": "code",
      "metadata": {
        "id": "Q6miJN8irA9-",
        "colab_type": "code",
        "outputId": "0a117d70-a96d-43b8-aa4d-34ddd27cca3e",
        "colab": {
          "base_uri": "https://localhost:8080/",
          "height": 1000
        }
      },
      "source": [
        "history = model.fit(x_train, y_train_encoded, epochs=40, validation_data=(x_val, y_val_encoded))"
      ],
      "execution_count": 21,
      "outputs": [
        {
          "output_type": "stream",
          "text": [
            "Train on 48000 samples, validate on 12000 samples\n",
            "Epoch 1/40\n",
            "48000/48000 [==============================] - 5s 101us/sample - loss: 1.3776 - accuracy: 0.6472 - val_loss: 0.9589 - val_accuracy: 0.7272\n",
            "Epoch 2/40\n",
            "48000/48000 [==============================] - 4s 85us/sample - loss: 0.8414 - accuracy: 0.7428 - val_loss: 0.7513 - val_accuracy: 0.7628\n",
            "Epoch 3/40\n",
            "48000/48000 [==============================] - 4s 89us/sample - loss: 0.7112 - accuracy: 0.7654 - val_loss: 0.6657 - val_accuracy: 0.7803\n",
            "Epoch 4/40\n",
            "48000/48000 [==============================] - 5s 97us/sample - loss: 0.6461 - accuracy: 0.7814 - val_loss: 0.6144 - val_accuracy: 0.7906\n",
            "Epoch 5/40\n",
            "48000/48000 [==============================] - 5s 108us/sample - loss: 0.6042 - accuracy: 0.7952 - val_loss: 0.5785 - val_accuracy: 0.8026\n",
            "Epoch 6/40\n",
            "48000/48000 [==============================] - 4s 86us/sample - loss: 0.5744 - accuracy: 0.8041 - val_loss: 0.5524 - val_accuracy: 0.8094\n",
            "Epoch 7/40\n",
            "48000/48000 [==============================] - 4s 88us/sample - loss: 0.5510 - accuracy: 0.8115 - val_loss: 0.5309 - val_accuracy: 0.8160\n",
            "Epoch 8/40\n",
            "48000/48000 [==============================] - 4s 92us/sample - loss: 0.5328 - accuracy: 0.8168 - val_loss: 0.5142 - val_accuracy: 0.8208\n",
            "Epoch 9/40\n",
            "48000/48000 [==============================] - 4s 86us/sample - loss: 0.5182 - accuracy: 0.8213 - val_loss: 0.4999 - val_accuracy: 0.8264\n",
            "Epoch 10/40\n",
            "48000/48000 [==============================] - 4s 83us/sample - loss: 0.5056 - accuracy: 0.8250 - val_loss: 0.4888 - val_accuracy: 0.8291\n",
            "Epoch 11/40\n",
            "48000/48000 [==============================] - 4s 83us/sample - loss: 0.4953 - accuracy: 0.8281 - val_loss: 0.4788 - val_accuracy: 0.8342\n",
            "Epoch 12/40\n",
            "48000/48000 [==============================] - 4s 84us/sample - loss: 0.4862 - accuracy: 0.8315 - val_loss: 0.4708 - val_accuracy: 0.8360\n",
            "Epoch 13/40\n",
            "48000/48000 [==============================] - 4s 90us/sample - loss: 0.4781 - accuracy: 0.8349 - val_loss: 0.4643 - val_accuracy: 0.8362\n",
            "Epoch 14/40\n",
            "48000/48000 [==============================] - 4s 86us/sample - loss: 0.4710 - accuracy: 0.8371 - val_loss: 0.4568 - val_accuracy: 0.8391\n",
            "Epoch 15/40\n",
            "48000/48000 [==============================] - 4s 93us/sample - loss: 0.4646 - accuracy: 0.8385 - val_loss: 0.4510 - val_accuracy: 0.8405\n",
            "Epoch 16/40\n",
            "48000/48000 [==============================] - 4s 86us/sample - loss: 0.4588 - accuracy: 0.8411 - val_loss: 0.4465 - val_accuracy: 0.8447\n",
            "Epoch 17/40\n",
            "48000/48000 [==============================] - 4s 86us/sample - loss: 0.4535 - accuracy: 0.8418 - val_loss: 0.4400 - val_accuracy: 0.8450\n",
            "Epoch 18/40\n",
            "48000/48000 [==============================] - 4s 86us/sample - loss: 0.4487 - accuracy: 0.8437 - val_loss: 0.4365 - val_accuracy: 0.8464\n",
            "Epoch 19/40\n",
            "48000/48000 [==============================] - 4s 85us/sample - loss: 0.4441 - accuracy: 0.8443 - val_loss: 0.4323 - val_accuracy: 0.8484\n",
            "Epoch 20/40\n",
            "48000/48000 [==============================] - 4s 84us/sample - loss: 0.4401 - accuracy: 0.8462 - val_loss: 0.4285 - val_accuracy: 0.8482\n",
            "Epoch 21/40\n",
            "48000/48000 [==============================] - 4s 85us/sample - loss: 0.4357 - accuracy: 0.8478 - val_loss: 0.4278 - val_accuracy: 0.8493\n",
            "Epoch 22/40\n",
            "48000/48000 [==============================] - 4s 86us/sample - loss: 0.4325 - accuracy: 0.8481 - val_loss: 0.4233 - val_accuracy: 0.8503\n",
            "Epoch 23/40\n",
            "48000/48000 [==============================] - 4s 85us/sample - loss: 0.4289 - accuracy: 0.8494 - val_loss: 0.4196 - val_accuracy: 0.8525\n",
            "Epoch 24/40\n",
            "48000/48000 [==============================] - 4s 85us/sample - loss: 0.4256 - accuracy: 0.8504 - val_loss: 0.4171 - val_accuracy: 0.8538\n",
            "Epoch 25/40\n",
            "48000/48000 [==============================] - 4s 86us/sample - loss: 0.4224 - accuracy: 0.8516 - val_loss: 0.4127 - val_accuracy: 0.8566\n",
            "Epoch 26/40\n",
            "48000/48000 [==============================] - 4s 84us/sample - loss: 0.4196 - accuracy: 0.8522 - val_loss: 0.4101 - val_accuracy: 0.8571\n",
            "Epoch 27/40\n",
            "48000/48000 [==============================] - 4s 84us/sample - loss: 0.4167 - accuracy: 0.8536 - val_loss: 0.4099 - val_accuracy: 0.8552\n",
            "Epoch 28/40\n",
            "48000/48000 [==============================] - 4s 92us/sample - loss: 0.4140 - accuracy: 0.8546 - val_loss: 0.4054 - val_accuracy: 0.8564\n",
            "Epoch 29/40\n",
            "48000/48000 [==============================] - 4s 84us/sample - loss: 0.4113 - accuracy: 0.8559 - val_loss: 0.4030 - val_accuracy: 0.8570\n",
            "Epoch 30/40\n",
            "48000/48000 [==============================] - 4s 85us/sample - loss: 0.4086 - accuracy: 0.8570 - val_loss: 0.4017 - val_accuracy: 0.8608\n",
            "Epoch 31/40\n",
            "48000/48000 [==============================] - 5s 96us/sample - loss: 0.4061 - accuracy: 0.8568 - val_loss: 0.3988 - val_accuracy: 0.8603\n",
            "Epoch 32/40\n",
            "48000/48000 [==============================] - 4s 86us/sample - loss: 0.4039 - accuracy: 0.8579 - val_loss: 0.3975 - val_accuracy: 0.8612\n",
            "Epoch 33/40\n",
            "48000/48000 [==============================] - 4s 87us/sample - loss: 0.4017 - accuracy: 0.8592 - val_loss: 0.3954 - val_accuracy: 0.8618\n",
            "Epoch 34/40\n",
            "48000/48000 [==============================] - 4s 87us/sample - loss: 0.3997 - accuracy: 0.8596 - val_loss: 0.3934 - val_accuracy: 0.8608\n",
            "Epoch 35/40\n",
            "48000/48000 [==============================] - 4s 90us/sample - loss: 0.3975 - accuracy: 0.8602 - val_loss: 0.3921 - val_accuracy: 0.8635\n",
            "Epoch 36/40\n",
            "48000/48000 [==============================] - 4s 83us/sample - loss: 0.3955 - accuracy: 0.8608 - val_loss: 0.3919 - val_accuracy: 0.8625\n",
            "Epoch 37/40\n",
            "48000/48000 [==============================] - 4s 86us/sample - loss: 0.3936 - accuracy: 0.8611 - val_loss: 0.3895 - val_accuracy: 0.8620\n",
            "Epoch 38/40\n",
            "48000/48000 [==============================] - 4s 84us/sample - loss: 0.3918 - accuracy: 0.8623 - val_loss: 0.3868 - val_accuracy: 0.8634\n",
            "Epoch 39/40\n",
            "48000/48000 [==============================] - 4s 85us/sample - loss: 0.3897 - accuracy: 0.8620 - val_loss: 0.3877 - val_accuracy: 0.8620\n",
            "Epoch 40/40\n",
            "48000/48000 [==============================] - 4s 85us/sample - loss: 0.3878 - accuracy: 0.8629 - val_loss: 0.3870 - val_accuracy: 0.8641\n"
          ],
          "name": "stdout"
        }
      ]
    },
    {
      "cell_type": "code",
      "metadata": {
        "id": "FiiUJnuurg_M",
        "colab_type": "code",
        "outputId": "40aad892-2611-473d-816b-dc6bb8e1a08c",
        "colab": {
          "base_uri": "https://localhost:8080/",
          "height": 35
        }
      },
      "source": [
        "print(history.history.keys())"
      ],
      "execution_count": 22,
      "outputs": [
        {
          "output_type": "stream",
          "text": [
            "dict_keys(['loss', 'accuracy', 'val_loss', 'val_accuracy'])\n"
          ],
          "name": "stdout"
        }
      ]
    },
    {
      "cell_type": "code",
      "metadata": {
        "id": "PUFxiOdarjRT",
        "colab_type": "code",
        "outputId": "688d3d73-8c20-41ed-e580-6c4861a8d290",
        "colab": {
          "base_uri": "https://localhost:8080/",
          "height": 279
        }
      },
      "source": [
        "plt.plot(history.history['loss'])\n",
        "plt.plot(history.history['val_loss'])\n",
        "plt.ylabel('loss')\n",
        "plt.xlabel('epoch')\n",
        "plt.legend(['train_loss', 'val_loss'])\n",
        "plt.show()"
      ],
      "execution_count": 23,
      "outputs": [
        {
          "output_type": "display_data",
          "data": {
            "image/png": "[encoded data removed]",
            "text/plain": [
              "<Figure size 432x288 with 1 Axes>"
            ]
          },
          "metadata": {
            "tags": [],
            "needs_background": "light"
          }
        }
      ]
    },
    {
      "cell_type": "code",
      "metadata": {
        "id": "X-IXOIohruQ2",
        "colab_type": "code",
        "outputId": "8e6bd218-50c2-41fb-d16e-ce766e0e1a2d",
        "colab": {
          "base_uri": "https://localhost:8080/",
          "height": 279
        }
      },
      "source": [
        "plt.plot(history.history['accuracy'])\n",
        "plt.plot(history.history['val_accuracy'])\n",
        "plt.ylabel('loss')\n",
        "plt.xlabel('epoch')\n",
        "plt.legend(['train_accuracy', 'val_accuracy'])\n",
        "plt.show()"
      ],
      "execution_count": 24,
      "outputs": [
        {
          "output_type": "display_data",
          "data": {
            "image/png": "[encoded data removed]",
            "text/plain": [
              "<Figure size 432x288 with 1 Axes>"
            ]
          },
          "metadata": {
            "tags": [],
            "needs_background": "light"
          }
        }
      ]
    },
    {
      "cell_type": "code",
      "metadata": {
        "id": "Bwn4Ttgkr-3O",
        "colab_type": "code",
        "outputId": "de3a7351-c251-483e-c755-4501895e1631",
        "colab": {
          "base_uri": "https://localhost:8080/",
          "height": 35
        }
      },
      "source": [
        "loss, accuracy = model.evaluate(x_val, y_val_encoded, verbose=0)\n",
        "print(accuracy)"
      ],
      "execution_count": 25,
      "outputs": [
        {
          "output_type": "stream",
          "text": [
            "0.86408335\n"
          ],
          "name": "stdout"
        }
      ]
    },
    {
      "cell_type": "code",
      "metadata": {
        "id": "D-r14IAPtBnl",
        "colab_type": "code",
        "colab": {}
      },
      "source": [
        "import numpy as np\n",
        "w = np.array([2, 1, 5, 3])\n",
        "x = np.array([2, 8, 3, 7, 1, 2, 0, 4, 5])"
      ],
      "execution_count": 0,
      "outputs": []
    },
    {
      "cell_type": "code",
      "metadata": {
        "id": "1NAgToqutNfe",
        "colab_type": "code",
        "outputId": "f78f7172-0dc6-4d6d-ad89-96421e2db47e",
        "colab": {
          "base_uri": "https://localhost:8080/",
          "height": 35
        }
      },
      "source": [
        "w_r = np.flip(w)\n",
        "print(w_r)"
      ],
      "execution_count": 27,
      "outputs": [
        {
          "output_type": "stream",
          "text": [
            "[3 5 1 2]\n"
          ],
          "name": "stdout"
        }
      ]
    },
    {
      "cell_type": "code",
      "metadata": {
        "id": "J5zVrDcBtN5y",
        "colab_type": "code",
        "outputId": "000ed232-6ecc-4fd2-a2f9-8d76bf7a5c5c",
        "colab": {
          "base_uri": "https://localhost:8080/",
          "height": 35
        }
      },
      "source": [
        "w_r = w[::-1]\n",
        "print(w_r)"
      ],
      "execution_count": 28,
      "outputs": [
        {
          "output_type": "stream",
          "text": [
            "[3 5 1 2]\n"
          ],
          "name": "stdout"
        }
      ]
    },
    {
      "cell_type": "code",
      "metadata": {
        "id": "kYMEZvAUtSk6",
        "colab_type": "code",
        "outputId": "caf448f8-f0e6-4243-e2fa-549185eeba13",
        "colab": {
          "base_uri": "https://localhost:8080/",
          "height": 125
        }
      },
      "source": [
        "for i in range(6):\n",
        "  print(np.dot(x[i:i+4], w_r))"
      ],
      "execution_count": 29,
      "outputs": [
        {
          "output_type": "stream",
          "text": [
            "63\n",
            "48\n",
            "49\n",
            "28\n",
            "21\n",
            "20\n"
          ],
          "name": "stdout"
        }
      ]
    },
    {
      "cell_type": "code",
      "metadata": {
        "id": "I7z657lHtaBF",
        "colab_type": "code",
        "outputId": "048fad51-2760-4f28-96da-3005e4487c53",
        "colab": {
          "base_uri": "https://localhost:8080/",
          "height": 35
        }
      },
      "source": [
        "from scipy.signal import convolve\n",
        "convolve(x, w, mode='valid')"
      ],
      "execution_count": 30,
      "outputs": [
        {
          "output_type": "execute_result",
          "data": {
            "text/plain": [
              "array([63, 48, 49, 28, 21, 20])"
            ]
          },
          "metadata": {
            "tags": []
          },
          "execution_count": 30
        }
      ]
    },
    {
      "cell_type": "code",
      "metadata": {
        "id": "DubrAB9htn1p",
        "colab_type": "code",
        "outputId": "1ec9bc71-b597-41e7-9d2c-cc893371f001",
        "colab": {
          "base_uri": "https://localhost:8080/",
          "height": 35
        }
      },
      "source": [
        "from scipy.signal import correlate\n",
        "correlate(x, w, mode='valid')"
      ],
      "execution_count": 31,
      "outputs": [
        {
          "output_type": "execute_result",
          "data": {
            "text/plain": [
              "array([48, 57, 24, 25, 16, 39])"
            ]
          },
          "metadata": {
            "tags": []
          },
          "execution_count": 31
        }
      ]
    },
    {
      "cell_type": "code",
      "metadata": {
        "id": "yYHCAiqsxWzM",
        "colab_type": "code",
        "outputId": "cbda1198-f1f0-440b-dbe1-6cbdd41f6699",
        "colab": {
          "base_uri": "https://localhost:8080/",
          "height": 35
        }
      },
      "source": [
        "correlate(x, w, mode='full')"
      ],
      "execution_count": 32,
      "outputs": [
        {
          "output_type": "execute_result",
          "data": {
            "text/plain": [
              "array([ 6, 34, 51, 48, 57, 24, 25, 16, 39, 29, 13, 10])"
            ]
          },
          "metadata": {
            "tags": []
          },
          "execution_count": 32
        }
      ]
    },
    {
      "cell_type": "code",
      "metadata": {
        "id": "daQTCgjyxcg7",
        "colab_type": "code",
        "outputId": "3c25511b-3fd1-4408-f5af-9af04f3c4ea4",
        "colab": {
          "base_uri": "https://localhost:8080/",
          "height": 35
        }
      },
      "source": [
        "correlate(x, w, mode='same')"
      ],
      "execution_count": 33,
      "outputs": [
        {
          "output_type": "execute_result",
          "data": {
            "text/plain": [
              "array([34, 51, 48, 57, 24, 25, 16, 39, 29])"
            ]
          },
          "metadata": {
            "tags": []
          },
          "execution_count": 33
        }
      ]
    },
    {
      "cell_type": "code",
      "metadata": {
        "id": "gxI53qCvxoYr",
        "colab_type": "code",
        "outputId": "2f9f2916-1e6b-4cbc-eaba-202a96736df7",
        "colab": {
          "base_uri": "https://localhost:8080/",
          "height": 53
        }
      },
      "source": [
        "x = np.array([[1, 2, 3],\n",
        "              [4, 5, 6],\n",
        "              [7, 8, 9]])\n",
        "w = np.array([[2, 0], [0, 0]])\n",
        "from scipy.signal import correlate2d\n",
        "correlate2d(x, w, mode='valid')"
      ],
      "execution_count": 34,
      "outputs": [
        {
          "output_type": "execute_result",
          "data": {
            "text/plain": [
              "array([[ 2,  4],\n",
              "       [ 8, 10]])"
            ]
          },
          "metadata": {
            "tags": []
          },
          "execution_count": 34
        }
      ]
    },
    {
      "cell_type": "code",
      "metadata": {
        "id": "jDLzT7WyKjLG",
        "colab_type": "code",
        "colab": {
          "base_uri": "https://localhost:8080/",
          "height": 71
        },
        "outputId": "e146d5e0-82f8-40c4-e434-407846fc93f5"
      },
      "source": [
        "correlate2d(x, w, mode='same')"
      ],
      "execution_count": 35,
      "outputs": [
        {
          "output_type": "execute_result",
          "data": {
            "text/plain": [
              "array([[ 2,  4,  6],\n",
              "       [ 8, 10, 12],\n",
              "       [14, 16, 18]])"
            ]
          },
          "metadata": {
            "tags": []
          },
          "execution_count": 35
        }
      ]
    },
    {
      "cell_type": "code",
      "metadata": {
        "id": "9Q6vjGC_Km2r",
        "colab_type": "code",
        "colab": {}
      },
      "source": [
        "import tensorflow as tf\n",
        "x_4d = x.astype(np.float).reshape(1, 3, 3, 1)\n",
        "w_4d = w.reshape(2, 2, 1, 1)"
      ],
      "execution_count": 0,
      "outputs": []
    },
    {
      "cell_type": "code",
      "metadata": {
        "id": "U88fVTR1KtY1",
        "colab_type": "code",
        "colab": {}
      },
      "source": [
        "c_out = tf.nn.conv2d(x_4d, w_4d, strides=1, padding='SAME')"
      ],
      "execution_count": 0,
      "outputs": []
    },
    {
      "cell_type": "code",
      "metadata": {
        "id": "ynrZUfT_K0OB",
        "colab_type": "code",
        "colab": {
          "base_uri": "https://localhost:8080/",
          "height": 71
        },
        "outputId": "c4a0127f-cdff-4f95-e59f-fdc33b2976b7"
      },
      "source": [
        "c_out.numpy().reshape(3, 3)"
      ],
      "execution_count": 38,
      "outputs": [
        {
          "output_type": "execute_result",
          "data": {
            "text/plain": [
              "array([[ 2.,  4.,  6.],\n",
              "       [ 8., 10., 12.],\n",
              "       [14., 16., 18.]])"
            ]
          },
          "metadata": {
            "tags": []
          },
          "execution_count": 38
        }
      ]
    },
    {
      "cell_type": "code",
      "metadata": {
        "id": "Pcc1hxjEK-OA",
        "colab_type": "code",
        "colab": {}
      },
      "source": [
        "class ConvolutionNetwork:\n",
        "  def __init__(self, n_kernels=10, units=10, batch_size=32, learning_rate=0.1):\n",
        "    self.n_kernels = n_kernels\n",
        "    self.optimizer = None\n",
        "    self.conv_w = None\n",
        "    self.conv_b = None\n",
        "    self.units = units\n",
        "    self.batch_size = batch_size\n",
        "    self.w1 = None\n",
        "    self.b1 = None\n",
        "    self.w2 = None\n",
        "    self.b2 = None\n",
        "    self.losses = []\n",
        "    self.val_losses = []\n",
        "    self.lr = learning_rate\n",
        "\n",
        "  def forpass(self, x):\n",
        "    c_out = tf.nn.conv2d(x, self.conv_w, strides=1, padding='SAME') + self.conv_b\n",
        "    r_out = tf.nn.relu(c_out)\n",
        "    p_out = tf.nn.max_pool2d(r_out, ksize=2, strides=2, padding='VALID')\n",
        "    f_out = tf.reshape(p_out, [x.shape[0], -1])\n",
        "    z1 = tf.matmul(f_out, self.w1) + self.b1\n",
        "    a1 = tf.nn.relu(z1)\n",
        "    z2 = tf.matmul(a1, self.w2) + self.b2\n",
        "    return z2\n",
        "\n",
        "  def init_weights(self, input_shape, n_classes):\n",
        "    g = tf.initializers.glorot_uniform()\n",
        "    self.conv_w = tf.Variable(g((3, 3, 1, self.n_kernels)))\n",
        "    self.conv_b = tf.Variable(np.zeros(self.n_kernels), dtype=float)\n",
        "    n_features = 14 * 14 * self.n_kernels\n",
        "    self.w1 = tf.Variable(g((n_features, self.units)))\n",
        "    self.b1 = tf.Variable(np.zeros(self.units), dtype=float)\n",
        "    self.w2 = tf.Variable(g((self.units, n_classes)))\n",
        "    self.b2 = tf.Variable(np.zeros(n_classes), dtype=float)\n",
        "\n",
        "  def fit(self, x, y, epochs=100, x_val=None, y_val=None):\n",
        "    self.init_weights(x.shape, y.shape[1])\n",
        "    self.optimizer = tf.optimizers.SGD(learning_rate=self.lr)\n",
        "\n",
        "    for i in range(epochs):\n",
        "      print('epochs', i, end=' ')\n",
        "      batch_losses = []\n",
        "      for x_batch, y_batch in self.gen_batch(x, y):\n",
        "        print('.', end='')\n",
        "        self.training(x_batch, y_batch)\n",
        "        batch_losses.append(self.get_loss(x_batch, y_batch))\n",
        "      print()\n",
        "      self.losses.append(np.mean(batch_losses))\n",
        "      self.val_losses.append(self.get_loss(x_val, y_val))\n",
        "\n",
        "  def gen_batch(self, x, y):\n",
        "    bins = len(x) // self.batch_size\n",
        "    indexes = np.random.permutation(np.arange(len(x)))\n",
        "    x = x[indexes]\n",
        "    y = y[indexes]\n",
        "    for i in range(bins):\n",
        "      start = self.batch_size * i\n",
        "      end = self.batch_size * (i + 1)\n",
        "      yield x[start:end], y[start:end]\n",
        "\n",
        "  def training(self, x, y):\n",
        "    m = len(x)\n",
        "    with tf.GradientTape() as tape:\n",
        "      z = self.forpass(x)\n",
        "      loss = tf.nn.softmax_cross_entropy_with_logits(y, z)\n",
        "      loss = tf.reduce_mean(loss)\n",
        "\n",
        "    weights_list = [self.conv_w, self.conv_b, self.w1, self.b1, self.w2, self.b2]\n",
        "    grads = tape.gradient(loss, weights_list)\n",
        "    self.optimizer.apply_gradients(zip(grads, weights_list))\n",
        "\n",
        "  def predict(self, x):\n",
        "    z = self.forpass(x)\n",
        "    return np.argmax(z.numpy(), axis=1)\n",
        "  \n",
        "  def score(self, x, y):\n",
        "    return np.mean(self.predict(x) == np.argmax(y, axis=1))\n",
        "\n",
        "  def get_loss(self, x, y):\n",
        "    z = self.forpass(x)\n",
        "    loss = tf.reduce_mean(tf.nn.softmax_cross_entropy_with_logits(y, z))\n",
        "    return loss.numpy()"
      ],
      "execution_count": 0,
      "outputs": []
    },
    {
      "cell_type": "code",
      "metadata": {
        "id": "oFiu6lTPNtXz",
        "colab_type": "code",
        "colab": {}
      },
      "source": [
        "(x_train_all, y_train_all), (x_test, y_test) = tf.keras.datasets.fashion_mnist.load_data()"
      ],
      "execution_count": 0,
      "outputs": []
    },
    {
      "cell_type": "code",
      "metadata": {
        "id": "dCfPvvx8NzAB",
        "colab_type": "code",
        "colab": {}
      },
      "source": [
        "from sklearn.model_selection import train_test_split\n",
        "x_train, x_val, y_train, y_val = train_test_split(x_train_all, y_train_all, stratify=y_train_all, test_size=0.2, random_state=42)"
      ],
      "execution_count": 0,
      "outputs": []
    },
    {
      "cell_type": "code",
      "metadata": {
        "id": "8QoJr-VmN9KW",
        "colab_type": "code",
        "colab": {}
      },
      "source": [
        "y_train_encoded = tf.keras.utils.to_categorical(y_train)\n",
        "y_val_encoded = tf.keras.utils.to_categorical(y_val)"
      ],
      "execution_count": 0,
      "outputs": []
    },
    {
      "cell_type": "code",
      "metadata": {
        "id": "SOYRouCnOD7O",
        "colab_type": "code",
        "colab": {}
      },
      "source": [
        "x_train = x_train.reshape(-1, 28, 28, 1)\n",
        "x_val = x_val.reshape(-1, 28, 28, 1)"
      ],
      "execution_count": 0,
      "outputs": []
    },
    {
      "cell_type": "code",
      "metadata": {
        "id": "rsJ8Mo8OOJC1",
        "colab_type": "code",
        "colab": {
          "base_uri": "https://localhost:8080/",
          "height": 35
        },
        "outputId": "9931887e-b5a2-41aa-e38a-05dcdb28e59c"
      },
      "source": [
        "x_train.shape"
      ],
      "execution_count": 44,
      "outputs": [
        {
          "output_type": "execute_result",
          "data": {
            "text/plain": [
              "(48000, 28, 28, 1)"
            ]
          },
          "metadata": {
            "tags": []
          },
          "execution_count": 44
        }
      ]
    },
    {
      "cell_type": "code",
      "metadata": {
        "id": "oHp94c8bOKn0",
        "colab_type": "code",
        "colab": {}
      },
      "source": [
        "x_train = x_train / 255\n",
        "x_val = x_val / 255"
      ],
      "execution_count": 0,
      "outputs": []
    },
    {
      "cell_type": "code",
      "metadata": {
        "colab_type": "code",
        "id": "HFvGbjS7OvZy",
        "colab": {
          "base_uri": "https://localhost:8080/",
          "height": 397
        },
        "outputId": "d372fd19-d347-4991-c0f0-629b046e4414"
      },
      "source": [
        "cn = ConvolutionNetwork(n_kernels=10, units=100, batch_size=128, learning_rate=0.01)\n",
        "cn.fit(x_train, y_train_encoded, x_val=x_val, y_val=y_val_encoded, epochs=20)"
      ],
      "execution_count": 47,
      "outputs": [
        {
          "output_type": "stream",
          "text": [
            "epochs 0 .......................................................................................................................................................................................................................................................................................................................................................................................\n",
            "epochs 1 .......................................................................................................................................................................................................................................................................................................................................................................................\n",
            "epochs 2 .......................................................................................................................................................................................................................................................................................................................................................................................\n",
            "epochs 3 .......................................................................................................................................................................................................................................................................................................................................................................................\n",
            "epochs 4 .......................................................................................................................................................................................................................................................................................................................................................................................\n",
            "epochs 5 .......................................................................................................................................................................................................................................................................................................................................................................................\n",
            "epochs 6 .......................................................................................................................................................................................................................................................................................................................................................................................\n",
            "epochs 7 .......................................................................................................................................................................................................................................................................................................................................................................................\n",
            "epochs 8 .......................................................................................................................................................................................................................................................................................................................................................................................\n",
            "epochs 9 .......................................................................................................................................................................................................................................................................................................................................................................................\n",
            "epochs 10 .......................................................................................................................................................................................................................................................................................................................................................................................\n",
            "epochs 11 .......................................................................................................................................................................................................................................................................................................................................................................................\n",
            "epochs 12 .......................................................................................................................................................................................................................................................................................................................................................................................\n",
            "epochs 13 .......................................................................................................................................................................................................................................................................................................................................................................................\n",
            "epochs 14 .......................................................................................................................................................................................................................................................................................................................................................................................\n",
            "epochs 15 .......................................................................................................................................................................................................................................................................................................................................................................................\n",
            "epochs 16 .......................................................................................................................................................................................................................................................................................................................................................................................\n",
            "epochs 17 .......................................................................................................................................................................................................................................................................................................................................................................................\n",
            "epochs 18 .......................................................................................................................................................................................................................................................................................................................................................................................\n",
            "epochs 19 .......................................................................................................................................................................................................................................................................................................................................................................................\n"
          ],
          "name": "stdout"
        }
      ]
    },
    {
      "cell_type": "code",
      "metadata": {
        "id": "zG1etZPAOzDm",
        "colab_type": "code",
        "colab": {
          "base_uri": "https://localhost:8080/",
          "height": 279
        },
        "outputId": "cccf6018-84ac-4d2f-f07a-04e4b2af36a8"
      },
      "source": [
        "import matplotlib.pyplot as plt\n",
        "\n",
        "plt.plot(cn.losses)\n",
        "plt.plot(cn.val_losses)\n",
        "plt.ylabel('loss')\n",
        "plt.xlabel('iteration')\n",
        "plt.legend(['train_loss', 'val_loss'])\n",
        "plt.show()"
      ],
      "execution_count": 48,
      "outputs": [
        {
          "output_type": "display_data",
          "data": {
            "image/png": "[encoded data removed]",
            "text/plain": [
              "<Figure size 432x288 with 1 Axes>"
            ]
          },
          "metadata": {
            "tags": [],
            "needs_background": "light"
          }
        }
      ]
    },
    {
      "cell_type": "code",
      "metadata": {
        "id": "_pF2Zf5GO-_S",
        "colab_type": "code",
        "colab": {
          "base_uri": "https://localhost:8080/",
          "height": 35
        },
        "outputId": "2070ca09-c313-4e06-8784-a143b5f365fb"
      },
      "source": [
        "cn.score(x_val, y_val_encoded)"
      ],
      "execution_count": 49,
      "outputs": [
        {
          "output_type": "execute_result",
          "data": {
            "text/plain": [
              "0.8776666666666667"
            ]
          },
          "metadata": {
            "tags": []
          },
          "execution_count": 49
        }
      ]
    },
    {
      "cell_type": "code",
      "metadata": {
        "id": "BI3MmshRR85X",
        "colab_type": "code",
        "colab": {}
      },
      "source": [
        "from tensorflow.keras.layers import Conv2D, MaxPooling2D, Flatten, Dense"
      ],
      "execution_count": 0,
      "outputs": []
    },
    {
      "cell_type": "code",
      "metadata": {
        "id": "VXWFzpAYSDt9",
        "colab_type": "code",
        "colab": {}
      },
      "source": [
        "conv1 = tf.keras.Sequential()\n",
        "conv1.add(Conv2D(10, (3, 3), activation='relu', padding='same', input_shape=(28, 28, 1)))"
      ],
      "execution_count": 0,
      "outputs": []
    },
    {
      "cell_type": "code",
      "metadata": {
        "id": "2h8d0j_0TgiW",
        "colab_type": "code",
        "colab": {}
      },
      "source": [
        "conv1.add(MaxPooling2D((2, 2)))"
      ],
      "execution_count": 0,
      "outputs": []
    },
    {
      "cell_type": "code",
      "metadata": {
        "id": "aplQWNckTjIu",
        "colab_type": "code",
        "colab": {}
      },
      "source": [
        "conv1.add(Flatten())"
      ],
      "execution_count": 0,
      "outputs": []
    },
    {
      "cell_type": "code",
      "metadata": {
        "id": "oVhNDCXwTkuN",
        "colab_type": "code",
        "colab": {}
      },
      "source": [
        "conv1.add(Dense(100, activation='relu'))\n",
        "conv1.add(Dense(10, activation='softmax'))"
      ],
      "execution_count": 0,
      "outputs": []
    },
    {
      "cell_type": "code",
      "metadata": {
        "id": "H1-92oeKTprX",
        "colab_type": "code",
        "colab": {
          "base_uri": "https://localhost:8080/",
          "height": 341
        },
        "outputId": "673a0819-592c-499c-c635-2b07e2de1de4"
      },
      "source": [
        "conv1.summary()"
      ],
      "execution_count": 57,
      "outputs": [
        {
          "output_type": "stream",
          "text": [
            "Model: \"sequential_1\"\n",
            "_________________________________________________________________\n",
            "Layer (type)                 Output Shape              Param #   \n",
            "=================================================================\n",
            "conv2d (Conv2D)              (None, 28, 28, 10)        100       \n",
            "_________________________________________________________________\n",
            "max_pooling2d (MaxPooling2D) (None, 14, 14, 10)        0         \n",
            "_________________________________________________________________\n",
            "flatten (Flatten)            (None, 1960)              0         \n",
            "_________________________________________________________________\n",
            "dense_2 (Dense)              (None, 100)               196100    \n",
            "_________________________________________________________________\n",
            "dense_3 (Dense)              (None, 10)                1010      \n",
            "=================================================================\n",
            "Total params: 197,210\n",
            "Trainable params: 197,210\n",
            "Non-trainable params: 0\n",
            "_________________________________________________________________\n"
          ],
          "name": "stdout"
        }
      ]
    },
    {
      "cell_type": "code",
      "metadata": {
        "id": "fhlp0QdTTset",
        "colab_type": "code",
        "colab": {}
      },
      "source": [
        "conv1.compile(optimizer='adam', loss='categorical_crossentropy', metrics=['accuracy'])"
      ],
      "execution_count": 0,
      "outputs": []
    },
    {
      "cell_type": "code",
      "metadata": {
        "id": "F1ifc-E6Tx2l",
        "colab_type": "code",
        "colab": {
          "base_uri": "https://localhost:8080/",
          "height": 775
        },
        "outputId": "7afe2989-64e6-44f0-8e38-29f00b2712d7"
      },
      "source": [
        "history = conv1.fit(x_train, y_train_encoded, epochs=20, validation_data=(x_val, y_val_encoded))"
      ],
      "execution_count": 60,
      "outputs": [
        {
          "output_type": "stream",
          "text": [
            "Train on 48000 samples, validate on 12000 samples\n",
            "Epoch 1/20\n",
            "48000/48000 [==============================] - 27s 560us/sample - loss: 0.4433 - accuracy: 0.8429 - val_loss: 0.3377 - val_accuracy: 0.8784\n",
            "Epoch 2/20\n",
            "48000/48000 [==============================] - 26s 545us/sample - loss: 0.3099 - accuracy: 0.8883 - val_loss: 0.2943 - val_accuracy: 0.8959\n",
            "Epoch 3/20\n",
            "48000/48000 [==============================] - 26s 538us/sample - loss: 0.2658 - accuracy: 0.9019 - val_loss: 0.2708 - val_accuracy: 0.9047\n",
            "Epoch 4/20\n",
            "48000/48000 [==============================] - 26s 549us/sample - loss: 0.2344 - accuracy: 0.9136 - val_loss: 0.2629 - val_accuracy: 0.9057\n",
            "Epoch 5/20\n",
            "48000/48000 [==============================] - 26s 548us/sample - loss: 0.2098 - accuracy: 0.9221 - val_loss: 0.2545 - val_accuracy: 0.9092\n",
            "Epoch 6/20\n",
            "48000/48000 [==============================] - 26s 542us/sample - loss: 0.1873 - accuracy: 0.9299 - val_loss: 0.2583 - val_accuracy: 0.9083\n",
            "Epoch 7/20\n",
            "48000/48000 [==============================] - 25s 530us/sample - loss: 0.1687 - accuracy: 0.9385 - val_loss: 0.2476 - val_accuracy: 0.9115\n",
            "Epoch 8/20\n",
            "48000/48000 [==============================] - 26s 535us/sample - loss: 0.1512 - accuracy: 0.9428 - val_loss: 0.2524 - val_accuracy: 0.9133\n",
            "Epoch 9/20\n",
            "48000/48000 [==============================] - 26s 537us/sample - loss: 0.1361 - accuracy: 0.9486 - val_loss: 0.2551 - val_accuracy: 0.9143\n",
            "Epoch 10/20\n",
            "48000/48000 [==============================] - 26s 539us/sample - loss: 0.1211 - accuracy: 0.9556 - val_loss: 0.2587 - val_accuracy: 0.9137\n",
            "Epoch 11/20\n",
            "48000/48000 [==============================] - 26s 539us/sample - loss: 0.1104 - accuracy: 0.9597 - val_loss: 0.2749 - val_accuracy: 0.9122\n",
            "Epoch 12/20\n",
            "48000/48000 [==============================] - 26s 536us/sample - loss: 0.0956 - accuracy: 0.9652 - val_loss: 0.3016 - val_accuracy: 0.9100\n",
            "Epoch 13/20\n",
            "48000/48000 [==============================] - 26s 548us/sample - loss: 0.0865 - accuracy: 0.9679 - val_loss: 0.2983 - val_accuracy: 0.9118\n",
            "Epoch 14/20\n",
            "48000/48000 [==============================] - 27s 561us/sample - loss: 0.0783 - accuracy: 0.9712 - val_loss: 0.3398 - val_accuracy: 0.9100\n",
            "Epoch 15/20\n",
            "48000/48000 [==============================] - 25s 529us/sample - loss: 0.0689 - accuracy: 0.9746 - val_loss: 0.3290 - val_accuracy: 0.9097\n",
            "Epoch 16/20\n",
            "48000/48000 [==============================] - 26s 532us/sample - loss: 0.0630 - accuracy: 0.9770 - val_loss: 0.3558 - val_accuracy: 0.9123\n",
            "Epoch 17/20\n",
            "48000/48000 [==============================] - 25s 524us/sample - loss: 0.0541 - accuracy: 0.9803 - val_loss: 0.3492 - val_accuracy: 0.9102\n",
            "Epoch 18/20\n",
            "48000/48000 [==============================] - 25s 525us/sample - loss: 0.0501 - accuracy: 0.9822 - val_loss: 0.4023 - val_accuracy: 0.9117\n",
            "Epoch 19/20\n",
            "48000/48000 [==============================] - 25s 524us/sample - loss: 0.0454 - accuracy: 0.9834 - val_loss: 0.3942 - val_accuracy: 0.9129\n",
            "Epoch 20/20\n",
            "48000/48000 [==============================] - 25s 527us/sample - loss: 0.0404 - accuracy: 0.9851 - val_loss: 0.3901 - val_accuracy: 0.9144\n"
          ],
          "name": "stdout"
        }
      ]
    },
    {
      "cell_type": "code",
      "metadata": {
        "id": "Z6xjPoGAT6Pk",
        "colab_type": "code",
        "colab": {
          "base_uri": "https://localhost:8080/",
          "height": 279
        },
        "outputId": "e868258e-975b-469c-f99e-e04966636b0a"
      },
      "source": [
        "plt.plot(history.history['loss'])\n",
        "plt.plot(history.history['val_loss'])\n",
        "plt.ylabel('loss')\n",
        "plt.xlabel('epoch')\n",
        "plt.legend(['train_loss', 'val_loss'])\n",
        "plt.show()"
      ],
      "execution_count": 62,
      "outputs": [
        {
          "output_type": "display_data",
          "data": {
            "image/png": "[encoded data removed]",
            "text/plain": [
              "<Figure size 432x288 with 1 Axes>"
            ]
          },
          "metadata": {
            "tags": [],
            "needs_background": "light"
          }
        }
      ]
    },
    {
      "cell_type": "code",
      "metadata": {
        "id": "tJC15t8nUGKN",
        "colab_type": "code",
        "colab": {
          "base_uri": "https://localhost:8080/",
          "height": 279
        },
        "outputId": "65bb9ff6-07d6-4af5-fe1e-f54da268786b"
      },
      "source": [
        "plt.plot(history.history['accuracy'])\n",
        "plt.plot(history.history['val_accuracy'])\n",
        "plt.ylabel('loss')\n",
        "plt.xlabel('epoch')\n",
        "plt.legend(['train_accuracy', 'val_accuracy'])\n",
        "plt.show()"
      ],
      "execution_count": 63,
      "outputs": [
        {
          "output_type": "display_data",
          "data": {
            "image/png": "[encoded data removed]",
            "text/plain": [
              "<Figure size 432x288 with 1 Axes>"
            ]
          },
          "metadata": {
            "tags": [],
            "needs_background": "light"
          }
        }
      ]
    },
    {
      "cell_type": "code",
      "metadata": {
        "id": "sGAE0754UTNd",
        "colab_type": "code",
        "colab": {}
      },
      "source": [
        "from tensorflow.keras.layers import Dropout\n",
        "\n",
        "conv2 = tf.keras.Sequential()\n",
        "conv2.add(Conv2D(10, (3, 3), activation='relu', padding='same', input_shape=(28, 28, 1)))\n",
        "conv2.add(MaxPooling2D((2, 2)))\n",
        "conv2.add(Flatten())\n",
        "conv2.add(Dropout(0.5))\n",
        "conv2.add(Dense(100, activation='relu'))\n",
        "conv2.add(Dense(10, activation='softmax'))"
      ],
      "execution_count": 0,
      "outputs": []
    },
    {
      "cell_type": "code",
      "metadata": {
        "id": "5RM7vczkUpTW",
        "colab_type": "code",
        "colab": {
          "base_uri": "https://localhost:8080/",
          "height": 377
        },
        "outputId": "5ea059a9-b0cf-447e-80d4-9e145a78d8e1"
      },
      "source": [
        "conv2.summary()"
      ],
      "execution_count": 66,
      "outputs": [
        {
          "output_type": "stream",
          "text": [
            "Model: \"sequential_3\"\n",
            "_________________________________________________________________\n",
            "Layer (type)                 Output Shape              Param #   \n",
            "=================================================================\n",
            "conv2d_2 (Conv2D)            (None, 28, 28, 10)        100       \n",
            "_________________________________________________________________\n",
            "max_pooling2d_1 (MaxPooling2 (None, 14, 14, 10)        0         \n",
            "_________________________________________________________________\n",
            "flatten_1 (Flatten)          (None, 1960)              0         \n",
            "_________________________________________________________________\n",
            "dropout (Dropout)            (None, 1960)              0         \n",
            "_________________________________________________________________\n",
            "dense_4 (Dense)              (None, 100)               196100    \n",
            "_________________________________________________________________\n",
            "dense_5 (Dense)              (None, 10)                1010      \n",
            "=================================================================\n",
            "Total params: 197,210\n",
            "Trainable params: 197,210\n",
            "Non-trainable params: 0\n",
            "_________________________________________________________________\n"
          ],
          "name": "stdout"
        }
      ]
    },
    {
      "cell_type": "code",
      "metadata": {
        "id": "sGO4Z18FUquQ",
        "colab_type": "code",
        "colab": {
          "base_uri": "https://localhost:8080/",
          "height": 775
        },
        "outputId": "b245059f-a2b4-4331-f504-63f0de97ad46"
      },
      "source": [
        "conv2.compile(optimizer='adam', loss='categorical_crossentropy', metrics=['accuracy'])\n",
        "history = conv2.fit(x_train, y_train_encoded, epochs=20, validation_data=(x_val, y_val_encoded))"
      ],
      "execution_count": 67,
      "outputs": [
        {
          "output_type": "stream",
          "text": [
            "Train on 48000 samples, validate on 12000 samples\n",
            "Epoch 1/20\n",
            "48000/48000 [==============================] - 26s 546us/sample - loss: 0.5120 - accuracy: 0.8127 - val_loss: 0.3562 - val_accuracy: 0.8735\n",
            "Epoch 2/20\n",
            "48000/48000 [==============================] - 26s 537us/sample - loss: 0.3760 - accuracy: 0.8623 - val_loss: 0.3092 - val_accuracy: 0.8908\n",
            "Epoch 3/20\n",
            "48000/48000 [==============================] - 26s 536us/sample - loss: 0.3369 - accuracy: 0.8773 - val_loss: 0.2799 - val_accuracy: 0.8994\n",
            "Epoch 4/20\n",
            "48000/48000 [==============================] - 26s 534us/sample - loss: 0.3065 - accuracy: 0.8855 - val_loss: 0.2635 - val_accuracy: 0.9069\n",
            "Epoch 5/20\n",
            "48000/48000 [==============================] - 26s 538us/sample - loss: 0.2917 - accuracy: 0.8922 - val_loss: 0.2605 - val_accuracy: 0.9058\n",
            "Epoch 6/20\n",
            "48000/48000 [==============================] - 26s 540us/sample - loss: 0.2702 - accuracy: 0.8982 - val_loss: 0.2534 - val_accuracy: 0.9092\n",
            "Epoch 7/20\n",
            "48000/48000 [==============================] - 25s 528us/sample - loss: 0.2596 - accuracy: 0.9030 - val_loss: 0.2506 - val_accuracy: 0.9079\n",
            "Epoch 8/20\n",
            "48000/48000 [==============================] - 26s 537us/sample - loss: 0.2463 - accuracy: 0.9085 - val_loss: 0.2439 - val_accuracy: 0.9131\n",
            "Epoch 9/20\n",
            "48000/48000 [==============================] - 26s 546us/sample - loss: 0.2432 - accuracy: 0.9076 - val_loss: 0.2355 - val_accuracy: 0.9182\n",
            "Epoch 10/20\n",
            "48000/48000 [==============================] - 26s 535us/sample - loss: 0.2298 - accuracy: 0.9137 - val_loss: 0.2447 - val_accuracy: 0.9107\n",
            "Epoch 11/20\n",
            "48000/48000 [==============================] - 27s 556us/sample - loss: 0.2234 - accuracy: 0.9157 - val_loss: 0.2334 - val_accuracy: 0.9147\n",
            "Epoch 12/20\n",
            "48000/48000 [==============================] - 27s 569us/sample - loss: 0.2152 - accuracy: 0.9197 - val_loss: 0.2326 - val_accuracy: 0.9135\n",
            "Epoch 13/20\n",
            "48000/48000 [==============================] - 28s 577us/sample - loss: 0.2099 - accuracy: 0.9210 - val_loss: 0.2308 - val_accuracy: 0.9197\n",
            "Epoch 14/20\n",
            "48000/48000 [==============================] - 27s 558us/sample - loss: 0.2055 - accuracy: 0.9221 - val_loss: 0.2338 - val_accuracy: 0.9176\n",
            "Epoch 15/20\n",
            "48000/48000 [==============================] - 27s 555us/sample - loss: 0.1992 - accuracy: 0.9245 - val_loss: 0.2320 - val_accuracy: 0.9188\n",
            "Epoch 16/20\n",
            "48000/48000 [==============================] - 27s 559us/sample - loss: 0.1931 - accuracy: 0.9276 - val_loss: 0.2260 - val_accuracy: 0.9208\n",
            "Epoch 17/20\n",
            "48000/48000 [==============================] - 27s 556us/sample - loss: 0.1898 - accuracy: 0.9277 - val_loss: 0.2318 - val_accuracy: 0.9194\n",
            "Epoch 18/20\n",
            "48000/48000 [==============================] - 27s 554us/sample - loss: 0.1886 - accuracy: 0.9293 - val_loss: 0.2282 - val_accuracy: 0.9196\n",
            "Epoch 19/20\n",
            "48000/48000 [==============================] - 26s 545us/sample - loss: 0.1831 - accuracy: 0.9308 - val_loss: 0.2289 - val_accuracy: 0.9189\n",
            "Epoch 20/20\n",
            "48000/48000 [==============================] - 26s 547us/sample - loss: 0.1819 - accuracy: 0.9308 - val_loss: 0.2313 - val_accuracy: 0.9197\n"
          ],
          "name": "stdout"
        }
      ]
    },
    {
      "cell_type": "code",
      "metadata": {
        "id": "2VeFQTdoU4kh",
        "colab_type": "code",
        "colab": {
          "base_uri": "https://localhost:8080/",
          "height": 279
        },
        "outputId": "1f05e7a5-6899-4301-e61e-67324ae3f588"
      },
      "source": [
        "plt.plot(history.history['loss'])\n",
        "plt.plot(history.history['val_loss'])\n",
        "plt.ylabel('loss')\n",
        "plt.xlabel('epoch')\n",
        "plt.legend(['train_loss', 'val_loss'])\n",
        "plt.show()"
      ],
      "execution_count": 68,
      "outputs": [
        {
          "output_type": "display_data",
          "data": {
            "image/png": "[encoded data removed]",
            "text/plain": [
              "<Figure size 432x288 with 1 Axes>"
            ]
          },
          "metadata": {
            "tags": [],
            "needs_background": "light"
          }
        }
      ]
    },
    {
      "cell_type": "code",
      "metadata": {
        "id": "f-Fk805DVC2O",
        "colab_type": "code",
        "colab": {
          "base_uri": "https://localhost:8080/",
          "height": 279
        },
        "outputId": "cb4e9427-94cb-42a5-b807-73ca2f4b901d"
      },
      "source": [
        "plt.plot(history.history['accuracy'])\n",
        "plt.plot(history.history['val_accuracy'])\n",
        "plt.ylabel('loss')\n",
        "plt.xlabel('epoch')\n",
        "plt.legend(['train_accuracy', 'val_accuracy'])\n",
        "plt.show()"
      ],
      "execution_count": 69,
      "outputs": [
        {
          "output_type": "display_data",
          "data": {
            "image/png": "[encoded data removed]",
            "text/plain": [
              "<Figure size 432x288 with 1 Axes>"
            ]
          },
          "metadata": {
            "tags": [],
            "needs_background": "light"
          }
        }
      ]
    }
  ]
}