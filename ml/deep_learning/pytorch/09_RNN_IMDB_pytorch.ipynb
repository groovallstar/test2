{
  "nbformat": 4,
  "nbformat_minor": 0,
  "metadata": {
    "colab": {
      "name": "pytorch_rnn_imdb.ipynb",
      "provenance": [],
      "collapsed_sections": []
    },
    "kernelspec": {
      "name": "python3",
      "display_name": "Python 3"
    },
    "accelerator": "GPU"
  },
  "cells": [
    {
      "cell_type": "code",
      "metadata": {
        "id": "FPOoehpgmCz0",
        "colab_type": "code",
        "colab": {}
      },
      "source": [
        "import torch\n",
        "import torch.nn as nn\n",
        "import torch.nn.functional as F\n",
        "from torchtext import data, datasets"
      ],
      "execution_count": 0,
      "outputs": []
    },
    {
      "cell_type": "code",
      "metadata": {
        "id": "ZoSumZRLmb1I",
        "colab_type": "code",
        "colab": {}
      },
      "source": [
        "BATCH_SIZE = 100\n",
        "LR = 0.001\n",
        "EPOCHS = 15\n",
        "USE_CUDA = torch.cuda.is_available()"
      ],
      "execution_count": 0,
      "outputs": []
    },
    {
      "cell_type": "code",
      "metadata": {
        "id": "-LyyCDwKmjXl",
        "colab_type": "code",
        "colab": {}
      },
      "source": [
        "DEVICE = torch.device('cuda' if USE_CUDA else 'cpu')\n",
        "TEXT = data.Field(sequential=True, batch_first=True, lower=True)\n",
        "LABEL = data.Field(sequential=False, batch_first=True)"
      ],
      "execution_count": 0,
      "outputs": []
    },
    {
      "cell_type": "code",
      "metadata": {
        "id": "YE-mlR6anHMW",
        "colab_type": "code",
        "colab": {
          "base_uri": "https://localhost:8080/",
          "height": 53
        },
        "outputId": "bf619fb7-93eb-46d6-d9f5-9d69002432ee"
      },
      "source": [
        "trainset, testset = datasets.IMDB.splits(TEXT, LABEL)"
      ],
      "execution_count": 4,
      "outputs": [
        {
          "output_type": "stream",
          "text": [
            "downloading aclImdb_v1.tar.gz\n"
          ],
          "name": "stdout"
        },
        {
          "output_type": "stream",
          "text": [
            "aclImdb_v1.tar.gz: 100%|██████████| 84.1M/84.1M [00:07<00:00, 10.6MB/s]\n"
          ],
          "name": "stderr"
        }
      ]
    },
    {
      "cell_type": "code",
      "metadata": {
        "id": "NmsTdOoGnO2J",
        "colab_type": "code",
        "colab": {}
      },
      "source": [
        "TEXT.build_vocab(trainset, min_freq=5)\n",
        "LABEL.build_vocab(trainset)"
      ],
      "execution_count": 0,
      "outputs": []
    },
    {
      "cell_type": "code",
      "metadata": {
        "id": "FKs6hLZjnUI2",
        "colab_type": "code",
        "colab": {}
      },
      "source": [
        "trainset, valset = trainset.split(split_ratio = 0.8)\n",
        "train_iter, val_iter, test_iter = data.BucketIterator.splits((trainset, valset, testset),\n",
        "                                                             batch_size=BATCH_SIZE, shuffle=True, repeat=False)"
      ],
      "execution_count": 0,
      "outputs": []
    },
    {
      "cell_type": "code",
      "metadata": {
        "id": "vYqmQIglnhKc",
        "colab_type": "code",
        "colab": {
          "base_uri": "https://localhost:8080/",
          "height": 35
        },
        "outputId": "eac37d30-77cd-42fe-dce4-16161b43f1ae"
      },
      "source": [
        "vocab_size = len(TEXT.vocab)\n",
        "n_classes = 2\n",
        "print('[TRAIN] : %d \\t [VALID] : %d \\t [TEST] : %d \\t [VOCAB] %d \\t [CLASSES] %d'%(\n",
        "    len(trainset), len(valset), len(testset), vocab_size, n_classes\n",
        "))"
      ],
      "execution_count": 7,
      "outputs": [
        {
          "output_type": "stream",
          "text": [
            "[TRAIN] : 20000 \t [VALID] : 5000 \t [TEST] : 25000 \t [VOCAB] 46159 \t [CLASSES] 2\n"
          ],
          "name": "stdout"
        }
      ]
    },
    {
      "cell_type": "code",
      "metadata": {
        "id": "Be1SUKpDn2K3",
        "colab_type": "code",
        "colab": {}
      },
      "source": [
        "class BasicRNN(nn.Module):\n",
        "  def __init__(self, n_layers, hidden_dim, n_vocab, embed_dim, n_classes, dropout_p = 0.2):\n",
        "    super(BasicRNN, self).__init__()\n",
        "    print('Building RNN')\n",
        "    self.n_layers = n_layers\n",
        "    self.embed = nn.Embedding(n_vocab, embed_dim)\n",
        "    self.hidden_dim = hidden_dim\n",
        "    self.dropout = nn.Dropout(dropout_p)\n",
        "    self.rnn = nn.RNN(embed_dim, self.hidden_dim, num_layers = self.n_layers, batch_first=True)\n",
        "    self.out = nn.Linear(self.hidden_dim, n_classes)\n",
        "  \n",
        "  def forward(self, x):\n",
        "    x = self.embed(x)\n",
        "    h_0 = self._init_state(batch_size = x.size(0))\n",
        "    x, _ = self.rnn(x, h_0)\n",
        "    h_t = x[:, -1, :]\n",
        "    self.dropout(h_t)\n",
        "    logit = torch.sigmoid(self.out(h_t))\n",
        "    return logit\n",
        "\n",
        "  def _init_state(self, batch_size = 1):\n",
        "    weight = next(self.parameters()).data\n",
        "    return weight.new(self.n_layers, batch_size, self.hidden_dim).zero_()\n"
      ],
      "execution_count": 0,
      "outputs": []
    },
    {
      "cell_type": "code",
      "metadata": {
        "id": "kbYTS6EfouZ3",
        "colab_type": "code",
        "colab": {}
      },
      "source": [
        "def train(model, optimizer, train_iter):\n",
        "  model.train()\n",
        "  for b, batch in enumerate(train_iter):\n",
        "    x, y = batch.text.to(DEVICE), batch.label.to(DEVICE)\n",
        "    y.data.sub_(1)\n",
        "    optimizer.zero_grad()\n",
        "\n",
        "    logit = model(x)\n",
        "    loss = F.cross_entropy(logit, y)\n",
        "    loss.backward()\n",
        "    optimizer.step()\n",
        "\n",
        "    if b % 50 == 0:\n",
        "      print('Train Epoch: {} [{}/{} ({:.0f}%)]\\tLoss:{:.6f}'.format(\n",
        "          e, b * len(x), len(train_iter.dataset), 100. * b / len(train_iter), loss.item()\n",
        "      ))"
      ],
      "execution_count": 0,
      "outputs": []
    },
    {
      "cell_type": "code",
      "metadata": {
        "id": "sMZeyBYiosxt",
        "colab_type": "code",
        "colab": {}
      },
      "source": [
        "def evaluate(model, val_iter):\n",
        "  model.eval()\n",
        "  corrects, total_loss = 0, 0\n",
        "\n",
        "  for batch in val_iter:\n",
        "    x, y = batch.text.to(DEVICE), batch.label.to(DEVICE)\n",
        "    y.data.sub_(1)\n",
        "    logit = model(x)\n",
        "    loss = F.cross_entropy(logit, y, reduction='sum')\n",
        "    total_loss += loss.item()\n",
        "    corrects += (logit.max(1)[1].view(y.size()).data == y.data).sum()\n",
        "\n",
        "  size = len(val_iter.dataset)\n",
        "  avg_loss = total_loss / size\n",
        "  avg_accuracy = 100.0 * corrects / size\n",
        "  return avg_loss, avg_accuracy"
      ],
      "execution_count": 0,
      "outputs": []
    },
    {
      "cell_type": "code",
      "metadata": {
        "id": "mYnTzOI-7rEH",
        "colab_type": "code",
        "colab": {
          "base_uri": "https://localhost:8080/",
          "height": 1000
        },
        "outputId": "558d5c53-0090-4fde-82a4-f87b224b6e28"
      },
      "source": [
        "model = BasicRNN(\n",
        "    n_layers=1, hidden_dim = 256, n_vocab = vocab_size, embed_dim = 128, n_classes=n_classes, dropout_p=0.5).to(DEVICE)\n",
        "optimizer = torch.optim.Adam(model.parameters(), lr=LR)\n",
        "for e in range(1, EPOCHS + 1):\n",
        "  train(model, optimizer, train_iter)\n",
        "  val_loss, val_accuracy = evaluate(model, val_iter)\n",
        "  print('[EPOCH: %d], Validation Loss: %5.2f | Validation Accuracy: %5.2f'%(e, val_loss, val_accuracy))"
      ],
      "execution_count": 21,
      "outputs": [
        {
          "output_type": "stream",
          "text": [
            "Building RNN\n",
            "Train Epoch: 1 [0/20000 (0%)]\tLoss:0.693788\n",
            "Train Epoch: 1 [5000/20000 (25%)]\tLoss:0.691996\n",
            "Train Epoch: 1 [10000/20000 (50%)]\tLoss:0.693209\n",
            "Train Epoch: 1 [15000/20000 (75%)]\tLoss:0.693421\n",
            "[EPOCH: 1], Validation Loss:  0.69 | Validation Accuracy: 49.24\n",
            "Train Epoch: 2 [0/20000 (0%)]\tLoss:0.693119\n",
            "Train Epoch: 2 [5000/20000 (25%)]\tLoss:0.692230\n",
            "Train Epoch: 2 [10000/20000 (50%)]\tLoss:0.690141\n",
            "Train Epoch: 2 [15000/20000 (75%)]\tLoss:0.692805\n",
            "[EPOCH: 2], Validation Loss:  0.70 | Validation Accuracy: 49.22\n",
            "Train Epoch: 3 [0/20000 (0%)]\tLoss:0.682445\n",
            "Train Epoch: 3 [5000/20000 (25%)]\tLoss:0.689822\n",
            "Train Epoch: 3 [10000/20000 (50%)]\tLoss:0.693898\n",
            "Train Epoch: 3 [15000/20000 (75%)]\tLoss:0.693248\n",
            "[EPOCH: 3], Validation Loss:  0.69 | Validation Accuracy: 49.88\n",
            "Train Epoch: 4 [0/20000 (0%)]\tLoss:0.693290\n",
            "Train Epoch: 4 [5000/20000 (25%)]\tLoss:0.693272\n",
            "Train Epoch: 4 [10000/20000 (50%)]\tLoss:0.692922\n",
            "Train Epoch: 4 [15000/20000 (75%)]\tLoss:0.693106\n",
            "[EPOCH: 4], Validation Loss:  0.69 | Validation Accuracy: 49.84\n",
            "Train Epoch: 5 [0/20000 (0%)]\tLoss:0.693372\n",
            "Train Epoch: 5 [5000/20000 (25%)]\tLoss:0.693225\n",
            "Train Epoch: 5 [10000/20000 (50%)]\tLoss:0.692877\n",
            "Train Epoch: 5 [15000/20000 (75%)]\tLoss:0.693482\n",
            "[EPOCH: 5], Validation Loss:  0.69 | Validation Accuracy: 50.04\n",
            "Train Epoch: 6 [0/20000 (0%)]\tLoss:0.693105\n",
            "Train Epoch: 6 [5000/20000 (25%)]\tLoss:0.693099\n",
            "Train Epoch: 6 [10000/20000 (50%)]\tLoss:0.693053\n",
            "Train Epoch: 6 [15000/20000 (75%)]\tLoss:0.693233\n",
            "[EPOCH: 6], Validation Loss:  0.69 | Validation Accuracy: 50.04\n",
            "Train Epoch: 7 [0/20000 (0%)]\tLoss:0.693176\n",
            "Train Epoch: 7 [5000/20000 (25%)]\tLoss:0.693587\n",
            "Train Epoch: 7 [10000/20000 (50%)]\tLoss:0.693352\n",
            "Train Epoch: 7 [15000/20000 (75%)]\tLoss:0.693311\n",
            "[EPOCH: 7], Validation Loss:  0.69 | Validation Accuracy: 49.76\n",
            "Train Epoch: 8 [0/20000 (0%)]\tLoss:0.693057\n",
            "Train Epoch: 8 [5000/20000 (25%)]\tLoss:0.693082\n",
            "Train Epoch: 8 [10000/20000 (50%)]\tLoss:0.693120\n",
            "Train Epoch: 8 [15000/20000 (75%)]\tLoss:0.693003\n",
            "[EPOCH: 8], Validation Loss:  0.69 | Validation Accuracy: 50.80\n",
            "Train Epoch: 9 [0/20000 (0%)]\tLoss:0.693116\n",
            "Train Epoch: 9 [5000/20000 (25%)]\tLoss:0.693086\n",
            "Train Epoch: 9 [10000/20000 (50%)]\tLoss:0.693199\n",
            "Train Epoch: 9 [15000/20000 (75%)]\tLoss:0.693194\n",
            "[EPOCH: 9], Validation Loss:  0.69 | Validation Accuracy: 49.42\n",
            "Train Epoch: 10 [0/20000 (0%)]\tLoss:0.693185\n",
            "Train Epoch: 10 [5000/20000 (25%)]\tLoss:0.693103\n",
            "Train Epoch: 10 [10000/20000 (50%)]\tLoss:0.693215\n",
            "Train Epoch: 10 [15000/20000 (75%)]\tLoss:0.693292\n",
            "[EPOCH: 10], Validation Loss:  0.69 | Validation Accuracy: 50.38\n",
            "Train Epoch: 11 [0/20000 (0%)]\tLoss:0.693353\n",
            "Train Epoch: 11 [5000/20000 (25%)]\tLoss:0.693184\n",
            "Train Epoch: 11 [10000/20000 (50%)]\tLoss:0.693391\n",
            "Train Epoch: 11 [15000/20000 (75%)]\tLoss:0.693057\n",
            "[EPOCH: 11], Validation Loss:  0.69 | Validation Accuracy: 49.44\n",
            "Train Epoch: 12 [0/20000 (0%)]\tLoss:0.692922\n",
            "Train Epoch: 12 [5000/20000 (25%)]\tLoss:0.693272\n",
            "Train Epoch: 12 [10000/20000 (50%)]\tLoss:0.693317\n",
            "Train Epoch: 12 [15000/20000 (75%)]\tLoss:0.694574\n",
            "[EPOCH: 12], Validation Loss:  0.69 | Validation Accuracy: 48.80\n",
            "Train Epoch: 13 [0/20000 (0%)]\tLoss:0.692687\n",
            "Train Epoch: 13 [5000/20000 (25%)]\tLoss:0.693564\n",
            "Train Epoch: 13 [10000/20000 (50%)]\tLoss:0.692597\n",
            "Train Epoch: 13 [15000/20000 (75%)]\tLoss:0.693366\n",
            "[EPOCH: 13], Validation Loss:  0.69 | Validation Accuracy: 48.96\n",
            "Train Epoch: 14 [0/20000 (0%)]\tLoss:0.693806\n",
            "Train Epoch: 14 [5000/20000 (25%)]\tLoss:0.693386\n",
            "Train Epoch: 14 [10000/20000 (50%)]\tLoss:0.692632\n",
            "Train Epoch: 14 [15000/20000 (75%)]\tLoss:0.693472\n",
            "[EPOCH: 14], Validation Loss:  0.70 | Validation Accuracy: 49.84\n",
            "Train Epoch: 15 [0/20000 (0%)]\tLoss:0.693642\n",
            "Train Epoch: 15 [5000/20000 (25%)]\tLoss:0.694638\n",
            "Train Epoch: 15 [10000/20000 (50%)]\tLoss:0.692870\n",
            "Train Epoch: 15 [15000/20000 (75%)]\tLoss:0.693626\n",
            "[EPOCH: 15], Validation Loss:  0.69 | Validation Accuracy: 49.58\n"
          ],
          "name": "stdout"
        }
      ]
    },
    {
      "cell_type": "code",
      "metadata": {
        "id": "_AKOBqoO85fH",
        "colab_type": "code",
        "colab": {}
      },
      "source": [
        "test_loss, test_acc = evaluate(model, test_iter)\n",
        "print('Test Loss:%5.2f | Test Accuracy: %5.2f'%(test_loss, test_acc))"
      ],
      "execution_count": 0,
      "outputs": []
    },
    {
      "cell_type": "code",
      "metadata": {
        "id": "sA_bdfnA9B6C",
        "colab_type": "code",
        "colab": {}
      },
      "source": [
        "class BasicGRU(nn.Module):\n",
        "  def __init__(self, n_layers, hidden_dim, n_vocab, embed_dim, n_classes, dropout_p = 0.2):\n",
        "    super(BasicGRU, self).__init__()\n",
        "    print('Building GRU')\n",
        "    self.n_layers = n_layers\n",
        "    self.embed = nn.Embedding(n_vocab, embed_dim)\n",
        "    self.hidden_dim = hidden_dim\n",
        "    self.dropout = nn.Dropout(dropout_p)\n",
        "    self.gru = nn.GRU(embed_dim, self.hidden_dim, num_layers = self.n_layers, batch_first = True)\n",
        "    self.out = nn.Linear(self.hidden_dim, n_classes)\n",
        "\n",
        "  def forward(self, x):\n",
        "    x = self.embed(x)\n",
        "    h_0 = self._init_state(batch_size = x.size(0))\n",
        "    x, _ = self.gru(x, h_0)\n",
        "    h_t = x[:, -1, :]\n",
        "    self.dropout(h_t)\n",
        "    logit = torch.sigmoid(self.out(h_t))\n",
        "    return logit\n",
        "\n",
        "  def _init_state(self, batch_size = 1):\n",
        "    weight = next(self.parameters()).data\n",
        "    return weight.new(self.n_layers, batch_size, self.hidden_dim).zero_()"
      ],
      "execution_count": 0,
      "outputs": []
    },
    {
      "cell_type": "code",
      "metadata": {
        "id": "fooOrIgC-FiZ",
        "colab_type": "code",
        "colab": {
          "base_uri": "https://localhost:8080/",
          "height": 1000
        },
        "outputId": "0f4dc13c-0a90-49af-e9a9-95db442bf289"
      },
      "source": [
        "model = BasicGRU(\n",
        "    n_layers=1, hidden_dim=256, n_vocab=vocab_size, embed_dim=128, n_classes=n_classes, dropout_p=0.5).to(DEVICE)\n",
        "optimizer = torch.optim.Adam(model.parameters(), lr=LR)\n",
        "for e in range(1, EPOCHS + 1):\n",
        "  train(model, optimizer, train_iter)\n",
        "  val_loss, val_accuracy = evaluate(model, val_iter)\n",
        "  print('[EPOCH: %d], Validation Loss: %5.2f | Validation Accuracy: %5.2f' %(e, val_loss, val_accuracy))"
      ],
      "execution_count": 26,
      "outputs": [
        {
          "output_type": "stream",
          "text": [
            "Building GRU\n",
            "Train Epoch: 1 [0/20000 (0%)]\tLoss:0.698118\n",
            "Train Epoch: 1 [5000/20000 (25%)]\tLoss:0.694385\n",
            "Train Epoch: 1 [10000/20000 (50%)]\tLoss:0.693067\n",
            "Train Epoch: 1 [15000/20000 (75%)]\tLoss:0.693173\n",
            "[EPOCH: 1], Validation Loss:  0.69 | Validation Accuracy: 50.48\n",
            "Train Epoch: 2 [0/20000 (0%)]\tLoss:0.692846\n",
            "Train Epoch: 2 [5000/20000 (25%)]\tLoss:0.693092\n",
            "Train Epoch: 2 [10000/20000 (50%)]\tLoss:0.693500\n",
            "Train Epoch: 2 [15000/20000 (75%)]\tLoss:0.692800\n",
            "[EPOCH: 2], Validation Loss:  0.69 | Validation Accuracy: 51.48\n",
            "Train Epoch: 3 [0/20000 (0%)]\tLoss:0.693493\n",
            "Train Epoch: 3 [5000/20000 (25%)]\tLoss:0.692524\n",
            "Train Epoch: 3 [10000/20000 (50%)]\tLoss:0.694783\n",
            "Train Epoch: 3 [15000/20000 (75%)]\tLoss:0.693296\n",
            "[EPOCH: 3], Validation Loss:  0.69 | Validation Accuracy: 49.96\n",
            "Train Epoch: 4 [0/20000 (0%)]\tLoss:0.693011\n",
            "Train Epoch: 4 [5000/20000 (25%)]\tLoss:0.693126\n",
            "Train Epoch: 4 [10000/20000 (50%)]\tLoss:0.693203\n",
            "Train Epoch: 4 [15000/20000 (75%)]\tLoss:0.693081\n",
            "[EPOCH: 4], Validation Loss:  0.69 | Validation Accuracy: 49.96\n",
            "Train Epoch: 5 [0/20000 (0%)]\tLoss:0.693164\n",
            "Train Epoch: 5 [5000/20000 (25%)]\tLoss:0.693201\n",
            "Train Epoch: 5 [10000/20000 (50%)]\tLoss:0.693067\n",
            "Train Epoch: 5 [15000/20000 (75%)]\tLoss:0.693171\n",
            "[EPOCH: 5], Validation Loss:  0.69 | Validation Accuracy: 49.96\n",
            "Train Epoch: 6 [0/20000 (0%)]\tLoss:0.693374\n",
            "Train Epoch: 6 [5000/20000 (25%)]\tLoss:0.693218\n",
            "Train Epoch: 6 [10000/20000 (50%)]\tLoss:0.693294\n",
            "Train Epoch: 6 [15000/20000 (75%)]\tLoss:0.693087\n",
            "[EPOCH: 6], Validation Loss:  0.69 | Validation Accuracy: 49.96\n",
            "Train Epoch: 7 [0/20000 (0%)]\tLoss:0.693018\n",
            "Train Epoch: 7 [5000/20000 (25%)]\tLoss:0.693220\n",
            "Train Epoch: 7 [10000/20000 (50%)]\tLoss:0.693085\n",
            "Train Epoch: 7 [15000/20000 (75%)]\tLoss:0.693049\n",
            "[EPOCH: 7], Validation Loss:  0.69 | Validation Accuracy: 49.96\n",
            "Train Epoch: 8 [0/20000 (0%)]\tLoss:0.693075\n",
            "Train Epoch: 8 [5000/20000 (25%)]\tLoss:0.693094\n",
            "Train Epoch: 8 [10000/20000 (50%)]\tLoss:0.693155\n",
            "Train Epoch: 8 [15000/20000 (75%)]\tLoss:0.693391\n",
            "[EPOCH: 8], Validation Loss:  0.69 | Validation Accuracy: 47.18\n",
            "Train Epoch: 9 [0/20000 (0%)]\tLoss:0.693239\n",
            "Train Epoch: 9 [5000/20000 (25%)]\tLoss:0.693144\n",
            "Train Epoch: 9 [10000/20000 (50%)]\tLoss:0.693160\n",
            "Train Epoch: 9 [15000/20000 (75%)]\tLoss:0.693134\n",
            "[EPOCH: 9], Validation Loss:  0.69 | Validation Accuracy: 51.70\n",
            "Train Epoch: 10 [0/20000 (0%)]\tLoss:0.693472\n",
            "Train Epoch: 10 [5000/20000 (25%)]\tLoss:0.689212\n",
            "Train Epoch: 10 [10000/20000 (50%)]\tLoss:0.695894\n",
            "Train Epoch: 10 [15000/20000 (75%)]\tLoss:0.693325\n",
            "[EPOCH: 10], Validation Loss:  0.69 | Validation Accuracy: 49.20\n",
            "Train Epoch: 11 [0/20000 (0%)]\tLoss:0.692894\n",
            "Train Epoch: 11 [5000/20000 (25%)]\tLoss:0.693135\n",
            "Train Epoch: 11 [10000/20000 (50%)]\tLoss:0.692764\n",
            "Train Epoch: 11 [15000/20000 (75%)]\tLoss:0.693085\n",
            "[EPOCH: 11], Validation Loss:  0.69 | Validation Accuracy: 50.32\n",
            "Train Epoch: 12 [0/20000 (0%)]\tLoss:0.693120\n",
            "Train Epoch: 12 [5000/20000 (25%)]\tLoss:0.693002\n",
            "Train Epoch: 12 [10000/20000 (50%)]\tLoss:0.691250\n",
            "Train Epoch: 12 [15000/20000 (75%)]\tLoss:0.693237\n",
            "[EPOCH: 12], Validation Loss:  0.69 | Validation Accuracy: 50.10\n",
            "Train Epoch: 13 [0/20000 (0%)]\tLoss:0.692551\n",
            "Train Epoch: 13 [5000/20000 (25%)]\tLoss:0.682183\n",
            "Train Epoch: 13 [10000/20000 (50%)]\tLoss:0.685207\n",
            "Train Epoch: 13 [15000/20000 (75%)]\tLoss:0.640557\n",
            "[EPOCH: 13], Validation Loss:  0.63 | Validation Accuracy: 66.34\n",
            "Train Epoch: 14 [0/20000 (0%)]\tLoss:0.599215\n",
            "Train Epoch: 14 [5000/20000 (25%)]\tLoss:0.547883\n",
            "Train Epoch: 14 [10000/20000 (50%)]\tLoss:0.522226\n",
            "Train Epoch: 14 [15000/20000 (75%)]\tLoss:0.476550\n",
            "[EPOCH: 14], Validation Loss:  0.51 | Validation Accuracy: 79.42\n",
            "Train Epoch: 15 [0/20000 (0%)]\tLoss:0.451715\n",
            "Train Epoch: 15 [5000/20000 (25%)]\tLoss:0.404151\n",
            "Train Epoch: 15 [10000/20000 (50%)]\tLoss:0.392333\n",
            "Train Epoch: 15 [15000/20000 (75%)]\tLoss:0.408335\n",
            "[EPOCH: 15], Validation Loss:  0.49 | Validation Accuracy: 81.90\n"
          ],
          "name": "stdout"
        }
      ]
    },
    {
      "cell_type": "code",
      "metadata": {
        "id": "tT0cUK4B-y-I",
        "colab_type": "code",
        "colab": {
          "base_uri": "https://localhost:8080/",
          "height": 35
        },
        "outputId": "35358ef0-6af6-4903-dcb5-9954188d5099"
      },
      "source": [
        "test_loss, test_acc = evaluate(model, test_iter)\n",
        "print('Test Loss: %5.2f | Test Accuracy: %5.2f' %(test_loss, test_acc))"
      ],
      "execution_count": 28,
      "outputs": [
        {
          "output_type": "stream",
          "text": [
            "Test Loss:  0.49 | Test Accuracy: 81.78\n"
          ],
          "name": "stdout"
        }
      ]
    },
    {
      "cell_type": "code",
      "metadata": {
        "id": "_0JsT3Kd-7Ua",
        "colab_type": "code",
        "colab": {}
      },
      "source": [
        "class BasicLSTM(nn.Module):\n",
        "  def __init__(self, n_layers, hidden_dim, n_vocab, embed_dim, n_classes, dropout_p = 0.2):\n",
        "    super(BasicLSTM, self).__init__()\n",
        "    print('Building LSTM')\n",
        "    self.n_layers = n_layers\n",
        "    self.embed = nn.Embedding(n_vocab, embed_dim)\n",
        "    self.hidden_dim = hidden_dim\n",
        "    self.dropout = nn.Dropout(dropout_p)\n",
        "    self.lstm = nn.LSTM(embed_dim, self.hidden_dim, num_layers=self.n_layers, batch_first=True)\n",
        "    self.out = nn.Linear(self.hidden_dim, n_classes)\n",
        "  \n",
        "  def forward(self, x):\n",
        "    x = self.embed(x)\n",
        "    h_0 = self._init_state(batch_size = x.size(0))\n",
        "    c_0 = self._init_state(batch_size = x.size(0))\n",
        "\n",
        "    x, _ = self.lstm(x, (h_0, c_0))\n",
        "    h_t = x[:, -1, :]\n",
        "    self.dropout(h_t)\n",
        "    logit = torch.sigmoid(self.out(h_t))\n",
        "    return logit\n",
        "\n",
        "  def _init_state(self, batch_size=1):\n",
        "    weight = next(self.parameters()).data\n",
        "    return weight.new(self.n_layers, batch_size, self.hidden_dim).zero_()"
      ],
      "execution_count": 0,
      "outputs": []
    },
    {
      "cell_type": "code",
      "metadata": {
        "id": "y7-t2b6d_4ix",
        "colab_type": "code",
        "colab": {
          "base_uri": "https://localhost:8080/",
          "height": 1000
        },
        "outputId": "1663ec68-7f36-47cb-b50c-1bed76841281"
      },
      "source": [
        "model = BasicLSTM(\n",
        "    n_layers=1, hidden_dim=256, n_vocab=vocab_size, embed_dim=128, n_classes=n_classes, dropout_p=0.5).to(DEVICE)\n",
        "optimizer = torch.optim.Adam(model.parameters(), lr=LR)\n",
        "for e in range(1, EPOCHS + 1):\n",
        "  train(model, optimizer, train_iter)\n",
        "  val_loss, val_accuracy = evaluate(model, val_iter)\n",
        "  print('[EPOCH: %d], Validation Loss: %5.2f | Validation Accuracy: %5.2f' %(e, val_loss, val_accuracy))"
      ],
      "execution_count": 30,
      "outputs": [
        {
          "output_type": "stream",
          "text": [
            "Building LSTM\n",
            "Train Epoch: 1 [0/20000 (0%)]\tLoss:0.693781\n",
            "Train Epoch: 1 [5000/20000 (25%)]\tLoss:0.693246\n",
            "Train Epoch: 1 [10000/20000 (50%)]\tLoss:0.690423\n",
            "Train Epoch: 1 [15000/20000 (75%)]\tLoss:0.693761\n",
            "[EPOCH: 1], Validation Loss:  0.69 | Validation Accuracy: 48.14\n",
            "Train Epoch: 2 [0/20000 (0%)]\tLoss:0.694339\n",
            "Train Epoch: 2 [5000/20000 (25%)]\tLoss:0.691478\n",
            "Train Epoch: 2 [10000/20000 (50%)]\tLoss:0.691857\n",
            "Train Epoch: 2 [15000/20000 (75%)]\tLoss:0.691453\n",
            "[EPOCH: 2], Validation Loss:  0.69 | Validation Accuracy: 50.16\n",
            "Train Epoch: 3 [0/20000 (0%)]\tLoss:0.698122\n",
            "Train Epoch: 3 [5000/20000 (25%)]\tLoss:0.694497\n",
            "Train Epoch: 3 [10000/20000 (50%)]\tLoss:0.690712\n",
            "Train Epoch: 3 [15000/20000 (75%)]\tLoss:0.691720\n",
            "[EPOCH: 3], Validation Loss:  0.69 | Validation Accuracy: 49.96\n",
            "Train Epoch: 4 [0/20000 (0%)]\tLoss:0.692962\n",
            "Train Epoch: 4 [5000/20000 (25%)]\tLoss:0.691455\n",
            "Train Epoch: 4 [10000/20000 (50%)]\tLoss:0.695489\n",
            "Train Epoch: 4 [15000/20000 (75%)]\tLoss:0.693069\n",
            "[EPOCH: 4], Validation Loss:  0.69 | Validation Accuracy: 50.80\n",
            "Train Epoch: 5 [0/20000 (0%)]\tLoss:0.691769\n",
            "Train Epoch: 5 [5000/20000 (25%)]\tLoss:0.690396\n",
            "Train Epoch: 5 [10000/20000 (50%)]\tLoss:0.691008\n",
            "Train Epoch: 5 [15000/20000 (75%)]\tLoss:0.690221\n",
            "[EPOCH: 5], Validation Loss:  0.69 | Validation Accuracy: 50.92\n",
            "Train Epoch: 6 [0/20000 (0%)]\tLoss:0.690534\n",
            "Train Epoch: 6 [5000/20000 (25%)]\tLoss:0.689366\n",
            "Train Epoch: 6 [10000/20000 (50%)]\tLoss:0.697326\n",
            "Train Epoch: 6 [15000/20000 (75%)]\tLoss:0.689509\n",
            "[EPOCH: 6], Validation Loss:  0.69 | Validation Accuracy: 50.54\n",
            "Train Epoch: 7 [0/20000 (0%)]\tLoss:0.691018\n",
            "Train Epoch: 7 [5000/20000 (25%)]\tLoss:0.696572\n",
            "Train Epoch: 7 [10000/20000 (50%)]\tLoss:0.692045\n",
            "Train Epoch: 7 [15000/20000 (75%)]\tLoss:0.694290\n",
            "[EPOCH: 7], Validation Loss:  0.69 | Validation Accuracy: 50.58\n",
            "Train Epoch: 8 [0/20000 (0%)]\tLoss:0.690843\n",
            "Train Epoch: 8 [5000/20000 (25%)]\tLoss:0.689918\n",
            "Train Epoch: 8 [10000/20000 (50%)]\tLoss:0.698469\n",
            "Train Epoch: 8 [15000/20000 (75%)]\tLoss:0.693598\n",
            "[EPOCH: 8], Validation Loss:  0.70 | Validation Accuracy: 50.54\n",
            "Train Epoch: 9 [0/20000 (0%)]\tLoss:0.689261\n",
            "Train Epoch: 9 [5000/20000 (25%)]\tLoss:0.697629\n",
            "Train Epoch: 9 [10000/20000 (50%)]\tLoss:0.689313\n",
            "Train Epoch: 9 [15000/20000 (75%)]\tLoss:0.689280\n",
            "[EPOCH: 9], Validation Loss:  0.69 | Validation Accuracy: 50.76\n",
            "Train Epoch: 10 [0/20000 (0%)]\tLoss:0.689539\n",
            "Train Epoch: 10 [5000/20000 (25%)]\tLoss:0.689428\n",
            "Train Epoch: 10 [10000/20000 (50%)]\tLoss:0.689573\n",
            "Train Epoch: 10 [15000/20000 (75%)]\tLoss:0.689342\n",
            "[EPOCH: 10], Validation Loss:  0.70 | Validation Accuracy: 50.14\n",
            "Train Epoch: 11 [0/20000 (0%)]\tLoss:0.689329\n",
            "Train Epoch: 11 [5000/20000 (25%)]\tLoss:0.690595\n",
            "Train Epoch: 11 [10000/20000 (50%)]\tLoss:0.689458\n",
            "Train Epoch: 11 [15000/20000 (75%)]\tLoss:0.690442\n",
            "[EPOCH: 11], Validation Loss:  0.70 | Validation Accuracy: 52.10\n",
            "Train Epoch: 12 [0/20000 (0%)]\tLoss:0.689462\n",
            "Train Epoch: 12 [5000/20000 (25%)]\tLoss:0.689551\n",
            "Train Epoch: 12 [10000/20000 (50%)]\tLoss:0.689624\n",
            "Train Epoch: 12 [15000/20000 (75%)]\tLoss:0.658126\n",
            "[EPOCH: 12], Validation Loss:  0.66 | Validation Accuracy: 61.02\n",
            "Train Epoch: 13 [0/20000 (0%)]\tLoss:0.639167\n",
            "Train Epoch: 13 [5000/20000 (25%)]\tLoss:0.602232\n",
            "Train Epoch: 13 [10000/20000 (50%)]\tLoss:0.744454\n",
            "Train Epoch: 13 [15000/20000 (75%)]\tLoss:0.700275\n",
            "[EPOCH: 13], Validation Loss:  0.69 | Validation Accuracy: 52.74\n",
            "Train Epoch: 14 [0/20000 (0%)]\tLoss:0.691610\n",
            "Train Epoch: 14 [5000/20000 (25%)]\tLoss:0.676772\n",
            "Train Epoch: 14 [10000/20000 (50%)]\tLoss:0.646208\n",
            "Train Epoch: 14 [15000/20000 (75%)]\tLoss:0.641537\n",
            "[EPOCH: 14], Validation Loss:  0.61 | Validation Accuracy: 70.40\n",
            "Train Epoch: 15 [0/20000 (0%)]\tLoss:0.608950\n",
            "Train Epoch: 15 [5000/20000 (25%)]\tLoss:0.528219\n",
            "Train Epoch: 15 [10000/20000 (50%)]\tLoss:0.517613\n",
            "Train Epoch: 15 [15000/20000 (75%)]\tLoss:0.572777\n",
            "[EPOCH: 15], Validation Loss:  0.53 | Validation Accuracy: 78.86\n"
          ],
          "name": "stdout"
        }
      ]
    },
    {
      "cell_type": "code",
      "metadata": {
        "id": "6Z4bYdU7-bij",
        "colab_type": "code",
        "colab": {
          "base_uri": "https://localhost:8080/",
          "height": 35
        },
        "outputId": "9e72ceac-53dc-4f9e-92bc-ce8f7847ff6d"
      },
      "source": [
        "test_loss, test_acc = evaluate(model, test_iter)\n",
        "print('Test Loss: %5.2f | Test Accuracy: %5.2f'%(test_loss, test_acc))"
      ],
      "execution_count": 31,
      "outputs": [
        {
          "output_type": "stream",
          "text": [
            "Test Loss:  0.56 | Test Accuracy: 77.00\n"
          ],
          "name": "stdout"
        }
      ]
    }
  ]
}