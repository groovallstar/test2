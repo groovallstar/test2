{
 "cells": [
  {
   "cell_type": "markdown",
   "metadata": {},
   "source": [
    "[nn.Sequential]  \n",
    "각 레이어를 데이터가 순차적으로 지나갈 때 사용  \n",
    "여러 nn.Module을 한 컨테이너에 집어넣고 한 번에 돌리는 방법  "
   ]
  },
  {
   "cell_type": "code",
   "execution_count": 1,
   "metadata": {},
   "outputs": [],
   "source": [
    "import torch\n",
    "import torch.nn as nn\n",
    "\n",
    "class CNNModel(nn.Module):\n",
    "    def __init__(self, class_num, filter_num, num):\n",
    "        super().__init__()\n",
    "        self.layer1 = nn.Sequential(\n",
    "            nn.Conv2d(in_channels=1, out_channels=5, kernel_size=5,\n",
    "                      stride=1, padding = 2),\n",
    "            nn.BatchNorm2d(num_features=32),\n",
    "            nn.ReLU(),\n",
    "            nn.MaxPool2d(kernel_size=2, stride=2))\n",
    "        self.layer2 = nn.Sequential(\n",
    "            nn.Conv2d(in_channels=32, out_channels=64, kernel_size=5,\n",
    "                     stride=1, padding=2),\n",
    "            nn.BatchNorm2d(num_features=64),\n",
    "            nn.ReLU(),\n",
    "            nn.MaxPool2d(kernel_size=2, stride=2))\n",
    "        self.fc = nn.Linear(out_channels*num*num, class_num)\n",
    "        self.dropout = nn.Dropout()\n",
    "        \n",
    "    def forward(self, x):\n",
    "        x = self.layer1(x)\n",
    "        x = self.layer2(x)\n",
    "        x = self.fc(x)\n",
    "        return x"
   ]
  },
  {
   "cell_type": "markdown",
   "metadata": {},
   "source": [
    "make_sequential() 이용한 방법"
   ]
  },
  {
   "cell_type": "code",
   "execution_count": 2,
   "metadata": {},
   "outputs": [],
   "source": [
    "def make_sequential(in_channels, out_channels, *args, **kwargs):\n",
    "    return nn.Sequential(nn.Conv2d(in_channels, out_channels, *args, **kwargs),\n",
    "            nn.BatchNorm2d(out_channels),\n",
    "            nn.ReLU(),\n",
    "            nn.MaxPool2d(*args, **kwargs))"
   ]
  },
  {
   "cell_type": "code",
   "execution_count": 3,
   "metadata": {},
   "outputs": [],
   "source": [
    "class CNNModel(nn.Module):\n",
    "    def __init__(self, class_num, filter_num, num):\n",
    "        super().__init__()\n",
    "        self.layer1 = make_sequential(1, 32, kernel_size=5, stride=1, padding=2)\n",
    "        self.layer2 = make_sequential(32, 64, kernel_size=5, stride=1, padding=2)\n",
    "        self.fc = nn.Linear(out_channels*num*num, class_num)\n",
    "        self.dropout = nn.Dropout()\n",
    "        \n",
    "    def forward(self, x):\n",
    "        x = self.layer1(x)\n",
    "        x = self.layer2(x)\n",
    "        x = self.fc(x)\n",
    "        return x"
   ]
  },
  {
   "cell_type": "markdown",
   "metadata": {},
   "source": [
    "array 크기에 따라 자동으로 지정 가능"
   ]
  },
  {
   "cell_type": "code",
   "execution_count": 5,
   "metadata": {},
   "outputs": [],
   "source": [
    "class CNNModel(nn.Module):\n",
    "    def __init__(self, in_channels, out_channels1, out_channels2, \n",
    "                 class_num, filter_num, num):\n",
    "        super().__init__()\n",
    "        self.layer_size = [in_channels, out_channels1, out_channels2]\n",
    "        layers = [\n",
    "            make_sequential(\n",
    "                in_channels, out_channels, kernel_size=5, stride=5, padding=2)\\\n",
    "            for in_channels, out_channels in zip(\n",
    "                self.layer_size, self.layer_size[1:])\n",
    "        ]\n",
    "        self.encoder = nn.Sequential(*layers)\n",
    "        self.fc = nn.Linear(out_channels*num*num, class_num)\n",
    "        self.dropout = nn.Dropout()\n",
    "        \n",
    "    def forward(self, x):\n",
    "        x = self.encoder(x)\n",
    "        x = self.fc(x)\n",
    "        return x"
   ]
  },
  {
   "cell_type": "markdown",
   "metadata": {},
   "source": [
    "[nn.ModuleList]  \n",
    "nn.Module을 리스트로 정리하는 방법  \n",
    "각 레이어를 리스트에 전달하고 레이어의 iterator를 만듦"
   ]
  },
  {
   "cell_type": "code",
   "execution_count": 7,
   "metadata": {},
   "outputs": [],
   "source": [
    "# 1.\n",
    "class CNNModel(nn.Module):\n",
    "    def __init__(self, in_channels, out_channels1, out_channels2, \n",
    "                 class_num, filter_num, num):\n",
    "        super().__init__()\n",
    "        self.conv1 = nn.Conv2d(1, 32, kernel_size=5, stride=1, padding=2)\n",
    "        self.batchnorm1 = nn.BatchNorm2d(32)\n",
    "        self.relu1 = nn.ReLU()\n",
    "        self.maxpool1 = nn.MaxPool2d(kernel_size=2, stride=2)\n",
    "        \n",
    "        self.conv2 = nn.Conv2d(32, 64, kernel_size=5, stride=1, padding=2)\n",
    "        self.batchnorm2 = nn.BatchNorm2d(64)\n",
    "        self.relu2 = nn.ReLU()\n",
    "        self.maxpool2 = nn.MaxPool2d(kernel_size=2, stride=2)\n",
    "        \n",
    "        self.fc = nn.Linear(out_channels*num*num, class_num)\n",
    "        self.dropout = nn.Dropout()\n",
    "        \n",
    "        layers = [self.conv1, self.batchnorm1, self.relu1, self.maxpool1,\n",
    "                 self.conv2, self.batchnorm2, self.relu2, self.maxpool2,\n",
    "                 self.fc, self.dropout]\n",
    "        \n",
    "        self.module_list = nn.ModuleList(layers)\n",
    "        \n",
    "    def forward(self, x):\n",
    "        for layer in self.module_list:\n",
    "            x = f(x)\n",
    "        return x"
   ]
  },
  {
   "cell_type": "code",
   "execution_count": 8,
   "metadata": {},
   "outputs": [],
   "source": [
    "# 2. text classification cnn pytorch. \n",
    "# 커널의 region size를 받아 nn.Conv2d에 넣는 형식\n",
    "\n",
    "class CNNModel(nn.Module):\n",
    "    def __init__(self, vocab_size, embedding_dim, kernel_sizes, num_class):\n",
    "        super().__init__()\n",
    "        \n",
    "        self.vocab_size = vocab_size\n",
    "        self.embedding_dim = embedding_dim\n",
    "        self.kernel_sizes = kernel_sizes\n",
    "        \n",
    "        self.embed = nn.Embedding(vocab_size, embedding_dim)\n",
    "        self.conv = nn.ModuleList([\n",
    "            nn.Conv2d(in_channels, out_channels, (kernel, embedding_dim))\\\n",
    "            for kernel in kernel_sizes\n",
    "        ])\n",
    "        self.dropout = nn.Dropout()\n",
    "        self.fc = nn.Linear(len(kernel_sizes)*out_channels, num_class)"
   ]
  }
 ],
 "metadata": {
  "kernelspec": {
   "display_name": "Python 3",
   "language": "python",
   "name": "python3"
  },
  "language_info": {
   "codemirror_mode": {
    "name": "ipython",
    "version": 3
   },
   "file_extension": ".py",
   "mimetype": "text/x-python",
   "name": "python",
   "nbconvert_exporter": "python",
   "pygments_lexer": "ipython3",
   "version": "3.7.7"
  }
 },
 "nbformat": 4,
 "nbformat_minor": 4
}
