{
 "cells": [
  {
   "cell_type": "code",
   "execution_count": 1,
   "metadata": {},
   "outputs": [
    {
     "name": "stdout",
     "output_type": "stream",
     "text": [
      "Let's use 2 GPUs!\n"
     ]
    }
   ],
   "source": [
    "import torch\n",
    "import torch.nn as nn\n",
    "import torch.optim as optim\n",
    "from torch.autograd import Variable\n",
    "from torch.utils.data import Dataset, DataLoader\n",
    "\n",
    "\n",
    "class RandomDataset(Dataset):\n",
    "    def __init__(self, size, length):\n",
    "        self.len = length\n",
    "        self.data = torch.randn(length, size)\n",
    "\n",
    "    def __getitem__(self, index):\n",
    "        return self.data[index]\n",
    "\n",
    "    def __len__(self):\n",
    "        return self.len\n",
    "\n",
    "\n",
    "class Model(nn.Module):\n",
    "    def __init__(self, input_size, output_size):\n",
    "        super(Model, self).__init__()\n",
    "        self.fc = nn.Linear(input_size, output_size)\n",
    "        self.sigmoid = nn.Sigmoid()\n",
    "\n",
    "    def forward(self, input):\n",
    "        return self.sigmoid(self.fc(input))\n",
    "\n",
    "\n",
    "if __name__ == '__main__':\n",
    "    # Parameters and DataLoaders\n",
    "    input_size = 5\n",
    "    output_size = 1\n",
    "    batch_size = 30\n",
    "    data_size = 100\n",
    "\n",
    "    rand_loader = DataLoader(dataset=RandomDataset(input_size, data_size),\n",
    "                             batch_size=batch_size, shuffle=True)\n",
    "\n",
    "    model = Model(input_size, output_size)\n",
    "    if torch.cuda.device_count() > 1:\n",
    "        print(\"Let's use\", torch.cuda.device_count(), \"GPUs!\")\n",
    "        model = nn.DataParallel(model).cuda()\n",
    "\n",
    "    optimizer = optim.SGD(params=model.parameters(), lr=1e-3)\n",
    "    cls_criterion = nn.BCELoss()\n",
    "\n",
    "    for data in rand_loader:\n",
    "        targets = torch.empty(data.size(0)).random_(2).view(-1, 1)\n",
    "\n",
    "        if torch.cuda.is_available():\n",
    "            input = Variable(data.cuda())\n",
    "            with torch.no_grad():\n",
    "                targets = Variable(targets.cuda())\n",
    "        else:\n",
    "            input = Variable(data)\n",
    "            with torch.no_grad():\n",
    "                targets = Variable(targets)\n",
    "\n",
    "        output = model(input)\n",
    "\n",
    "        optimizer.zero_grad()\n",
    "        loss = cls_criterion(output, targets)\n",
    "        loss.backward()\n",
    "        optimizer.step()"
   ]
  }
 ],
 "metadata": {
  "kernelspec": {
   "display_name": "Python 3",
   "language": "python",
   "name": "python3"
  },
  "language_info": {
   "codemirror_mode": {
    "name": "ipython",
    "version": 3
   },
   "file_extension": ".py",
   "mimetype": "text/x-python",
   "name": "python",
   "nbconvert_exporter": "python",
   "pygments_lexer": "ipython3",
   "version": "3.7.7"
  }
 },
 "nbformat": 4,
 "nbformat_minor": 4
}
