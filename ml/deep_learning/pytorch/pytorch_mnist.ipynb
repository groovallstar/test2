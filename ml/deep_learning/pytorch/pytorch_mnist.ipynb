{
 "cells": [
  {
   "cell_type": "code",
   "execution_count": null,
   "metadata": {},
   "outputs": [],
   "source": [
    "import torch\n",
    "import torch.nn as nn\n",
    "import torch.optim as optim\n",
    "import torchvision.utils as utils\n",
    "import torchvision.datasets as dsets\n",
    "import torchvision.transforms as transforms"
   ]
  },
  {
   "cell_type": "code",
   "execution_count": null,
   "metadata": {},
   "outputs": [],
   "source": [
    "is_cuda = torch.cuda.is_available()\n",
    "device = torch.device('cuda' if is_cuda else 'cpu')"
   ]
  },
  {
   "cell_type": "code",
   "execution_count": null,
   "metadata": {},
   "outputs": [],
   "source": [
    "train_data = dsets.MNIST(root='MNIST_data/', train=True, \n",
    "                         transform=transforms.ToTensor(), download=True)\n",
    "test_data = dsets.MNIST(root='MNIST_data/', train=False,\n",
    "                       transform=transforms.ToTensor(), download=True)\n",
    "\n",
    "print('number of training data:', len(train_data))\n",
    "print('number of test data:', len(test_data))"
   ]
  },
  {
   "cell_type": "code",
   "execution_count": null,
   "metadata": {
    "scrolled": true
   },
   "outputs": [],
   "source": [
    "image, label = train_data[0]\n",
    "print(f'image shape:{image.shape}')\n",
    "print(f'7th row of this image:{image[0][6]}')"
   ]
  },
  {
   "cell_type": "code",
   "execution_count": null,
   "metadata": {},
   "outputs": [],
   "source": [
    "print('shape of label: ', train_data[0])"
   ]
  },
  {
   "cell_type": "code",
   "execution_count": null,
   "metadata": {
    "scrolled": true
   },
   "outputs": [],
   "source": [
    "from matplotlib import pyplot as plt\n",
    "plt.imshow(image.squeeze().numpy(), cmap='gray')\n",
    "plt.title('%i' % label.item())\n",
    "plt.show()"
   ]
  },
  {
   "cell_type": "code",
   "execution_count": null,
   "metadata": {
    "scrolled": true
   },
   "outputs": [],
   "source": [
    "# standardization code\n",
    "standardizator = transforms.Compose([\n",
    "                    transforms.ToTensor(),\n",
    "                    transforms.Normalize(mean=(0.5, 0.5, 0.5),   # 3 for RGB channels이나 실제론 gray scale\n",
    "                                         std=(0.5, 0.5, 0.5))])  # 3 for RGB channels이나 실제론 gray scale\n",
    "\n",
    "# MNIST dataset\n",
    "train_data = dsets.MNIST(root='data/', train=True, transform=standardizator, download=True)\n",
    "test_data  = dsets.MNIST(root='data/', train=False, transform=standardizator, download=True)\n",
    "\n",
    "image, label = train_data[0]"
   ]
  },
  {
   "cell_type": "code",
   "execution_count": null,
   "metadata": {},
   "outputs": [],
   "source": [
    "print('Image')\n",
    "print('========================================')\n",
    "print('shape of this image\\t:', image.shape)\n",
    "print('7\\'th row of this image\\t:', image[0][6])\n",
    "\n",
    "print('Label')\n",
    "print('========================================')\n",
    "print('shape of label: ', label.shape)\n",
    "print('label: ', label.item())\n"
   ]
  },
  {
   "cell_type": "code",
   "execution_count": null,
   "metadata": {},
   "outputs": [],
   "source": [
    "import numpy as np \n",
    "def imshow(img):\n",
    "    img = (img+1)/2    \n",
    "    img = img.squeeze()\n",
    "    np_img = img.numpy()\n",
    "    plt.imshow(np_img, cmap='gray')\n",
    "    plt.show()\n",
    "\n",
    "# 나중에 사용할 그리드 버전의 가시화 함수\n",
    "def imshow_grid(img): \n",
    "    img = utils.make_grid(img.cpu().detach())\n",
    "    img = (img+1)/2\n",
    "    npimg = img.numpy()\n",
    "    plt.imshow(np.transpose(npimg, (1,2,0)))\n",
    "    plt.show()\n",
    "    \n",
    "imshow(image)"
   ]
  },
  {
   "cell_type": "code",
   "execution_count": null,
   "metadata": {},
   "outputs": [],
   "source": [
    "mlp = nn.Sequential(\n",
    "    nn.Linear(28*28, 256),\n",
    "    nn.LeakyReLU(0.1),\n",
    "    nn.Linear(256,10),\n",
    "    nn.Softmax(dim=-1) # <- 설명의 편의를 위해 \n",
    "                       # NLLLoss 대신 Softmax사용 후 \n",
    "                       # loss 계산시 log를 취할 예정\n",
    ").to(device)"
   ]
  },
  {
   "cell_type": "code",
   "execution_count": null,
   "metadata": {
    "scrolled": true
   },
   "outputs": [],
   "source": [
    "print(mlp(image.to(device).view(28*28)))"
   ]
  },
  {
   "cell_type": "code",
   "execution_count": null,
   "metadata": {},
   "outputs": [],
   "source": [
    "import time\n",
    "\n",
    "def run_epoch (model, train_data, test_data, optimizer, criterion):\n",
    "    \n",
    "    start_time = time.time()\n",
    "    for img_i, label_i in train_data:\n",
    "\n",
    "        img_i, label_i = img_i.to(device), label_i.to(device)\n",
    "\n",
    "        optimizer.zero_grad()\n",
    "\n",
    "        # Forward\n",
    "        label_predicted = mlp.forward(img_i.view(-1, 28*28))\n",
    "        # Loss computation\n",
    "        loss  = criterion(torch.log(label_predicted), label_i.view(-1))\n",
    "        # Backward\n",
    "        loss.backward()\n",
    "        # Optimize for img_i\n",
    "        optimizer.step()\n",
    "    \n",
    "    total_test_loss = 0\n",
    "    for img_j, label_j in test_data:\n",
    "\n",
    "        img_j, label_j = img_j.to(device), label_j.to(device)\n",
    "\n",
    "        with torch.autograd.no_grad():\n",
    "            label_predicted = mlp.forward(img_j.view(-1, 28*28))\n",
    "            total_test_loss  += criterion(torch.log(label_predicted), label_j.view(-1)).item()\n",
    "\n",
    "    end_time = time.time()\n",
    "    return total_test_loss, (end_time - start_time)\n",
    "\n",
    "\n",
    "optimizer = optim.Adam(mlp.parameters(), lr=0.0001)\n",
    "criterion = nn.NLLLoss()\n",
    "\n",
    "for epoch in range(3):\n",
    "    test_loss, response = run_epoch (mlp, train_data, test_data, optimizer, criterion)\n",
    "    print('epoch ', epoch, ': ')\n",
    "    print('\\ttest_loss: ', test_loss)\n",
    "    print('\\tresponse(s): ', response)\n"
   ]
  }
 ],
 "metadata": {
  "kernelspec": {
   "display_name": "Python 3",
   "language": "python",
   "name": "python3"
  },
  "language_info": {
   "codemirror_mode": {
    "name": "ipython",
    "version": 3
   },
   "file_extension": ".py",
   "mimetype": "text/x-python",
   "name": "python",
   "nbconvert_exporter": "python",
   "pygments_lexer": "ipython3",
   "version": "3.7.7"
  }
 },
 "nbformat": 4,
 "nbformat_minor": 4
}
