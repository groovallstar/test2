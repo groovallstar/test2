{
 "cells": [
  {
   "cell_type": "code",
   "execution_count": 1,
   "metadata": {},
   "outputs": [],
   "source": [
    "import numpy as np\n",
    "import torch"
   ]
  },
  {
   "cell_type": "code",
   "execution_count": 3,
   "metadata": {},
   "outputs": [
    {
     "data": {
      "text/plain": [
       "torch.Size([100, 10])"
      ]
     },
     "execution_count": 3,
     "metadata": {},
     "output_type": "execute_result"
    }
   ],
   "source": [
    "# 중첩 list 지정\n",
    "t = torch.tensor([[1, 2], [3, 4.]])\n",
    "\n",
    "# device를 지정하면 gpu에 텐서를 만들 수 있다\n",
    "t = torch.tensor([[1, 2], [3, 4.]], device='cuda:0')\n",
    "\n",
    "# dtype을 사용해 데이터형을 지정하여 텐서를 만들 수 있다\n",
    "t = torch.tensor([[1, 2], [3, 4.]], dtype=torch.float64)\n",
    "\n",
    "# 0부터 9까지의 수치로 초기화된 1차원 텐서\n",
    "t = torch.arange(0, 10)\n",
    "\n",
    "# 모든 값이 0인 100 X 10의 텐서를 작성해서 to 메서드로 gpu에 전송\n",
    "t = torch.zeros(100, 10).to('cuda:0')\n",
    "\n",
    "# 정규 난수로 100 X 10의 텐서를 작성\n",
    "t = torch.randn(100, 10)\n",
    "\n",
    "# 텐서의 shape은 size 메서드로 확인 가능\n",
    "t.size()"
   ]
  },
  {
   "cell_type": "code",
   "execution_count": 4,
   "metadata": {},
   "outputs": [],
   "source": [
    "# numpy 메서드를 사용해 ndarray로 변환\n",
    "t = torch.tensor([[1, 2], [3, 4.]])\n",
    "x = t.numpy()\n",
    "\n",
    "# gpu 상의 텐서는 to 메서드로 cpu의 텐서로 이동할 필요가 있다\n",
    "#t = torch.tensor([[1, 2], [3, 4.]], device='cuda:0')\n",
    "#x = t.to('cpu').numpy()"
   ]
  },
  {
   "cell_type": "code",
   "execution_count": 27,
   "metadata": {},
   "outputs": [
    {
     "name": "stdout",
     "output_type": "stream",
     "text": [
      "tensor([[1., 2., 3.],\n",
      "        [4., 5., 6.]])\n",
      "tensor([[1., 2., 3.],\n",
      "        [4., 5., 6.]])\n",
      "tensor([[1., 2., 3.],\n",
      "        [4., 5., 6.]])\n",
      "tensor([[1., 2., 3.],\n",
      "        [4., 5., 6.]])\n",
      "tensor([[  1., 100.,   3.],\n",
      "        [  4.,   5.,   6.]])\n",
      "tensor([[  1., 200.,   3.],\n",
      "        [  4., 200.,   6.]])\n",
      "tensor([[ 1., 20.,  3.],\n",
      "        [ 4., 20.,  6.]])\n"
     ]
    }
   ],
   "source": [
    "t = torch.tensor([[1, 2, 3], [4, 5, 6.]])\n",
    "\n",
    "# 스칼라 첨자 지정\n",
    "t[0, 2]\n",
    "print(t)\n",
    "# 슬라이스로 지정\n",
    "t[:, :2]\n",
    "print(t)\n",
    "# 리스트로 지정\n",
    "t[:, [1, 2]]\n",
    "print(t)\n",
    "# 마스크 배열을 사용해서 3보다 큰 부분만 선택\n",
    "t[t > 3]\n",
    "print(t)\n",
    "# [0, 1]의 요소를 100으로 설정\n",
    "t[0, 1] = 100\n",
    "print(t)\n",
    "# 슬라이스를 사용한 일괄 대입\n",
    "t[:, 1] = 200\n",
    "print(t)\n",
    "# 마스크 배열을 사용해서 특정 조건의 요소만 치환\n",
    "t[t > 10] = 20\n",
    "print(t)"
   ]
  },
  {
   "cell_type": "code",
   "execution_count": 11,
   "metadata": {},
   "outputs": [
    {
     "name": "stdout",
     "output_type": "stream",
     "text": [
      "v + 10 :  tensor([11., 12., 13.])\n",
      "v ** 2 :  tensor([1., 4., 9.])\n",
      "v - w :  tensor([  1.,  -8., -17.])\n",
      "2 * v - w / 10 + 6.0 :  tensor([ 8.,  9., 10.])\n",
      "m * 2.0 :  tensor([[  0.,   2.,   4.],\n",
      "        [200., 400., 600.]])\n",
      "m + v :  tensor([[  1.,   3.,   5.],\n",
      "        [101., 202., 303.]])\n",
      "m + m :  tensor([[  0.,   2.,   4.],\n",
      "        [200., 400., 600.]])\n"
     ]
    }
   ],
   "source": [
    "# 길이 3인 벡터\n",
    "v = torch.tensor([1, 2, 3.])\n",
    "w = torch.tensor([0, 10, 20.])\n",
    "# 2 x 3의 행렬\n",
    "m = torch.tensor([[0, 1, 2], [100, 200, 300.]])\n",
    "# 벡터와 스칼라의 덧셈\n",
    "v2 = v + 10\n",
    "print('v + 10 : ',v2)\n",
    "\n",
    "# 제곱도 같은 방식\n",
    "v2 = v ** 2\n",
    "print('v ** 2 : ', v2)\n",
    "\n",
    "# 동일 길이의 벡터 간 뺄셈\n",
    "z = v - w\n",
    "print('v - w : ', z)\n",
    "\n",
    "# 여러가지 조합\n",
    "u = 2 * v - w / 10 + 6.0\n",
    "print('2 * v - w / 10 + 6.0 : ',u)\n",
    "\n",
    "# 행렬과 스칼라\n",
    "m2 = m * 2.0\n",
    "print('m * 2.0 : ', m2)\n",
    "\n",
    "# 행렬과 벡터\n",
    "# (2, 3)인 행렬과 (3, )인 벡터이므로 브로드캐스트가 작동\n",
    "m3 = m + v\n",
    "print('m + v : ', m3)\n",
    "\n",
    "# 행렬 간 처리\n",
    "m4 = m + m\n",
    "print('m + m : ', m4)\n"
   ]
  },
  {
   "cell_type": "code",
   "execution_count": 14,
   "metadata": {},
   "outputs": [
    {
     "name": "stdout",
     "output_type": "stream",
     "text": [
      "tensor(-0.0609)\n",
      "-0.06085037440061569\n",
      "tensor([ 0.0012,  0.0073, -0.1022, -0.2032, -0.0004,  0.0482,  0.0332, -0.1377,\n",
      "        -0.1297, -0.1253])\n"
     ]
    }
   ],
   "source": [
    "# 100 X 10의 테스트 데이터 생성\n",
    "X = torch.randn(100, 10)\n",
    "# 수학 함수를 포함하는 수식\n",
    "y = X * 2 + torch.abs(X)\n",
    "# 평균치 구하기\n",
    "m = torch.mean(X)\n",
    "# 함수가 아닌 메서드로도 사용 가능\n",
    "m = X.mean()\n",
    "print(m)\n",
    "# 집계 결과는 0차원의 텐서로 item 메서드를 사용해서 값을 추출할 수 있다\n",
    "m_value = m.item()\n",
    "print(m_value)\n",
    "# 집계는 차원을 지정할 수도 있다. \n",
    "# 다음은 행 방향으로 집계해서, 열 단위로 평균값을 계산한다.\n",
    "m2 = X.mean(0)\n",
    "print(m2)"
   ]
  },
  {
   "cell_type": "code",
   "execution_count": 19,
   "metadata": {},
   "outputs": [
    {
     "name": "stdout",
     "output_type": "stream",
     "text": [
      "tensor([[ 1.,  2., 10., 20., 30.],\n",
      "        [ 3.,  4., 40., 50., 60.]])\n"
     ]
    }
   ],
   "source": [
    "x1 = torch.tensor([[1, 2], [3, 4.]]) # 2X2\n",
    "x2 = torch.tensor([[10, 20, 30], [40, 50, 60.]]) # 2X3\n",
    "\n",
    "# 2X2를 4X1로 보여준다\n",
    "x1.view(4, 1)\n",
    "# -1은 표현할 수 있는 자동화된 값으로 대체되며, 한 번만 사용할 수 있다\n",
    "# 아래 예에선 -1을 사용하면 자동으로 4가 된다\n",
    "x1.view(1, -1)\n",
    "\n",
    "# 2x3을 전치해서 3x2로 만든다\n",
    "x2.t()\n",
    "\n",
    "# dim=1로 결합하면 2x5의 텐서를 만든다\n",
    "print(torch.cat([x1, x2], dim=1))\n",
    "\n",
    "# HWC을 CHW로 변환\n",
    "# 64X32X3의 데이터가 100개\n",
    "hwc_img_data = torch.rand(100, 64, 32, 3)\n",
    "chw_img_data = hwc_img_data.transpose(1, 2).transpose(1, 3)"
   ]
  },
  {
   "cell_type": "code",
   "execution_count": 20,
   "metadata": {},
   "outputs": [],
   "source": [
    "m = torch.randn(100, 10)\n",
    "v = torch.randn(10)\n",
    "\n",
    "# 내적\n",
    "d = torch.dot(v, v)\n",
    "\n",
    "# 100x10의 행렬과 길이 10인 벡터의 곱\n",
    "# 결과는 길이 100인 벡터\n",
    "v2 = torch.mv(m, v)\n",
    "\n",
    "# 행렬곱\n",
    "m2 = torch.mm(m.t(), m)\n",
    "\n",
    "# 특이값 분해\n",
    "u, s, v = torch.svd(m)"
   ]
  },
  {
   "cell_type": "markdown",
   "metadata": {},
   "source": [
    "자동 미분"
   ]
  },
  {
   "cell_type": "code",
   "execution_count": 22,
   "metadata": {},
   "outputs": [
    {
     "data": {
      "text/plain": [
       "tensor([False, False, False])"
      ]
     },
     "execution_count": 22,
     "metadata": {},
     "output_type": "execute_result"
    }
   ],
   "source": [
    "x = torch.randn(100, 3)\n",
    "# 미분의 변수로 사용하는 경우는 requires_grad를 True로 설정\n",
    "a = torch.tensor([1, 2, 3.], requires_grad=True)\n",
    "\n",
    "# 계산을 통해 자동으로 계산 그래프가 구축된다\n",
    "y = torch.mv(x, a)\n",
    "o = y.sum()\n",
    "\n",
    "# 미분 실행\n",
    "o.backward()\n",
    "\n",
    "# 분석 답과 비교\n",
    "a.grad != x.sum(0)"
   ]
  },
  {
   "cell_type": "code",
   "execution_count": 23,
   "metadata": {},
   "outputs": [
    {
     "data": {
      "text/plain": [
       "True"
      ]
     },
     "execution_count": 23,
     "metadata": {},
     "output_type": "execute_result"
    }
   ],
   "source": [
    "# x는 requires_grad가 False 이므로 미분이 계산되지 않는다\n",
    "x.grad is None"
   ]
  },
  {
   "cell_type": "markdown",
   "metadata": {},
   "source": [
    "테스트 데이터 생성 및 파라미터 학습을 위한 변수 정의"
   ]
  },
  {
   "cell_type": "code",
   "execution_count": 28,
   "metadata": {},
   "outputs": [],
   "source": [
    "import torch\n",
    "\n",
    "# 참(true)의 계수\n",
    "w_true = torch.Tensor([1, 2, 3])\n",
    "\n",
    "# X 데이터 준비. 절편을 회귀 계수에 포함시키기 위해 X의 최초 차원에 1을 추가해둔다\n",
    "X = torch.cat([torch.ones(100, 1), torch.randn(100, 2)], 1)\n",
    "\n",
    "# 참의 계수와 각 X의 내적을 행렬과 벡터의 곱으로 모아서 계산\n",
    "y = torch.mv(X, w_true) + torch.randn(100) * 0.5\n",
    "\n",
    "# 기울기 하강으로 최적화하기 위해 파라미터 Tensor를 난수로 초기화 해서 생성\n",
    "w = torch.randn(3, requires_grad=True)\n",
    "\n",
    "# 학습률\n",
    "gamma = 0.1"
   ]
  },
  {
   "cell_type": "code",
   "execution_count": 29,
   "metadata": {},
   "outputs": [],
   "source": [
    "# 손실 함수의 로그\n",
    "losses = []\n",
    "\n",
    "# 100회 반복\n",
    "for epoc in range(100):\n",
    "    # 전회의 backward 메서드로 계산된 경사값을 초기화\n",
    "    w.grad = None\n",
    "    # 선형 모델로 y 예측값을 계산\n",
    "    y_pred = torch.mv(X, w)\n",
    "    \n",
    "    # MSE loss와 w에 의한 미분을 계산\n",
    "    loss = torch.mean((y - y_pred)**2)\n",
    "    loss.backward()\n",
    "    \n",
    "    # 경사를 갱신한다\n",
    "    # w를 그대로 대입해서 갱신하면 다른 텐서가 되서 계산 그래프가 망가진다\n",
    "    # 따라서 data만 갱신한다\n",
    "    w.data = w.data - gamma * w.grad.data\n",
    "    \n",
    "    # 수렴 확인을 위한 loss를 기록해 둔다\n",
    "    losses.append(loss.item())"
   ]
  },
  {
   "cell_type": "code",
   "execution_count": 30,
   "metadata": {},
   "outputs": [
    {
     "data": {
      "text/plain": [
       "[<matplotlib.lines.Line2D at 0x7fda201a3490>]"
      ]
     },
     "execution_count": 30,
     "metadata": {},
     "output_type": "execute_result"
    },
    {
     "data": {
      "image/png": "[encoded data removed]",
      "text/plain": [
       "<Figure size 432x288 with 1 Axes>"
      ]
     },
     "metadata": {
      "needs_background": "light"
     },
     "output_type": "display_data"
    }
   ],
   "source": [
    "%matplotlib inline\n",
    "from matplotlib import pyplot as plt\n",
    "plt.plot(losses)"
   ]
  },
  {
   "cell_type": "code",
   "execution_count": 31,
   "metadata": {},
   "outputs": [
    {
     "data": {
      "text/plain": [
       "tensor([1.0205, 2.0037, 3.0029], requires_grad=True)"
      ]
     },
     "execution_count": 31,
     "metadata": {},
     "output_type": "execute_result"
    }
   ],
   "source": [
    "w"
   ]
  },
  {
   "cell_type": "markdown",
   "metadata": {},
   "source": [
    "선형 회귀 모델의 구축과 최적화 준비"
   ]
  },
  {
   "cell_type": "code",
   "execution_count": 32,
   "metadata": {},
   "outputs": [],
   "source": [
    "from torch import nn, optim\n",
    "\n",
    "# Linear 층을 작성. 이번에는 절편은 회귀 계수에 포함하므로\n",
    "# 입력 차원을 3으로 하고 bias(절편)을 False로 한다\n",
    "net = nn.Linear(in_features=3, out_features=1, bias=False)\n",
    "\n",
    "# SGD의 최적화기상에서 정의한 네트워크의 파라미터를 전달해서 초기화\n",
    "optimizer = optim.SGD(net.parameters(), lr=0.1)\n",
    "\n",
    "# MSE loss 클래스\n",
    "loss_fn = nn.MSELoss()"
   ]
  },
  {
   "cell_type": "code",
   "execution_count": 33,
   "metadata": {},
   "outputs": [],
   "source": [
    "# 손실 함수 로그\n",
    "losses = []\n",
    "\n",
    "# 100회 반복\n",
    "for epoc in range(100):\n",
    "    # 전회의 backward 메서드로 계산된 경사값을 초기화\n",
    "    optimizer.zero_grad()\n",
    "    \n",
    "    # 선형 모델으로 y 예측값을 계산\n",
    "    y_pred = net(X)\n",
    "    \n",
    "    # MSE loss 계산\n",
    "    # y_pred는 (n, 1)과 같은 shape를 지니고 있으므로 (n,)으로 변경할 필요가 있다\n",
    "    loss = loss_fn(y_pred.view_as(y), y)\n",
    "    \n",
    "    # loss의 w를 사용한 미분 계산\n",
    "    loss.backward()\n",
    "    \n",
    "    # 경사를 갱신한다\n",
    "    optimizer.step()\n",
    "    \n",
    "    # 수렴 확인을 위한 loss를 기록해둔다\n",
    "    losses.append(loss.item())"
   ]
  },
  {
   "cell_type": "code",
   "execution_count": 34,
   "metadata": {},
   "outputs": [
    {
     "data": {
      "text/plain": [
       "[Parameter containing:\n",
       " tensor([[1.0205, 2.0037, 3.0029]], requires_grad=True)]"
      ]
     },
     "execution_count": 34,
     "metadata": {},
     "output_type": "execute_result"
    }
   ],
   "source": [
    "list(net.parameters())"
   ]
  },
  {
   "cell_type": "code",
   "execution_count": 35,
   "metadata": {},
   "outputs": [],
   "source": [
    "import torch\n",
    "from torch import nn, optim\n",
    "from sklearn.datasets import load_iris\n",
    "iris = load_iris()\n",
    "\n",
    "# iris는 (0,1,2)의 세가지 종류를 분류하는 문제이므로 (0,1)의 두 개 데이터만 사용한다\n",
    "# (0,1)의 두 개 데이터만 사용한다\n",
    "X = iris.data[:100]\n",
    "y = iris.target[:100]\n",
    "\n",
    "# numpy의 ndarray를 pytorch의 tensor로 변환\n",
    "X = torch.tensor(X, dtype=torch.float32)\n",
    "y = torch.tensor(y, dtype=torch.float32)"
   ]
  },
  {
   "cell_type": "code",
   "execution_count": 37,
   "metadata": {},
   "outputs": [],
   "source": [
    "# iris 데이터는 4차원\n",
    "net = nn.Linear(4, 1)\n",
    "\n",
    "# 시그모이드 함수를 적용해서 두 클래스의 분류를 위한 크로스 엔트로피 계산\n",
    "loss_fn = nn.BCEWithLogitsLoss()\n",
    "\n",
    "# SGD (약간 큰 학습률)\n",
    "optimizer = optim.SGD(net.parameters(), lr=0.25)\n",
    "\n",
    "# 손실 함수 로그\n",
    "losses = []\n",
    "\n",
    "# 100회 반복\n",
    "for epoc in range(100):\n",
    "    # 전회의 backward 메서드로 계산된 경사값을 초기화\n",
    "    optimizer.zero_grad()\n",
    "    \n",
    "    # 선형 모델으로 y 예측값을 계산\n",
    "    y_pred = net(X)\n",
    "    \n",
    "    # MSE loss를 사용한 미분 계산\n",
    "    loss = loss_fn(y_pred.view_as(y), y)\n",
    "    loss.backward()\n",
    "    \n",
    "    # 경사를 갱신한다\n",
    "    optimizer.step()\n",
    "    \n",
    "    # 수렴 확인을 위한 loss를 기록해 둔다\n",
    "    losses.append(loss.item())"
   ]
  },
  {
   "cell_type": "code",
   "execution_count": 38,
   "metadata": {
    "scrolled": true
   },
   "outputs": [
    {
     "data": {
      "text/plain": [
       "[<matplotlib.lines.Line2D at 0x7fd98d1e3550>]"
      ]
     },
     "execution_count": 38,
     "metadata": {},
     "output_type": "execute_result"
    },
    {
     "data": {
      "image/png": "[encoded data removed]",
      "text/plain": [
       "<Figure size 432x288 with 1 Axes>"
      ]
     },
     "metadata": {
      "needs_background": "light"
     },
     "output_type": "display_data"
    }
   ],
   "source": [
    "%matplotlib inline\n",
    "from matplotlib import pyplot as plt\n",
    "plt.plot(losses)"
   ]
  },
  {
   "cell_type": "code",
   "execution_count": 40,
   "metadata": {},
   "outputs": [
    {
     "data": {
      "text/plain": [
       "100"
      ]
     },
     "execution_count": 40,
     "metadata": {},
     "output_type": "execute_result"
    }
   ],
   "source": [
    "# 선형 결함의 결과\n",
    "h = net(X)\n",
    "\n",
    "# 시그모이드 함수를 적용한 결과는 y=1의 확률을 보여준다\n",
    "prob = torch.sigmoid(h)\n",
    "\n",
    "# 확률이 0.5 이상인 것을 클래스 1로 예측하고 그외는 0으로 한다\n",
    "# pytorch에는 Bool형이 없으므로 ByteTensor가 출력된다.\n",
    "y_pred = prob > 0.5\n",
    "\n",
    "# 예측 결과 확인 (y는 FloatTensor이므로 ByteTensor로 변환한 후에 비교)\n",
    "(y.byte() == y_pred.view_as(y)).sum().item()"
   ]
  },
  {
   "cell_type": "markdown",
   "metadata": {},
   "source": [
    "다중 분류를 위한 로지스틱 회귀 분석"
   ]
  },
  {
   "cell_type": "code",
   "execution_count": 41,
   "metadata": {},
   "outputs": [],
   "source": [
    "import torch\n",
    "from torch import nn, optim\n",
    "from sklearn.datasets import load_digits\n",
    "digits = load_digits()\n",
    "\n",
    "X = digits.data\n",
    "y = digits.target\n",
    "\n",
    "X = torch.tensor(X, dtype=torch.float32)\n",
    "# CrossEntropyLoss 함수는 y로 int64형의 텐서를 받으니 주의하자\n",
    "y = torch.tensor(y, dtype=torch.int64)\n",
    "\n",
    "# 출력은 10(분류 수) 차원\n",
    "net = nn.Linear(X.size()[1], 10)\n",
    "\n",
    "# 소프트맥스 크로스 엔트로피\n",
    "loss_fn = nn.CrossEntropyLoss()\n",
    "\n",
    "# SGD\n",
    "optimizer = optim.SGD(net.parameters(), lr=0.01)"
   ]
  },
  {
   "cell_type": "code",
   "execution_count": 42,
   "metadata": {},
   "outputs": [
    {
     "data": {
      "text/plain": [
       "0.9443516972732332"
      ]
     },
     "execution_count": 42,
     "metadata": {},
     "output_type": "execute_result"
    }
   ],
   "source": [
    "# 손실 함수 로그\n",
    "losses = []\n",
    "\n",
    "# 100회 반복\n",
    "for epoc in range(100):\n",
    "    # 전회의 backward 메서드로 계산된 경사값을 초기화\n",
    "    optimizer.zero_grad()\n",
    "    \n",
    "    # 선형 모델으로 y 예측값을 계산\n",
    "    y_pred = net(X)\n",
    "    \n",
    "    # MSE loss 미분 계산\n",
    "    loss = loss_fn(y_pred, y)\n",
    "    loss.backward()\n",
    "    \n",
    "    # 경사를 갱신한다\n",
    "    optimizer.step()\n",
    "    \n",
    "    # 수렴 확인을 위한 loss를 기록해 둔다\n",
    "    losses.append(loss.item())\n",
    "\n",
    "# torch.max는 집계축을 지정하면 최댓값 뿐만 아니라 그 위치도 반환한다\n",
    "_, y_pred = torch.max(net(X), 1)\n",
    "# 정답률을 계산한다\n",
    "(y_pred == y).sum().item() / len(y)"
   ]
  }
 ],
 "metadata": {
  "kernelspec": {
   "display_name": "Python 3",
   "language": "python",
   "name": "python3"
  },
  "language_info": {
   "codemirror_mode": {
    "name": "ipython",
    "version": 3
   },
   "file_extension": ".py",
   "mimetype": "text/x-python",
   "name": "python",
   "nbconvert_exporter": "python",
   "pygments_lexer": "ipython3",
   "version": "3.7.7"
  }
 },
 "nbformat": 4,
 "nbformat_minor": 4
}
