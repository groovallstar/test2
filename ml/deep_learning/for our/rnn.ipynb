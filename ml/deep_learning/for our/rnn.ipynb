{
  "nbformat": 4,
  "nbformat_minor": 0,
  "metadata": {
    "colab": {
      "name": "for_our_rnn.ipynb",
      "provenance": [],
      "collapsed_sections": []
    },
    "kernelspec": {
      "name": "python3",
      "display_name": "Python 3"
    },
    "accelerator": "GPU"
  },
  "cells": [
    {
      "cell_type": "code",
      "metadata": {
        "id": "WN0I86RFs8fX",
        "colab_type": "code",
        "colab": {
          "base_uri": "https://localhost:8080/",
          "height": 35
        },
        "outputId": "4b5988cf-e2a3-4ca2-f6be-40c2daf62833"
      },
      "source": [
        "from keras.datasets import mnist"
      ],
      "execution_count": 1,
      "outputs": [
        {
          "output_type": "stream",
          "text": [
            "Using TensorFlow backend.\n"
          ],
          "name": "stderr"
        }
      ]
    },
    {
      "cell_type": "code",
      "metadata": {
        "id": "r01XXeDstAEy",
        "colab_type": "code",
        "colab": {
          "base_uri": "https://localhost:8080/",
          "height": 53
        },
        "outputId": "8792d7f2-faf0-4bc4-e4fd-d07755dde815"
      },
      "source": [
        "(X_train, Y_class_train), (X_test, Y_class_test) = mnist.load_data()"
      ],
      "execution_count": 2,
      "outputs": [
        {
          "output_type": "stream",
          "text": [
            "Downloading data from https://s3.amazonaws.com/img-datasets/mnist.npz\n",
            "11493376/11490434 [==============================] - 1s 0us/step\n"
          ],
          "name": "stdout"
        }
      ]
    },
    {
      "cell_type": "code",
      "metadata": {
        "id": "8AwmYaoYtFYd",
        "colab_type": "code",
        "colab": {
          "base_uri": "https://localhost:8080/",
          "height": 53
        },
        "outputId": "084d48ea-51a4-404c-8473-c686f5b4827a"
      },
      "source": [
        "print('train image:', X_train.shape[0])\n",
        "print('test image:', X_test.shape[0])"
      ],
      "execution_count": 3,
      "outputs": [
        {
          "output_type": "stream",
          "text": [
            "train image: 60000\n",
            "test image: 10000\n"
          ],
          "name": "stdout"
        }
      ]
    },
    {
      "cell_type": "code",
      "metadata": {
        "id": "rMP3u4QxtWmj",
        "colab_type": "code",
        "colab": {
          "base_uri": "https://localhost:8080/",
          "height": 265
        },
        "outputId": "49adf4dc-a079-481a-ca01-10d00f267a5f"
      },
      "source": [
        "import matplotlib.pyplot as plt\n",
        "plt.imshow(X_train[0], cmap='Greys')\n",
        "plt.show()"
      ],
      "execution_count": 4,
      "outputs": [
        {
          "output_type": "display_data",
          "data": {
            "image/png": "[encoded data removed]",
            "text/plain": [
              "<Figure size 432x288 with 1 Axes>"
            ]
          },
          "metadata": {
            "tags": [],
            "needs_background": "light"
          }
        }
      ]
    },
    {
      "cell_type": "code",
      "metadata": {
        "id": "-zvS4nlQthIb",
        "colab_type": "code",
        "colab": {
          "base_uri": "https://localhost:8080/",
          "height": 541
        },
        "outputId": "3ddf0f46-5957-4a77-a22f-f562e43ef011"
      },
      "source": [
        "import sys\n",
        "\n",
        "for x in X_train[0]:\n",
        "  for i in x:\n",
        "    sys.stdout.write('%d\\t' %i)\n",
        "  sys.stdout.write('\\n')"
      ],
      "execution_count": 6,
      "outputs": [
        {
          "output_type": "stream",
          "text": [
            "0\t0\t0\t0\t0\t0\t0\t0\t0\t0\t0\t0\t0\t0\t0\t0\t0\t0\t0\t0\t0\t0\t0\t0\t0\t0\t0\t0\t\n",
            "0\t0\t0\t0\t0\t0\t0\t0\t0\t0\t0\t0\t0\t0\t0\t0\t0\t0\t0\t0\t0\t0\t0\t0\t0\t0\t0\t0\t\n",
            "0\t0\t0\t0\t0\t0\t0\t0\t0\t0\t0\t0\t0\t0\t0\t0\t0\t0\t0\t0\t0\t0\t0\t0\t0\t0\t0\t0\t\n",
            "0\t0\t0\t0\t0\t0\t0\t0\t0\t0\t0\t0\t0\t0\t0\t0\t0\t0\t0\t0\t0\t0\t0\t0\t0\t0\t0\t0\t\n",
            "0\t0\t0\t0\t0\t0\t0\t0\t0\t0\t0\t0\t0\t0\t0\t0\t0\t0\t0\t0\t0\t0\t0\t0\t0\t0\t0\t0\t\n",
            "0\t0\t0\t0\t0\t0\t0\t0\t0\t0\t0\t0\t3\t18\t18\t18\t126\t136\t175\t26\t166\t255\t247\t127\t0\t0\t0\t0\t\n",
            "0\t0\t0\t0\t0\t0\t0\t0\t30\t36\t94\t154\t170\t253\t253\t253\t253\t253\t225\t172\t253\t242\t195\t64\t0\t0\t0\t0\t\n",
            "0\t0\t0\t0\t0\t0\t0\t49\t238\t253\t253\t253\t253\t253\t253\t253\t253\t251\t93\t82\t82\t56\t39\t0\t0\t0\t0\t0\t\n",
            "0\t0\t0\t0\t0\t0\t0\t18\t219\t253\t253\t253\t253\t253\t198\t182\t247\t241\t0\t0\t0\t0\t0\t0\t0\t0\t0\t0\t\n",
            "0\t0\t0\t0\t0\t0\t0\t0\t80\t156\t107\t253\t253\t205\t11\t0\t43\t154\t0\t0\t0\t0\t0\t0\t0\t0\t0\t0\t\n",
            "0\t0\t0\t0\t0\t0\t0\t0\t0\t14\t1\t154\t253\t90\t0\t0\t0\t0\t0\t0\t0\t0\t0\t0\t0\t0\t0\t0\t\n",
            "0\t0\t0\t0\t0\t0\t0\t0\t0\t0\t0\t139\t253\t190\t2\t0\t0\t0\t0\t0\t0\t0\t0\t0\t0\t0\t0\t0\t\n",
            "0\t0\t0\t0\t0\t0\t0\t0\t0\t0\t0\t11\t190\t253\t70\t0\t0\t0\t0\t0\t0\t0\t0\t0\t0\t0\t0\t0\t\n",
            "0\t0\t0\t0\t0\t0\t0\t0\t0\t0\t0\t0\t35\t241\t225\t160\t108\t1\t0\t0\t0\t0\t0\t0\t0\t0\t0\t0\t\n",
            "0\t0\t0\t0\t0\t0\t0\t0\t0\t0\t0\t0\t0\t81\t240\t253\t253\t119\t25\t0\t0\t0\t0\t0\t0\t0\t0\t0\t\n",
            "0\t0\t0\t0\t0\t0\t0\t0\t0\t0\t0\t0\t0\t0\t45\t186\t253\t253\t150\t27\t0\t0\t0\t0\t0\t0\t0\t0\t\n",
            "0\t0\t0\t0\t0\t0\t0\t0\t0\t0\t0\t0\t0\t0\t0\t16\t93\t252\t253\t187\t0\t0\t0\t0\t0\t0\t0\t0\t\n",
            "0\t0\t0\t0\t0\t0\t0\t0\t0\t0\t0\t0\t0\t0\t0\t0\t0\t249\t253\t249\t64\t0\t0\t0\t0\t0\t0\t0\t\n",
            "0\t0\t0\t0\t0\t0\t0\t0\t0\t0\t0\t0\t0\t0\t46\t130\t183\t253\t253\t207\t2\t0\t0\t0\t0\t0\t0\t0\t\n",
            "0\t0\t0\t0\t0\t0\t0\t0\t0\t0\t0\t0\t39\t148\t229\t253\t253\t253\t250\t182\t0\t0\t0\t0\t0\t0\t0\t0\t\n",
            "0\t0\t0\t0\t0\t0\t0\t0\t0\t0\t24\t114\t221\t253\t253\t253\t253\t201\t78\t0\t0\t0\t0\t0\t0\t0\t0\t0\t\n",
            "0\t0\t0\t0\t0\t0\t0\t0\t23\t66\t213\t253\t253\t253\t253\t198\t81\t2\t0\t0\t0\t0\t0\t0\t0\t0\t0\t0\t\n",
            "0\t0\t0\t0\t0\t0\t18\t171\t219\t253\t253\t253\t253\t195\t80\t9\t0\t0\t0\t0\t0\t0\t0\t0\t0\t0\t0\t0\t\n",
            "0\t0\t0\t0\t55\t172\t226\t253\t253\t253\t253\t244\t133\t11\t0\t0\t0\t0\t0\t0\t0\t0\t0\t0\t0\t0\t0\t0\t\n",
            "0\t0\t0\t0\t136\t253\t253\t253\t212\t135\t132\t16\t0\t0\t0\t0\t0\t0\t0\t0\t0\t0\t0\t0\t0\t0\t0\t0\t\n",
            "0\t0\t0\t0\t0\t0\t0\t0\t0\t0\t0\t0\t0\t0\t0\t0\t0\t0\t0\t0\t0\t0\t0\t0\t0\t0\t0\t0\t\n",
            "0\t0\t0\t0\t0\t0\t0\t0\t0\t0\t0\t0\t0\t0\t0\t0\t0\t0\t0\t0\t0\t0\t0\t0\t0\t0\t0\t0\t\n",
            "0\t0\t0\t0\t0\t0\t0\t0\t0\t0\t0\t0\t0\t0\t0\t0\t0\t0\t0\t0\t0\t0\t0\t0\t0\t0\t0\t0\t\n"
          ],
          "name": "stdout"
        }
      ]
    },
    {
      "cell_type": "code",
      "metadata": {
        "id": "QClfMT6Ku8yo",
        "colab_type": "code",
        "colab": {}
      },
      "source": [
        "X_train = X_train.reshape(X_train.shape[0], 784)\n",
        "X_train = X_train.astype('float64')\n",
        "X_train = X_train / 255"
      ],
      "execution_count": 0,
      "outputs": []
    },
    {
      "cell_type": "code",
      "metadata": {
        "id": "11eGYRzTveWL",
        "colab_type": "code",
        "colab": {}
      },
      "source": [
        "X_test = X_test.reshape(X_test.shape[0], 784).astype('float64') / 255"
      ],
      "execution_count": 0,
      "outputs": []
    },
    {
      "cell_type": "code",
      "metadata": {
        "id": "-sdqBLBvvmuN",
        "colab_type": "code",
        "colab": {
          "base_uri": "https://localhost:8080/",
          "height": 35
        },
        "outputId": "ac56df3b-eede-4602-daeb-b96652026c47"
      },
      "source": [
        "print('class : %d' %(Y_class_train[0]))"
      ],
      "execution_count": 9,
      "outputs": [
        {
          "output_type": "stream",
          "text": [
            "class : 5\n"
          ],
          "name": "stdout"
        }
      ]
    },
    {
      "cell_type": "code",
      "metadata": {
        "id": "hJLRnEqcwjwD",
        "colab_type": "code",
        "colab": {
          "base_uri": "https://localhost:8080/",
          "height": 35
        },
        "outputId": "ee1e3771-0bc4-454a-8f7e-1681c8ae508a"
      },
      "source": [
        "Y_class_train"
      ],
      "execution_count": 10,
      "outputs": [
        {
          "output_type": "execute_result",
          "data": {
            "text/plain": [
              "array([5, 0, 4, ..., 5, 6, 8], dtype=uint8)"
            ]
          },
          "metadata": {
            "tags": []
          },
          "execution_count": 10
        }
      ]
    },
    {
      "cell_type": "code",
      "metadata": {
        "id": "x0iQcaPDwbEs",
        "colab_type": "code",
        "colab": {}
      },
      "source": [
        "from keras.utils import np_utils\n",
        "Y_train = np_utils.to_categorical(Y_class_train, 10)\n",
        "Y_test = np_utils.to_categorical(Y_class_test, 10)"
      ],
      "execution_count": 0,
      "outputs": []
    },
    {
      "cell_type": "code",
      "metadata": {
        "id": "uiJgtmPixX89",
        "colab_type": "code",
        "colab": {
          "base_uri": "https://localhost:8080/",
          "height": 143
        },
        "outputId": "2ab15b74-7741-4d8e-92d8-e9871c7c4604"
      },
      "source": [
        "Y_train"
      ],
      "execution_count": 14,
      "outputs": [
        {
          "output_type": "execute_result",
          "data": {
            "text/plain": [
              "array([[0., 0., 0., ..., 0., 0., 0.],\n",
              "       [1., 0., 0., ..., 0., 0., 0.],\n",
              "       [0., 0., 0., ..., 0., 0., 0.],\n",
              "       ...,\n",
              "       [0., 0., 0., ..., 0., 0., 0.],\n",
              "       [0., 0., 0., ..., 0., 0., 0.],\n",
              "       [0., 0., 0., ..., 0., 1., 0.]], dtype=float32)"
            ]
          },
          "metadata": {
            "tags": []
          },
          "execution_count": 14
        }
      ]
    },
    {
      "cell_type": "code",
      "metadata": {
        "id": "4Lwei5pixzxD",
        "colab_type": "code",
        "colab": {}
      },
      "source": [
        "from keras.models import Sequential\n",
        "from keras.layers import Dense\n",
        "\n",
        "model = Sequential()\n",
        "model.add(Dense(512, input_dim=784, activation='relu'))\n",
        "model.add(Dense(10, activation='softmax'))"
      ],
      "execution_count": 0,
      "outputs": []
    },
    {
      "cell_type": "code",
      "metadata": {
        "id": "bNJOixlvx7jo",
        "colab_type": "code",
        "colab": {}
      },
      "source": [
        "model.compile(loss='categorical_crossentropy', optimizer='adam', metrics=['accuracy'])"
      ],
      "execution_count": 0,
      "outputs": []
    },
    {
      "cell_type": "code",
      "metadata": {
        "id": "JPVsv9FTyL7Q",
        "colab_type": "code",
        "colab": {}
      },
      "source": [
        "import os\n",
        "from keras.callbacks import ModelCheckpoint, EarlyStopping\n",
        "\n",
        "MODEL_DIR = './model/'\n",
        "if not os.path.exists(MODEL_DIR):\n",
        "  os.mkdir(MODEL_DIR)\n",
        "modelpath = './model/{epoch:02d}-{val_loss:4f}.hdf5'\n",
        "checkpointer = ModelCheckpoint(filepath=modelpath, monitor='val_loss', verbose=1, save_best_only=True)\n",
        "early_stopping_callback = EarlyStopping(monitor='val_loss', patience=10)"
      ],
      "execution_count": 0,
      "outputs": []
    },
    {
      "cell_type": "code",
      "metadata": {
        "id": "FqB7SamMyrgP",
        "colab_type": "code",
        "colab": {
          "base_uri": "https://localhost:8080/",
          "height": 935
        },
        "outputId": "3b23ab84-6ec1-465a-bee9-d2d16a742fc5"
      },
      "source": [
        "history = model.fit(X_train, Y_train, validation_data=(X_test, Y_test), epochs=30, batch_size=200, verbose=0,\n",
        "                    callbacks=[early_stopping_callback, checkpointer])\n",
        "\n",
        "print('\\n test accuracy: %.4f' %(model.evaluate(X_test, Y_test)[1]))"
      ],
      "execution_count": 21,
      "outputs": [
        {
          "output_type": "stream",
          "text": [
            "\n",
            "Epoch 00001: val_loss improved from inf to 0.16664, saving model to ./model/01-0.166643.hdf5\n",
            "\n",
            "Epoch 00002: val_loss improved from 0.16664 to 0.11509, saving model to ./model/02-0.115085.hdf5\n",
            "\n",
            "Epoch 00003: val_loss improved from 0.11509 to 0.08578, saving model to ./model/03-0.085776.hdf5\n",
            "\n",
            "Epoch 00004: val_loss improved from 0.08578 to 0.07629, saving model to ./model/04-0.076287.hdf5\n",
            "\n",
            "Epoch 00005: val_loss improved from 0.07629 to 0.07282, saving model to ./model/05-0.072816.hdf5\n",
            "\n",
            "Epoch 00006: val_loss improved from 0.07282 to 0.06352, saving model to ./model/06-0.063516.hdf5\n",
            "\n",
            "Epoch 00007: val_loss improved from 0.06352 to 0.06351, saving model to ./model/07-0.063508.hdf5\n",
            "\n",
            "Epoch 00008: val_loss improved from 0.06351 to 0.06292, saving model to ./model/08-0.062921.hdf5\n",
            "\n",
            "Epoch 00009: val_loss did not improve from 0.06292\n",
            "\n",
            "Epoch 00010: val_loss did not improve from 0.06292\n",
            "\n",
            "Epoch 00011: val_loss did not improve from 0.06292\n",
            "\n",
            "Epoch 00012: val_loss improved from 0.06292 to 0.06120, saving model to ./model/12-0.061196.hdf5\n",
            "\n",
            "Epoch 00013: val_loss did not improve from 0.06120\n",
            "\n",
            "Epoch 00014: val_loss improved from 0.06120 to 0.05981, saving model to ./model/14-0.059807.hdf5\n",
            "\n",
            "Epoch 00015: val_loss did not improve from 0.05981\n",
            "\n",
            "Epoch 00016: val_loss did not improve from 0.05981\n",
            "\n",
            "Epoch 00017: val_loss did not improve from 0.05981\n",
            "\n",
            "Epoch 00018: val_loss did not improve from 0.05981\n",
            "\n",
            "Epoch 00019: val_loss did not improve from 0.05981\n",
            "\n",
            "Epoch 00020: val_loss did not improve from 0.05981\n",
            "\n",
            "Epoch 00021: val_loss did not improve from 0.05981\n",
            "\n",
            "Epoch 00022: val_loss did not improve from 0.05981\n",
            "\n",
            "Epoch 00023: val_loss did not improve from 0.05981\n",
            "\n",
            "Epoch 00024: val_loss did not improve from 0.05981\n",
            "10000/10000 [==============================] - 1s 74us/step\n",
            "\n",
            " test accuracy: 0.9834\n"
          ],
          "name": "stdout"
        }
      ]
    },
    {
      "cell_type": "code",
      "metadata": {
        "id": "v9sAC34sy_b_",
        "colab_type": "code",
        "colab": {
          "base_uri": "https://localhost:8080/",
          "height": 279
        },
        "outputId": "96b900c5-9ba4-40aa-c164-ea42f29694d2"
      },
      "source": [
        "import matplotlib.pyplot as plt\n",
        "import numpy as np\n",
        "\n",
        "y_vloss = history.history['val_loss']\n",
        "y_loss = history.history['loss']\n",
        "\n",
        "x_len = np.arange(len(y_loss))\n",
        "plt.plot(x_len, y_vloss, marker='.', c='red', label='Tester_loss')\n",
        "plt.plot(x_len, y_loss, marker='.', c='blue', label='Trainset_loss')\n",
        "\n",
        "plt.legend(loc='upper right')\n",
        "plt.grid()\n",
        "plt.xlabel('epoch')\n",
        "plt.ylabel('loss')\n",
        "plt.show()"
      ],
      "execution_count": 23,
      "outputs": [
        {
          "output_type": "display_data",
          "data": {
            "image/png": "[encoded data removed]",
            "text/plain": [
              "<Figure size 432x288 with 1 Axes>"
            ]
          },
          "metadata": {
            "tags": [],
            "needs_background": "light"
          }
        }
      ]
    },
    {
      "cell_type": "code",
      "metadata": {
        "id": "_RtxqsEV4vsO",
        "colab_type": "code",
        "colab": {
          "base_uri": "https://localhost:8080/",
          "height": 35
        },
        "outputId": "1dd4a7d1-7a02-46bc-a0e0-18e1b9c1ffab"
      },
      "source": [
        "from keras.datasets import mnist\n",
        "\n",
        "(x, y) = mnist.load_data()\n",
        "print(x[0].shape)"
      ],
      "execution_count": 30,
      "outputs": [
        {
          "output_type": "stream",
          "text": [
            "(60000, 28, 28)\n"
          ],
          "name": "stdout"
        }
      ]
    },
    {
      "cell_type": "code",
      "metadata": {
        "id": "nqubBNg-3Tl-",
        "colab_type": "code",
        "colab": {
          "base_uri": "https://localhost:8080/",
          "height": 1000
        },
        "outputId": "7eb2024b-0eb1-4a0d-f1e5-b31e01a73a92"
      },
      "source": [
        "from keras.datasets import mnist\n",
        "from keras.utils import np_utils\n",
        "from keras.models import Sequential\n",
        "from keras.layers import Dense, Dropout, Flatten, Conv2D, MaxPooling2D\n",
        "from keras.callbacks import ModelCheckpoint, EarlyStopping\n",
        "\n",
        "import matplotlib.pyplot as plt\n",
        "import numpy as np\n",
        "import os\n",
        "import tensorflow as tf\n",
        "\n",
        "seed = 0\n",
        "np.random.seed(seed)\n",
        "tf.random.set_seed(3)\n",
        "\n",
        "(X_train, Y_train), (X_test, Y_test) = mnist.load_data()\n",
        "X_train = X_train.reshape(X_train.shape[0], 28, 28, 1).astype('float32') / 255\n",
        "X_test = X_test.reshape(X_test.shape[0], 28, 28, 1).astype('float32') / 255\n",
        "Y_train = np_utils.to_categorical(Y_train)\n",
        "Y_test = np_utils.to_categorical(Y_test)\n",
        "\n",
        "model = Sequential()\n",
        "model.add(Conv2D(32, kernel_size=(3, 3), input_shape=(28, 28, 1), activation='relu'))\n",
        "model.add(Conv2D(64, kernel_size=(3, 3), activation='relu'))\n",
        "model.add(MaxPooling2D(pool_size=2))\n",
        "model.add(Dropout(0.25))\n",
        "model.add(Flatten())\n",
        "model.add(Dense(128, activation='relu'))\n",
        "model.add(Dropout(0.5))\n",
        "model.add(Dense(10, activation='softmax'))\n",
        "\n",
        "model.compile(loss='categorical_crossentropy', optimizer='adam', metrics=['accuracy'])\n",
        "\n",
        "MODEL_DIR = './model/'\n",
        "if not os.path.exists(MODEL_DIR):\n",
        "  os.mkdir(MODEL_DIR)\n",
        "\n",
        "modelpath = './model/{epoch:02d}-{val_loss:.4f}.hdf5'\n",
        "checkpointer = ModelCheckpoint(filepath=modelpath, monitor='val_loss', verbose=1, save_best_only=True)\n",
        "early_stopping_callback = EarlyStopping(monitor='val_loss', patience=10)\n",
        "\n",
        "history = model.fit(X_train, Y_train, validation_data=(X_test, Y_test), epochs=30, batch_size=200,\n",
        "                    verbose=0, callbacks=[early_stopping_callback, checkpointer])\n",
        "print('\\n test accuracy:%.4f'%(model.evaluate(X_test, Y_test)[1]))\n",
        "\n",
        "y_vloss = history.history['val_loss']\n",
        "y_loss = history.history['loss']\n",
        "\n",
        "x_len = np.arange(len(y_loss))\n",
        "plt.plot(x_len, y_vloss, marker='.', c='red', label='Testset_loss')\n",
        "plt.plot(x_len, y_loss, marker='.', c='blue', label='Trainset_loss')\n",
        "\n",
        "plt.legend(loc='upper right')\n",
        "plt.grid()\n",
        "plt.xlabel('epoch')\n",
        "plt.ylabel('loss')\n",
        "plt.show()"
      ],
      "execution_count": 33,
      "outputs": [
        {
          "output_type": "stream",
          "text": [
            "\n",
            "Epoch 00001: val_loss improved from inf to 0.05597, saving model to ./model/01-0.0560.hdf5\n",
            "\n",
            "Epoch 00002: val_loss improved from 0.05597 to 0.03834, saving model to ./model/02-0.0383.hdf5\n",
            "\n",
            "Epoch 00003: val_loss improved from 0.03834 to 0.03242, saving model to ./model/03-0.0324.hdf5\n",
            "\n",
            "Epoch 00004: val_loss did not improve from 0.03242\n",
            "\n",
            "Epoch 00005: val_loss improved from 0.03242 to 0.03014, saving model to ./model/05-0.0301.hdf5\n",
            "\n",
            "Epoch 00006: val_loss did not improve from 0.03014\n",
            "\n",
            "Epoch 00007: val_loss improved from 0.03014 to 0.02943, saving model to ./model/07-0.0294.hdf5\n",
            "\n",
            "Epoch 00008: val_loss improved from 0.02943 to 0.02826, saving model to ./model/08-0.0283.hdf5\n",
            "\n",
            "Epoch 00009: val_loss improved from 0.02826 to 0.02753, saving model to ./model/09-0.0275.hdf5\n",
            "\n",
            "Epoch 00010: val_loss did not improve from 0.02753\n",
            "\n",
            "Epoch 00011: val_loss did not improve from 0.02753\n",
            "\n",
            "Epoch 00012: val_loss improved from 0.02753 to 0.02587, saving model to ./model/12-0.0259.hdf5\n",
            "\n",
            "Epoch 00013: val_loss did not improve from 0.02587\n",
            "\n",
            "Epoch 00014: val_loss did not improve from 0.02587\n",
            "\n",
            "Epoch 00015: val_loss did not improve from 0.02587\n",
            "\n",
            "Epoch 00016: val_loss did not improve from 0.02587\n",
            "\n",
            "Epoch 00017: val_loss did not improve from 0.02587\n",
            "\n",
            "Epoch 00018: val_loss did not improve from 0.02587\n",
            "\n",
            "Epoch 00019: val_loss did not improve from 0.02587\n",
            "\n",
            "Epoch 00020: val_loss improved from 0.02587 to 0.02508, saving model to ./model/20-0.0251.hdf5\n",
            "\n",
            "Epoch 00021: val_loss did not improve from 0.02508\n",
            "\n",
            "Epoch 00022: val_loss did not improve from 0.02508\n",
            "\n",
            "Epoch 00023: val_loss did not improve from 0.02508\n",
            "\n",
            "Epoch 00024: val_loss did not improve from 0.02508\n",
            "\n",
            "Epoch 00025: val_loss did not improve from 0.02508\n",
            "\n",
            "Epoch 00026: val_loss did not improve from 0.02508\n",
            "\n",
            "Epoch 00027: val_loss did not improve from 0.02508\n",
            "\n",
            "Epoch 00028: val_loss did not improve from 0.02508\n",
            "\n",
            "Epoch 00029: val_loss did not improve from 0.02508\n",
            "\n",
            "Epoch 00030: val_loss did not improve from 0.02508\n",
            "10000/10000 [==============================] - 1s 118us/step\n",
            "\n",
            " test accuracy:0.9936\n"
          ],
          "name": "stdout"
        },
        {
          "output_type": "display_data",
          "data": {
            "image/png": "[encoded data removed]",
            "text/plain": [
              "<Figure size 432x288 with 1 Axes>"
            ]
          },
          "metadata": {
            "tags": [],
            "needs_background": "light"
          }
        }
      ]
    },
    {
      "cell_type": "code",
      "metadata": {
        "id": "nW-l8zm-92Ow",
        "colab_type": "code",
        "colab": {
          "base_uri": "https://localhost:8080/",
          "height": 35
        },
        "outputId": "6bfd368e-0fa2-4936-d3fc-2554b8bebf8b"
      },
      "source": [
        "from tensorflow.keras.preprocessing.text import text_to_word_sequence\n",
        "\n",
        "text = '해보지 않으면 해낼 수 없다'\n",
        "result = text_to_word_sequence(text)\n",
        "print(result)"
      ],
      "execution_count": 34,
      "outputs": [
        {
          "output_type": "stream",
          "text": [
            "['해보지', '않으면', '해낼', '수', '없다']\n"
          ],
          "name": "stdout"
        }
      ]
    },
    {
      "cell_type": "code",
      "metadata": {
        "id": "mgZgB4fX-Fbn",
        "colab_type": "code",
        "colab": {
          "base_uri": "https://localhost:8080/",
          "height": 55
        },
        "outputId": "7ae84caa-2070-4214-f6fb-2f7ba4d47174"
      },
      "source": [
        "from tensorflow.keras.preprocessing.text import Tokenizer\n",
        "docs = ['먼저 텍스트의 각 단어를 나누어 토큰화합니다.', '텍스트의 단어로 토큰화해야 딥러닝에서 인식됩니다.', '토큰화한 결과는 딥러닝에서 사용할 수 있습니다.']\n",
        "token = Tokenizer()\n",
        "token.fit_on_texts(docs)\n",
        "print(token.word_counts)"
      ],
      "execution_count": 35,
      "outputs": [
        {
          "output_type": "stream",
          "text": [
            "OrderedDict([('먼저', 1), ('텍스트의', 2), ('각', 1), ('단어를', 1), ('나누어', 1), ('토큰화합니다', 1), ('단어로', 1), ('토큰화해야', 1), ('딥러닝에서', 2), ('인식됩니다', 1), ('토큰화한', 1), ('결과는', 1), ('사용할', 1), ('수', 1), ('있습니다', 1)])\n"
          ],
          "name": "stdout"
        }
      ]
    },
    {
      "cell_type": "code",
      "metadata": {
        "id": "M1J7gmU2-oUj",
        "colab_type": "code",
        "colab": {
          "base_uri": "https://localhost:8080/",
          "height": 35
        },
        "outputId": "b3cef9e8-986e-4ba7-8361-9ab296379372"
      },
      "source": [
        "token.document_count"
      ],
      "execution_count": 36,
      "outputs": [
        {
          "output_type": "execute_result",
          "data": {
            "text/plain": [
              "3"
            ]
          },
          "metadata": {
            "tags": []
          },
          "execution_count": 36
        }
      ]
    },
    {
      "cell_type": "code",
      "metadata": {
        "id": "xSDMI3yi-r-K",
        "colab_type": "code",
        "colab": {
          "base_uri": "https://localhost:8080/",
          "height": 305
        },
        "outputId": "193ad1c0-690d-4e3e-a765-4f2e13e4e124"
      },
      "source": [
        "token.word_docs"
      ],
      "execution_count": 37,
      "outputs": [
        {
          "output_type": "execute_result",
          "data": {
            "text/plain": [
              "defaultdict(int,\n",
              "            {'각': 1,\n",
              "             '결과는': 1,\n",
              "             '나누어': 1,\n",
              "             '단어로': 1,\n",
              "             '단어를': 1,\n",
              "             '딥러닝에서': 2,\n",
              "             '먼저': 1,\n",
              "             '사용할': 1,\n",
              "             '수': 1,\n",
              "             '인식됩니다': 1,\n",
              "             '있습니다': 1,\n",
              "             '텍스트의': 2,\n",
              "             '토큰화한': 1,\n",
              "             '토큰화합니다': 1,\n",
              "             '토큰화해야': 1})"
            ]
          },
          "metadata": {
            "tags": []
          },
          "execution_count": 37
        }
      ]
    },
    {
      "cell_type": "code",
      "metadata": {
        "id": "CZRiVumm-8Hj",
        "colab_type": "code",
        "colab": {
          "base_uri": "https://localhost:8080/",
          "height": 287
        },
        "outputId": "13841f93-d273-4a54-fcb5-93e8a6677b5a"
      },
      "source": [
        "token.word_index"
      ],
      "execution_count": 38,
      "outputs": [
        {
          "output_type": "execute_result",
          "data": {
            "text/plain": [
              "{'각': 4,\n",
              " '결과는': 12,\n",
              " '나누어': 6,\n",
              " '단어로': 8,\n",
              " '단어를': 5,\n",
              " '딥러닝에서': 2,\n",
              " '먼저': 3,\n",
              " '사용할': 13,\n",
              " '수': 14,\n",
              " '인식됩니다': 10,\n",
              " '있습니다': 15,\n",
              " '텍스트의': 1,\n",
              " '토큰화한': 11,\n",
              " '토큰화합니다': 7,\n",
              " '토큰화해야': 9}"
            ]
          },
          "metadata": {
            "tags": []
          },
          "execution_count": 38
        }
      ]
    },
    {
      "cell_type": "code",
      "metadata": {
        "id": "9r9N7lPfEFjC",
        "colab_type": "code",
        "colab": {
          "base_uri": "https://localhost:8080/",
          "height": 35
        },
        "outputId": "b333f00c-20af-474c-d4a1-dd8a4a7b2901"
      },
      "source": [
        "from tensorflow.keras.preprocessing.text import Tokenizer\n",
        "text = '가가가가 나나나 가가 나 다 다다 다다다다'\n",
        "\n",
        "token = Tokenizer()\n",
        "token.fit_on_texts([text])\n",
        "print(token.word_index)"
      ],
      "execution_count": 39,
      "outputs": [
        {
          "output_type": "stream",
          "text": [
            "{'가가가가': 1, '나나나': 2, '가가': 3, '나': 4, '다': 5, '다다': 6, '다다다다': 7}\n"
          ],
          "name": "stdout"
        }
      ]
    },
    {
      "cell_type": "code",
      "metadata": {
        "id": "MFUoyNpuEbtn",
        "colab_type": "code",
        "colab": {
          "base_uri": "https://localhost:8080/",
          "height": 35
        },
        "outputId": "2aed438e-2e47-43ff-8216-f7bded7c7602"
      },
      "source": [
        "x = token.texts_to_sequences([text])\n",
        "print(x)"
      ],
      "execution_count": 42,
      "outputs": [
        {
          "output_type": "stream",
          "text": [
            "[[1, 2, 3, 4, 5, 6, 7]]\n"
          ],
          "name": "stdout"
        }
      ]
    },
    {
      "cell_type": "code",
      "metadata": {
        "id": "RKefQm-AEk1Z",
        "colab_type": "code",
        "colab": {
          "base_uri": "https://localhost:8080/",
          "height": 143
        },
        "outputId": "51212701-b236-428f-ae2b-a1b78c7b9ce5"
      },
      "source": [
        "from tensorflow.keras.utils import to_categorical\n",
        "\n",
        "word_size = len(token.word_index) + 1\n",
        "x = to_categorical(x, num_classes=word_size)\n",
        "\n",
        "print(x)"
      ],
      "execution_count": 43,
      "outputs": [
        {
          "output_type": "stream",
          "text": [
            "[[[0. 1. 0. 0. 0. 0. 0. 0.]\n",
            "  [0. 0. 1. 0. 0. 0. 0. 0.]\n",
            "  [0. 0. 0. 1. 0. 0. 0. 0.]\n",
            "  [0. 0. 0. 0. 1. 0. 0. 0.]\n",
            "  [0. 0. 0. 0. 0. 1. 0. 0.]\n",
            "  [0. 0. 0. 0. 0. 0. 1. 0.]\n",
            "  [0. 0. 0. 0. 0. 0. 0. 1.]]]\n"
          ],
          "name": "stdout"
        }
      ]
    },
    {
      "cell_type": "code",
      "metadata": {
        "id": "5cIlSpX8E84D",
        "colab_type": "code",
        "colab": {}
      },
      "source": [
        "from keras.layers import Embedding\n",
        "\n",
        "model = Sequential()\n",
        "model.add(Embedding(16, 4))"
      ],
      "execution_count": 0,
      "outputs": []
    },
    {
      "cell_type": "code",
      "metadata": {
        "id": "XFbvK7CiFUzI",
        "colab_type": "code",
        "colab": {}
      },
      "source": [
        "import numpy as np\n",
        "\n",
        "docs = ['너무 재밌어요', '최고예요', '참 잘 만든 영화예요','추천하고 싶은 영화예요', '한 번 더 보고 싶네요',\n",
        "        '글쎄요', '별로예요', '생각보다 지루하네요', '연기가 어색해요', '재미없어요']\n",
        "classes = np.array([1, 1, 1, 1, 1, 0, 0, 0, 0, 0])"
      ],
      "execution_count": 0,
      "outputs": []
    },
    {
      "cell_type": "code",
      "metadata": {
        "id": "dyyiO9s3FzKn",
        "colab_type": "code",
        "colab": {
          "base_uri": "https://localhost:8080/",
          "height": 55
        },
        "outputId": "15d6734d-2d48-481d-9792-01e3a8efaa39"
      },
      "source": [
        "token = Tokenizer()\n",
        "token.fit_on_texts(docs)\n",
        "print(token.word_index)"
      ],
      "execution_count": 50,
      "outputs": [
        {
          "output_type": "stream",
          "text": [
            "{'영화예요': 1, '너무': 2, '재밌어요': 3, '최고예요': 4, '참': 5, '잘': 6, '만든': 7, '추천하고': 8, '싶은': 9, '한': 10, '번': 11, '더': 12, '보고': 13, '싶네요': 14, '글쎄요': 15, '별로예요': 16, '생각보다': 17, '지루하네요': 18, '연기가': 19, '어색해요': 20, '재미없어요': 21}\n"
          ],
          "name": "stdout"
        }
      ]
    },
    {
      "cell_type": "code",
      "metadata": {
        "id": "dOEtRvTgFnV0",
        "colab_type": "code",
        "colab": {
          "base_uri": "https://localhost:8080/",
          "height": 35
        },
        "outputId": "ef2a6f07-9355-4827-b6bd-e33b7c12582f"
      },
      "source": [
        "x = token.texts_to_sequences(docs)\n",
        "print(x)"
      ],
      "execution_count": 51,
      "outputs": [
        {
          "output_type": "stream",
          "text": [
            "[[2, 3], [4], [5, 6, 7, 1], [8, 9, 1], [10, 11, 12, 13, 14], [15], [16], [17, 18], [19, 20], [21]]\n"
          ],
          "name": "stdout"
        }
      ]
    },
    {
      "cell_type": "code",
      "metadata": {
        "id": "zfqLdQIpGQ89",
        "colab_type": "code",
        "colab": {
          "base_uri": "https://localhost:8080/",
          "height": 197
        },
        "outputId": "09457e95-0ea1-4678-aaa4-58a2d939ebc2"
      },
      "source": [
        "from tensorflow.keras.preprocessing.sequence import pad_sequences\n",
        "\n",
        "padded_x = pad_sequences(x, 4)\n",
        "print(padded_x)"
      ],
      "execution_count": 54,
      "outputs": [
        {
          "output_type": "stream",
          "text": [
            "[[ 0  0  2  3]\n",
            " [ 0  0  0  4]\n",
            " [ 5  6  7  1]\n",
            " [ 0  8  9  1]\n",
            " [11 12 13 14]\n",
            " [ 0  0  0 15]\n",
            " [ 0  0  0 16]\n",
            " [ 0  0 17 18]\n",
            " [ 0  0 19 20]\n",
            " [ 0  0  0 21]]\n"
          ],
          "name": "stdout"
        }
      ]
    },
    {
      "cell_type": "code",
      "metadata": {
        "id": "5K9S_0LnH8vY",
        "colab_type": "code",
        "colab": {
          "base_uri": "https://localhost:8080/",
          "height": 35
        },
        "outputId": "83766b52-0eb4-4ffb-dc44-d74e32b0b107"
      },
      "source": [
        "word_size = len(token.word_index) + 1\n",
        "print(word_size)"
      ],
      "execution_count": 56,
      "outputs": [
        {
          "output_type": "stream",
          "text": [
            "22\n"
          ],
          "name": "stdout"
        }
      ]
    },
    {
      "cell_type": "code",
      "metadata": {
        "id": "6_iTuueWIQR3",
        "colab_type": "code",
        "colab": {
          "base_uri": "https://localhost:8080/",
          "height": 791
        },
        "outputId": "c125e8bf-2759-484d-c966-d35b6d8515c7"
      },
      "source": [
        "from tensorflow.keras.models import Sequential\n",
        "from tensorflow.keras.layers import Dense, Flatten, Embedding\n",
        "\n",
        "model = Sequential()\n",
        "model.add(Embedding(word_size, 8, input_length=4))\n",
        "model.add(Flatten())\n",
        "model.add(Dense(1, activation='sigmoid'))\n",
        "\n",
        "model.compile(optimizer='adam', loss='binary_crossentropy', metrics=['accuracy'])\n",
        "model.fit(padded_x, classes, epochs=20)\n",
        "\n",
        "print('\\n accuracy:%.4f' %(model.evaluate(padded_x, classes)[1]))"
      ],
      "execution_count": 57,
      "outputs": [
        {
          "output_type": "stream",
          "text": [
            "Epoch 1/20\n",
            "1/1 [==============================] - 0s 1ms/step - loss: 0.6987 - accuracy: 0.2000\n",
            "Epoch 2/20\n",
            "1/1 [==============================] - 0s 2ms/step - loss: 0.6970 - accuracy: 0.3000\n",
            "Epoch 3/20\n",
            "1/1 [==============================] - 0s 2ms/step - loss: 0.6952 - accuracy: 0.3000\n",
            "Epoch 4/20\n",
            "1/1 [==============================] - 0s 2ms/step - loss: 0.6934 - accuracy: 0.4000\n",
            "Epoch 5/20\n",
            "1/1 [==============================] - 0s 1ms/step - loss: 0.6916 - accuracy: 0.5000\n",
            "Epoch 6/20\n",
            "1/1 [==============================] - 0s 1ms/step - loss: 0.6899 - accuracy: 0.7000\n",
            "Epoch 7/20\n",
            "1/1 [==============================] - 0s 3ms/step - loss: 0.6881 - accuracy: 0.7000\n",
            "Epoch 8/20\n",
            "1/1 [==============================] - 0s 1ms/step - loss: 0.6864 - accuracy: 0.8000\n",
            "Epoch 9/20\n",
            "1/1 [==============================] - 0s 1ms/step - loss: 0.6846 - accuracy: 0.8000\n",
            "Epoch 10/20\n",
            "1/1 [==============================] - 0s 2ms/step - loss: 0.6829 - accuracy: 0.8000\n",
            "Epoch 11/20\n",
            "1/1 [==============================] - 0s 1ms/step - loss: 0.6811 - accuracy: 0.8000\n",
            "Epoch 12/20\n",
            "1/1 [==============================] - 0s 1ms/step - loss: 0.6794 - accuracy: 0.8000\n",
            "Epoch 13/20\n",
            "1/1 [==============================] - 0s 2ms/step - loss: 0.6776 - accuracy: 0.8000\n",
            "Epoch 14/20\n",
            "1/1 [==============================] - 0s 3ms/step - loss: 0.6759 - accuracy: 0.8000\n",
            "Epoch 15/20\n",
            "1/1 [==============================] - 0s 1ms/step - loss: 0.6741 - accuracy: 0.8000\n",
            "Epoch 16/20\n",
            "1/1 [==============================] - 0s 2ms/step - loss: 0.6723 - accuracy: 0.8000\n",
            "Epoch 17/20\n",
            "1/1 [==============================] - 0s 1ms/step - loss: 0.6705 - accuracy: 0.8000\n",
            "Epoch 18/20\n",
            "1/1 [==============================] - 0s 2ms/step - loss: 0.6687 - accuracy: 0.8000\n",
            "Epoch 19/20\n",
            "1/1 [==============================] - 0s 1ms/step - loss: 0.6669 - accuracy: 0.8000\n",
            "Epoch 20/20\n",
            "1/1 [==============================] - 0s 2ms/step - loss: 0.6651 - accuracy: 0.9000\n",
            "1/1 [==============================] - 0s 1ms/step - loss: 0.6633 - accuracy: 0.9000\n",
            "\n",
            " accuracy:0.9000\n"
          ],
          "name": "stdout"
        }
      ]
    },
    {
      "cell_type": "code",
      "metadata": {
        "id": "ITLIMfmCLX8o",
        "colab_type": "code",
        "colab": {
          "base_uri": "https://localhost:8080/",
          "height": 269
        },
        "outputId": "c915ce0c-a997-40b3-afc6-f5816a69cad8"
      },
      "source": [
        "model.summary()"
      ],
      "execution_count": 58,
      "outputs": [
        {
          "output_type": "stream",
          "text": [
            "Model: \"sequential\"\n",
            "_________________________________________________________________\n",
            "Layer (type)                 Output Shape              Param #   \n",
            "=================================================================\n",
            "embedding (Embedding)        (None, 4, 8)              176       \n",
            "_________________________________________________________________\n",
            "flatten (Flatten)            (None, 32)                0         \n",
            "_________________________________________________________________\n",
            "dense (Dense)                (None, 1)                 33        \n",
            "=================================================================\n",
            "Total params: 209\n",
            "Trainable params: 209\n",
            "Non-trainable params: 0\n",
            "_________________________________________________________________\n"
          ],
          "name": "stdout"
        }
      ]
    },
    {
      "cell_type": "code",
      "metadata": {
        "id": "GTRMQS1FMvxq",
        "colab_type": "code",
        "colab": {
          "base_uri": "https://localhost:8080/",
          "height": 53
        },
        "outputId": "23aa286f-645b-4a74-a92d-c0ea8191d588"
      },
      "source": [
        "from keras.datasets import reuters\n",
        "\n",
        "(X_train, Y_train), (X_test, Y_test) = reuters.load_data(num_words=1000, test_split=0.2)"
      ],
      "execution_count": 59,
      "outputs": [
        {
          "output_type": "stream",
          "text": [
            "Downloading data from https://s3.amazonaws.com/text-datasets/reuters.npz\n",
            "2113536/2110848 [==============================] - 1s 0us/step\n"
          ],
          "name": "stdout"
        }
      ]
    },
    {
      "cell_type": "code",
      "metadata": {
        "id": "loAInTaAM5cb",
        "colab_type": "code",
        "colab": {
          "base_uri": "https://localhost:8080/",
          "height": 109
        },
        "outputId": "40c0ca0e-451b-44fd-d4b6-82ca10be18e3"
      },
      "source": [
        "import numpy as np\n",
        "\n",
        "category = np.max(Y_train) + 1\n",
        "print('category:', category)\n",
        "print('X_train len:', len(X_train))\n",
        "print('X_test len:', len(X_test))\n",
        "print(X_train[0])"
      ],
      "execution_count": 60,
      "outputs": [
        {
          "output_type": "stream",
          "text": [
            "category: 46\n",
            "X_train len: 8982\n",
            "X_test len: 2246\n",
            "[1, 2, 2, 8, 43, 10, 447, 5, 25, 207, 270, 5, 2, 111, 16, 369, 186, 90, 67, 7, 89, 5, 19, 102, 6, 19, 124, 15, 90, 67, 84, 22, 482, 26, 7, 48, 4, 49, 8, 864, 39, 209, 154, 6, 151, 6, 83, 11, 15, 22, 155, 11, 15, 7, 48, 9, 2, 2, 504, 6, 258, 6, 272, 11, 15, 22, 134, 44, 11, 15, 16, 8, 197, 2, 90, 67, 52, 29, 209, 30, 32, 132, 6, 109, 15, 17, 12]\n"
          ],
          "name": "stdout"
        }
      ]
    },
    {
      "cell_type": "code",
      "metadata": {
        "id": "6VR9N7YxNTvv",
        "colab_type": "code",
        "colab": {}
      },
      "source": [
        "from keras.preprocessing import sequence\n",
        "from keras.utils import np_utils\n",
        "\n",
        "x_train = sequence.pad_sequences(X_train, maxlen=100)\n",
        "x_test = sequence.pad_sequences(X_test, maxlen=100)\n",
        "\n",
        "y_train = np_utils.to_categorical(Y_train)\n",
        "y_test = np_utils.to_categorical(Y_test)"
      ],
      "execution_count": 0,
      "outputs": []
    },
    {
      "cell_type": "code",
      "metadata": {
        "id": "RGdc9n2NNpqj",
        "colab_type": "code",
        "colab": {
          "base_uri": "https://localhost:8080/",
          "height": 1000
        },
        "outputId": "b7cbc0ce-9c08-4db0-bbb5-13f372216057"
      },
      "source": [
        "from keras.models import Sequential\n",
        "from keras.layers import Dense, LSTM, Embedding\n",
        "\n",
        "import numpy as np\n",
        "\n",
        "model = Sequential()\n",
        "model.add(Embedding(1000, 100))\n",
        "model.add(LSTM(100, activation='tanh'))\n",
        "model.add(Dense(46, activation='softmax'))\n",
        "\n",
        "model.compile(loss='categorical_crossentropy', optimizer='adam', metrics=['accuracy'])\n",
        "history = model.fit(x_train, y_train, batch_size=100, epochs=20, validation_data=(x_test, y_test))\n",
        "print('\\n test accuracy:%.4f'%(model.evaluate(x_test, y_test)[1]))\n",
        "\n",
        "y_vloss = history.history['val_loss']\n",
        "y_loss = history.history['loss']\n",
        "\n",
        "x_len = np.arange(len(y_loss))\n",
        "plt.plot(x_len, y_vloss, marker='.', c='red', label='testset_loss')\n",
        "plt.plot(x_len, y_loss, marker='.', c='blue', label='trainset_loss')\n",
        "\n",
        "plt.legend(loc='upper right')\n",
        "plt.grid()\n",
        "plt.xlabel('epoch')\n",
        "plt.ylabel('loss')\n",
        "plt.show()"
      ],
      "execution_count": 65,
      "outputs": [
        {
          "output_type": "stream",
          "text": [
            "/usr/local/lib/python3.6/dist-packages/tensorflow/python/framework/indexed_slices.py:434: UserWarning: Converting sparse IndexedSlices to a dense Tensor of unknown shape. This may consume a large amount of memory.\n",
            "  \"Converting sparse IndexedSlices to a dense Tensor of unknown shape. \"\n"
          ],
          "name": "stderr"
        },
        {
          "output_type": "stream",
          "text": [
            "Train on 8982 samples, validate on 2246 samples\n",
            "Epoch 1/20\n",
            "8982/8982 [==============================] - 24s 3ms/step - loss: 2.6198 - accuracy: 0.3370 - val_loss: 2.2157 - val_accuracy: 0.4791\n",
            "Epoch 2/20\n",
            "8982/8982 [==============================] - 23s 3ms/step - loss: 1.9969 - accuracy: 0.4811 - val_loss: 1.8199 - val_accuracy: 0.5298\n",
            "Epoch 3/20\n",
            "8982/8982 [==============================] - 23s 3ms/step - loss: 1.7791 - accuracy: 0.5304 - val_loss: 1.7625 - val_accuracy: 0.5476\n",
            "Epoch 4/20\n",
            "8982/8982 [==============================] - 23s 3ms/step - loss: 1.6875 - accuracy: 0.5616 - val_loss: 1.6886 - val_accuracy: 0.5717\n",
            "Epoch 5/20\n",
            "8982/8982 [==============================] - 23s 3ms/step - loss: 1.6309 - accuracy: 0.5797 - val_loss: 1.6687 - val_accuracy: 0.5739\n",
            "Epoch 6/20\n",
            "8982/8982 [==============================] - 23s 3ms/step - loss: 1.5797 - accuracy: 0.5934 - val_loss: 1.6542 - val_accuracy: 0.5873\n",
            "Epoch 7/20\n",
            "8982/8982 [==============================] - 23s 3ms/step - loss: 1.5137 - accuracy: 0.6215 - val_loss: 1.5717 - val_accuracy: 0.6242\n",
            "Epoch 8/20\n",
            "8982/8982 [==============================] - 23s 3ms/step - loss: 1.4269 - accuracy: 0.6402 - val_loss: 1.4991 - val_accuracy: 0.6269\n",
            "Epoch 9/20\n",
            "8982/8982 [==============================] - 23s 3ms/step - loss: 1.3343 - accuracy: 0.6592 - val_loss: 1.5133 - val_accuracy: 0.6202\n",
            "Epoch 10/20\n",
            "8982/8982 [==============================] - 23s 3ms/step - loss: 1.2694 - accuracy: 0.6779 - val_loss: 1.3672 - val_accuracy: 0.6554\n",
            "Epoch 11/20\n",
            "8982/8982 [==============================] - 23s 3ms/step - loss: 1.1936 - accuracy: 0.6944 - val_loss: 1.3724 - val_accuracy: 0.6567\n",
            "Epoch 12/20\n",
            "8982/8982 [==============================] - 23s 3ms/step - loss: 1.1419 - accuracy: 0.7065 - val_loss: 1.2986 - val_accuracy: 0.6736\n",
            "Epoch 13/20\n",
            "8982/8982 [==============================] - 23s 3ms/step - loss: 1.0725 - accuracy: 0.7241 - val_loss: 1.2739 - val_accuracy: 0.6723\n",
            "Epoch 14/20\n",
            "8982/8982 [==============================] - 23s 3ms/step - loss: 1.0185 - accuracy: 0.7360 - val_loss: 1.2461 - val_accuracy: 0.6866\n",
            "Epoch 15/20\n",
            "8982/8982 [==============================] - 23s 3ms/step - loss: 0.9747 - accuracy: 0.7498 - val_loss: 1.2354 - val_accuracy: 0.6817\n",
            "Epoch 16/20\n",
            "8982/8982 [==============================] - 23s 3ms/step - loss: 0.9325 - accuracy: 0.7640 - val_loss: 1.2738 - val_accuracy: 0.6830\n",
            "Epoch 17/20\n",
            "8982/8982 [==============================] - 23s 3ms/step - loss: 0.8950 - accuracy: 0.7731 - val_loss: 1.2560 - val_accuracy: 0.6830\n",
            "Epoch 18/20\n",
            "8982/8982 [==============================] - 23s 3ms/step - loss: 0.8589 - accuracy: 0.7819 - val_loss: 1.2270 - val_accuracy: 0.6968\n",
            "Epoch 19/20\n",
            "8982/8982 [==============================] - 23s 3ms/step - loss: 0.8302 - accuracy: 0.7877 - val_loss: 1.2446 - val_accuracy: 0.6843\n",
            "Epoch 20/20\n",
            "8982/8982 [==============================] - 23s 3ms/step - loss: 0.7985 - accuracy: 0.7993 - val_loss: 1.2774 - val_accuracy: 0.6941\n",
            "2246/2246 [==============================] - 2s 922us/step\n",
            "\n",
            " test accuracy:0.6941\n"
          ],
          "name": "stdout"
        },
        {
          "output_type": "display_data",
          "data": {
            "image/png": "[encoded data removed]",
            "text/plain": [
              "<Figure size 432x288 with 1 Axes>"
            ]
          },
          "metadata": {
            "tags": [],
            "needs_background": "light"
          }
        }
      ]
    },
    {
      "cell_type": "code",
      "metadata": {
        "id": "UBJLnWq_RAAE",
        "colab_type": "code",
        "colab": {
          "base_uri": "https://localhost:8080/",
          "height": 983
        },
        "outputId": "d6c34c5e-c5f5-47f5-8c6f-3addc9a018cf"
      },
      "source": [
        "from keras.preprocessing import sequence\n",
        "from keras.models import Sequential\n",
        "from keras.layers import Dense, Dropout, Activation\n",
        "from keras.layers import Embedding, LSTM, Conv1D, MaxPooling1D\n",
        "from keras.datasets import imdb\n",
        "\n",
        "import numpy as np\n",
        "import tensorflow as tf\n",
        "import matplotlib.pyplot as plt\n",
        "\n",
        "seed = 0\n",
        "np.random.seed(seed)\n",
        "tf.random.set_seed(3)\n",
        "\n",
        "(x_train, y_train), (x_test, y_test) = imdb.load_data(num_words=5000)\n",
        "\n",
        "x_train = sequence.pad_sequences(x_train, maxlen=100)\n",
        "x_test = sequence.pad_sequences(x_test, maxlen=100)\n",
        "\n",
        "model = Sequential()\n",
        "model.add(Embedding(5000, 100))\n",
        "model.add(Dropout(0.5))\n",
        "model.add(Conv1D(64, 5, padding='valid', activation='relu', strides=1))\n",
        "model.add(MaxPooling1D(pool_size=4))\n",
        "model.add(LSTM(55))\n",
        "model.add(Dense(1))\n",
        "model.add(Activation('sigmoid'))\n",
        "model.summary()\n",
        "\n",
        "model.compile(loss='binary_crossentropy', optimizer='adam', metrics=['accuracy'])\n",
        "history = model.fit(x_train, y_train, batch_size=100, epochs=5, validation_data=(x_test, y_test))\n",
        "print('\\n test accuracy: %.4f' %(model.evaluate(x_test, y_test)[1]))\n",
        "\n",
        "y_vloss = history.history['val_loss']\n",
        "y_loss = history.history['loss']\n",
        "\n",
        "x_len = np.arange(len(y_loss))\n",
        "plt.plot(x_len, y_vloss, marker='.', c='red', label='testset_loss')\n",
        "plt.plot(x_len, y_loss, marker='.', c='blue', label='trainset_loss')\n",
        "plt.legend(loc='upper right')\n",
        "plt.grid()\n",
        "plt.xlabel('epoch')\n",
        "plt.ylabel('loss')\n",
        "plt.show()"
      ],
      "execution_count": 67,
      "outputs": [
        {
          "output_type": "stream",
          "text": [
            "Model: \"sequential_7\"\n",
            "_________________________________________________________________\n",
            "Layer (type)                 Output Shape              Param #   \n",
            "=================================================================\n",
            "embedding_4 (Embedding)      (None, None, 100)         500000    \n",
            "_________________________________________________________________\n",
            "dropout_4 (Dropout)          (None, None, 100)         0         \n",
            "_________________________________________________________________\n",
            "conv1d_2 (Conv1D)            (None, None, 64)          32064     \n",
            "_________________________________________________________________\n",
            "max_pooling1d_2 (MaxPooling1 (None, None, 64)          0         \n",
            "_________________________________________________________________\n",
            "lstm_3 (LSTM)                (None, 55)                26400     \n",
            "_________________________________________________________________\n",
            "dense_7 (Dense)              (None, 1)                 56        \n",
            "_________________________________________________________________\n",
            "activation_2 (Activation)    (None, 1)                 0         \n",
            "=================================================================\n",
            "Total params: 558,520\n",
            "Trainable params: 558,520\n",
            "Non-trainable params: 0\n",
            "_________________________________________________________________\n"
          ],
          "name": "stdout"
        },
        {
          "output_type": "stream",
          "text": [
            "/usr/local/lib/python3.6/dist-packages/tensorflow/python/framework/indexed_slices.py:434: UserWarning: Converting sparse IndexedSlices to a dense Tensor of unknown shape. This may consume a large amount of memory.\n",
            "  \"Converting sparse IndexedSlices to a dense Tensor of unknown shape. \"\n"
          ],
          "name": "stderr"
        },
        {
          "output_type": "stream",
          "text": [
            "Train on 25000 samples, validate on 25000 samples\n",
            "Epoch 1/5\n",
            "25000/25000 [==============================] - 22s 877us/step - loss: 0.4504 - accuracy: 0.7700 - val_loss: 0.3338 - val_accuracy: 0.8529\n",
            "Epoch 2/5\n",
            "25000/25000 [==============================] - 21s 841us/step - loss: 0.2886 - accuracy: 0.8780 - val_loss: 0.3256 - val_accuracy: 0.8582\n",
            "Epoch 3/5\n",
            "25000/25000 [==============================] - 21s 840us/step - loss: 0.2468 - accuracy: 0.8990 - val_loss: 0.3379 - val_accuracy: 0.8550\n",
            "Epoch 4/5\n",
            "25000/25000 [==============================] - 21s 851us/step - loss: 0.2053 - accuracy: 0.9201 - val_loss: 0.3417 - val_accuracy: 0.8566\n",
            "Epoch 5/5\n",
            "25000/25000 [==============================] - 21s 849us/step - loss: 0.1767 - accuracy: 0.9320 - val_loss: 0.3639 - val_accuracy: 0.8520\n",
            "25000/25000 [==============================] - 5s 210us/step\n",
            "\n",
            " test accuracy: 0.8520\n"
          ],
          "name": "stdout"
        },
        {
          "output_type": "display_data",
          "data": {
            "image/png": "[encoded data removed]",
            "text/plain": [
              "<Figure size 432x288 with 1 Axes>"
            ]
          },
          "metadata": {
            "tags": [],
            "needs_background": "light"
          }
        }
      ]
    }
  ]
}