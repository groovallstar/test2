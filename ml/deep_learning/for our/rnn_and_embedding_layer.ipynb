{
  "nbformat": 4,
  "nbformat_minor": 0,
  "metadata": {
    "colab": {
      "name": "rnn and embedding layer.ipynb",
      "provenance": [],
      "collapsed_sections": []
    },
    "kernelspec": {
      "name": "python3",
      "display_name": "Python 3"
    },
    "accelerator": "GPU"
  },
  "cells": [
    {
      "cell_type": "code",
      "metadata": {
        "id": "XyTYZ_jY47Db",
        "colab_type": "code",
        "colab": {
          "base_uri": "https://localhost:8080/",
          "height": 35
        },
        "outputId": "b4fde554-8918-4770-9f7a-dc87bd2f6bb7"
      },
      "source": [
        "from keras.datasets import reuters\n",
        "from keras.models import Sequential\n",
        "from keras.layers import Dense, LSTM, Embedding\n",
        "from keras.preprocessing import sequence\n",
        "from keras.utils import np_utils\n",
        "\n",
        "import numpy\n",
        "import tensorflow as tf\n",
        "import matplotlib.pyplot as plt"
      ],
      "execution_count": 1,
      "outputs": [
        {
          "output_type": "stream",
          "text": [
            "Using TensorFlow backend.\n"
          ],
          "name": "stderr"
        }
      ]
    },
    {
      "cell_type": "code",
      "metadata": {
        "id": "fNgg8mou86vp",
        "colab_type": "code",
        "colab": {
          "base_uri": "https://localhost:8080/",
          "height": 53
        },
        "outputId": "988ff4d9-4deb-4dba-a2f4-fe73caaa9509"
      },
      "source": [
        "seed = 0\n",
        "numpy.random.seed(seed)\n",
        "tf.random.set_seed(3)\n",
        "\n",
        "(X_train, Y_train), (X_test, Y_test) = reuters.load_data(num_words=1000, test_split=0.2)\n",
        "\n",
        "category = numpy.max(Y_train) + 1"
      ],
      "execution_count": 2,
      "outputs": [
        {
          "output_type": "stream",
          "text": [
            "Downloading data from https://s3.amazonaws.com/text-datasets/reuters.npz\n",
            "2113536/2110848 [==============================] - 2s 1us/step\n"
          ],
          "name": "stdout"
        }
      ]
    },
    {
      "cell_type": "code",
      "metadata": {
        "id": "4XPZWyTh9EsQ",
        "colab_type": "code",
        "colab": {
          "base_uri": "https://localhost:8080/",
          "height": 109
        },
        "outputId": "09dfe1df-cb1c-4b3d-c8fe-dba6e3a17bed"
      },
      "source": [
        "print('category:', category)\n",
        "print('X_train len:',len(X_train))\n",
        "print('Y_train len:',len(Y_train))\n",
        "print(X_train[0])"
      ],
      "execution_count": 3,
      "outputs": [
        {
          "output_type": "stream",
          "text": [
            "category: 46\n",
            "X_train len: 8982\n",
            "Y_train len: 8982\n",
            "[1, 2, 2, 8, 43, 10, 447, 5, 25, 207, 270, 5, 2, 111, 16, 369, 186, 90, 67, 7, 89, 5, 19, 102, 6, 19, 124, 15, 90, 67, 84, 22, 482, 26, 7, 48, 4, 49, 8, 864, 39, 209, 154, 6, 151, 6, 83, 11, 15, 22, 155, 11, 15, 7, 48, 9, 2, 2, 504, 6, 258, 6, 272, 11, 15, 22, 134, 44, 11, 15, 16, 8, 197, 2, 90, 67, 52, 29, 209, 30, 32, 132, 6, 109, 15, 17, 12]\n"
          ],
          "name": "stdout"
        }
      ]
    },
    {
      "cell_type": "code",
      "metadata": {
        "id": "m3qd9CKm9G7w",
        "colab_type": "code",
        "colab": {}
      },
      "source": [
        "x_train = sequence.pad_sequences(X_train, maxlen=100)\n",
        "x_test = sequence.pad_sequences(X_test, maxlen=100)\n",
        "\n",
        "y_train = np_utils.to_categorical(Y_train)\n",
        "y_test = np_utils.to_categorical(Y_test)"
      ],
      "execution_count": 0,
      "outputs": []
    },
    {
      "cell_type": "code",
      "metadata": {
        "id": "CXBYSwhe9UD0",
        "colab_type": "code",
        "colab": {}
      },
      "source": [
        "model = Sequential()\n",
        "model.add(Embedding(1000, 100))\n",
        "model.add(LSTM(100, activation='tanh'))\n",
        "model.add(Dense(46, activation='softmax'))"
      ],
      "execution_count": 0,
      "outputs": []
    },
    {
      "cell_type": "code",
      "metadata": {
        "id": "o63UFvli9e8L",
        "colab_type": "code",
        "colab": {}
      },
      "source": [
        "model.compile(loss='categorical_crossentropy', optimizer='adam', metrics=['accuracy'])"
      ],
      "execution_count": 0,
      "outputs": []
    },
    {
      "cell_type": "code",
      "metadata": {
        "id": "PPVMTddd9mBw",
        "colab_type": "code",
        "colab": {
          "base_uri": "https://localhost:8080/",
          "height": 811
        },
        "outputId": "f694334c-0696-4591-c440-6bcabd80870f"
      },
      "source": [
        "history = model.fit(x_train, y_train, batch_size=100, epochs=20, validation_data=(x_test, y_test))"
      ],
      "execution_count": 7,
      "outputs": [
        {
          "output_type": "stream",
          "text": [
            "/usr/local/lib/python3.6/dist-packages/tensorflow/python/framework/indexed_slices.py:434: UserWarning: Converting sparse IndexedSlices to a dense Tensor of unknown shape. This may consume a large amount of memory.\n",
            "  \"Converting sparse IndexedSlices to a dense Tensor of unknown shape. \"\n"
          ],
          "name": "stderr"
        },
        {
          "output_type": "stream",
          "text": [
            "Train on 8982 samples, validate on 2246 samples\n",
            "Epoch 1/20\n",
            "8982/8982 [==============================] - 19s 2ms/step - loss: 2.5576 - accuracy: 0.3717 - val_loss: 2.0103 - val_accuracy: 0.4920\n",
            "Epoch 2/20\n",
            "8982/8982 [==============================] - 17s 2ms/step - loss: 1.9195 - accuracy: 0.4982 - val_loss: 1.8625 - val_accuracy: 0.5227\n",
            "Epoch 3/20\n",
            "8982/8982 [==============================] - 17s 2ms/step - loss: 1.7713 - accuracy: 0.5355 - val_loss: 1.7812 - val_accuracy: 0.5249\n",
            "Epoch 4/20\n",
            "8982/8982 [==============================] - 17s 2ms/step - loss: 1.6980 - accuracy: 0.5593 - val_loss: 1.7023 - val_accuracy: 0.5730\n",
            "Epoch 5/20\n",
            "8982/8982 [==============================] - 17s 2ms/step - loss: 1.6048 - accuracy: 0.5878 - val_loss: 1.6325 - val_accuracy: 0.5859\n",
            "Epoch 6/20\n",
            "8982/8982 [==============================] - 17s 2ms/step - loss: 1.5056 - accuracy: 0.6173 - val_loss: 1.5387 - val_accuracy: 0.6180\n",
            "Epoch 7/20\n",
            "8982/8982 [==============================] - 17s 2ms/step - loss: 1.4020 - accuracy: 0.6458 - val_loss: 1.4753 - val_accuracy: 0.6411\n",
            "Epoch 8/20\n",
            "8982/8982 [==============================] - 17s 2ms/step - loss: 1.3147 - accuracy: 0.6638 - val_loss: 1.3984 - val_accuracy: 0.6505\n",
            "Epoch 9/20\n",
            "8982/8982 [==============================] - 17s 2ms/step - loss: 1.3130 - accuracy: 0.6609 - val_loss: 1.3732 - val_accuracy: 0.6576\n",
            "Epoch 10/20\n",
            "8982/8982 [==============================] - 17s 2ms/step - loss: 1.1988 - accuracy: 0.6922 - val_loss: 1.3286 - val_accuracy: 0.6652\n",
            "Epoch 11/20\n",
            "8982/8982 [==============================] - 17s 2ms/step - loss: 1.1228 - accuracy: 0.7129 - val_loss: 1.2800 - val_accuracy: 0.6714\n",
            "Epoch 12/20\n",
            "8982/8982 [==============================] - 17s 2ms/step - loss: 1.0750 - accuracy: 0.7270 - val_loss: 1.3152 - val_accuracy: 0.6656\n",
            "Epoch 13/20\n",
            "8982/8982 [==============================] - 17s 2ms/step - loss: 1.0329 - accuracy: 0.7363 - val_loss: 1.2398 - val_accuracy: 0.6901\n",
            "Epoch 14/20\n",
            "8982/8982 [==============================] - 16s 2ms/step - loss: 0.9859 - accuracy: 0.7472 - val_loss: 1.2353 - val_accuracy: 0.6866\n",
            "Epoch 15/20\n",
            "8982/8982 [==============================] - 17s 2ms/step - loss: 0.9354 - accuracy: 0.7659 - val_loss: 1.2163 - val_accuracy: 0.7012\n",
            "Epoch 16/20\n",
            "8982/8982 [==============================] - 17s 2ms/step - loss: 0.8932 - accuracy: 0.7747 - val_loss: 1.2334 - val_accuracy: 0.6919\n",
            "Epoch 17/20\n",
            "8982/8982 [==============================] - 17s 2ms/step - loss: 0.8524 - accuracy: 0.7858 - val_loss: 1.2180 - val_accuracy: 0.6999\n",
            "Epoch 18/20\n",
            "8982/8982 [==============================] - 17s 2ms/step - loss: 0.8047 - accuracy: 0.7984 - val_loss: 1.2058 - val_accuracy: 0.7057\n",
            "Epoch 19/20\n",
            "8982/8982 [==============================] - 16s 2ms/step - loss: 0.7702 - accuracy: 0.8057 - val_loss: 1.2134 - val_accuracy: 0.7106\n",
            "Epoch 20/20\n",
            "8982/8982 [==============================] - 17s 2ms/step - loss: 0.7523 - accuracy: 0.8097 - val_loss: 1.2187 - val_accuracy: 0.7110\n"
          ],
          "name": "stdout"
        }
      ]
    },
    {
      "cell_type": "code",
      "metadata": {
        "id": "kcw8hBgv9qmQ",
        "colab_type": "code",
        "colab": {
          "base_uri": "https://localhost:8080/",
          "height": 71
        },
        "outputId": "6d59efe0-1a0d-49fd-b215-77ad015a4382"
      },
      "source": [
        "print('\\n Test Accuracy:%.4f' %(model.evaluate(x_test, y_test)[1]))"
      ],
      "execution_count": 8,
      "outputs": [
        {
          "output_type": "stream",
          "text": [
            "2246/2246 [==============================] - 1s 494us/step\n",
            "\n",
            " Test Accuracy:0.7110\n"
          ],
          "name": "stdout"
        }
      ]
    },
    {
      "cell_type": "code",
      "metadata": {
        "id": "fiJ5PzSE9yc7",
        "colab_type": "code",
        "colab": {}
      },
      "source": [
        "y_vloss = history.history['val_loss']\n",
        "y_loss = history.history['loss']"
      ],
      "execution_count": 0,
      "outputs": []
    },
    {
      "cell_type": "code",
      "metadata": {
        "id": "ibX8_Iln94Tp",
        "colab_type": "code",
        "colab": {
          "base_uri": "https://localhost:8080/",
          "height": 279
        },
        "outputId": "f5e3cecc-2e0e-42a7-b4df-d1cf2ac90bad"
      },
      "source": [
        "x_len = numpy.arange(len(y_loss))\n",
        "plt.plot(x_len, y_vloss, marker='.', c='red', label='testset_loss')\n",
        "plt.plot(x_len, y_loss, marker='.', c='blue', label='trainset_loss')\n",
        "\n",
        "plt.legend(loc='upper right')\n",
        "plt.grid()\n",
        "plt.xlabel('eopch')\n",
        "plt.ylabel('loss')\n",
        "plt.show()"
      ],
      "execution_count": 10,
      "outputs": [
        {
          "output_type": "display_data",
          "data": {
            "image/png": "[encoded data removed]",
            "text/plain": [
              "<Figure size 432x288 with 1 Axes>"
            ]
          },
          "metadata": {
            "tags": [],
            "needs_background": "light"
          }
        }
      ]
    },
    {
      "cell_type": "code",
      "metadata": {
        "id": "7KO92ms8BHE_",
        "colab_type": "code",
        "colab": {}
      },
      "source": [
        "from keras.preprocessing import sequence\n",
        "from keras.models import Sequential\n",
        "from keras.layers import Dense, Dropout, Activation\n",
        "from keras.layers import Embedding\n",
        "from keras.layers import LSTM\n",
        "from keras.layers import Conv1D, MaxPooling1D\n",
        "from keras.datasets import imdb\n",
        "\n",
        "import numpy as np\n",
        "import tensorflow as tf\n",
        "import matplotlib.pyplot as plt"
      ],
      "execution_count": 0,
      "outputs": []
    },
    {
      "cell_type": "code",
      "metadata": {
        "id": "HI6k2FxiBb0b",
        "colab_type": "code",
        "colab": {}
      },
      "source": [
        "seed = 0\n",
        "np.random.seed(seed)\n",
        "tf.random.set_seed(3)"
      ],
      "execution_count": 0,
      "outputs": []
    },
    {
      "cell_type": "code",
      "metadata": {
        "id": "MZl3QdSKAcH8",
        "colab_type": "code",
        "colab": {
          "base_uri": "https://localhost:8080/",
          "height": 53
        },
        "outputId": "e0f0ffbf-1424-435f-edc3-9d078de247aa"
      },
      "source": [
        "(x_train, y_train), (x_test, y_test) = imdb.load_data(num_words=5000)\n",
        "\n",
        "x_train = sequence.pad_sequences(x_train, maxlen=100)\n",
        "x_test = sequence.pad_sequences(x_test, maxlen=100)"
      ],
      "execution_count": 16,
      "outputs": [
        {
          "output_type": "stream",
          "text": [
            "Downloading data from https://s3.amazonaws.com/text-datasets/imdb.npz\n",
            "17465344/17464789 [==============================] - 3s 0us/step\n"
          ],
          "name": "stdout"
        }
      ]
    },
    {
      "cell_type": "code",
      "metadata": {
        "id": "hDGX8OnkBgm3",
        "colab_type": "code",
        "colab": {}
      },
      "source": [
        "model = Sequential()\n",
        "model.add(Embedding(5000, 100))\n",
        "model.add(Dropout(0.5))\n",
        "model.add(Conv1D(64, 5, padding='valid', activation='relu', strides=1))\n",
        "model.add(MaxPooling1D(pool_size=4))\n",
        "model.add(LSTM(55))\n",
        "model.add(Dense(1))\n",
        "model.add(Activation('sigmoid'))"
      ],
      "execution_count": 0,
      "outputs": []
    },
    {
      "cell_type": "code",
      "metadata": {
        "id": "LzQ6EVMsBx2f",
        "colab_type": "code",
        "colab": {
          "base_uri": "https://localhost:8080/",
          "height": 413
        },
        "outputId": "2b351ae9-7896-432e-8ec5-5f0ce9cfd7b7"
      },
      "source": [
        "model.summary()"
      ],
      "execution_count": 20,
      "outputs": [
        {
          "output_type": "stream",
          "text": [
            "Model: \"sequential_3\"\n",
            "_________________________________________________________________\n",
            "Layer (type)                 Output Shape              Param #   \n",
            "=================================================================\n",
            "embedding_3 (Embedding)      (None, None, 100)         500000    \n",
            "_________________________________________________________________\n",
            "dropout_2 (Dropout)          (None, None, 100)         0         \n",
            "_________________________________________________________________\n",
            "conv1d_2 (Conv1D)            (None, None, 64)          32064     \n",
            "_________________________________________________________________\n",
            "max_pooling1d_1 (MaxPooling1 (None, None, 64)          0         \n",
            "_________________________________________________________________\n",
            "lstm_2 (LSTM)                (None, 55)                26400     \n",
            "_________________________________________________________________\n",
            "dense_2 (Dense)              (None, 1)                 56        \n",
            "_________________________________________________________________\n",
            "activation_1 (Activation)    (None, 1)                 0         \n",
            "=================================================================\n",
            "Total params: 558,520\n",
            "Trainable params: 558,520\n",
            "Non-trainable params: 0\n",
            "_________________________________________________________________\n"
          ],
          "name": "stdout"
        }
      ]
    },
    {
      "cell_type": "code",
      "metadata": {
        "id": "L0RthUG5B01u",
        "colab_type": "code",
        "colab": {}
      },
      "source": [
        "model.compile(loss='binary_crossentropy', optimizer='adam', metrics=['accuracy'])"
      ],
      "execution_count": 0,
      "outputs": []
    },
    {
      "cell_type": "code",
      "metadata": {
        "id": "_zGM_gKSB7Gf",
        "colab_type": "code",
        "colab": {
          "base_uri": "https://localhost:8080/",
          "height": 271
        },
        "outputId": "c1aa65a0-b969-41bb-9250-b9af0a6a82fb"
      },
      "source": [
        "history = model.fit(x_train, y_train, batch_size=100, epochs=5, validation_data=(x_test, y_test))"
      ],
      "execution_count": 22,
      "outputs": [
        {
          "output_type": "stream",
          "text": [
            "/usr/local/lib/python3.6/dist-packages/tensorflow/python/framework/indexed_slices.py:434: UserWarning: Converting sparse IndexedSlices to a dense Tensor of unknown shape. This may consume a large amount of memory.\n",
            "  \"Converting sparse IndexedSlices to a dense Tensor of unknown shape. \"\n"
          ],
          "name": "stderr"
        },
        {
          "output_type": "stream",
          "text": [
            "Train on 25000 samples, validate on 25000 samples\n",
            "Epoch 1/5\n",
            "25000/25000 [==============================] - 20s 811us/step - loss: 0.4583 - accuracy: 0.7632 - val_loss: 0.3369 - val_accuracy: 0.8544\n",
            "Epoch 2/5\n",
            "25000/25000 [==============================] - 15s 597us/step - loss: 0.2958 - accuracy: 0.8760 - val_loss: 0.3225 - val_accuracy: 0.8590\n",
            "Epoch 3/5\n",
            "25000/25000 [==============================] - 15s 592us/step - loss: 0.2512 - accuracy: 0.8997 - val_loss: 0.3229 - val_accuracy: 0.8592\n",
            "Epoch 4/5\n",
            "25000/25000 [==============================] - 15s 603us/step - loss: 0.2172 - accuracy: 0.9148 - val_loss: 0.3588 - val_accuracy: 0.8476\n",
            "Epoch 5/5\n",
            "25000/25000 [==============================] - 15s 597us/step - loss: 0.1805 - accuracy: 0.9312 - val_loss: 0.3507 - val_accuracy: 0.8540\n"
          ],
          "name": "stdout"
        }
      ]
    },
    {
      "cell_type": "code",
      "metadata": {
        "id": "oWdoCcKeCFQK",
        "colab_type": "code",
        "colab": {
          "base_uri": "https://localhost:8080/",
          "height": 71
        },
        "outputId": "02738132-a7fd-453a-e102-de560cdf19a1"
      },
      "source": [
        "print('\\n test accuracy:%.4f'%(model.evaluate(x_test, y_test)[1]))"
      ],
      "execution_count": 23,
      "outputs": [
        {
          "output_type": "stream",
          "text": [
            "25000/25000 [==============================] - 4s 173us/step\n",
            "\n",
            " test accuracy:0.8540\n"
          ],
          "name": "stdout"
        }
      ]
    },
    {
      "cell_type": "code",
      "metadata": {
        "id": "UsUrdoe3COhw",
        "colab_type": "code",
        "colab": {
          "base_uri": "https://localhost:8080/",
          "height": 279
        },
        "outputId": "64b1fa10-670e-4a42-8f55-846f8957662b"
      },
      "source": [
        "y_vloss = history.history['val_loss']\n",
        "y_loss = history.history['loss']\n",
        "\n",
        "x_len = np.arange(len(y_loss))\n",
        "plt.plot(x_len, y_vloss, marker='.', c='red', label='Testset_loss')\n",
        "plt.plot(x_len, y_loss, marker='.', c='blue', label='Trainset_loss')\n",
        "plt.legend(loc='upper right')\n",
        "plt.grid()\n",
        "plt.xlabel('eopch')\n",
        "plt.ylabel('loss')\n",
        "plt.show()"
      ],
      "execution_count": 24,
      "outputs": [
        {
          "output_type": "display_data",
          "data": {
            "image/png": "[encoded data removed]",
            "text/plain": [
              "<Figure size 432x288 with 1 Axes>"
            ]
          },
          "metadata": {
            "tags": [],
            "needs_background": "light"
          }
        }
      ]
    }
  ]
}