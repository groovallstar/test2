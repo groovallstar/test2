{
 "cells": [
  {
   "cell_type": "code",
   "execution_count": 1,
   "metadata": {},
   "outputs": [],
   "source": [
    "import torch\n",
    "import torch.nn as nn\n",
    "import torch.nn.functional as F\n",
    "import torch.optim as optim"
   ]
  },
  {
   "cell_type": "code",
   "execution_count": 4,
   "metadata": {
    "scrolled": true
   },
   "outputs": [
    {
     "name": "stdout",
     "output_type": "stream",
     "text": [
      "0 0.7118561863899231\n",
      "100 0.7118561863899231\n",
      "200 0.7118561863899231\n",
      "300 0.7118561863899231\n",
      "400 0.7118561863899231\n",
      "500 0.7118561863899231\n",
      "600 0.7118561863899231\n",
      "700 0.7118561863899231\n",
      "800 0.7118561863899231\n",
      "900 0.7118561863899231\n",
      "1000 0.7118561863899231\n",
      "1100 0.7118561863899231\n",
      "1200 0.7118561863899231\n",
      "1300 0.7118561863899231\n",
      "1400 0.7118561863899231\n",
      "1500 0.7118561863899231\n",
      "1600 0.7118561863899231\n",
      "1700 0.7118561863899231\n",
      "1800 0.7118561863899231\n",
      "1900 0.7118561863899231\n",
      "2000 0.7118561863899231\n",
      "2100 0.7118561863899231\n",
      "2200 0.7118561863899231\n",
      "2300 0.7118561863899231\n",
      "2400 0.7118561863899231\n",
      "2500 0.7118561863899231\n",
      "2600 0.7118561863899231\n",
      "2700 0.7118561863899231\n",
      "2800 0.7118561863899231\n",
      "2900 0.7118561863899231\n",
      "3000 0.7118561863899231\n",
      "3100 0.7118561863899231\n",
      "3200 0.7118561863899231\n",
      "3300 0.7118561863899231\n",
      "3400 0.7118561863899231\n",
      "3500 0.7118561863899231\n",
      "3600 0.7118561863899231\n",
      "3700 0.7118561863899231\n",
      "3800 0.7118561863899231\n",
      "3900 0.7118561863899231\n",
      "4000 0.7118561863899231\n",
      "4100 0.7118561863899231\n",
      "4200 0.7118561863899231\n",
      "4300 0.7118561863899231\n",
      "4400 0.7118561863899231\n",
      "4500 0.7118561863899231\n",
      "4600 0.7118561863899231\n",
      "4700 0.7118561863899231\n",
      "4800 0.7118561863899231\n",
      "4900 0.7118561863899231\n",
      "5000 0.7118561863899231\n",
      "5100 0.7118561863899231\n",
      "5200 0.7118561863899231\n",
      "5300 0.7118561863899231\n",
      "5400 0.7118561863899231\n",
      "5500 0.7118561863899231\n",
      "5600 0.7118561863899231\n",
      "5700 0.7118561863899231\n",
      "5800 0.7118561863899231\n",
      "5900 0.7118561863899231\n",
      "6000 0.7118561863899231\n",
      "6100 0.7118561863899231\n",
      "6200 0.7118561863899231\n",
      "6300 0.7118561863899231\n",
      "6400 0.7118561863899231\n",
      "6500 0.7118561863899231\n",
      "6600 0.7118561863899231\n",
      "6700 0.7118561863899231\n",
      "6800 0.7118561863899231\n",
      "6900 0.7118561863899231\n",
      "7000 0.7118561863899231\n",
      "7100 0.7118561863899231\n",
      "7200 0.7118561863899231\n",
      "7300 0.7118561863899231\n",
      "7400 0.7118561863899231\n",
      "7500 0.7118561863899231\n",
      "7600 0.7118561863899231\n",
      "7700 0.7118561863899231\n",
      "7800 0.7118561863899231\n",
      "7900 0.7118561863899231\n",
      "8000 0.7118561863899231\n",
      "8100 0.7118561863899231\n",
      "8200 0.7118561863899231\n",
      "8300 0.7118561863899231\n",
      "8400 0.7118561863899231\n",
      "8500 0.7118561863899231\n",
      "8600 0.7118561863899231\n",
      "8700 0.7118561863899231\n",
      "8800 0.7118561863899231\n",
      "8900 0.7118561863899231\n",
      "9000 0.7118561863899231\n",
      "9100 0.7118561863899231\n",
      "9200 0.7118561863899231\n",
      "9300 0.7118561863899231\n",
      "9400 0.7118561863899231\n",
      "9500 0.7118561863899231\n",
      "9600 0.7118561863899231\n",
      "9700 0.7118561863899231\n",
      "9800 0.7118561863899231\n",
      "9900 0.7118561863899231\n",
      "10000 0.7118561863899231\n"
     ]
    }
   ],
   "source": [
    "device = 'cpu'\n",
    "\n",
    "# linear regression에서의 xor 문제\n",
    "\n",
    "X = torch.FloatTensor([[0, 0], [0, 1], [1, 0], [1, 1]]).to(device)\n",
    "Y = torch.FloatTensor([[0], [1], [1], [0]]).to(device)\n",
    "\n",
    "# nn layers\n",
    "linear = torch.nn.Linear(2, 1, bias=True)\n",
    "sigmoid = torch.nn.Sigmoid()\n",
    "model = torch.nn.Sequential(linear, sigmoid).to(device)\n",
    "\n",
    "# define cost/loss & optimizer\n",
    "criterion = torch.nn.BCELoss().to(device)\n",
    "optimizer = torch.optim.SGD(model.parameters(), lr=1)\n",
    "\n",
    "for step in range(10001):\n",
    "    optimizer.zero_grad()\n",
    "    hypothesis = model(X)\n",
    "    \n",
    "    # cost/loss function\n",
    "    cost = criterion(hypothesis, Y)\n",
    "    cost.backward()\n",
    "    if step % 100 == 0:\n",
    "        print(step, cost.item())"
   ]
  },
  {
   "cell_type": "code",
   "execution_count": 6,
   "metadata": {
    "scrolled": true
   },
   "outputs": [
    {
     "data": {
      "text/plain": [
       "tensor([[0.6500]], grad_fn=<IndexBackward>)"
      ]
     },
     "execution_count": 6,
     "metadata": {},
     "output_type": "execute_result"
    }
   ],
   "source": [
    "hypothesis[[0.5]]"
   ]
  },
  {
   "cell_type": "markdown",
   "metadata": {},
   "source": [
    "Backpropagation\n",
    "\n",
    "multi layer perceptron xor"
   ]
  },
  {
   "cell_type": "code",
   "execution_count": 9,
   "metadata": {},
   "outputs": [],
   "source": [
    "device = 'cpu'\n",
    "\n",
    "def sigmoid(x):\n",
    "    # sigmoid function\n",
    "    return 1.0 / (1.0 + torch.exp(-x))\n",
    "    # return torch.div(torch.tensor(1), tensor.add(torch.tensor(1.0), torch.exp(-x)))\n",
    "\n",
    "def sigmoid_prime(x):\n",
    "    # derivative of the sigmoid function\n",
    "    return sigmoid(x) * (1 - sigmoid(x))"
   ]
  },
  {
   "cell_type": "code",
   "execution_count": 11,
   "metadata": {
    "scrolled": true
   },
   "outputs": [
    {
     "name": "stdout",
     "output_type": "stream",
     "text": [
      "0 0.7451378703117371\n",
      "100 0.6931540369987488\n",
      "200 0.6930513381958008\n",
      "300 0.6928601264953613\n",
      "400 0.6922528147697449\n",
      "500 0.6893191933631897\n",
      "600 0.6547914147377014\n",
      "700 0.3269822299480438\n",
      "800 0.10544420033693314\n",
      "900 0.05507203936576843\n",
      "1000 0.03625727444887161\n",
      "1100 0.02676403522491455\n",
      "1200 0.021114960312843323\n",
      "1300 0.017391886562108994\n",
      "1400 0.014762647449970245\n",
      "1500 0.012811291962862015\n",
      "1600 0.011307736858725548\n",
      "1700 0.010114990174770355\n",
      "1800 0.009146435186266899\n",
      "1900 0.008344762958586216\n",
      "2000 0.007670516148209572\n",
      "2100 0.007095780223608017\n",
      "2200 0.006600195076316595\n",
      "2300 0.006168554071336985\n",
      "2400 0.005789302289485931\n",
      "2500 0.005453477147966623\n",
      "2600 0.005154111888259649\n",
      "2700 0.004885541275143623\n",
      "2800 0.004643352702260017\n",
      "2900 0.004423798527568579\n",
      "3000 0.0042238999158144\n",
      "3100 0.004041116684675217\n",
      "3200 0.003873358713462949\n",
      "3300 0.0037188681308180094\n",
      "3400 0.003576128277927637\n",
      "3500 0.0034438774455338717\n",
      "3600 0.0033209151588380337\n",
      "3700 0.003206445835530758\n",
      "3800 0.003099449211731553\n",
      "3900 0.002999370452016592\n",
      "4000 0.0029055343475192785\n",
      "4100 0.002817296888679266\n",
      "4200 0.002734237816184759\n",
      "4300 0.0026559075340628624\n",
      "4400 0.0025819314178079367\n",
      "4500 0.002511875471100211\n",
      "4600 0.0024455441161990166\n",
      "4700 0.002382623264566064\n",
      "4800 0.0023227687925100327\n",
      "4900 0.002265860326588154\n",
      "5000 0.0022116582840681076\n",
      "5100 0.0021599833853542805\n",
      "5200 0.0021106558851897717\n",
      "5300 0.002063496271148324\n",
      "5400 0.0020183995366096497\n",
      "5500 0.0019752311054617167\n",
      "5600 0.0019338263664394617\n",
      "5700 0.0018941406160593033\n",
      "5800 0.001856038928963244\n",
      "5900 0.001819416880607605\n",
      "6000 0.0017842290690168738\n",
      "6100 0.0017503415001556277\n",
      "6200 0.0017177239060401917\n",
      "6300 0.0016862866468727589\n",
      "6400 0.001655984902754426\n",
      "6500 0.0016267737373709679\n",
      "6600 0.0015985185746103525\n",
      "6700 0.0015712346648797393\n",
      "6800 0.001544846803881228\n",
      "6900 0.001519370125606656\n",
      "7000 0.0014946851879358292\n",
      "7100 0.0014708215603604913\n",
      "7200 0.0014476599171757698\n",
      "7300 0.0014252301771193743\n",
      "7400 0.0014034872874617577\n",
      "7500 0.0013823866611346602\n",
      "7600 0.0013618834782391787\n",
      "7700 0.001342022093012929\n",
      "7800 0.0013227134477347136\n",
      "7900 0.0013039272744208574\n",
      "8000 0.001285693608224392\n",
      "8100 0.0012679527280852199\n",
      "8200 0.0012506747152656317\n",
      "8300 0.001233919057995081\n",
      "8400 0.0012175666633993387\n",
      "8500 0.0012016172986477613\n",
      "8600 0.0011861008824780583\n",
      "8700 0.0011709727114066482\n",
      "8800 0.0011562176514416933\n",
      "8900 0.0011418508365750313\n",
      "9000 0.0011278123129159212\n",
      "9100 0.0011141170980408788\n",
      "9200 0.001100750407204032\n",
      "9300 0.0010876971064135432\n",
      "9400 0.0010749422945082188\n",
      "9500 0.0010624860879033804\n",
      "9600 0.0010503283701837063\n",
      "9700 0.0010384541237726808\n",
      "9800 0.001026833662763238\n",
      "9900 0.001015452085994184\n",
      "10000 0.0010043689981102943\n"
     ]
    }
   ],
   "source": [
    "X = torch.FloatTensor([[0, 0], [0, 1], [1, 0], [1, 1]]).to(device)\n",
    "Y = torch.FloatTensor([[0], [1], [1], [0]]).to(device)\n",
    "\n",
    "# nn layers\n",
    "linear1 = torch.nn.Linear(2, 2, bias=True)\n",
    "linear2 = torch.nn.Linear(2, 1, bias=True)\n",
    "sigmoid = torch.nn.Sigmoid()\n",
    "model = torch.nn.Sequential(linear1, sigmoid, linear2, sigmoid).to(device)\n",
    "# define cost/loss & optimizer\n",
    "criterion = torch.nn.BCELoss().to(device)\n",
    "optimizer = torch.optim.SGD(model.parameters(), lr=1)\n",
    "for step in range(10001):\n",
    "    optimizer.zero_grad()\n",
    "    hypothesis = model(X)\n",
    "    # cost/loss function\n",
    "    cost = criterion(hypothesis, Y)\n",
    "    cost.backward()\n",
    "    optimizer.step()\n",
    "    if step % 100 == 0:\n",
    "        print(step, cost.item())"
   ]
  },
  {
   "cell_type": "code",
   "execution_count": 16,
   "metadata": {
    "scrolled": true
   },
   "outputs": [
    {
     "name": "stdout",
     "output_type": "stream",
     "text": [
      "\n",
      "Hypothesis:[[9.6170756e-04]\n",
      " [9.9867517e-01]\n",
      " [9.9910647e-01]\n",
      " [8.3527248e-04]] \n",
      "Correct:[[0.]\n",
      " [1.]\n",
      " [1.]\n",
      " [0.]] \n",
      "Accuracy:1.0\n"
     ]
    }
   ],
   "source": [
    "# Accuracy computation\n",
    "# True if hypothesis > 0.5 else False\n",
    "with torch.no_grad():\n",
    "    predicted = (model(X) > 0.5).float()\n",
    "    accuracy = (predicted == Y).float().mean()\n",
    "    print('\\nHypothesis:{} \\nCorrect:{} \\nAccuracy:{}'.format(\n",
    "    hypothesis.detach().cpu().numpy(), predicted.detach().cpu().numpy(),\n",
    "        accuracy.item()))"
   ]
  },
  {
   "cell_type": "markdown",
   "metadata": {},
   "source": [
    "xor layer wide deep"
   ]
  },
  {
   "cell_type": "code",
   "execution_count": 18,
   "metadata": {},
   "outputs": [],
   "source": [
    "import torch"
   ]
  },
  {
   "cell_type": "code",
   "execution_count": 19,
   "metadata": {},
   "outputs": [
    {
     "data": {
      "text/plain": [
       "<torch._C.Generator at 0x7f85480ecd50>"
      ]
     },
     "execution_count": 19,
     "metadata": {},
     "output_type": "execute_result"
    }
   ],
   "source": [
    "device = 'cpu'\n",
    "\n",
    "torch.manual_seed(777)"
   ]
  },
  {
   "cell_type": "code",
   "execution_count": 20,
   "metadata": {},
   "outputs": [],
   "source": [
    "X = torch.FloatTensor([[0, 0], [0, 1], [1, 0], [1, 1]]).to(device)\n",
    "Y = torch.FloatTensor([[0], [1], [1], [0]]).to(device)"
   ]
  },
  {
   "cell_type": "code",
   "execution_count": 21,
   "metadata": {},
   "outputs": [],
   "source": [
    "# nn layers\n",
    "linear1 = torch.nn.Linear(2, 10, bias=True)\n",
    "linear2 = torch.nn.Linear(10, 10, bias=True)\n",
    "linear3 = torch.nn.Linear(10, 10, bias=True)\n",
    "linear4 = torch.nn.Linear(10, 1, bias=True)\n",
    "sigmoid = torch.nn.Sigmoid()"
   ]
  },
  {
   "cell_type": "code",
   "execution_count": 22,
   "metadata": {},
   "outputs": [],
   "source": [
    "# model\n",
    "model = torch.nn.Sequential(\n",
    "    linear1, sigmoid, linear2, sigmoid, linear3, sigmoid, linear4, sigmoid).to(device)"
   ]
  },
  {
   "cell_type": "code",
   "execution_count": 23,
   "metadata": {},
   "outputs": [],
   "source": [
    "# define cost/loss & optimizer\n",
    "criterion = torch.nn.BCELoss().to(device)\n",
    "\n",
    "# modified learning rate from 0.1 to 1\n",
    "optimizer = torch.optim.SGD(model.parameters(), lr=1) "
   ]
  },
  {
   "cell_type": "code",
   "execution_count": 24,
   "metadata": {
    "scrolled": true
   },
   "outputs": [
    {
     "name": "stdout",
     "output_type": "stream",
     "text": [
      "0 0.6948983669281006\n",
      "100 0.693155825138092\n",
      "200 0.6931535601615906\n",
      "300 0.6931513547897339\n",
      "400 0.693149209022522\n",
      "500 0.6931473016738892\n",
      "600 0.6931453943252563\n",
      "700 0.6931434869766235\n",
      "800 0.6931416988372803\n",
      "900 0.6931397914886475\n",
      "1000 0.6931380033493042\n",
      "1100 0.6931361556053162\n",
      "1200 0.6931343078613281\n",
      "1300 0.6931324005126953\n",
      "1400 0.6931304931640625\n",
      "1500 0.6931284666061401\n",
      "1600 0.6931264400482178\n",
      "1700 0.6931242942810059\n",
      "1800 0.6931220889091492\n",
      "1900 0.6931197047233582\n",
      "2000 0.6931172013282776\n",
      "2100 0.6931145191192627\n",
      "2200 0.6931115984916687\n",
      "2300 0.6931084394454956\n",
      "2400 0.6931051015853882\n",
      "2500 0.6931014657020569\n",
      "2600 0.6930974721908569\n",
      "2700 0.6930930018424988\n",
      "2800 0.6930879950523376\n",
      "2900 0.6930825114250183\n",
      "3000 0.6930763721466064\n",
      "3100 0.6930692791938782\n",
      "3200 0.6930612325668335\n",
      "3300 0.6930519342422485\n",
      "3400 0.6930411458015442\n",
      "3500 0.6930283904075623\n",
      "3600 0.6930132508277893\n",
      "3700 0.6929951310157776\n",
      "3800 0.6929728984832764\n",
      "3900 0.6929453015327454\n",
      "4000 0.6929103136062622\n",
      "4100 0.6928649544715881\n",
      "4200 0.6928046941757202\n",
      "4300 0.6927220821380615\n",
      "4400 0.692604124546051\n",
      "4500 0.6924278736114502\n",
      "4600 0.6921480298042297\n",
      "4700 0.6916664838790894\n",
      "4800 0.690739631652832\n",
      "4900 0.6886204481124878\n",
      "5000 0.6820822358131409\n",
      "5100 0.6472561359405518\n",
      "5200 0.44997042417526245\n",
      "5300 0.04142440855503082\n",
      "5400 0.009738895110785961\n",
      "5500 0.005035953596234322\n",
      "5600 0.0032972178887575865\n",
      "5700 0.0024168307427316904\n",
      "5800 0.0018922428134828806\n",
      "5900 0.0015467554330825806\n",
      "6000 0.001303328899666667\n",
      "6100 0.0011231712996959686\n",
      "6200 0.0009848718764260411\n",
      "6300 0.0008755262824706733\n",
      "6400 0.000787071418017149\n",
      "6500 0.0007141333189792931\n",
      "6600 0.0006530550308525562\n",
      "6700 0.0006011504447087646\n",
      "6800 0.0005565842147916555\n",
      "6900 0.0005178644205443561\n",
      "7000 0.00048400633386336267\n",
      "7100 0.0004541150410659611\n",
      "7200 0.00042753416346386075\n",
      "7300 0.0004037863982375711\n",
      "7400 0.0003824243613053113\n",
      "7500 0.0003631050349213183\n",
      "7600 0.00034560466883704066\n",
      "7700 0.00032958033261820674\n",
      "7800 0.00031495740404352546\n",
      "7900 0.00030152720864862204\n",
      "8000 0.0002891554613597691\n",
      "8100 0.0002777229528874159\n",
      "8200 0.00026711029931902885\n",
      "8300 0.000257257983321324\n",
      "8400 0.0002480764815118164\n",
      "8500 0.00023949125898070633\n",
      "8600 0.0002314575540367514\n",
      "8700 0.0002239307068521157\n",
      "8800 0.0002168510400224477\n",
      "8900 0.00021021856809966266\n",
      "9000 0.00020391402358654886\n",
      "9100 0.0001979821245186031\n",
      "9200 0.00019239308312535286\n",
      "9300 0.00018708722200244665\n",
      "9400 0.00018206457025371492\n",
      "9500 0.00017725062207318842\n",
      "9600 0.00017273474077228457\n",
      "9700 0.00016841263277456164\n",
      "9800 0.00016429921379312873\n",
      "9900 0.00016036465240176767\n",
      "10000 0.0001565940328873694\n"
     ]
    }
   ],
   "source": [
    "for step in range(10001):\n",
    "    optimizer.zero_grad()\n",
    "    hypothesis = model(X)\n",
    "    \n",
    "    # cost / loss function\n",
    "    cost = criterion(hypothesis, Y)\n",
    "    cost.backward()\n",
    "    optimizer.step()\n",
    "    \n",
    "    if step % 100 == 0:\n",
    "        print(step, cost.item())"
   ]
  },
  {
   "cell_type": "code",
   "execution_count": 25,
   "metadata": {
    "scrolled": true
   },
   "outputs": [
    {
     "name": "stdout",
     "output_type": "stream",
     "text": [
      "\n",
      "Hypothesis:[[1.1176536e-04]\n",
      " [9.9982870e-01]\n",
      " [9.9984217e-01]\n",
      " [1.8542685e-04]] \n",
      "Correct:[[0.]\n",
      " [1.]\n",
      " [1.]\n",
      " [0.]] \n",
      "Accuracy:1.0\n"
     ]
    }
   ],
   "source": [
    "# Accuracy computation\n",
    "# True if hypothesis > 0.5 else False\n",
    "with torch.no_grad():\n",
    "    predicted = (model(X) > 0.5).float()\n",
    "    accuracy = (predicted == Y).float().mean()\n",
    "    print('\\nHypothesis:{} \\nCorrect:{} \\nAccuracy:{}'.format(\n",
    "    hypothesis.detach().cpu().numpy(), predicted.detach().cpu().numpy(), accuracy.item()))"
   ]
  },
  {
   "cell_type": "markdown",
   "metadata": {},
   "source": [
    "MNIST and softmax"
   ]
  },
  {
   "cell_type": "code",
   "execution_count": 27,
   "metadata": {},
   "outputs": [],
   "source": [
    "import torch\n",
    "import torchvision.datasets as dsets\n",
    "import torchvision.transforms as transforms\n",
    "import random"
   ]
  },
  {
   "cell_type": "code",
   "execution_count": 29,
   "metadata": {},
   "outputs": [
    {
     "data": {
      "text/plain": [
       "<torch._C.Generator at 0x7f85480ecd50>"
      ]
     },
     "execution_count": 29,
     "metadata": {},
     "output_type": "execute_result"
    }
   ],
   "source": [
    "device = 'cpu'\n",
    "\n",
    "# for reproducibility\n",
    "random.seed(777)\n",
    "torch.manual_seed(777)"
   ]
  },
  {
   "cell_type": "code",
   "execution_count": 30,
   "metadata": {},
   "outputs": [],
   "source": [
    "# parameters\n",
    "learning_rate = 0.001\n",
    "training_epochs = 15\n",
    "batch_size = 100"
   ]
  },
  {
   "cell_type": "code",
   "execution_count": 31,
   "metadata": {},
   "outputs": [],
   "source": [
    "# MNIST dataset\n",
    "mnist_train = dsets.MNIST(root='MNIST_data/', train=True, \n",
    "                          transform=transforms.ToTensor(), download=False)\n",
    "mnist_test = dsets.MNIST(root='MNIST_data/', train=False,\n",
    "                        transform=transforms.ToTensor(), download=False)"
   ]
  },
  {
   "cell_type": "code",
   "execution_count": 32,
   "metadata": {},
   "outputs": [],
   "source": [
    "# dataset loader\n",
    "data_loader = torch.utils.data.DataLoader(dataset=mnist_train,\n",
    "                                         batch_size=batch_size,\n",
    "                                         shuffle=True,\n",
    "                                         drop_last=True)"
   ]
  },
  {
   "cell_type": "code",
   "execution_count": 33,
   "metadata": {},
   "outputs": [],
   "source": [
    "# MNIST data image of shape 28 * 28 = 784\n",
    "linear = torch.nn.Linear(784, 10, bias=True).to(device)"
   ]
  },
  {
   "cell_type": "code",
   "execution_count": 34,
   "metadata": {},
   "outputs": [],
   "source": [
    "# define cost / loss & optimizer\n",
    "criterion = torch.nn.CrossEntropyLoss().to(device)\n",
    "optimizer = torch.optim.Adam(linear.parameters(), lr=learning_rate)"
   ]
  },
  {
   "cell_type": "code",
   "execution_count": 36,
   "metadata": {},
   "outputs": [
    {
     "name": "stdout",
     "output_type": "stream",
     "text": [
      "Epoch:   1 cost=0.343994468\n",
      "Epoch:   2 cost=0.307820618\n",
      "Epoch:   3 cost=0.291483343\n",
      "Epoch:   4 cost=0.281717300\n",
      "Epoch:   5 cost=0.274238139\n",
      "Epoch:   6 cost=0.269270718\n",
      "Epoch:   7 cost=0.265026152\n",
      "Epoch:   8 cost=0.261815310\n",
      "Epoch:   9 cost=0.258980602\n",
      "Epoch:  10 cost=0.256636560\n",
      "Epoch:  11 cost=0.254542679\n",
      "Epoch:  12 cost=0.252477616\n",
      "Epoch:  13 cost=0.251285672\n",
      "Epoch:  14 cost=0.249446630\n",
      "Epoch:  15 cost=0.248537228\n"
     ]
    }
   ],
   "source": [
    "total_batch = len(data_loader)\n",
    "for epoch in range(training_epochs):\n",
    "    avg_cost = 0\n",
    "    \n",
    "    for X, Y in data_loader:\n",
    "        # reshape input image into [batch_size by 784]\n",
    "        # label is not one-hot encoded\n",
    "        X = X.view(-1, 28 * 28).to(device)\n",
    "        Y = Y.to(device)\n",
    "        \n",
    "        optimizer.zero_grad()\n",
    "        hypothesis = linear(X)\n",
    "        cost = criterion(hypothesis, Y)\n",
    "        cost.backward()\n",
    "        optimizer.step()\n",
    "        \n",
    "        avg_cost += cost / total_batch\n",
    "        \n",
    "    print('Epoch:{:4d} cost={:.9f}'.format(epoch+1, avg_cost))"
   ]
  },
  {
   "cell_type": "code",
   "execution_count": 37,
   "metadata": {
    "scrolled": false
   },
   "outputs": [
    {
     "name": "stdout",
     "output_type": "stream",
     "text": [
      "Accuracy: 0.8980000019073486\n",
      "Label: 8\n",
      "Prediction:  3\n"
     ]
    },
    {
     "name": "stderr",
     "output_type": "stream",
     "text": [
      "/opt/conda/lib/python3.7/site-packages/torchvision/datasets/mnist.py:60: UserWarning: test_data has been renamed data\n",
      "  warnings.warn(\"test_data has been renamed data\")\n",
      "/opt/conda/lib/python3.7/site-packages/torchvision/datasets/mnist.py:50: UserWarning: test_labels has been renamed targets\n",
      "  warnings.warn(\"test_labels has been renamed targets\")\n"
     ]
    }
   ],
   "source": [
    "# Test the model using test sets\n",
    "with torch.no_grad():\n",
    "    X_test = mnist_test.test_data.view(-1, 28 * 28).float().to(device)\n",
    "    Y_test = mnist_test.test_labels.to(device)\n",
    "    \n",
    "    prediction = linear(X_test)\n",
    "    correct_prediction = torch.argmax(prediction, 1) == Y_test\n",
    "    accuracy = correct_prediction.float().mean()\n",
    "    print('Accuracy:', accuracy.item())\n",
    "    \n",
    "    # Get one and predict\n",
    "    r = random.randint(0, len(mnist_test) - 1)\n",
    "    X_single_data = mnist_test.test_data[r:r+1].view(-1, 28*28).float().to(device)\n",
    "    Y_single_data = mnist_test.test_labels[r:r+1].to(device)\n",
    "    \n",
    "    print('Label:', Y_single_data.item())\n",
    "    single_prediction = linear(X_single_data)\n",
    "    print('Prediction: ', torch.argmax(single_prediction, 1).item())"
   ]
  },
  {
   "cell_type": "code",
   "execution_count": 38,
   "metadata": {},
   "outputs": [],
   "source": [
    "import torch\n",
    "import torchvision.datasets as dsets\n",
    "import torchvision.transforms as transforms\n",
    "import random"
   ]
  },
  {
   "cell_type": "code",
   "execution_count": 39,
   "metadata": {},
   "outputs": [
    {
     "data": {
      "text/plain": [
       "<torch._C.Generator at 0x7f85480ecd50>"
      ]
     },
     "execution_count": 39,
     "metadata": {},
     "output_type": "execute_result"
    }
   ],
   "source": [
    "device = 'cpu'\n",
    "\n",
    "# for reproducibility\n",
    "random.seed(777)\n",
    "torch.manual_seed(777)"
   ]
  },
  {
   "cell_type": "code",
   "execution_count": 40,
   "metadata": {},
   "outputs": [],
   "source": [
    "# parameters\n",
    "learning_rate = 0.001\n",
    "training_epochs = 15\n",
    "batch_size = 100"
   ]
  },
  {
   "cell_type": "code",
   "execution_count": 41,
   "metadata": {},
   "outputs": [],
   "source": [
    "# MNIST dataset\n",
    "mnist_train = dsets.MNIST(root='MNIST_data/', train=True,\n",
    "                         transform=transforms.ToTensor(), download=False)\n",
    "mnist_test = dsets.MNIST(root='MNIST_data/', train=False,\n",
    "                        transform=transforms.ToTensor(), download=False)"
   ]
  },
  {
   "cell_type": "code",
   "execution_count": 42,
   "metadata": {},
   "outputs": [],
   "source": [
    "# dataset loader\n",
    "data_loader = torch.utils.data.DataLoader(dataset=mnist_train, batch_size=batch_size,\n",
    "                                         shuffle=True, drop_last=True)"
   ]
  },
  {
   "cell_type": "code",
   "execution_count": 43,
   "metadata": {},
   "outputs": [],
   "source": [
    "# nn layer\n",
    "linear1 = torch.nn.Linear(784, 256, bias=True)\n",
    "linear2 = torch.nn.Linear(256, 256, bias=True)\n",
    "linear3 = torch.nn.Linear(256, 10, bias=True)\n",
    "relu = torch.nn.ReLU()"
   ]
  },
  {
   "cell_type": "code",
   "execution_count": 44,
   "metadata": {},
   "outputs": [],
   "source": [
    "# model\n",
    "model = torch.nn.Sequential(linear1, relu, linear2, relu, linear3).to(device)"
   ]
  },
  {
   "cell_type": "code",
   "execution_count": 45,
   "metadata": {},
   "outputs": [],
   "source": [
    "# define cost/loss & optimizer\n",
    "criterion = torch.nn.CrossEntropyLoss().to(device) # Softmax is internally computed.\n",
    "optimizer = torch.optim.Adam(model.parameters(), lr=learning_rate)"
   ]
  },
  {
   "cell_type": "code",
   "execution_count": 46,
   "metadata": {},
   "outputs": [
    {
     "name": "stdout",
     "output_type": "stream",
     "text": [
      "Epoch:   1 cost=0.299479008\n",
      "Epoch:   2 cost=0.113240473\n",
      "Epoch:   3 cost=0.074762076\n",
      "Epoch:   4 cost=0.052584752\n",
      "Epoch:   5 cost=0.039365269\n",
      "Epoch:   6 cost=0.032745536\n",
      "Epoch:   7 cost=0.024994651\n",
      "Epoch:   8 cost=0.020501047\n",
      "Epoch:   9 cost=0.015161810\n",
      "Epoch:  10 cost=0.016724948\n",
      "Epoch:  11 cost=0.013777495\n",
      "Epoch:  12 cost=0.011601809\n",
      "Epoch:  13 cost=0.011742353\n",
      "Epoch:  14 cost=0.012885894\n",
      "Epoch:  15 cost=0.006777435\n"
     ]
    }
   ],
   "source": [
    "total_batch = len(data_loader)\n",
    "for epoch in range(training_epochs):\n",
    "    avg_cost = 0\n",
    "    \n",
    "    for X, Y in data_loader:\n",
    "        # reshape input image into [batch_size by 784]\n",
    "        # label is not one-hot encoded\n",
    "        X = X.view(-1, 28 * 28).to(device)\n",
    "        Y = Y.to(device)\n",
    "        \n",
    "        optimizer.zero_grad()\n",
    "        hypothesis = model(X)\n",
    "        cost = criterion(hypothesis, Y)\n",
    "        cost.backward()\n",
    "        optimizer.step()\n",
    "        \n",
    "        avg_cost += cost / total_batch\n",
    "    \n",
    "    print('Epoch:{:4d} cost={:.9f}'.format(epoch+1, avg_cost))"
   ]
  },
  {
   "cell_type": "code",
   "execution_count": 47,
   "metadata": {
    "scrolled": true
   },
   "outputs": [
    {
     "name": "stdout",
     "output_type": "stream",
     "text": [
      "Accuracy: 0.9778000116348267\n",
      "Label:  8\n",
      "Prediction:  8\n"
     ]
    }
   ],
   "source": [
    "# Test the model using test sets\n",
    "with torch.no_grad():\n",
    "    X_test = mnist_test.test_data.view(-1, 28*28).float().to(device)\n",
    "    Y_test = mnist_test.test_labels.to(device)\n",
    "    \n",
    "    prediction = model(X_test)\n",
    "    correct_prediction = torch.argmax(prediction, 1) == Y_test\n",
    "    accuracy = correct_prediction.float().mean()\n",
    "    print('Accuracy:', accuracy.item())\n",
    "    \n",
    "    # Get one and predict\n",
    "    r = random.randint(0, len(mnist_test)-1)\n",
    "    X_single_data = mnist_test.test_data[r:r+1].view(-1, 28*28).float().to(device)\n",
    "    Y_single_data = mnist_test.test_labels[r:r+1].to(device)\n",
    "    \n",
    "    print('Label: ', Y_single_data.item())\n",
    "    single_prediction = model(X_single_data)\n",
    "    print('Prediction: ', torch.argmax(single_prediction, 1).item())"
   ]
  },
  {
   "cell_type": "markdown",
   "metadata": {},
   "source": [
    "Weight Initialization\n",
    "\n",
    "nn xavier 방식"
   ]
  },
  {
   "cell_type": "code",
   "execution_count": 49,
   "metadata": {},
   "outputs": [],
   "source": [
    "import torch\n",
    "import torchvision.datasets as dsets\n",
    "import torchvision.transforms as transforms\n",
    "import random"
   ]
  },
  {
   "cell_type": "code",
   "execution_count": 50,
   "metadata": {},
   "outputs": [
    {
     "data": {
      "text/plain": [
       "<torch._C.Generator at 0x7f85480ecd50>"
      ]
     },
     "execution_count": 50,
     "metadata": {},
     "output_type": "execute_result"
    }
   ],
   "source": [
    "device = 'cpu'\n",
    "\n",
    "random.seed(777)\n",
    "torch.manual_seed(777)"
   ]
  },
  {
   "cell_type": "code",
   "execution_count": 51,
   "metadata": {},
   "outputs": [],
   "source": [
    "# parameters\n",
    "learning_rate = 0.001\n",
    "training_epochs = 15\n",
    "batch_size = 100"
   ]
  },
  {
   "cell_type": "code",
   "execution_count": null,
   "metadata": {},
   "outputs": [],
   "source": [
    "# MNIST dataset"
   ]
  }
 ],
 "metadata": {
  "kernelspec": {
   "display_name": "Python 3",
   "language": "python",
   "name": "python3"
  },
  "language_info": {
   "codemirror_mode": {
    "name": "ipython",
    "version": 3
   },
   "file_extension": ".py",
   "mimetype": "text/x-python",
   "name": "python",
   "nbconvert_exporter": "python",
   "pygments_lexer": "ipython3",
   "version": "3.7.7"
  }
 },
 "nbformat": 4,
 "nbformat_minor": 4
}
