{
  "nbformat": 4,
  "nbformat_minor": 0,
  "metadata": {
    "colab": {
      "name": "linear_regression.ipynb",
      "provenance": [],
      "collapsed_sections": []
    },
    "kernelspec": {
      "name": "python3",
      "display_name": "Python 3"
    }
  },
  "cells": [
    {
      "cell_type": "code",
      "metadata": {
        "id": "S5UkKiu_Ajb1",
        "colab_type": "code",
        "colab": {}
      },
      "source": [
        "import numpy as np\n",
        "x = [2, 4, 6, 8]\n",
        "y = [81, 93, 91, 97]"
      ],
      "execution_count": 0,
      "outputs": []
    },
    {
      "cell_type": "code",
      "metadata": {
        "id": "EurMz97LApcE",
        "colab_type": "code",
        "colab": {}
      },
      "source": [
        "mx = np.mean(x)\n",
        "my = np.mean(y)"
      ],
      "execution_count": 0,
      "outputs": []
    },
    {
      "cell_type": "code",
      "metadata": {
        "id": "3gqt-wqkArdE",
        "colab_type": "code",
        "colab": {
          "base_uri": "https://localhost:8080/",
          "height": 35
        },
        "outputId": "7b8cf388-835d-4e65-e9fc-427477c68fe9"
      },
      "source": [
        "mx, my"
      ],
      "execution_count": 3,
      "outputs": [
        {
          "output_type": "execute_result",
          "data": {
            "text/plain": [
              "(5.0, 90.5)"
            ]
          },
          "metadata": {
            "tags": []
          },
          "execution_count": 3
        }
      ]
    },
    {
      "cell_type": "code",
      "metadata": {
        "id": "LHXyWKhqAsss",
        "colab_type": "code",
        "colab": {}
      },
      "source": [
        "# (x - x평균)**2의 합\n",
        "divisor = sum([(i-mx)**2 for i in x])"
      ],
      "execution_count": 0,
      "outputs": []
    },
    {
      "cell_type": "code",
      "metadata": {
        "id": "pl_bcjQ8A0nc",
        "colab_type": "code",
        "colab": {
          "base_uri": "https://localhost:8080/",
          "height": 35
        },
        "outputId": "b715db90-fe98-49cf-ab4b-11502a030ee3"
      },
      "source": [
        "divisor"
      ],
      "execution_count": 5,
      "outputs": [
        {
          "output_type": "execute_result",
          "data": {
            "text/plain": [
              "20.0"
            ]
          },
          "metadata": {
            "tags": []
          },
          "execution_count": 5
        }
      ]
    },
    {
      "cell_type": "code",
      "metadata": {
        "id": "_gxBpQY-A97F",
        "colab_type": "code",
        "colab": {}
      },
      "source": [
        "# (x - x평균) * (y - y평균)의 합\n",
        "def top(x, mx, y, my):\n",
        "  d = 0\n",
        "  for i in range(len(x)):\n",
        "    d += (x[i] - mx) * (y[i] - my)\n",
        "  return d\n",
        "dividend = top(x, mx, y, my)"
      ],
      "execution_count": 0,
      "outputs": []
    },
    {
      "cell_type": "code",
      "metadata": {
        "id": "CwB8KpVuBLn3",
        "colab_type": "code",
        "colab": {
          "base_uri": "https://localhost:8080/",
          "height": 35
        },
        "outputId": "f4c46c19-041e-4d5c-e606-a247b705dc7d"
      },
      "source": [
        "dividend"
      ],
      "execution_count": 9,
      "outputs": [
        {
          "output_type": "execute_result",
          "data": {
            "text/plain": [
              "46.0"
            ]
          },
          "metadata": {
            "tags": []
          },
          "execution_count": 9
        }
      ]
    },
    {
      "cell_type": "code",
      "metadata": {
        "id": "MR-MGo7_BV9Q",
        "colab_type": "code",
        "colab": {}
      },
      "source": [
        "a = dividend / divisor # 최소제곱법\n",
        "b = my - (mx * a) # y의 평균 - (x의 평균 * 기울기 a)"
      ],
      "execution_count": 0,
      "outputs": []
    },
    {
      "cell_type": "code",
      "metadata": {
        "id": "pN2xLipLBeq7",
        "colab_type": "code",
        "colab": {
          "base_uri": "https://localhost:8080/",
          "height": 53
        },
        "outputId": "c9957134-f993-47f2-ce04-210b22cf26ac"
      },
      "source": [
        "print('기울기:',a)\n",
        "print('절편:', b)"
      ],
      "execution_count": 14,
      "outputs": [
        {
          "output_type": "stream",
          "text": [
            "기울기: 2.3\n",
            "절편: 79.0\n"
          ],
          "name": "stdout"
        }
      ]
    },
    {
      "cell_type": "code",
      "metadata": {
        "id": "KQ1GGBWQCXnu",
        "colab_type": "code",
        "colab": {}
      },
      "source": [
        "fake_a_b = [3, 76]"
      ],
      "execution_count": 0,
      "outputs": []
    },
    {
      "cell_type": "code",
      "metadata": {
        "id": "R26zI2CCCa2k",
        "colab_type": "code",
        "colab": {}
      },
      "source": [
        "data = [[2, 81], [4, 93], [6, 91], [8, 97]]\n",
        "x = [i[0] for i in data]\n",
        "y = [i[1] for i in data]"
      ],
      "execution_count": 0,
      "outputs": []
    },
    {
      "cell_type": "code",
      "metadata": {
        "id": "YL4xqIOnCkOk",
        "colab_type": "code",
        "colab": {}
      },
      "source": [
        "# y = ax + b\n",
        "def predict(x):\n",
        "  return fake_a_b[0] * x + fake_a_b[1]"
      ],
      "execution_count": 0,
      "outputs": []
    },
    {
      "cell_type": "markdown",
      "metadata": {
        "id": "-y5VUERHDCt_",
        "colab_type": "text"
      },
      "source": [
        "$$ mse = \\frac{1}{n}\\sum{(\\hat y_i-y_i)^2}$$"
      ]
    },
    {
      "cell_type": "code",
      "metadata": {
        "id": "Jr_bYtLnCtP8",
        "colab_type": "code",
        "colab": {}
      },
      "source": [
        "def mse(y_hat, y):\n",
        "  return ((y_hat - y)**2).mean()"
      ],
      "execution_count": 0,
      "outputs": []
    },
    {
      "cell_type": "code",
      "metadata": {
        "id": "SU6SmF7rC6jT",
        "colab_type": "code",
        "colab": {}
      },
      "source": [
        "def mse_val(predict_result, y):\n",
        "  return mse(np.array(predict_result), np.array(y))"
      ],
      "execution_count": 0,
      "outputs": []
    },
    {
      "cell_type": "code",
      "metadata": {
        "id": "lU0aJQvcEFeO",
        "colab_type": "code",
        "colab": {
          "base_uri": "https://localhost:8080/",
          "height": 107
        },
        "outputId": "f8f2b821-3e3c-4c3f-a42f-0df6a50b5b54"
      },
      "source": [
        "# 예측 값이 들어갈 빈 리스트\n",
        "predict_result = []\n",
        "\n",
        "# 모든 x값을 한번 씩 대입하여\n",
        "for i in range(len(x)):\n",
        "  # 그 결과에 해당하는 predict_result 리스트를 완성\n",
        "  predict_result.append(predict(x[i]))\n",
        "  print('시간=%.f, 실제=%.f, 예측=%.f' % (x[i], y[i], predict(x[i])))\n",
        "\n",
        "print('mse :'+str(mse_val(predict_result, y)))"
      ],
      "execution_count": 22,
      "outputs": [
        {
          "output_type": "stream",
          "text": [
            "시간=2, 실제=81, 예측=82\n",
            "시간=4, 실제=93, 예측=88\n",
            "시간=6, 실제=91, 예측=94\n",
            "시간=8, 실제=97, 예측=100\n",
            "mse :11.0\n"
          ],
          "name": "stdout"
        }
      ]
    },
    {
      "cell_type": "markdown",
      "metadata": {
        "id": "5z1pBnL7H1Pj",
        "colab_type": "text"
      },
      "source": [
        "$$ y_i = ax_i + b 를 대입할 경우 $$\n",
        "$$ \\frac{1}{n}\\sum{((ax_i+b)-y_i)^2}$$\n",
        "- 합성함수 미분법 : 겉미분 * 속미분\n",
        "$$ a로 편미분 한 결과 = \\frac{2}{n}\\sum{(ax_i + b - y_i)x_i} $$\n",
        "$$ b로 편미분 한 결과 = \\frac{2}{n}\\sum{(ax_i + b - y_i)}$$"
      ]
    },
    {
      "cell_type": "code",
      "metadata": {
        "id": "435OjGLGIsbr",
        "colab_type": "code",
        "colab": {
          "base_uri": "https://localhost:8080/",
          "height": 946
        },
        "outputId": "d37b0853-d63f-4c1f-e44e-270b5910ccbc"
      },
      "source": [
        "import numpy as np\n",
        "import pandas as pd\n",
        "import matplotlib.pyplot as plt\n",
        "\n",
        "# 공부시간 x와 성적 y의 리스트 만들기\n",
        "data = [[2, 81], [4, 93], [6, 91], [8, 97]]\n",
        "x = [i[0] for i in data]\n",
        "y = [i[1] for i in data]\n",
        "\n",
        "# 그래프\n",
        "plt.figure(figsize=(8, 5))\n",
        "plt.scatter(x, y)\n",
        "plt.show()\n",
        "\n",
        "# 리스트로 되어 있는 x와 y 값을 넘파이 배열로 바꾸기\n",
        "x_data = np.array(x)\n",
        "y_data = np.array(y)\n",
        "\n",
        "# 기울기 a와 절편 b의 값 초기화\n",
        "a = 0\n",
        "b = 0\n",
        "\n",
        "# 학습률\n",
        "lr = 0.05\n",
        "\n",
        "# 몇번 반복될지 설정\n",
        "epochs = 2001\n",
        "\n",
        "# 경사 하강법\n",
        "for i in range(epochs):\n",
        "  y_pred = a * x_data + b # 오차 함수인 y = ax + b를 정의한 부분\n",
        "  error = y_data - y_pred # 실제값 - 예측값, 즉 오차를 구하는 식\n",
        "  \n",
        "  a_diff = -(1 / len(x_data)) * sum(x_data * (error)) # 평균 제곱 오차를 a로 미분한 결과\n",
        "  b_diff = -(1 / len(x_data)) * sum(y_data - y_pred) # 평균 제곱 오차를 b로 미분한 결과\n",
        "\n",
        "  a = a - lr * a_diff # 학습률을 곱해 기존의 a값 업데이트\n",
        "  b = b - lr * b_diff # 학습률을 곱해 기존의 b값 업데이트\n",
        "\n",
        "  # 100번 반복될 때마다 현재의 a값, b값 출력\n",
        "  if i % 100 == 0:\n",
        "    print('epoch=%f, 기울기=%.04f, 절편=%.04f' %(i, a, b))\n",
        "\n",
        "y_pred = a * x_data + b\n",
        "plt.scatter(x, y)\n",
        "plt.plot([min(x_data), max(x_data)], [min(y_pred), max(y_pred)])\n",
        "plt.show()"
      ],
      "execution_count": 26,
      "outputs": [
        {
          "output_type": "display_data",
          "data": {
            "image/png": "[encoded data removed]",
            "text/plain": [
              "<Figure size 576x360 with 1 Axes>"
            ]
          },
          "metadata": {
            "tags": [],
            "needs_background": "light"
          }
        },
        {
          "output_type": "stream",
          "text": [
            "epoch=0.000000, 기울기=23.2000, 절편=4.5250\n",
            "epoch=100.000000, 기울기=7.9316, 절편=45.3932\n",
            "epoch=200.000000, 기울기=4.7953, 절편=64.1094\n",
            "epoch=300.000000, 기울기=3.4056, 절편=72.4022\n",
            "epoch=400.000000, 기울기=2.7899, 절편=76.0766\n",
            "epoch=500.000000, 기울기=2.5171, 절편=77.7047\n",
            "epoch=600.000000, 기울기=2.3962, 절편=78.4261\n",
            "epoch=700.000000, 기울기=2.3426, 절편=78.7457\n",
            "epoch=800.000000, 기울기=2.3189, 절편=78.8873\n",
            "epoch=900.000000, 기울기=2.3084, 절편=78.9501\n",
            "epoch=1000.000000, 기울기=2.3037, 절편=78.9779\n",
            "epoch=1100.000000, 기울기=2.3016, 절편=78.9902\n",
            "epoch=1200.000000, 기울기=2.3007, 절편=78.9957\n",
            "epoch=1300.000000, 기울기=2.3003, 절편=78.9981\n",
            "epoch=1400.000000, 기울기=2.3001, 절편=78.9991\n",
            "epoch=1500.000000, 기울기=2.3001, 절편=78.9996\n",
            "epoch=1600.000000, 기울기=2.3000, 절편=78.9998\n",
            "epoch=1700.000000, 기울기=2.3000, 절편=78.9999\n",
            "epoch=1800.000000, 기울기=2.3000, 절편=79.0000\n",
            "epoch=1900.000000, 기울기=2.3000, 절편=79.0000\n",
            "epoch=2000.000000, 기울기=2.3000, 절편=79.0000\n"
          ],
          "name": "stdout"
        },
        {
          "output_type": "display_data",
          "data": {
            "image/png": "[encoded data removed]",
            "text/plain": [
              "<Figure size 432x288 with 1 Axes>"
            ]
          },
          "metadata": {
            "tags": [],
            "needs_background": "light"
          }
        }
      ]
    },
    {
      "cell_type": "code",
      "metadata": {
        "id": "37wWzt6_Nche",
        "colab_type": "code",
        "colab": {
          "base_uri": "https://localhost:8080/",
          "height": 626
        },
        "outputId": "bfee93a4-fa55-4d3e-ff07-baacacbc2ee4"
      },
      "source": [
        "import numpy as np\n",
        "import pandas as pd\n",
        "import matplotlib.pyplot as plt\n",
        "from mpl_toolkits import mplot3d\n",
        "\n",
        "# 공부 시간 x와 성적 리스트 만들기\n",
        "data = [[2, 0, 81], [4, 4, 93], [6, 2, 91], [8, 3, 97]]\n",
        "x1 = [i[0] for i in data]\n",
        "x2 = [i[1] for i in data]\n",
        "y = [i[2] for i in data]\n",
        "\n",
        "# 그래프로 확인\n",
        "ax = plt.axes(projection='3d')\n",
        "ax.set_xlabel('study_hours')\n",
        "ax.set_ylabel('private_class')\n",
        "ax.set_zlabel('score')\n",
        "ax.dist = 11\n",
        "ax.scatter(x1, x2, y)\n",
        "plt.show()\n",
        "\n",
        "# 리스트로 되어 있는 x와 y값을 numpy배열로 바꾸기\n",
        "x1_data = np.array(x1)\n",
        "x2_data = np.array(x2)\n",
        "y_data = np.array(y)\n",
        "\n",
        "# 기울기 a와 절편 b의 값 초기화\n",
        "a1 = 0\n",
        "a2 = 0\n",
        "b = 0\n",
        "\n",
        "# learning rate\n",
        "lr = 0.05\n",
        "\n",
        "# epochs\n",
        "epochs = 2001\n",
        "\n",
        "# start gradient descent\n",
        "for i in range(epochs):\n",
        "  y_pred = a1 * x1_data + a2 * x2_data + b\n",
        "  error = y_data - y_pred\n",
        "\n",
        "  a1_diff = -(1/len(x1_data)) * sum(x1_data * (error))\n",
        "  a2_diff = -(1/len(x2_data)) * sum(x2_data *(error))\n",
        "  b_diff = -(1/len(x1_data)) * sum(y_data - y_pred)\n",
        "\n",
        "  a1 = a1 - lr * a1_diff\n",
        "  a2 = a2 - lr * a2_diff\n",
        "  b = b - lr * b_diff\n",
        "\n",
        "  if i % 100 == 0:\n",
        "    print('epoch=%f, 기울기1=%.04f, 기울기2=%.04f, 절편=%.04f'%(i, a1, a2, b))\n",
        "\n"
      ],
      "execution_count": 28,
      "outputs": [
        {
          "output_type": "display_data",
          "data": {
            "image/png": "[encoded data removed]",
            "text/plain": [
              "<Figure size 432x288 with 1 Axes>"
            ]
          },
          "metadata": {
            "tags": [],
            "needs_background": "light"
          }
        },
        {
          "output_type": "stream",
          "text": [
            "epoch=0.000000, 기울기1=23.2000, 기울기2=10.5625, 절편=4.5250\n",
            "epoch=100.000000, 기울기1=6.4348, 기울기2=3.9893, 절편=43.9757\n",
            "epoch=200.000000, 기울기1=3.7255, 기울기2=3.0541, 절편=62.5766\n",
            "epoch=300.000000, 기울기1=2.5037, 기울기2=2.6323, 절편=70.9656\n",
            "epoch=400.000000, 기울기1=1.9527, 기울기2=2.4420, 절편=74.7491\n",
            "epoch=500.000000, 기울기1=1.7042, 기울기2=2.3562, 절편=76.4554\n",
            "epoch=600.000000, 기울기1=1.5921, 기울기2=2.3175, 절편=77.2250\n",
            "epoch=700.000000, 기울기1=1.5415, 기울기2=2.3001, 절편=77.5720\n",
            "epoch=800.000000, 기울기1=1.5187, 기울기2=2.2922, 절편=77.7286\n",
            "epoch=900.000000, 기울기1=1.5084, 기울기2=2.2886, 절편=77.7992\n",
            "epoch=1000.000000, 기울기1=1.5038, 기울기2=2.2870, 절편=77.8310\n",
            "epoch=1100.000000, 기울기1=1.5017, 기울기2=2.2863, 절편=77.8453\n",
            "epoch=1200.000000, 기울기1=1.5008, 기울기2=2.2860, 절편=77.8518\n",
            "epoch=1300.000000, 기울기1=1.5003, 기울기2=2.2858, 절편=77.8547\n",
            "epoch=1400.000000, 기울기1=1.5002, 기울기2=2.2858, 절편=77.8561\n",
            "epoch=1500.000000, 기울기1=1.5001, 기울기2=2.2857, 절편=77.8567\n",
            "epoch=1600.000000, 기울기1=1.5000, 기울기2=2.2857, 절편=77.8569\n",
            "epoch=1700.000000, 기울기1=1.5000, 기울기2=2.2857, 절편=77.8570\n",
            "epoch=1800.000000, 기울기1=1.5000, 기울기2=2.2857, 절편=77.8571\n",
            "epoch=1900.000000, 기울기1=1.5000, 기울기2=2.2857, 절편=77.8571\n",
            "epoch=2000.000000, 기울기1=1.5000, 기울기2=2.2857, 절편=77.8571\n"
          ],
          "name": "stdout"
        }
      ]
    },
    {
      "cell_type": "code",
      "metadata": {
        "id": "qwv_uJH9TUqF",
        "colab_type": "code",
        "colab": {
          "base_uri": "https://localhost:8080/",
          "height": 643
        },
        "outputId": "c0193ac5-b91d-4a47-cfe9-8300fb579401"
      },
      "source": [
        "import numpy as np\n",
        "import pandas as pd\n",
        "import matplotlib.pyplot as plt\n",
        "\n",
        "data = [[2, 0], [4, 0], [6, 0], [8, 0], [10, 1], [12, 1],[14, 1]]\n",
        "\n",
        "x_data = [i[0] for i in data]\n",
        "y_data = [i[1] for i in data]\n",
        "\n",
        "plt.scatter(x_data, y_data)\n",
        "plt.xlim(0, 15)\n",
        "plt.ylim(-.1, 1.1)\n",
        "\n",
        "a = 0\n",
        "b = 0\n",
        "lr = 0.05\n",
        "\n",
        "def sigmoid(x):\n",
        "  return 1 / (1 + np.e ** (-x))\n",
        "\n",
        "for i in range(2001):\n",
        "  for x_data, y_data in data:\n",
        "    a_diff = x_data*(sigmoid(a * x_data + b) - y_data)\n",
        "    b_diff = sigmoid(a * x_data + b) - y_data\n",
        "    a = a - lr * a_diff\n",
        "    b = b - lr * b_diff\n",
        "    if i % 1000 == 0:\n",
        "      print('epoch=%.f, 기울기=%.04f, 절편=%.04f'%(i, a, b))\n",
        "\n",
        "plt.scatter(x_data, y_data)\n",
        "plt.xlim(0, 15)\n",
        "plt.ylim(-.1, 1.1)\n",
        "x_range = (np.arange(0, 15, 0.1))\n",
        "plt.plot(np.arange(0, 15, 0.1), np.array([sigmoid(a * x + b) for x in x_range]))\n",
        "plt.show()"
      ],
      "execution_count": 31,
      "outputs": [
        {
          "output_type": "stream",
          "text": [
            "epoch=0, 기울기=-0.0500, 절편=-0.0250\n",
            "epoch=0, 기울기=-0.1388, 절편=-0.0472\n",
            "epoch=0, 기울기=-0.2268, 절편=-0.0619\n",
            "epoch=0, 기울기=-0.2799, 절편=-0.0685\n",
            "epoch=0, 기울기=0.1932, 절편=-0.0212\n",
            "epoch=0, 기울기=0.2480, 절편=-0.0166\n",
            "epoch=0, 기울기=0.2694, 절편=-0.0151\n",
            "epoch=1000, 기울기=1.4152, 절편=-11.7488\n",
            "epoch=1000, 기울기=1.4148, 절편=-11.7489\n",
            "epoch=1000, 기울기=1.4037, 절편=-11.7508\n",
            "epoch=1000, 기울기=1.2547, 절편=-11.7694\n",
            "epoch=1000, 기울기=1.4121, 절편=-11.7537\n",
            "epoch=1000, 기울기=1.4154, 절편=-11.7534\n",
            "epoch=1000, 기울기=1.4157, 절편=-11.7534\n",
            "epoch=2000, 기울기=1.7580, 절편=-15.1655\n",
            "epoch=2000, 기울기=1.7579, 절편=-15.1655\n",
            "epoch=2000, 기울기=1.7550, 절편=-15.1660\n",
            "epoch=2000, 기울기=1.6570, 절편=-15.1783\n",
            "epoch=2000, 기울기=1.7566, 절편=-15.1683\n",
            "epoch=2000, 기울기=1.7582, 절편=-15.1682\n",
            "epoch=2000, 기울기=1.7583, 절편=-15.1682\n"
          ],
          "name": "stdout"
        },
        {
          "output_type": "display_data",
          "data": {
            "image/png": "[encoded data removed]",
            "text/plain": [
              "<Figure size 432x288 with 1 Axes>"
            ]
          },
          "metadata": {
            "tags": [],
            "needs_background": "light"
          }
        }
      ]
    },
    {
      "cell_type": "code",
      "metadata": {
        "id": "kYS9pXSzNNCV",
        "colab_type": "code",
        "colab": {
          "base_uri": "https://localhost:8080/",
          "height": 89
        },
        "outputId": "9ccdd793-6e2f-4e85-dcdc-14093f55374a"
      },
      "source": [
        "import numpy as np\n",
        "\n",
        "# weight and bias\n",
        "w11 = np.array([-2, -2])\n",
        "w12 = np.array([2, 2])\n",
        "w2 = np.array([1, 1])\n",
        "b1 = 3\n",
        "b2 = -1\n",
        "b3 = -1\n",
        "\n",
        "# perceptron\n",
        "def MLP(x, w, b):\n",
        "  y = np.sum(w * x) + b\n",
        "  if y <= 0:\n",
        "    return 0\n",
        "  else:\n",
        "    return 1\n",
        "\n",
        "# NAND gate\n",
        "def NAND(x1, x2):\n",
        "  return MLP(np.array([x1, x2]), w11, b1)\n",
        "\n",
        "# OR gate\n",
        "def OR(x1, x2):\n",
        "  return MLP(np.array([x1, x2]), w12, b2)\n",
        "\n",
        "# AND gate\n",
        "def AND(x1, x2):\n",
        "  return MLP(np.array([x1, x2]), w2, b3)\n",
        "\n",
        "# XOR gate\n",
        "def XOR(x1, x2):\n",
        "  return AND(NAND(x1, x2), OR(x1, x2))\n",
        "\n",
        "for x in [(0, 0), (1, 0), (0, 1), (1, 1)]:\n",
        "  y = XOR(x[0], x[1])\n",
        "  print('input:'+str(x) + ' output:'+str(y))\n"
      ],
      "execution_count": 1,
      "outputs": [
        {
          "output_type": "stream",
          "text": [
            "input:(0, 0) output:0\n",
            "input:(1, 0) output:1\n",
            "input:(0, 1) output:1\n",
            "input:(1, 1) output:0\n"
          ],
          "name": "stdout"
        }
      ]
    }
  ]
}