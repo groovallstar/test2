{
  "nbformat": 4,
  "nbformat_minor": 0,
  "metadata": {
    "colab": {
      "name": "Porto Pilsa 1.ipynb",
      "provenance": [],
      "collapsed_sections": [],
      "include_colab_link": true
    },
    "kernelspec": {
      "name": "python3",
      "display_name": "Python 3"
    }
  },
  "cells": [
    {
      "cell_type": "markdown",
      "metadata": {
        "id": "view-in-github",
        "colab_type": "text"
      },
      "source": [
        "<a href=\"https://colab.research.google.com/github/groovallstar/test2/blob/master/Porto_Pilsa_1.ipynb\" target=\"_parent\"><img src=\"https://colab.research.google.com/assets/colab-badge.svg\" alt=\"Open In Colab\"/></a>"
      ]
    },
    {
      "cell_type": "markdown",
      "metadata": {
        "id": "FshKTSIXRV89",
        "colab_type": "text"
      },
      "source": [
        "- 경진대회: https://www.kaggle.com/c/porto-seguro-safe-driver-prediction\n",
        "- 원본 커널: https://www.kaggle.com/bertcarremans/data-preparation-exploration  \n",
        "- 원본 저자: https://www.kaggle.com/bertcarremans\n",
        "- 참고: https://kaggle-kr.tistory.com/32 (이유한님의 캐글 필사 커리큘럼입니다.)  \n",
        "- 번역: 홍정호(https://blog.naver.com/h0609zxc, KQNG), 번역 오류가 있다면 언제든지 말씀해주세요\n",
        "- 필사 날짜: 2019-07-11\n",
        "\n",
        "훌륭한 커널을 만들어주신 bertcarremans님, 이런 커널들을 정리해주신 이유한님께 감사드립니다.  \n",
        "\n",
        "임의로 가독성을 위해 글의 열, 링크 등은 본문과 조금씩 다릅니다!   \n",
        "번역을 하면서 저도 모르는 부분이 존재하기 때문에 명쾌하지 않은 부분은 찾으면서 보시면 더 좋을것 같습니다.  \n",
        "모두 화이팅입니다!"
      ]
    },
    {
      "cell_type": "code",
      "metadata": {
        "id": "CzWO1z_yS7I0",
        "colab_type": "code",
        "colab": {
          "base_uri": "https://localhost:8080/",
          "height": 128
        },
        "outputId": "ef4a13c4-78a9-4db3-81ee-0a55ae70156d"
      },
      "source": [
        "from google.colab import drive\n",
        "drive.mount('/gdrive', force_remount=True)"
      ],
      "execution_count": null,
      "outputs": [
        {
          "output_type": "stream",
          "text": [
            "Go to this URL in a browser: https://accounts.google.com/o/oauth2/auth?client_id=947318989803-6bn6qk8qdgf4n4g3pfee6491hc0brc4i.apps.googleusercontent.com&redirect_uri=urn%3Aietf%3Awg%3Aoauth%3A2.0%3Aoob&scope=email%20https%3A%2F%2Fwww.googleapis.com%2Fauth%2Fdocs.test%20https%3A%2F%2Fwww.googleapis.com%2Fauth%2Fdrive%20https%3A%2F%2Fwww.googleapis.com%2Fauth%2Fdrive.photos.readonly%20https%3A%2F%2Fwww.googleapis.com%2Fauth%2Fpeopleapi.readonly&response_type=code\n",
            "\n",
            "Enter your authorization code:\n",
            "··········\n",
            "Mounted at /gdrive\n"
          ],
          "name": "stdout"
        }
      ]
    },
    {
      "cell_type": "code",
      "metadata": {
        "id": "7Kno_9U_TIu6",
        "colab_type": "code",
        "colab": {
          "base_uri": "https://localhost:8080/",
          "height": 35
        },
        "outputId": "d72b3397-4062-494d-9ed5-1b5f163a5a2d"
      },
      "source": [
        "!ls \"/gdrive/My Drive/COLAB/PortoSafeDriverPrediction/\"\n",
        "DATA_PATH = \"/gdrive/My Drive/COLAB/PortoSafeDriverPrediction/\""
      ],
      "execution_count": null,
      "outputs": [
        {
          "output_type": "stream",
          "text": [
            "'Porto Pilsa 1.ipynb'   sample_submission.csv   test.csv   train.csv\n"
          ],
          "name": "stdout"
        }
      ]
    },
    {
      "cell_type": "markdown",
      "metadata": {
        "id": "_cIjKGBAPB6A",
        "colab_type": "text"
      },
      "source": [
        "# 소개"
      ]
    },
    {
      "cell_type": "markdown",
      "metadata": {
        "id": "m8ppfaksRH97",
        "colab_type": "text"
      },
      "source": [
        "이 노트북은 PorteSeguro 대회의 데이터에 대한 좋은 통찰력을 얻는 것을 목표로합니다.   \n",
        "그 외에도 모델링을위한 데이터 준비를위한 몇 가지 팁과 트릭을 제공합니다. 노트북은 다음과 같은 주요 섹션으로 구성됩니다."
      ]
    },
    {
      "cell_type": "markdown",
      "metadata": {
        "id": "rHYxkVqzQbwc",
        "colab_type": "text"
      },
      "source": [
        "- 데이터 시각적 검사\n",
        "- 메타 데이터 정의\n",
        "- 기술 통계\n",
        "- 불균형 클래스 다루기\n",
        "- 데이터의 품질 검사\n",
        "- 탐색 데이터 시각화\n",
        "-피처 엔지니어링\n",
        "- 피처 선택\n",
        "- 피처 스케일링"
      ]
    },
    {
      "cell_type": "markdown",
      "metadata": {
        "id": "cHkX67dWRR9t",
        "colab_type": "text"
      },
      "source": [
        "## 패키지 로딩"
      ]
    },
    {
      "cell_type": "code",
      "metadata": {
        "id": "PTUY17smQrfJ",
        "colab_type": "code",
        "colab": {}
      },
      "source": [
        "import pandas as pd\n",
        "import numpy as np\n",
        "import matplotlib.pyplot as plt\n",
        "import seaborn as sns\n",
        "from sklearn.preprocessing import Imputer\n",
        "from sklearn.preprocessing import PolynomialFeatures\n",
        "from sklearn.preprocessing import StandardScaler\n",
        "from sklearn.feature_selection import VarianceThreshold\n",
        "from sklearn.feature_selection import SelectFromModel\n",
        "from sklearn.utils import shuffle\n",
        "from sklearn.ensemble import RandomForestClassifier\n",
        "\n",
        "pd.set_option(\"display.max_columns\", 100)"
      ],
      "execution_count": null,
      "outputs": []
    },
    {
      "cell_type": "markdown",
      "metadata": {
        "id": "7S71a6G7SSbW",
        "colab_type": "text"
      },
      "source": [
        "## 데이터 로딩"
      ]
    },
    {
      "cell_type": "code",
      "metadata": {
        "id": "CKDqlZPDS5Mn",
        "colab_type": "code",
        "colab": {}
      },
      "source": [
        "train = pd.read_csv(DATA_PATH + \"train.csv\")\n",
        "test = pd.read_csv(DATA_PATH + \"test.csv\")"
      ],
      "execution_count": null,
      "outputs": []
    },
    {
      "cell_type": "markdown",
      "metadata": {
        "id": "4tynsyo5TvtA",
        "colab_type": "text"
      },
      "source": [
        "## 처음 살펴보는 데이터"
      ]
    },
    {
      "cell_type": "markdown",
      "metadata": {
        "id": "6EJ3_RQdUEny",
        "colab_type": "text"
      },
      "source": [
        "대회의 데이터 설명을 발췌한 것입니다.\n",
        "- 유사한 피처들은 같은 태그를 가지고 있습니다.(예: ind, reg, car, calc)\n",
        "- 피처 이름 뒤에 bin은 binary 피처를 의미하고, cat은 category 피처를 의미합니다.\n",
        "- 피처 이름에 아무런 접미사가 없는 것은 연속되는 수이거나 서수입니다.\n",
        "- 값이 -1이면 관찰에서 누락된 것을 의미합니다.\n",
        "- 타겟 컬럼은 해당 보험 계약자에 대한 청구가 제기되었는지의 여부입니다."
      ]
    },
    {
      "cell_type": "markdown",
      "metadata": {
        "id": "qb14edLqXUCe",
        "colab_type": "text"
      },
      "source": [
        "이것들은 우리가 시작하기 위해 중요한 정보입니다.  \n",
        "이 모든 것을 확인하기 위해 처음과 마지막 부분을 간단히 살펴보겠습니다."
      ]
    },
    {
      "cell_type": "code",
      "metadata": {
        "id": "-FvdAdpmXPmy",
        "colab_type": "code",
        "colab": {
          "base_uri": "https://localhost:8080/",
          "height": 218
        },
        "outputId": "61075f71-7865-49c2-dba4-ad22c27f2662"
      },
      "source": [
        "train.head()"
      ],
      "execution_count": null,
      "outputs": [
        {
          "output_type": "execute_result",
          "data": {
            "text/html": [
              "<div>\n",
              "<style scoped>\n",
              "    .dataframe tbody tr th:only-of-type {\n",
              "        vertical-align: middle;\n",
              "    }\n",
              "\n",
              "    .dataframe tbody tr th {\n",
              "        vertical-align: top;\n",
              "    }\n",
              "\n",
              "    .dataframe thead th {\n",
              "        text-align: right;\n",
              "    }\n",
              "</style>\n",
              "<table border=\"1\" class=\"dataframe\">\n",
              "  <thead>\n",
              "    <tr style=\"text-align: right;\">\n",
              "      <th></th>\n",
              "      <th>id</th>\n",
              "      <th>target</th>\n",
              "      <th>ps_ind_01</th>\n",
              "      <th>ps_ind_02_cat</th>\n",
              "      <th>ps_ind_03</th>\n",
              "      <th>ps_ind_04_cat</th>\n",
              "      <th>ps_ind_05_cat</th>\n",
              "      <th>ps_ind_06_bin</th>\n",
              "      <th>ps_ind_07_bin</th>\n",
              "      <th>ps_ind_08_bin</th>\n",
              "      <th>ps_ind_09_bin</th>\n",
              "      <th>ps_ind_10_bin</th>\n",
              "      <th>ps_ind_11_bin</th>\n",
              "      <th>ps_ind_12_bin</th>\n",
              "      <th>ps_ind_13_bin</th>\n",
              "      <th>ps_ind_14</th>\n",
              "      <th>ps_ind_15</th>\n",
              "      <th>ps_ind_16_bin</th>\n",
              "      <th>ps_ind_17_bin</th>\n",
              "      <th>ps_ind_18_bin</th>\n",
              "      <th>ps_reg_01</th>\n",
              "      <th>ps_reg_02</th>\n",
              "      <th>ps_reg_03</th>\n",
              "      <th>ps_car_01_cat</th>\n",
              "      <th>ps_car_02_cat</th>\n",
              "      <th>ps_car_03_cat</th>\n",
              "      <th>ps_car_04_cat</th>\n",
              "      <th>ps_car_05_cat</th>\n",
              "      <th>ps_car_06_cat</th>\n",
              "      <th>ps_car_07_cat</th>\n",
              "      <th>ps_car_08_cat</th>\n",
              "      <th>ps_car_09_cat</th>\n",
              "      <th>ps_car_10_cat</th>\n",
              "      <th>ps_car_11_cat</th>\n",
              "      <th>ps_car_11</th>\n",
              "      <th>ps_car_12</th>\n",
              "      <th>ps_car_13</th>\n",
              "      <th>ps_car_14</th>\n",
              "      <th>ps_car_15</th>\n",
              "      <th>ps_calc_01</th>\n",
              "      <th>ps_calc_02</th>\n",
              "      <th>ps_calc_03</th>\n",
              "      <th>ps_calc_04</th>\n",
              "      <th>ps_calc_05</th>\n",
              "      <th>ps_calc_06</th>\n",
              "      <th>ps_calc_07</th>\n",
              "      <th>ps_calc_08</th>\n",
              "      <th>ps_calc_09</th>\n",
              "      <th>ps_calc_10</th>\n",
              "      <th>ps_calc_11</th>\n",
              "      <th>ps_calc_12</th>\n",
              "      <th>ps_calc_13</th>\n",
              "      <th>ps_calc_14</th>\n",
              "      <th>ps_calc_15_bin</th>\n",
              "      <th>ps_calc_16_bin</th>\n",
              "      <th>ps_calc_17_bin</th>\n",
              "      <th>ps_calc_18_bin</th>\n",
              "      <th>ps_calc_19_bin</th>\n",
              "      <th>ps_calc_20_bin</th>\n",
              "    </tr>\n",
              "  </thead>\n",
              "  <tbody>\n",
              "    <tr>\n",
              "      <th>0</th>\n",
              "      <td>7</td>\n",
              "      <td>0</td>\n",
              "      <td>2</td>\n",
              "      <td>2</td>\n",
              "      <td>5</td>\n",
              "      <td>1</td>\n",
              "      <td>0</td>\n",
              "      <td>0</td>\n",
              "      <td>1</td>\n",
              "      <td>0</td>\n",
              "      <td>0</td>\n",
              "      <td>0</td>\n",
              "      <td>0</td>\n",
              "      <td>0</td>\n",
              "      <td>0</td>\n",
              "      <td>0</td>\n",
              "      <td>11</td>\n",
              "      <td>0</td>\n",
              "      <td>1</td>\n",
              "      <td>0</td>\n",
              "      <td>0.7</td>\n",
              "      <td>0.2</td>\n",
              "      <td>0.718070</td>\n",
              "      <td>10</td>\n",
              "      <td>1</td>\n",
              "      <td>-1</td>\n",
              "      <td>0</td>\n",
              "      <td>1</td>\n",
              "      <td>4</td>\n",
              "      <td>1</td>\n",
              "      <td>0</td>\n",
              "      <td>0</td>\n",
              "      <td>1</td>\n",
              "      <td>12</td>\n",
              "      <td>2</td>\n",
              "      <td>0.400000</td>\n",
              "      <td>0.883679</td>\n",
              "      <td>0.370810</td>\n",
              "      <td>3.605551</td>\n",
              "      <td>0.6</td>\n",
              "      <td>0.5</td>\n",
              "      <td>0.2</td>\n",
              "      <td>3</td>\n",
              "      <td>1</td>\n",
              "      <td>10</td>\n",
              "      <td>1</td>\n",
              "      <td>10</td>\n",
              "      <td>1</td>\n",
              "      <td>5</td>\n",
              "      <td>9</td>\n",
              "      <td>1</td>\n",
              "      <td>5</td>\n",
              "      <td>8</td>\n",
              "      <td>0</td>\n",
              "      <td>1</td>\n",
              "      <td>1</td>\n",
              "      <td>0</td>\n",
              "      <td>0</td>\n",
              "      <td>1</td>\n",
              "    </tr>\n",
              "    <tr>\n",
              "      <th>1</th>\n",
              "      <td>9</td>\n",
              "      <td>0</td>\n",
              "      <td>1</td>\n",
              "      <td>1</td>\n",
              "      <td>7</td>\n",
              "      <td>0</td>\n",
              "      <td>0</td>\n",
              "      <td>0</td>\n",
              "      <td>0</td>\n",
              "      <td>1</td>\n",
              "      <td>0</td>\n",
              "      <td>0</td>\n",
              "      <td>0</td>\n",
              "      <td>0</td>\n",
              "      <td>0</td>\n",
              "      <td>0</td>\n",
              "      <td>3</td>\n",
              "      <td>0</td>\n",
              "      <td>0</td>\n",
              "      <td>1</td>\n",
              "      <td>0.8</td>\n",
              "      <td>0.4</td>\n",
              "      <td>0.766078</td>\n",
              "      <td>11</td>\n",
              "      <td>1</td>\n",
              "      <td>-1</td>\n",
              "      <td>0</td>\n",
              "      <td>-1</td>\n",
              "      <td>11</td>\n",
              "      <td>1</td>\n",
              "      <td>1</td>\n",
              "      <td>2</td>\n",
              "      <td>1</td>\n",
              "      <td>19</td>\n",
              "      <td>3</td>\n",
              "      <td>0.316228</td>\n",
              "      <td>0.618817</td>\n",
              "      <td>0.388716</td>\n",
              "      <td>2.449490</td>\n",
              "      <td>0.3</td>\n",
              "      <td>0.1</td>\n",
              "      <td>0.3</td>\n",
              "      <td>2</td>\n",
              "      <td>1</td>\n",
              "      <td>9</td>\n",
              "      <td>5</td>\n",
              "      <td>8</td>\n",
              "      <td>1</td>\n",
              "      <td>7</td>\n",
              "      <td>3</td>\n",
              "      <td>1</td>\n",
              "      <td>1</td>\n",
              "      <td>9</td>\n",
              "      <td>0</td>\n",
              "      <td>1</td>\n",
              "      <td>1</td>\n",
              "      <td>0</td>\n",
              "      <td>1</td>\n",
              "      <td>0</td>\n",
              "    </tr>\n",
              "    <tr>\n",
              "      <th>2</th>\n",
              "      <td>13</td>\n",
              "      <td>0</td>\n",
              "      <td>5</td>\n",
              "      <td>4</td>\n",
              "      <td>9</td>\n",
              "      <td>1</td>\n",
              "      <td>0</td>\n",
              "      <td>0</td>\n",
              "      <td>0</td>\n",
              "      <td>1</td>\n",
              "      <td>0</td>\n",
              "      <td>0</td>\n",
              "      <td>0</td>\n",
              "      <td>0</td>\n",
              "      <td>0</td>\n",
              "      <td>0</td>\n",
              "      <td>12</td>\n",
              "      <td>1</td>\n",
              "      <td>0</td>\n",
              "      <td>0</td>\n",
              "      <td>0.0</td>\n",
              "      <td>0.0</td>\n",
              "      <td>-1.000000</td>\n",
              "      <td>7</td>\n",
              "      <td>1</td>\n",
              "      <td>-1</td>\n",
              "      <td>0</td>\n",
              "      <td>-1</td>\n",
              "      <td>14</td>\n",
              "      <td>1</td>\n",
              "      <td>1</td>\n",
              "      <td>2</td>\n",
              "      <td>1</td>\n",
              "      <td>60</td>\n",
              "      <td>1</td>\n",
              "      <td>0.316228</td>\n",
              "      <td>0.641586</td>\n",
              "      <td>0.347275</td>\n",
              "      <td>3.316625</td>\n",
              "      <td>0.5</td>\n",
              "      <td>0.7</td>\n",
              "      <td>0.1</td>\n",
              "      <td>2</td>\n",
              "      <td>2</td>\n",
              "      <td>9</td>\n",
              "      <td>1</td>\n",
              "      <td>8</td>\n",
              "      <td>2</td>\n",
              "      <td>7</td>\n",
              "      <td>4</td>\n",
              "      <td>2</td>\n",
              "      <td>7</td>\n",
              "      <td>7</td>\n",
              "      <td>0</td>\n",
              "      <td>1</td>\n",
              "      <td>1</td>\n",
              "      <td>0</td>\n",
              "      <td>1</td>\n",
              "      <td>0</td>\n",
              "    </tr>\n",
              "    <tr>\n",
              "      <th>3</th>\n",
              "      <td>16</td>\n",
              "      <td>0</td>\n",
              "      <td>0</td>\n",
              "      <td>1</td>\n",
              "      <td>2</td>\n",
              "      <td>0</td>\n",
              "      <td>0</td>\n",
              "      <td>1</td>\n",
              "      <td>0</td>\n",
              "      <td>0</td>\n",
              "      <td>0</td>\n",
              "      <td>0</td>\n",
              "      <td>0</td>\n",
              "      <td>0</td>\n",
              "      <td>0</td>\n",
              "      <td>0</td>\n",
              "      <td>8</td>\n",
              "      <td>1</td>\n",
              "      <td>0</td>\n",
              "      <td>0</td>\n",
              "      <td>0.9</td>\n",
              "      <td>0.2</td>\n",
              "      <td>0.580948</td>\n",
              "      <td>7</td>\n",
              "      <td>1</td>\n",
              "      <td>0</td>\n",
              "      <td>0</td>\n",
              "      <td>1</td>\n",
              "      <td>11</td>\n",
              "      <td>1</td>\n",
              "      <td>1</td>\n",
              "      <td>3</td>\n",
              "      <td>1</td>\n",
              "      <td>104</td>\n",
              "      <td>1</td>\n",
              "      <td>0.374166</td>\n",
              "      <td>0.542949</td>\n",
              "      <td>0.294958</td>\n",
              "      <td>2.000000</td>\n",
              "      <td>0.6</td>\n",
              "      <td>0.9</td>\n",
              "      <td>0.1</td>\n",
              "      <td>2</td>\n",
              "      <td>4</td>\n",
              "      <td>7</td>\n",
              "      <td>1</td>\n",
              "      <td>8</td>\n",
              "      <td>4</td>\n",
              "      <td>2</td>\n",
              "      <td>2</td>\n",
              "      <td>2</td>\n",
              "      <td>4</td>\n",
              "      <td>9</td>\n",
              "      <td>0</td>\n",
              "      <td>0</td>\n",
              "      <td>0</td>\n",
              "      <td>0</td>\n",
              "      <td>0</td>\n",
              "      <td>0</td>\n",
              "    </tr>\n",
              "    <tr>\n",
              "      <th>4</th>\n",
              "      <td>17</td>\n",
              "      <td>0</td>\n",
              "      <td>0</td>\n",
              "      <td>2</td>\n",
              "      <td>0</td>\n",
              "      <td>1</td>\n",
              "      <td>0</td>\n",
              "      <td>1</td>\n",
              "      <td>0</td>\n",
              "      <td>0</td>\n",
              "      <td>0</td>\n",
              "      <td>0</td>\n",
              "      <td>0</td>\n",
              "      <td>0</td>\n",
              "      <td>0</td>\n",
              "      <td>0</td>\n",
              "      <td>9</td>\n",
              "      <td>1</td>\n",
              "      <td>0</td>\n",
              "      <td>0</td>\n",
              "      <td>0.7</td>\n",
              "      <td>0.6</td>\n",
              "      <td>0.840759</td>\n",
              "      <td>11</td>\n",
              "      <td>1</td>\n",
              "      <td>-1</td>\n",
              "      <td>0</td>\n",
              "      <td>-1</td>\n",
              "      <td>14</td>\n",
              "      <td>1</td>\n",
              "      <td>1</td>\n",
              "      <td>2</td>\n",
              "      <td>1</td>\n",
              "      <td>82</td>\n",
              "      <td>3</td>\n",
              "      <td>0.316070</td>\n",
              "      <td>0.565832</td>\n",
              "      <td>0.365103</td>\n",
              "      <td>2.000000</td>\n",
              "      <td>0.4</td>\n",
              "      <td>0.6</td>\n",
              "      <td>0.0</td>\n",
              "      <td>2</td>\n",
              "      <td>2</td>\n",
              "      <td>6</td>\n",
              "      <td>3</td>\n",
              "      <td>10</td>\n",
              "      <td>2</td>\n",
              "      <td>12</td>\n",
              "      <td>3</td>\n",
              "      <td>1</td>\n",
              "      <td>1</td>\n",
              "      <td>3</td>\n",
              "      <td>0</td>\n",
              "      <td>0</td>\n",
              "      <td>0</td>\n",
              "      <td>1</td>\n",
              "      <td>1</td>\n",
              "      <td>0</td>\n",
              "    </tr>\n",
              "  </tbody>\n",
              "</table>\n",
              "</div>"
            ],
            "text/plain": [
              "   id  target  ps_ind_01  ps_ind_02_cat  ps_ind_03  ps_ind_04_cat  \\\n",
              "0   7       0          2              2          5              1   \n",
              "1   9       0          1              1          7              0   \n",
              "2  13       0          5              4          9              1   \n",
              "3  16       0          0              1          2              0   \n",
              "4  17       0          0              2          0              1   \n",
              "\n",
              "   ps_ind_05_cat  ps_ind_06_bin  ps_ind_07_bin  ps_ind_08_bin  ps_ind_09_bin  \\\n",
              "0              0              0              1              0              0   \n",
              "1              0              0              0              1              0   \n",
              "2              0              0              0              1              0   \n",
              "3              0              1              0              0              0   \n",
              "4              0              1              0              0              0   \n",
              "\n",
              "   ps_ind_10_bin  ps_ind_11_bin  ps_ind_12_bin  ps_ind_13_bin  ps_ind_14  \\\n",
              "0              0              0              0              0          0   \n",
              "1              0              0              0              0          0   \n",
              "2              0              0              0              0          0   \n",
              "3              0              0              0              0          0   \n",
              "4              0              0              0              0          0   \n",
              "\n",
              "   ps_ind_15  ps_ind_16_bin  ps_ind_17_bin  ps_ind_18_bin  ps_reg_01  \\\n",
              "0         11              0              1              0        0.7   \n",
              "1          3              0              0              1        0.8   \n",
              "2         12              1              0              0        0.0   \n",
              "3          8              1              0              0        0.9   \n",
              "4          9              1              0              0        0.7   \n",
              "\n",
              "   ps_reg_02  ps_reg_03  ps_car_01_cat  ps_car_02_cat  ps_car_03_cat  \\\n",
              "0        0.2   0.718070             10              1             -1   \n",
              "1        0.4   0.766078             11              1             -1   \n",
              "2        0.0  -1.000000              7              1             -1   \n",
              "3        0.2   0.580948              7              1              0   \n",
              "4        0.6   0.840759             11              1             -1   \n",
              "\n",
              "   ps_car_04_cat  ps_car_05_cat  ps_car_06_cat  ps_car_07_cat  ps_car_08_cat  \\\n",
              "0              0              1              4              1              0   \n",
              "1              0             -1             11              1              1   \n",
              "2              0             -1             14              1              1   \n",
              "3              0              1             11              1              1   \n",
              "4              0             -1             14              1              1   \n",
              "\n",
              "   ps_car_09_cat  ps_car_10_cat  ps_car_11_cat  ps_car_11  ps_car_12  \\\n",
              "0              0              1             12          2   0.400000   \n",
              "1              2              1             19          3   0.316228   \n",
              "2              2              1             60          1   0.316228   \n",
              "3              3              1            104          1   0.374166   \n",
              "4              2              1             82          3   0.316070   \n",
              "\n",
              "   ps_car_13  ps_car_14  ps_car_15  ps_calc_01  ps_calc_02  ps_calc_03  \\\n",
              "0   0.883679   0.370810   3.605551         0.6         0.5         0.2   \n",
              "1   0.618817   0.388716   2.449490         0.3         0.1         0.3   \n",
              "2   0.641586   0.347275   3.316625         0.5         0.7         0.1   \n",
              "3   0.542949   0.294958   2.000000         0.6         0.9         0.1   \n",
              "4   0.565832   0.365103   2.000000         0.4         0.6         0.0   \n",
              "\n",
              "   ps_calc_04  ps_calc_05  ps_calc_06  ps_calc_07  ps_calc_08  ps_calc_09  \\\n",
              "0           3           1          10           1          10           1   \n",
              "1           2           1           9           5           8           1   \n",
              "2           2           2           9           1           8           2   \n",
              "3           2           4           7           1           8           4   \n",
              "4           2           2           6           3          10           2   \n",
              "\n",
              "   ps_calc_10  ps_calc_11  ps_calc_12  ps_calc_13  ps_calc_14  ps_calc_15_bin  \\\n",
              "0           5           9           1           5           8               0   \n",
              "1           7           3           1           1           9               0   \n",
              "2           7           4           2           7           7               0   \n",
              "3           2           2           2           4           9               0   \n",
              "4          12           3           1           1           3               0   \n",
              "\n",
              "   ps_calc_16_bin  ps_calc_17_bin  ps_calc_18_bin  ps_calc_19_bin  \\\n",
              "0               1               1               0               0   \n",
              "1               1               1               0               1   \n",
              "2               1               1               0               1   \n",
              "3               0               0               0               0   \n",
              "4               0               0               1               1   \n",
              "\n",
              "   ps_calc_20_bin  \n",
              "0               1  \n",
              "1               0  \n",
              "2               0  \n",
              "3               0  \n",
              "4               0  "
            ]
          },
          "metadata": {
            "tags": []
          },
          "execution_count": 5
        }
      ]
    },
    {
      "cell_type": "code",
      "metadata": {
        "id": "9iNexjnVXf0h",
        "colab_type": "code",
        "colab": {
          "base_uri": "https://localhost:8080/",
          "height": 218
        },
        "outputId": "b5624c2c-e5c4-4d6c-e6f1-d6246d2e366b"
      },
      "source": [
        "train.tail()"
      ],
      "execution_count": null,
      "outputs": [
        {
          "output_type": "execute_result",
          "data": {
            "text/html": [
              "<div>\n",
              "<style scoped>\n",
              "    .dataframe tbody tr th:only-of-type {\n",
              "        vertical-align: middle;\n",
              "    }\n",
              "\n",
              "    .dataframe tbody tr th {\n",
              "        vertical-align: top;\n",
              "    }\n",
              "\n",
              "    .dataframe thead th {\n",
              "        text-align: right;\n",
              "    }\n",
              "</style>\n",
              "<table border=\"1\" class=\"dataframe\">\n",
              "  <thead>\n",
              "    <tr style=\"text-align: right;\">\n",
              "      <th></th>\n",
              "      <th>id</th>\n",
              "      <th>target</th>\n",
              "      <th>ps_ind_01</th>\n",
              "      <th>ps_ind_02_cat</th>\n",
              "      <th>ps_ind_03</th>\n",
              "      <th>ps_ind_04_cat</th>\n",
              "      <th>ps_ind_05_cat</th>\n",
              "      <th>ps_ind_06_bin</th>\n",
              "      <th>ps_ind_07_bin</th>\n",
              "      <th>ps_ind_08_bin</th>\n",
              "      <th>ps_ind_09_bin</th>\n",
              "      <th>ps_ind_10_bin</th>\n",
              "      <th>ps_ind_11_bin</th>\n",
              "      <th>ps_ind_12_bin</th>\n",
              "      <th>ps_ind_13_bin</th>\n",
              "      <th>ps_ind_14</th>\n",
              "      <th>ps_ind_15</th>\n",
              "      <th>ps_ind_16_bin</th>\n",
              "      <th>ps_ind_17_bin</th>\n",
              "      <th>ps_ind_18_bin</th>\n",
              "      <th>ps_reg_01</th>\n",
              "      <th>ps_reg_02</th>\n",
              "      <th>ps_reg_03</th>\n",
              "      <th>ps_car_01_cat</th>\n",
              "      <th>ps_car_02_cat</th>\n",
              "      <th>ps_car_03_cat</th>\n",
              "      <th>ps_car_04_cat</th>\n",
              "      <th>ps_car_05_cat</th>\n",
              "      <th>ps_car_06_cat</th>\n",
              "      <th>ps_car_07_cat</th>\n",
              "      <th>ps_car_08_cat</th>\n",
              "      <th>ps_car_09_cat</th>\n",
              "      <th>ps_car_10_cat</th>\n",
              "      <th>ps_car_11_cat</th>\n",
              "      <th>ps_car_11</th>\n",
              "      <th>ps_car_12</th>\n",
              "      <th>ps_car_13</th>\n",
              "      <th>ps_car_14</th>\n",
              "      <th>ps_car_15</th>\n",
              "      <th>ps_calc_01</th>\n",
              "      <th>ps_calc_02</th>\n",
              "      <th>ps_calc_03</th>\n",
              "      <th>ps_calc_04</th>\n",
              "      <th>ps_calc_05</th>\n",
              "      <th>ps_calc_06</th>\n",
              "      <th>ps_calc_07</th>\n",
              "      <th>ps_calc_08</th>\n",
              "      <th>ps_calc_09</th>\n",
              "      <th>ps_calc_10</th>\n",
              "      <th>ps_calc_11</th>\n",
              "      <th>ps_calc_12</th>\n",
              "      <th>ps_calc_13</th>\n",
              "      <th>ps_calc_14</th>\n",
              "      <th>ps_calc_15_bin</th>\n",
              "      <th>ps_calc_16_bin</th>\n",
              "      <th>ps_calc_17_bin</th>\n",
              "      <th>ps_calc_18_bin</th>\n",
              "      <th>ps_calc_19_bin</th>\n",
              "      <th>ps_calc_20_bin</th>\n",
              "    </tr>\n",
              "  </thead>\n",
              "  <tbody>\n",
              "    <tr>\n",
              "      <th>595207</th>\n",
              "      <td>1488013</td>\n",
              "      <td>0</td>\n",
              "      <td>3</td>\n",
              "      <td>1</td>\n",
              "      <td>10</td>\n",
              "      <td>0</td>\n",
              "      <td>0</td>\n",
              "      <td>0</td>\n",
              "      <td>0</td>\n",
              "      <td>0</td>\n",
              "      <td>1</td>\n",
              "      <td>0</td>\n",
              "      <td>0</td>\n",
              "      <td>0</td>\n",
              "      <td>0</td>\n",
              "      <td>0</td>\n",
              "      <td>13</td>\n",
              "      <td>1</td>\n",
              "      <td>0</td>\n",
              "      <td>0</td>\n",
              "      <td>0.5</td>\n",
              "      <td>0.3</td>\n",
              "      <td>0.692820</td>\n",
              "      <td>10</td>\n",
              "      <td>1</td>\n",
              "      <td>-1</td>\n",
              "      <td>0</td>\n",
              "      <td>1</td>\n",
              "      <td>1</td>\n",
              "      <td>1</td>\n",
              "      <td>1</td>\n",
              "      <td>0</td>\n",
              "      <td>1</td>\n",
              "      <td>31</td>\n",
              "      <td>3</td>\n",
              "      <td>0.374166</td>\n",
              "      <td>0.684631</td>\n",
              "      <td>0.385487</td>\n",
              "      <td>2.645751</td>\n",
              "      <td>0.4</td>\n",
              "      <td>0.5</td>\n",
              "      <td>0.3</td>\n",
              "      <td>3</td>\n",
              "      <td>0</td>\n",
              "      <td>9</td>\n",
              "      <td>0</td>\n",
              "      <td>9</td>\n",
              "      <td>1</td>\n",
              "      <td>12</td>\n",
              "      <td>4</td>\n",
              "      <td>1</td>\n",
              "      <td>9</td>\n",
              "      <td>6</td>\n",
              "      <td>0</td>\n",
              "      <td>1</td>\n",
              "      <td>1</td>\n",
              "      <td>0</td>\n",
              "      <td>1</td>\n",
              "      <td>1</td>\n",
              "    </tr>\n",
              "    <tr>\n",
              "      <th>595208</th>\n",
              "      <td>1488016</td>\n",
              "      <td>0</td>\n",
              "      <td>5</td>\n",
              "      <td>1</td>\n",
              "      <td>3</td>\n",
              "      <td>0</td>\n",
              "      <td>0</td>\n",
              "      <td>0</td>\n",
              "      <td>0</td>\n",
              "      <td>0</td>\n",
              "      <td>1</td>\n",
              "      <td>0</td>\n",
              "      <td>0</td>\n",
              "      <td>0</td>\n",
              "      <td>0</td>\n",
              "      <td>0</td>\n",
              "      <td>6</td>\n",
              "      <td>1</td>\n",
              "      <td>0</td>\n",
              "      <td>0</td>\n",
              "      <td>0.9</td>\n",
              "      <td>0.7</td>\n",
              "      <td>1.382027</td>\n",
              "      <td>9</td>\n",
              "      <td>1</td>\n",
              "      <td>-1</td>\n",
              "      <td>0</td>\n",
              "      <td>-1</td>\n",
              "      <td>15</td>\n",
              "      <td>0</td>\n",
              "      <td>0</td>\n",
              "      <td>2</td>\n",
              "      <td>1</td>\n",
              "      <td>63</td>\n",
              "      <td>2</td>\n",
              "      <td>0.387298</td>\n",
              "      <td>0.972145</td>\n",
              "      <td>-1.000000</td>\n",
              "      <td>3.605551</td>\n",
              "      <td>0.2</td>\n",
              "      <td>0.2</td>\n",
              "      <td>0.0</td>\n",
              "      <td>2</td>\n",
              "      <td>4</td>\n",
              "      <td>8</td>\n",
              "      <td>6</td>\n",
              "      <td>8</td>\n",
              "      <td>2</td>\n",
              "      <td>12</td>\n",
              "      <td>4</td>\n",
              "      <td>1</td>\n",
              "      <td>3</td>\n",
              "      <td>8</td>\n",
              "      <td>1</td>\n",
              "      <td>0</td>\n",
              "      <td>1</td>\n",
              "      <td>0</td>\n",
              "      <td>1</td>\n",
              "      <td>1</td>\n",
              "    </tr>\n",
              "    <tr>\n",
              "      <th>595209</th>\n",
              "      <td>1488017</td>\n",
              "      <td>0</td>\n",
              "      <td>1</td>\n",
              "      <td>1</td>\n",
              "      <td>10</td>\n",
              "      <td>0</td>\n",
              "      <td>0</td>\n",
              "      <td>1</td>\n",
              "      <td>0</td>\n",
              "      <td>0</td>\n",
              "      <td>0</td>\n",
              "      <td>0</td>\n",
              "      <td>0</td>\n",
              "      <td>0</td>\n",
              "      <td>0</td>\n",
              "      <td>0</td>\n",
              "      <td>12</td>\n",
              "      <td>1</td>\n",
              "      <td>0</td>\n",
              "      <td>0</td>\n",
              "      <td>0.9</td>\n",
              "      <td>0.2</td>\n",
              "      <td>0.659071</td>\n",
              "      <td>7</td>\n",
              "      <td>1</td>\n",
              "      <td>-1</td>\n",
              "      <td>0</td>\n",
              "      <td>-1</td>\n",
              "      <td>1</td>\n",
              "      <td>1</td>\n",
              "      <td>1</td>\n",
              "      <td>2</td>\n",
              "      <td>1</td>\n",
              "      <td>31</td>\n",
              "      <td>3</td>\n",
              "      <td>0.397492</td>\n",
              "      <td>0.596373</td>\n",
              "      <td>0.398748</td>\n",
              "      <td>1.732051</td>\n",
              "      <td>0.4</td>\n",
              "      <td>0.0</td>\n",
              "      <td>0.3</td>\n",
              "      <td>3</td>\n",
              "      <td>2</td>\n",
              "      <td>7</td>\n",
              "      <td>4</td>\n",
              "      <td>8</td>\n",
              "      <td>0</td>\n",
              "      <td>10</td>\n",
              "      <td>3</td>\n",
              "      <td>2</td>\n",
              "      <td>2</td>\n",
              "      <td>6</td>\n",
              "      <td>0</td>\n",
              "      <td>0</td>\n",
              "      <td>1</td>\n",
              "      <td>0</td>\n",
              "      <td>0</td>\n",
              "      <td>0</td>\n",
              "    </tr>\n",
              "    <tr>\n",
              "      <th>595210</th>\n",
              "      <td>1488021</td>\n",
              "      <td>0</td>\n",
              "      <td>5</td>\n",
              "      <td>2</td>\n",
              "      <td>3</td>\n",
              "      <td>1</td>\n",
              "      <td>0</td>\n",
              "      <td>0</td>\n",
              "      <td>0</td>\n",
              "      <td>1</td>\n",
              "      <td>0</td>\n",
              "      <td>0</td>\n",
              "      <td>0</td>\n",
              "      <td>0</td>\n",
              "      <td>0</td>\n",
              "      <td>0</td>\n",
              "      <td>12</td>\n",
              "      <td>1</td>\n",
              "      <td>0</td>\n",
              "      <td>0</td>\n",
              "      <td>0.9</td>\n",
              "      <td>0.4</td>\n",
              "      <td>0.698212</td>\n",
              "      <td>11</td>\n",
              "      <td>1</td>\n",
              "      <td>-1</td>\n",
              "      <td>0</td>\n",
              "      <td>-1</td>\n",
              "      <td>11</td>\n",
              "      <td>1</td>\n",
              "      <td>1</td>\n",
              "      <td>2</td>\n",
              "      <td>1</td>\n",
              "      <td>101</td>\n",
              "      <td>3</td>\n",
              "      <td>0.374166</td>\n",
              "      <td>0.764434</td>\n",
              "      <td>0.384968</td>\n",
              "      <td>3.162278</td>\n",
              "      <td>0.0</td>\n",
              "      <td>0.7</td>\n",
              "      <td>0.0</td>\n",
              "      <td>4</td>\n",
              "      <td>0</td>\n",
              "      <td>9</td>\n",
              "      <td>4</td>\n",
              "      <td>9</td>\n",
              "      <td>2</td>\n",
              "      <td>11</td>\n",
              "      <td>4</td>\n",
              "      <td>1</td>\n",
              "      <td>4</td>\n",
              "      <td>2</td>\n",
              "      <td>0</td>\n",
              "      <td>1</td>\n",
              "      <td>1</td>\n",
              "      <td>1</td>\n",
              "      <td>0</td>\n",
              "      <td>0</td>\n",
              "    </tr>\n",
              "    <tr>\n",
              "      <th>595211</th>\n",
              "      <td>1488027</td>\n",
              "      <td>0</td>\n",
              "      <td>0</td>\n",
              "      <td>1</td>\n",
              "      <td>8</td>\n",
              "      <td>0</td>\n",
              "      <td>0</td>\n",
              "      <td>1</td>\n",
              "      <td>0</td>\n",
              "      <td>0</td>\n",
              "      <td>0</td>\n",
              "      <td>0</td>\n",
              "      <td>0</td>\n",
              "      <td>0</td>\n",
              "      <td>0</td>\n",
              "      <td>0</td>\n",
              "      <td>7</td>\n",
              "      <td>1</td>\n",
              "      <td>0</td>\n",
              "      <td>0</td>\n",
              "      <td>0.1</td>\n",
              "      <td>0.2</td>\n",
              "      <td>-1.000000</td>\n",
              "      <td>7</td>\n",
              "      <td>0</td>\n",
              "      <td>-1</td>\n",
              "      <td>0</td>\n",
              "      <td>-1</td>\n",
              "      <td>0</td>\n",
              "      <td>1</td>\n",
              "      <td>0</td>\n",
              "      <td>2</td>\n",
              "      <td>1</td>\n",
              "      <td>34</td>\n",
              "      <td>2</td>\n",
              "      <td>0.400000</td>\n",
              "      <td>0.932649</td>\n",
              "      <td>0.378021</td>\n",
              "      <td>3.741657</td>\n",
              "      <td>0.4</td>\n",
              "      <td>0.0</td>\n",
              "      <td>0.5</td>\n",
              "      <td>2</td>\n",
              "      <td>3</td>\n",
              "      <td>10</td>\n",
              "      <td>4</td>\n",
              "      <td>10</td>\n",
              "      <td>2</td>\n",
              "      <td>5</td>\n",
              "      <td>4</td>\n",
              "      <td>4</td>\n",
              "      <td>3</td>\n",
              "      <td>8</td>\n",
              "      <td>0</td>\n",
              "      <td>1</td>\n",
              "      <td>0</td>\n",
              "      <td>0</td>\n",
              "      <td>0</td>\n",
              "      <td>0</td>\n",
              "    </tr>\n",
              "  </tbody>\n",
              "</table>\n",
              "</div>"
            ],
            "text/plain": [
              "             id  target  ps_ind_01  ps_ind_02_cat  ps_ind_03  ps_ind_04_cat  \\\n",
              "595207  1488013       0          3              1         10              0   \n",
              "595208  1488016       0          5              1          3              0   \n",
              "595209  1488017       0          1              1         10              0   \n",
              "595210  1488021       0          5              2          3              1   \n",
              "595211  1488027       0          0              1          8              0   \n",
              "\n",
              "        ps_ind_05_cat  ps_ind_06_bin  ps_ind_07_bin  ps_ind_08_bin  \\\n",
              "595207              0              0              0              0   \n",
              "595208              0              0              0              0   \n",
              "595209              0              1              0              0   \n",
              "595210              0              0              0              1   \n",
              "595211              0              1              0              0   \n",
              "\n",
              "        ps_ind_09_bin  ps_ind_10_bin  ps_ind_11_bin  ps_ind_12_bin  \\\n",
              "595207              1              0              0              0   \n",
              "595208              1              0              0              0   \n",
              "595209              0              0              0              0   \n",
              "595210              0              0              0              0   \n",
              "595211              0              0              0              0   \n",
              "\n",
              "        ps_ind_13_bin  ps_ind_14  ps_ind_15  ps_ind_16_bin  ps_ind_17_bin  \\\n",
              "595207              0          0         13              1              0   \n",
              "595208              0          0          6              1              0   \n",
              "595209              0          0         12              1              0   \n",
              "595210              0          0         12              1              0   \n",
              "595211              0          0          7              1              0   \n",
              "\n",
              "        ps_ind_18_bin  ps_reg_01  ps_reg_02  ps_reg_03  ps_car_01_cat  \\\n",
              "595207              0        0.5        0.3   0.692820             10   \n",
              "595208              0        0.9        0.7   1.382027              9   \n",
              "595209              0        0.9        0.2   0.659071              7   \n",
              "595210              0        0.9        0.4   0.698212             11   \n",
              "595211              0        0.1        0.2  -1.000000              7   \n",
              "\n",
              "        ps_car_02_cat  ps_car_03_cat  ps_car_04_cat  ps_car_05_cat  \\\n",
              "595207              1             -1              0              1   \n",
              "595208              1             -1              0             -1   \n",
              "595209              1             -1              0             -1   \n",
              "595210              1             -1              0             -1   \n",
              "595211              0             -1              0             -1   \n",
              "\n",
              "        ps_car_06_cat  ps_car_07_cat  ps_car_08_cat  ps_car_09_cat  \\\n",
              "595207              1              1              1              0   \n",
              "595208             15              0              0              2   \n",
              "595209              1              1              1              2   \n",
              "595210             11              1              1              2   \n",
              "595211              0              1              0              2   \n",
              "\n",
              "        ps_car_10_cat  ps_car_11_cat  ps_car_11  ps_car_12  ps_car_13  \\\n",
              "595207              1             31          3   0.374166   0.684631   \n",
              "595208              1             63          2   0.387298   0.972145   \n",
              "595209              1             31          3   0.397492   0.596373   \n",
              "595210              1            101          3   0.374166   0.764434   \n",
              "595211              1             34          2   0.400000   0.932649   \n",
              "\n",
              "        ps_car_14  ps_car_15  ps_calc_01  ps_calc_02  ps_calc_03  ps_calc_04  \\\n",
              "595207   0.385487   2.645751         0.4         0.5         0.3           3   \n",
              "595208  -1.000000   3.605551         0.2         0.2         0.0           2   \n",
              "595209   0.398748   1.732051         0.4         0.0         0.3           3   \n",
              "595210   0.384968   3.162278         0.0         0.7         0.0           4   \n",
              "595211   0.378021   3.741657         0.4         0.0         0.5           2   \n",
              "\n",
              "        ps_calc_05  ps_calc_06  ps_calc_07  ps_calc_08  ps_calc_09  \\\n",
              "595207           0           9           0           9           1   \n",
              "595208           4           8           6           8           2   \n",
              "595209           2           7           4           8           0   \n",
              "595210           0           9           4           9           2   \n",
              "595211           3          10           4          10           2   \n",
              "\n",
              "        ps_calc_10  ps_calc_11  ps_calc_12  ps_calc_13  ps_calc_14  \\\n",
              "595207          12           4           1           9           6   \n",
              "595208          12           4           1           3           8   \n",
              "595209          10           3           2           2           6   \n",
              "595210          11           4           1           4           2   \n",
              "595211           5           4           4           3           8   \n",
              "\n",
              "        ps_calc_15_bin  ps_calc_16_bin  ps_calc_17_bin  ps_calc_18_bin  \\\n",
              "595207               0               1               1               0   \n",
              "595208               1               0               1               0   \n",
              "595209               0               0               1               0   \n",
              "595210               0               1               1               1   \n",
              "595211               0               1               0               0   \n",
              "\n",
              "        ps_calc_19_bin  ps_calc_20_bin  \n",
              "595207               1               1  \n",
              "595208               1               1  \n",
              "595209               0               0  \n",
              "595210               0               0  \n",
              "595211               0               0  "
            ]
          },
          "metadata": {
            "tags": []
          },
          "execution_count": 6
        }
      ]
    },
    {
      "cell_type": "markdown",
      "metadata": {
        "id": "1YWWdaDlXiOm",
        "colab_type": "text"
      },
      "source": [
        "우리는 다음과 같은 내용을 확인할 수 있다.\n",
        "- 이진 변수\n",
        "- 범주 값이 정수인 범주형 변수\n",
        "- 정수 또는 실수 변수\n",
        "- 값이 -1인 누락된 변수\n",
        "- 타겟 변수와 ID 변수\n"
      ]
    },
    {
      "cell_type": "markdown",
      "metadata": {
        "id": "ZIwpReyBX7wN",
        "colab_type": "text"
      },
      "source": [
        "train 데이터의 행과 열의 수를 살펴보겠습니다."
      ]
    },
    {
      "cell_type": "code",
      "metadata": {
        "id": "qO7LrpXsYDNN",
        "colab_type": "code",
        "colab": {
          "base_uri": "https://localhost:8080/",
          "height": 35
        },
        "outputId": "0ac3a069-4d10-4a3d-898a-6fea38f96094"
      },
      "source": [
        "train.shape"
      ],
      "execution_count": null,
      "outputs": [
        {
          "output_type": "execute_result",
          "data": {
            "text/plain": [
              "(595212, 59)"
            ]
          },
          "metadata": {
            "tags": []
          },
          "execution_count": 7
        }
      ]
    },
    {
      "cell_type": "markdown",
      "metadata": {
        "id": "iclO7zEQYNby",
        "colab_type": "text"
      },
      "source": [
        "59개의 변수와 595,212개의 행이 있습니다. test 데이터에 같은 수의 변수가 있는지 봅시다.  \n",
        "학습할 데이터에 중복 행이 있는지 봅시다."
      ]
    },
    {
      "cell_type": "code",
      "metadata": {
        "id": "SBtSZvsZYEb3",
        "colab_type": "code",
        "colab": {
          "base_uri": "https://localhost:8080/",
          "height": 35
        },
        "outputId": "676f22f6-95a1-44d3-e0cb-d9b3b4235af5"
      },
      "source": [
        "train.drop_duplicates()\n",
        "train.shape"
      ],
      "execution_count": null,
      "outputs": [
        {
          "output_type": "execute_result",
          "data": {
            "text/plain": [
              "(595212, 59)"
            ]
          },
          "metadata": {
            "tags": []
          },
          "execution_count": 8
        }
      ]
    },
    {
      "cell_type": "markdown",
      "metadata": {
        "id": "vdZEFcTYYpKj",
        "colab_type": "text"
      },
      "source": [
        "우선 중복은 없습니다. "
      ]
    },
    {
      "cell_type": "code",
      "metadata": {
        "id": "PwDzUTWkYjwH",
        "colab_type": "code",
        "colab": {
          "base_uri": "https://localhost:8080/",
          "height": 35
        },
        "outputId": "03b610d8-0d3e-40e9-8218-1fc2aa22ccd5"
      },
      "source": [
        "test.shape"
      ],
      "execution_count": null,
      "outputs": [
        {
          "output_type": "execute_result",
          "data": {
            "text/plain": [
              "(892816, 58)"
            ]
          },
          "metadata": {
            "tags": []
          },
          "execution_count": 9
        }
      ]
    },
    {
      "cell_type": "markdown",
      "metadata": {
        "id": "qV28FmUbYu05",
        "colab_type": "text"
      },
      "source": [
        "1개의 열이 부족하지만 target 컬럼이므로 정상입니다.  \n",
        "이제 우리가 가지고 있는 각 유형의 변수의 수를 알아봅시다."
      ]
    },
    {
      "cell_type": "code",
      "metadata": {
        "id": "oOz7I3KyZJ1P",
        "colab_type": "code",
        "colab": {
          "base_uri": "https://localhost:8080/",
          "height": 1000
        },
        "outputId": "02e25faa-d009-4400-a23f-7d24325a9a40"
      },
      "source": [
        "train.info()"
      ],
      "execution_count": null,
      "outputs": [
        {
          "output_type": "stream",
          "text": [
            "<class 'pandas.core.frame.DataFrame'>\n",
            "RangeIndex: 595212 entries, 0 to 595211\n",
            "Data columns (total 59 columns):\n",
            "id                595212 non-null int64\n",
            "target            595212 non-null int64\n",
            "ps_ind_01         595212 non-null int64\n",
            "ps_ind_02_cat     595212 non-null int64\n",
            "ps_ind_03         595212 non-null int64\n",
            "ps_ind_04_cat     595212 non-null int64\n",
            "ps_ind_05_cat     595212 non-null int64\n",
            "ps_ind_06_bin     595212 non-null int64\n",
            "ps_ind_07_bin     595212 non-null int64\n",
            "ps_ind_08_bin     595212 non-null int64\n",
            "ps_ind_09_bin     595212 non-null int64\n",
            "ps_ind_10_bin     595212 non-null int64\n",
            "ps_ind_11_bin     595212 non-null int64\n",
            "ps_ind_12_bin     595212 non-null int64\n",
            "ps_ind_13_bin     595212 non-null int64\n",
            "ps_ind_14         595212 non-null int64\n",
            "ps_ind_15         595212 non-null int64\n",
            "ps_ind_16_bin     595212 non-null int64\n",
            "ps_ind_17_bin     595212 non-null int64\n",
            "ps_ind_18_bin     595212 non-null int64\n",
            "ps_reg_01         595212 non-null float64\n",
            "ps_reg_02         595212 non-null float64\n",
            "ps_reg_03         595212 non-null float64\n",
            "ps_car_01_cat     595212 non-null int64\n",
            "ps_car_02_cat     595212 non-null int64\n",
            "ps_car_03_cat     595212 non-null int64\n",
            "ps_car_04_cat     595212 non-null int64\n",
            "ps_car_05_cat     595212 non-null int64\n",
            "ps_car_06_cat     595212 non-null int64\n",
            "ps_car_07_cat     595212 non-null int64\n",
            "ps_car_08_cat     595212 non-null int64\n",
            "ps_car_09_cat     595212 non-null int64\n",
            "ps_car_10_cat     595212 non-null int64\n",
            "ps_car_11_cat     595212 non-null int64\n",
            "ps_car_11         595212 non-null int64\n",
            "ps_car_12         595212 non-null float64\n",
            "ps_car_13         595212 non-null float64\n",
            "ps_car_14         595212 non-null float64\n",
            "ps_car_15         595212 non-null float64\n",
            "ps_calc_01        595212 non-null float64\n",
            "ps_calc_02        595212 non-null float64\n",
            "ps_calc_03        595212 non-null float64\n",
            "ps_calc_04        595212 non-null int64\n",
            "ps_calc_05        595212 non-null int64\n",
            "ps_calc_06        595212 non-null int64\n",
            "ps_calc_07        595212 non-null int64\n",
            "ps_calc_08        595212 non-null int64\n",
            "ps_calc_09        595212 non-null int64\n",
            "ps_calc_10        595212 non-null int64\n",
            "ps_calc_11        595212 non-null int64\n",
            "ps_calc_12        595212 non-null int64\n",
            "ps_calc_13        595212 non-null int64\n",
            "ps_calc_14        595212 non-null int64\n",
            "ps_calc_15_bin    595212 non-null int64\n",
            "ps_calc_16_bin    595212 non-null int64\n",
            "ps_calc_17_bin    595212 non-null int64\n",
            "ps_calc_18_bin    595212 non-null int64\n",
            "ps_calc_19_bin    595212 non-null int64\n",
            "ps_calc_20_bin    595212 non-null int64\n",
            "dtypes: float64(10), int64(49)\n",
            "memory usage: 267.9 MB\n"
          ],
          "name": "stdout"
        }
      ]
    },
    {
      "cell_type": "markdown",
      "metadata": {
        "id": "GYx2IYyaZLWx",
        "colab_type": "text"
      },
      "source": [
        "info() 메서드를 사용하여 데이터 유형이 정수형 또는 실수형임을 알 수 있습니다.  \n",
        "데이터 세트에 Null 값이 없는데 누락된 값이 -1로 대체된 것이기 때문에 그렇습니다. 이 부분은 나중에 살펴보겠습니다."
      ]
    },
    {
      "cell_type": "markdown",
      "metadata": {
        "id": "trKG1V2lZh2A",
        "colab_type": "text"
      },
      "source": [
        "## 메타 데이터"
      ]
    },
    {
      "cell_type": "markdown",
      "metadata": {
        "id": "lcckfOUuZneB",
        "colab_type": "text"
      },
      "source": [
        "데이터 관리를 쉽게 하기 위해 변수에 대한 메타 정보를 데이터프레임에 저장합니다.  \n",
        "이렇게 하면 분석, 시각화, 모델링을 위해 특정 변수를 선택하고자 할 때 도움이 될 것입니다."
      ]
    },
    {
      "cell_type": "markdown",
      "metadata": {
        "id": "8PFDkAuSZ4jk",
        "colab_type": "text"
      },
      "source": [
        "이런 방식으로 저장할 것입니다.\n",
        "\n",
        "- role: input, ID, target\n",
        "- level: nominal, interval, ordinal, binary\n",
        "- keep: True or False\n",
        "- dtype: int, float, str"
      ]
    },
    {
      "cell_type": "code",
      "metadata": {
        "id": "wa5hFcgaaLlR",
        "colab_type": "code",
        "colab": {}
      },
      "source": [
        "data = []\n",
        "for f in train.columns:\n",
        "    # role 정의\n",
        "    if f == 'target':\n",
        "        role = 'target'\n",
        "    elif f == 'id':\n",
        "        role = 'id'\n",
        "    else:\n",
        "        role = 'input'\n",
        "         \n",
        "    # level 정의\n",
        "    if 'bin' in f or f == 'target':\n",
        "        level = 'binary'\n",
        "    elif 'cat' in f or f == 'id':\n",
        "        level = 'nominal'\n",
        "    elif train[f].dtype == float:\n",
        "        level = 'interval'\n",
        "    elif train[f].dtype == int:\n",
        "        level = 'ordinal'\n",
        "        \n",
        "    # id를 제외한 모든 변수를 True로 초기화\n",
        "    keep = True\n",
        "    if f == 'id':\n",
        "        keep = False\n",
        "    \n",
        "    # 데이터 유형 정의\n",
        "    dtype = train[f].dtype\n",
        "    \n",
        "    # 변수에 대한 메타 데이터를 담는 사전 만들기\n",
        "    f_dict = {\n",
        "        'varname': f,\n",
        "        'role': role,\n",
        "        'level': level,\n",
        "        'keep': keep,\n",
        "        'dtype': dtype\n",
        "    }\n",
        "    data.append(f_dict)\n",
        "    \n",
        "meta = pd.DataFrame(data, columns=['varname', 'role', 'level', 'keep', 'dtype'])\n",
        "meta.set_index('varname', inplace=True)"
      ],
      "execution_count": null,
      "outputs": []
    },
    {
      "cell_type": "code",
      "metadata": {
        "id": "lfihC6YibF0l",
        "colab_type": "code",
        "colab": {
          "base_uri": "https://localhost:8080/",
          "height": 1000
        },
        "outputId": "4581886c-2083-4f5a-fbbd-a363038fae1f"
      },
      "source": [
        "meta"
      ],
      "execution_count": null,
      "outputs": [
        {
          "output_type": "execute_result",
          "data": {
            "text/html": [
              "<div>\n",
              "<style scoped>\n",
              "    .dataframe tbody tr th:only-of-type {\n",
              "        vertical-align: middle;\n",
              "    }\n",
              "\n",
              "    .dataframe tbody tr th {\n",
              "        vertical-align: top;\n",
              "    }\n",
              "\n",
              "    .dataframe thead th {\n",
              "        text-align: right;\n",
              "    }\n",
              "</style>\n",
              "<table border=\"1\" class=\"dataframe\">\n",
              "  <thead>\n",
              "    <tr style=\"text-align: right;\">\n",
              "      <th></th>\n",
              "      <th>role</th>\n",
              "      <th>level</th>\n",
              "      <th>keep</th>\n",
              "      <th>dtype</th>\n",
              "    </tr>\n",
              "    <tr>\n",
              "      <th>varname</th>\n",
              "      <th></th>\n",
              "      <th></th>\n",
              "      <th></th>\n",
              "      <th></th>\n",
              "    </tr>\n",
              "  </thead>\n",
              "  <tbody>\n",
              "    <tr>\n",
              "      <th>id</th>\n",
              "      <td>id</td>\n",
              "      <td>nominal</td>\n",
              "      <td>False</td>\n",
              "      <td>int64</td>\n",
              "    </tr>\n",
              "    <tr>\n",
              "      <th>target</th>\n",
              "      <td>target</td>\n",
              "      <td>binary</td>\n",
              "      <td>True</td>\n",
              "      <td>int64</td>\n",
              "    </tr>\n",
              "    <tr>\n",
              "      <th>ps_ind_01</th>\n",
              "      <td>input</td>\n",
              "      <td>ordinal</td>\n",
              "      <td>True</td>\n",
              "      <td>int64</td>\n",
              "    </tr>\n",
              "    <tr>\n",
              "      <th>ps_ind_02_cat</th>\n",
              "      <td>input</td>\n",
              "      <td>nominal</td>\n",
              "      <td>True</td>\n",
              "      <td>int64</td>\n",
              "    </tr>\n",
              "    <tr>\n",
              "      <th>ps_ind_03</th>\n",
              "      <td>input</td>\n",
              "      <td>ordinal</td>\n",
              "      <td>True</td>\n",
              "      <td>int64</td>\n",
              "    </tr>\n",
              "    <tr>\n",
              "      <th>ps_ind_04_cat</th>\n",
              "      <td>input</td>\n",
              "      <td>nominal</td>\n",
              "      <td>True</td>\n",
              "      <td>int64</td>\n",
              "    </tr>\n",
              "    <tr>\n",
              "      <th>ps_ind_05_cat</th>\n",
              "      <td>input</td>\n",
              "      <td>nominal</td>\n",
              "      <td>True</td>\n",
              "      <td>int64</td>\n",
              "    </tr>\n",
              "    <tr>\n",
              "      <th>ps_ind_06_bin</th>\n",
              "      <td>input</td>\n",
              "      <td>binary</td>\n",
              "      <td>True</td>\n",
              "      <td>int64</td>\n",
              "    </tr>\n",
              "    <tr>\n",
              "      <th>ps_ind_07_bin</th>\n",
              "      <td>input</td>\n",
              "      <td>binary</td>\n",
              "      <td>True</td>\n",
              "      <td>int64</td>\n",
              "    </tr>\n",
              "    <tr>\n",
              "      <th>ps_ind_08_bin</th>\n",
              "      <td>input</td>\n",
              "      <td>binary</td>\n",
              "      <td>True</td>\n",
              "      <td>int64</td>\n",
              "    </tr>\n",
              "    <tr>\n",
              "      <th>ps_ind_09_bin</th>\n",
              "      <td>input</td>\n",
              "      <td>binary</td>\n",
              "      <td>True</td>\n",
              "      <td>int64</td>\n",
              "    </tr>\n",
              "    <tr>\n",
              "      <th>ps_ind_10_bin</th>\n",
              "      <td>input</td>\n",
              "      <td>binary</td>\n",
              "      <td>True</td>\n",
              "      <td>int64</td>\n",
              "    </tr>\n",
              "    <tr>\n",
              "      <th>ps_ind_11_bin</th>\n",
              "      <td>input</td>\n",
              "      <td>binary</td>\n",
              "      <td>True</td>\n",
              "      <td>int64</td>\n",
              "    </tr>\n",
              "    <tr>\n",
              "      <th>ps_ind_12_bin</th>\n",
              "      <td>input</td>\n",
              "      <td>binary</td>\n",
              "      <td>True</td>\n",
              "      <td>int64</td>\n",
              "    </tr>\n",
              "    <tr>\n",
              "      <th>ps_ind_13_bin</th>\n",
              "      <td>input</td>\n",
              "      <td>binary</td>\n",
              "      <td>True</td>\n",
              "      <td>int64</td>\n",
              "    </tr>\n",
              "    <tr>\n",
              "      <th>ps_ind_14</th>\n",
              "      <td>input</td>\n",
              "      <td>ordinal</td>\n",
              "      <td>True</td>\n",
              "      <td>int64</td>\n",
              "    </tr>\n",
              "    <tr>\n",
              "      <th>ps_ind_15</th>\n",
              "      <td>input</td>\n",
              "      <td>ordinal</td>\n",
              "      <td>True</td>\n",
              "      <td>int64</td>\n",
              "    </tr>\n",
              "    <tr>\n",
              "      <th>ps_ind_16_bin</th>\n",
              "      <td>input</td>\n",
              "      <td>binary</td>\n",
              "      <td>True</td>\n",
              "      <td>int64</td>\n",
              "    </tr>\n",
              "    <tr>\n",
              "      <th>ps_ind_17_bin</th>\n",
              "      <td>input</td>\n",
              "      <td>binary</td>\n",
              "      <td>True</td>\n",
              "      <td>int64</td>\n",
              "    </tr>\n",
              "    <tr>\n",
              "      <th>ps_ind_18_bin</th>\n",
              "      <td>input</td>\n",
              "      <td>binary</td>\n",
              "      <td>True</td>\n",
              "      <td>int64</td>\n",
              "    </tr>\n",
              "    <tr>\n",
              "      <th>ps_reg_01</th>\n",
              "      <td>input</td>\n",
              "      <td>interval</td>\n",
              "      <td>True</td>\n",
              "      <td>float64</td>\n",
              "    </tr>\n",
              "    <tr>\n",
              "      <th>ps_reg_02</th>\n",
              "      <td>input</td>\n",
              "      <td>interval</td>\n",
              "      <td>True</td>\n",
              "      <td>float64</td>\n",
              "    </tr>\n",
              "    <tr>\n",
              "      <th>ps_reg_03</th>\n",
              "      <td>input</td>\n",
              "      <td>interval</td>\n",
              "      <td>True</td>\n",
              "      <td>float64</td>\n",
              "    </tr>\n",
              "    <tr>\n",
              "      <th>ps_car_01_cat</th>\n",
              "      <td>input</td>\n",
              "      <td>nominal</td>\n",
              "      <td>True</td>\n",
              "      <td>int64</td>\n",
              "    </tr>\n",
              "    <tr>\n",
              "      <th>ps_car_02_cat</th>\n",
              "      <td>input</td>\n",
              "      <td>nominal</td>\n",
              "      <td>True</td>\n",
              "      <td>int64</td>\n",
              "    </tr>\n",
              "    <tr>\n",
              "      <th>ps_car_03_cat</th>\n",
              "      <td>input</td>\n",
              "      <td>nominal</td>\n",
              "      <td>True</td>\n",
              "      <td>int64</td>\n",
              "    </tr>\n",
              "    <tr>\n",
              "      <th>ps_car_04_cat</th>\n",
              "      <td>input</td>\n",
              "      <td>nominal</td>\n",
              "      <td>True</td>\n",
              "      <td>int64</td>\n",
              "    </tr>\n",
              "    <tr>\n",
              "      <th>ps_car_05_cat</th>\n",
              "      <td>input</td>\n",
              "      <td>nominal</td>\n",
              "      <td>True</td>\n",
              "      <td>int64</td>\n",
              "    </tr>\n",
              "    <tr>\n",
              "      <th>ps_car_06_cat</th>\n",
              "      <td>input</td>\n",
              "      <td>nominal</td>\n",
              "      <td>True</td>\n",
              "      <td>int64</td>\n",
              "    </tr>\n",
              "    <tr>\n",
              "      <th>ps_car_07_cat</th>\n",
              "      <td>input</td>\n",
              "      <td>nominal</td>\n",
              "      <td>True</td>\n",
              "      <td>int64</td>\n",
              "    </tr>\n",
              "    <tr>\n",
              "      <th>ps_car_08_cat</th>\n",
              "      <td>input</td>\n",
              "      <td>nominal</td>\n",
              "      <td>True</td>\n",
              "      <td>int64</td>\n",
              "    </tr>\n",
              "    <tr>\n",
              "      <th>ps_car_09_cat</th>\n",
              "      <td>input</td>\n",
              "      <td>nominal</td>\n",
              "      <td>True</td>\n",
              "      <td>int64</td>\n",
              "    </tr>\n",
              "    <tr>\n",
              "      <th>ps_car_10_cat</th>\n",
              "      <td>input</td>\n",
              "      <td>nominal</td>\n",
              "      <td>True</td>\n",
              "      <td>int64</td>\n",
              "    </tr>\n",
              "    <tr>\n",
              "      <th>ps_car_11_cat</th>\n",
              "      <td>input</td>\n",
              "      <td>nominal</td>\n",
              "      <td>True</td>\n",
              "      <td>int64</td>\n",
              "    </tr>\n",
              "    <tr>\n",
              "      <th>ps_car_11</th>\n",
              "      <td>input</td>\n",
              "      <td>ordinal</td>\n",
              "      <td>True</td>\n",
              "      <td>int64</td>\n",
              "    </tr>\n",
              "    <tr>\n",
              "      <th>ps_car_12</th>\n",
              "      <td>input</td>\n",
              "      <td>interval</td>\n",
              "      <td>True</td>\n",
              "      <td>float64</td>\n",
              "    </tr>\n",
              "    <tr>\n",
              "      <th>ps_car_13</th>\n",
              "      <td>input</td>\n",
              "      <td>interval</td>\n",
              "      <td>True</td>\n",
              "      <td>float64</td>\n",
              "    </tr>\n",
              "    <tr>\n",
              "      <th>ps_car_14</th>\n",
              "      <td>input</td>\n",
              "      <td>interval</td>\n",
              "      <td>True</td>\n",
              "      <td>float64</td>\n",
              "    </tr>\n",
              "    <tr>\n",
              "      <th>ps_car_15</th>\n",
              "      <td>input</td>\n",
              "      <td>interval</td>\n",
              "      <td>True</td>\n",
              "      <td>float64</td>\n",
              "    </tr>\n",
              "    <tr>\n",
              "      <th>ps_calc_01</th>\n",
              "      <td>input</td>\n",
              "      <td>interval</td>\n",
              "      <td>True</td>\n",
              "      <td>float64</td>\n",
              "    </tr>\n",
              "    <tr>\n",
              "      <th>ps_calc_02</th>\n",
              "      <td>input</td>\n",
              "      <td>interval</td>\n",
              "      <td>True</td>\n",
              "      <td>float64</td>\n",
              "    </tr>\n",
              "    <tr>\n",
              "      <th>ps_calc_03</th>\n",
              "      <td>input</td>\n",
              "      <td>interval</td>\n",
              "      <td>True</td>\n",
              "      <td>float64</td>\n",
              "    </tr>\n",
              "    <tr>\n",
              "      <th>ps_calc_04</th>\n",
              "      <td>input</td>\n",
              "      <td>ordinal</td>\n",
              "      <td>True</td>\n",
              "      <td>int64</td>\n",
              "    </tr>\n",
              "    <tr>\n",
              "      <th>ps_calc_05</th>\n",
              "      <td>input</td>\n",
              "      <td>ordinal</td>\n",
              "      <td>True</td>\n",
              "      <td>int64</td>\n",
              "    </tr>\n",
              "    <tr>\n",
              "      <th>ps_calc_06</th>\n",
              "      <td>input</td>\n",
              "      <td>ordinal</td>\n",
              "      <td>True</td>\n",
              "      <td>int64</td>\n",
              "    </tr>\n",
              "    <tr>\n",
              "      <th>ps_calc_07</th>\n",
              "      <td>input</td>\n",
              "      <td>ordinal</td>\n",
              "      <td>True</td>\n",
              "      <td>int64</td>\n",
              "    </tr>\n",
              "    <tr>\n",
              "      <th>ps_calc_08</th>\n",
              "      <td>input</td>\n",
              "      <td>ordinal</td>\n",
              "      <td>True</td>\n",
              "      <td>int64</td>\n",
              "    </tr>\n",
              "    <tr>\n",
              "      <th>ps_calc_09</th>\n",
              "      <td>input</td>\n",
              "      <td>ordinal</td>\n",
              "      <td>True</td>\n",
              "      <td>int64</td>\n",
              "    </tr>\n",
              "    <tr>\n",
              "      <th>ps_calc_10</th>\n",
              "      <td>input</td>\n",
              "      <td>ordinal</td>\n",
              "      <td>True</td>\n",
              "      <td>int64</td>\n",
              "    </tr>\n",
              "    <tr>\n",
              "      <th>ps_calc_11</th>\n",
              "      <td>input</td>\n",
              "      <td>ordinal</td>\n",
              "      <td>True</td>\n",
              "      <td>int64</td>\n",
              "    </tr>\n",
              "    <tr>\n",
              "      <th>ps_calc_12</th>\n",
              "      <td>input</td>\n",
              "      <td>ordinal</td>\n",
              "      <td>True</td>\n",
              "      <td>int64</td>\n",
              "    </tr>\n",
              "    <tr>\n",
              "      <th>ps_calc_13</th>\n",
              "      <td>input</td>\n",
              "      <td>ordinal</td>\n",
              "      <td>True</td>\n",
              "      <td>int64</td>\n",
              "    </tr>\n",
              "    <tr>\n",
              "      <th>ps_calc_14</th>\n",
              "      <td>input</td>\n",
              "      <td>ordinal</td>\n",
              "      <td>True</td>\n",
              "      <td>int64</td>\n",
              "    </tr>\n",
              "    <tr>\n",
              "      <th>ps_calc_15_bin</th>\n",
              "      <td>input</td>\n",
              "      <td>binary</td>\n",
              "      <td>True</td>\n",
              "      <td>int64</td>\n",
              "    </tr>\n",
              "    <tr>\n",
              "      <th>ps_calc_16_bin</th>\n",
              "      <td>input</td>\n",
              "      <td>binary</td>\n",
              "      <td>True</td>\n",
              "      <td>int64</td>\n",
              "    </tr>\n",
              "    <tr>\n",
              "      <th>ps_calc_17_bin</th>\n",
              "      <td>input</td>\n",
              "      <td>binary</td>\n",
              "      <td>True</td>\n",
              "      <td>int64</td>\n",
              "    </tr>\n",
              "    <tr>\n",
              "      <th>ps_calc_18_bin</th>\n",
              "      <td>input</td>\n",
              "      <td>binary</td>\n",
              "      <td>True</td>\n",
              "      <td>int64</td>\n",
              "    </tr>\n",
              "    <tr>\n",
              "      <th>ps_calc_19_bin</th>\n",
              "      <td>input</td>\n",
              "      <td>binary</td>\n",
              "      <td>True</td>\n",
              "      <td>int64</td>\n",
              "    </tr>\n",
              "    <tr>\n",
              "      <th>ps_calc_20_bin</th>\n",
              "      <td>input</td>\n",
              "      <td>binary</td>\n",
              "      <td>True</td>\n",
              "      <td>int64</td>\n",
              "    </tr>\n",
              "  </tbody>\n",
              "</table>\n",
              "</div>"
            ],
            "text/plain": [
              "                  role     level   keep    dtype\n",
              "varname                                         \n",
              "id                  id   nominal  False    int64\n",
              "target          target    binary   True    int64\n",
              "ps_ind_01        input   ordinal   True    int64\n",
              "ps_ind_02_cat    input   nominal   True    int64\n",
              "ps_ind_03        input   ordinal   True    int64\n",
              "ps_ind_04_cat    input   nominal   True    int64\n",
              "ps_ind_05_cat    input   nominal   True    int64\n",
              "ps_ind_06_bin    input    binary   True    int64\n",
              "ps_ind_07_bin    input    binary   True    int64\n",
              "ps_ind_08_bin    input    binary   True    int64\n",
              "ps_ind_09_bin    input    binary   True    int64\n",
              "ps_ind_10_bin    input    binary   True    int64\n",
              "ps_ind_11_bin    input    binary   True    int64\n",
              "ps_ind_12_bin    input    binary   True    int64\n",
              "ps_ind_13_bin    input    binary   True    int64\n",
              "ps_ind_14        input   ordinal   True    int64\n",
              "ps_ind_15        input   ordinal   True    int64\n",
              "ps_ind_16_bin    input    binary   True    int64\n",
              "ps_ind_17_bin    input    binary   True    int64\n",
              "ps_ind_18_bin    input    binary   True    int64\n",
              "ps_reg_01        input  interval   True  float64\n",
              "ps_reg_02        input  interval   True  float64\n",
              "ps_reg_03        input  interval   True  float64\n",
              "ps_car_01_cat    input   nominal   True    int64\n",
              "ps_car_02_cat    input   nominal   True    int64\n",
              "ps_car_03_cat    input   nominal   True    int64\n",
              "ps_car_04_cat    input   nominal   True    int64\n",
              "ps_car_05_cat    input   nominal   True    int64\n",
              "ps_car_06_cat    input   nominal   True    int64\n",
              "ps_car_07_cat    input   nominal   True    int64\n",
              "ps_car_08_cat    input   nominal   True    int64\n",
              "ps_car_09_cat    input   nominal   True    int64\n",
              "ps_car_10_cat    input   nominal   True    int64\n",
              "ps_car_11_cat    input   nominal   True    int64\n",
              "ps_car_11        input   ordinal   True    int64\n",
              "ps_car_12        input  interval   True  float64\n",
              "ps_car_13        input  interval   True  float64\n",
              "ps_car_14        input  interval   True  float64\n",
              "ps_car_15        input  interval   True  float64\n",
              "ps_calc_01       input  interval   True  float64\n",
              "ps_calc_02       input  interval   True  float64\n",
              "ps_calc_03       input  interval   True  float64\n",
              "ps_calc_04       input   ordinal   True    int64\n",
              "ps_calc_05       input   ordinal   True    int64\n",
              "ps_calc_06       input   ordinal   True    int64\n",
              "ps_calc_07       input   ordinal   True    int64\n",
              "ps_calc_08       input   ordinal   True    int64\n",
              "ps_calc_09       input   ordinal   True    int64\n",
              "ps_calc_10       input   ordinal   True    int64\n",
              "ps_calc_11       input   ordinal   True    int64\n",
              "ps_calc_12       input   ordinal   True    int64\n",
              "ps_calc_13       input   ordinal   True    int64\n",
              "ps_calc_14       input   ordinal   True    int64\n",
              "ps_calc_15_bin   input    binary   True    int64\n",
              "ps_calc_16_bin   input    binary   True    int64\n",
              "ps_calc_17_bin   input    binary   True    int64\n",
              "ps_calc_18_bin   input    binary   True    int64\n",
              "ps_calc_19_bin   input    binary   True    int64\n",
              "ps_calc_20_bin   input    binary   True    int64"
            ]
          },
          "metadata": {
            "tags": []
          },
          "execution_count": 12
        }
      ]
    },
    {
      "cell_type": "markdown",
      "metadata": {
        "id": "tHGocu4rbHBz",
        "colab_type": "text"
      },
      "source": [
        "드롭되지 않은 모든 nominal 변수를 추출하는 예제입니다."
      ]
    },
    {
      "cell_type": "code",
      "metadata": {
        "id": "uiPe9cfEbe-i",
        "colab_type": "code",
        "colab": {
          "base_uri": "https://localhost:8080/",
          "height": 108
        },
        "outputId": "5da2311b-dcaf-42da-93ef-243124e3665a"
      },
      "source": [
        "meta[(meta.level == 'nominal') & (meta.keep)].index"
      ],
      "execution_count": null,
      "outputs": [
        {
          "output_type": "execute_result",
          "data": {
            "text/plain": [
              "Index(['ps_ind_02_cat', 'ps_ind_04_cat', 'ps_ind_05_cat', 'ps_car_01_cat',\n",
              "       'ps_car_02_cat', 'ps_car_03_cat', 'ps_car_04_cat', 'ps_car_05_cat',\n",
              "       'ps_car_06_cat', 'ps_car_07_cat', 'ps_car_08_cat', 'ps_car_09_cat',\n",
              "       'ps_car_10_cat', 'ps_car_11_cat'],\n",
              "      dtype='object', name='varname')"
            ]
          },
          "metadata": {
            "tags": []
          },
          "execution_count": 13
        }
      ]
    },
    {
      "cell_type": "markdown",
      "metadata": {
        "id": "qD0hx1uUcvf0",
        "colab_type": "text"
      },
      "source": [
        "role 및 level 당 변수의 개수를 출력합니다"
      ]
    },
    {
      "cell_type": "code",
      "metadata": {
        "id": "tHxSWTl2bj_m",
        "colab_type": "code",
        "colab": {
          "base_uri": "https://localhost:8080/",
          "height": 228
        },
        "outputId": "dbe03622-1306-4e68-865c-6671191f5c68"
      },
      "source": [
        "pd.DataFrame({'count' : meta.groupby(['role', 'level'])['role'].size()}).reset_index()"
      ],
      "execution_count": null,
      "outputs": [
        {
          "output_type": "execute_result",
          "data": {
            "text/html": [
              "<div>\n",
              "<style scoped>\n",
              "    .dataframe tbody tr th:only-of-type {\n",
              "        vertical-align: middle;\n",
              "    }\n",
              "\n",
              "    .dataframe tbody tr th {\n",
              "        vertical-align: top;\n",
              "    }\n",
              "\n",
              "    .dataframe thead th {\n",
              "        text-align: right;\n",
              "    }\n",
              "</style>\n",
              "<table border=\"1\" class=\"dataframe\">\n",
              "  <thead>\n",
              "    <tr style=\"text-align: right;\">\n",
              "      <th></th>\n",
              "      <th>role</th>\n",
              "      <th>level</th>\n",
              "      <th>count</th>\n",
              "    </tr>\n",
              "  </thead>\n",
              "  <tbody>\n",
              "    <tr>\n",
              "      <th>0</th>\n",
              "      <td>id</td>\n",
              "      <td>nominal</td>\n",
              "      <td>1</td>\n",
              "    </tr>\n",
              "    <tr>\n",
              "      <th>1</th>\n",
              "      <td>input</td>\n",
              "      <td>binary</td>\n",
              "      <td>17</td>\n",
              "    </tr>\n",
              "    <tr>\n",
              "      <th>2</th>\n",
              "      <td>input</td>\n",
              "      <td>interval</td>\n",
              "      <td>10</td>\n",
              "    </tr>\n",
              "    <tr>\n",
              "      <th>3</th>\n",
              "      <td>input</td>\n",
              "      <td>nominal</td>\n",
              "      <td>14</td>\n",
              "    </tr>\n",
              "    <tr>\n",
              "      <th>4</th>\n",
              "      <td>input</td>\n",
              "      <td>ordinal</td>\n",
              "      <td>16</td>\n",
              "    </tr>\n",
              "    <tr>\n",
              "      <th>5</th>\n",
              "      <td>target</td>\n",
              "      <td>binary</td>\n",
              "      <td>1</td>\n",
              "    </tr>\n",
              "  </tbody>\n",
              "</table>\n",
              "</div>"
            ],
            "text/plain": [
              "     role     level  count\n",
              "0      id   nominal      1\n",
              "1   input    binary     17\n",
              "2   input  interval     10\n",
              "3   input   nominal     14\n",
              "4   input   ordinal     16\n",
              "5  target    binary      1"
            ]
          },
          "metadata": {
            "tags": []
          },
          "execution_count": 14
        }
      ]
    },
    {
      "cell_type": "markdown",
      "metadata": {
        "id": "-dHZjXO5cu-Z",
        "colab_type": "text"
      },
      "source": [
        "## 기술 통계(Descriptive statistics)"
      ]
    },
    {
      "cell_type": "markdown",
      "metadata": {
        "id": "tq8V8c1cdgzc",
        "colab_type": "text"
      },
      "source": [
        "데이터 프레임에 describe 메소드를 적용 할 수도 있습니다.  \n",
        "그러나 범주형 변수와 id 변수에서 평균, 표준 등을 계산하는 것은별로 의미가 없습니다.  \n",
        "범주형 변수는 나중에 시각적으로 살펴볼 것입니다."
      ]
    },
    {
      "cell_type": "markdown",
      "metadata": {
        "id": "dToUL0njd-7R",
        "colab_type": "text"
      },
      "source": [
        "메타 파일 덕분에 기술 통계를 계산할 변수를 쉽게 선택할 수 있습니다.  \n",
        "일을 분명히하기 위해 우리는 데이터 유형마다 이것을 할 것입니다.  "
      ]
    },
    {
      "cell_type": "markdown",
      "metadata": {
        "id": "DWSw58lFeUPp",
        "colab_type": "text"
      },
      "source": [
        "### Interval 변수"
      ]
    },
    {
      "cell_type": "code",
      "metadata": {
        "id": "2ALqXQM9iyKd",
        "colab_type": "code",
        "colab": {
          "base_uri": "https://localhost:8080/",
          "height": 288
        },
        "outputId": "2867b1ca-c1d3-4777-a744-92c0b42e0ae6"
      },
      "source": [
        "v = meta[(meta.level == 'interval') & (meta.keep)].index\n",
        "train[v].describe()"
      ],
      "execution_count": null,
      "outputs": [
        {
          "output_type": "execute_result",
          "data": {
            "text/html": [
              "<div>\n",
              "<style scoped>\n",
              "    .dataframe tbody tr th:only-of-type {\n",
              "        vertical-align: middle;\n",
              "    }\n",
              "\n",
              "    .dataframe tbody tr th {\n",
              "        vertical-align: top;\n",
              "    }\n",
              "\n",
              "    .dataframe thead th {\n",
              "        text-align: right;\n",
              "    }\n",
              "</style>\n",
              "<table border=\"1\" class=\"dataframe\">\n",
              "  <thead>\n",
              "    <tr style=\"text-align: right;\">\n",
              "      <th></th>\n",
              "      <th>ps_reg_01</th>\n",
              "      <th>ps_reg_02</th>\n",
              "      <th>ps_reg_03</th>\n",
              "      <th>ps_car_12</th>\n",
              "      <th>ps_car_13</th>\n",
              "      <th>ps_car_14</th>\n",
              "      <th>ps_car_15</th>\n",
              "      <th>ps_calc_01</th>\n",
              "      <th>ps_calc_02</th>\n",
              "      <th>ps_calc_03</th>\n",
              "    </tr>\n",
              "  </thead>\n",
              "  <tbody>\n",
              "    <tr>\n",
              "      <th>count</th>\n",
              "      <td>595212.000000</td>\n",
              "      <td>595212.000000</td>\n",
              "      <td>595212.000000</td>\n",
              "      <td>595212.000000</td>\n",
              "      <td>595212.000000</td>\n",
              "      <td>595212.000000</td>\n",
              "      <td>595212.000000</td>\n",
              "      <td>595212.000000</td>\n",
              "      <td>595212.000000</td>\n",
              "      <td>595212.000000</td>\n",
              "    </tr>\n",
              "    <tr>\n",
              "      <th>mean</th>\n",
              "      <td>0.610991</td>\n",
              "      <td>0.439184</td>\n",
              "      <td>0.551102</td>\n",
              "      <td>0.379945</td>\n",
              "      <td>0.813265</td>\n",
              "      <td>0.276256</td>\n",
              "      <td>3.065899</td>\n",
              "      <td>0.449756</td>\n",
              "      <td>0.449589</td>\n",
              "      <td>0.449849</td>\n",
              "    </tr>\n",
              "    <tr>\n",
              "      <th>std</th>\n",
              "      <td>0.287643</td>\n",
              "      <td>0.404264</td>\n",
              "      <td>0.793506</td>\n",
              "      <td>0.058327</td>\n",
              "      <td>0.224588</td>\n",
              "      <td>0.357154</td>\n",
              "      <td>0.731366</td>\n",
              "      <td>0.287198</td>\n",
              "      <td>0.286893</td>\n",
              "      <td>0.287153</td>\n",
              "    </tr>\n",
              "    <tr>\n",
              "      <th>min</th>\n",
              "      <td>0.000000</td>\n",
              "      <td>0.000000</td>\n",
              "      <td>-1.000000</td>\n",
              "      <td>-1.000000</td>\n",
              "      <td>0.250619</td>\n",
              "      <td>-1.000000</td>\n",
              "      <td>0.000000</td>\n",
              "      <td>0.000000</td>\n",
              "      <td>0.000000</td>\n",
              "      <td>0.000000</td>\n",
              "    </tr>\n",
              "    <tr>\n",
              "      <th>25%</th>\n",
              "      <td>0.400000</td>\n",
              "      <td>0.200000</td>\n",
              "      <td>0.525000</td>\n",
              "      <td>0.316228</td>\n",
              "      <td>0.670867</td>\n",
              "      <td>0.333167</td>\n",
              "      <td>2.828427</td>\n",
              "      <td>0.200000</td>\n",
              "      <td>0.200000</td>\n",
              "      <td>0.200000</td>\n",
              "    </tr>\n",
              "    <tr>\n",
              "      <th>50%</th>\n",
              "      <td>0.700000</td>\n",
              "      <td>0.300000</td>\n",
              "      <td>0.720677</td>\n",
              "      <td>0.374166</td>\n",
              "      <td>0.765811</td>\n",
              "      <td>0.368782</td>\n",
              "      <td>3.316625</td>\n",
              "      <td>0.500000</td>\n",
              "      <td>0.400000</td>\n",
              "      <td>0.500000</td>\n",
              "    </tr>\n",
              "    <tr>\n",
              "      <th>75%</th>\n",
              "      <td>0.900000</td>\n",
              "      <td>0.600000</td>\n",
              "      <td>1.000000</td>\n",
              "      <td>0.400000</td>\n",
              "      <td>0.906190</td>\n",
              "      <td>0.396485</td>\n",
              "      <td>3.605551</td>\n",
              "      <td>0.700000</td>\n",
              "      <td>0.700000</td>\n",
              "      <td>0.700000</td>\n",
              "    </tr>\n",
              "    <tr>\n",
              "      <th>max</th>\n",
              "      <td>0.900000</td>\n",
              "      <td>1.800000</td>\n",
              "      <td>4.037945</td>\n",
              "      <td>1.264911</td>\n",
              "      <td>3.720626</td>\n",
              "      <td>0.636396</td>\n",
              "      <td>3.741657</td>\n",
              "      <td>0.900000</td>\n",
              "      <td>0.900000</td>\n",
              "      <td>0.900000</td>\n",
              "    </tr>\n",
              "  </tbody>\n",
              "</table>\n",
              "</div>"
            ],
            "text/plain": [
              "           ps_reg_01      ps_reg_02      ps_reg_03      ps_car_12  \\\n",
              "count  595212.000000  595212.000000  595212.000000  595212.000000   \n",
              "mean        0.610991       0.439184       0.551102       0.379945   \n",
              "std         0.287643       0.404264       0.793506       0.058327   \n",
              "min         0.000000       0.000000      -1.000000      -1.000000   \n",
              "25%         0.400000       0.200000       0.525000       0.316228   \n",
              "50%         0.700000       0.300000       0.720677       0.374166   \n",
              "75%         0.900000       0.600000       1.000000       0.400000   \n",
              "max         0.900000       1.800000       4.037945       1.264911   \n",
              "\n",
              "           ps_car_13      ps_car_14      ps_car_15     ps_calc_01  \\\n",
              "count  595212.000000  595212.000000  595212.000000  595212.000000   \n",
              "mean        0.813265       0.276256       3.065899       0.449756   \n",
              "std         0.224588       0.357154       0.731366       0.287198   \n",
              "min         0.250619      -1.000000       0.000000       0.000000   \n",
              "25%         0.670867       0.333167       2.828427       0.200000   \n",
              "50%         0.765811       0.368782       3.316625       0.500000   \n",
              "75%         0.906190       0.396485       3.605551       0.700000   \n",
              "max         3.720626       0.636396       3.741657       0.900000   \n",
              "\n",
              "          ps_calc_02     ps_calc_03  \n",
              "count  595212.000000  595212.000000  \n",
              "mean        0.449589       0.449849  \n",
              "std         0.286893       0.287153  \n",
              "min         0.000000       0.000000  \n",
              "25%         0.200000       0.200000  \n",
              "50%         0.400000       0.500000  \n",
              "75%         0.700000       0.700000  \n",
              "max         0.900000       0.900000  "
            ]
          },
          "metadata": {
            "tags": []
          },
          "execution_count": 15
        }
      ]
    },
    {
      "cell_type": "markdown",
      "metadata": {
        "id": "VtwQMazlizyh",
        "colab_type": "text"
      },
      "source": [
        "#### reg 변수\n",
        "- ps_reg_03 변수만 누락 값이 존재\n",
        "- 변수들 마다 범위(최소-최대)는 다릅니다. 스케일링을 할 수 있지만 우리가 사용하려는 분류기마다 다를 것 입니다."
      ]
    },
    {
      "cell_type": "markdown",
      "metadata": {
        "id": "s84D9oqyjacM",
        "colab_type": "text"
      },
      "source": [
        "#### car 변수\n",
        "- ps_car_12 와 ps_car_15는 누락 값이 존재\n",
        "- 변수들 마다 범위가 다르고 스케일링 할 수 있다."
      ]
    },
    {
      "cell_type": "markdown",
      "metadata": {
        "id": "Lno4IzkaoCmv",
        "colab_type": "text"
      },
      "source": [
        "#### calc 변수\n",
        "- 누락값이 없다\n",
        "- 최대가 0.9인 어떤 비율일 것이다.\n",
        "- 3개의 calc 변수는 모두 유사한 분포를 가지고 있다."
      ]
    },
    {
      "cell_type": "markdown",
      "metadata": {
        "id": "nsd4r0D-og1f",
        "colab_type": "text"
      },
      "source": [
        "### Ordinal 변수"
      ]
    },
    {
      "cell_type": "code",
      "metadata": {
        "id": "YV4nPFH1pCNq",
        "colab_type": "code",
        "colab": {
          "base_uri": "https://localhost:8080/",
          "height": 308
        },
        "outputId": "a9155f6a-f92f-415c-c1f8-f84135d16586"
      },
      "source": [
        "v = meta[(meta.level == \"ordinal\") & (meta.keep)].index\n",
        "train[v].describe()"
      ],
      "execution_count": null,
      "outputs": [
        {
          "output_type": "execute_result",
          "data": {
            "text/html": [
              "<div>\n",
              "<style scoped>\n",
              "    .dataframe tbody tr th:only-of-type {\n",
              "        vertical-align: middle;\n",
              "    }\n",
              "\n",
              "    .dataframe tbody tr th {\n",
              "        vertical-align: top;\n",
              "    }\n",
              "\n",
              "    .dataframe thead th {\n",
              "        text-align: right;\n",
              "    }\n",
              "</style>\n",
              "<table border=\"1\" class=\"dataframe\">\n",
              "  <thead>\n",
              "    <tr style=\"text-align: right;\">\n",
              "      <th></th>\n",
              "      <th>ps_ind_01</th>\n",
              "      <th>ps_ind_03</th>\n",
              "      <th>ps_ind_14</th>\n",
              "      <th>ps_ind_15</th>\n",
              "      <th>ps_car_11</th>\n",
              "      <th>ps_calc_04</th>\n",
              "      <th>ps_calc_05</th>\n",
              "      <th>ps_calc_06</th>\n",
              "      <th>ps_calc_07</th>\n",
              "      <th>ps_calc_08</th>\n",
              "      <th>ps_calc_09</th>\n",
              "      <th>ps_calc_10</th>\n",
              "      <th>ps_calc_11</th>\n",
              "      <th>ps_calc_12</th>\n",
              "      <th>ps_calc_13</th>\n",
              "      <th>ps_calc_14</th>\n",
              "    </tr>\n",
              "  </thead>\n",
              "  <tbody>\n",
              "    <tr>\n",
              "      <th>count</th>\n",
              "      <td>595212.000000</td>\n",
              "      <td>595212.000000</td>\n",
              "      <td>595212.000000</td>\n",
              "      <td>595212.000000</td>\n",
              "      <td>595212.000000</td>\n",
              "      <td>595212.000000</td>\n",
              "      <td>595212.000000</td>\n",
              "      <td>595212.000000</td>\n",
              "      <td>595212.000000</td>\n",
              "      <td>595212.000000</td>\n",
              "      <td>595212.000000</td>\n",
              "      <td>595212.000000</td>\n",
              "      <td>595212.000000</td>\n",
              "      <td>595212.000000</td>\n",
              "      <td>595212.000000</td>\n",
              "      <td>595212.000000</td>\n",
              "    </tr>\n",
              "    <tr>\n",
              "      <th>mean</th>\n",
              "      <td>1.900378</td>\n",
              "      <td>4.423318</td>\n",
              "      <td>0.012451</td>\n",
              "      <td>7.299922</td>\n",
              "      <td>2.346072</td>\n",
              "      <td>2.372081</td>\n",
              "      <td>1.885886</td>\n",
              "      <td>7.689445</td>\n",
              "      <td>3.005823</td>\n",
              "      <td>9.225904</td>\n",
              "      <td>2.339034</td>\n",
              "      <td>8.433590</td>\n",
              "      <td>5.441382</td>\n",
              "      <td>1.441918</td>\n",
              "      <td>2.872288</td>\n",
              "      <td>7.539026</td>\n",
              "    </tr>\n",
              "    <tr>\n",
              "      <th>std</th>\n",
              "      <td>1.983789</td>\n",
              "      <td>2.699902</td>\n",
              "      <td>0.127545</td>\n",
              "      <td>3.546042</td>\n",
              "      <td>0.832548</td>\n",
              "      <td>1.117219</td>\n",
              "      <td>1.134927</td>\n",
              "      <td>1.334312</td>\n",
              "      <td>1.414564</td>\n",
              "      <td>1.459672</td>\n",
              "      <td>1.246949</td>\n",
              "      <td>2.904597</td>\n",
              "      <td>2.332871</td>\n",
              "      <td>1.202963</td>\n",
              "      <td>1.694887</td>\n",
              "      <td>2.746652</td>\n",
              "    </tr>\n",
              "    <tr>\n",
              "      <th>min</th>\n",
              "      <td>0.000000</td>\n",
              "      <td>0.000000</td>\n",
              "      <td>0.000000</td>\n",
              "      <td>0.000000</td>\n",
              "      <td>-1.000000</td>\n",
              "      <td>0.000000</td>\n",
              "      <td>0.000000</td>\n",
              "      <td>0.000000</td>\n",
              "      <td>0.000000</td>\n",
              "      <td>2.000000</td>\n",
              "      <td>0.000000</td>\n",
              "      <td>0.000000</td>\n",
              "      <td>0.000000</td>\n",
              "      <td>0.000000</td>\n",
              "      <td>0.000000</td>\n",
              "      <td>0.000000</td>\n",
              "    </tr>\n",
              "    <tr>\n",
              "      <th>25%</th>\n",
              "      <td>0.000000</td>\n",
              "      <td>2.000000</td>\n",
              "      <td>0.000000</td>\n",
              "      <td>5.000000</td>\n",
              "      <td>2.000000</td>\n",
              "      <td>2.000000</td>\n",
              "      <td>1.000000</td>\n",
              "      <td>7.000000</td>\n",
              "      <td>2.000000</td>\n",
              "      <td>8.000000</td>\n",
              "      <td>1.000000</td>\n",
              "      <td>6.000000</td>\n",
              "      <td>4.000000</td>\n",
              "      <td>1.000000</td>\n",
              "      <td>2.000000</td>\n",
              "      <td>6.000000</td>\n",
              "    </tr>\n",
              "    <tr>\n",
              "      <th>50%</th>\n",
              "      <td>1.000000</td>\n",
              "      <td>4.000000</td>\n",
              "      <td>0.000000</td>\n",
              "      <td>7.000000</td>\n",
              "      <td>3.000000</td>\n",
              "      <td>2.000000</td>\n",
              "      <td>2.000000</td>\n",
              "      <td>8.000000</td>\n",
              "      <td>3.000000</td>\n",
              "      <td>9.000000</td>\n",
              "      <td>2.000000</td>\n",
              "      <td>8.000000</td>\n",
              "      <td>5.000000</td>\n",
              "      <td>1.000000</td>\n",
              "      <td>3.000000</td>\n",
              "      <td>7.000000</td>\n",
              "    </tr>\n",
              "    <tr>\n",
              "      <th>75%</th>\n",
              "      <td>3.000000</td>\n",
              "      <td>6.000000</td>\n",
              "      <td>0.000000</td>\n",
              "      <td>10.000000</td>\n",
              "      <td>3.000000</td>\n",
              "      <td>3.000000</td>\n",
              "      <td>3.000000</td>\n",
              "      <td>9.000000</td>\n",
              "      <td>4.000000</td>\n",
              "      <td>10.000000</td>\n",
              "      <td>3.000000</td>\n",
              "      <td>10.000000</td>\n",
              "      <td>7.000000</td>\n",
              "      <td>2.000000</td>\n",
              "      <td>4.000000</td>\n",
              "      <td>9.000000</td>\n",
              "    </tr>\n",
              "    <tr>\n",
              "      <th>max</th>\n",
              "      <td>7.000000</td>\n",
              "      <td>11.000000</td>\n",
              "      <td>4.000000</td>\n",
              "      <td>13.000000</td>\n",
              "      <td>3.000000</td>\n",
              "      <td>5.000000</td>\n",
              "      <td>6.000000</td>\n",
              "      <td>10.000000</td>\n",
              "      <td>9.000000</td>\n",
              "      <td>12.000000</td>\n",
              "      <td>7.000000</td>\n",
              "      <td>25.000000</td>\n",
              "      <td>19.000000</td>\n",
              "      <td>10.000000</td>\n",
              "      <td>13.000000</td>\n",
              "      <td>23.000000</td>\n",
              "    </tr>\n",
              "  </tbody>\n",
              "</table>\n",
              "</div>"
            ],
            "text/plain": [
              "           ps_ind_01      ps_ind_03      ps_ind_14      ps_ind_15  \\\n",
              "count  595212.000000  595212.000000  595212.000000  595212.000000   \n",
              "mean        1.900378       4.423318       0.012451       7.299922   \n",
              "std         1.983789       2.699902       0.127545       3.546042   \n",
              "min         0.000000       0.000000       0.000000       0.000000   \n",
              "25%         0.000000       2.000000       0.000000       5.000000   \n",
              "50%         1.000000       4.000000       0.000000       7.000000   \n",
              "75%         3.000000       6.000000       0.000000      10.000000   \n",
              "max         7.000000      11.000000       4.000000      13.000000   \n",
              "\n",
              "           ps_car_11     ps_calc_04     ps_calc_05     ps_calc_06  \\\n",
              "count  595212.000000  595212.000000  595212.000000  595212.000000   \n",
              "mean        2.346072       2.372081       1.885886       7.689445   \n",
              "std         0.832548       1.117219       1.134927       1.334312   \n",
              "min        -1.000000       0.000000       0.000000       0.000000   \n",
              "25%         2.000000       2.000000       1.000000       7.000000   \n",
              "50%         3.000000       2.000000       2.000000       8.000000   \n",
              "75%         3.000000       3.000000       3.000000       9.000000   \n",
              "max         3.000000       5.000000       6.000000      10.000000   \n",
              "\n",
              "          ps_calc_07     ps_calc_08     ps_calc_09     ps_calc_10  \\\n",
              "count  595212.000000  595212.000000  595212.000000  595212.000000   \n",
              "mean        3.005823       9.225904       2.339034       8.433590   \n",
              "std         1.414564       1.459672       1.246949       2.904597   \n",
              "min         0.000000       2.000000       0.000000       0.000000   \n",
              "25%         2.000000       8.000000       1.000000       6.000000   \n",
              "50%         3.000000       9.000000       2.000000       8.000000   \n",
              "75%         4.000000      10.000000       3.000000      10.000000   \n",
              "max         9.000000      12.000000       7.000000      25.000000   \n",
              "\n",
              "          ps_calc_11     ps_calc_12     ps_calc_13     ps_calc_14  \n",
              "count  595212.000000  595212.000000  595212.000000  595212.000000  \n",
              "mean        5.441382       1.441918       2.872288       7.539026  \n",
              "std         2.332871       1.202963       1.694887       2.746652  \n",
              "min         0.000000       0.000000       0.000000       0.000000  \n",
              "25%         4.000000       1.000000       2.000000       6.000000  \n",
              "50%         5.000000       1.000000       3.000000       7.000000  \n",
              "75%         7.000000       2.000000       4.000000       9.000000  \n",
              "max        19.000000      10.000000      13.000000      23.000000  "
            ]
          },
          "metadata": {
            "tags": []
          },
          "execution_count": 16
        }
      ]
    },
    {
      "cell_type": "markdown",
      "metadata": {
        "id": "fukhPEFepOUY",
        "colab_type": "text"
      },
      "source": [
        "- ps_car_11만 유일하게 누락값이 존재\n",
        "- 다양한 범위를 다루기 위해 스케일링을 적용 할 수 있습니다"
      ]
    },
    {
      "cell_type": "markdown",
      "metadata": {
        "id": "T8FEsue4peXP",
        "colab_type": "text"
      },
      "source": [
        "### Binary 변수"
      ]
    },
    {
      "cell_type": "code",
      "metadata": {
        "id": "MSQfkiO5qoid",
        "colab_type": "code",
        "colab": {
          "base_uri": "https://localhost:8080/",
          "height": 308
        },
        "outputId": "b20ce2cf-3bac-454b-edfb-2b78b79f238c"
      },
      "source": [
        "v = meta[(meta.level == \"binary\") & (meta.keep)].index\n",
        "train[v].describe()"
      ],
      "execution_count": null,
      "outputs": [
        {
          "output_type": "execute_result",
          "data": {
            "text/html": [
              "<div>\n",
              "<style scoped>\n",
              "    .dataframe tbody tr th:only-of-type {\n",
              "        vertical-align: middle;\n",
              "    }\n",
              "\n",
              "    .dataframe tbody tr th {\n",
              "        vertical-align: top;\n",
              "    }\n",
              "\n",
              "    .dataframe thead th {\n",
              "        text-align: right;\n",
              "    }\n",
              "</style>\n",
              "<table border=\"1\" class=\"dataframe\">\n",
              "  <thead>\n",
              "    <tr style=\"text-align: right;\">\n",
              "      <th></th>\n",
              "      <th>target</th>\n",
              "      <th>ps_ind_06_bin</th>\n",
              "      <th>ps_ind_07_bin</th>\n",
              "      <th>ps_ind_08_bin</th>\n",
              "      <th>ps_ind_09_bin</th>\n",
              "      <th>ps_ind_10_bin</th>\n",
              "      <th>ps_ind_11_bin</th>\n",
              "      <th>ps_ind_12_bin</th>\n",
              "      <th>ps_ind_13_bin</th>\n",
              "      <th>ps_ind_16_bin</th>\n",
              "      <th>ps_ind_17_bin</th>\n",
              "      <th>ps_ind_18_bin</th>\n",
              "      <th>ps_calc_15_bin</th>\n",
              "      <th>ps_calc_16_bin</th>\n",
              "      <th>ps_calc_17_bin</th>\n",
              "      <th>ps_calc_18_bin</th>\n",
              "      <th>ps_calc_19_bin</th>\n",
              "      <th>ps_calc_20_bin</th>\n",
              "    </tr>\n",
              "  </thead>\n",
              "  <tbody>\n",
              "    <tr>\n",
              "      <th>count</th>\n",
              "      <td>595212.000000</td>\n",
              "      <td>595212.000000</td>\n",
              "      <td>595212.000000</td>\n",
              "      <td>595212.000000</td>\n",
              "      <td>595212.000000</td>\n",
              "      <td>595212.000000</td>\n",
              "      <td>595212.000000</td>\n",
              "      <td>595212.000000</td>\n",
              "      <td>595212.000000</td>\n",
              "      <td>595212.000000</td>\n",
              "      <td>595212.000000</td>\n",
              "      <td>595212.000000</td>\n",
              "      <td>595212.000000</td>\n",
              "      <td>595212.000000</td>\n",
              "      <td>595212.000000</td>\n",
              "      <td>595212.000000</td>\n",
              "      <td>595212.000000</td>\n",
              "      <td>595212.000000</td>\n",
              "    </tr>\n",
              "    <tr>\n",
              "      <th>mean</th>\n",
              "      <td>0.036448</td>\n",
              "      <td>0.393742</td>\n",
              "      <td>0.257033</td>\n",
              "      <td>0.163921</td>\n",
              "      <td>0.185304</td>\n",
              "      <td>0.000373</td>\n",
              "      <td>0.001692</td>\n",
              "      <td>0.009439</td>\n",
              "      <td>0.000948</td>\n",
              "      <td>0.660823</td>\n",
              "      <td>0.121081</td>\n",
              "      <td>0.153446</td>\n",
              "      <td>0.122427</td>\n",
              "      <td>0.627840</td>\n",
              "      <td>0.554182</td>\n",
              "      <td>0.287182</td>\n",
              "      <td>0.349024</td>\n",
              "      <td>0.153318</td>\n",
              "    </tr>\n",
              "    <tr>\n",
              "      <th>std</th>\n",
              "      <td>0.187401</td>\n",
              "      <td>0.488579</td>\n",
              "      <td>0.436998</td>\n",
              "      <td>0.370205</td>\n",
              "      <td>0.388544</td>\n",
              "      <td>0.019309</td>\n",
              "      <td>0.041097</td>\n",
              "      <td>0.096693</td>\n",
              "      <td>0.030768</td>\n",
              "      <td>0.473430</td>\n",
              "      <td>0.326222</td>\n",
              "      <td>0.360417</td>\n",
              "      <td>0.327779</td>\n",
              "      <td>0.483381</td>\n",
              "      <td>0.497056</td>\n",
              "      <td>0.452447</td>\n",
              "      <td>0.476662</td>\n",
              "      <td>0.360295</td>\n",
              "    </tr>\n",
              "    <tr>\n",
              "      <th>min</th>\n",
              "      <td>0.000000</td>\n",
              "      <td>0.000000</td>\n",
              "      <td>0.000000</td>\n",
              "      <td>0.000000</td>\n",
              "      <td>0.000000</td>\n",
              "      <td>0.000000</td>\n",
              "      <td>0.000000</td>\n",
              "      <td>0.000000</td>\n",
              "      <td>0.000000</td>\n",
              "      <td>0.000000</td>\n",
              "      <td>0.000000</td>\n",
              "      <td>0.000000</td>\n",
              "      <td>0.000000</td>\n",
              "      <td>0.000000</td>\n",
              "      <td>0.000000</td>\n",
              "      <td>0.000000</td>\n",
              "      <td>0.000000</td>\n",
              "      <td>0.000000</td>\n",
              "    </tr>\n",
              "    <tr>\n",
              "      <th>25%</th>\n",
              "      <td>0.000000</td>\n",
              "      <td>0.000000</td>\n",
              "      <td>0.000000</td>\n",
              "      <td>0.000000</td>\n",
              "      <td>0.000000</td>\n",
              "      <td>0.000000</td>\n",
              "      <td>0.000000</td>\n",
              "      <td>0.000000</td>\n",
              "      <td>0.000000</td>\n",
              "      <td>0.000000</td>\n",
              "      <td>0.000000</td>\n",
              "      <td>0.000000</td>\n",
              "      <td>0.000000</td>\n",
              "      <td>0.000000</td>\n",
              "      <td>0.000000</td>\n",
              "      <td>0.000000</td>\n",
              "      <td>0.000000</td>\n",
              "      <td>0.000000</td>\n",
              "    </tr>\n",
              "    <tr>\n",
              "      <th>50%</th>\n",
              "      <td>0.000000</td>\n",
              "      <td>0.000000</td>\n",
              "      <td>0.000000</td>\n",
              "      <td>0.000000</td>\n",
              "      <td>0.000000</td>\n",
              "      <td>0.000000</td>\n",
              "      <td>0.000000</td>\n",
              "      <td>0.000000</td>\n",
              "      <td>0.000000</td>\n",
              "      <td>1.000000</td>\n",
              "      <td>0.000000</td>\n",
              "      <td>0.000000</td>\n",
              "      <td>0.000000</td>\n",
              "      <td>1.000000</td>\n",
              "      <td>1.000000</td>\n",
              "      <td>0.000000</td>\n",
              "      <td>0.000000</td>\n",
              "      <td>0.000000</td>\n",
              "    </tr>\n",
              "    <tr>\n",
              "      <th>75%</th>\n",
              "      <td>0.000000</td>\n",
              "      <td>1.000000</td>\n",
              "      <td>1.000000</td>\n",
              "      <td>0.000000</td>\n",
              "      <td>0.000000</td>\n",
              "      <td>0.000000</td>\n",
              "      <td>0.000000</td>\n",
              "      <td>0.000000</td>\n",
              "      <td>0.000000</td>\n",
              "      <td>1.000000</td>\n",
              "      <td>0.000000</td>\n",
              "      <td>0.000000</td>\n",
              "      <td>0.000000</td>\n",
              "      <td>1.000000</td>\n",
              "      <td>1.000000</td>\n",
              "      <td>1.000000</td>\n",
              "      <td>1.000000</td>\n",
              "      <td>0.000000</td>\n",
              "    </tr>\n",
              "    <tr>\n",
              "      <th>max</th>\n",
              "      <td>1.000000</td>\n",
              "      <td>1.000000</td>\n",
              "      <td>1.000000</td>\n",
              "      <td>1.000000</td>\n",
              "      <td>1.000000</td>\n",
              "      <td>1.000000</td>\n",
              "      <td>1.000000</td>\n",
              "      <td>1.000000</td>\n",
              "      <td>1.000000</td>\n",
              "      <td>1.000000</td>\n",
              "      <td>1.000000</td>\n",
              "      <td>1.000000</td>\n",
              "      <td>1.000000</td>\n",
              "      <td>1.000000</td>\n",
              "      <td>1.000000</td>\n",
              "      <td>1.000000</td>\n",
              "      <td>1.000000</td>\n",
              "      <td>1.000000</td>\n",
              "    </tr>\n",
              "  </tbody>\n",
              "</table>\n",
              "</div>"
            ],
            "text/plain": [
              "              target  ps_ind_06_bin  ps_ind_07_bin  ps_ind_08_bin  \\\n",
              "count  595212.000000  595212.000000  595212.000000  595212.000000   \n",
              "mean        0.036448       0.393742       0.257033       0.163921   \n",
              "std         0.187401       0.488579       0.436998       0.370205   \n",
              "min         0.000000       0.000000       0.000000       0.000000   \n",
              "25%         0.000000       0.000000       0.000000       0.000000   \n",
              "50%         0.000000       0.000000       0.000000       0.000000   \n",
              "75%         0.000000       1.000000       1.000000       0.000000   \n",
              "max         1.000000       1.000000       1.000000       1.000000   \n",
              "\n",
              "       ps_ind_09_bin  ps_ind_10_bin  ps_ind_11_bin  ps_ind_12_bin  \\\n",
              "count  595212.000000  595212.000000  595212.000000  595212.000000   \n",
              "mean        0.185304       0.000373       0.001692       0.009439   \n",
              "std         0.388544       0.019309       0.041097       0.096693   \n",
              "min         0.000000       0.000000       0.000000       0.000000   \n",
              "25%         0.000000       0.000000       0.000000       0.000000   \n",
              "50%         0.000000       0.000000       0.000000       0.000000   \n",
              "75%         0.000000       0.000000       0.000000       0.000000   \n",
              "max         1.000000       1.000000       1.000000       1.000000   \n",
              "\n",
              "       ps_ind_13_bin  ps_ind_16_bin  ps_ind_17_bin  ps_ind_18_bin  \\\n",
              "count  595212.000000  595212.000000  595212.000000  595212.000000   \n",
              "mean        0.000948       0.660823       0.121081       0.153446   \n",
              "std         0.030768       0.473430       0.326222       0.360417   \n",
              "min         0.000000       0.000000       0.000000       0.000000   \n",
              "25%         0.000000       0.000000       0.000000       0.000000   \n",
              "50%         0.000000       1.000000       0.000000       0.000000   \n",
              "75%         0.000000       1.000000       0.000000       0.000000   \n",
              "max         1.000000       1.000000       1.000000       1.000000   \n",
              "\n",
              "       ps_calc_15_bin  ps_calc_16_bin  ps_calc_17_bin  ps_calc_18_bin  \\\n",
              "count   595212.000000   595212.000000   595212.000000   595212.000000   \n",
              "mean         0.122427        0.627840        0.554182        0.287182   \n",
              "std          0.327779        0.483381        0.497056        0.452447   \n",
              "min          0.000000        0.000000        0.000000        0.000000   \n",
              "25%          0.000000        0.000000        0.000000        0.000000   \n",
              "50%          0.000000        1.000000        1.000000        0.000000   \n",
              "75%          0.000000        1.000000        1.000000        1.000000   \n",
              "max          1.000000        1.000000        1.000000        1.000000   \n",
              "\n",
              "       ps_calc_19_bin  ps_calc_20_bin  \n",
              "count   595212.000000   595212.000000  \n",
              "mean         0.349024        0.153318  \n",
              "std          0.476662        0.360295  \n",
              "min          0.000000        0.000000  \n",
              "25%          0.000000        0.000000  \n",
              "50%          0.000000        0.000000  \n",
              "75%          1.000000        0.000000  \n",
              "max          1.000000        1.000000  "
            ]
          },
          "metadata": {
            "tags": []
          },
          "execution_count": 17
        }
      ]
    },
    {
      "cell_type": "markdown",
      "metadata": {
        "id": "lno09K97qzAd",
        "colab_type": "text"
      },
      "source": [
        "- train 데이터의 선험은 3.645 %로 매우 불균형합니다.(A priori in the train data is 3.645%, which is strongly imbalanced.)\n",
        "- 평균을 통해 우리는 대부분의 경우 값이 0이라고 말할 수 있습니다.\n"
      ]
    },
    {
      "cell_type": "markdown",
      "metadata": {
        "id": "s7ME096LsZmv",
        "colab_type": "text"
      },
      "source": [
        "## 불균형 클래스 다루기"
      ]
    },
    {
      "cell_type": "markdown",
      "metadata": {
        "id": "q7S4pjZozFT9",
        "colab_type": "text"
      },
      "source": [
        "target = 1 인 레코드의 비율은 target = 0보다 훨씬 적습니다.  \n",
        "이것은 정확도가 높지만 실제로 부가 가치가있는 모델인지는 모릅니다.\n",
        "이 문제를 해결할 수있는 두 가지 전략은 다음과 같습니다.  \n",
        "\n",
        "- target=1 레코드를 오버샘플링\n",
        "- target=0 레코드를 언더샘플링"
      ]
    },
    {
      "cell_type": "markdown",
      "metadata": {
        "id": "YqRVccg0z9ti",
        "colab_type": "text"
      },
      "source": [
        "물론 더 많은 전략이 있으며 MachineLearningMastery.com은 멋진 개요를 제공합니다.   \n",
        "(링크를 제공하려 했으나 제가 열어보니 없는 링크입니다.)  \n",
        "우리는 오히려 커다란 훈련 세트가 있으므로 언더 샘플링을 할 수 있습니다."
      ]
    },
    {
      "cell_type": "code",
      "metadata": {
        "id": "lbYKsF230HN7",
        "colab_type": "code",
        "colab": {
          "base_uri": "https://localhost:8080/",
          "height": 54
        },
        "outputId": "83431556-8116-4550-cc96-8447178d3c06"
      },
      "source": [
        "desired_apriori=0.10\n",
        "\n",
        "# target 값에 따라 인덱스를 가져옵니다.\n",
        "idx_0 = train[train.target == 0].index\n",
        "idx_1 = train[train.target == 1].index\n",
        "\n",
        "# target 값에 따라 레코드의 원래 번호를 가져옵니다.\n",
        "nb_0 = len(train.loc[idx_0])\n",
        "nb_1 = len(train.loc[idx_1])\n",
        "\n",
        "# 언더샘플링 비율과 target이 0인 레코드 수를 계산합니다.\n",
        "undersampling_rate = ((1-desired_apriori)*nb_1)/(nb_0*desired_apriori)\n",
        "undersampled_nb_0 = int(undersampling_rate*nb_0)\n",
        "print('Rate to undersample records with target=0: {}'.format(undersampling_rate))\n",
        "print('Number of records with target=0 after undersampling: {}'.format(undersampled_nb_0))\n",
        "\n",
        "# target이 0인 레코드를 무작위로 선택하여  언더샘플된 인덱스를 구합니다.\n",
        "undersampled_idx = shuffle(idx_0, random_state=37, n_samples=undersampled_nb_0)\n",
        "\n",
        "# target이 1인 인덱스와 언더샘플된 인덱스를 합쳐 구성합니다.\n",
        "idx_list = list(undersampled_idx) + list(idx_1)\n",
        "\n",
        "# 언더샘플링 데이터프레임을 반환합니다.\n",
        "train = train.loc[idx_list].reset_index(drop=True)"
      ],
      "execution_count": null,
      "outputs": [
        {
          "output_type": "stream",
          "text": [
            "Rate to undersample records with target=0: 0.34043569687437886\n",
            "Number of records with target=0 after undersampling: 195246\n"
          ],
          "name": "stdout"
        }
      ]
    },
    {
      "cell_type": "code",
      "metadata": {
        "id": "3p0505bG15oO",
        "colab_type": "code",
        "colab": {
          "base_uri": "https://localhost:8080/",
          "height": 90
        },
        "outputId": "7d0ab3dd-2df5-4eb2-a046-8ca41be1a459"
      },
      "source": [
        "## 확인해보기 위해 제가 추가한 짧은 코드입니다.\n",
        "print(train.shape)\n",
        "train[\"target\"].value_counts()"
      ],
      "execution_count": null,
      "outputs": [
        {
          "output_type": "stream",
          "text": [
            "(216940, 59)\n"
          ],
          "name": "stdout"
        },
        {
          "output_type": "execute_result",
          "data": {
            "text/plain": [
              "0    195246\n",
              "1     21694\n",
              "Name: target, dtype: int64"
            ]
          },
          "metadata": {
            "tags": []
          },
          "execution_count": 19
        }
      ]
    },
    {
      "cell_type": "markdown",
      "metadata": {
        "id": "TuOmzc6G2Iit",
        "colab_type": "text"
      },
      "source": [
        "## 데이터 품질 검사"
      ]
    },
    {
      "cell_type": "markdown",
      "metadata": {
        "id": "c7ToqDcg2Qcn",
        "colab_type": "text"
      },
      "source": [
        "### 누락된 값 검사"
      ]
    },
    {
      "cell_type": "markdown",
      "metadata": {
        "id": "jghiktuR2me4",
        "colab_type": "text"
      },
      "source": [
        "누락은 -1로 표시됩니다."
      ]
    },
    {
      "cell_type": "code",
      "metadata": {
        "id": "m9gmLpZZ2p7N",
        "colab_type": "code",
        "colab": {
          "base_uri": "https://localhost:8080/",
          "height": 254
        },
        "outputId": "587fc136-1416-444b-fcc6-8a2e42d570d6"
      },
      "source": [
        "vars_with_missing = []\n",
        "\n",
        "for f in train.columns:\n",
        "  missings = train[train[f] == -1][f].count()\n",
        "  if missings > 0:\n",
        "    vars_with_missing.append(f)\n",
        "    missings_perc = missings / train.shape[0]\n",
        "    \n",
        "    print('Variable {} has {} records ({:.2%}) with missing values'.format(f, missings, missings_perc))\n",
        "print('In total, there are {} variables with missing values'.format(len(vars_with_missing)))    "
      ],
      "execution_count": null,
      "outputs": [
        {
          "output_type": "stream",
          "text": [
            "Variable ps_ind_02_cat has 103 records (0.05%) with missing values\n",
            "Variable ps_ind_04_cat has 51 records (0.02%) with missing values\n",
            "Variable ps_ind_05_cat has 2256 records (1.04%) with missing values\n",
            "Variable ps_reg_03 has 38580 records (17.78%) with missing values\n",
            "Variable ps_car_01_cat has 62 records (0.03%) with missing values\n",
            "Variable ps_car_02_cat has 2 records (0.00%) with missing values\n",
            "Variable ps_car_03_cat has 148367 records (68.39%) with missing values\n",
            "Variable ps_car_05_cat has 96026 records (44.26%) with missing values\n",
            "Variable ps_car_07_cat has 4431 records (2.04%) with missing values\n",
            "Variable ps_car_09_cat has 230 records (0.11%) with missing values\n",
            "Variable ps_car_11 has 1 records (0.00%) with missing values\n",
            "Variable ps_car_14 has 15726 records (7.25%) with missing values\n",
            "In total, there are 12 variables with missing values\n"
          ],
          "name": "stdout"
        }
      ]
    },
    {
      "cell_type": "markdown",
      "metadata": {
        "id": "M2Oeoy973Qj3",
        "colab_type": "text"
      },
      "source": [
        "- <b>ps_car_03_cat, ps_car_05_cat</b>: 누락 값의 비율이 너무 높습니다. 제거하세요.\n",
        "- 누락 된 값이있는 다른 범주형 변수의 경우 누락 값 -1을 그대로 둘 수 있습니다.\n",
        "- <b>ps_reg_03 (continuous)</b>: 모든 레코드의 18 %에 대해 값이 누락되었습니다. 평균값으로 바꾸십시오.\n",
        "- <b>ps_car_11 (ordinal)</b>: 누락 된 값이있는 레코드가 5 개뿐입니다. 모드로 교체하십시오.\n",
        "- <b>ps_car_12 (continuous) </b>: 누락 된 값이있는 레코드가 1 개뿐입니다. 평균값으로 교체하십시오.\n",
        "- <b>ps_car_14 (continuous) </b>: 모든 레코드의 7 %에 대해 값이 누락되었습니다. 평균값으로 바꾸십시오."
      ]
    },
    {
      "cell_type": "code",
      "metadata": {
        "id": "w6dehk1v5UEu",
        "colab_type": "code",
        "colab": {
          "base_uri": "https://localhost:8080/",
          "height": 110
        },
        "outputId": "c7ee0db8-f25d-485f-cfae-08b3ea363ac5"
      },
      "source": [
        "# 누락 된 값이 너무 많은 변수는 제거\n",
        "vars_to_drop = ['ps_car_03_cat', 'ps_car_05_cat']\n",
        "train.drop(vars_to_drop, inplace=True, axis=1)\n",
        "meta.loc[(vars_to_drop),'keep'] = False  # 메타 데이터 갱신\n",
        "\n",
        "# 평균 또는 모드로 대체하기\n",
        "mean_imp = Imputer(missing_values=-1, strategy='mean', axis=0)\n",
        "mode_imp = Imputer(missing_values=-1, strategy='most_frequent', axis=0)\n",
        "train['ps_reg_03'] = mean_imp.fit_transform(train[['ps_reg_03']]).ravel()\n",
        "train['ps_car_12'] = mean_imp.fit_transform(train[['ps_car_12']]).ravel()\n",
        "train['ps_car_14'] = mean_imp.fit_transform(train[['ps_car_14']]).ravel()\n",
        "train['ps_car_11'] = mode_imp.fit_transform(train[['ps_car_11']]).ravel()"
      ],
      "execution_count": null,
      "outputs": [
        {
          "output_type": "stream",
          "text": [
            "/usr/local/lib/python3.6/dist-packages/sklearn/utils/deprecation.py:66: DeprecationWarning: Class Imputer is deprecated; Imputer was deprecated in version 0.20 and will be removed in 0.22. Import impute.SimpleImputer from sklearn instead.\n",
            "  warnings.warn(msg, category=DeprecationWarning)\n",
            "/usr/local/lib/python3.6/dist-packages/sklearn/utils/deprecation.py:66: DeprecationWarning: Class Imputer is deprecated; Imputer was deprecated in version 0.20 and will be removed in 0.22. Import impute.SimpleImputer from sklearn instead.\n",
            "  warnings.warn(msg, category=DeprecationWarning)\n"
          ],
          "name": "stderr"
        }
      ]
    },
    {
      "cell_type": "markdown",
      "metadata": {
        "id": "p7242g6G5xkV",
        "colab_type": "text"
      },
      "source": [
        "### 범주형 변수의 카디널리티 확인하기"
      ]
    },
    {
      "cell_type": "markdown",
      "metadata": {
        "id": "2pQkQ4f95z55",
        "colab_type": "text"
      },
      "source": [
        "카디널리티는 변수의 존재하는 다른 값들의 수를 의미합니다.  \n",
        "나중에 범주형 변수에서 더미 변수를 만들므로 많은 다른 값을 갖는 변수가 있는지 확인해야합니다.  \n",
        "우리는 이것을 더미 변수로 취급하는 것과 다르게 처리해야합니다.\n"
      ]
    },
    {
      "cell_type": "code",
      "metadata": {
        "id": "qWF8D9_f6kfS",
        "colab_type": "code",
        "colab": {
          "base_uri": "https://localhost:8080/",
          "height": 235
        },
        "outputId": "040bde8d-17d2-4ed4-a537-f7ee0e0b2f22"
      },
      "source": [
        "v = meta[(meta.level == 'nominal') & (meta.keep)].index\n",
        "\n",
        "for f in v:\n",
        "    dist_values = train[f].value_counts().shape[0]\n",
        "    print('Variable {} has {} distinct values'.format(f, dist_values))"
      ],
      "execution_count": null,
      "outputs": [
        {
          "output_type": "stream",
          "text": [
            "Variable ps_ind_02_cat has 5 distinct values\n",
            "Variable ps_ind_04_cat has 3 distinct values\n",
            "Variable ps_ind_05_cat has 8 distinct values\n",
            "Variable ps_car_01_cat has 13 distinct values\n",
            "Variable ps_car_02_cat has 3 distinct values\n",
            "Variable ps_car_04_cat has 10 distinct values\n",
            "Variable ps_car_06_cat has 18 distinct values\n",
            "Variable ps_car_07_cat has 3 distinct values\n",
            "Variable ps_car_08_cat has 2 distinct values\n",
            "Variable ps_car_09_cat has 6 distinct values\n",
            "Variable ps_car_10_cat has 3 distinct values\n",
            "Variable ps_car_11_cat has 104 distinct values\n"
          ],
          "name": "stdout"
        }
      ]
    },
    {
      "cell_type": "markdown",
      "metadata": {
        "id": "Kk8nK7tJ6n3U",
        "colab_type": "text"
      },
      "source": [
        "ps_car_11_cat만 많은 다른 값을 가지고 있습니다. "
      ]
    },
    {
      "cell_type": "markdown",
      "metadata": {
        "id": "rwSNyoTLUe3e",
        "colab_type": "text"
      },
      "source": [
        "**EDIT**  \n",
        "nickycan은 내 첫 번째 솔루션이 데이터 누설이 있을 수 있다라는 훌륭한 지적을 해주었고,   \n",
        "같은 내용을 다루는 oliver가 만든 커널을  나에게 알려주었다.  \n",
        "그로므로 나는 이 부분을 oliver의 커널로 대체하였다. 모든 크레딧(공?)은 그의 것이다.  \n",
        "이것은 캐글 대회에 참여함으로써 당신이 배울 수 있는 훌륭한 것이다.\n",
        "\n",
        "nickycan 캐글 프로필: https://www.kaggle.com/nickycan  \n",
        "oliver 캐글 프로필: https://www.kaggle.com/ogrellier\n"
      ]
    },
    {
      "cell_type": "code",
      "metadata": {
        "id": "YKoe9caD69lq",
        "colab_type": "code",
        "colab": {}
      },
      "source": [
        "# Script by https://www.kaggle.com/ogrellier\n",
        "# Code: https://www.kaggle.com/ogrellier/python-target-encoding-for-categorical-features\n",
        "def add_noise(series, noise_level):\n",
        "    return series * (1 + noise_level * np.random.randn(len(series)))\n",
        "\n",
        "def target_encode(trn_series=None, \n",
        "                  tst_series=None, \n",
        "                  target=None, \n",
        "                  min_samples_leaf=1, \n",
        "                  smoothing=1,\n",
        "                  noise_level=0):\n",
        "    \"\"\"\n",
        "    Smoothing은 Daniele Micci-Barreca의 논문에서와 같이 계산됩니다.\n",
        "    https://kaggle2.blob.core.windows.net/forum-message-attachments/225952/7441/high%20cardinality%20categoricals.pdf\n",
        "    trn_series : pd.Series 형태의 학습할 범주형 피처\n",
        "    tst_series : pd.Series 형태의 테스트할 범주형 피처\n",
        "    target : pd.Series 형태의 타겟 데이터\n",
        "    min_samples_leaf (int) : 범주의 평균을 고려할 최소 샘플\n",
        "    smoothing (int) : 범주 평균과 이전의 균형을 맞추기 위한 스무딩 효과 \n",
        "    \"\"\" \n",
        "    assert len(trn_series) == len(target)\n",
        "    assert trn_series.name == tst_series.name\n",
        "    temp = pd.concat([trn_series, target], axis=1)\n",
        "    # 타겟 평균을 계산\n",
        "    averages = temp.groupby(by=trn_series.name)[target.name].agg([\"mean\", \"count\"])\n",
        "    # 스무딩 계산\n",
        "    smoothing = 1 / (1 + np.exp(-(averages[\"count\"] - min_samples_leaf) / smoothing))\n",
        "    # 모든 타겟 데이터에 평균 적용하기\n",
        "    prior = target.mean()\n",
        "    # 카운트가 클수록 full_avg가 적어집니다.\n",
        "    averages[target.name] = prior * (1 - smoothing) + averages[\"mean\"] * smoothing\n",
        "    averages.drop([\"mean\", \"count\"], axis=1, inplace=True)\n",
        "    # 학습, 테스트 데이터에 평균 적용\n",
        "    ft_trn_series = pd.merge(\n",
        "        trn_series.to_frame(trn_series.name),\n",
        "        averages.reset_index().rename(columns={'index': target.name, target.name: 'average'}),\n",
        "        on=trn_series.name,\n",
        "        how='left')['average'].rename(trn_series.name + '_mean').fillna(prior)\n",
        "    # pd.merge는 인덱스를 유지하지 않으므로 복원합니다.\n",
        "    ft_trn_series.index = trn_series.index \n",
        "    ft_tst_series = pd.merge(\n",
        "        tst_series.to_frame(tst_series.name),\n",
        "        averages.reset_index().rename(columns={'index': target.name, target.name: 'average'}),\n",
        "        on=tst_series.name,\n",
        "        how='left')['average'].rename(trn_series.name + '_mean').fillna(prior)\n",
        "    # pd.merge는 인덱스를 유지하지 않으므로 복원합니다.\n",
        "    ft_tst_series.index = tst_series.index\n",
        "    return add_noise(ft_trn_series, noise_level), add_noise(ft_tst_series, noise_level)"
      ],
      "execution_count": null,
      "outputs": []
    },
    {
      "cell_type": "code",
      "metadata": {
        "id": "JZ1pZ8FV7orf",
        "colab_type": "code",
        "colab": {}
      },
      "source": [
        "train_encoded, test_encoded = target_encode(train[\"ps_car_11_cat\"], \n",
        "                             test[\"ps_car_11_cat\"], \n",
        "                             target=train.target, \n",
        "                             min_samples_leaf=100,\n",
        "                             smoothing=10,\n",
        "                             noise_level=0.01)\n",
        "    \n",
        "train['ps_car_11_cat_te'] = train_encoded\n",
        "train.drop('ps_car_11_cat', axis=1, inplace=True)\n",
        "meta.loc['ps_car_11_cat','keep'] = False  # Updating the meta\n",
        "test['ps_car_11_cat_te'] = test_encoded\n",
        "test.drop('ps_car_11_cat', axis=1, inplace=True)"
      ],
      "execution_count": null,
      "outputs": []
    },
    {
      "cell_type": "markdown",
      "metadata": {
        "id": "HKs1hcxs7p_4",
        "colab_type": "text"
      },
      "source": [
        "## 탐색 데이터 시각화"
      ]
    },
    {
      "cell_type": "markdown",
      "metadata": {
        "id": "qPQOmcgq7snA",
        "colab_type": "text"
      },
      "source": [
        "### 범주형 변수"
      ]
    },
    {
      "cell_type": "markdown",
      "metadata": {
        "id": "sJ2bxcLjiq-h",
        "colab_type": "text"
      },
      "source": [
        "타겟 변수가 1 인 고객의 범주형 변수와 비율을 살펴 보겠습니다."
      ]
    },
    {
      "cell_type": "code",
      "metadata": {
        "id": "5Qp055JLiulw",
        "colab_type": "code",
        "colab": {
          "base_uri": "https://localhost:8080/",
          "height": 1000
        },
        "outputId": "23639cdd-7e3c-4990-ccc7-e23382618603"
      },
      "source": [
        "v = meta[(meta.level == 'nominal') & (meta.keep)].index\n",
        "\n",
        "for f in v:\n",
        "    plt.figure()\n",
        "    fig, ax = plt.subplots(figsize=(20,10))\n",
        "    # 범주형 값 당 타겟값이 1인 퍼센트를 계산\n",
        "    cat_perc = train[[f, 'target']].groupby([f],as_index=False).mean()\n",
        "    cat_perc.sort_values(by='target', ascending=False, inplace=True)\n",
        "    # Bar 플롯\n",
        "    # 타겟 평균으로 내림차순\n",
        "    sns.barplot(ax=ax, x=f, y='target', data=cat_perc, order=cat_perc[f])\n",
        "    plt.ylabel('% target', fontsize=18)\n",
        "    plt.xlabel(f, fontsize=18)\n",
        "    plt.tick_params(axis='both', which='major', labelsize=18)\n",
        "    plt.show();"
      ],
      "execution_count": null,
      "outputs": [
        {
          "output_type": "display_data",
          "data": {
            "text/plain": [
              "<Figure size 432x288 with 0 Axes>"
            ]
          },
          "metadata": {
            "tags": []
          }
        },
        {
          "output_type": "display_data",
          "data": {
            "image/png": "[encoded data removed]",
            "text/plain": [
              "<Figure size 1440x720 with 1 Axes>"
            ]
          },
          "metadata": {
            "tags": []
          }
        },
        {
          "output_type": "display_data",
          "data": {
            "text/plain": [
              "<Figure size 432x288 with 0 Axes>"
            ]
          },
          "metadata": {
            "tags": []
          }
        },
        {
          "output_type": "display_data",
          "data": {
            "image/png": "[encoded data removed]",
            "text/plain": [
              "<Figure size 1440x720 with 1 Axes>"
            ]
          },
          "metadata": {
            "tags": []
          }
        },
        {
          "output_type": "display_data",
          "data": {
            "text/plain": [
              "<Figure size 432x288 with 0 Axes>"
            ]
          },
          "metadata": {
            "tags": []
          }
        },
        {
          "output_type": "display_data",
          "data": {
            "image/png": "[encoded data removed]",
            "text/plain": [
              "<Figure size 1440x720 with 1 Axes>"
            ]
          },
          "metadata": {
            "tags": []
          }
        },
        {
          "output_type": "display_data",
          "data": {
            "text/plain": [
              "<Figure size 432x288 with 0 Axes>"
            ]
          },
          "metadata": {
            "tags": []
          }
        },
        {
          "output_type": "display_data",
          "data": {
            "image/png": "[encoded data removed]",
            "text/plain": [
              "<Figure size 1440x720 with 1 Axes>"
            ]
          },
          "metadata": {
            "tags": []
          }
        },
        {
          "output_type": "display_data",
          "data": {
            "text/plain": [
              "<Figure size 432x288 with 0 Axes>"
            ]
          },
          "metadata": {
            "tags": []
          }
        },
        {
          "output_type": "display_data",
          "data": {
            "image/png": "[encoded data removed]",
            "text/plain": [
              "<Figure size 1440x720 with 1 Axes>"
            ]
          },
          "metadata": {
            "tags": []
          }
        },
        {
          "output_type": "display_data",
          "data": {
            "text/plain": [
              "<Figure size 432x288 with 0 Axes>"
            ]
          },
          "metadata": {
            "tags": []
          }
        },
        {
          "output_type": "display_data",
          "data": {
            "image/png": "[encoded data removed]",
            "text/plain": [
              "<Figure size 1440x720 with 1 Axes>"
            ]
          },
          "metadata": {
            "tags": []
          }
        },
        {
          "output_type": "display_data",
          "data": {
            "text/plain": [
              "<Figure size 432x288 with 0 Axes>"
            ]
          },
          "metadata": {
            "tags": []
          }
        },
        {
          "output_type": "display_data",
          "data": {
            "image/png": "[encoded data removed]",
            "text/plain": [
              "<Figure size 1440x720 with 1 Axes>"
            ]
          },
          "metadata": {
            "tags": []
          }
        },
        {
          "output_type": "display_data",
          "data": {
            "text/plain": [
              "<Figure size 432x288 with 0 Axes>"
            ]
          },
          "metadata": {
            "tags": []
          }
        },
        {
          "output_type": "display_data",
          "data": {
            "image/png": "[encoded data removed]",
            "text/plain": [
              "<Figure size 1440x720 with 1 Axes>"
            ]
          },
          "metadata": {
            "tags": []
          }
        },
        {
          "output_type": "display_data",
          "data": {
            "text/plain": [
              "<Figure size 432x288 with 0 Axes>"
            ]
          },
          "metadata": {
            "tags": []
          }
        },
        {
          "output_type": "display_data",
          "data": {
            "image/png": "[encoded data removed]",
            "text/plain": [
              "<Figure size 1440x720 with 1 Axes>"
            ]
          },
          "metadata": {
            "tags": []
          }
        },
        {
          "output_type": "display_data",
          "data": {
            "text/plain": [
              "<Figure size 432x288 with 0 Axes>"
            ]
          },
          "metadata": {
            "tags": []
          }
        },
        {
          "output_type": "display_data",
          "data": {
            "image/png": "[encoded data removed]",
            "text/plain": [
              "<Figure size 1440x720 with 1 Axes>"
            ]
          },
          "metadata": {
            "tags": []
          }
        },
        {
          "output_type": "display_data",
          "data": {
            "text/plain": [
              "<Figure size 432x288 with 0 Axes>"
            ]
          },
          "metadata": {
            "tags": []
          }
        },
        {
          "output_type": "display_data",
          "data": {
            "image/png": "[encoded data removed]",
            "text/plain": [
              "<Figure size 1440x720 with 1 Axes>"
            ]
          },
          "metadata": {
            "tags": []
          }
        }
      ]
    },
    {
      "cell_type": "markdown",
      "metadata": {
        "id": "8sTYlDeDjuAs",
        "colab_type": "text"
      },
      "source": [
        "누락된 값이 있는 변수에서 알 수 있듯, 모드를 사용하는 것 대신 누락된 값을 별도의 범주 값으로 유지하는 것은 좋은 생각이다.  \n",
        "누락된 값을 나타내는 고객들은 보험금 청구를 요구할 확률이 훨씬 더 높은 것으로 보인다."
      ]
    },
    {
      "cell_type": "markdown",
      "metadata": {
        "id": "agK327sukjxy",
        "colab_type": "text"
      },
      "source": [
        "### Interval 변수"
      ]
    },
    {
      "cell_type": "markdown",
      "metadata": {
        "id": "uCeyLajCpa3e",
        "colab_type": "text"
      },
      "source": [
        "Interval 변수 사이의 상관 관계를 확인해봅니다.  \n",
        "히트맵은 변수간의 상관 관계를 시각화하는 좋은 방법입니다.  \n",
        "아래 코드는 Michael Waskom의 예제를 기반으로합니다."
      ]
    },
    {
      "cell_type": "code",
      "metadata": {
        "id": "b9ajVZm_pyMl",
        "colab_type": "code",
        "colab": {
          "base_uri": "https://localhost:8080/",
          "height": 543
        },
        "outputId": "44da7f24-abfa-46ae-add2-16379e5c0580"
      },
      "source": [
        "def corr_heatmap(v):\n",
        "    correlations = train[v].corr()\n",
        "\n",
        "    # 두 가지 색상 사이의 색상 맵 만들기\n",
        "    cmap = sns.diverging_palette(220, 10, as_cmap=True)\n",
        "\n",
        "    fig, ax = plt.subplots(figsize=(10,10))\n",
        "    sns.heatmap(correlations, cmap=cmap, vmax=1.0, center=0, fmt='.2f',\n",
        "                square=True, linewidths=.5, annot=True, cbar_kws={\"shrink\": .75})\n",
        "    plt.show();\n",
        "    \n",
        "v = meta[(meta.level == 'interval') & (meta.keep)].index\n",
        "corr_heatmap(v)"
      ],
      "execution_count": null,
      "outputs": [
        {
          "output_type": "display_data",
          "data": {
            "image/png": "[encoded data removed]",
            "text/plain": [
              "<Figure size 720x720 with 2 Axes>"
            ]
          },
          "metadata": {
            "tags": []
          }
        }
      ]
    },
    {
      "cell_type": "markdown",
      "metadata": {
        "id": "N57yOBJrqQZP",
        "colab_type": "text"
      },
      "source": [
        "다음 변수 사이에는 강한 상관 관계가 존재합니다.\n"
      ]
    },
    {
      "cell_type": "markdown",
      "metadata": {
        "id": "qcBAMv-9qcgW",
        "colab_type": "text"
      },
      "source": [
        "- ps_reg_02 and ps_reg_03 (0.70)\n",
        "- ps_car_12 and ps_car13 (0.67)\n",
        "- ps_car_12 and ps_car14 (0.58)\n",
        "- ps_car_13 and ps_car15 (0.67)"
      ]
    },
    {
      "cell_type": "markdown",
      "metadata": {
        "id": "GFimUf5dqgw1",
        "colab_type": "text"
      },
      "source": [
        "seaborn은 변수 사이의 (선형) 관계를 시각화하는 몇 가지 편리한 플롯을 가지고 있습니다.  \n",
        "변수 사이의 관계를 시각화하기 위해 pair플롯을 사용할 수 있습니다.  \n",
        "히트 맵은 이미 제한된 수의 상관 관계 변수를 보여주기 때문에 각 상관 관계가 높은 변수를 개별적으로 살펴볼 것입니다.  "
      ]
    },
    {
      "cell_type": "markdown",
      "metadata": {
        "id": "TSpQsRQ5rfdZ",
        "colab_type": "text"
      },
      "source": [
        "**NOTE:**프로세스의 속도를 높이기 위해 train 데이터의 샘플을 가져옵니다."
      ]
    },
    {
      "cell_type": "code",
      "metadata": {
        "id": "VpfoMsGwrupW",
        "colab_type": "code",
        "colab": {}
      },
      "source": [
        "s = train.sample(frac=0.1)"
      ],
      "execution_count": null,
      "outputs": []
    },
    {
      "cell_type": "markdown",
      "metadata": {
        "id": "-vqsQGAqrvp8",
        "colab_type": "text"
      },
      "source": [
        "ps_reg_02 and ps_reg_03\n"
      ]
    },
    {
      "cell_type": "markdown",
      "metadata": {
        "id": "LWezm0w2rxYb",
        "colab_type": "text"
      },
      "source": [
        "회귀선이 보여 주듯이이 변수들 사이에는 선형 관계가 있습니다.  \n",
        "hue 변수 덕분에 target = 0 및 target = 1에 대한 회귀선이 동일하다는 것을 알 수 있습니다."
      ]
    },
    {
      "cell_type": "code",
      "metadata": {
        "id": "3aITwISytw_1",
        "colab_type": "code",
        "colab": {
          "base_uri": "https://localhost:8080/",
          "height": 369
        },
        "outputId": "82385458-46f5-47f4-f07f-6572674c33d4"
      },
      "source": [
        "sns.lmplot(x='ps_reg_02', y='ps_reg_03', data=s, hue='target', palette='Set1', scatter_kws={'alpha':0.3})\n",
        "plt.show()"
      ],
      "execution_count": null,
      "outputs": [
        {
          "output_type": "display_data",
          "data": {
            "image/png": "[encoded data removed]",
            "text/plain": [
              "<Figure size 402.375x360 with 1 Axes>"
            ]
          },
          "metadata": {
            "tags": []
          }
        }
      ]
    },
    {
      "cell_type": "markdown",
      "metadata": {
        "id": "mySOOpHOt0m1",
        "colab_type": "text"
      },
      "source": [
        "ps_car_12 and ps_car_13"
      ]
    },
    {
      "cell_type": "code",
      "metadata": {
        "id": "39OvFl-7t9b-",
        "colab_type": "code",
        "colab": {
          "base_uri": "https://localhost:8080/",
          "height": 369
        },
        "outputId": "8fff5fe9-14f5-4a1d-bf4c-a16d79b98443"
      },
      "source": [
        "sns.lmplot(x='ps_car_12', y='ps_car_13', data=s, hue='target', palette='Set1', scatter_kws={'alpha':0.3})\n",
        "plt.show()"
      ],
      "execution_count": null,
      "outputs": [
        {
          "output_type": "display_data",
          "data": {
            "image/png": "[encoded data removed]",
            "text/plain": [
              "<Figure size 402.375x360 with 1 Axes>"
            ]
          },
          "metadata": {
            "tags": []
          }
        }
      ]
    },
    {
      "cell_type": "markdown",
      "metadata": {
        "id": "k8WmnSi3t-Ex",
        "colab_type": "text"
      },
      "source": [
        "ps_car_12 and ps_car_14"
      ]
    },
    {
      "cell_type": "code",
      "metadata": {
        "id": "XN3XJTlXuB8-",
        "colab_type": "code",
        "colab": {
          "base_uri": "https://localhost:8080/",
          "height": 369
        },
        "outputId": "77e9a57b-bdd1-42f8-c61a-cc5a636f104d"
      },
      "source": [
        "sns.lmplot(x='ps_car_12', y='ps_car_14', data=s, hue='target', palette='Set1', scatter_kws={'alpha':0.3})\n",
        "plt.show()"
      ],
      "execution_count": null,
      "outputs": [
        {
          "output_type": "display_data",
          "data": {
            "image/png": "[encoded data removed]",
            "text/plain": [
              "<Figure size 402.375x360 with 1 Axes>"
            ]
          },
          "metadata": {
            "tags": []
          }
        }
      ]
    },
    {
      "cell_type": "markdown",
      "metadata": {
        "id": "y7JQ1NXPuCzk",
        "colab_type": "text"
      },
      "source": [
        "ps_car_13 and ps_car_15"
      ]
    },
    {
      "cell_type": "code",
      "metadata": {
        "id": "1s2qyd37uEwO",
        "colab_type": "code",
        "colab": {
          "base_uri": "https://localhost:8080/",
          "height": 369
        },
        "outputId": "c82ad2c9-06b3-4ac3-8c98-bc8bf267697e"
      },
      "source": [
        "sns.lmplot(x='ps_car_15', y='ps_car_13', data=s, hue='target', palette='Set1', scatter_kws={'alpha':0.3})\n",
        "plt.show()"
      ],
      "execution_count": null,
      "outputs": [
        {
          "output_type": "display_data",
          "data": {
            "image/png": "[encoded data removed]",
            "text/plain": [
              "<Figure size 402.375x360 with 1 Axes>"
            ]
          },
          "metadata": {
            "tags": []
          }
        }
      ]
    },
    {
      "cell_type": "markdown",
      "metadata": {
        "id": "P0s2KK_EuFe3",
        "colab_type": "text"
      },
      "source": [
        "어떤 상관 관계가 있는 변수를 유지할 것인지 어떻게 정해야 할까?  \n",
        "변수에 대한 주성분 분석(PCA)을 수행하여 차원을 줄일 수 있다.  \n",
        "그러나 상관 관계 변수의 수가 다소 적기 때문에, 우리는 모델이 무거워지게 할 것입니다.\n",
        "\n",
        "참고할 PCA 커널: https://www.kaggle.com/bertcarremans/reducing-number-of-numerical-features-with-pca"
      ]
    },
    {
      "cell_type": "markdown",
      "metadata": {
        "id": "pqVfC_vPu40F",
        "colab_type": "text"
      },
      "source": [
        "### ordinal 변수 간의 상관 관계 확인"
      ]
    },
    {
      "cell_type": "code",
      "metadata": {
        "id": "s0UbYak2xnaP",
        "colab_type": "code",
        "colab": {
          "base_uri": "https://localhost:8080/",
          "height": 543
        },
        "outputId": "8da735ca-418a-4495-9c99-0b63cb227742"
      },
      "source": [
        "v = meta[(meta.level == 'ordinal') & (meta.keep)].index\n",
        "corr_heatmap(v)"
      ],
      "execution_count": null,
      "outputs": [
        {
          "output_type": "display_data",
          "data": {
            "image/png": "[encoded data removed]",
            "text/plain": [
              "<Figure size 720x720 with 2 Axes>"
            ]
          },
          "metadata": {
            "tags": []
          }
        }
      ]
    },
    {
      "cell_type": "markdown",
      "metadata": {
        "id": "WnLA9KPgxoOa",
        "colab_type": "text"
      },
      "source": [
        "ordinal 변수에 대해서는 많은 상관 관계를 볼 수 없습니다.  \n",
        "반면에 타겟 값을 기준으로 그룹화 할 때 분포가 어떻게되는지 살펴볼 수 있습니다.  "
      ]
    },
    {
      "cell_type": "markdown",
      "metadata": {
        "id": "Ir4GLa5E0TOS",
        "colab_type": "text"
      },
      "source": [
        "## 피처 엔지니어링 "
      ]
    },
    {
      "cell_type": "markdown",
      "metadata": {
        "id": "LsRGZ6id0gSe",
        "colab_type": "text"
      },
      "source": [
        "**더미 변수 만들기**"
      ]
    },
    {
      "cell_type": "markdown",
      "metadata": {
        "id": "0VyvMm6F1Lhb",
        "colab_type": "text"
      },
      "source": [
        "범주형 변수의 값은 순서 또는 크기를 나타내지 않는다.    \n",
        "예를 들어 카테고리 2는 카테고리 1의 값의 2배가 아니다.  \n",
        "그러므로 우리는 카테고리 값을 다루기 위해 더미 변수를 만들 수 있습니다.  \n",
        "첫 번째 더미 변수는 원래 변수의 범주에 대해 생성 된 다른 더미 변수에서 파생 될 수 있기 때문에 버립니다.  \n"
      ]
    },
    {
      "cell_type": "code",
      "metadata": {
        "id": "j2wCaibA156-",
        "colab_type": "code",
        "colab": {
          "base_uri": "https://localhost:8080/",
          "height": 54
        },
        "outputId": "394cc8e3-9a38-4385-ee15-8ba7ffdfbace"
      },
      "source": [
        "v = meta[(meta.level == 'nominal') & (meta.keep)].index\n",
        "print('Before dummification we have {} variables in train'.format(train.shape[1]))\n",
        "train = pd.get_dummies(train, columns=v, drop_first=True)\n",
        "print('After dummification we have {} variables in train'.format(train.shape[1]))"
      ],
      "execution_count": null,
      "outputs": [
        {
          "output_type": "stream",
          "text": [
            "Before dummification we have 57 variables in train\n",
            "After dummification we have 109 variables in train\n"
          ],
          "name": "stdout"
        }
      ]
    },
    {
      "cell_type": "markdown",
      "metadata": {
        "id": "mNuFacGd17Rg",
        "colab_type": "text"
      },
      "source": [
        "더미 변수를 만들면 train 세트에 52개의 변수가 추가됩니다."
      ]
    },
    {
      "cell_type": "markdown",
      "metadata": {
        "id": "liemm2Iw19J3",
        "colab_type": "text"
      },
      "source": [
        "### interaction 변수 만들기"
      ]
    },
    {
      "cell_type": "code",
      "metadata": {
        "id": "R4Zdsxvj2S-S",
        "colab_type": "code",
        "colab": {
          "base_uri": "https://localhost:8080/",
          "height": 54
        },
        "outputId": "612cc2c7-71b1-4fa1-b71a-8078a6f88488"
      },
      "source": [
        "v = meta[(meta.level == 'interval') & (meta.keep)].index\n",
        "poly = PolynomialFeatures(degree=2, interaction_only=False, include_bias=False)\n",
        "interactions = pd.DataFrame(data=poly.fit_transform(train[v]), columns=poly.get_feature_names(v))\n",
        "interactions.drop(v, axis=1, inplace=True)  # 원래의 컬럼 제거\n",
        "# train 데이터에 상호 작용 변수 연결\n",
        "print('Before creating interactions we have {} variables in train'.format(train.shape[1]))\n",
        "train = pd.concat([train, interactions], axis=1)\n",
        "print('After creating interactions we have {} variables in train'.format(train.shape[1]))"
      ],
      "execution_count": null,
      "outputs": [
        {
          "output_type": "stream",
          "text": [
            "Before creating interactions we have 109 variables in train\n",
            "After creating interactions we have 164 variables in train\n"
          ],
          "name": "stdout"
        }
      ]
    },
    {
      "cell_type": "markdown",
      "metadata": {
        "id": "lUpx_TDF3N1W",
        "colab_type": "text"
      },
      "source": [
        "train 데이터에 추가적인 상호 작용 변수를 넣어줍니다.  \n",
        "get_feature_names 메소드 덕분에이 새로운 변수에 열 이름을 할당 할 수 있습니다."
      ]
    },
    {
      "cell_type": "code",
      "metadata": {
        "id": "prNIxw5_3dKM",
        "colab_type": "code",
        "colab": {
          "base_uri": "https://localhost:8080/",
          "height": 265
        },
        "outputId": "dc23733a-d400-4581-f7e6-a2d3bdc4a212"
      },
      "source": [
        "train.head()"
      ],
      "execution_count": null,
      "outputs": [
        {
          "output_type": "execute_result",
          "data": {
            "text/html": [
              "<div>\n",
              "<style scoped>\n",
              "    .dataframe tbody tr th:only-of-type {\n",
              "        vertical-align: middle;\n",
              "    }\n",
              "\n",
              "    .dataframe tbody tr th {\n",
              "        vertical-align: top;\n",
              "    }\n",
              "\n",
              "    .dataframe thead th {\n",
              "        text-align: right;\n",
              "    }\n",
              "</style>\n",
              "<table border=\"1\" class=\"dataframe\">\n",
              "  <thead>\n",
              "    <tr style=\"text-align: right;\">\n",
              "      <th></th>\n",
              "      <th>id</th>\n",
              "      <th>target</th>\n",
              "      <th>ps_ind_01</th>\n",
              "      <th>ps_ind_03</th>\n",
              "      <th>ps_ind_06_bin</th>\n",
              "      <th>ps_ind_07_bin</th>\n",
              "      <th>ps_ind_08_bin</th>\n",
              "      <th>ps_ind_09_bin</th>\n",
              "      <th>ps_ind_10_bin</th>\n",
              "      <th>ps_ind_11_bin</th>\n",
              "      <th>ps_ind_12_bin</th>\n",
              "      <th>ps_ind_13_bin</th>\n",
              "      <th>ps_ind_14</th>\n",
              "      <th>ps_ind_15</th>\n",
              "      <th>ps_ind_16_bin</th>\n",
              "      <th>ps_ind_17_bin</th>\n",
              "      <th>ps_ind_18_bin</th>\n",
              "      <th>ps_reg_01</th>\n",
              "      <th>ps_reg_02</th>\n",
              "      <th>ps_reg_03</th>\n",
              "      <th>ps_car_11</th>\n",
              "      <th>ps_car_12</th>\n",
              "      <th>ps_car_13</th>\n",
              "      <th>ps_car_14</th>\n",
              "      <th>ps_car_15</th>\n",
              "      <th>ps_calc_01</th>\n",
              "      <th>ps_calc_02</th>\n",
              "      <th>ps_calc_03</th>\n",
              "      <th>ps_calc_04</th>\n",
              "      <th>ps_calc_05</th>\n",
              "      <th>ps_calc_06</th>\n",
              "      <th>ps_calc_07</th>\n",
              "      <th>ps_calc_08</th>\n",
              "      <th>ps_calc_09</th>\n",
              "      <th>ps_calc_10</th>\n",
              "      <th>ps_calc_11</th>\n",
              "      <th>ps_calc_12</th>\n",
              "      <th>ps_calc_13</th>\n",
              "      <th>ps_calc_14</th>\n",
              "      <th>ps_calc_15_bin</th>\n",
              "      <th>ps_calc_16_bin</th>\n",
              "      <th>ps_calc_17_bin</th>\n",
              "      <th>ps_calc_18_bin</th>\n",
              "      <th>ps_calc_19_bin</th>\n",
              "      <th>ps_calc_20_bin</th>\n",
              "      <th>ps_car_11_cat_te</th>\n",
              "      <th>ps_ind_02_cat_1</th>\n",
              "      <th>ps_ind_02_cat_2</th>\n",
              "      <th>ps_ind_02_cat_3</th>\n",
              "      <th>ps_ind_02_cat_4</th>\n",
              "      <th>...</th>\n",
              "      <th>ps_reg_01 ps_car_14</th>\n",
              "      <th>ps_reg_01 ps_car_15</th>\n",
              "      <th>ps_reg_01 ps_calc_01</th>\n",
              "      <th>ps_reg_01 ps_calc_02</th>\n",
              "      <th>ps_reg_01 ps_calc_03</th>\n",
              "      <th>ps_reg_02^2</th>\n",
              "      <th>ps_reg_02 ps_reg_03</th>\n",
              "      <th>ps_reg_02 ps_car_12</th>\n",
              "      <th>ps_reg_02 ps_car_13</th>\n",
              "      <th>ps_reg_02 ps_car_14</th>\n",
              "      <th>ps_reg_02 ps_car_15</th>\n",
              "      <th>ps_reg_02 ps_calc_01</th>\n",
              "      <th>ps_reg_02 ps_calc_02</th>\n",
              "      <th>ps_reg_02 ps_calc_03</th>\n",
              "      <th>ps_reg_03^2</th>\n",
              "      <th>ps_reg_03 ps_car_12</th>\n",
              "      <th>ps_reg_03 ps_car_13</th>\n",
              "      <th>ps_reg_03 ps_car_14</th>\n",
              "      <th>ps_reg_03 ps_car_15</th>\n",
              "      <th>ps_reg_03 ps_calc_01</th>\n",
              "      <th>ps_reg_03 ps_calc_02</th>\n",
              "      <th>ps_reg_03 ps_calc_03</th>\n",
              "      <th>ps_car_12^2</th>\n",
              "      <th>ps_car_12 ps_car_13</th>\n",
              "      <th>ps_car_12 ps_car_14</th>\n",
              "      <th>ps_car_12 ps_car_15</th>\n",
              "      <th>ps_car_12 ps_calc_01</th>\n",
              "      <th>ps_car_12 ps_calc_02</th>\n",
              "      <th>ps_car_12 ps_calc_03</th>\n",
              "      <th>ps_car_13^2</th>\n",
              "      <th>ps_car_13 ps_car_14</th>\n",
              "      <th>ps_car_13 ps_car_15</th>\n",
              "      <th>ps_car_13 ps_calc_01</th>\n",
              "      <th>ps_car_13 ps_calc_02</th>\n",
              "      <th>ps_car_13 ps_calc_03</th>\n",
              "      <th>ps_car_14^2</th>\n",
              "      <th>ps_car_14 ps_car_15</th>\n",
              "      <th>ps_car_14 ps_calc_01</th>\n",
              "      <th>ps_car_14 ps_calc_02</th>\n",
              "      <th>ps_car_14 ps_calc_03</th>\n",
              "      <th>ps_car_15^2</th>\n",
              "      <th>ps_car_15 ps_calc_01</th>\n",
              "      <th>ps_car_15 ps_calc_02</th>\n",
              "      <th>ps_car_15 ps_calc_03</th>\n",
              "      <th>ps_calc_01^2</th>\n",
              "      <th>ps_calc_01 ps_calc_02</th>\n",
              "      <th>ps_calc_01 ps_calc_03</th>\n",
              "      <th>ps_calc_02^2</th>\n",
              "      <th>ps_calc_02 ps_calc_03</th>\n",
              "      <th>ps_calc_03^2</th>\n",
              "    </tr>\n",
              "  </thead>\n",
              "  <tbody>\n",
              "    <tr>\n",
              "      <th>0</th>\n",
              "      <td>353762</td>\n",
              "      <td>0</td>\n",
              "      <td>1</td>\n",
              "      <td>1</td>\n",
              "      <td>1</td>\n",
              "      <td>0</td>\n",
              "      <td>0</td>\n",
              "      <td>0</td>\n",
              "      <td>0</td>\n",
              "      <td>0</td>\n",
              "      <td>0</td>\n",
              "      <td>0</td>\n",
              "      <td>0</td>\n",
              "      <td>11</td>\n",
              "      <td>0</td>\n",
              "      <td>1</td>\n",
              "      <td>0</td>\n",
              "      <td>0.6</td>\n",
              "      <td>0.6</td>\n",
              "      <td>0.838153</td>\n",
              "      <td>1.0</td>\n",
              "      <td>0.368782</td>\n",
              "      <td>0.540603</td>\n",
              "      <td>0.345688</td>\n",
              "      <td>2.000000</td>\n",
              "      <td>0.9</td>\n",
              "      <td>0.3</td>\n",
              "      <td>0.0</td>\n",
              "      <td>3</td>\n",
              "      <td>0</td>\n",
              "      <td>7</td>\n",
              "      <td>3</td>\n",
              "      <td>8</td>\n",
              "      <td>4</td>\n",
              "      <td>8</td>\n",
              "      <td>1</td>\n",
              "      <td>0</td>\n",
              "      <td>4</td>\n",
              "      <td>6</td>\n",
              "      <td>0</td>\n",
              "      <td>1</td>\n",
              "      <td>1</td>\n",
              "      <td>0</td>\n",
              "      <td>0</td>\n",
              "      <td>1</td>\n",
              "      <td>0.093931</td>\n",
              "      <td>1</td>\n",
              "      <td>0</td>\n",
              "      <td>0</td>\n",
              "      <td>0</td>\n",
              "      <td>...</td>\n",
              "      <td>0.207413</td>\n",
              "      <td>1.200000</td>\n",
              "      <td>0.54</td>\n",
              "      <td>0.18</td>\n",
              "      <td>0.00</td>\n",
              "      <td>0.36</td>\n",
              "      <td>0.502892</td>\n",
              "      <td>0.221269</td>\n",
              "      <td>0.324362</td>\n",
              "      <td>0.207413</td>\n",
              "      <td>1.200000</td>\n",
              "      <td>0.54</td>\n",
              "      <td>0.18</td>\n",
              "      <td>0.00</td>\n",
              "      <td>0.702500</td>\n",
              "      <td>0.309095</td>\n",
              "      <td>0.453108</td>\n",
              "      <td>0.289739</td>\n",
              "      <td>1.676305</td>\n",
              "      <td>0.754337</td>\n",
              "      <td>0.251446</td>\n",
              "      <td>0.000000</td>\n",
              "      <td>0.136</td>\n",
              "      <td>0.199365</td>\n",
              "      <td>0.127483</td>\n",
              "      <td>0.737564</td>\n",
              "      <td>0.331904</td>\n",
              "      <td>0.110635</td>\n",
              "      <td>0.000000</td>\n",
              "      <td>0.292252</td>\n",
              "      <td>0.186880</td>\n",
              "      <td>1.081207</td>\n",
              "      <td>0.486543</td>\n",
              "      <td>0.162181</td>\n",
              "      <td>0.000000</td>\n",
              "      <td>0.1195</td>\n",
              "      <td>0.691375</td>\n",
              "      <td>0.311119</td>\n",
              "      <td>0.103706</td>\n",
              "      <td>0.000000</td>\n",
              "      <td>4.0</td>\n",
              "      <td>1.800000</td>\n",
              "      <td>0.600000</td>\n",
              "      <td>0.000000</td>\n",
              "      <td>0.81</td>\n",
              "      <td>0.27</td>\n",
              "      <td>0.00</td>\n",
              "      <td>0.09</td>\n",
              "      <td>0.00</td>\n",
              "      <td>0.00</td>\n",
              "    </tr>\n",
              "    <tr>\n",
              "      <th>1</th>\n",
              "      <td>845629</td>\n",
              "      <td>0</td>\n",
              "      <td>5</td>\n",
              "      <td>7</td>\n",
              "      <td>1</td>\n",
              "      <td>0</td>\n",
              "      <td>0</td>\n",
              "      <td>0</td>\n",
              "      <td>0</td>\n",
              "      <td>0</td>\n",
              "      <td>0</td>\n",
              "      <td>0</td>\n",
              "      <td>0</td>\n",
              "      <td>5</td>\n",
              "      <td>0</td>\n",
              "      <td>0</td>\n",
              "      <td>1</td>\n",
              "      <td>0.9</td>\n",
              "      <td>0.6</td>\n",
              "      <td>0.728440</td>\n",
              "      <td>1.0</td>\n",
              "      <td>0.424264</td>\n",
              "      <td>0.382953</td>\n",
              "      <td>0.378814</td>\n",
              "      <td>0.000000</td>\n",
              "      <td>0.2</td>\n",
              "      <td>0.0</td>\n",
              "      <td>0.6</td>\n",
              "      <td>1</td>\n",
              "      <td>1</td>\n",
              "      <td>7</td>\n",
              "      <td>5</td>\n",
              "      <td>10</td>\n",
              "      <td>4</td>\n",
              "      <td>11</td>\n",
              "      <td>3</td>\n",
              "      <td>0</td>\n",
              "      <td>3</td>\n",
              "      <td>7</td>\n",
              "      <td>0</td>\n",
              "      <td>0</td>\n",
              "      <td>0</td>\n",
              "      <td>0</td>\n",
              "      <td>1</td>\n",
              "      <td>0</td>\n",
              "      <td>0.119244</td>\n",
              "      <td>1</td>\n",
              "      <td>0</td>\n",
              "      <td>0</td>\n",
              "      <td>0</td>\n",
              "      <td>...</td>\n",
              "      <td>0.340933</td>\n",
              "      <td>0.000000</td>\n",
              "      <td>0.18</td>\n",
              "      <td>0.00</td>\n",
              "      <td>0.54</td>\n",
              "      <td>0.36</td>\n",
              "      <td>0.437064</td>\n",
              "      <td>0.254558</td>\n",
              "      <td>0.229772</td>\n",
              "      <td>0.227288</td>\n",
              "      <td>0.000000</td>\n",
              "      <td>0.12</td>\n",
              "      <td>0.00</td>\n",
              "      <td>0.36</td>\n",
              "      <td>0.530625</td>\n",
              "      <td>0.309051</td>\n",
              "      <td>0.278958</td>\n",
              "      <td>0.275943</td>\n",
              "      <td>0.000000</td>\n",
              "      <td>0.145688</td>\n",
              "      <td>0.000000</td>\n",
              "      <td>0.437064</td>\n",
              "      <td>0.180</td>\n",
              "      <td>0.162473</td>\n",
              "      <td>0.160717</td>\n",
              "      <td>0.000000</td>\n",
              "      <td>0.084853</td>\n",
              "      <td>0.000000</td>\n",
              "      <td>0.254558</td>\n",
              "      <td>0.146653</td>\n",
              "      <td>0.145068</td>\n",
              "      <td>0.000000</td>\n",
              "      <td>0.076591</td>\n",
              "      <td>0.000000</td>\n",
              "      <td>0.229772</td>\n",
              "      <td>0.1435</td>\n",
              "      <td>0.000000</td>\n",
              "      <td>0.075763</td>\n",
              "      <td>0.000000</td>\n",
              "      <td>0.227288</td>\n",
              "      <td>0.0</td>\n",
              "      <td>0.000000</td>\n",
              "      <td>0.000000</td>\n",
              "      <td>0.000000</td>\n",
              "      <td>0.04</td>\n",
              "      <td>0.00</td>\n",
              "      <td>0.12</td>\n",
              "      <td>0.00</td>\n",
              "      <td>0.00</td>\n",
              "      <td>0.36</td>\n",
              "    </tr>\n",
              "    <tr>\n",
              "      <th>2</th>\n",
              "      <td>1449185</td>\n",
              "      <td>0</td>\n",
              "      <td>4</td>\n",
              "      <td>3</td>\n",
              "      <td>1</td>\n",
              "      <td>0</td>\n",
              "      <td>0</td>\n",
              "      <td>0</td>\n",
              "      <td>0</td>\n",
              "      <td>0</td>\n",
              "      <td>0</td>\n",
              "      <td>0</td>\n",
              "      <td>0</td>\n",
              "      <td>4</td>\n",
              "      <td>1</td>\n",
              "      <td>0</td>\n",
              "      <td>0</td>\n",
              "      <td>0.9</td>\n",
              "      <td>0.6</td>\n",
              "      <td>0.869267</td>\n",
              "      <td>3.0</td>\n",
              "      <td>0.400000</td>\n",
              "      <td>0.814271</td>\n",
              "      <td>0.402368</td>\n",
              "      <td>3.316625</td>\n",
              "      <td>0.3</td>\n",
              "      <td>0.9</td>\n",
              "      <td>0.1</td>\n",
              "      <td>4</td>\n",
              "      <td>1</td>\n",
              "      <td>8</td>\n",
              "      <td>5</td>\n",
              "      <td>10</td>\n",
              "      <td>2</td>\n",
              "      <td>8</td>\n",
              "      <td>7</td>\n",
              "      <td>2</td>\n",
              "      <td>3</td>\n",
              "      <td>10</td>\n",
              "      <td>0</td>\n",
              "      <td>1</td>\n",
              "      <td>0</td>\n",
              "      <td>1</td>\n",
              "      <td>0</td>\n",
              "      <td>1</td>\n",
              "      <td>0.097716</td>\n",
              "      <td>1</td>\n",
              "      <td>0</td>\n",
              "      <td>0</td>\n",
              "      <td>0</td>\n",
              "      <td>...</td>\n",
              "      <td>0.362131</td>\n",
              "      <td>2.984962</td>\n",
              "      <td>0.27</td>\n",
              "      <td>0.81</td>\n",
              "      <td>0.09</td>\n",
              "      <td>0.36</td>\n",
              "      <td>0.521560</td>\n",
              "      <td>0.240000</td>\n",
              "      <td>0.488563</td>\n",
              "      <td>0.241421</td>\n",
              "      <td>1.989975</td>\n",
              "      <td>0.18</td>\n",
              "      <td>0.54</td>\n",
              "      <td>0.06</td>\n",
              "      <td>0.755625</td>\n",
              "      <td>0.347707</td>\n",
              "      <td>0.707819</td>\n",
              "      <td>0.349765</td>\n",
              "      <td>2.883032</td>\n",
              "      <td>0.260780</td>\n",
              "      <td>0.782340</td>\n",
              "      <td>0.086927</td>\n",
              "      <td>0.160</td>\n",
              "      <td>0.325708</td>\n",
              "      <td>0.160947</td>\n",
              "      <td>1.326650</td>\n",
              "      <td>0.120000</td>\n",
              "      <td>0.360000</td>\n",
              "      <td>0.040000</td>\n",
              "      <td>0.663037</td>\n",
              "      <td>0.327637</td>\n",
              "      <td>2.700631</td>\n",
              "      <td>0.244281</td>\n",
              "      <td>0.732844</td>\n",
              "      <td>0.081427</td>\n",
              "      <td>0.1619</td>\n",
              "      <td>1.334504</td>\n",
              "      <td>0.120710</td>\n",
              "      <td>0.362131</td>\n",
              "      <td>0.040237</td>\n",
              "      <td>11.0</td>\n",
              "      <td>0.994987</td>\n",
              "      <td>2.984962</td>\n",
              "      <td>0.331662</td>\n",
              "      <td>0.09</td>\n",
              "      <td>0.27</td>\n",
              "      <td>0.03</td>\n",
              "      <td>0.81</td>\n",
              "      <td>0.09</td>\n",
              "      <td>0.01</td>\n",
              "    </tr>\n",
              "    <tr>\n",
              "      <th>3</th>\n",
              "      <td>834066</td>\n",
              "      <td>0</td>\n",
              "      <td>6</td>\n",
              "      <td>6</td>\n",
              "      <td>1</td>\n",
              "      <td>0</td>\n",
              "      <td>0</td>\n",
              "      <td>0</td>\n",
              "      <td>0</td>\n",
              "      <td>0</td>\n",
              "      <td>0</td>\n",
              "      <td>0</td>\n",
              "      <td>0</td>\n",
              "      <td>8</td>\n",
              "      <td>1</td>\n",
              "      <td>0</td>\n",
              "      <td>0</td>\n",
              "      <td>0.6</td>\n",
              "      <td>1.5</td>\n",
              "      <td>1.705872</td>\n",
              "      <td>2.0</td>\n",
              "      <td>0.400000</td>\n",
              "      <td>0.838387</td>\n",
              "      <td>0.378418</td>\n",
              "      <td>3.605551</td>\n",
              "      <td>0.8</td>\n",
              "      <td>0.4</td>\n",
              "      <td>0.1</td>\n",
              "      <td>3</td>\n",
              "      <td>3</td>\n",
              "      <td>7</td>\n",
              "      <td>2</td>\n",
              "      <td>11</td>\n",
              "      <td>3</td>\n",
              "      <td>10</td>\n",
              "      <td>2</td>\n",
              "      <td>2</td>\n",
              "      <td>0</td>\n",
              "      <td>14</td>\n",
              "      <td>0</td>\n",
              "      <td>0</td>\n",
              "      <td>0</td>\n",
              "      <td>0</td>\n",
              "      <td>0</td>\n",
              "      <td>0</td>\n",
              "      <td>0.086134</td>\n",
              "      <td>1</td>\n",
              "      <td>0</td>\n",
              "      <td>0</td>\n",
              "      <td>0</td>\n",
              "      <td>...</td>\n",
              "      <td>0.227051</td>\n",
              "      <td>2.163331</td>\n",
              "      <td>0.48</td>\n",
              "      <td>0.24</td>\n",
              "      <td>0.06</td>\n",
              "      <td>2.25</td>\n",
              "      <td>2.558808</td>\n",
              "      <td>0.600000</td>\n",
              "      <td>1.257580</td>\n",
              "      <td>0.567627</td>\n",
              "      <td>5.408327</td>\n",
              "      <td>1.20</td>\n",
              "      <td>0.60</td>\n",
              "      <td>0.15</td>\n",
              "      <td>2.910000</td>\n",
              "      <td>0.682349</td>\n",
              "      <td>1.430181</td>\n",
              "      <td>0.645532</td>\n",
              "      <td>6.150610</td>\n",
              "      <td>1.364698</td>\n",
              "      <td>0.682349</td>\n",
              "      <td>0.170587</td>\n",
              "      <td>0.160</td>\n",
              "      <td>0.335355</td>\n",
              "      <td>0.151367</td>\n",
              "      <td>1.442221</td>\n",
              "      <td>0.320000</td>\n",
              "      <td>0.160000</td>\n",
              "      <td>0.040000</td>\n",
              "      <td>0.702893</td>\n",
              "      <td>0.317260</td>\n",
              "      <td>3.022847</td>\n",
              "      <td>0.670710</td>\n",
              "      <td>0.335355</td>\n",
              "      <td>0.083839</td>\n",
              "      <td>0.1432</td>\n",
              "      <td>1.364405</td>\n",
              "      <td>0.302734</td>\n",
              "      <td>0.151367</td>\n",
              "      <td>0.037842</td>\n",
              "      <td>13.0</td>\n",
              "      <td>2.884441</td>\n",
              "      <td>1.442221</td>\n",
              "      <td>0.360555</td>\n",
              "      <td>0.64</td>\n",
              "      <td>0.32</td>\n",
              "      <td>0.08</td>\n",
              "      <td>0.16</td>\n",
              "      <td>0.04</td>\n",
              "      <td>0.01</td>\n",
              "    </tr>\n",
              "    <tr>\n",
              "      <th>4</th>\n",
              "      <td>436189</td>\n",
              "      <td>0</td>\n",
              "      <td>5</td>\n",
              "      <td>5</td>\n",
              "      <td>0</td>\n",
              "      <td>0</td>\n",
              "      <td>1</td>\n",
              "      <td>0</td>\n",
              "      <td>0</td>\n",
              "      <td>0</td>\n",
              "      <td>0</td>\n",
              "      <td>0</td>\n",
              "      <td>0</td>\n",
              "      <td>10</td>\n",
              "      <td>1</td>\n",
              "      <td>0</td>\n",
              "      <td>0</td>\n",
              "      <td>0.8</td>\n",
              "      <td>0.8</td>\n",
              "      <td>1.086566</td>\n",
              "      <td>3.0</td>\n",
              "      <td>0.400000</td>\n",
              "      <td>0.905777</td>\n",
              "      <td>0.384838</td>\n",
              "      <td>3.605551</td>\n",
              "      <td>0.6</td>\n",
              "      <td>0.5</td>\n",
              "      <td>0.9</td>\n",
              "      <td>3</td>\n",
              "      <td>3</td>\n",
              "      <td>5</td>\n",
              "      <td>2</td>\n",
              "      <td>9</td>\n",
              "      <td>1</td>\n",
              "      <td>6</td>\n",
              "      <td>5</td>\n",
              "      <td>1</td>\n",
              "      <td>6</td>\n",
              "      <td>8</td>\n",
              "      <td>0</td>\n",
              "      <td>1</td>\n",
              "      <td>1</td>\n",
              "      <td>1</td>\n",
              "      <td>0</td>\n",
              "      <td>1</td>\n",
              "      <td>0.108883</td>\n",
              "      <td>1</td>\n",
              "      <td>0</td>\n",
              "      <td>0</td>\n",
              "      <td>0</td>\n",
              "      <td>...</td>\n",
              "      <td>0.307870</td>\n",
              "      <td>2.884441</td>\n",
              "      <td>0.48</td>\n",
              "      <td>0.40</td>\n",
              "      <td>0.72</td>\n",
              "      <td>0.64</td>\n",
              "      <td>0.869253</td>\n",
              "      <td>0.320000</td>\n",
              "      <td>0.724622</td>\n",
              "      <td>0.307870</td>\n",
              "      <td>2.884441</td>\n",
              "      <td>0.48</td>\n",
              "      <td>0.40</td>\n",
              "      <td>0.72</td>\n",
              "      <td>1.180625</td>\n",
              "      <td>0.434626</td>\n",
              "      <td>0.984186</td>\n",
              "      <td>0.418151</td>\n",
              "      <td>3.917668</td>\n",
              "      <td>0.651939</td>\n",
              "      <td>0.543283</td>\n",
              "      <td>0.977909</td>\n",
              "      <td>0.160</td>\n",
              "      <td>0.362311</td>\n",
              "      <td>0.153935</td>\n",
              "      <td>1.442221</td>\n",
              "      <td>0.240000</td>\n",
              "      <td>0.200000</td>\n",
              "      <td>0.360000</td>\n",
              "      <td>0.820432</td>\n",
              "      <td>0.348577</td>\n",
              "      <td>3.265825</td>\n",
              "      <td>0.543466</td>\n",
              "      <td>0.452888</td>\n",
              "      <td>0.815199</td>\n",
              "      <td>0.1481</td>\n",
              "      <td>1.387552</td>\n",
              "      <td>0.230903</td>\n",
              "      <td>0.192419</td>\n",
              "      <td>0.346354</td>\n",
              "      <td>13.0</td>\n",
              "      <td>2.163331</td>\n",
              "      <td>1.802776</td>\n",
              "      <td>3.244996</td>\n",
              "      <td>0.36</td>\n",
              "      <td>0.30</td>\n",
              "      <td>0.54</td>\n",
              "      <td>0.25</td>\n",
              "      <td>0.45</td>\n",
              "      <td>0.81</td>\n",
              "    </tr>\n",
              "  </tbody>\n",
              "</table>\n",
              "<p>5 rows × 164 columns</p>\n",
              "</div>"
            ],
            "text/plain": [
              "        id  target  ps_ind_01  ps_ind_03  ps_ind_06_bin  ps_ind_07_bin  \\\n",
              "0   353762       0          1          1              1              0   \n",
              "1   845629       0          5          7              1              0   \n",
              "2  1449185       0          4          3              1              0   \n",
              "3   834066       0          6          6              1              0   \n",
              "4   436189       0          5          5              0              0   \n",
              "\n",
              "   ps_ind_08_bin  ps_ind_09_bin  ps_ind_10_bin  ps_ind_11_bin  ps_ind_12_bin  \\\n",
              "0              0              0              0              0              0   \n",
              "1              0              0              0              0              0   \n",
              "2              0              0              0              0              0   \n",
              "3              0              0              0              0              0   \n",
              "4              1              0              0              0              0   \n",
              "\n",
              "   ps_ind_13_bin  ps_ind_14  ps_ind_15  ps_ind_16_bin  ps_ind_17_bin  \\\n",
              "0              0          0         11              0              1   \n",
              "1              0          0          5              0              0   \n",
              "2              0          0          4              1              0   \n",
              "3              0          0          8              1              0   \n",
              "4              0          0         10              1              0   \n",
              "\n",
              "   ps_ind_18_bin  ps_reg_01  ps_reg_02  ps_reg_03  ps_car_11  ps_car_12  \\\n",
              "0              0        0.6        0.6   0.838153        1.0   0.368782   \n",
              "1              1        0.9        0.6   0.728440        1.0   0.424264   \n",
              "2              0        0.9        0.6   0.869267        3.0   0.400000   \n",
              "3              0        0.6        1.5   1.705872        2.0   0.400000   \n",
              "4              0        0.8        0.8   1.086566        3.0   0.400000   \n",
              "\n",
              "   ps_car_13  ps_car_14  ps_car_15  ps_calc_01  ps_calc_02  ps_calc_03  \\\n",
              "0   0.540603   0.345688   2.000000         0.9         0.3         0.0   \n",
              "1   0.382953   0.378814   0.000000         0.2         0.0         0.6   \n",
              "2   0.814271   0.402368   3.316625         0.3         0.9         0.1   \n",
              "3   0.838387   0.378418   3.605551         0.8         0.4         0.1   \n",
              "4   0.905777   0.384838   3.605551         0.6         0.5         0.9   \n",
              "\n",
              "   ps_calc_04  ps_calc_05  ps_calc_06  ps_calc_07  ps_calc_08  ps_calc_09  \\\n",
              "0           3           0           7           3           8           4   \n",
              "1           1           1           7           5          10           4   \n",
              "2           4           1           8           5          10           2   \n",
              "3           3           3           7           2          11           3   \n",
              "4           3           3           5           2           9           1   \n",
              "\n",
              "   ps_calc_10  ps_calc_11  ps_calc_12  ps_calc_13  ps_calc_14  ps_calc_15_bin  \\\n",
              "0           8           1           0           4           6               0   \n",
              "1          11           3           0           3           7               0   \n",
              "2           8           7           2           3          10               0   \n",
              "3          10           2           2           0          14               0   \n",
              "4           6           5           1           6           8               0   \n",
              "\n",
              "   ps_calc_16_bin  ps_calc_17_bin  ps_calc_18_bin  ps_calc_19_bin  \\\n",
              "0               1               1               0               0   \n",
              "1               0               0               0               1   \n",
              "2               1               0               1               0   \n",
              "3               0               0               0               0   \n",
              "4               1               1               1               0   \n",
              "\n",
              "   ps_calc_20_bin  ps_car_11_cat_te  ps_ind_02_cat_1  ps_ind_02_cat_2  \\\n",
              "0               1          0.093931                1                0   \n",
              "1               0          0.119244                1                0   \n",
              "2               1          0.097716                1                0   \n",
              "3               0          0.086134                1                0   \n",
              "4               1          0.108883                1                0   \n",
              "\n",
              "   ps_ind_02_cat_3  ps_ind_02_cat_4  ...  ps_reg_01 ps_car_14  \\\n",
              "0                0                0  ...             0.207413   \n",
              "1                0                0  ...             0.340933   \n",
              "2                0                0  ...             0.362131   \n",
              "3                0                0  ...             0.227051   \n",
              "4                0                0  ...             0.307870   \n",
              "\n",
              "   ps_reg_01 ps_car_15  ps_reg_01 ps_calc_01  ps_reg_01 ps_calc_02  \\\n",
              "0             1.200000                  0.54                  0.18   \n",
              "1             0.000000                  0.18                  0.00   \n",
              "2             2.984962                  0.27                  0.81   \n",
              "3             2.163331                  0.48                  0.24   \n",
              "4             2.884441                  0.48                  0.40   \n",
              "\n",
              "   ps_reg_01 ps_calc_03  ps_reg_02^2  ps_reg_02 ps_reg_03  \\\n",
              "0                  0.00         0.36             0.502892   \n",
              "1                  0.54         0.36             0.437064   \n",
              "2                  0.09         0.36             0.521560   \n",
              "3                  0.06         2.25             2.558808   \n",
              "4                  0.72         0.64             0.869253   \n",
              "\n",
              "   ps_reg_02 ps_car_12  ps_reg_02 ps_car_13  ps_reg_02 ps_car_14  \\\n",
              "0             0.221269             0.324362             0.207413   \n",
              "1             0.254558             0.229772             0.227288   \n",
              "2             0.240000             0.488563             0.241421   \n",
              "3             0.600000             1.257580             0.567627   \n",
              "4             0.320000             0.724622             0.307870   \n",
              "\n",
              "   ps_reg_02 ps_car_15  ps_reg_02 ps_calc_01  ps_reg_02 ps_calc_02  \\\n",
              "0             1.200000                  0.54                  0.18   \n",
              "1             0.000000                  0.12                  0.00   \n",
              "2             1.989975                  0.18                  0.54   \n",
              "3             5.408327                  1.20                  0.60   \n",
              "4             2.884441                  0.48                  0.40   \n",
              "\n",
              "   ps_reg_02 ps_calc_03  ps_reg_03^2  ps_reg_03 ps_car_12  \\\n",
              "0                  0.00     0.702500             0.309095   \n",
              "1                  0.36     0.530625             0.309051   \n",
              "2                  0.06     0.755625             0.347707   \n",
              "3                  0.15     2.910000             0.682349   \n",
              "4                  0.72     1.180625             0.434626   \n",
              "\n",
              "   ps_reg_03 ps_car_13  ps_reg_03 ps_car_14  ps_reg_03 ps_car_15  \\\n",
              "0             0.453108             0.289739             1.676305   \n",
              "1             0.278958             0.275943             0.000000   \n",
              "2             0.707819             0.349765             2.883032   \n",
              "3             1.430181             0.645532             6.150610   \n",
              "4             0.984186             0.418151             3.917668   \n",
              "\n",
              "   ps_reg_03 ps_calc_01  ps_reg_03 ps_calc_02  ps_reg_03 ps_calc_03  \\\n",
              "0              0.754337              0.251446              0.000000   \n",
              "1              0.145688              0.000000              0.437064   \n",
              "2              0.260780              0.782340              0.086927   \n",
              "3              1.364698              0.682349              0.170587   \n",
              "4              0.651939              0.543283              0.977909   \n",
              "\n",
              "   ps_car_12^2  ps_car_12 ps_car_13  ps_car_12 ps_car_14  ps_car_12 ps_car_15  \\\n",
              "0        0.136             0.199365             0.127483             0.737564   \n",
              "1        0.180             0.162473             0.160717             0.000000   \n",
              "2        0.160             0.325708             0.160947             1.326650   \n",
              "3        0.160             0.335355             0.151367             1.442221   \n",
              "4        0.160             0.362311             0.153935             1.442221   \n",
              "\n",
              "   ps_car_12 ps_calc_01  ps_car_12 ps_calc_02  ps_car_12 ps_calc_03  \\\n",
              "0              0.331904              0.110635              0.000000   \n",
              "1              0.084853              0.000000              0.254558   \n",
              "2              0.120000              0.360000              0.040000   \n",
              "3              0.320000              0.160000              0.040000   \n",
              "4              0.240000              0.200000              0.360000   \n",
              "\n",
              "   ps_car_13^2  ps_car_13 ps_car_14  ps_car_13 ps_car_15  \\\n",
              "0     0.292252             0.186880             1.081207   \n",
              "1     0.146653             0.145068             0.000000   \n",
              "2     0.663037             0.327637             2.700631   \n",
              "3     0.702893             0.317260             3.022847   \n",
              "4     0.820432             0.348577             3.265825   \n",
              "\n",
              "   ps_car_13 ps_calc_01  ps_car_13 ps_calc_02  ps_car_13 ps_calc_03  \\\n",
              "0              0.486543              0.162181              0.000000   \n",
              "1              0.076591              0.000000              0.229772   \n",
              "2              0.244281              0.732844              0.081427   \n",
              "3              0.670710              0.335355              0.083839   \n",
              "4              0.543466              0.452888              0.815199   \n",
              "\n",
              "   ps_car_14^2  ps_car_14 ps_car_15  ps_car_14 ps_calc_01  \\\n",
              "0       0.1195             0.691375              0.311119   \n",
              "1       0.1435             0.000000              0.075763   \n",
              "2       0.1619             1.334504              0.120710   \n",
              "3       0.1432             1.364405              0.302734   \n",
              "4       0.1481             1.387552              0.230903   \n",
              "\n",
              "   ps_car_14 ps_calc_02  ps_car_14 ps_calc_03  ps_car_15^2  \\\n",
              "0              0.103706              0.000000          4.0   \n",
              "1              0.000000              0.227288          0.0   \n",
              "2              0.362131              0.040237         11.0   \n",
              "3              0.151367              0.037842         13.0   \n",
              "4              0.192419              0.346354         13.0   \n",
              "\n",
              "   ps_car_15 ps_calc_01  ps_car_15 ps_calc_02  ps_car_15 ps_calc_03  \\\n",
              "0              1.800000              0.600000              0.000000   \n",
              "1              0.000000              0.000000              0.000000   \n",
              "2              0.994987              2.984962              0.331662   \n",
              "3              2.884441              1.442221              0.360555   \n",
              "4              2.163331              1.802776              3.244996   \n",
              "\n",
              "   ps_calc_01^2  ps_calc_01 ps_calc_02  ps_calc_01 ps_calc_03  ps_calc_02^2  \\\n",
              "0          0.81                   0.27                   0.00          0.09   \n",
              "1          0.04                   0.00                   0.12          0.00   \n",
              "2          0.09                   0.27                   0.03          0.81   \n",
              "3          0.64                   0.32                   0.08          0.16   \n",
              "4          0.36                   0.30                   0.54          0.25   \n",
              "\n",
              "   ps_calc_02 ps_calc_03  ps_calc_03^2  \n",
              "0                   0.00          0.00  \n",
              "1                   0.00          0.36  \n",
              "2                   0.09          0.01  \n",
              "3                   0.04          0.01  \n",
              "4                   0.45          0.81  \n",
              "\n",
              "[5 rows x 164 columns]"
            ]
          },
          "metadata": {
            "tags": []
          },
          "execution_count": 35
        }
      ]
    },
    {
      "cell_type": "markdown",
      "metadata": {
        "id": "2VVLD_MB3eM-",
        "colab_type": "text"
      },
      "source": [
        "## 피처 선택"
      ]
    },
    {
      "cell_type": "markdown",
      "metadata": {
        "id": "He12KSAg4t-1",
        "colab_type": "text"
      },
      "source": [
        "### 분산이 낮거나 0인 피처 제거"
      ]
    },
    {
      "cell_type": "markdown",
      "metadata": {
        "id": "Ts1qPJ8842VG",
        "colab_type": "text"
      },
      "source": [
        "개인적으로는 분류 알고리즘이 유지할 피처를 고르는 것을 선호합니다.   \n",
        "그러나 우리가 할 수있는 한가지 일이 있습니다.  \n",
        "그것은 변화가 없거나 매우 적은 피처들을 제거하는 것입니다.   \n",
        "Sklearn은이를위한 편리한 방법을 가지고 있습니다 : VarianceThreshold.  \n",
        "기본적으로 분산이 0인  피처를 제거합니다.  \n",
        "이전 단계에서 분산이 0인 피처가 없다는것을 알았으므로 이 대회에 적용하진 않을 것입니다.  \n",
        "그러나 1% 미만의 분산을 가진 피처를 제거하면 31 개의 변수가 제거됩니다."
      ]
    },
    {
      "cell_type": "code",
      "metadata": {
        "id": "6BCWOfD9A83P",
        "colab_type": "code",
        "colab": {
          "base_uri": "https://localhost:8080/",
          "height": 74
        },
        "outputId": "96cb4077-0ab7-48e3-a050-5a359d62fe1a"
      },
      "source": [
        "selector = VarianceThreshold(threshold=.01)\n",
        "selector.fit(train.drop(['id', 'target'], axis=1)) # id와 target 변수 없이 훈련하는 것이 적합하다.\n",
        "f = np.vectorize(lambda x : not x) # 부울 배열 요소를 토글하는 함수\n",
        "v = train.drop(['id', 'target'], axis=1).columns[f(selector.get_support())]\n",
        "print('{} variables have too low variance.'.format(len(v)))\n",
        "print('These variables are {}'.format(list(v)))"
      ],
      "execution_count": null,
      "outputs": [
        {
          "output_type": "stream",
          "text": [
            "28 variables have too low variance.\n",
            "These variables are ['ps_ind_10_bin', 'ps_ind_11_bin', 'ps_ind_12_bin', 'ps_ind_13_bin', 'ps_car_12', 'ps_car_14', 'ps_car_11_cat_te', 'ps_ind_05_cat_2', 'ps_ind_05_cat_5', 'ps_car_01_cat_1', 'ps_car_01_cat_2', 'ps_car_04_cat_3', 'ps_car_04_cat_4', 'ps_car_04_cat_5', 'ps_car_04_cat_6', 'ps_car_04_cat_7', 'ps_car_06_cat_2', 'ps_car_06_cat_5', 'ps_car_06_cat_8', 'ps_car_06_cat_12', 'ps_car_06_cat_16', 'ps_car_06_cat_17', 'ps_car_09_cat_4', 'ps_car_10_cat_1', 'ps_car_10_cat_2', 'ps_car_12^2', 'ps_car_12 ps_car_14', 'ps_car_14^2']\n"
          ],
          "name": "stdout"
        }
      ]
    },
    {
      "cell_type": "markdown",
      "metadata": {
        "id": "l82EKT0DCZ1a",
        "colab_type": "text"
      },
      "source": [
        "우리는 분산을 기반으로 선택한다면 오히려 많은 변수를 잃을 것입니다.  \n",
        "그러나 우리는 변수가 많지 않으므로 분류기가 선택하도록 할 것입니다.  \n",
        "변수가 더 많은 데이터 세트의 경우 처리 시간이 줄어들 수 있습니다.    \n"
      ]
    },
    {
      "cell_type": "markdown",
      "metadata": {
        "id": "uyGHs1HKDaoM",
        "colab_type": "text"
      },
      "source": [
        "Sklearn은 다른 피처 선택 방법도 제공합니다.    \n",
        "이러한 메소드 중 하나는 SelectFromModel이며 다른 분류기가 최상의 피처를  선택하고 그것을 이어나갈 수 있습니다.  \n",
        "아래에서는 랜덤 포레스트 (Random Forest)로 어떻게하는지 보여 드리겠습니다.\n",
        "\n",
        "sklearn의 Feature selection: https://scikit-learn.org/stable/modules/feature_selection.html  \n",
        "\n"
      ]
    },
    {
      "cell_type": "markdown",
      "metadata": {
        "id": "p0ZPwl9vDsQu",
        "colab_type": "text"
      },
      "source": [
        "### Selecting features with a Random Forest and SelectFromModel\n"
      ]
    },
    {
      "cell_type": "markdown",
      "metadata": {
        "id": "u8J613urEtH5",
        "colab_type": "text"
      },
      "source": [
        "우리는 랜덤 포레스트의 중요한 피처들을 기반으로 피처 선택을 할 것입니다.  \n",
        "Sklearn의 SelectFromModel을 사용하여 지킬 변수 수를 지정할 수 있습니다.  \n",
        "피처 중요도 수준에서 임계 값을 수동으로 설정할 수 있습니다.  \n",
        "하지만 우리는 간단히 상위 50 % 상위 변수만 선택할 것입니다."
      ]
    },
    {
      "cell_type": "markdown",
      "metadata": {
        "id": "G8enyXX0FVkU",
        "colab_type": "text"
      },
      "source": [
        "아래 셀의 코드는 Sebastian Raschka의 GitHub 레포에서 빌려 왔습니다.  \n",
        "이 repo에는 자신의 책 Python Machine Learning의 코드 샘플이 포함되어 있으며 반드시 읽어야합니다.  \n",
        "\n",
        "Sebastian Raschka의 GitHub : https://github.com/rasbt/python-machine-learning-book/blob/master/code/ch04/ch04.ipynb"
      ]
    },
    {
      "cell_type": "code",
      "metadata": {
        "id": "QPGxHQ3PGkpa",
        "colab_type": "code",
        "colab": {
          "base_uri": "https://localhost:8080/",
          "height": 1000
        },
        "outputId": "5d7e6d27-2a1f-4c4e-8bd4-c6a8cdee809f"
      },
      "source": [
        "X_train = train.drop(['id', 'target'], axis=1)\n",
        "y_train = train['target']\n",
        "\n",
        "feat_labels = X_train.columns\n",
        "\n",
        "rf = RandomForestClassifier(n_estimators=1000, random_state=0, n_jobs=-1)\n",
        "\n",
        "rf.fit(X_train, y_train)\n",
        "importances = rf.feature_importances_\n",
        "\n",
        "indices = np.argsort(rf.feature_importances_)[::-1]\n",
        "\n",
        "for f in range(X_train.shape[1]):\n",
        "    print(\"%2d) %-*s %f\" % (f + 1, 30,feat_labels[indices[f]], importances[indices[f]]))"
      ],
      "execution_count": null,
      "outputs": [
        {
          "output_type": "stream",
          "text": [
            " 1) ps_car_11_cat_te               0.021241\n",
            " 2) ps_car_13                      0.017428\n",
            " 3) ps_car_12 ps_car_13            0.017303\n",
            " 4) ps_car_13^2                    0.017241\n",
            " 5) ps_reg_03 ps_car_13            0.017170\n",
            " 6) ps_car_13 ps_car_14            0.017121\n",
            " 7) ps_car_13 ps_car_15            0.016738\n",
            " 8) ps_reg_01 ps_car_13            0.016703\n",
            " 9) ps_reg_03 ps_car_14            0.016207\n",
            "10) ps_reg_03 ps_car_12            0.015530\n",
            "11) ps_reg_03 ps_car_15            0.015206\n",
            "12) ps_car_14 ps_car_15            0.015011\n",
            "13) ps_reg_01 ps_reg_03            0.014737\n",
            "14) ps_car_13 ps_calc_01           0.014734\n",
            "15) ps_car_13 ps_calc_03           0.014713\n",
            "16) ps_reg_02 ps_car_13            0.014678\n",
            "17) ps_car_13 ps_calc_02           0.014639\n",
            "18) ps_reg_01 ps_car_14            0.014360\n",
            "19) ps_reg_03                      0.014265\n",
            "20) ps_reg_03^2                    0.014242\n",
            "21) ps_reg_03 ps_calc_03           0.013815\n",
            "22) ps_reg_03 ps_calc_02           0.013801\n",
            "23) ps_reg_03 ps_calc_01           0.013773\n",
            "24) ps_car_14 ps_calc_02           0.013605\n",
            "25) ps_calc_10                     0.013574\n",
            "26) ps_car_14 ps_calc_01           0.013548\n",
            "27) ps_car_14 ps_calc_03           0.013490\n",
            "28) ps_calc_14                     0.013352\n",
            "29) ps_car_12 ps_car_14            0.013007\n",
            "30) ps_ind_03                      0.012919\n",
            "31) ps_car_14                      0.012820\n",
            "32) ps_car_14^2                    0.012766\n",
            "33) ps_reg_02 ps_car_14            0.012744\n",
            "34) ps_calc_11                     0.012625\n",
            "35) ps_reg_02 ps_reg_03            0.012552\n",
            "36) ps_ind_15                      0.012135\n",
            "37) ps_car_12 ps_car_15            0.010934\n",
            "38) ps_car_15 ps_calc_03           0.010896\n",
            "39) ps_car_15 ps_calc_01           0.010849\n",
            "40) ps_car_15 ps_calc_02           0.010813\n",
            "41) ps_calc_13                     0.010467\n",
            "42) ps_car_12 ps_calc_01           0.010435\n",
            "43) ps_car_12 ps_calc_03           0.010350\n",
            "44) ps_car_12 ps_calc_02           0.010304\n",
            "45) ps_reg_02 ps_car_15            0.010235\n",
            "46) ps_reg_01 ps_car_15            0.010230\n",
            "47) ps_calc_02 ps_calc_03          0.010069\n",
            "48) ps_calc_01 ps_calc_03          0.009997\n",
            "49) ps_calc_01 ps_calc_02          0.009970\n",
            "50) ps_calc_07                     0.009819\n",
            "51) ps_calc_08                     0.009819\n",
            "52) ps_reg_01 ps_car_12            0.009410\n",
            "53) ps_reg_02 ps_car_12            0.009274\n",
            "54) ps_reg_02 ps_calc_01           0.009268\n",
            "55) ps_reg_02 ps_calc_03           0.009203\n",
            "56) ps_reg_02 ps_calc_02           0.009161\n",
            "57) ps_reg_01 ps_calc_03           0.009081\n",
            "58) ps_reg_01 ps_calc_02           0.009035\n",
            "59) ps_calc_06                     0.009029\n",
            "60) ps_reg_01 ps_calc_01           0.009000\n",
            "61) ps_calc_09                     0.008840\n",
            "62) ps_ind_01                      0.008582\n",
            "63) ps_calc_05                     0.008298\n",
            "64) ps_calc_04                     0.008134\n",
            "65) ps_reg_01 ps_reg_02            0.008070\n",
            "66) ps_calc_12                     0.007991\n",
            "67) ps_car_15^2                    0.006179\n",
            "68) ps_car_15                      0.006170\n",
            "69) ps_calc_03                     0.005995\n",
            "70) ps_calc_01^2                   0.005991\n",
            "71) ps_calc_01                     0.005952\n",
            "72) ps_calc_03^2                   0.005936\n",
            "73) ps_calc_02                     0.005930\n",
            "74) ps_calc_02^2                   0.005915\n",
            "75) ps_car_12^2                    0.005346\n",
            "76) ps_car_12                      0.005322\n",
            "77) ps_reg_02                      0.004995\n",
            "78) ps_reg_02^2                    0.004972\n",
            "79) ps_reg_01                      0.004118\n",
            "80) ps_reg_01^2                    0.004113\n",
            "81) ps_car_11                      0.003815\n",
            "82) ps_ind_05_cat_0                0.003557\n",
            "83) ps_ind_17_bin                  0.002863\n",
            "84) ps_calc_17_bin                 0.002693\n",
            "85) ps_calc_16_bin                 0.002611\n",
            "86) ps_calc_19_bin                 0.002561\n",
            "87) ps_calc_18_bin                 0.002493\n",
            "88) ps_ind_04_cat_0                0.002398\n",
            "89) ps_ind_16_bin                  0.002397\n",
            "90) ps_ind_04_cat_1                0.002392\n",
            "91) ps_car_01_cat_11               0.002387\n",
            "92) ps_ind_07_bin                  0.002334\n",
            "93) ps_car_09_cat_2                0.002326\n",
            "94) ps_ind_02_cat_1                0.002233\n",
            "95) ps_car_01_cat_7                0.002098\n",
            "96) ps_ind_02_cat_2                0.002094\n",
            "97) ps_calc_20_bin                 0.002085\n",
            "98) ps_car_09_cat_0                0.002077\n",
            "99) ps_ind_06_bin                  0.002044\n",
            "100) ps_car_06_cat_1                0.001996\n",
            "101) ps_calc_15_bin                 0.001985\n",
            "102) ps_car_07_cat_1                0.001962\n",
            "103) ps_ind_08_bin                  0.001950\n",
            "104) ps_car_09_cat_1                0.001818\n",
            "105) ps_car_06_cat_11               0.001798\n",
            "106) ps_ind_18_bin                  0.001741\n",
            "107) ps_ind_09_bin                  0.001733\n",
            "108) ps_car_01_cat_10               0.001587\n",
            "109) ps_car_01_cat_9                0.001580\n",
            "110) ps_car_01_cat_6                0.001539\n",
            "111) ps_car_06_cat_14               0.001538\n",
            "112) ps_car_01_cat_4                0.001525\n",
            "113) ps_ind_05_cat_6                0.001488\n",
            "114) ps_ind_02_cat_3                0.001421\n",
            "115) ps_car_07_cat_0                0.001377\n",
            "116) ps_car_02_cat_1                0.001334\n",
            "117) ps_car_08_cat_1                0.001332\n",
            "118) ps_car_01_cat_8                0.001329\n",
            "119) ps_car_02_cat_0                0.001310\n",
            "120) ps_ind_05_cat_4                0.001233\n",
            "121) ps_car_06_cat_4                0.001209\n",
            "122) ps_ind_02_cat_4                0.001166\n",
            "123) ps_car_01_cat_5                0.001150\n",
            "124) ps_car_06_cat_6                0.001126\n",
            "125) ps_car_06_cat_10               0.001057\n",
            "126) ps_ind_05_cat_2                0.001055\n",
            "127) ps_car_04_cat_1                0.001035\n",
            "128) ps_car_06_cat_7                0.001004\n",
            "129) ps_car_04_cat_2                0.000981\n",
            "130) ps_car_01_cat_3                0.000897\n",
            "131) ps_car_01_cat_0                0.000876\n",
            "132) ps_ind_14                      0.000874\n",
            "133) ps_car_09_cat_3                0.000868\n",
            "134) ps_car_06_cat_15               0.000834\n",
            "135) ps_car_06_cat_9                0.000795\n",
            "136) ps_ind_05_cat_1                0.000748\n",
            "137) ps_car_06_cat_3                0.000720\n",
            "138) ps_car_10_cat_1                0.000707\n",
            "139) ps_ind_12_bin                  0.000685\n",
            "140) ps_ind_05_cat_3                0.000669\n",
            "141) ps_car_09_cat_4                0.000600\n",
            "142) ps_car_01_cat_2                0.000564\n",
            "143) ps_car_04_cat_8                0.000553\n",
            "144) ps_car_06_cat_17               0.000509\n",
            "145) ps_car_06_cat_16               0.000473\n",
            "146) ps_car_04_cat_9                0.000437\n",
            "147) ps_car_06_cat_12               0.000426\n",
            "148) ps_car_01_cat_1                0.000380\n",
            "149) ps_car_06_cat_13               0.000379\n",
            "150) ps_ind_05_cat_5                0.000318\n",
            "151) ps_car_06_cat_5                0.000277\n",
            "152) ps_ind_11_bin                  0.000218\n",
            "153) ps_car_04_cat_6                0.000199\n",
            "154) ps_ind_13_bin                  0.000146\n",
            "155) ps_car_04_cat_3                0.000146\n",
            "156) ps_car_06_cat_2                0.000138\n",
            "157) ps_car_06_cat_8                0.000098\n",
            "158) ps_car_04_cat_5                0.000096\n",
            "159) ps_car_04_cat_7                0.000083\n",
            "160) ps_ind_10_bin                  0.000074\n",
            "161) ps_car_10_cat_2                0.000062\n",
            "162) ps_car_04_cat_4                0.000044\n"
          ],
          "name": "stdout"
        }
      ]
    },
    {
      "cell_type": "markdown",
      "metadata": {
        "id": "Sin6ulqNG0vg",
        "colab_type": "text"
      },
      "source": [
        "SelectFromModel을 사용하여 사용할 사전 분류기와 피처 중요도를 위한 임계값을 명시할 수 있다.    \n",
        "get_support 메소드를 사용하면 train 데이터의 변수 수를 제한 할 수 있습니다.\n"
      ]
    },
    {
      "cell_type": "code",
      "metadata": {
        "id": "NBfIOqqT_Mhc",
        "colab_type": "code",
        "colab": {
          "base_uri": "https://localhost:8080/",
          "height": 54
        },
        "outputId": "440b02d8-173d-4eea-9700-422ca61616e5"
      },
      "source": [
        "sfm = SelectFromModel(rf, threshold='median', prefit=True)\n",
        "print('Number of features before selection: {}'.format(X_train.shape[1]))\n",
        "n_features = sfm.transform(X_train).shape[1]\n",
        "print('Number of features after selection: {}'.format(n_features))\n",
        "selected_vars = list(feat_labels[sfm.get_support()])"
      ],
      "execution_count": null,
      "outputs": [
        {
          "output_type": "stream",
          "text": [
            "Number of features before selection: 162\n",
            "Number of features after selection: 81\n"
          ],
          "name": "stdout"
        }
      ]
    },
    {
      "cell_type": "code",
      "metadata": {
        "id": "LfWhVr7MBgmq",
        "colab_type": "code",
        "colab": {}
      },
      "source": [
        "train = train[selected_vars + ['target']]"
      ],
      "execution_count": null,
      "outputs": []
    },
    {
      "cell_type": "markdown",
      "metadata": {
        "id": "6ioJaALjBngD",
        "colab_type": "text"
      },
      "source": [
        "## 피처 스케일링"
      ]
    },
    {
      "cell_type": "markdown",
      "metadata": {
        "id": "Lay6OqcbBsfC",
        "colab_type": "text"
      },
      "source": [
        "앞서 언급했듯이 Standard 스케일링을 train 데이터에 적용 할 수 있습니다.  \n",
        "몇몇 분류기는 이 작업을 하면 더 좋은 성능을 보입니다."
      ]
    },
    {
      "cell_type": "code",
      "metadata": {
        "id": "TOZlhI1dCBgm",
        "colab_type": "code",
        "colab": {
          "base_uri": "https://localhost:8080/",
          "height": 254
        },
        "outputId": "b52dc965-e3f3-4ad6-e5c2-6121e8fb59cb"
      },
      "source": [
        "scaler = StandardScaler()\n",
        "scaler.fit_transform(train.drop(['target'], axis=1))"
      ],
      "execution_count": null,
      "outputs": [
        {
          "output_type": "execute_result",
          "data": {
            "text/plain": [
              "array([[-0.45941104, -1.26665356,  1.05087653, ..., -0.72553616,\n",
              "        -1.01071913, -1.06173767],\n",
              "       [ 1.55538958,  0.95034274, -0.63847299, ..., -1.06120876,\n",
              "        -1.01071913,  0.27907892],\n",
              "       [ 1.05168943, -0.52765479, -0.92003125, ...,  1.95984463,\n",
              "        -0.56215309, -1.02449277],\n",
              "       ...,\n",
              "       [-0.9631112 ,  0.58084336,  0.48776003, ..., -0.46445747,\n",
              "         0.18545696,  0.27907892],\n",
              "       [-0.9631112 , -0.89715418, -1.48314775, ..., -0.91202093,\n",
              "        -0.41263108,  0.27907892],\n",
              "       [-0.45941104, -1.26665356,  1.61399304, ...,  0.28148164,\n",
              "        -0.11358706, -0.72653353]])"
            ]
          },
          "metadata": {
            "tags": []
          },
          "execution_count": 48
        }
      ]
    },
    {
      "cell_type": "markdown",
      "metadata": {
        "id": "oydZyb6xCE1I",
        "colab_type": "text"
      },
      "source": [
        "## 결론"
      ]
    },
    {
      "cell_type": "markdown",
      "metadata": {
        "id": "qZBZMfPmCIUY",
        "colab_type": "text"
      },
      "source": [
        "이 노트북이 당신에게 이 대회를 어떻게 시작할지 약간의 힌트가 되길 바란다.   \n",
        "자유롭게 투표하고 궁금한 것이 있다면 댓글을 달아주세요."
      ]
    }
  ]
}