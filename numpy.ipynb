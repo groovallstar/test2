{
  "nbformat": 4,
  "nbformat_minor": 0,
  "metadata": {
    "colab": {
      "name": "numpy.ipynb",
      "provenance": [],
      "collapsed_sections": []
    },
    "kernelspec": {
      "name": "python3",
      "display_name": "Python 3"
    }
  },
  "cells": [
    {
      "cell_type": "code",
      "metadata": {
        "id": "Bq403NDUHXQi",
        "colab_type": "code",
        "colab": {}
      },
      "source": [
        "import numpy as np"
      ],
      "execution_count": 0,
      "outputs": []
    },
    {
      "cell_type": "code",
      "metadata": {
        "id": "7zdKFKrLHdYW",
        "colab_type": "code",
        "colab": {
          "base_uri": "https://localhost:8080/",
          "height": 92
        },
        "outputId": "b61ff597-3447-4c29-e2cb-0aeb36070d80"
      },
      "source": [
        "list1 = [1, 2, 3]\n",
        "print('list1:', list1)\n",
        "print('list1 type:', type(list1))\n",
        "\n",
        "array1 = np.array(list1)\n",
        "print('array1:', array1)\n",
        "print('array1 type:', type(array1))"
      ],
      "execution_count": 4,
      "outputs": [
        {
          "output_type": "stream",
          "text": [
            "list1: [1, 2, 3]\n",
            "list1 type: <class 'list'>\n",
            "array1: [1 2 3]\n",
            "array1 type: <class 'numpy.ndarray'>\n"
          ],
          "name": "stdout"
        }
      ]
    },
    {
      "cell_type": "code",
      "metadata": {
        "id": "WC_FWFvkIQ2X",
        "colab_type": "code",
        "colab": {
          "base_uri": "https://localhost:8080/",
          "height": 149
        },
        "outputId": "02612bf4-c833-4dd0-809a-0a2b2023cf0e"
      },
      "source": [
        "arrray1 = np.array([1,2,3])\n",
        "print('array1 type:', type(array1))\n",
        "print('array1 array shape:', array1.shape)\n",
        "\n",
        "array2 = np.array([[1,2,3],\n",
        "                  [2,3,4]])\n",
        "print('array2 type:',type(array2))\n",
        "print('array2 array shape:', array2.shape)\n",
        "\n",
        "array3 = np.array([[1,2,3]])\n",
        "print('array3 type:', type(array3))\n",
        "print('array3 array shape:', array3.shape)\n",
        "\n",
        "print('array1:{:0}차원, array2:{:1}차원, arr3:{:2}차원'.format(array1.ndim, array2.ndim, array3.ndim))"
      ],
      "execution_count": 8,
      "outputs": [
        {
          "output_type": "stream",
          "text": [
            "array1 type: <class 'numpy.ndarray'>\n",
            "array1 array shape: (3,)\n",
            "array2 type: <class 'numpy.ndarray'>\n",
            "array2 array shape: (2, 3)\n",
            "array3 type: <class 'numpy.ndarray'>\n",
            "array3 array shape: (1, 3)\n",
            "array1:1차원, array2:2차원, arr3: 2차원\n"
          ],
          "name": "stdout"
        }
      ]
    },
    {
      "cell_type": "code",
      "metadata": {
        "id": "qjVhP8jdJaT9",
        "colab_type": "code",
        "colab": {
          "base_uri": "https://localhost:8080/",
          "height": 111
        },
        "outputId": "b793b361-32f4-409e-c725-8769dc3bf76e"
      },
      "source": [
        "list1 = [1, 2, 3]\n",
        "print(type(list1))\n",
        "array1 = np.array(list1)\n",
        "\n",
        "print(type(array1))\n",
        "print(array1, array1.dtype)\n",
        "\n",
        "list2 = [1, 2, 'test']\n",
        "array2 = np.array(list2) # 정수가 문자열로 변경됨\n",
        "print(array2, array2.dtype)\n",
        "\n",
        "list3 = [1, 2, 3.0]\n",
        "array3 = np.array(list3) # 정수가 실수로 변경됨\n",
        "print(array3, array3.dtype)"
      ],
      "execution_count": 9,
      "outputs": [
        {
          "output_type": "stream",
          "text": [
            "<class 'list'>\n",
            "<class 'numpy.ndarray'>\n",
            "[1 2 3] int64\n",
            "['1' '2' 'test'] <U21\n",
            "[1. 2. 3.] float64\n"
          ],
          "name": "stdout"
        }
      ]
    },
    {
      "cell_type": "markdown",
      "metadata": {
        "id": "e1wi3O23Kpyv",
        "colab_type": "text"
      },
      "source": [
        "- astype() 을 통한 타입 변환"
      ]
    },
    {
      "cell_type": "code",
      "metadata": {
        "id": "r-0ELL7wKLE2",
        "colab_type": "code",
        "colab": {
          "base_uri": "https://localhost:8080/",
          "height": 74
        },
        "outputId": "89d8286e-816b-4be4-f2f0-a689f7fdea7b"
      },
      "source": [
        "array_int = np.array([1,2,3])\n",
        "array_float = array_int.astype('float64'환\n",
        "print(array_float, array_float.dtype)\n",
        "\n",
        "array_int1 = array_float.astype('int32')\n",
        "print(array_int1, array_int1.dtype)\n",
        "\n",
        "array_float1 = np.array([1.1, 2.1, 3.1])\n",
        "array_int2 = array_float1.astype('int32')\n",
        "print(array_int2, array_int2.dtype)"
      ],
      "execution_count": 12,
      "outputs": [
        {
          "output_type": "stream",
          "text": [
            "[1. 2. 3.] float64\n",
            "[1 2 3] int32\n",
            "[1 2 3] int32\n"
          ],
          "name": "stdout"
        }
      ]
    },
    {
      "cell_type": "code",
      "metadata": {
        "id": "cpLCmYr_KwH-",
        "colab_type": "code",
        "colab": {
          "base_uri": "https://localhost:8080/",
          "height": 74
        },
        "outputId": "63214cf2-f769-4eb4-877f-413505c9c9c5"
      },
      "source": [
        "# ndarray에서 axis 기반 연산함수\n",
        "# axis = 0 (행 방향축), axis = 1 (열 방향축)\n",
        "\n",
        "array2 = np.array([[1,2,3],\n",
        "                   [2,3,4]])\n",
        "print(array2.sum())\n",
        "print(array2.sum(axis=0)) # 행방향\n",
        "print(array2.sum(axis=1)) # 열방향"
      ],
      "execution_count": 14,
      "outputs": [
        {
          "output_type": "stream",
          "text": [
            "15\n",
            "[3 5 7]\n",
            "[6 9]\n"
          ],
          "name": "stdout"
        }
      ]
    },
    {
      "cell_type": "code",
      "metadata": {
        "id": "lTzQoH46LtBp",
        "colab_type": "code",
        "colab": {
          "base_uri": "https://localhost:8080/",
          "height": 611
        },
        "outputId": "23f0f53b-5c87-461b-a804-82ccb643b7b4"
      },
      "source": [
        "sequence_array = np.arange(10)\n",
        "print(sequence_array)\n",
        "print(sequence_array.dtype, sequence_array.shape)\n",
        "\n",
        "zero_array = np.zeros((3,2), dtype='int32')\n",
        "print(zero_array)\n",
        "print(zero_array.dtype, zero_array.shape)\n",
        "\n",
        "one_array = np.ones((3,2))\n",
        "print(one_array)\n",
        "print(one_array.dtype, one_array.shape)\n",
        "\n",
        "array1 = np.arange(10)\n",
        "print('array1:\\n', array1)\n",
        "\n",
        "array2 = array1.reshape(2,5)\n",
        "print('array2:\\n', array2)\n",
        "\n",
        "array3 = array1.reshape(5,2)\n",
        "print('array3:\\n', array3)\n",
        "\n",
        "# 변환할 수 없는 shape 구조를 입력하면 오류.\n",
        "array1.reshape(4,3)"
      ],
      "execution_count": 19,
      "outputs": [
        {
          "output_type": "stream",
          "text": [
            "[0 1 2 3 4 5 6 7 8 9]\n",
            "int64 (10,)\n",
            "[[0 0]\n",
            " [0 0]\n",
            " [0 0]]\n",
            "int32 (3, 2)\n",
            "[[1. 1.]\n",
            " [1. 1.]\n",
            " [1. 1.]]\n",
            "float64 (3, 2)\n",
            "array1:\n",
            " [0 1 2 3 4 5 6 7 8 9]\n",
            "array2:\n",
            " [[0 1 2 3 4]\n",
            " [5 6 7 8 9]]\n",
            "array3:\n",
            " [[0 1]\n",
            " [2 3]\n",
            " [4 5]\n",
            " [6 7]\n",
            " [8 9]]\n"
          ],
          "name": "stdout"
        },
        {
          "output_type": "error",
          "ename": "ValueError",
          "evalue": "ignored",
          "traceback": [
            "\u001b[0;31m---------------------------------------------------------------------------\u001b[0m",
            "\u001b[0;31mValueError\u001b[0m                                Traceback (most recent call last)",
            "\u001b[0;32m<ipython-input-19-40f3e9719902>\u001b[0m in \u001b[0;36m<module>\u001b[0;34m()\u001b[0m\n\u001b[1;32m     21\u001b[0m \u001b[0;34m\u001b[0m\u001b[0m\n\u001b[1;32m     22\u001b[0m \u001b[0;31m# 변환할 수 있는 shape 구조를 입력하면 오류.\u001b[0m\u001b[0;34m\u001b[0m\u001b[0;34m\u001b[0m\u001b[0;34m\u001b[0m\u001b[0m\n\u001b[0;32m---> 23\u001b[0;31m \u001b[0marray1\u001b[0m\u001b[0;34m.\u001b[0m\u001b[0mreshape\u001b[0m\u001b[0;34m(\u001b[0m\u001b[0;36m4\u001b[0m\u001b[0;34m,\u001b[0m\u001b[0;36m3\u001b[0m\u001b[0;34m)\u001b[0m\u001b[0;34m\u001b[0m\u001b[0;34m\u001b[0m\u001b[0m\n\u001b[0m",
            "\u001b[0;31mValueError\u001b[0m: cannot reshape array of size 10 into shape (4,3)"
          ]
        }
      ]
    },
    {
      "cell_type": "code",
      "metadata": {
        "id": "LEzPzAxySg-4",
        "colab_type": "code",
        "colab": {
          "base_uri": "https://localhost:8080/",
          "height": 243
        },
        "outputId": "7d7b1f24-1d02-451e-d880-87249a532417"
      },
      "source": [
        "array1 = np.arange(10)\n",
        "print(array1)\n",
        "\n",
        "# column axis 크기는 5에 고정하고, row axis 크기를 이에 맞춰 자동 변환 (2x5)\n",
        "array2 = array1.reshape(-1, 5)\n",
        "print('array2 shape:', array2.shape)\n",
        "print('array2:\\n', array2)\n",
        "\n",
        "# column axis 크기는 자동 변환, row axis 크기는 5에 고정 (5x2)\n",
        "array3 = array1.reshape(5, -1)\n",
        "print('array3 shape:', array3.shape)\n",
        "print('array3:\\n', array3)"
      ],
      "execution_count": 23,
      "outputs": [
        {
          "output_type": "stream",
          "text": [
            "[0 1 2 3 4 5 6 7 8 9]\n",
            "array2 shape: (2, 5)\n",
            "array2:\n",
            " [[0 1 2 3 4]\n",
            " [5 6 7 8 9]]\n",
            "array3 shape: (5, 2)\n",
            "array3:\n",
            " [[0 1]\n",
            " [2 3]\n",
            " [4 5]\n",
            " [6 7]\n",
            " [8 9]]\n"
          ],
          "name": "stdout"
        }
      ]
    },
    {
      "cell_type": "code",
      "metadata": {
        "id": "mf_L0LHoTcZh",
        "colab_type": "code",
        "colab": {
          "base_uri": "https://localhost:8080/",
          "height": 404
        },
        "outputId": "8e10f6ce-8f6a-45f6-96d4-ef5bb7dcb206"
      },
      "source": [
        "array1 = np.arange(5)\n",
        "\n",
        "# 1차원 ndarray를 2차원으로 변환, column axis = 1\n",
        "array2d_1 = array1.reshape(-1, 1)\n",
        "print('array2d_1 shape:', array2d_1.shape)\n",
        "print('array2d_1:\\n', array2d_1)\n",
        "\n",
        "# 2차원 ndarray를 1차원으로 변환.\n",
        "array1d = array2d_1.reshape(-1,)\n",
        "print('array1d shape:', array1d.shape)\n",
        "print('array1d:\\n', array1d)\n",
        "\n",
        "# 변환 불가능한 형태로 변경 시 오류.\n",
        "array1 = np.arange(10)  \n",
        "array4 = array1.reshape(-1, 4)\n",
        "\n",
        "# -1값은 1개 인자에만 입력 가능.\n",
        "array1.reshape(-1,-1)"
      ],
      "execution_count": 28,
      "outputs": [
        {
          "output_type": "stream",
          "text": [
            "array2d_1 shape: (5, 1)\n",
            "array2d_1:\n",
            " [[0]\n",
            " [1]\n",
            " [2]\n",
            " [3]\n",
            " [4]]\n",
            "array1d shape: (5,)\n",
            "array1d:\n",
            " [0 1 2 3 4]\n"
          ],
          "name": "stdout"
        },
        {
          "output_type": "error",
          "ename": "ValueError",
          "evalue": "ignored",
          "traceback": [
            "\u001b[0;31m---------------------------------------------------------------------------\u001b[0m",
            "\u001b[0;31mValueError\u001b[0m                                Traceback (most recent call last)",
            "\u001b[0;32m<ipython-input-28-60df949c4632>\u001b[0m in \u001b[0;36m<module>\u001b[0;34m()\u001b[0m\n\u001b[1;32m     15\u001b[0m \u001b[0marray4\u001b[0m \u001b[0;34m=\u001b[0m \u001b[0marray1\u001b[0m\u001b[0;34m.\u001b[0m\u001b[0mreshape\u001b[0m\u001b[0;34m(\u001b[0m\u001b[0;34m-\u001b[0m\u001b[0;36m1\u001b[0m\u001b[0;34m,\u001b[0m \u001b[0;36m5\u001b[0m\u001b[0;34m)\u001b[0m\u001b[0;34m\u001b[0m\u001b[0;34m\u001b[0m\u001b[0m\n\u001b[1;32m     16\u001b[0m \u001b[0;34m\u001b[0m\u001b[0m\n\u001b[0;32m---> 17\u001b[0;31m \u001b[0marray1\u001b[0m\u001b[0;34m.\u001b[0m\u001b[0mreshape\u001b[0m\u001b[0;34m(\u001b[0m\u001b[0;34m-\u001b[0m\u001b[0;36m1\u001b[0m\u001b[0;34m,\u001b[0m\u001b[0;34m-\u001b[0m\u001b[0;36m1\u001b[0m\u001b[0;34m)\u001b[0m\u001b[0;34m\u001b[0m\u001b[0;34m\u001b[0m\u001b[0m\n\u001b[0m",
            "\u001b[0;31mValueError\u001b[0m: can only specify one unknown dimension"
          ]
        }
      ]
    },
    {
      "cell_type": "code",
      "metadata": {
        "id": "vkZXBY9XcZqG",
        "colab_type": "code",
        "colab": {
          "base_uri": "https://localhost:8080/",
          "height": 243
        },
        "outputId": "ddc99fca-4da5-412c-9a50-a420ab8716b8"
      },
      "source": [
        "array1 = np.arange(start=1, stop=10)\n",
        "print('array1:', array1)\n",
        "\n",
        "value = array1[2]\n",
        "print('value:', value)\n",
        "print(type(value))\n",
        "\n",
        "print('맨 뒤의 값:', array1[-1], ', 맨 뒤에서 두번째 값:', array1[-2])\n",
        "\n",
        "array1[0] = 9\n",
        "array1[8] = 0\n",
        "print('array1:',array1)\n",
        "\n",
        "array1d = np.arange(start=1, stop=10)\n",
        "array2d = array1d.reshape(3,3)\n",
        "print(array2d)\n",
        "\n",
        "print('(row=0,cal=0) index:', array2d[0,0])\n",
        "print('(row=0,cal=1) index:', array2d[0,1])\n",
        "print('(row=1,cal=0) index:', array2d[1,0])\n",
        "print('(row=2,cal=2) index:', array2d[2,2])"
      ],
      "execution_count": 5,
      "outputs": [
        {
          "output_type": "stream",
          "text": [
            "array1: [1 2 3 4 5 6 7 8 9]\n",
            "value: 3\n",
            "<class 'numpy.int64'>\n",
            "맨 뒤의 값: 9 , 맨 뒤에서 두번째 값: 8\n",
            "array1: [9 2 3 4 5 6 7 8 0]\n",
            "[[1 2 3]\n",
            " [4 5 6]\n",
            " [7 8 9]]\n",
            "(row=0,cal=0) index: 1\n",
            "(row=0,cal=1) index: 2\n",
            "(row=1,cal=0) index: 4\n",
            "(row=2,cal=2) index: 9\n"
          ],
          "name": "stdout"
        }
      ]
    },
    {
      "cell_type": "code",
      "metadata": {
        "id": "KbEvabyBO-dF",
        "colab_type": "code",
        "colab": {
          "base_uri": "https://localhost:8080/",
          "height": 545
        },
        "outputId": "1b4f5947-c2a5-4139-8f6d-9ea08c74ec87"
      },
      "source": [
        "# slicing\n",
        "array1 = np.arange(start=1, stop=10)\n",
        "print(array1)\n",
        "array3 = array1[0:3]\n",
        "print(array3)\n",
        "print(type(array3))\n",
        "\n",
        "array4 = array1[:3]\n",
        "print('array4')\n",
        "\n",
        "array5 = array1[3:]\n",
        "print(array5)\n",
        "\n",
        "array6 = array1[:]\n",
        "print(array6)\n",
        "\n",
        "array1d = np.arange(start=1, stop=10)\n",
        "array2d = array1d.reshape(3,3)\n",
        "print('arrary2d:\\n', array2d)\n",
        "\n",
        "print('array2d[0:2, 0:2] \\n', array2d[0:2, 0:2])\n",
        "print('array2d[1:3, 0:3] \\n', array2d[1:3, 0:3])\n",
        "print('array2d[1:3, :] \\n', array2d[1:3, :])\n",
        "print('array2d[:, :] \\n', array2d[:, :])\n",
        "print('array2d[:2, 1:] \\n', array2d[:2, 1:])\n",
        "print('array2d[:2, 0] \\n', array2d[:2, 0])"
      ],
      "execution_count": 8,
      "outputs": [
        {
          "output_type": "stream",
          "text": [
            "[1 2 3 4 5 6 7 8 9]\n",
            "[1 2 3]\n",
            "<class 'numpy.ndarray'>\n",
            "array4\n",
            "[4 5 6 7 8 9]\n",
            "[1 2 3 4 5 6 7 8 9]\n",
            "arrary2d:\n",
            " [[1 2 3]\n",
            " [4 5 6]\n",
            " [7 8 9]]\n",
            "array2d[0:2, 0:2] \n",
            " [[1 2]\n",
            " [4 5]]\n",
            "array2d[1:3, 0:3] \n",
            " [[4 5 6]\n",
            " [7 8 9]]\n",
            "array2d[1:3, :] \n",
            " [[4 5 6]\n",
            " [7 8 9]]\n",
            "array2d[:, :] \n",
            " [[1 2 3]\n",
            " [4 5 6]\n",
            " [7 8 9]]\n",
            "array2d[:2, 1:] \n",
            " [[2 3]\n",
            " [5 6]]\n",
            "array2d[:2, 0] \n",
            " [1 4]\n"
          ],
          "name": "stdout"
        }
      ]
    },
    {
      "cell_type": "code",
      "metadata": {
        "id": "Jx78pbtmSEfe",
        "colab_type": "code",
        "colab": {
          "base_uri": "https://localhost:8080/",
          "height": 206
        },
        "outputId": "e2cf239d-3b99-4eb0-f9b9-a7e3654f88a9"
      },
      "source": [
        "# boolean indexing\n",
        "array1d = np.arange(start=1, stop=10)\n",
        "print(array1d)\n",
        "\n",
        "print(array1d > 5)\n",
        "\n",
        "var1 = array1d > 5\n",
        "print('var1:', var1)\n",
        "print(type(var1))\n",
        "\n",
        "# [] 안에 array1d > 5 boolean indexing 적용.\n",
        "print(array1d)\n",
        "array3 = array1d[array1d > 5]\n",
        "print('array1d >5 boolean indexing result:', array3)\n",
        "print(type(array3))\n",
        "\n",
        "boolean_indexes = np.array([False, False, False, False, True, True, True, True, False])\n",
        "array3 = array1d[boolean_indexes]\n",
        "print('boolean indexing result:', array3)\n",
        "\n",
        "array1d = np.arange(start=1, stop=10)\n",
        "target=[]\n",
        "\n",
        "for i in range(0, 9):\n",
        "  if array1d[i] > 5:\n",
        "    target.append(array1d[i])\n",
        "array_selected = np.array(target)\n",
        "print(array_selected)\n",
        "\n",
        "print(array1d[array1 > 5])"
      ],
      "execution_count": 13,
      "outputs": [
        {
          "output_type": "stream",
          "text": [
            "[1 2 3 4 5 6 7 8 9]\n",
            "[False False False False False  True  True  True  True]\n",
            "var1: [False False False False False  True  True  True  True]\n",
            "<class 'numpy.ndarray'>\n",
            "[1 2 3 4 5 6 7 8 9]\n",
            "array1d >5 boolean indexing result: [6 7 8 9]\n",
            "<class 'numpy.ndarray'>\n",
            "boolean indexing result: [5 6 7 8]\n",
            "[6 7 8 9]\n",
            "[6 7 8 9]\n"
          ],
          "name": "stdout"
        }
      ]
    },
    {
      "cell_type": "code",
      "metadata": {
        "id": "HhevCJ3oXSVU",
        "colab_type": "code",
        "colab": {
          "base_uri": "https://localhost:8080/",
          "height": 394
        },
        "outputId": "bd4e2043-d242-41ee-e952-3b43b07949d0"
      },
      "source": [
        "# sort(), argsort()\n",
        "\n",
        "org_array = np.array([3,1,9,5])\n",
        "print('origin matrix:', org_array)\n",
        "\n",
        "#np.sort()\n",
        "sort_array1 = np.sort(org_array)\n",
        "print('np.sort() 호출 후 반환:', sort_array1)\n",
        "print('np.sort() 호출 후 원본:', org_array)\n",
        "\n",
        "#ndarray.sort() \n",
        "sort_array2 = org_array.sort()\n",
        "org_array.sort()\n",
        "print('org_array.sort() 호출 후 반환:', sort_array2)\n",
        "print('org_array.sort() 호출 후 원본:', org_array)\n",
        "\n",
        "sort_array1_desc = np.sort(org_array)[::-1]\n",
        "print('내림차순:', sort_array1_desc)\n",
        "\n",
        "array2d = np.array([[8, 12], \n",
        "                   [7, 1]])\n",
        "sort_array2d_axis0 = np.sort(array2d, axis=0)\n",
        "print('row sort:\\n', sort_array2d_axis0)\n",
        "\n",
        "sort_array2d_axis1 = np.sort(array2d, axis=1)\n",
        "print('column sort:\\n', sort_array2d_axis1)\n",
        "\n",
        "org_array = np.array([3,1,9,5])\n",
        "print(np.array(org_array))\n",
        "\n",
        "sort_indices = np.argsort(org_array)\n",
        "print(type(sort_indices))\n",
        "print('행렬 정렬 시 원본 행렬의 index:', sort_indices)\n",
        "\n",
        "org_array = np.array([3,1,9,5])\n",
        "print(np.sort(org_array)[::-1])\n",
        "\n",
        "sort_indices_desc = np.argsort(org_array)[::-1]\n",
        "print('행렬 내림차순 정렬 시 원본 행렬의 인덱스:', sort_indices_desc)\n",
        "\n",
        "name_array = np.array(['john', 'mike', 'sarah', 'kate', 'samuel'])\n",
        "score_array = np.array([78,95,84,98,88])\n",
        "\n",
        "#score_array의 정렬된 값에 해당하는 원본 행렬 위치 인덱스 반환\n",
        "sort_indices = np.argsort(score_array)\n",
        "print('sort indices:', sort_indices)\n",
        "\n",
        "name_array_sort = name_array[sort_indices]\n",
        "\n",
        "score_array_sort = score_array[sort_indices]\n",
        "print(name_array_sort)\n",
        "print(score_array_sort)"
      ],
      "execution_count": 20,
      "outputs": [
        {
          "output_type": "stream",
          "text": [
            "origin matrix: [3 1 9 5]\n",
            "np.sort() 호출 후 반환: [1 3 5 9]\n",
            "np.sort() 호출 후 원본: [3 1 9 5]\n",
            "org_array.sort() 호출 후 반환: None\n",
            "org_array.sort() 호출 후 원본: [1 3 5 9]\n",
            "내림차순: [9 5 3 1]\n",
            "row sort:\n",
            " [[ 7  1]\n",
            " [ 8 12]]\n",
            "column sort:\n",
            " [[ 8 12]\n",
            " [ 1  7]]\n",
            "[3 1 9 5]\n",
            "<class 'numpy.ndarray'>\n",
            "행렬 정렬 시 원본 행렬의 index: [1 0 3 2]\n",
            "[9 5 3 1]\n",
            "행렬 내림차순 정렬 시 원본 행렬의 인덱스: [2 3 0 1]\n",
            "sort indices: [0 2 4 1 3]\n",
            "['john' 'sarah' 'samuel' 'mike' 'kate']\n",
            "[78 84 88 95 98]\n"
          ],
          "name": "stdout"
        }
      ]
    },
    {
      "cell_type": "code",
      "metadata": {
        "id": "j23MXMHvbYEz",
        "colab_type": "code",
        "colab": {
          "base_uri": "https://localhost:8080/",
          "height": 130
        },
        "outputId": "817fd81b-330a-49ff-d928-92e8ea252b01"
      },
      "source": [
        "# 행렬 내적\n",
        "a = np.array([[1,2,3],\n",
        "              [4,5,6]])\n",
        "b = np.array([[7,8],\n",
        "              [9,10],\n",
        "              [11,12]])\n",
        "dot_product = np.dot(a, b)\n",
        "print('행렬 내적 결과:\\n', dot_product)\n",
        "\n",
        "a = np.array([[1,2],\n",
        "              [3,4]])\n",
        "transpose_mat = np.transpose(a)\n",
        "print('a의 전치 행렬:\\n', transpose_mat)"
      ],
      "execution_count": 21,
      "outputs": [
        {
          "output_type": "stream",
          "text": [
            "행렬 내적 결과:\n",
            " [[ 58  64]\n",
            " [139 154]]\n",
            "a의 전치 행렬:\n",
            " [[1 3]\n",
            " [2 4]]\n"
          ],
          "name": "stdout"
        }
      ]
    }
  ]
}