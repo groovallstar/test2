{
  "nbformat": 4,
  "nbformat_minor": 0,
  "metadata": {
    "colab": {
      "name": "iris.ipynb",
      "provenance": [],
      "collapsed_sections": []
    },
    "kernelspec": {
      "name": "python3",
      "display_name": "Python 3"
    }
  },
  "cells": [
    {
      "cell_type": "markdown",
      "metadata": {
        "id": "2oJ6oD3GfUmU",
        "colab_type": "text"
      },
      "source": [
        "- Feature\n",
        "  - 데이터 세트의 일반 속성\n",
        "- 레이블, 클래스, 타겟(값), 결정(값)\n",
        "  - 타겟, 결정 값은 지도 학습 시 데이터의 학습을 위해 주어지는 정답 데이터\n",
        "  - 지도학습 중 분류 : 이 결정값을 레이블 or 클래스로 정의\n",
        "- Classification\n",
        "  - 대표적 지도학습\n",
        "  - 정답이 주어진 상태에서 학습 -> 학습 모델을 기반으로 미지의 데이터 셋을 예측\n",
        "- 예측 프로세스\n",
        "  - 데이터 세트 분리 -> 모델 학습 -> 예측 수행 -> 평가\n"
      ]
    },
    {
      "cell_type": "code",
      "metadata": {
        "id": "vfsIG1DRgM0V",
        "colab_type": "code",
        "colab": {}
      },
      "source": [
        "import sklearn\n",
        "from sklearn.datasets import load_iris\n",
        "from sklearn.tree import DecisionTreeClassifier\n",
        "from sklearn.model_selection import train_test_split"
      ],
      "execution_count": 0,
      "outputs": []
    },
    {
      "cell_type": "code",
      "metadata": {
        "id": "gDQi1JuUghkX",
        "colab_type": "code",
        "outputId": "dab29249-abf7-464d-9b68-89c7a2178651",
        "colab": {
          "base_uri": "https://localhost:8080/",
          "height": 257
        }
      },
      "source": [
        "import pandas as pd\n",
        "\n",
        "# load Iris datasets.\n",
        "iris = load_iris()\n",
        "\n",
        "# iris.data는 iris 데이터 셋에서 feature 만으로 된 데이터를 numpy로 가지고 있음.\n",
        "iris_data = iris.data\n",
        "\n",
        "# iris.target은 붓꽃 데이터 셋에서 레이블 데이터를 numpy로 가지고 있음.\n",
        "iris_label = iris.target\n",
        "print('iris target value:', iris_label)\n",
        "\n",
        "# target name [0 :'setosa', 1:'versicolor', 2:'virginica']\n",
        "print('iris target name:', iris.target_names)\n",
        "\n",
        "# convert DataFrame\n",
        "iris_df = pd.DataFrame(data=iris_data, columns=iris.feature_names)\n",
        "iris_df['label'] = iris.target\n",
        "iris_df.head(3)"
      ],
      "execution_count": 0,
      "outputs": [
        {
          "output_type": "stream",
          "text": [
            "iris target value: [0 0 0 0 0 0 0 0 0 0 0 0 0 0 0 0 0 0 0 0 0 0 0 0 0 0 0 0 0 0 0 0 0 0 0 0 0\n",
            " 0 0 0 0 0 0 0 0 0 0 0 0 0 1 1 1 1 1 1 1 1 1 1 1 1 1 1 1 1 1 1 1 1 1 1 1 1\n",
            " 1 1 1 1 1 1 1 1 1 1 1 1 1 1 1 1 1 1 1 1 1 1 1 1 1 1 2 2 2 2 2 2 2 2 2 2 2\n",
            " 2 2 2 2 2 2 2 2 2 2 2 2 2 2 2 2 2 2 2 2 2 2 2 2 2 2 2 2 2 2 2 2 2 2 2 2 2\n",
            " 2 2]\n",
            "iris target name: ['setosa' 'versicolor' 'virginica']\n"
          ],
          "name": "stdout"
        },
        {
          "output_type": "execute_result",
          "data": {
            "text/html": [
              "<div>\n",
              "<style scoped>\n",
              "    .dataframe tbody tr th:only-of-type {\n",
              "        vertical-align: middle;\n",
              "    }\n",
              "\n",
              "    .dataframe tbody tr th {\n",
              "        vertical-align: top;\n",
              "    }\n",
              "\n",
              "    .dataframe thead th {\n",
              "        text-align: right;\n",
              "    }\n",
              "</style>\n",
              "<table border=\"1\" class=\"dataframe\">\n",
              "  <thead>\n",
              "    <tr style=\"text-align: right;\">\n",
              "      <th></th>\n",
              "      <th>sepal length (cm)</th>\n",
              "      <th>sepal width (cm)</th>\n",
              "      <th>petal length (cm)</th>\n",
              "      <th>petal width (cm)</th>\n",
              "      <th>label</th>\n",
              "    </tr>\n",
              "  </thead>\n",
              "  <tbody>\n",
              "    <tr>\n",
              "      <th>0</th>\n",
              "      <td>5.1</td>\n",
              "      <td>3.5</td>\n",
              "      <td>1.4</td>\n",
              "      <td>0.2</td>\n",
              "      <td>0</td>\n",
              "    </tr>\n",
              "    <tr>\n",
              "      <th>1</th>\n",
              "      <td>4.9</td>\n",
              "      <td>3.0</td>\n",
              "      <td>1.4</td>\n",
              "      <td>0.2</td>\n",
              "      <td>0</td>\n",
              "    </tr>\n",
              "    <tr>\n",
              "      <th>2</th>\n",
              "      <td>4.7</td>\n",
              "      <td>3.2</td>\n",
              "      <td>1.3</td>\n",
              "      <td>0.2</td>\n",
              "      <td>0</td>\n",
              "    </tr>\n",
              "  </tbody>\n",
              "</table>\n",
              "</div>"
            ],
            "text/plain": [
              "   sepal length (cm)  sepal width (cm)  ...  petal width (cm)  label\n",
              "0                5.1               3.5  ...               0.2      0\n",
              "1                4.9               3.0  ...               0.2      0\n",
              "2                4.7               3.2  ...               0.2      0\n",
              "\n",
              "[3 rows x 5 columns]"
            ]
          },
          "metadata": {
            "tags": []
          },
          "execution_count": 16
        }
      ]
    },
    {
      "cell_type": "code",
      "metadata": {
        "id": "jVbkMvOZk5IP",
        "colab_type": "code",
        "colab": {}
      },
      "source": [
        "# 학습 데이터와 테스트 데이터 세트로 분리\n",
        "# iris_data : feature, iris_label : target\n",
        "# x : feature set, y : target set\n",
        "X_train, X_test, y_train, y_test = train_test_split(iris_data, iris_label, test_size=0.2, random_state=11)"
      ],
      "execution_count": 0,
      "outputs": []
    },
    {
      "cell_type": "markdown",
      "metadata": {
        "id": "AWzsTtTusep2",
        "colab_type": "text"
      },
      "source": [
        "- test_size:전체 데이터에서 테스트 데이터 세트 크기를 얼마로 샘플링 할건가 결정. default는 0.25, 25%\n",
        "- train_size : 전체 데이터에서 학습용 데이터 세트 크기를 얼마로 샘플링 할건가 결정. test_size paramter 를 통상적으로 사용\n",
        "- shuffle : 데이터를 분리하기 전에 데이터를 미리 섞을지 결정. default는 True\n",
        "- random_state : 호출할 때마다 동일한 학습/테스트 용 데이터 세트를 생성하기 위해 주어지는 난수 값"
      ]
    },
    {
      "cell_type": "code",
      "metadata": {
        "id": "AMUgajMblICY",
        "colab_type": "code",
        "outputId": "fa08ca29-3b46-4f4c-ca3b-f556b30001b3",
        "colab": {
          "base_uri": "https://localhost:8080/",
          "height": 130
        }
      },
      "source": [
        "# 학습 데이터 세트로 train\n",
        "# DecisionTreeClassifier 생성\n",
        "dt_clf = DecisionTreeClassifier(random_state=11)\n",
        "\n",
        "# do train\n",
        "dt_clf.fit(X_train, y_train)"
      ],
      "execution_count": 0,
      "outputs": [
        {
          "output_type": "execute_result",
          "data": {
            "text/plain": [
              "DecisionTreeClassifier(class_weight=None, criterion='gini', max_depth=None,\n",
              "                       max_features=None, max_leaf_nodes=None,\n",
              "                       min_impurity_decrease=0.0, min_impurity_split=None,\n",
              "                       min_samples_leaf=1, min_samples_split=2,\n",
              "                       min_weight_fraction_leaf=0.0, presort=False,\n",
              "                       random_state=11, splitter='best')"
            ]
          },
          "metadata": {
            "tags": []
          },
          "execution_count": 26
        }
      ]
    },
    {
      "cell_type": "code",
      "metadata": {
        "id": "_ZXjRlnqllQ_",
        "colab_type": "code",
        "colab": {}
      },
      "source": [
        "# Predict test dataset.\n",
        "pred = dt_clf.predict(X_test)"
      ],
      "execution_count": 0,
      "outputs": []
    },
    {
      "cell_type": "code",
      "metadata": {
        "id": "7bQPOsBbmcq3",
        "colab_type": "code",
        "outputId": "90989ceb-43c7-4e90-bea9-b081e4aacfa5",
        "colab": {
          "base_uri": "https://localhost:8080/",
          "height": 55
        }
      },
      "source": [
        "pred"
      ],
      "execution_count": 0,
      "outputs": [
        {
          "output_type": "execute_result",
          "data": {
            "text/plain": [
              "array([2, 2, 1, 1, 2, 0, 1, 0, 0, 1, 1, 1, 1, 2, 2, 0, 2, 1, 2, 2, 1, 0,\n",
              "       0, 1, 0, 0, 2, 1, 0, 1])"
            ]
          },
          "metadata": {
            "tags": []
          },
          "execution_count": 28
        }
      ]
    },
    {
      "cell_type": "code",
      "metadata": {
        "id": "q92deyJ4m0w6",
        "colab_type": "code",
        "outputId": "e803762f-d563-4d90-acf4-beb7d90b7723",
        "colab": {
          "base_uri": "https://localhost:8080/",
          "height": 36
        }
      },
      "source": [
        "from sklearn.metrics import accuracy_score\n",
        "print('예측 정확도:{0:.4f}'.format(accuracy_score(y_test, pred)))"
      ],
      "execution_count": 0,
      "outputs": [
        {
          "output_type": "stream",
          "text": [
            "예측 정확도:0.9333\n"
          ],
          "name": "stdout"
        }
      ]
    }
  ]
}